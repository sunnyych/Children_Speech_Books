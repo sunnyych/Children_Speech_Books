{
 "cells": [
  {
   "cell_type": "code",
   "execution_count": null,
   "metadata": {},
   "outputs": [],
   "source": [
    "# map clause tags back to the annotated json with object category labels\n",
    "import json\n",
    "\n",
    "# Load the data from both JSON files\n",
    "with open('dependency_parsing.json', 'r') as file:\n",
    "    generics_data = json.load(file)\n",
    "\n",
    "with open('annotated_books_clean.json', 'r') as file:\n",
    "    books_data = json.load(file)\n",
    "\n",
    "# Assuming both generics_data and books_data are lists of dictionaries\n",
    "# Create a dictionary for quick lookup by sentence_num from generics_data\n",
    "generics_dict = {item['sentence']: item for item in generics_data}\n",
    "\n",
    "# Merge the data\n",
    "for book in books_data:\n",
    "    for sentence in book:\n",
    "        sentence_str = sentence['sentence']\n",
    "        if sentence_str in generics_dict:\n",
    "            sentence.update({\n",
    "                'category': generics_dict[sentence_str]['category'],\n",
    "                'subjects': generics_dict[sentence_str]['subjects']\n",
    "            })\n",
    "\n",
    "# Save the merged data back to a new JSON file\n",
    "with open('merged_data.json', 'w') as file:\n",
    "    json.dump(books_data, file, indent=4)\n",
    "\n",
    "print(\"Data merged and saved successfully.\")"
   ]
  },
  {
   "cell_type": "code",
   "execution_count": null,
   "metadata": {},
   "outputs": [],
   "source": [
    "# merge parents speech BIO tags with dependency parsing and situation entity type data\n",
    "\n",
    "# map clause tags back to the annotated json with object category labels\n",
    "import json\n",
    "\n",
    "# Load the data from both JSON files\n",
    "with open('dependency_parsing_parents_final_updated.json', 'r') as file:\n",
    "    generics_data = json.load(file)\n",
    "\n",
    "with open('childes_parent_clean.json', 'r') as file:\n",
    "    parents_data = json.load(file)\n",
    "\n",
    "# Assuming both generics_data and books_data are lists of dictionaries\n",
    "# Create a dictionary for quick lookup by sentence_num from generics_data\n",
    "generics_dict = {item['sentence']: item for item in parents_data}\n",
    "\n",
    "# Merge the data\n",
    "for sentence in generics_data:\n",
    "    sentence_str = sentence['sentence']\n",
    "    if sentence_str in generics_dict:\n",
    "        sentence.update({\n",
    "                'tags': generics_dict[sentence_str]['tags'],\n",
    "                'age_min': generics_dict[sentence_str]['age_min'],\n",
    "                'age_max': generics_dict[sentence_str]['age_max']\n",
    "            })\n",
    "\n",
    "# Save the merged data back to a new JSON file\n",
    "with open('merged_data_parents_speech.json', 'w') as file:\n",
    "    json.dump(generics_data, file, indent=4)\n",
    "\n",
    "print(\"Data merged and saved successfully.\")"
   ]
  }
 ],
 "metadata": {
  "language_info": {
   "name": "python"
  }
 },
 "nbformat": 4,
 "nbformat_minor": 2
}
