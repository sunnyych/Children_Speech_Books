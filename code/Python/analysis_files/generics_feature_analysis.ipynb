{
 "cells": [
  {
   "cell_type": "code",
   "execution_count": 9,
   "metadata": {},
   "outputs": [],
   "source": [
    "import json\n",
    "# the file has the most updated categorizations (with filtered generics and habituals)\n",
    "with open('/Users/sunnyyu/Desktop/research/children_speech_books/code/python/generics/MERGED_DATA_SPEECH.json', 'r') as file:\n",
    "    generics_data = json.load(file)"
   ]
  },
  {
   "cell_type": "code",
   "execution_count": 10,
   "metadata": {},
   "outputs": [
    {
     "data": {
      "text/plain": [
       "348465"
      ]
     },
     "execution_count": 10,
     "metadata": {},
     "output_type": "execute_result"
    }
   ],
   "source": [
    "filtered_books = []\n",
    "for sentence in generics_data:\n",
    "        if sentence['category'] != 3 and sentence['category'] != 4:\n",
    "                filtered_books.append(sentence['sentence'])\n",
    "\n",
    "len(filtered_books)"
   ]
  },
  {
   "cell_type": "code",
   "execution_count": 11,
   "metadata": {},
   "outputs": [],
   "source": [
    "# randomly choose 1000 sentences from books\n",
    "\n",
    "import random\n",
    "\n",
    "sampled_sentences = random.sample(filtered_books, 1000)\n"
   ]
  },
  {
   "cell_type": "code",
   "execution_count": 12,
   "metadata": {},
   "outputs": [
    {
     "data": {
      "text/plain": [
       "[\"do you think she'll take you to Mormor's house\",\n",
       " 'you wanna throw the ball in there',\n",
       " \"it's an adventure to go out and choose\",\n",
       " \"you're pretty well tapped out by the time you finish that hm\",\n",
       " \"maybe we should move the table xxx so you don't xxx\",\n",
       " \"I know what dogs do when they're all wet\",\n",
       " 'what do you want darling',\n",
       " 'see different spots',\n",
       " \"you're growing out_of your clothes huh\",\n",
       " 'where do you think the wheels go',\n",
       " 'what letter does that look like',\n",
       " \"no why don't you tell Ryan about the book that you brought okay\",\n",
       " 'can you find the squirrel',\n",
       " 'how do you put on the diaper',\n",
       " \"don't worry about it okay no more spilling\",\n",
       " 'Tyrannosaurus_Rex decided to come out to play',\n",
       " 'make noise with the truck Eric',\n",
       " 'shh go night_night',\n",
       " 'want some more of your cookie',\n",
       " \"I think it's one of the best snowmen you have ever done\",\n",
       " \"I don't think he's actually a character on any kind of show xxx\",\n",
       " 'oh you saw a king cobra',\n",
       " 'picking out some clothes',\n",
       " 'it is called Indian corn',\n",
       " \"you probably washed them a million times at school didn't you\",\n",
       " \"stay right there mommy's xxx you\",\n",
       " 'so she likes water animals',\n",
       " 'you wanna hear about how babies are made',\n",
       " 'you wanna see if he has a jacket',\n",
       " 'please set the table',\n",
       " 'lift the door',\n",
       " 'because if you put it in your body you will get too sweet',\n",
       " 'perfect said Lumiere a wonderful idea agreed Mrs Pots',\n",
       " \"but what's he doing not paying attention\",\n",
       " 'okay now you can make a fadders on my back',\n",
       " 'oh draw around trace around your hand',\n",
       " \"they don't have play food\",\n",
       " \"although last coupla days we saw the moon during the day didn't we\",\n",
       " 'and they ate their cookies and had some milk',\n",
       " \"I can't see but I can hear and it sounds like hm let me listen\",\n",
       " \"it's a coloring book really\",\n",
       " 'does Daisy need nose drops',\n",
       " 'put the juice here',\n",
       " 'do you put on a hat when you go outside',\n",
       " 'can you say cock_a_doodle_doo',\n",
       " 'um her nightgowns that have buttons in front I hafta to pin closed',\n",
       " 'put the baby where',\n",
       " 'you wanna put some Cheerios on your spoon',\n",
       " \"pizza for some reason they love I don't know why\",\n",
       " 'well Peter it looks like Peter is trying to help her get out',\n",
       " 'I think the bagels are all_gone Nathaniel',\n",
       " 'you need a tissue',\n",
       " \"anything that's not a toy it's th that's where we wanna go\",\n",
       " 'who can fix a bike',\n",
       " 'you wanna put it in your mouth',\n",
       " 'where the caterpillar where was the caterpillar born at',\n",
       " \"oh why hit the elephant he's just\",\n",
       " 'what should we put in our soup',\n",
       " \"well you'd hafta know something about know something about electronics you know\",\n",
       " \"that looks like it's part of the tail too doesn't it\",\n",
       " 'we hafta listen to the bottle',\n",
       " \"tomorrow we're supposed to go to the play+ground for a big school picnic\",\n",
       " 'well what would happen if Mommy had a baby',\n",
       " 'then eat that ham',\n",
       " \"there's some mail Abe\",\n",
       " 'Jwww made us a pet rock',\n",
       " 'sweep sweep sweep',\n",
       " \"where'd baa baa black sheep go is that in here\",\n",
       " 'tell Mister bunny',\n",
       " 'have you ever held a pineapple',\n",
       " \"Paul can put his finger through mommy's ring\",\n",
       " \"she's teaching them to keep a safe distance from bikes and scooters and other things with wheels\",\n",
       " \"there's a string\",\n",
       " 'remember press and pull',\n",
       " 'want the car',\n",
       " 'he likes to make noise',\n",
       " \"I'll sleep but you better read me a nice story\",\n",
       " \"don't you get in my way\",\n",
       " 'you see them trees over there',\n",
       " \"what's his hair called around his neck\",\n",
       " \"because we've started breakfast now\",\n",
       " 'you want the cup',\n",
       " 'who lives in that house',\n",
       " 'they uh seem to have fallen by the side of the w the road there',\n",
       " 'do you wanna do head shoulders knees and toes',\n",
       " \"then I'd keep swimming until I would see\",\n",
       " \"if you're happy and you know it shout out loud yay\",\n",
       " \"you know what Asher there's so much other stuff to play with too did you see the dolls over here\",\n",
       " 'you wanna see the baby again',\n",
       " 'want me to finish reading',\n",
       " \"there was no all the animals I didn't know what noise they made\",\n",
       " \"we're runninouta things to do because it's too hot to go outside\",\n",
       " 'is that what you do do you eat buttons',\n",
       " \"let's put the chair back over at the table\",\n",
       " \"there's a special way to put them in\",\n",
       " \"ugh can't stand this xxx\",\n",
       " 'and get some orange juice',\n",
       " \"where'd the fishies go\",\n",
       " \"Roman why don't you tell us about when you went to the big red house\",\n",
       " 'on Tuesday he ate through two pears but he was still hungry',\n",
       " \"well I'll find it in a minute\",\n",
       " 'we could build home for a bunny',\n",
       " 'did it help her tummy',\n",
       " 'put your hands together',\n",
       " 'and you can look through it xxx',\n",
       " 'and the flying rings',\n",
       " 'oh you can see where the water is showing through on the other side mm',\n",
       " 'what trouble can I get into next ahuh',\n",
       " 'you going to make something with a blue piece of clay',\n",
       " \"why don't you put one animal on top of the bucket\",\n",
       " 'do you wanna make the pumpkin into a pumpkin pie',\n",
       " \"um but I don't think that he has a favorite color yet\",\n",
       " 'xxx putting it in xxx',\n",
       " \"here's my crash helmet said DW\",\n",
       " \"you know what this is actually the surface of the moon and they're looking at Earth\",\n",
       " 'what if your teacher says',\n",
       " 'xxx come on xxx give your little brother a kiss now',\n",
       " \"it looks like an airplane that's right\",\n",
       " \"Brett nobody's feet can fall in the toilet if they're sitting on the toilet\",\n",
       " 'we hafta leave them on top',\n",
       " 'just like this one you wanna put it in it goes underneath the G',\n",
       " \"Honey those aren't toys\",\n",
       " 'like I said I like anything sweet you know',\n",
       " \"But seeing all the wrinkles it seems like it's an older elephant\",\n",
       " 'just like the tire there it goes',\n",
       " \"there's a couple pieces here on the bridge that you have to glue\",\n",
       " 'you want that pillow',\n",
       " 'ya mean so_that you can lie on them and and roll under',\n",
       " 'we can go play store',\n",
       " 'do they go in the field maybe',\n",
       " \"I don't think that's a good idea\",\n",
       " \"well the kids aren't old enough to drive are they\",\n",
       " 'is mommy cutting your hair',\n",
       " 'hear the rain coming down',\n",
       " 'tells me which way to go in the car',\n",
       " 'watch watch xxx xxx',\n",
       " 'what were they doing the tigers and the lions what were they doing',\n",
       " \"he's playing peek a boo\",\n",
       " \"they're fixing the car\",\n",
       " 'because I just I just knocked the car of this and she kinda muttered to herself slowly',\n",
       " \"you'll hafta find all the places where there are any c_ds\",\n",
       " 'put your fingers in your mouth',\n",
       " 'what happened to your ears with the little birdies',\n",
       " \"don't cut your finger\",\n",
       " 'move on back the driver on the bus says move on back',\n",
       " \"well why don't you use your fork Jenny\",\n",
       " 'do dogs get cold asked Sam no dogs wear fur coats do birds get goose bumps asked Sam no birds wear snow boots like mine yes only much smaller said Stella',\n",
       " 'okay lets see',\n",
       " 'we wanna eat you and the gingerbread man laughed and called out again',\n",
       " \"let's build something with the blocks Chi\",\n",
       " \"okay Marky's gonna tell a cute little story\",\n",
       " 'she actually has a bunch of different shoes to choose from',\n",
       " 'gonna be a dancer on tv',\n",
       " \"let's wear this to the store\",\n",
       " 'want me to move this over',\n",
       " \"look at this size and look at my size I would squish him if it weren't in the tank\",\n",
       " 'is he sleeping on a bed',\n",
       " 'baby looks sleepy',\n",
       " 'boogie man gonna e a t u p',\n",
       " 'what do you think his name is',\n",
       " 'but he could have told about the what he did today',\n",
       " 'Manny cuts our grass',\n",
       " 'xxx tickle tickle tickle tickle tickle tickle tuckuh tuckuh tuckuh',\n",
       " \"it's very round and then we cut up with a knife into different triangles\",\n",
       " \"I don't know if there's enough pieces though\",\n",
       " 'do you know where your eye is',\n",
       " \"that's a dump truck isn't it\",\n",
       " 'cause I saw you taking some good bites',\n",
       " \"let's me and you come over here and play with the farm\",\n",
       " 'pull those wheels right off okay',\n",
       " \"oh they're living in the fire department now\",\n",
       " 'good_night cow jumping over the moon',\n",
       " 'xxx take off our backpack',\n",
       " \"let's look inside this box and see\",\n",
       " \"I've got some little umbrellas for the puppets\",\n",
       " \"you don't want a bottle do you\",\n",
       " \"let's put your empty cup away\",\n",
       " 'come here I wanna tell you a secret',\n",
       " 'you want some toast',\n",
       " 'it just got dragged all over the house',\n",
       " \"I'm gonna put the peas on your head\",\n",
       " 'walking on the rocks',\n",
       " \"there's a tissue right up there\",\n",
       " 'put your fingers on it',\n",
       " 'Naima can you tell me about gazaggers',\n",
       " \"oh look_it he's got all good nice goodies in there huh\",\n",
       " \"watch what he's doing baby\",\n",
       " \"xxx daddy's name do you remember\",\n",
       " 'go pee first and then go to bed',\n",
       " 'ah you want your lizards',\n",
       " 'look at his feet',\n",
       " \"they're taking a drive\",\n",
       " 'I fly across the sky',\n",
       " \"let's see what's in this pretty book\",\n",
       " 'what do you want me to do with my hands',\n",
       " 'so I think that you should just pop in and say hi okay',\n",
       " 'look at the little birdie xxx',\n",
       " 'all the suits she knew',\n",
       " 'so Mister Chunk of Cheese hired an artist to paint him a picture of a beautiful tree',\n",
       " 'is all you need is coffee at night Weener',\n",
       " \"I think it'll be easier to eat that way\",\n",
       " 'we did see salters yes',\n",
       " \"okay let's have the thumb\",\n",
       " \"don't eat the stuff off the ground sweetheart\",\n",
       " \"well a flashlight no I don't know a flashlight yes he said that that would help him he'd feel more comfortable\",\n",
       " 'this baby looks tiny beside its mother',\n",
       " \"okay let's go get the ball\",\n",
       " 'they have matching dresses',\n",
       " \"oh no we didn't see any tigers did we\",\n",
       " 'what you could do would be to put away the clean clothes that would help',\n",
       " \"let's see which parts of your body are ticklish okay\",\n",
       " \"whoa let's not bend our heads over a lighted candle\",\n",
       " 'you got a coat like that',\n",
       " 'can you bring your chair over',\n",
       " \"little cousin Stephanie wasn't born yet\",\n",
       " \"well let's skip that stuff now\",\n",
       " 'you gonna give me some coffee please',\n",
       " 'rope for tricks',\n",
       " \"look there's another foot\",\n",
       " 'oh think the sidewalk will talk to you',\n",
       " \"um I don't know much about owls that's about that's about it\",\n",
       " 'oh I can just see the tops of them',\n",
       " 'make a big noise',\n",
       " \"there's his plow\",\n",
       " 'make me a xxx honey',\n",
       " 'should we put the zebra there too',\n",
       " \"she knows her baby brother's name doesn't she\",\n",
       " \"I don't think he got hurt I just think he got a little startled\",\n",
       " \"he's pulling on his chain\",\n",
       " 'you eating those mashed potatoes',\n",
       " 'get in your seats',\n",
       " 'and then I give you some bread',\n",
       " 'we sitting on the floor right next to your highchair trip',\n",
       " 'hm that is a lot thought Little_nut_brown_hare',\n",
       " 'when the fairies find Aurora asleep they know that king and queen will be heartbroken',\n",
       " 'and he gave them a pot',\n",
       " 'no you put your pennies through here',\n",
       " \"I think you're sitting on the bridge sweetie pie\",\n",
       " \"Frederick why don't you work they asked\",\n",
       " \"they're all gone the strawberries yeah\",\n",
       " 'take your hand in',\n",
       " 'put your put your game away',\n",
       " \"yeah you have him sitting here but you don't have his hands on the handlebar\",\n",
       " 'these are all I made all squares',\n",
       " 'I do feel like a blue hair day',\n",
       " \"that's going to spell dog\",\n",
       " \"I'm gonna put it up there to keep some books up there too\",\n",
       " 'Abe I hadta take those back to school',\n",
       " 'Harry was a white dog with black spots who liked everything except getting a bath',\n",
       " 'remember you have that book called big red barn',\n",
       " 'what did I just what did I pretend to sprinkle on you xxx',\n",
       " 'four or five years he blamed you',\n",
       " 'oh look at that Katie drank her juice',\n",
       " \"ah there's a cookie\",\n",
       " 'yeah you get a block and lie down there on the floor',\n",
       " 'I think the Tibble_Twins are scared of the monster',\n",
       " 'see your sucky_sucks',\n",
       " \"where'd you learn that song\",\n",
       " 'say push push',\n",
       " 'do you wanna do another paper',\n",
       " 'would you like to wear Mot hat',\n",
       " \"you're putting the bear down there\",\n",
       " \"oh you're making a fish\",\n",
       " 'maybe he wants to make some breakfast',\n",
       " \"let's go find Mandy in the mirror\",\n",
       " \"now we put on Nathaniel's pjs\",\n",
       " 'you could empty the bag if you want Chi',\n",
       " 'one time in the summer I remember you and I went to the Lake Erie state park and it was super hot and we dumped water on our heads',\n",
       " 'look at his funny oh look at his eyes',\n",
       " 'what is she drawing on the board',\n",
       " \"see it's on top of the bus isn't it\",\n",
       " 'rocks in your bed+room',\n",
       " 'the horse and the sheep are sharing the farm',\n",
       " 'if you like going through the car are you gonna love skiing',\n",
       " 'and someone brings onion',\n",
       " \"there's a baby\",\n",
       " \"because I saw that it said that and I xxx and it said for new or renovated houses and I thought I don't know if the wiring's gonna work\",\n",
       " 'do you see the ears there',\n",
       " \"when we're through eating the cereal we already have\",\n",
       " 'who are you talking to on the telephone',\n",
       " \"no because I don't want it to get stuck in my hair\",\n",
       " \"where'd the wheel go by the way\",\n",
       " 'is that mother bear going shopping',\n",
       " 'so sit down and eat your eggs',\n",
       " 'grown up toy',\n",
       " 'oh you want that shoe that matches that one',\n",
       " \"and don't say help me still you say help me please\",\n",
       " 'because Mummy lost that one at church',\n",
       " 'take a bath in the washing machine',\n",
       " 'you wanna put her in a car',\n",
       " \"does he look like he's surfing on a big wave\",\n",
       " \"mommy doesn't know what it is\",\n",
       " 'no you got iced tea Chi',\n",
       " \"they're best friends and enemies and everything else I know\",\n",
       " 'in the light of the moon a little egg lay on a leaf',\n",
       " 'shall we wash her hair',\n",
       " \"but he bites the plate because he's not sposta eat anything\",\n",
       " \"you know what when I come back down I'll bring a barrette with me okay\",\n",
       " 'tell Daddy about the sparkles we saw at the store',\n",
       " 'I see a kitty and I see a doggie',\n",
       " 'look at the little piggy toes',\n",
       " \"what's happening girl\",\n",
       " 'baby bear waved and some of the passengers waved back',\n",
       " 'cupcakes and peas',\n",
       " 'you could make a sandwich',\n",
       " 'give it a try',\n",
       " 'on Tuesday he ate through two pears but he was still hungry',\n",
       " \"okay looks like it's the wrong foot to me though\",\n",
       " \"it doesn't make any noise\",\n",
       " 'quick cat quick who runs snip snap around the corner between the bottles getting closer',\n",
       " 'you wanna give some juice to the baby',\n",
       " 'you have something to tell me what did you wanna tell me the story Mark',\n",
       " \"okay let's put these away then so that we are not making a big mess okay\",\n",
       " 'turn into your turtle',\n",
       " 'wash your bottom',\n",
       " \"who's riding on the horse\",\n",
       " \"oh there's the dog\",\n",
       " 'see the boxes',\n",
       " 'there there are more pieces of corn',\n",
       " 'actually we should put some soap on the rest of you first I think',\n",
       " \"let's see this last page\",\n",
       " 'hold out your hands',\n",
       " 'I bought you something here yyy',\n",
       " 'did they bring any balls',\n",
       " \"that's one whole side of the car taken apart\",\n",
       " 'I want some pizza',\n",
       " \"there's sunday monday tuesday these stand for days the letters do\",\n",
       " \"Donna's in the house Donna's gone in and she took a nap\",\n",
       " 'then my mother takes me to see my friend the doctor',\n",
       " 'put the bristles in your mouth',\n",
       " \"she's gonna make it the coffee oh good\",\n",
       " 'oh you really look like a wicked witch',\n",
       " \"Franklin gulped I'm too tired to see more I think I'll stay here a while he muttered\",\n",
       " \"a truck carrying dirt yeah that's a dumptruck\",\n",
       " 'take a drink of milk',\n",
       " \"he's a grown man and he speaks Pittsburghese\",\n",
       " 'bowling pins what are you gonna do with the bowling pins',\n",
       " 'Play in the waves you know',\n",
       " \"hey big guys open your eyes what do you say it's a brand new\",\n",
       " 'when do we crack eggs',\n",
       " 'should we turn the page',\n",
       " 'we need a piece of paper',\n",
       " \"is that are you going to drive to Ed and Irene's farm\",\n",
       " \"it's actually the same I don't think it is because it's the same guy Don Freeman who wrote the original Corduroy books\",\n",
       " \"xxx doesn't care to get my way to watch tv to get xxx\",\n",
       " 'you wanna put the top back on',\n",
       " 'one time he bit Mckayla',\n",
       " 'look at all those hearts',\n",
       " 'yeah oh bears and chairs and ah um good_night moon',\n",
       " 'but who mostly painted our house last year',\n",
       " 'cats like tuna+fish so cat pancakes',\n",
       " 'you better tell me what that is ribbit',\n",
       " 'you gotta learn how to talk into the phone',\n",
       " 'you could put it on his ribbon',\n",
       " 'after dinner I eat the pie okay',\n",
       " \"why don't I tell you to say some things to your baby okay\",\n",
       " \"shall we have one more party before you hafta go to Maggie's house\",\n",
       " 'I see it my love',\n",
       " \"no you're not supposed to mess up the block tower\",\n",
       " \"let's see maybe the monkey can hold the book\",\n",
       " 'you wanna try the cookie',\n",
       " 'Mommy is my name do I have another name',\n",
       " 'on Wednesday he ate through three plums but he was still hungry',\n",
       " \"oh okay that's fine you don't have to squish it if you don't feel like it\",\n",
       " 'we were making letters remember we were making letters',\n",
       " \"oh look it's professor Frank\",\n",
       " 'diju win a free ride',\n",
       " \"I told like for example I told Jean I can't take the scooter anymore about two weeks I started complaining\",\n",
       " \"fox smiled I think it's the giants swinging from their chandeliers\",\n",
       " 'that looks close to a circle to me',\n",
       " \"I'll go rinse it off for you\",\n",
       " 'does that sound like a good idea',\n",
       " 'this is going to sound so strange but it reminds me of The_Wiggles',\n",
       " 'I bet that goes off if you',\n",
       " \"can you put your hand inside and make the parrot's mouth open and close\",\n",
       " 'see him looking out the window at the moon',\n",
       " 'you gonna have hair like Dada',\n",
       " 'what other kind of animals do you think live with him',\n",
       " \"okay you don't want ta look at the books\",\n",
       " 'what am I going to work on',\n",
       " 'I am folding the sheet',\n",
       " 'yeah I was switched a couple of times',\n",
       " 'Horton the elephant saw something whiz',\n",
       " \"you're not suppose to scream into the microphone you are suppose to talk\",\n",
       " 'put the chair closer to the table',\n",
       " 'okay blanket goes down the wash',\n",
       " \"it needs the rain to grow doesn't it\",\n",
       " \"so I would think that they either don't they either pick it pull it back and let it dry or they um let it dry on the stalks and take it off\",\n",
       " 'tomatoes let me think',\n",
       " \"I don't want shaving on my face\",\n",
       " \"well yeah there's real football players\",\n",
       " \"if I set it on the table then every time somebody pokes something on the table it's gonna go www\",\n",
       " \"look that's carbon paper and we don't play on on carbon paper\",\n",
       " \"she's gonna step on those pearls\",\n",
       " \"that's a cart with pumpkins in it\",\n",
       " 'uh reminds me of my sister and her her husband',\n",
       " 'blue is a word that describes things',\n",
       " 'he hadta go in the cave and then what happened',\n",
       " 'oh maybe he wants to talk into the microphone',\n",
       " \"now here this must be the cat that's gonna come and scoop up all the mice\",\n",
       " \"no don't try to put your mouth around the whole thing\",\n",
       " \"he's wearing a hat\",\n",
       " 'yes Mommy I would like a sip of water',\n",
       " \"put your egg in a bowl because it's so soft\",\n",
       " \"do you wanna show him but do you know what how do you think Ryan's going to feel when you show him the other side\",\n",
       " 'yeah she got bright colors on',\n",
       " 'you can pull it Wes pull it with your hand',\n",
       " 'that is so funny now we have so many pies look at that',\n",
       " \"I think you've got the wrong idea Ross\",\n",
       " \"well I didn't see them today\",\n",
       " \"and William's gonna watch you put xxx blocks okay\",\n",
       " \"let's go play basketball\",\n",
       " \"and then we'll put clothes on her\",\n",
       " 'well then just start acting normal Chi',\n",
       " 'how did Markie get his sleeves off',\n",
       " \"I was going to say that he's walking a dog\",\n",
       " 'you almost caught it with xxx',\n",
       " \"no I'm gonna buy a ticket from him\",\n",
       " \"let's fold up the towel\",\n",
       " 'looks like I I love salt',\n",
       " \"oh he's gonna get your sugar\",\n",
       " 'did you say that you liked hot+dogs too',\n",
       " 'oh Look what that boy has',\n",
       " \"he's going to use the umbrella for a rocket\",\n",
       " 'he was screaming I mean at the top of his lungs gum Mommy gum',\n",
       " \"um there's no sense about what time of day or anything it is because it's an indoor setting\",\n",
       " 'it looks like you have a little food on your sleeve here',\n",
       " \"is that dirt he's running through the dirt\",\n",
       " 'um I think more turtles are little',\n",
       " 'you can use this to shampoo her with',\n",
       " 'what do you mean baloney',\n",
       " \"then you can scoop oh there's a big bite you have to open wide\",\n",
       " 'do you wanna put the cheese in the bread',\n",
       " 'how I can make the back wheels spin',\n",
       " 'so he decided to count it',\n",
       " 'would you be able to bong it better',\n",
       " 'that looks like it would be a good dinner',\n",
       " 'maybe you could cut some things from it',\n",
       " \"no I don't needta take the top off\",\n",
       " 'you gonna make lobster soup',\n",
       " \"I'm gonna take a picture of you\",\n",
       " 'lets play with this stuff',\n",
       " \"now you've got two new animals a doggy and a kangaroo\",\n",
       " 'where are those lists of what everybody wanted',\n",
       " 'ah what a horrible breakfast and of course he was in such a hurry a rush he only ate half of it',\n",
       " 'can I see the spider',\n",
       " \"it's not like I can eat on the tape\",\n",
       " 'whoa look at this book',\n",
       " \"you're eating your jelly bean\",\n",
       " 'and she recognized almost all the underwater animals',\n",
       " \"you said those sentences yeah that's where mine are\",\n",
       " 'this floor useta come over',\n",
       " 'you can dump things out',\n",
       " \"that's why the shell is sticking to the egg\",\n",
       " 'do you want me to drink the whole bottle',\n",
       " \"he's usually interested in animals you_know we don't thinking about it we don't have a_lot of animals that size in detail\",\n",
       " \"keep your legs straight so you don't twist everywhere\",\n",
       " \"look the Daddy's doing the dishes\",\n",
       " 'sing her a song',\n",
       " 'how do you tell the difference difference between Wonder Woman and Fred Flintstone',\n",
       " 'see the ladder',\n",
       " \"they're gonna go byebye\",\n",
       " 'hey Firstname come give me a hug',\n",
       " 'you can probably figure out which ones are matching',\n",
       " \"that's the dripping water the faucet's leaking a little\",\n",
       " \"I also like the texture 'cause it's semi_crystallized\",\n",
       " 'who can take out the trash do you think',\n",
       " 'xxx bless the Lord for giving us this food xxx',\n",
       " 'perhaps the wheels are down in the box',\n",
       " \"well if you ask Firstname it's a cookie\",\n",
       " 'gotta eat your food',\n",
       " 'should I make spaghetti and meatballs',\n",
       " 'I told you xxx',\n",
       " 'whoops I put it in wrong',\n",
       " 'you done nursing',\n",
       " 'well should I see if he fits in any of these',\n",
       " 'they got this really green like a like a real frog',\n",
       " 'and when we sit in all that heat we wish that we had used our feet',\n",
       " \"okay now they're going to beddie\",\n",
       " 'tug and tow tug and tow',\n",
       " \"and it's cooking so we stay away from things that are hot and cooking\",\n",
       " \"let's go see how things are moving\",\n",
       " 'you liked that last time',\n",
       " \"there's the bus\",\n",
       " 'where did you get this jammie blanket',\n",
       " 'and the bathtub oh the last page where it has all the pictures of Maisy',\n",
       " \"okay let's press this button\",\n",
       " \"I'm gonna give you some pieces of pancake there\",\n",
       " \"I'll tell you the whole deal\",\n",
       " 'Amye is busy listening to the tape',\n",
       " 'Baby Bear found a rocket in the closet under the stairs',\n",
       " \"I know you see punching a lot on T V but you still don't punch\",\n",
       " \"she's not gonna go to sleep\",\n",
       " 'she likes to play with those and make a mess and throw them all over the place',\n",
       " 'this big little golden book belongs to',\n",
       " \"if they're making too much noise\",\n",
       " \"that's fine then you bought it xxx\",\n",
       " 'Mickey_mouse and Minnie_mouse and barbells and all kinds of things',\n",
       " \"but we can make believe we're cooking the eggs\",\n",
       " \"and uh she looks uh kinda bundled up doesn't she that pussy cat\",\n",
       " 'look we can have some spaghetti',\n",
       " 'he looks like an Ewok from Star Wars',\n",
       " 'you wanna play with Sheryl today',\n",
       " 'Snoopy took off his something and said yikes',\n",
       " 'lemme see boy',\n",
       " 'who can help bake cookies',\n",
       " \"so it's interesting to see that she liked that\",\n",
       " 'all the stuff we played with this morning',\n",
       " 'what do you suppose is in this muffin',\n",
       " 'but this afternoon after lunch I want you to take a nice long nap',\n",
       " 'uhoh where did it go',\n",
       " 'you gonna make them play on the branch',\n",
       " 'where do you get these toys',\n",
       " \"well you know here's the deal there's all ready pancakes on those\",\n",
       " 'she loves to dress up',\n",
       " 'do you see patterns that it makes sometimes',\n",
       " 'Momma making oh is this the cake let me try it',\n",
       " 'did you just get yourself some more paper',\n",
       " 'we went well one time we went to Virginia Beach',\n",
       " \"oh you're putting on your sock\",\n",
       " 'playing in the refrigerator',\n",
       " 'Mommy useta be able to balance books on your head',\n",
       " 'did you get those today',\n",
       " 'oh well do you want some toast',\n",
       " 'eat your cookie',\n",
       " \"oh you mean when you're weaving it in from the sides\",\n",
       " 'let us floppity',\n",
       " 'you want to go ninight some more',\n",
       " 'I know I have grapes for you right here',\n",
       " 'wait until s you wait till uh breakfast tomorrow',\n",
       " 'what toys would you like him to bring when he comes',\n",
       " \"there's the yellow car you're right William\",\n",
       " 'here do you want some of that stuff',\n",
       " \"that's a place we visited it was the vacation house that xxx and xxx were staying at and Frankie\",\n",
       " 'can Mama see the comb',\n",
       " 'Toot was happy to be back in his own bed and Puddle was happy too',\n",
       " \"are we gonna bring a little present for Tamar's brother too\",\n",
       " 'if you ever forget what the duck says',\n",
       " 'we could pretend that this is a garage where',\n",
       " 'wanna put some milk in',\n",
       " 'look kangaroo has a baby',\n",
       " 'I wanted the um oh I have a great idea',\n",
       " \"he's sitting in the chair\",\n",
       " 'do you want the ball back',\n",
       " 'are you talking to your shoe',\n",
       " \"that's where we really got into colors because they're such bright colors\",\n",
       " 'I got my cup right here',\n",
       " 'until summer comes',\n",
       " 'do you wanna look through the hole',\n",
       " 'are you ready to go down the slide daddy',\n",
       " 'okay who gets to be first who gets to eat the food first',\n",
       " 'you sharing with the lady',\n",
       " 'you should put the hands in first',\n",
       " 'put it in the hole',\n",
       " 'you see a friend',\n",
       " 'thank you for the pizza',\n",
       " 'play out in the yard',\n",
       " 'who do you know that plays football',\n",
       " 'here wipe your hands off',\n",
       " 'guess nobody wanted a yogurt',\n",
       " 'and do you know more about uh ancient history',\n",
       " 'so are you guys gonna be good today',\n",
       " 'you need help',\n",
       " 'the shoes are gone',\n",
       " 'Uncle Paul wants his spoon so he can stir his',\n",
       " 'and Firstname is now uh figuring out how to read the three-letter words',\n",
       " 'are you gonna sleep with a gillow',\n",
       " 'we can put some maybe this is ham',\n",
       " \"you want your spoon I think it's in your lap\",\n",
       " \"you're eating a dinosaur\",\n",
       " \"where's the log loader\",\n",
       " 'that he kept these almost the entire time',\n",
       " 'Child do you wanna come with me',\n",
       " 'you started out in the day',\n",
       " 'okay here taste this tell me if you like it',\n",
       " \"that's too hard for you get another book\",\n",
       " 'um I feel a little bit silly',\n",
       " 'you gonna come back today',\n",
       " 'you gonna put that yellow cup in',\n",
       " \"yeah but I think it's because you gotta do your poo\",\n",
       " \"your hand won't come out\",\n",
       " 'dis piece I cut it out and den put a',\n",
       " \"well it has a waffley shaped top because it has the little squares but what's kinda hiding in there\",\n",
       " 'you wanna talk on the phone with mommy',\n",
       " \"www that means there'll hafta be a third movie to figure out what happened to them after that\",\n",
       " \"I didn't bring them downstairs\",\n",
       " 'what do you know about cake',\n",
       " 'oops there you go ready',\n",
       " 'and you going for more stuff',\n",
       " \"yep unless it's pretend fire like that\",\n",
       " 'what do you want my hand for',\n",
       " 'do you want long do you wanna cover up your feet Sleepy_wolf',\n",
       " \"oh I'm just um just looking at all these toys wondering what you're gonna play with next\",\n",
       " \"my mother gave got me a postcard that tells what all the parts of a dinosaur's names mean\",\n",
       " 'maybe the elephant can go in this house',\n",
       " \"I know it's candy\",\n",
       " 'stand up and hold on to me',\n",
       " 'come on sit down eat your food Jimmy',\n",
       " \"what's the tractor man called\",\n",
       " 'because he hasta get dressed up to go to work',\n",
       " 'can you say monarch',\n",
       " 'peekaboo I see you',\n",
       " 'the other toys ran to the window',\n",
       " \"there're five people there\",\n",
       " 'I had onions in my tuna+fish',\n",
       " 'so it was less the pitcher as a function and more pitcher as a place to put things',\n",
       " 'gimme hugs and kisses',\n",
       " 'yeah it looks like the picture',\n",
       " \"she willn't give birth again until her calf is about three years old\",\n",
       " 'do you know a song about Old MacDonald had a farm',\n",
       " 'I gotta clean up this mess',\n",
       " 'come on you know what thirty five cents is',\n",
       " \"you mean what's my name\",\n",
       " \"oh you're blowing your bangs\",\n",
       " 'she was laughing a little bit',\n",
       " 'a fella the keeper was feeding the fish kept making em sit and come back',\n",
       " 'he was calling those cuts',\n",
       " 'would you like to have a skunk for a pet',\n",
       " 'wanna hear about all your guts',\n",
       " 'I put my hand like dat huh',\n",
       " \"how's your bracelet coming that looks beautiful\",\n",
       " 'I see the butter I thought Ruby uses butter to make the cake',\n",
       " 'or should he not go in the boat',\n",
       " 'not that I know how to make a doggie but',\n",
       " 'I see a little speck of red here',\n",
       " \"I'm gonna put a teensie bit of Kix in mine\",\n",
       " 'want those ones',\n",
       " 'it put cinnamon buns with the poisoned mushroom',\n",
       " \"mom he's going to need you to come down\",\n",
       " \"you're not gonna let me take your pants off\",\n",
       " 'oh you mean one that pours down into the living room downstairs',\n",
       " 'up the garden who walks pitter pat',\n",
       " 'hurry up in the bed',\n",
       " 'Ross is saying that it was night+time',\n",
       " 'look at the neat house she made',\n",
       " 'pay too much attention',\n",
       " 'could you put your xxx down on that',\n",
       " 'takes him to the bath to get him all clean',\n",
       " 'trucks go trucks',\n",
       " 'say hi Daddy',\n",
       " 'I want you to tell Wilbur to ask Wilbur why he has a cold',\n",
       " 'those are made out_of metal',\n",
       " 'you want a pen',\n",
       " \"see it's not caramel at all\",\n",
       " \"I don't think there's any more classes\",\n",
       " 'Abe last time I used them I was sitting in the woods looking at birds',\n",
       " 'each child was asked to bring in different kind of bread and she kept raving about french',\n",
       " 'no one died in your school',\n",
       " 'see the panda bear',\n",
       " 'the racing car goes up the hill',\n",
       " \"wanna see if there's a doggie\",\n",
       " \"let's find ones that\",\n",
       " 'on Monday he ate through one apple but he was still hungry',\n",
       " 'look at the kitty',\n",
       " 'here comes the kitty',\n",
       " 'yeah let me get my sewing machine put away',\n",
       " 'oh you wanna get in here',\n",
       " 'can you make another one',\n",
       " \"she's pretending to be a nurse\",\n",
       " 'we could go see if Dion is at the farm',\n",
       " \"cover your eyes and we'll turn the light on\",\n",
       " 'you gonna roll off the bed',\n",
       " 'watch out for your toes',\n",
       " \"um the water's just- it looks like it's uh\",\n",
       " 'you turn the page',\n",
       " 'okay we are gonna bang elbows and smile',\n",
       " 'want a pitcher',\n",
       " 'beans www cried Donald',\n",
       " 'no we hear Laura another time',\n",
       " \"I guess Jesse Bear's having a raspberry\",\n",
       " 'and ask questions',\n",
       " 'get your book',\n",
       " 'you gonna carry your baby with you',\n",
       " \"you don't take your Easter baskets to bed\",\n",
       " \"Sarabi and I didn't see you at the presentation of Simba he said\",\n",
       " \"Tony you know that's your phony laugh\",\n",
       " 'I close my eyes the way she said',\n",
       " \"mommy's gonna put something on that okay\",\n",
       " 'make the bell ring',\n",
       " 'and a little ox pecker going for a ride',\n",
       " 'so now we want cookies',\n",
       " 'hey Roman hold on for a second hold on',\n",
       " 'while I went canoeing in Florida once and there were alligators along with us',\n",
       " 'with three legs showing',\n",
       " \"well let's at least unbutton it for a while\",\n",
       " \"remember we were to Mcdonald's last week\",\n",
       " 'when he comes around the corner he should watch out for the dog because the dog will chase chase him',\n",
       " 'xxx this Easter egg is from last year Max said Ruby into the trash bucket',\n",
       " 'squirting out the end',\n",
       " \"um she's drawing on the back on the blackboard\",\n",
       " 'do you know what a sailor what he drives',\n",
       " 'you want a vitamin so early',\n",
       " 'and after Mommy changes your diaper maybe we can read a book',\n",
       " 'you use a cane',\n",
       " \"it's supposed to be dishwasher\",\n",
       " 'can you give him another love',\n",
       " 'l listen up because you can learn from this okay',\n",
       " 'play with the food',\n",
       " 'find their heads and put them on there',\n",
       " 'let Melissa play with it a minute',\n",
       " \"let's look at these ponies\",\n",
       " 'okay that could probably go for one more piece of tissue huh',\n",
       " \"you're making the monkey drink it\",\n",
       " 'do you remember you member your grandpa and grandma',\n",
       " 'what about the wipers on the bus',\n",
       " \"the school+bus went the wrong way you're right\",\n",
       " 'want another teaspoon',\n",
       " 'what is that little girl holding',\n",
       " 'kid with the presents answered the pheasants',\n",
       " \"okay call me up my phone's gonna ring\",\n",
       " 'you think you might get scared tonight Mark Mark',\n",
       " 'unless I get a xxx first xxx',\n",
       " 'I think you should write a sequel you know',\n",
       " \"where'd the sun go\",\n",
       " \"we're gonna wash the bath+room floor anyway\",\n",
       " 'served at high faluting receptions and um crème de la crème type of activities and stuff like that',\n",
       " 'and the applesauce bottle is empty too',\n",
       " 'xxx if you hold them in your hand even for a little while it will get actually',\n",
       " 'the piggy says oink_oink',\n",
       " \"don't act like a two year old when you can act like a seven\",\n",
       " 'I think he playing games',\n",
       " 'wanna grow to be a big boy huh',\n",
       " \"uh I'm not sure what I oh well I know don't they help plants\",\n",
       " 'you wipe your wet hands on that',\n",
       " 'and we have some little ones that are little tiny ones that he likes to carry around',\n",
       " 'turning on the burners',\n",
       " 'say ball where are you',\n",
       " 'that night the moon found the third bean',\n",
       " 'and gave him a hundred kisses',\n",
       " 'you wanna make an h',\n",
       " \"she's pointing to something round and said\",\n",
       " \"yeah the bear's arm fell off\",\n",
       " \"you don't wanna hurt your head so you wear a helmet\",\n",
       " \"he kinda you're right his face does look a little bit scared\",\n",
       " \"it's what you call a mechanical toy yes\",\n",
       " 'Ross said never mind and looked up in the air',\n",
       " 'did the hair hit you in the face',\n",
       " 'go see Jason climb this',\n",
       " \"Mr bunny's gonna come up here and sneak up from the back though and rescue Donald\",\n",
       " 'show me the long neck',\n",
       " \"I think you're doing a great job\",\n",
       " \"let's see how about a w\",\n",
       " \"now let's dump out the water\",\n",
       " 'oh did you get your hand caught in there',\n",
       " 'can you throw it back to Mot',\n",
       " 'I thought you said something',\n",
       " 'so the kitchen is a fun toy and we have an art desk so she likes to color',\n",
       " 'can you sit them in the chairs',\n",
       " 'tell a story',\n",
       " 'well anyway we made a coconut cake',\n",
       " 'look at the pretty flowers',\n",
       " \"strum strum what's that instrument called\",\n",
       " 'Justin eats sand',\n",
       " 'okay wait a minute',\n",
       " 'sleepy sheep two is singing a quiet lullaby',\n",
       " \"that's where Santa Claus puts all your toys isn't it\",\n",
       " 'put them in front',\n",
       " 'Dingo hit an egg van',\n",
       " 'um and ice cream goes pretty good with with cake too',\n",
       " 'it was their you know pirates just make me think I guess about the fantasy world that the kids play in you know',\n",
       " \"the wheel the wheel oh I don't know if I can hey you're guy is still stuck in this\",\n",
       " 'put the antelope in the water',\n",
       " 'where did the telephone go',\n",
       " 'want some juice',\n",
       " 'oh wait a minute',\n",
       " \"um and I guess we don't play peekaboo that often we play so big and um\",\n",
       " 'and did we say good luck ambulance',\n",
       " 'do kitties wear clothes',\n",
       " \"as they left a young man wearing an artist's beret was taking his wet laundry out of a bag a very bad Corduroy had discovered\",\n",
       " \"open the thing Mark can you open it wait Marky you didn't open your thing\",\n",
       " 'wanna go sit on the couch and read some books William',\n",
       " 'they were playing with it last night',\n",
       " \"you've done a lot better\",\n",
       " 'do you remember who does Flick go to get in the movie',\n",
       " \"and he seems to some days he really likes them some days he really doesn't I don't know\",\n",
       " 'one two three he said and dropped them into the jar',\n",
       " \"hm that would be neat you know you don't you could use that handle or you and you could tie it to the bed your string could go across that way or it could go between the two halves of bed handle to the handle to the bed like that\",\n",
       " 'you got my foot',\n",
       " 'you hafta go around this way',\n",
       " 'do you know how we make coffee',\n",
       " 'although she now likes to look at magazines She likes to look for um babies in magazines',\n",
       " 'what did you do when you went to school with Mommy today',\n",
       " 'baby lying on the bed',\n",
       " 'do you see a girl here',\n",
       " \"I've changed my mind\",\n",
       " 'Bert looked in the refrigerator',\n",
       " \"don't you play punch ball or something\",\n",
       " 'making dinner for the boys',\n",
       " 'then he got up on top with a tip of his hat',\n",
       " \"yes do you remember what Tamar's brother's name is\",\n",
       " 'cause she does seem to show a pretty good interest in it although I think most of it is just teething and mouthing',\n",
       " 'there shall we make a train on there',\n",
       " 'would you like to do the squares',\n",
       " \"um and the rest she really wouldn't recognize\",\n",
       " \"I just ate supper so I don't need breakfast\",\n",
       " 'mhm the tow truck has to come',\n",
       " 'do you wanna see where the pa the cutter is',\n",
       " \"well now you have your bib over your head you can't even see\",\n",
       " 'you love to play with water I know',\n",
       " 'can you bring it to mommy',\n",
       " 'now you want him to do his own spelling right',\n",
       " 'you got a old piece of scrap paper in your',\n",
       " \"because we don't know what kind of expression you're gonna have when you get your picture\",\n",
       " \"yes I'll come up and help you in a minute\",\n",
       " 'do you see any tools',\n",
       " \"yeah there's lots_of yellows\",\n",
       " \"you think that's a crocodile\",\n",
       " \"I'm trying to find wait what puzzle pieces I have to look for\",\n",
       " 'bye okay shall we play with another toy now',\n",
       " 'should we go let the doggie back in the house',\n",
       " 'have you ever chopped wood',\n",
       " 'the spoons are you favorite huh',\n",
       " 'oh is that to keep your balance',\n",
       " 'I think that might be a microphone that you hang around your neck',\n",
       " 'you take your folk and you go www',\n",
       " \"she said they're going to have a meeting of the minds\",\n",
       " \"and there's a monkey\",\n",
       " \"I'll go get Pat_the_bunny book alright\",\n",
       " \"I'm saying big people don't don't needta use a tool on this toy\",\n",
       " \"it rained and then the rain dripped through baby bear's helmet\",\n",
       " 'see if you can find a blouse in that pile',\n",
       " 'cause he likes to drink a_lot_of water',\n",
       " 'okay I want Mark to do this and if Ross does it then he hasta leave the room',\n",
       " \"and then we'll we'll see what's in the other boxes\",\n",
       " \"we're cleaning the table right now\",\n",
       " 'and it spells William w I l l I a m',\n",
       " \"no they're gonna take them this time they're gonna take them because they're not gonna be back for a while that was just last night\",\n",
       " 'you sitting under your toy',\n",
       " \"ah thank you I'll put it on my head\",\n",
       " 'oh I gotta put some laundry in here',\n",
       " \"wanna stand over there and I'll throw you the ball\",\n",
       " \"xxx you are you're going to be three wow what a big girl\",\n",
       " \"you don't think he can go to the moon\",\n",
       " \"there's the kitty+cat\",\n",
       " 'suddenly as she looked more closely at the fox chicken chicken little remembered the wanted poster she had seen in the town',\n",
       " \"tell Harvey what your animals' names are\",\n",
       " 'you wanna read it by yourself or you want help',\n",
       " 'pick up your duckie',\n",
       " 'because people are gonna arrive in a few minutes',\n",
       " 'Mom did you get my messages',\n",
       " 'look at the little girl with her coat on',\n",
       " 'how about if we stop for a cup of tea',\n",
       " \"let's take this one\",\n",
       " \"it's my bedtime now but I'm going to hide bye uh oh pew it's a little\",\n",
       " \"oh well Hel look there's a_lot_of corn on here and\",\n",
       " 'wanna give yours to the cow',\n",
       " \"mail hasn't come yet\",\n",
       " 'now well I have asked xxx to xxx',\n",
       " 'we would probably have fifty words for fog if we lived in Maine',\n",
       " 'you know when your cookies fall sometimes they fall into your cup of juice',\n",
       " \"I think so xxx after four o'clock\",\n",
       " 'he knew crab',\n",
       " \"look at Mommy's pants\",\n",
       " 'did you go out on a pig farm',\n",
       " 'okay go ahead Mark tell us the the rest',\n",
       " 'I Daddy will help turn it in a little while',\n",
       " 'she liked this curtain page',\n",
       " 'do you feel better today',\n",
       " \"you're gonna read the book\",\n",
       " 'a cow ate carrot the',\n",
       " 'hold the phone with your shoulder',\n",
       " 'say byebye to the towel',\n",
       " 'can I hang that on the wall Abe',\n",
       " 'but no and it almost looks like it might be a pre-bought like a store bought cookie or something',\n",
       " 'so he takes a beer',\n",
       " 'choose means the same thing as pick',\n",
       " 'see da baby',\n",
       " \"yeah there's another baby\",\n",
       " 'they changed their mind huh',\n",
       " 'xxx there you go whoops',\n",
       " 'the cows and the farmer and the and the pig right',\n",
       " 'want your ball',\n",
       " \"and there's the front fork\",\n",
       " \"oh honey I can't fit in there\",\n",
       " 'or should we get some more stuff',\n",
       " 'do you wanna make a sandwich',\n",
       " 'he was actually he was giving you little hugs',\n",
       " 'brown engines are good at saving lips xxx',\n",
       " 'xxx eat xxx',\n",
       " 'xxx there now you got clean hair',\n",
       " 'and so he he was so gleeful when he saw that pirate picture',\n",
       " 'does he give em lunch',\n",
       " \"here's another different one she really likes she might tell you about\",\n",
       " 'which do you want a motorbike or a dirt+bike',\n",
       " 'where could you find an elephant in Michigan',\n",
       " 'what did you lose today',\n",
       " 'you get out and push',\n",
       " 'so books with babies books with things to touch in',\n",
       " \"that's the temperature to make sure they know it's the right temperature\",\n",
       " 'maybe we could get one for Christmas huh',\n",
       " 'would you like to step down to your stool',\n",
       " 'three little bears sitting on chairs',\n",
       " 'um yeah I guess we usually have apple pies around fall',\n",
       " 'see ya lift that up',\n",
       " 'look I tied a bow',\n",
       " \"don't pay any attention to her\",\n",
       " 'what abou-what else about the football player do you see',\n",
       " 'can you say baby',\n",
       " 'you want some ketchup',\n",
       " 'um I know she was Pooh_Bear',\n",
       " 'go see daddy for a minute please',\n",
       " \"if I wasn't looking was I sposta hear your brains rattle\",\n",
       " 'I see your little wheels turning',\n",
       " \"let's put that in our pot\",\n",
       " \"now Genie's a sensitive issue because Genie's my brother's ex girl+friend and now he's engaged\",\n",
       " 'do you wanna go see the animals in the stable',\n",
       " \"we're gonna make sure we go see the Walters's program\",\n",
       " 'oh there it is can you bring that piece over there over here',\n",
       " 'you found another pair',\n",
       " 'a a cup would help',\n",
       " \"he's taking a banana from her pocket\",\n",
       " 'sometimes libraries have toys',\n",
       " 'she wants some maple syrup to go with it',\n",
       " 'how many pompoms does it dump',\n",
       " 'can you say peas',\n",
       " 'left foot left foot right foot right',\n",
       " \"you're gonna hurt your leg\",\n",
       " \"and I'll get you some more juice alright\",\n",
       " \"that's right dogs barking is loud and the birds might get annoyed by the dogs barking\",\n",
       " \"great I just have a little wonder of a thing I'm wondering about\",\n",
       " 'maybe we can put the vegetables and food on the truck Patrick',\n",
       " 'you gotta have pretty curls',\n",
       " \"so it's time to get some fluids in\",\n",
       " 'crack a window get a little fresh air xxx',\n",
       " 'I think we should go in the stroller and get some milk at the store okay',\n",
       " 'we just got it out of the machine',\n",
       " \"Tony don't make a meal out a that milk\",\n",
       " 'you hafta turn around and slide off the bed',\n",
       " 'see him down at the corner',\n",
       " 'we played a fun game at home last night do you remember the one where you hadta do all those different things',\n",
       " 'does it go where the birds do when they leave',\n",
       " 'and what if we took all the walls away',\n",
       " 'it has a machine in it that produces x-rays that can look inside your teeth',\n",
       " \"what do you think they're going to eat for their picnic\",\n",
       " 'should we tie the the strings',\n",
       " \"yeah oh no no no don't eat the chicken's head\",\n",
       " 'Bozo is getting some supper for his meal for the chickens',\n",
       " \"you want your eight 'cause I know you like the number eight\",\n",
       " 'get out the plant',\n",
       " 'together they look like a zebra',\n",
       " 'he stayed inside for more than two weeks then he nibbled a hole in the cocoon pushed his way out and',\n",
       " \"she does that when she's trying to show off and get your attention she'll go sideways I don't know why\",\n",
       " 'you can read it and then turn the pages',\n",
       " 'did you suck your other thumb last night',\n",
       " 'want me to open the mouth',\n",
       " 'you got a block in there',\n",
       " \"I'll bring you your meat\",\n",
       " 'they look like steps',\n",
       " \"Ernie brought his lunch along didn't he\",\n",
       " \"what does Chi's hat say\",\n",
       " 'she also still it seems like she likes um some of the cloth books we have that have also again squeakers and crinkly things and things that make noise',\n",
       " 'you want your train',\n",
       " 'getcha new um ambulance truck that uh Papa xxx bought',\n",
       " \"Child you don't wanna hear this story\",\n",
       " \"that's the only way you can tell\",\n",
       " 'let Megan show me the three little pigs',\n",
       " 'first it was my turn and I tagged Billy then it was his turn and he tagged me',\n",
       " 'xxx we could read that after breakfast',\n",
       " 'how about if we play a puzzle',\n",
       " 'want to to finish the tower',\n",
       " 'put some more blocks in',\n",
       " 'I think that ear goes over here',\n",
       " 'see the old man',\n",
       " 'saber+tooth means knife tooth',\n",
       " \"it's time for you to get your shoes on baby\",\n",
       " 'lemme get that varmint',\n",
       " 'yeah look at all that algae',\n",
       " 'you know what today is Tim',\n",
       " 'look at all these animals',\n",
       " \"well let's see I can't find it oh here it is what did we do last night\",\n",
       " 'let your friend have his dinner and please',\n",
       " 'okay fly that airplane away',\n",
       " \"thank you that's so nice of you to feed the baby with a spoon\",\n",
       " \"well you can still act it out even if you don't have the book\",\n",
       " 'try to pronouce spelling it out',\n",
       " \"could you brush mommy's hair please\",\n",
       " 'the caterpillar ate through one nice green leaf and after that he felt much better',\n",
       " \"I'm gonna move the dolls and all their clothing\",\n",
       " 'and when we push you in the swing you say high',\n",
       " \"let's play peekaboo\",\n",
       " 'put your foot over on the right side',\n",
       " 'think Daddy is just a machine to pick you up to the light',\n",
       " \"look mommy's favorite froggies\",\n",
       " \"but um it hasn't this looks like a thin slice of the end but it hasn't been all sliced up and packaged like you usually buy it at the grocery store\",\n",
       " 'hands for dinner',\n",
       " 'smells like a ball',\n",
       " \"we useta try to keep everything on the shelves and it's just really hard to do that\",\n",
       " 'does your mother need any help from you',\n",
       " \"what's the monkey go\",\n",
       " \"I'm gonna go over to the house\",\n",
       " 'are you going to talk to him on the phone',\n",
       " 'what makes the sound',\n",
       " 'go dump that in the sink',\n",
       " \"sit in mommy's lap\",\n",
       " 'but they can slather them with peanut butter and at least put something mildly nutritious on top I can live with it',\n",
       " \"xxx yes he's my best friend shouted Lisa as she came running\",\n",
       " \"doctor said brother bear we're not sick and what's a checkup asked sister bear a little worried\",\n",
       " 'what would it look like if it were made out_of humans Mark',\n",
       " \"what's the right way to say that\",\n",
       " 'while they were waiting at the bus stop Maria said Nickles is a big store Ernie']"
      ]
     },
     "execution_count": 12,
     "metadata": {},
     "output_type": "execute_result"
    }
   ],
   "source": [
    "sampled_sentences"
   ]
  },
  {
   "cell_type": "code",
   "execution_count": 3,
   "metadata": {},
   "outputs": [
    {
     "ename": "NameError",
     "evalue": "name 'filtered_books' is not defined",
     "output_type": "error",
     "traceback": [
      "\u001b[0;31m---------------------------------------------------------------------------\u001b[0m",
      "\u001b[0;31mNameError\u001b[0m                                 Traceback (most recent call last)",
      "Cell \u001b[0;32mIn[3], line 4\u001b[0m\n\u001b[1;32m      1\u001b[0m \u001b[38;5;66;03m# make a list of just the sentences of these generics\u001b[39;00m\n\u001b[1;32m      2\u001b[0m \n\u001b[1;32m      3\u001b[0m \u001b[38;5;66;03m# Extract sentences from the filtered_books\u001b[39;00m\n\u001b[0;32m----> 4\u001b[0m sentences_list \u001b[38;5;241m=\u001b[39m [sentence[\u001b[38;5;124m'\u001b[39m\u001b[38;5;124msentence\u001b[39m\u001b[38;5;124m'\u001b[39m] \u001b[38;5;28;01mfor\u001b[39;00m book \u001b[38;5;129;01min\u001b[39;00m \u001b[43mfiltered_books\u001b[49m \u001b[38;5;28;01mfor\u001b[39;00m sentence \u001b[38;5;129;01min\u001b[39;00m book]\n\u001b[1;32m      5\u001b[0m \u001b[38;5;28mlen\u001b[39m(sentences_list)\n",
      "\u001b[0;31mNameError\u001b[0m: name 'filtered_books' is not defined"
     ]
    }
   ],
   "source": [
    "# make a list of just the sentences of these generics\n",
    "\n",
    "# Extract sentences from the filtered_books\n",
    "sentences_list = [sentence['sentence'] for book in filtered_books for sentence in book]\n",
    "len(sentences_list)"
   ]
  },
  {
   "cell_type": "code",
   "execution_count": 4,
   "metadata": {},
   "outputs": [
    {
     "data": {
      "text/plain": [
       "['Sure, injuries are a part of sports.',\n",
       " 'Street luging is an extreme sport that can turn deadly in an instant.',\n",
       " 'The steeper the road, the faster you go.',\n",
       " 'Much like a skateboard, you turn by leaning.',\n",
       " 'One false move means road rash or broken bones—or worse.',\n",
       " 'There are other contests worldwide.',\n",
       " 'Lugers race side by side to the finish line.',\n",
       " 'A luge board is sometimes called a sled.',\n",
       " 'Lugers wear a hard-shell helmet and leather racing suit and gloves.',\n",
       " 'Most deaths occur at a turn in the road.',\n",
       " 'Riders are going faster than they should and cannot turn sharply enough.',\n",
       " 'Competition courses are often lined with safety barriers such as hay bales.',\n",
       " 'Not all boxing matches end in misery.',\n",
       " 'But boxing is a violent and sometimes tragic sport.',\n",
       " 'A boxer might have trouble keeping his balance.',\n",
       " \"At this point, a hard punch can snap a boxer's head causing his brain to crash into his skull.\",\n",
       " \"In the past, boxing matches didn't have many rules.\",\n",
       " 'Boxers used to fight bare-fisted.',\n",
       " 'boxers wear padded gloves.',\n",
       " 'Referees receive better training and stop fights more quickly.',\n",
       " \"Matches end after a certain number of rounds, even if the referee doesn't stop the fight first.\",\n",
       " 'Bare-fisted boxing has been illegal in the United States for more than one hundred years.',\n",
       " 'Jumpers launch themselves from one of these platforms with a parachute.',\n",
       " 'Other times the parachute fails to open.',\n",
       " 'BASE jumping is eight times more deadly than skydiving from an airplane.',\n",
       " 'Jumpers have only a few seconds to position their bodies and pull their parachute cords.',\n",
       " \"If the jumper is tumbling or upside down and can't open his parachute in time, the result is likely fatal.\",\n",
       " 'BASE jumping is not always illegal.',\n",
       " 'Cave diving is a thrilling sport—until things go wrong.',\n",
       " 'Cave diving is like deep-sea diving.',\n",
       " 'Divers carry their own source of air.',\n",
       " 'And coming up too quickly from a dive can cause brain damage or death.',\n",
       " 'Smart divers practice the rule of thirds.',\n",
       " \"One-third of a diver's air supply is used for entering a cave.\",\n",
       " 'Getting lost is another risk.',\n",
       " 'Unexpected water currents can pull a diver away from the group.',\n",
       " \"But exploring water-filled caves is a challenge that some people just can't resist.\",\n",
       " 'Freestyle motocross (FMX) riders perform jumps and stunts to impress judges.',\n",
       " 'There are usually two FMX events.',\n",
       " 'Standard freestyle takes place on a course with several jumps.',\n",
       " 'Riders execute as many wild tricks as they can in a certain amount of time.',\n",
       " 'Riders soar 100 feet(30m) through the air.',\n",
       " \"People aren't built to fly, of course.\",\n",
       " 'Free solo climbing is the most dangerous form of rock climbing.',\n",
       " 'If you fall, you die.',\n",
       " 'There are many styles of rock climbing.',\n",
       " 'In most styles, climbers use ropes and harnesses to keep from falling.',\n",
       " 'Teams of climbers help one another and provide extra safety.',\n",
       " 'Still, all forms of climbing are dangerous.',\n",
       " 'Climbing a sheer rock face takes concentration.',\n",
       " 'Water can seep from cracks, making the surface slippery.',\n",
       " 'Any part of the rock can crumble.',\n",
       " 'Most free solo climbers learn on a climbing wall.',\n",
       " 'Heli-skiing is downhill skiing in the wilderness.',\n",
       " 'Heli-boarding is using a snowboard instead.',\n",
       " 'Mountain weather can change suddenly -- and make a helicopter ride much more dangerous.',\n",
       " 'Heli-skiing can turn deadly in an instant.',\n",
       " 'Any sound or movement can trigger tons of snow to rush down the mountain at 100 miles (160 km) per hour.',\n",
       " \"Most people don't escape alive.\",\n",
       " 'A wave must be at least 20 feet (6 m) tall to be considered a \"big\" wave.',\n",
       " 'Surfing in such conditions can be deadly.',\n",
       " 'A JetSki or helicopter will tow you to the top of a wave.',\n",
       " 'Big waves generate powerful force.',\n",
       " 'Your neck can snap like a twig.',\n",
       " \"The wave's force can spin you dizzy.\",\n",
       " \"A fall of 60 feet(18m) or more, even landing in water, isn't safe.\",\n",
       " 'Traveling at dangerously high speeds like that is a recipe for disaster.',\n",
       " 'A race car driver is four times more likely to be killed than a boxer and thirty times more likely than a football player.',\n",
       " 'IndyCar racing is among the most dangerous forms of auto racing.',\n",
       " 'People also call it open-wheel racing.',\n",
       " 'The open wheels make any contact with another car potentially disastrous.',\n",
       " \"Drivers aren't the only ones in danger at a car race.\",\n",
       " 'Racetracks are safer for fans these days.',\n",
       " 'Fences in place to protect fans are made of steel wire mesh.',\n",
       " 'IndyCar racing is getting safer.',\n",
       " 'Drivers wear full-face helmets and fireproof suits.',\n",
       " 'Usually, a driver climbs out of a fiery wreck.',\n",
       " 'And as long as people race, people are going to die.',\n",
       " 'Millions of people have pets.',\n",
       " 'Ferrets are long and skinny and furry -- kind of like a big fuzzy scarf.',\n",
       " 'Using their sharp teeth, wild ferrets hunt and kill smaller animals for their food.',\n",
       " 'Pet ferrets need a diet with lots of meat in it as well.',\n",
       " 'Ferrets are happy, active pets who need lots of attention.',\n",
       " 'Ferrets like to play with other ferrets, so you might want to think about getting more than one.',\n",
       " 'Ferrets need time out of their cage to play with you every day, too.',\n",
       " 'The dust helps remove oil that builds up on their skin.',\n",
       " 'Chinchillas are rodents, which means they need to chew on things.',\n",
       " 'They’ll need hard branches to chew on to keep their teeth healthy.',\n",
       " 'Performing Pigs -- Pigs are among the smartest animals around.',\n",
       " 'They can be trained to walk on leashes, slam dunk basketballs, play piano, play soccer, jump through hoops, dance, ride skateboards, and do lots of other tricks.',\n",
       " 'If you only think pigs are big, pink animals that like to live in mud, think again.',\n",
       " 'Pot-bellied pigs are dark-skinned and sort of hairy.',\n",
       " 'You can teach these pigs to do tricks.',\n",
       " 'Plus, they eat like, well... pigs.',\n",
       " 'Pot-bellied pigs need very patient owners!',\n",
       " 'You may think all furry pets are cuddly, but hedgehogs are not.',\n",
       " 'When they feel scared, hedgehogs roll up into a tight little ball with the spines poking out.',\n",
       " 'Pet hedgehogs need a big cage with places to exercise, a litter box, a nice bed, and places to hide.',\n",
       " 'Most hedgehogs don’t like to be held, but they don’t mind being picked up sometimes.',\n",
       " 'Some of the most popular reptile pets are leopard geckos, because they’re friendly little lizards.',\n",
       " 'A leopard gecko is yellow and white with black spots.',\n",
       " 'A 20-gallon (76-1) glass tank is the right size for two or three leopard geckos.',\n",
       " 'Males will fight each other.',\n",
       " 'Geckos also need a warm spot to lie in during the day.',\n",
       " 'You’ll notice that your geckos have fat tails.',\n",
       " 'This is where they store fat for when they don’t have enough food to eat.',\n",
       " 'Frogs are not cuddly pets.',\n",
       " 'For the most part, frogs just sit around waiting for food to wander by.',\n",
       " 'Some frogs spend their time in water, some on land, and some both places.',\n",
       " 'If you get a frog, you’ll need to know how it lives.',\n",
       " 'Salamanders live secret lives.',\n",
       " 'Like frogs, different salamanders live in different kinds of habitats.',\n",
       " 'The best salamander pets are the ones that live on land.',\n",
       " 'Land salamanders like their home to be damp, so you’ll need a tank with leaves or moss on the bottom.',\n",
       " 'Salamanders like to have areas where it’s light and areas where it’s dark (such as little caves).',\n",
       " 'Salamanders come in many colors, such as this red salamander.',\n",
       " 'Most can grow to be between 7 and 14inches (18-35cm) long.',\n",
       " 'Adult salamanders eat insects such as crickets and worms.',\n",
       " 'Corn snakes grow to be about four feet (122 cm) long and live 20 years or more.',\n",
       " 'Snakes are great escape artists, so make sure to keep the lid on tight!',\n",
       " 'Corn snakes like to eat mice and small rats.',\n",
       " 'An adult corn snake is easy to feed -- it eats just once a week!',\n",
       " 'Corn snakes like to eat both fresh and frozen mice.',\n",
       " 'Pet supply stores sell these reptile lights.',\n",
       " 'Bearded dragons are reptiles that come from Australia.',\n",
       " 'They have little spines all along the bottom of their neck that they stick out if the lizards feel afraid.',\n",
       " 'Bearded dragons grow to be almost two feet (61 cm) long and can live up to 10 years.',\n",
       " 'They eat bugs and vegetables, and are very friendly -- for lizards, that is.',\n",
       " 'Bearded dragons can live happily in a very large glass tank.',\n",
       " 'Hermit crabs sometimes live near beaches.',\n",
       " 'Hermit crabs don’t grow their own shells, so they have to find a shell to live in.',\n",
       " 'Hermit crab tanks should have sand on the bottom, something to climb on, and some damp and dry spots.',\n",
       " 'Hermit crabs eat special crab food, plus fruits and vegetables.',\n",
       " 'Tarantulas are quiet and clean.',\n",
       " 'There’s one other thing -- tarantulas bite when they’re scared.',\n",
       " 'Female tarantulas can live to be more than 20 years old, but the males live just a few years.',\n",
       " 'A small glass tank makes a good tarantula home.',\n",
       " 'Tarantulas are hunters, and they eat cockroaches and other insects.',\n",
       " 'Although a tarantula bite has venom, it’s not very strong.',\n",
       " 'Also, some tarantulas have special hairs on their belly that have little barbs on them.',\n",
       " 'When you touch the hairs, they stick into your skin and make it very itchy.',\n",
       " 'There are several insects that make interesting pets.',\n",
       " 'They look like sticks so predators won’t see them hiding among real sticks.',\n",
       " 'Stick insects like tasty leaves.',\n",
       " 'They also like to eat different grasses.',\n",
       " 'Stick insects can live in a glass tank, as long as they are warm and the tank has a lid.',\n",
       " 'They live a long time for insects, too -- about a year.',\n",
       " 'Stick insects are not cuddly, but you can hold them in your hand.',\n",
       " 'If you startle an ordinary cockroach, it will run away.',\n",
       " 'But if you startle a Madagascar hissing cockroach, it will make a loud hissing sound.',\n",
       " 'The males also hiss at the females as a way of inviting them to mate.',\n",
       " 'And sometimes, a whole group of Madagascar hissing cockroaches will all hiss at the same time.',\n",
       " 'All birds lay eggs.',\n",
       " 'Spiders and turtles lay eggs.',\n",
       " 'All birds have wings.',\n",
       " 'But some birds can’t fly.',\n",
       " 'An ostrich can’t fly.',\n",
       " 'Penguins have wings, but they can’t fly.',\n",
       " 'They are birds that swim.',\n",
       " 'Most other birds can fly.',\n",
       " 'But so can bats and bees.',\n",
       " 'There is a fish that can fly.',\n",
       " 'A flying fish isn’t a bird!',\n",
       " 'All birds have beaks.',\n",
       " 'Tortoises have beaks, too.',\n",
       " 'Most birds build nests.',\n",
       " 'Wasps build nests, too.',\n",
       " 'All birds have two legs.',\n",
       " 'People have two legs.',\n",
       " 'All birds have feathers.',\n",
       " 'Some animals have fur.',\n",
       " 'Some other animals have hair.',\n",
       " 'Some animals have scales.',\n",
       " 'But no other animals have feathers.',\n",
       " 'A pig is a fun pet.',\n",
       " 'A pig can run.',\n",
       " 'A pig can nap.',\n",
       " 'A pig can have spots.',\n",
       " 'A pig can sit.',\n",
       " 'A pig is a fun pet.',\n",
       " 'The bug is tan.',\n",
       " 'The bat is black.',\n",
       " 'The ant is red.',\n",
       " 'Sharing is about giving, not just taking.',\n",
       " 'Some Yolks stop climbing because they are happy with how far they have gone.',\n",
       " \"(Hippos can't swim, like the pelicans think.\",\n",
       " 'A monster’s a friend that you haven’t yet made.',\n",
       " 'In the Land of Words, everyone is wrong sometimes.',\n",
       " 'Any letter could enter.',\n",
       " \"They don't shake hands, they wiggle tails.\",\n",
       " 'Cameras make them strike their poses.',\n",
       " 'Hairy gifts are customary.',\n",
       " \"They're made of branches, mud, and vine.\",\n",
       " \"It's something that all great explorers must do.\",\n",
       " 'Bull the beasts are known to have a fiery attitude.',\n",
       " 'Flowers grow while in the sun, and they need water, every one.',\n",
       " 'Snow is formed in clouds by ice, and never takes the same shape twice.',\n",
       " 'Snakes have noses, mouths, and lungs, to help them smell they use their tongues.',\n",
       " 'A river flows in constant motion, many times into an ocean.',\n",
       " 'The Coral Jungle Gym is always filled with young fish.',\n",
       " 'Most of the Swimming Gungaloo live in a hut made of kelp.',\n",
       " 'Whoever scores the most goals wins!',\n",
       " 'They are some of the most colorful and special of all the sea creatures.',\n",
       " '“Figgy Melons grow here and not there.',\n",
       " 'And ever since then the cricket stays on the ground like his friend the ant, and hops from place to place.',\n",
       " 'And now the cricket is the fastest and fanciest hopper there is.',\n",
       " 'They don’t shake hands, they wiggle tails.',\n",
       " 'Cameras make them strike their poses.',\n",
       " 'Hairy gifts are customary.',\n",
       " 'Teachers, on the other hand, were a different story.',\n",
       " 'Fairies are able to be places without being seen, and to know what is happening as it happens.',\n",
       " 'Items with meaning tend to absorb more lore,” she told me.',\n",
       " '“Dark clouds can be a source of a magic that we call rile.',\n",
       " '“A fairytale begins when a single sentence appears in the Book of Lore.',\n",
       " '“Magic pens are extremely powerful.',\n",
       " '“As you know by now, magic can be used to disguise.',\n",
       " 'Pirates love hiding treasure on islands like that!” Soy rebutted.',\n",
       " '“Fairies don’t matter.',\n",
       " '“They’re kids, they don’t know how to camp.',\n",
       " 'Squirrels run around the yard all the time.',\n",
       " '“As the day rises, the cottontails run.',\n",
       " 'A constellation is just a group of stars.',\n",
       " 'And a compass is a tool.',\n",
       " 'Black holes are, in fact, impossible to describe.',\n",
       " 'Byzongs look like humans in every way except for the many ways in which they do not.',\n",
       " 'They are generally muscular in nature, particularly in the calves and forearms.',\n",
       " 'Instead we rely on names, which in Byzong culture, can never be changed.” “On Earth, names can be changed easily,” he retorted.',\n",
       " '“A red door means ‘Do Not Disturb’, but Byzongs tend to eavesdrop on red doors.',\n",
       " 'If kids just stopped doing anything every time they got confused.',\n",
       " 'Teleporting isn’t even real.',\n",
       " 'The foam allows all necessary functions while providing essential nutrients.',\n",
       " '“Robs don’t wear glass.',\n",
       " 'Black holes can sometimes reserve your intestines.',\n",
       " 'Most human memories are not protected by firewalls, secret compartments, or clever diversions.',\n",
       " 'A parrotfish changes color as it grows older.',\n",
       " 'Parrotfish live in the ocean.',\n",
       " 'Fish breathe underwater.',\n",
       " 'Seahorses are funny-looking fish.',\n",
       " 'Their heads look like horses’ head.',\n",
       " 'Seahorses hold onto plant with their tails.',\n",
       " 'A father seahorse has a pouch on his tummy to hold his babies.',\n",
       " 'A sea turtle uses its flippers to swim through the ocean.',\n",
       " 'Sea stars live on the bottom of the ocean.',\n",
       " 'They use their arms to walk.',\n",
       " 'Some kinds of sea stars have more than five arms.',\n",
       " 'A humpback whale is as big as a school bus.',\n",
       " 'Humpback whales sometimes leap out of the ocean.',\n",
       " \"Humpback Whales don't have teeth.\",\n",
       " 'Eagles’ eyes spot fish in the water.',\n",
       " 'Owls’ eyes find food in the forest.',\n",
       " 'Pandas’ mouths eat bamboo.',\n",
       " 'Tigers’ mouths drink water.',\n",
       " 'Roosters crow in the morning.',\n",
       " 'Frogs croak all day.',\n",
       " 'Elephants use their ears to listen.',\n",
       " 'And bears use their furry little ears.',\n",
       " 'bear (BAlR): A bear is a large, furry mammal.',\n",
       " 'A baby bear is called a cub.',\n",
       " 'bug (BUHG): A bug is an insect with one ortwo pairs of wings and six legs.',\n",
       " 'bunny (BUHN-ee): A bunny is a rabbit.',\n",
       " 'Abunny has long ears and soft fur.',\n",
       " 'deer (DIHR): A deer is an animal that eats plants, has four long legs, and a furry body.',\n",
       " 'fox (FOKS): A fox is a small animal that is related to a dog.',\n",
       " 'A fox is usually red, has pointed ears, and a bushy tail.',\n",
       " 'snail (SNAYL): A snail is a soft, slimy creature with a shell on its back.',\n",
       " 'A snail has one foot, but no legs.',\n",
       " 'spider (SPYE-dur): A spider has eight legs, nowings, a head,and an abdomen.',\n",
       " 'squirrel (SKWURL): A squirrel is a small rodent with a bushy tail.',\n",
       " 'A squirrel eats nuts and plants.',\n",
       " 'Alligators live in lakes and rivers.',\n",
       " \"armadillo (ar-muh-DILoh): A small mammal that lives in warm areas，such as rainforests and grasslands, An armadillo's body is protected by a hard covering.\",\n",
       " 'beaver (BEE-vur): An animal with a wide,flat tail that lives on land and in the waterBeavers cut down small frees with their large teeth.',\n",
       " 'deer (DIHR): A deer is a mammal that eats plants and lives in a meadow or forest, It has long legs and can run very fast.',\n",
       " 'Lizards come in different sizes and colors.',\n",
       " 'raccoon (ra-KOON): A small black and white mammal that lives in the woods.',\n",
       " 'Raccoonshave rings on their tales and black fur on their faces that look like a mask.',\n",
       " 'All birds laveggs，and most can fly.',\n",
       " 'cricket (KRIK-it): An insect that jumps like grasshopper and makes a chirping sound.',\n",
       " 'kitten (KIT-uhn): A cat that is not fully grown.',\n",
       " 'pig (PIG): A farm animal with short legs,hoofs, and a long snout used for digging puppy (PUHPee): A dog that is not fully grown',\n",
       " 'fish (FISH): An animal with scales, fins, andgills.',\n",
       " 'Fish live in rivers, lakes, and oceans.',\n",
       " 'pony (POH-nee): An animal that looks like a small horse,but stays small even when it is full grown.',\n",
       " 'kitten (KIT-uhn): A kitten is a young cat.',\n",
       " 'Ittakes about a week after a kitten is born for its eyes and ears to open.',\n",
       " 'You can share calm.',\n",
       " 'What friends do.',\n",
       " 'Friends are kind to each other.',\n",
       " 'cares (kairs): A person cares whenthey feel interest or concern.',\n",
       " 'Making new friends is fun.',\n",
       " 'Friends are supposed to share.',\n",
       " 'Plants don’t have feet or fins or wings, yet they can move in many ways.',\n",
       " 'Plants can wiggle.',\n",
       " 'Plants can creep.',\n",
       " 'Plants can hide from a hungry grasshopper or surprise a fly.',\n",
       " 'Some plants sleep at night, leaves nodding, flowers folding.',\n",
       " 'Plants can tumble on a breeze.',\n",
       " 'As they bounce along, seeds sprinkle out.',\n",
       " 'Plants even explode!',\n",
       " 'A seed is a plant built for travel.',\n",
       " 'Seeds can whirl like helicopters or float on parachutes or glide on papery wings.',\n",
       " 'Seeds hitchhike on your sock or on a fox’s bushy tail.',\n",
       " 'Seeds set sail.',\n",
       " 'Waiting… for what all plants need: water, sunshine, and room to grow.',\n",
       " 'When the seed finds a spot the seedling squirms out.',\n",
       " 'It unfolds its leaves.',\n",
       " 'And it keeps on moving-because plants can’t sit still.',\n",
       " 'Even servants and hired hands could choose to leave a cruel master.',\n",
       " 'Hunting buffalo was dangerous.',\n",
       " 'Normally a boy would need a holy man to prepare him for a vision quest.',\n",
       " 'A patent is a piece of paper from the government that says no one else can make or sell your invention.',\n",
       " 'Some pesticides can cause cancer in humans.',\n",
       " 'Fish and wildlife may show changes due to chemical use.',\n",
       " 'Wormwood is a wild plant.',\n",
       " 'Chinese Names In China, family names, or last names, are said first.',\n",
       " 'Traditional Chinese medicine uses many medicines made from plants.',\n",
       " 'Malaria makes people very tired.',\n",
       " 'They may sweat or feel cold.',\n",
       " 'They can be sick for years.',\n",
       " 'Helping and Hurting Medicine can have side effects.',\n",
       " 'YELLOW andORANGE Leaves are pretty.',\n",
       " 'Hurricanes are some of the most dangerous storms on Earth.',\n",
       " 'A hurricane’s winds swirl and spin.',\n",
       " 'Even young slaves worked.',\n",
       " 'A sojourner is a person who goes from place to place.',\n",
       " 'But free people had two names.',\n",
       " 'Most folks thought women belonged at home.',\n",
       " \"Free women--black and white-weren't treated as well as men.\",\n",
       " 'Free women could not vote.',\n",
       " 'Women are still sometimes paid less than men for the same work.',\n",
       " 'Ocean storms could sink a ship.',\n",
       " 'A wooden part called a rudder could be moved to steer the ship.',\n",
       " 'Grapes could be made into wine.',\n",
       " 'And wine could be traded for money and goods.',\n",
       " 'Shoes cost too much money.',\n",
       " 'If a family would not work for low pay, there was always another family to take its place.',\n",
       " 'Animals migrate in search of food or a mate.',\n",
       " 'Migration helps animals survive on Earth.',\n",
       " 'Many animals migrate.',\n",
       " 'Most animals need a mate to have babies.',\n",
       " 'Monarch butterflies migrate 2,000 to 3,000 miles.',\n",
       " 'Since butterflies are so small, a mile is much farther for them than for people.',\n",
       " 'A butterfly’s 2,800-mile trip is like a person traveling 275,000 miles.',\n",
       " 'Mighty Big Trip Weird but true Monarch caterpillars get oxygen through holes in the sides of their bodies.',\n",
       " 'The monarchs know where to go by instinct.',\n",
       " 'Sunlight signals them to migrate.',\n",
       " 'Scientists believe that sunlight also helps guide them.',\n",
       " 'Wing Word INSTINCT: Behavior that animals are born knowing how to do.',\n",
       " 'The first three or four generations live two to six weeks as adult butterflies.',\n",
       " 'The third and sometimes fourth generations hatch through the spring and summer.',\n",
       " 'These butterflies live six to nine months, much longer than the generations before it.',\n",
       " 'In the fall when it gets colder in the north, the monarchs fly south.',\n",
       " 'Predators Migrating butterflies make a delicious snack for many predators.',\n",
       " 'To keep enemies away, monarchs have built-in protections.',\n",
       " 'Monarch predators include spiders, black-eared mice, praying mantises, fire ants, and birds such as orioles and grosbeaks.',\n",
       " 'Milkweed has toxins in it.',\n",
       " 'When monarch caterpillars eat milkweed, it makes their skin poisonous.',\n",
       " 'But some predators can withstand the toxins or feed on monarchs without eating their skin.',\n",
       " 'When temperatures get too low, monarchs will die.',\n",
       " 'Wind and Rain Butterflies flock to the trees for shelter during high winds and rain.',\n",
       " 'Monarchs usually fly 50-100 miles a day when they are migrating.',\n",
       " 'In the winter, monarchs rest from their long journey.',\n",
       " 'When the eggs hatch, a new first generation begins again.',\n",
       " 'From Egg to Butterfly There are four stages in a butterfly’s life.',\n",
       " 'A tiny butterfly egg is the size of a pinhead.',\n",
       " 'A female carries up to 400 eggs.',\n",
       " 'Weird but true A monarch caterpillar eats its eggshell before it starts eating milkweed.',\n",
       " 'After 10-12 days, the chrysalis becomes clear and cracks open.',\n",
       " 'Munching Monarchs When monarchs are in the caterpillar stage, they only eat milkweed plants.',\n",
       " 'Adult monarchs eat the sweet nectar from many different flowering plants, including milkweed.',\n",
       " 'The nectar gives the butterflies energy to fly.',\n",
       " 'Wing Word NECTAR: Sweet plant juice eaten by insects.',\n",
       " '10 Cool Things About Monarchs 1 They can flap their wings up to 2,000 times a minute.',\n",
       " '4 Their bright colors warn predators they are poisonous.',\n",
       " '5 When caterpillars become too large for their skin, they shed it and grow new skin.',\n",
       " '6 Predators kill 15 percent of the monarchs in Mexico every year.',\n",
       " '7 Adult females have wider veins on their wings than males.',\n",
       " '8 Though strong enough to fly 2,000 miles, a butterfly weighs less than a paper clip.',\n",
       " 'Monarchs need trees for protection against wind and rain.',\n",
       " 'Deforestation is a big problem for monarch butterflies.',\n",
       " 'Monarchs are also losing their milkweed.',\n",
       " 'People use chemicals to stop it from growing.',\n",
       " 'Monarch butterflies can’t live without milkweed or the forests of Mexico.',\n",
       " 'Humans and monarchs need to learn to share the Earth.',\n",
       " 'Weird but true Caterpillars have six pairs of tiny eyes, but they don’t see well.',\n",
       " 'And others wore CAPES IN DIFFERENT COLORS.',\n",
       " 'Superheroes know boldness is cool.',\n",
       " 'Being bold means having courage.',\n",
       " 'People who are bold are brave or daring.',\n",
       " 'People who are bold face their fears.',\n",
       " 'But true heroes are smart too.',\n",
       " \"They don't take unnecessary risks.\",\n",
       " \"Superheroes also don't say things that could hurt others.SUPERHEROES ON TV SHOW BOLDNESS BY SAVING THE WORLD AND FACING BAD GUYS.But kids like you have the superpowers to be bold too!\",\n",
       " 'Mistakes happen all the time.',\n",
       " 'Everyone makes them.',\n",
       " 'Superheroes know that it is okay to fail sometimes.',\n",
       " \"Heroes won't do something that could hurt others.\",\n",
       " 'People are afraid of things for many different reasons.',\n",
       " 'HEROES FACE FEAR BY LEARNING ABOUT WHAT THEY ARE AFRAID OF.',\n",
       " 'NO TWO PEOPLE ARE EXACTLY ALIKE.',\n",
       " 'Being a hero is about making brave and bold choices.',\n",
       " \"Basic commands won't be a problem.\",\n",
       " 'But lots of dogs hate that.\"',\n",
       " 'No dog breed or type bites more than any other.',\n",
       " '\"And people get scared.',\n",
       " 'Pit bulls are misunderstood.\"',\n",
       " 'And dogs are faster than humans.',\n",
       " 'Sometimes it\\'s because people don\\'t know how to read a dog.\"',\n",
       " 'But jumping on people is rude.',\n",
       " 'And even little dogs can knock people over!',\n",
       " \"Funny thing: greyhounds are fast-faster than I'll ever be-but they get tired even faster!\",\n",
       " 'Small chairs fit for small birds and big chairs are good for the big birds!',\n",
       " 'Some kids play tag.',\n",
       " 'Friends do kind things for one another.',\n",
       " 'Everything is made of matter.',\n",
       " 'The amount of matter is called mass.',\n",
       " 'This pull is called gravity.',\n",
       " 'The earth has a lot of mass.',\n",
       " 'When Baby drops something, the earth pulls it down.',\n",
       " 'Gravity is everywhere.',\n",
       " 'Gravity is even at the park!',\n",
       " 'Lettuce and cucumbers are green vegetables.',\n",
       " 'There are father ants and mother ants, and lots of other ants who are nurses to the little ones.',\n",
       " '“Ants really do clean their young ones by licking them.',\n",
       " 'The worker ants are the nurses.',\n",
       " '“The ants have paths leading from their hill.',\n",
       " 'It lasts for always.',\n",
       " 'Silver is far less trouble—easier to mind, and not so easy stolen.',\n",
       " '\"Farmers always say cowcumbers instead of cucumbers.',\n",
       " '\"A turkey\\'s drumstick is all full of little wooden splinters, anyway.',\n",
       " 'When a snake misses its stroke, it never says anything or gives any sign of what it means to do next.',\n",
       " 'They finish economically with paints, stains and enamels and are highly valued as cores for fine hardwood veneers.',\n",
       " 'Continuous production keeps a full assortment of stock on hand.',\n",
       " 'Rules always come right if you wait quietly.',\n",
       " '\"Oh dear, oh dear, how stupid men are when they get an idea into their heads!',\n",
       " '\"\"No one can live a day in peace!\"',\n",
       " 'Witches have red eyes, and cannot see far, but they have a keen scent like the beasts, and are aware when human beings draw near.',\n",
       " 'All sorts of fish, large and small, dart among the branches, just as birds flit through the trees up here.',\n",
       " 'But a mermaid has no tears, and therefore she suffers so much more.',\n",
       " 'Human beings, on the contrary, have a soul which lives forever, long after their bodies have turned to clay.',\n",
       " '\"A mermaid has no immortal soul, and can never get one unless she wins the love of a human being.',\n",
       " 'Little snow people, like her, eat nothing but icicles.',\n",
       " 'The swing moves.',\n",
       " 'The reeds grow to the same height, and bear the same kind of long, purple-brown leaves, with their feathery tips.',\n",
       " '\"Love is a life-giver.',\n",
       " '\"The swans fly in an oblique line; the cranes, in the form of a triangle; and the plovers, in a curved line like a snake.',\n",
       " 'They give themselves great airs, especially the ibis.',\n",
       " 'The zizzy is a bug.',\n",
       " 'Fairies do not want very much to eat.',\n",
       " 'Some of the Butterflies, you know, wear whole gowns of black and yellow, others have stripes of black and white, while some have clear yellow with only a bit of black trimming the edges of the wings.The Moths usually wear brown and have it brightened with touches of buff or dull blue.',\n",
       " 'If they do wear bright colors, it is only on the back pair of wings, and when the Moth alights, he slides his front pair of wings over these and covers all the brightness.',\n",
       " 'They do not rest with their wings folded over their heads like the Butterflies, but leave them flat.',\n",
       " 'All the day long, when the sun is shining, the Moths have to rest on trees and dead leaves.',\n",
       " 'Moths are safer in dull colors, and the egg-layers should always be the safest of all.',\n",
       " 'When the Cecropias rest, they spread their wings out flat, and do not slide the front pair over the others as their cousins, the Sphinxes, do.',\n",
       " 'The most wonderful of all, though, are their feelers.The Butterflies have stiff feelers on their heads with little knobs on the ends, or sometimes with part of them thick like tiny clubs.',\n",
       " 'Every slave must bring a box of precious stones.',\n",
       " \"Away from home one can't get cheese rinds and bacon every day.\",\n",
       " \"'Understanding is the most important thing in every affair.\",\n",
       " \"'The ants are a respectable people.\",\n",
       " 'The nest will dry; the nest will fall.\"',\n",
       " 'All Easter Bunnies go to the Easter Bunny School, to learn the three most important things...1.',\n",
       " 'The Butterflies all laugh.',\n",
       " '\"A PILLOWCASE IS JUST TOO BIG!\"',\n",
       " '\"Stockings are just the right size: not too big, and not too small.',\n",
       " 'depending on whether they are the kind of birds who love the daylight, or who love the stars.',\n",
       " 'Some mummies listen when we tell them stories.',\n",
       " 'Winter is colder than fall.',\n",
       " 'Birds hatch from eggs in spring.',\n",
       " 'Birds hatch in spring.melts (MELTS) A solid melts when it changes to a liquid.',\n",
       " 'Snow melts in warm spring temperatures.',\n",
       " 'weather (WETH-ur) Weather is the condition of the air outside.',\n",
       " 'Wind blows seeds.',\n",
       " 'Clouds gather.',\n",
       " \"Air is made up of many different gases.We can't see them, but they're all around us.\",\n",
       " 'Sunlight warms the earth.The blanket of air helps hold the warmth in.',\n",
       " 'HA> They are called greenhouse gases.',\n",
       " 'Cars and trucks burn fuel that makes extra carbon dioxide.Power plants and factories do, too.',\n",
       " 'Five times two is ten.',\n",
       " 'Camels camp out in the sand and carry heavy loads.Their cargo goes in caravans down clear or dusty roads.',\n",
       " 'Oh, I see an otterover in the water!Otters eat a snack while floating on their back.',\n",
       " 'Turtles have no teeth.',\n",
       " \"Vultures don't eat veggiesVultures eat red meat.For them, a vole or vampire bat would be a tasty treat.\",\n",
       " \"Strawberries are succulent.Strawberries are sweet.On sunny summer days they're what I like to eat!\",\n",
       " 'Biking Is a way to be active.relax (ree-LAX) To relax is to not be tense or nervous.',\n",
       " 'Activity Helps you relax.',\n",
       " 'Glossary energy (EN-ur-jee) Energy is the ability or strength to do something.',\n",
       " 'Eating and drinking make teeth dirty.Brushing and flossing get rid of food and germs.',\n",
       " 'Sugar is bad for teeth.',\n",
       " 'lt causes cavities.',\n",
       " 'Fresh fruit for dessert is the healthy way.',\n",
       " 'Always Have an exit plan.',\n",
       " 'Healthy snacks can be a breeze.',\n",
       " 'Tomatoes are all juicy and red Soft, ripe bananas help keep me fed.',\n",
       " 'Apples come in red,green and yellow Peas are so tasty,just ask this fellow.',\n",
       " 'All sorts of berries are great to eat.',\n",
       " 'A plain old box is lots of fun.',\n",
       " 'One moon shines at night.The moon circles the Earth.',\n",
       " 'Rockets take astronauts into space.',\n",
       " 'Six satellites circle the earth..',\n",
       " 'One jaguar hunts.',\n",
       " 'Jaguars Hunt and live alone.',\n",
       " 'They spend most of their lives in trees.',\n",
       " 'They are the smallest monkeys in the world.',\n",
       " 'They are one of the biggest kinds of butterfly.',\n",
       " 'They are the largest bats in the world.',\n",
       " 'All kinds of animals live under the sea.',\n",
       " 'Humpback Whales have grooves and bumps on their skin.',\n",
       " 'They live in shells.',\n",
       " 'They talk to each other with clicks and squeaks.',\n",
       " 'Seven sharks look for food.Grey reef sharks eat fish,crabs, and squids.',\n",
       " 'Jellyfish never stop growing.',\n",
       " 'Their wool keeps them warm.',\n",
       " 'Each cow has four stomachs.',\n",
       " 'Five baby goats play.Baby goats are called kids.',\n",
       " 'They hatch from eggs.',\n",
       " 'Male Turkeys are called toms.',\n",
       " 'Pets come in all kinds and sizes.',\n",
       " 'Hamsters like to run.',\n",
       " 'Leaves change color and fall from trees in fall.',\n",
       " 'They come in many fun shapes and Colors.',\n",
       " \"The giant panda, one of the world's rarest animals, is a native of China, It lives in high misty forests where bamboo, its favorite food, grows.\",\n",
       " 'The panda cub stay with its mother, growing and learning for up to three years.',\n",
       " 'Tough lips and rubbery saliva coating its long agile tongue make it possible for the giraffe to strip off and eat not only the leaves of trees, but also the twigs, branches,and thorns.',\n",
       " 'Because its head is held so high, the giraffe can see much farther than the zebras, wildebeests ostriches, and baboons who depend on this graceful animal for danger signals when predators, such as lions, approach.',\n",
       " 'The starfish, or sea star, found in oceans around the world,belongs to a spiny-skinned family of animals called the echinoderms.The starfish can have five, ten, even fifty arms, which are all arranged around the central disk where its mouth is found Eacharm has two rows of tube feet that the starfish uses to breathe, move, and gather food.',\n",
       " \"Although it doesn't have a head or brain, the starfish possesses the amazing power of regeneration; a single arm with only a bit of the central disk can grow into a complete animal within a year.\",\n",
       " 'The macaw has two toes pointing frontward and two backward,e perfect for climbing trees and grasping the fruit and seeds that make up its diet.',\n",
       " 'An extremely noisy birdit yelps and screeches, especially in flightThe macawlike other parrots,is an excellentmimic and can imitate many sounds.',\n",
       " 'Mostmacaws mate for life and nest in holeshigh in trees.',\n",
       " 'Tiger cubs are born blind and helpless.',\n",
       " 'The mother may help some of the tiny crocodiles hatch by gently rolling the eggs in her mouth to crack the shellsAs they grow the young crocodiles feed on larger and larger prey quickly moving from insects to fish, rodents, and birds.',\n",
       " 'Seven Monkeysin the mountains of japan The japanese macaque or snow monkey lives in the mountains of japan.',\n",
       " 'Some of these monkeys live farther north than any other primates except humans.',\n",
       " 'During the long cold winters,snow monkeys erow fluffy coats and huddle together for warmth.',\n",
       " 'Nine Sparrows outside a kitchen window The familiar house sparrow, native to Eurasia And North Africa now inhabits ctes, townsend farmlands all over the world.',\n",
       " 'All house sparrows in North America are descendants of the small numbers released in New York City In the early1850sThey quickly spread, eating insects and seeds, sometimes damaging crops as they competed with native species for foodThe house sparrow usually has three broods of young a year and nests almost anywhere-in eaves and streetlights and signs and sometimes in trees Ten Mountain Goats on the slopes of the Rockies Despite its name and appearance, the RockyMountain goat is really a mountain antelope inhabiting craggy remote slopes of theRockies,far above most of its natural enemies, such as grizzly bears, and cougars.',\n",
       " 'Its ears are much larger than those of its cousin, the Asiatic elephant.',\n",
       " 'When the female elephant is ready to give birth, the other cows gather around to help.',\n",
       " 'The calf is born covered in hair that it loses as it grows.',\n",
       " '12Twelve Antson a sidewalk The ant a usually wingless insect is found all around the world.',\n",
       " 'An ant colony is been by single queen that lays a small number of eggsWhen the eggs hatch, the queen feeds the larvae until they reach maturity These adult workers are all female.',\n",
       " 'These ants fly from the nest and the young queens start new colonies.',\n",
       " 'Ring-tailed lemurs live in troops of five to twenty animals headed by one or more older females who defend their territory against intruders.',\n",
       " 'Newborns are carried in their mother\\'s\\' arms for a month before they are strong enough to cling to their mothers\" backsLemurs are threatened by the destruction of their various habitats.',\n",
       " 'Because it is cold-blooded reptile, the Galapagos tortoisesettles down to sleep in shallow tepid rainwater pools to keep warm during the night.',\n",
       " 'Instead of teeth, it has sharp-edges jaws for nipping off the grasses, berries, and cacti that make up its diet.',\n",
       " 'young prairie dogs leave their grass-lined nests to explore the world aboveground.',\n",
       " 'Nineteen Walruseson ar Arctic ice floe Walruses,Arctic mammals closely related to sea lions and seals, live and travel in large herds.',\n",
       " 'Most Reef fish are territorial and defend their food hiding places egg-laying areas, and night-resting spots.',\n",
       " 'Reef fish are found in many shapes, sizes,and colors.',\n",
       " \"A farmer's food is called “produce.\",\n",
       " 'Tomatoes have delicious color.',\n",
       " \"Fresh food comes straight from the ground Wash it and it's stable-bound.\",\n",
       " 'Whoosh, swoosh - too-whit, too-woo, Bats dwell here and hoot owls too.',\n",
       " 'RECIPE FOR A HIPPOPOTAMUS SANDWICH A hippo sandwich is easy to make.',\n",
       " '\"Climbing is easy.',\n",
       " 'Jumping is easy.',\n",
       " 'Juggling is easy.',\n",
       " '\"Dancing is like magic.',\n",
       " '\"But dancing is like magic!',\n",
       " \"It's like a little shovel, You hold it in your hand, You can put it in your mouth, It isn't flat, It's hallow, And it spoons things up.\",\n",
       " 'A slow loris is just a type of animal.',\n",
       " 'Children are going to school.',\n",
       " 'Some lay water pipes.',\n",
       " 'Some people like to go far away for their vacation.',\n",
       " 'Only a propeller car can do that.',\n",
       " 'Words are built one letter at a time.\"',\n",
       " 'People with dogs walk.',\n",
       " 'People with packages take taxis.',\n",
       " 'People with balloons leave them behind.',\n",
       " 'Now, usually when you let a balloon go, it flies away.',\n",
       " 'It isn\\'t right; a principal should be dignified, he shouldn\\'t be playing like one of the boys in his school.\"',\n",
       " 'Now, a church is no place for a balloon.',\n",
       " 'But a red balloon can be seen anywhere, even in a crowd.',\n",
       " '\"Sometimes accidents happen.\"',\n",
       " 'Some have two feet and some have four.',\n",
       " 'Some have six feet and some have more.',\n",
       " 'Some are fast.',\n",
       " 'Blue hair is fun to brush and comb.',\n",
       " 'These yellow pets are called the Zeds.',\n",
       " 'Every day, from here to there, funny things are everywhere.',\n",
       " 'Night is not a time for play.',\n",
       " 'The dogs go to sleep.',\n",
       " 'If a bear is smart, If a bear knows how, He goes on a honey hunt.',\n",
       " 'Bees hide their honey In trees that are hollow.',\n",
       " 'If a bear is smart, If a bear is bright, A bear keeps going If it takes all night.',\n",
       " 'The best sort of honey Never comes from bees.',\n",
       " 'And the turtles, of course... all the turtles are free As turtles and, maybe, all creatures should be.',\n",
       " 'Big Shark swims fast.',\n",
       " 'Big Shark swims slow.',\n",
       " 'You never can tell with bees.\"\"',\n",
       " 'Every little cloud  Always sings aloud.',\n",
       " \"One can't have anybody coming into one's house.\",\n",
       " 'One has to be careful.',\n",
       " 'You can\\'t sneeze without knowing it.\"\"',\n",
       " 'Nobody can be un- cheered with a balloon.\"\"',\n",
       " '\"\"Balloons are much too big to go into Pots.',\n",
       " 'A tail isn\\'t a tail to them, it\\'s just a Little Bit Extra at the back.\"\"',\n",
       " 'Some are big dogs.',\n",
       " 'AND when tweetle beetles battle with paddles in a puddle, they call it a tweetle beetle puddle paddle battle.',\n",
       " 'Now, freight cars are silly and noisy.',\n",
       " 'FINGERS AND TOES Every lady in this land Has twenty nails, upon each hand Five, and twenty on hands and feet: All this is true, without deceit.',\n",
       " 'Every wife had seven sacks, Every sack had seven cats, Every cat had seven kits.',\n",
       " 'IF WISHES WERE HORSES If wishes were horses, beggars would ride.',\n",
       " 'the dogs do bark!',\n",
       " \"A WEEK OF BIRTHDAYS Monday's child is fair of face, Tuesday's child is full of grace, Wednesday's child is full of woe, Thursday's child has far to go, Friday's child is loving and giving, Saturday's child works hard for its living, But the child that's born on the Sabbath day Is bonny and blithe, and good and gay.\",\n",
       " 'BIRDS OF A FEATHER Birds of a feather flock together, And so will pigs and swine; Rats and mice will have their choice, And so will I have mine.',\n",
       " 'AN ICICLE Lives in winter, Dies in summer, And grows with its roots upward!',\n",
       " 'SNEEZING If you sneeze on Monday, you sneeze for danger; Sneeze on a Tuesday, kiss a stranger; Sneeze on a Wednesday, sneeze for a letter; Sneeze on a Thursday, something better.',\n",
       " 'Building a playground is hard work.',\n",
       " 'Screwdrivers twist in screws.',\n",
       " 'Wrenches tighten the nuts.',\n",
       " '\"Spiderwebs turn to silver threads.',\n",
       " '\"Moonflowers close and morning glories open.',\n",
       " 'The crows caw.',\n",
       " 'Everyone in Japan has black hair.',\n",
       " 'You walk on mats called tatami.',\n",
       " 'A sheep says BAA.',\n",
       " 'Some other dogs go BOW WOW WOW!',\n",
       " 'Monkeys drum... ...and monkeys hum.',\n",
       " 'Monkeys come And monkeys go.',\n",
       " \"We hippos LOVE our belly b's.\",\n",
       " 'Excavator shapes the land.',\n",
       " 'Math is neat!',\n",
       " \"Sometimes being a girl isn't easy.\",\n",
       " '\"One can never consent to creep when one feels an impulse to soar.\"',\n",
       " 'Standing for right when it is unpopular is a true test of moral character.\"',\n",
       " '\"Young girls need to see role models in whatever careers they may choose, just so they can picture themselves doing those jobs someday.',\n",
       " 'Chasing the ball and bringing it back was called \"retrieving.\"',\n",
       " '\"No one is allowed to become a member unless he can do a special trick.',\n",
       " '\"Checkers, of course, can retrieve.',\n",
       " 'An elephant makes a big poop A mouse makes a tiny poop A one-hump camel makes a one-hump poop And a two-hump camel makes a two-hump poop Only Kidding!',\n",
       " 'Some stop to poop Others do it on the move Some poop here and there others do it in a special place Grown-ups poop Children poop too While some children poop on the potty others poop in their diapers Some animals poop and pay no attention Others clean up after themselves These poop by the water This one does it in the water He wipes himself with paper, then flushes it down All living things eat, so Everyone Poops',\n",
       " \"If you give a mouse a cookie, he's going to ask for a glass of milk.\",\n",
       " 'But there are other kinds of eggs.',\n",
       " 'And sunny-side-down eggs just lie on their stomachs and wait.\"',\n",
       " 'Babies like to drink milk.',\n",
       " '\"Cats go meow.',\n",
       " 'Dogs go arf.',\n",
       " '\"Ducks go quack-quack Dogs go arf.',\n",
       " '\"Pigs go oink.',\n",
       " 'Dogs go arf.',\n",
       " \"But everyone knows calves don't belong in the house!\",\n",
       " 'Bats hang by their feet.',\n",
       " '\"We can see in darkness.',\n",
       " 'BAT NOTES Of the nearly 4,000 species of mammals on Earth, almost one quarter are bats, the only mammals capable of powered flight.',\n",
       " 'The majority of bats are classified as Microchiroptera, \"small hand-wing.\"',\n",
       " 'Nearly 800 varieties fill special niches in every climate around the world except the polar zones.',\n",
       " 'The lifestyles and food preferences of Microchiroptera vary wildly.',\n",
       " 'Many eat insects, while others catch fish, amphibians, and reptiles.',\n",
       " 'The other 170 or so species of bats are the fruit bats, otherwise known as Megachiroptera, or \"large hand-wing.\"',\n",
       " 'As their name implies, they are the largest bats, some types boasting wingspans of six feet.',\n",
       " 'Fruit bats generally have long muzzles, large eyes, pointy ears, and furry bodies, which is why they are often called flying foxes.',\n",
       " 'Unlike Microchiroptera, who travel by echolocation, fruit bats depend on their keen vision and sense of smell to navigate.',\n",
       " 'Some fruit bats, as they forage for nectar, are responsible for pollination of many types of night-blooming trees and plants.',\n",
       " 'Others eat whole fruits, seeds and all, and distribute the seeds over the forest floor in their droppings.',\n",
       " 'Regeneration of tropical forests depends greatly on bats.',\n",
       " 'Because, after all, a person\\'s a person, no matter how small.\"',\n",
       " \"After all a person's a person.\",\n",
       " 'If you don\\'t, every Who is going to end up in a Beezle-Nut stew!\"',\n",
       " \"A Person's a Person, no matter how small!\",\n",
       " \"A Thneed's a Fine-Something-That-All-People-Need!\",\n",
       " 'You never can tell what some people will buy.\"',\n",
       " 'And Truffula Trees are what everyone needs.',\n",
       " \"That's what manners are all about-being fair and considerate.\",\n",
       " 'Manners are very important.',\n",
       " 'Besides, manners are all right for cubs and mama bears.',\n",
       " '\"Friends should always tell each other the truth.',\n",
       " 'and apple trees growing around.',\n",
       " 'When you go owling you have to be brave.',\n",
       " 'Baby penguins are gray, you know.',\n",
       " 'Small animals scurry under the tracks.',\n",
       " 'Things used to make other things.',\n",
       " 'They tuck in their tails.',\n",
       " 'Fruity medicine tastes yucky!',\n",
       " 'Trucks are boring.',\n",
       " 'Being sick is such a bore.',\n",
       " \"The Hubbles don't listen.\",\n",
       " '\"Little ballerinas can\\'t catch us!\"',\n",
       " 'Envy is when you want something that belongs to somebody else.\"',\n",
       " 'Straws make everything taste better!',\n",
       " 'Teachers know everything!',\n",
       " 'Dinosaurs are a lot of work.\"',\n",
       " 'They eat anything.',\n",
       " 'Pitching a tent is not easy!',\n",
       " 'A train needs time to adjust to new surroundings.',\n",
       " 'and few trains can resist a good read-aloud.',\n",
       " 'Good manners are important.',\n",
       " 'Finding treasure is hard work.',\n",
       " 'As much as dragons love tacos, they hate spicy salsa even more.',\n",
       " \"If the salsa is spicy at all, dragons can't stand it.\",\n",
       " \"Well, just one drop of hot sauce makes a dragon's ears smoke.\",\n",
       " 'Dragons love parties.',\n",
       " 'After all, dragons love tacos.',\n",
       " 'After all, dragons love tacos.',\n",
       " 'Doughnuts make good wheel.',\n",
       " \"That's what doughnuts are for ' to eat.\",\n",
       " 'People love us!',\n",
       " 'Ducklings get everything!',\n",
       " 'Pigeons like cookies, too!',\n",
       " 'A good friend is always kind.',\n",
       " 'Small fish are scared of me.',\n",
       " 'And BIG fish are scared of me.',\n",
       " 'Some fish swim in large groups, called schools, or shoals.',\n",
       " 'In return for keeping them safe, Pilot fish keep sharks free of harmful parasites.',\n",
       " 'Sharks even allow Pilot fish to clean their teeth!',\n",
       " '(Pilot fish are not really scary at all!!)',\n",
       " 'The snail is black and white too!',\n",
       " 'Not every dog can become a Service Dog.',\n",
       " 'If cars drive on the right, look left then right, you know.',\n",
       " 'There are things that glide.',\n",
       " 'There are things that fly.',\n",
       " 'There are things that hover.',\n",
       " 'Birds of all shapes and sizes Flap their way across the sky.',\n",
       " 'Gliding and parasailing Are sports for those who dare.']"
      ]
     },
     "execution_count": 4,
     "metadata": {},
     "output_type": "execute_result"
    }
   ],
   "source": [
    "sentences_list"
   ]
  },
  {
   "cell_type": "code",
   "execution_count": null,
   "metadata": {},
   "outputs": [],
   "source": [
    "# prompt for generalizing\n",
    "\n",
    "\n",
    "# \"Generalizing sentences can be categorized into the following five categories: \"\n",
    "#         \"Behavioral (e.g., \\\"This fish is swimming\\\",  \\\"John walks to school every day\\\"), Biological (e.g., \\\"Some cats have fur\\\", \\\"All sharks have pointy teeth\\\"), \"\n",
    "#         \"Social (e.g., \\\"Charlie likes to go out with friends\\\", \\\"Bee Bob protects the queen\\\"), Teleological (e.g., \\\"This hammer is used to cut the tree\\\") and Perceptual (e.g., \\\"This dog is big\\\", \\\"Some balls are round\\\"). \"\n",
    "#         \"Behavioral sentences are about behavior or what things do; Biological sentences mention biological features and characteristics; \"\n",
    "#         \"Social sentences refer to social behaviors or behaviors or groups; Teleological sentences are about functions, purposes, or what things are for; and Perceptual sentences are about what things look like, or what they feel, sound or taste like\"\n",
    "#         \"For the following sentence, determine if it is a Behavioral, Biological, Social, Teleological or Perceptual, \"\n",
    "#         \"Return 1 for Behavioral, 2 for Biological, 3 for Social, 4 for Teleological, and 5 for Perceptual. Just return the number, no explanation.\\n\"\n",
    "#         f\"Sentence: \\\"{sentence}\\\"\""
   ]
  },
  {
   "cell_type": "code",
   "execution_count": 5,
   "metadata": {},
   "outputs": [
    {
     "ename": "AuthenticationError",
     "evalue": "Error code: 401 - {'error': {'message': 'Incorrect API key provided: key. You can find your API key at https://platform.openai.com/account/api-keys.', 'type': 'invalid_request_error', 'param': None, 'code': 'invalid_api_key'}}",
     "output_type": "error",
     "traceback": [
      "\u001b[0;31m---------------------------------------------------------------------------\u001b[0m",
      "\u001b[0;31mAuthenticationError\u001b[0m                       Traceback (most recent call last)",
      "Cell \u001b[0;32mIn[5], line 44\u001b[0m\n\u001b[1;32m     41\u001b[0m     \u001b[38;5;28;01mreturn\u001b[39;00m results\n\u001b[1;32m     43\u001b[0m \u001b[38;5;66;03m# Classify each sentence and save the results to a JSON file\u001b[39;00m\n\u001b[0;32m---> 44\u001b[0m classified_sentences \u001b[38;5;241m=\u001b[39m \u001b[43mclassify_sentences\u001b[49m\u001b[43m(\u001b[49m\u001b[43msentences_list\u001b[49m\u001b[43m)\u001b[49m\n\u001b[1;32m     45\u001b[0m output_file \u001b[38;5;241m=\u001b[39m \u001b[38;5;124m'\u001b[39m\u001b[38;5;124mclassified_generics_update.json\u001b[39m\u001b[38;5;124m'\u001b[39m\n\u001b[1;32m     47\u001b[0m \u001b[38;5;28;01mwith\u001b[39;00m \u001b[38;5;28mopen\u001b[39m(output_file, \u001b[38;5;124m'\u001b[39m\u001b[38;5;124mw\u001b[39m\u001b[38;5;124m'\u001b[39m) \u001b[38;5;28;01mas\u001b[39;00m f:\n",
      "Cell \u001b[0;32mIn[5], line 29\u001b[0m, in \u001b[0;36mclassify_sentences\u001b[0;34m(sentences)\u001b[0m\n\u001b[1;32m     27\u001b[0m \u001b[38;5;28;01mfor\u001b[39;00m sentence \u001b[38;5;129;01min\u001b[39;00m sentences:\n\u001b[1;32m     28\u001b[0m     prompt \u001b[38;5;241m=\u001b[39m create_prompt(sentence)\n\u001b[0;32m---> 29\u001b[0m     response \u001b[38;5;241m=\u001b[39m \u001b[43mclient\u001b[49m\u001b[38;5;241;43m.\u001b[39;49m\u001b[43mchat\u001b[49m\u001b[38;5;241;43m.\u001b[39;49m\u001b[43mcompletions\u001b[49m\u001b[38;5;241;43m.\u001b[39;49m\u001b[43mcreate\u001b[49m\u001b[43m(\u001b[49m\n\u001b[1;32m     30\u001b[0m \u001b[43m        \u001b[49m\u001b[43mmodel\u001b[49m\u001b[38;5;241;43m=\u001b[39;49m\u001b[38;5;124;43m\"\u001b[39;49m\u001b[38;5;124;43mgpt-4\u001b[39;49m\u001b[38;5;124;43m\"\u001b[39;49m\u001b[43m,\u001b[49m\n\u001b[1;32m     31\u001b[0m \u001b[43m        \u001b[49m\u001b[43mmessages\u001b[49m\u001b[38;5;241;43m=\u001b[39;49m\u001b[43m[\u001b[49m\n\u001b[1;32m     32\u001b[0m \u001b[43m            \u001b[49m\u001b[43m{\u001b[49m\u001b[38;5;124;43m\"\u001b[39;49m\u001b[38;5;124;43mrole\u001b[39;49m\u001b[38;5;124;43m\"\u001b[39;49m\u001b[43m:\u001b[49m\u001b[43m \u001b[49m\u001b[38;5;124;43m\"\u001b[39;49m\u001b[38;5;124;43msystem\u001b[39;49m\u001b[38;5;124;43m\"\u001b[39;49m\u001b[43m,\u001b[49m\u001b[43m \u001b[49m\u001b[38;5;124;43m\"\u001b[39;49m\u001b[38;5;124;43mcontent\u001b[39;49m\u001b[38;5;124;43m\"\u001b[39;49m\u001b[43m:\u001b[49m\u001b[43m \u001b[49m\u001b[38;5;124;43m\"\u001b[39;49m\u001b[38;5;124;43mdetermine the feature type of the generalizing sentence.\u001b[39;49m\u001b[38;5;124;43m\"\u001b[39;49m\u001b[43m}\u001b[49m\u001b[43m,\u001b[49m\n\u001b[1;32m     33\u001b[0m \u001b[43m            \u001b[49m\u001b[43m{\u001b[49m\u001b[38;5;124;43m\"\u001b[39;49m\u001b[38;5;124;43mrole\u001b[39;49m\u001b[38;5;124;43m\"\u001b[39;49m\u001b[43m:\u001b[49m\u001b[43m \u001b[49m\u001b[38;5;124;43m\"\u001b[39;49m\u001b[38;5;124;43muser\u001b[39;49m\u001b[38;5;124;43m\"\u001b[39;49m\u001b[43m,\u001b[49m\u001b[43m \u001b[49m\u001b[38;5;124;43m\"\u001b[39;49m\u001b[38;5;124;43mcontent\u001b[39;49m\u001b[38;5;124;43m\"\u001b[39;49m\u001b[43m:\u001b[49m\u001b[43m \u001b[49m\u001b[43mprompt\u001b[49m\u001b[43m}\u001b[49m\n\u001b[1;32m     34\u001b[0m \u001b[43m        \u001b[49m\u001b[43m]\u001b[49m\u001b[43m,\u001b[49m\n\u001b[1;32m     35\u001b[0m \u001b[43m        \u001b[49m\u001b[43mmax_tokens\u001b[49m\u001b[38;5;241;43m=\u001b[39;49m\u001b[38;5;241;43m1\u001b[39;49m\u001b[43m  \u001b[49m\u001b[38;5;66;43;03m# Limit the output to 1 token\u001b[39;49;00m\n\u001b[1;32m     36\u001b[0m \u001b[43m    \u001b[49m\u001b[43m)\u001b[49m\n\u001b[1;32m     37\u001b[0m     \u001b[38;5;66;03m# Extract the model's response\u001b[39;00m\n\u001b[1;32m     38\u001b[0m     classification \u001b[38;5;241m=\u001b[39m response\u001b[38;5;241m.\u001b[39mchoices[\u001b[38;5;241m0\u001b[39m]\u001b[38;5;241m.\u001b[39mmessage\u001b[38;5;241m.\u001b[39mcontent\u001b[38;5;241m.\u001b[39mstrip()\n",
      "File \u001b[0;32m/opt/homebrew/Caskroom/miniconda/base/lib/python3.12/site-packages/openai/_utils/_utils.py:277\u001b[0m, in \u001b[0;36mrequired_args.<locals>.inner.<locals>.wrapper\u001b[0;34m(*args, **kwargs)\u001b[0m\n\u001b[1;32m    275\u001b[0m             msg \u001b[38;5;241m=\u001b[39m \u001b[38;5;124mf\u001b[39m\u001b[38;5;124m\"\u001b[39m\u001b[38;5;124mMissing required argument: \u001b[39m\u001b[38;5;132;01m{\u001b[39;00mquote(missing[\u001b[38;5;241m0\u001b[39m])\u001b[38;5;132;01m}\u001b[39;00m\u001b[38;5;124m\"\u001b[39m\n\u001b[1;32m    276\u001b[0m     \u001b[38;5;28;01mraise\u001b[39;00m \u001b[38;5;167;01mTypeError\u001b[39;00m(msg)\n\u001b[0;32m--> 277\u001b[0m \u001b[38;5;28;01mreturn\u001b[39;00m \u001b[43mfunc\u001b[49m\u001b[43m(\u001b[49m\u001b[38;5;241;43m*\u001b[39;49m\u001b[43margs\u001b[49m\u001b[43m,\u001b[49m\u001b[43m \u001b[49m\u001b[38;5;241;43m*\u001b[39;49m\u001b[38;5;241;43m*\u001b[39;49m\u001b[43mkwargs\u001b[49m\u001b[43m)\u001b[49m\n",
      "File \u001b[0;32m/opt/homebrew/Caskroom/miniconda/base/lib/python3.12/site-packages/openai/resources/chat/completions.py:646\u001b[0m, in \u001b[0;36mCompletions.create\u001b[0;34m(self, messages, model, frequency_penalty, function_call, functions, logit_bias, logprobs, max_tokens, n, parallel_tool_calls, presence_penalty, response_format, seed, service_tier, stop, stream, stream_options, temperature, tool_choice, tools, top_logprobs, top_p, user, extra_headers, extra_query, extra_body, timeout)\u001b[0m\n\u001b[1;32m    612\u001b[0m \u001b[38;5;129m@required_args\u001b[39m([\u001b[38;5;124m\"\u001b[39m\u001b[38;5;124mmessages\u001b[39m\u001b[38;5;124m\"\u001b[39m, \u001b[38;5;124m\"\u001b[39m\u001b[38;5;124mmodel\u001b[39m\u001b[38;5;124m\"\u001b[39m], [\u001b[38;5;124m\"\u001b[39m\u001b[38;5;124mmessages\u001b[39m\u001b[38;5;124m\"\u001b[39m, \u001b[38;5;124m\"\u001b[39m\u001b[38;5;124mmodel\u001b[39m\u001b[38;5;124m\"\u001b[39m, \u001b[38;5;124m\"\u001b[39m\u001b[38;5;124mstream\u001b[39m\u001b[38;5;124m\"\u001b[39m])\n\u001b[1;32m    613\u001b[0m \u001b[38;5;28;01mdef\u001b[39;00m \u001b[38;5;21mcreate\u001b[39m(\n\u001b[1;32m    614\u001b[0m     \u001b[38;5;28mself\u001b[39m,\n\u001b[0;32m   (...)\u001b[0m\n\u001b[1;32m    644\u001b[0m     timeout: \u001b[38;5;28mfloat\u001b[39m \u001b[38;5;241m|\u001b[39m httpx\u001b[38;5;241m.\u001b[39mTimeout \u001b[38;5;241m|\u001b[39m \u001b[38;5;28;01mNone\u001b[39;00m \u001b[38;5;241m|\u001b[39m NotGiven \u001b[38;5;241m=\u001b[39m NOT_GIVEN,\n\u001b[1;32m    645\u001b[0m ) \u001b[38;5;241m-\u001b[39m\u001b[38;5;241m>\u001b[39m ChatCompletion \u001b[38;5;241m|\u001b[39m Stream[ChatCompletionChunk]:\n\u001b[0;32m--> 646\u001b[0m     \u001b[38;5;28;01mreturn\u001b[39;00m \u001b[38;5;28;43mself\u001b[39;49m\u001b[38;5;241;43m.\u001b[39;49m\u001b[43m_post\u001b[49m\u001b[43m(\u001b[49m\n\u001b[1;32m    647\u001b[0m \u001b[43m        \u001b[49m\u001b[38;5;124;43m\"\u001b[39;49m\u001b[38;5;124;43m/chat/completions\u001b[39;49m\u001b[38;5;124;43m\"\u001b[39;49m\u001b[43m,\u001b[49m\n\u001b[1;32m    648\u001b[0m \u001b[43m        \u001b[49m\u001b[43mbody\u001b[49m\u001b[38;5;241;43m=\u001b[39;49m\u001b[43mmaybe_transform\u001b[49m\u001b[43m(\u001b[49m\n\u001b[1;32m    649\u001b[0m \u001b[43m            \u001b[49m\u001b[43m{\u001b[49m\n\u001b[1;32m    650\u001b[0m \u001b[43m                \u001b[49m\u001b[38;5;124;43m\"\u001b[39;49m\u001b[38;5;124;43mmessages\u001b[39;49m\u001b[38;5;124;43m\"\u001b[39;49m\u001b[43m:\u001b[49m\u001b[43m \u001b[49m\u001b[43mmessages\u001b[49m\u001b[43m,\u001b[49m\n\u001b[1;32m    651\u001b[0m \u001b[43m                \u001b[49m\u001b[38;5;124;43m\"\u001b[39;49m\u001b[38;5;124;43mmodel\u001b[39;49m\u001b[38;5;124;43m\"\u001b[39;49m\u001b[43m:\u001b[49m\u001b[43m \u001b[49m\u001b[43mmodel\u001b[49m\u001b[43m,\u001b[49m\n\u001b[1;32m    652\u001b[0m \u001b[43m                \u001b[49m\u001b[38;5;124;43m\"\u001b[39;49m\u001b[38;5;124;43mfrequency_penalty\u001b[39;49m\u001b[38;5;124;43m\"\u001b[39;49m\u001b[43m:\u001b[49m\u001b[43m \u001b[49m\u001b[43mfrequency_penalty\u001b[49m\u001b[43m,\u001b[49m\n\u001b[1;32m    653\u001b[0m \u001b[43m                \u001b[49m\u001b[38;5;124;43m\"\u001b[39;49m\u001b[38;5;124;43mfunction_call\u001b[39;49m\u001b[38;5;124;43m\"\u001b[39;49m\u001b[43m:\u001b[49m\u001b[43m \u001b[49m\u001b[43mfunction_call\u001b[49m\u001b[43m,\u001b[49m\n\u001b[1;32m    654\u001b[0m \u001b[43m                \u001b[49m\u001b[38;5;124;43m\"\u001b[39;49m\u001b[38;5;124;43mfunctions\u001b[39;49m\u001b[38;5;124;43m\"\u001b[39;49m\u001b[43m:\u001b[49m\u001b[43m \u001b[49m\u001b[43mfunctions\u001b[49m\u001b[43m,\u001b[49m\n\u001b[1;32m    655\u001b[0m \u001b[43m                \u001b[49m\u001b[38;5;124;43m\"\u001b[39;49m\u001b[38;5;124;43mlogit_bias\u001b[39;49m\u001b[38;5;124;43m\"\u001b[39;49m\u001b[43m:\u001b[49m\u001b[43m \u001b[49m\u001b[43mlogit_bias\u001b[49m\u001b[43m,\u001b[49m\n\u001b[1;32m    656\u001b[0m \u001b[43m                \u001b[49m\u001b[38;5;124;43m\"\u001b[39;49m\u001b[38;5;124;43mlogprobs\u001b[39;49m\u001b[38;5;124;43m\"\u001b[39;49m\u001b[43m:\u001b[49m\u001b[43m \u001b[49m\u001b[43mlogprobs\u001b[49m\u001b[43m,\u001b[49m\n\u001b[1;32m    657\u001b[0m \u001b[43m                \u001b[49m\u001b[38;5;124;43m\"\u001b[39;49m\u001b[38;5;124;43mmax_tokens\u001b[39;49m\u001b[38;5;124;43m\"\u001b[39;49m\u001b[43m:\u001b[49m\u001b[43m \u001b[49m\u001b[43mmax_tokens\u001b[49m\u001b[43m,\u001b[49m\n\u001b[1;32m    658\u001b[0m \u001b[43m                \u001b[49m\u001b[38;5;124;43m\"\u001b[39;49m\u001b[38;5;124;43mn\u001b[39;49m\u001b[38;5;124;43m\"\u001b[39;49m\u001b[43m:\u001b[49m\u001b[43m \u001b[49m\u001b[43mn\u001b[49m\u001b[43m,\u001b[49m\n\u001b[1;32m    659\u001b[0m \u001b[43m                \u001b[49m\u001b[38;5;124;43m\"\u001b[39;49m\u001b[38;5;124;43mparallel_tool_calls\u001b[39;49m\u001b[38;5;124;43m\"\u001b[39;49m\u001b[43m:\u001b[49m\u001b[43m \u001b[49m\u001b[43mparallel_tool_calls\u001b[49m\u001b[43m,\u001b[49m\n\u001b[1;32m    660\u001b[0m \u001b[43m                \u001b[49m\u001b[38;5;124;43m\"\u001b[39;49m\u001b[38;5;124;43mpresence_penalty\u001b[39;49m\u001b[38;5;124;43m\"\u001b[39;49m\u001b[43m:\u001b[49m\u001b[43m \u001b[49m\u001b[43mpresence_penalty\u001b[49m\u001b[43m,\u001b[49m\n\u001b[1;32m    661\u001b[0m \u001b[43m                \u001b[49m\u001b[38;5;124;43m\"\u001b[39;49m\u001b[38;5;124;43mresponse_format\u001b[39;49m\u001b[38;5;124;43m\"\u001b[39;49m\u001b[43m:\u001b[49m\u001b[43m \u001b[49m\u001b[43mresponse_format\u001b[49m\u001b[43m,\u001b[49m\n\u001b[1;32m    662\u001b[0m \u001b[43m                \u001b[49m\u001b[38;5;124;43m\"\u001b[39;49m\u001b[38;5;124;43mseed\u001b[39;49m\u001b[38;5;124;43m\"\u001b[39;49m\u001b[43m:\u001b[49m\u001b[43m \u001b[49m\u001b[43mseed\u001b[49m\u001b[43m,\u001b[49m\n\u001b[1;32m    663\u001b[0m \u001b[43m                \u001b[49m\u001b[38;5;124;43m\"\u001b[39;49m\u001b[38;5;124;43mservice_tier\u001b[39;49m\u001b[38;5;124;43m\"\u001b[39;49m\u001b[43m:\u001b[49m\u001b[43m \u001b[49m\u001b[43mservice_tier\u001b[49m\u001b[43m,\u001b[49m\n\u001b[1;32m    664\u001b[0m \u001b[43m                \u001b[49m\u001b[38;5;124;43m\"\u001b[39;49m\u001b[38;5;124;43mstop\u001b[39;49m\u001b[38;5;124;43m\"\u001b[39;49m\u001b[43m:\u001b[49m\u001b[43m \u001b[49m\u001b[43mstop\u001b[49m\u001b[43m,\u001b[49m\n\u001b[1;32m    665\u001b[0m \u001b[43m                \u001b[49m\u001b[38;5;124;43m\"\u001b[39;49m\u001b[38;5;124;43mstream\u001b[39;49m\u001b[38;5;124;43m\"\u001b[39;49m\u001b[43m:\u001b[49m\u001b[43m \u001b[49m\u001b[43mstream\u001b[49m\u001b[43m,\u001b[49m\n\u001b[1;32m    666\u001b[0m \u001b[43m                \u001b[49m\u001b[38;5;124;43m\"\u001b[39;49m\u001b[38;5;124;43mstream_options\u001b[39;49m\u001b[38;5;124;43m\"\u001b[39;49m\u001b[43m:\u001b[49m\u001b[43m \u001b[49m\u001b[43mstream_options\u001b[49m\u001b[43m,\u001b[49m\n\u001b[1;32m    667\u001b[0m \u001b[43m                \u001b[49m\u001b[38;5;124;43m\"\u001b[39;49m\u001b[38;5;124;43mtemperature\u001b[39;49m\u001b[38;5;124;43m\"\u001b[39;49m\u001b[43m:\u001b[49m\u001b[43m \u001b[49m\u001b[43mtemperature\u001b[49m\u001b[43m,\u001b[49m\n\u001b[1;32m    668\u001b[0m \u001b[43m                \u001b[49m\u001b[38;5;124;43m\"\u001b[39;49m\u001b[38;5;124;43mtool_choice\u001b[39;49m\u001b[38;5;124;43m\"\u001b[39;49m\u001b[43m:\u001b[49m\u001b[43m \u001b[49m\u001b[43mtool_choice\u001b[49m\u001b[43m,\u001b[49m\n\u001b[1;32m    669\u001b[0m \u001b[43m                \u001b[49m\u001b[38;5;124;43m\"\u001b[39;49m\u001b[38;5;124;43mtools\u001b[39;49m\u001b[38;5;124;43m\"\u001b[39;49m\u001b[43m:\u001b[49m\u001b[43m \u001b[49m\u001b[43mtools\u001b[49m\u001b[43m,\u001b[49m\n\u001b[1;32m    670\u001b[0m \u001b[43m                \u001b[49m\u001b[38;5;124;43m\"\u001b[39;49m\u001b[38;5;124;43mtop_logprobs\u001b[39;49m\u001b[38;5;124;43m\"\u001b[39;49m\u001b[43m:\u001b[49m\u001b[43m \u001b[49m\u001b[43mtop_logprobs\u001b[49m\u001b[43m,\u001b[49m\n\u001b[1;32m    671\u001b[0m \u001b[43m                \u001b[49m\u001b[38;5;124;43m\"\u001b[39;49m\u001b[38;5;124;43mtop_p\u001b[39;49m\u001b[38;5;124;43m\"\u001b[39;49m\u001b[43m:\u001b[49m\u001b[43m \u001b[49m\u001b[43mtop_p\u001b[49m\u001b[43m,\u001b[49m\n\u001b[1;32m    672\u001b[0m \u001b[43m                \u001b[49m\u001b[38;5;124;43m\"\u001b[39;49m\u001b[38;5;124;43muser\u001b[39;49m\u001b[38;5;124;43m\"\u001b[39;49m\u001b[43m:\u001b[49m\u001b[43m \u001b[49m\u001b[43muser\u001b[49m\u001b[43m,\u001b[49m\n\u001b[1;32m    673\u001b[0m \u001b[43m            \u001b[49m\u001b[43m}\u001b[49m\u001b[43m,\u001b[49m\n\u001b[1;32m    674\u001b[0m \u001b[43m            \u001b[49m\u001b[43mcompletion_create_params\u001b[49m\u001b[38;5;241;43m.\u001b[39;49m\u001b[43mCompletionCreateParams\u001b[49m\u001b[43m,\u001b[49m\n\u001b[1;32m    675\u001b[0m \u001b[43m        \u001b[49m\u001b[43m)\u001b[49m\u001b[43m,\u001b[49m\n\u001b[1;32m    676\u001b[0m \u001b[43m        \u001b[49m\u001b[43moptions\u001b[49m\u001b[38;5;241;43m=\u001b[39;49m\u001b[43mmake_request_options\u001b[49m\u001b[43m(\u001b[49m\n\u001b[1;32m    677\u001b[0m \u001b[43m            \u001b[49m\u001b[43mextra_headers\u001b[49m\u001b[38;5;241;43m=\u001b[39;49m\u001b[43mextra_headers\u001b[49m\u001b[43m,\u001b[49m\u001b[43m \u001b[49m\u001b[43mextra_query\u001b[49m\u001b[38;5;241;43m=\u001b[39;49m\u001b[43mextra_query\u001b[49m\u001b[43m,\u001b[49m\u001b[43m \u001b[49m\u001b[43mextra_body\u001b[49m\u001b[38;5;241;43m=\u001b[39;49m\u001b[43mextra_body\u001b[49m\u001b[43m,\u001b[49m\u001b[43m \u001b[49m\u001b[43mtimeout\u001b[49m\u001b[38;5;241;43m=\u001b[39;49m\u001b[43mtimeout\u001b[49m\n\u001b[1;32m    678\u001b[0m \u001b[43m        \u001b[49m\u001b[43m)\u001b[49m\u001b[43m,\u001b[49m\n\u001b[1;32m    679\u001b[0m \u001b[43m        \u001b[49m\u001b[43mcast_to\u001b[49m\u001b[38;5;241;43m=\u001b[39;49m\u001b[43mChatCompletion\u001b[49m\u001b[43m,\u001b[49m\n\u001b[1;32m    680\u001b[0m \u001b[43m        \u001b[49m\u001b[43mstream\u001b[49m\u001b[38;5;241;43m=\u001b[39;49m\u001b[43mstream\u001b[49m\u001b[43m \u001b[49m\u001b[38;5;129;43;01mor\u001b[39;49;00m\u001b[43m \u001b[49m\u001b[38;5;28;43;01mFalse\u001b[39;49;00m\u001b[43m,\u001b[49m\n\u001b[1;32m    681\u001b[0m \u001b[43m        \u001b[49m\u001b[43mstream_cls\u001b[49m\u001b[38;5;241;43m=\u001b[39;49m\u001b[43mStream\u001b[49m\u001b[43m[\u001b[49m\u001b[43mChatCompletionChunk\u001b[49m\u001b[43m]\u001b[49m\u001b[43m,\u001b[49m\n\u001b[1;32m    682\u001b[0m \u001b[43m    \u001b[49m\u001b[43m)\u001b[49m\n",
      "File \u001b[0;32m/opt/homebrew/Caskroom/miniconda/base/lib/python3.12/site-packages/openai/_base_client.py:1266\u001b[0m, in \u001b[0;36mSyncAPIClient.post\u001b[0;34m(self, path, cast_to, body, options, files, stream, stream_cls)\u001b[0m\n\u001b[1;32m   1252\u001b[0m \u001b[38;5;28;01mdef\u001b[39;00m \u001b[38;5;21mpost\u001b[39m(\n\u001b[1;32m   1253\u001b[0m     \u001b[38;5;28mself\u001b[39m,\n\u001b[1;32m   1254\u001b[0m     path: \u001b[38;5;28mstr\u001b[39m,\n\u001b[0;32m   (...)\u001b[0m\n\u001b[1;32m   1261\u001b[0m     stream_cls: \u001b[38;5;28mtype\u001b[39m[_StreamT] \u001b[38;5;241m|\u001b[39m \u001b[38;5;28;01mNone\u001b[39;00m \u001b[38;5;241m=\u001b[39m \u001b[38;5;28;01mNone\u001b[39;00m,\n\u001b[1;32m   1262\u001b[0m ) \u001b[38;5;241m-\u001b[39m\u001b[38;5;241m>\u001b[39m ResponseT \u001b[38;5;241m|\u001b[39m _StreamT:\n\u001b[1;32m   1263\u001b[0m     opts \u001b[38;5;241m=\u001b[39m FinalRequestOptions\u001b[38;5;241m.\u001b[39mconstruct(\n\u001b[1;32m   1264\u001b[0m         method\u001b[38;5;241m=\u001b[39m\u001b[38;5;124m\"\u001b[39m\u001b[38;5;124mpost\u001b[39m\u001b[38;5;124m\"\u001b[39m, url\u001b[38;5;241m=\u001b[39mpath, json_data\u001b[38;5;241m=\u001b[39mbody, files\u001b[38;5;241m=\u001b[39mto_httpx_files(files), \u001b[38;5;241m*\u001b[39m\u001b[38;5;241m*\u001b[39moptions\n\u001b[1;32m   1265\u001b[0m     )\n\u001b[0;32m-> 1266\u001b[0m     \u001b[38;5;28;01mreturn\u001b[39;00m cast(ResponseT, \u001b[38;5;28;43mself\u001b[39;49m\u001b[38;5;241;43m.\u001b[39;49m\u001b[43mrequest\u001b[49m\u001b[43m(\u001b[49m\u001b[43mcast_to\u001b[49m\u001b[43m,\u001b[49m\u001b[43m \u001b[49m\u001b[43mopts\u001b[49m\u001b[43m,\u001b[49m\u001b[43m \u001b[49m\u001b[43mstream\u001b[49m\u001b[38;5;241;43m=\u001b[39;49m\u001b[43mstream\u001b[49m\u001b[43m,\u001b[49m\u001b[43m \u001b[49m\u001b[43mstream_cls\u001b[49m\u001b[38;5;241;43m=\u001b[39;49m\u001b[43mstream_cls\u001b[49m\u001b[43m)\u001b[49m)\n",
      "File \u001b[0;32m/opt/homebrew/Caskroom/miniconda/base/lib/python3.12/site-packages/openai/_base_client.py:942\u001b[0m, in \u001b[0;36mSyncAPIClient.request\u001b[0;34m(self, cast_to, options, remaining_retries, stream, stream_cls)\u001b[0m\n\u001b[1;32m    933\u001b[0m \u001b[38;5;28;01mdef\u001b[39;00m \u001b[38;5;21mrequest\u001b[39m(\n\u001b[1;32m    934\u001b[0m     \u001b[38;5;28mself\u001b[39m,\n\u001b[1;32m    935\u001b[0m     cast_to: Type[ResponseT],\n\u001b[0;32m   (...)\u001b[0m\n\u001b[1;32m    940\u001b[0m     stream_cls: \u001b[38;5;28mtype\u001b[39m[_StreamT] \u001b[38;5;241m|\u001b[39m \u001b[38;5;28;01mNone\u001b[39;00m \u001b[38;5;241m=\u001b[39m \u001b[38;5;28;01mNone\u001b[39;00m,\n\u001b[1;32m    941\u001b[0m ) \u001b[38;5;241m-\u001b[39m\u001b[38;5;241m>\u001b[39m ResponseT \u001b[38;5;241m|\u001b[39m _StreamT:\n\u001b[0;32m--> 942\u001b[0m     \u001b[38;5;28;01mreturn\u001b[39;00m \u001b[38;5;28;43mself\u001b[39;49m\u001b[38;5;241;43m.\u001b[39;49m\u001b[43m_request\u001b[49m\u001b[43m(\u001b[49m\n\u001b[1;32m    943\u001b[0m \u001b[43m        \u001b[49m\u001b[43mcast_to\u001b[49m\u001b[38;5;241;43m=\u001b[39;49m\u001b[43mcast_to\u001b[49m\u001b[43m,\u001b[49m\n\u001b[1;32m    944\u001b[0m \u001b[43m        \u001b[49m\u001b[43moptions\u001b[49m\u001b[38;5;241;43m=\u001b[39;49m\u001b[43moptions\u001b[49m\u001b[43m,\u001b[49m\n\u001b[1;32m    945\u001b[0m \u001b[43m        \u001b[49m\u001b[43mstream\u001b[49m\u001b[38;5;241;43m=\u001b[39;49m\u001b[43mstream\u001b[49m\u001b[43m,\u001b[49m\n\u001b[1;32m    946\u001b[0m \u001b[43m        \u001b[49m\u001b[43mstream_cls\u001b[49m\u001b[38;5;241;43m=\u001b[39;49m\u001b[43mstream_cls\u001b[49m\u001b[43m,\u001b[49m\n\u001b[1;32m    947\u001b[0m \u001b[43m        \u001b[49m\u001b[43mremaining_retries\u001b[49m\u001b[38;5;241;43m=\u001b[39;49m\u001b[43mremaining_retries\u001b[49m\u001b[43m,\u001b[49m\n\u001b[1;32m    948\u001b[0m \u001b[43m    \u001b[49m\u001b[43m)\u001b[49m\n",
      "File \u001b[0;32m/opt/homebrew/Caskroom/miniconda/base/lib/python3.12/site-packages/openai/_base_client.py:1046\u001b[0m, in \u001b[0;36mSyncAPIClient._request\u001b[0;34m(self, cast_to, options, remaining_retries, stream, stream_cls)\u001b[0m\n\u001b[1;32m   1043\u001b[0m         err\u001b[38;5;241m.\u001b[39mresponse\u001b[38;5;241m.\u001b[39mread()\n\u001b[1;32m   1045\u001b[0m     log\u001b[38;5;241m.\u001b[39mdebug(\u001b[38;5;124m\"\u001b[39m\u001b[38;5;124mRe-raising status error\u001b[39m\u001b[38;5;124m\"\u001b[39m)\n\u001b[0;32m-> 1046\u001b[0m     \u001b[38;5;28;01mraise\u001b[39;00m \u001b[38;5;28mself\u001b[39m\u001b[38;5;241m.\u001b[39m_make_status_error_from_response(err\u001b[38;5;241m.\u001b[39mresponse) \u001b[38;5;28;01mfrom\u001b[39;00m \u001b[38;5;28;01mNone\u001b[39;00m\n\u001b[1;32m   1048\u001b[0m \u001b[38;5;28;01mreturn\u001b[39;00m \u001b[38;5;28mself\u001b[39m\u001b[38;5;241m.\u001b[39m_process_response(\n\u001b[1;32m   1049\u001b[0m     cast_to\u001b[38;5;241m=\u001b[39mcast_to,\n\u001b[1;32m   1050\u001b[0m     options\u001b[38;5;241m=\u001b[39moptions,\n\u001b[0;32m   (...)\u001b[0m\n\u001b[1;32m   1053\u001b[0m     stream_cls\u001b[38;5;241m=\u001b[39mstream_cls,\n\u001b[1;32m   1054\u001b[0m )\n",
      "\u001b[0;31mAuthenticationError\u001b[0m: Error code: 401 - {'error': {'message': 'Incorrect API key provided: key. You can find your API key at https://platform.openai.com/account/api-keys.', 'type': 'invalid_request_error', 'param': None, 'code': 'invalid_api_key'}}"
     ]
    }
   ],
   "source": [
    "from openai import OpenAI\n",
    "import json\n",
    "\n",
    "# Initialize the OpenAI API client\n",
    "api_key = 'key'\n",
    "\n",
    "\n",
    "client = OpenAI(api_key=api_key)\n",
    "\n",
    "# Define the prompt for classifying generics\n",
    "def create_prompt(sentence):\n",
    "    return (\n",
    "        \"Generics can be categorized into the following five categories: \"\n",
    "        \"Behavioral (e.g., \\\"Fish swim\\\",  \\\"Cars park\\\", \\\"Sugar melts\\\"), Biological (e.g., \\\"Cats have fur\\\", \\\"Sharks have pointy teeth\\\", \\\"Zebras have long necks\\\"), \"\n",
    "        \"Social (e.g., \\\"Zebras share food with group members\\\", \\\"Bees protect the queen\\\", \\\"Wolves travel in packs\\\"), Teleological (e.g., \\\"Bees make honey\\\", \\\"Cars drive\\\", \\\"Clouds provide rain\\\") and Perceptual (e.g., \\\"Whales are big\\\", \\\"Balls are round\\\", \\\"Snow is cold\\\"). \"\n",
    "        \"Behavioral generics are about behavior or what things do; Biological generics mention biological features and characteristics; \"\n",
    "        \"Social generics refer to social behaviors or behaviors or groups; Teleological generics are about functions, purposes, or what things are for; and Perceptual generics are about what things look like, or what they feel, sound or taste like\"\n",
    "        \"For the following sentence, determine if it is a Behavioral, Biological, Social, Teleological or Perceptual generic, \"\n",
    "        \"Return 1 for Behavioral, 2 for Biological, 3 for Social, 4 for Teleological, and 5 for Perceptual. Just return the number, no explanation.\\n\"\n",
    "        f\"Sentence: \\\"{sentence}\\\"\"\n",
    "    )\n",
    "\n",
    "\n",
    "# Function to call the API for each sentence\n",
    "def classify_sentences(sentences):\n",
    "    results = []\n",
    "    for sentence in sentences:\n",
    "        prompt = create_prompt(sentence)\n",
    "        response = client.chat.completions.create(\n",
    "            model=\"gpt-4\",\n",
    "            messages=[\n",
    "                {\"role\": \"system\", \"content\": \"determine the feature type of the generalizing sentence.\"},\n",
    "                {\"role\": \"user\", \"content\": prompt}\n",
    "            ],\n",
    "            max_tokens=1  # Limit the output to 1 token\n",
    "        )\n",
    "        # Extract the model's response\n",
    "        classification = response.choices[0].message.content.strip()\n",
    "        results.append({\"sentence\": sentence, \"classification\": classification})\n",
    "        print(f\"Sentence: \\\"{sentence}\\\" - Classification: {classification}\")\n",
    "    return results\n",
    "\n",
    "# Classify each sentence and save the results to a JSON file\n",
    "classified_sentences = classify_sentences(sentences_list)\n",
    "output_file = 'classified_generics_update.json'\n",
    "\n",
    "with open(output_file, 'w') as f:\n",
    "    json.dump(classified_sentences, f, indent=4)\n",
    "\n",
    "print(f\"Classification results saved to {output_file}\")\n",
    "\n"
   ]
  },
  {
   "cell_type": "code",
   "execution_count": 17,
   "metadata": {},
   "outputs": [
    {
     "name": "stderr",
     "output_type": "stream",
     "text": [
      "INFO:httpx:HTTP Request: POST https://philipp.openai.azure.com//openai/deployments/gpt-4/chat/completions?api-version=2023-05-15 \"HTTP/1.1 200 OK\"\n"
     ]
    },
    {
     "name": "stdout",
     "output_type": "stream",
     "text": [
      "Sentence: \"Sure, injuries are a part of sports.\" - Classification: 1\n"
     ]
    },
    {
     "name": "stderr",
     "output_type": "stream",
     "text": [
      "INFO:httpx:HTTP Request: POST https://philipp.openai.azure.com//openai/deployments/gpt-4/chat/completions?api-version=2023-05-15 \"HTTP/1.1 200 OK\"\n"
     ]
    },
    {
     "name": "stdout",
     "output_type": "stream",
     "text": [
      "Sentence: \"Street luging is an extreme sport that can turn deadly in an instant.\" - Classification: 1\n"
     ]
    },
    {
     "name": "stderr",
     "output_type": "stream",
     "text": [
      "INFO:httpx:HTTP Request: POST https://philipp.openai.azure.com//openai/deployments/gpt-4/chat/completions?api-version=2023-05-15 \"HTTP/1.1 200 OK\"\n"
     ]
    },
    {
     "name": "stdout",
     "output_type": "stream",
     "text": [
      "Sentence: \"The steeper the road, the faster you go.\" - Classification: This\n"
     ]
    },
    {
     "name": "stderr",
     "output_type": "stream",
     "text": [
      "INFO:httpx:HTTP Request: POST https://philipp.openai.azure.com//openai/deployments/gpt-4/chat/completions?api-version=2023-05-15 \"HTTP/1.1 200 OK\"\n"
     ]
    },
    {
     "name": "stdout",
     "output_type": "stream",
     "text": [
      "Sentence: \"Much like a skateboard, you turn by leaning.\" - Classification: 1\n"
     ]
    },
    {
     "name": "stderr",
     "output_type": "stream",
     "text": [
      "INFO:httpx:HTTP Request: POST https://philipp.openai.azure.com//openai/deployments/gpt-4/chat/completions?api-version=2023-05-15 \"HTTP/1.1 200 OK\"\n"
     ]
    },
    {
     "name": "stdout",
     "output_type": "stream",
     "text": [
      "Sentence: \"One false move means road rash or broken bones—or worse.\" - Classification: 1\n"
     ]
    },
    {
     "name": "stderr",
     "output_type": "stream",
     "text": [
      "INFO:httpx:HTTP Request: POST https://philipp.openai.azure.com//openai/deployments/gpt-4/chat/completions?api-version=2023-05-15 \"HTTP/1.1 200 OK\"\n"
     ]
    },
    {
     "name": "stdout",
     "output_type": "stream",
     "text": [
      "Sentence: \"There are other contests worldwide.\" - Classification: This\n"
     ]
    },
    {
     "name": "stderr",
     "output_type": "stream",
     "text": [
      "INFO:httpx:HTTP Request: POST https://philipp.openai.azure.com//openai/deployments/gpt-4/chat/completions?api-version=2023-05-15 \"HTTP/1.1 200 OK\"\n"
     ]
    },
    {
     "name": "stdout",
     "output_type": "stream",
     "text": [
      "Sentence: \"Lugers race side by side to the finish line.\" - Classification: 1\n"
     ]
    },
    {
     "name": "stderr",
     "output_type": "stream",
     "text": [
      "INFO:httpx:HTTP Request: POST https://philipp.openai.azure.com//openai/deployments/gpt-4/chat/completions?api-version=2023-05-15 \"HTTP/1.1 200 OK\"\n"
     ]
    },
    {
     "name": "stdout",
     "output_type": "stream",
     "text": [
      "Sentence: \"A luge board is sometimes called a sled.\" - Classification: 5\n"
     ]
    },
    {
     "name": "stderr",
     "output_type": "stream",
     "text": [
      "INFO:httpx:HTTP Request: POST https://philipp.openai.azure.com//openai/deployments/gpt-4/chat/completions?api-version=2023-05-15 \"HTTP/1.1 200 OK\"\n"
     ]
    },
    {
     "name": "stdout",
     "output_type": "stream",
     "text": [
      "Sentence: \"Lugers wear a hard-shell helmet and leather racing suit and gloves.\" - Classification: 2\n"
     ]
    },
    {
     "name": "stderr",
     "output_type": "stream",
     "text": [
      "INFO:httpx:HTTP Request: POST https://philipp.openai.azure.com//openai/deployments/gpt-4/chat/completions?api-version=2023-05-15 \"HTTP/1.1 200 OK\"\n"
     ]
    },
    {
     "name": "stdout",
     "output_type": "stream",
     "text": [
      "Sentence: \"Most deaths occur at a turn in the road.\" - Classification: 1\n"
     ]
    },
    {
     "name": "stderr",
     "output_type": "stream",
     "text": [
      "INFO:httpx:HTTP Request: POST https://philipp.openai.azure.com//openai/deployments/gpt-4/chat/completions?api-version=2023-05-15 \"HTTP/1.1 200 OK\"\n"
     ]
    },
    {
     "name": "stdout",
     "output_type": "stream",
     "text": [
      "Sentence: \"Riders are going faster than they should and cannot turn sharply enough.\" - Classification: 1\n"
     ]
    },
    {
     "name": "stderr",
     "output_type": "stream",
     "text": [
      "INFO:httpx:HTTP Request: POST https://philipp.openai.azure.com//openai/deployments/gpt-4/chat/completions?api-version=2023-05-15 \"HTTP/1.1 200 OK\"\n"
     ]
    },
    {
     "name": "stdout",
     "output_type": "stream",
     "text": [
      "Sentence: \"Competition courses are often lined with safety barriers such as hay bales.\" - Classification: 4\n"
     ]
    },
    {
     "name": "stderr",
     "output_type": "stream",
     "text": [
      "INFO:httpx:HTTP Request: POST https://philipp.openai.azure.com//openai/deployments/gpt-4/chat/completions?api-version=2023-05-15 \"HTTP/1.1 200 OK\"\n"
     ]
    },
    {
     "name": "stdout",
     "output_type": "stream",
     "text": [
      "Sentence: \"Not all boxing matches end in misery.\" - Classification: 1\n"
     ]
    },
    {
     "name": "stderr",
     "output_type": "stream",
     "text": [
      "INFO:httpx:HTTP Request: POST https://philipp.openai.azure.com//openai/deployments/gpt-4/chat/completions?api-version=2023-05-15 \"HTTP/1.1 200 OK\"\n"
     ]
    },
    {
     "name": "stdout",
     "output_type": "stream",
     "text": [
      "Sentence: \"But boxing is a violent and sometimes tragic sport.\" - Classification: 1\n"
     ]
    },
    {
     "name": "stderr",
     "output_type": "stream",
     "text": [
      "INFO:httpx:HTTP Request: POST https://philipp.openai.azure.com//openai/deployments/gpt-4/chat/completions?api-version=2023-05-15 \"HTTP/1.1 200 OK\"\n"
     ]
    },
    {
     "name": "stdout",
     "output_type": "stream",
     "text": [
      "Sentence: \"A boxer might have trouble keeping his balance.\" - Classification: 1\n"
     ]
    },
    {
     "name": "stderr",
     "output_type": "stream",
     "text": [
      "INFO:httpx:HTTP Request: POST https://philipp.openai.azure.com//openai/deployments/gpt-4/chat/completions?api-version=2023-05-15 \"HTTP/1.1 200 OK\"\n"
     ]
    },
    {
     "name": "stdout",
     "output_type": "stream",
     "text": [
      "Sentence: \"At this point, a hard punch can snap a boxer's head causing his brain to crash into his skull.\" - Classification: 1\n"
     ]
    },
    {
     "name": "stderr",
     "output_type": "stream",
     "text": [
      "INFO:httpx:HTTP Request: POST https://philipp.openai.azure.com//openai/deployments/gpt-4/chat/completions?api-version=2023-05-15 \"HTTP/1.1 200 OK\"\n"
     ]
    },
    {
     "name": "stdout",
     "output_type": "stream",
     "text": [
      "Sentence: \"In the past, boxing matches didn't have many rules.\" - Classification: 1\n"
     ]
    },
    {
     "name": "stderr",
     "output_type": "stream",
     "text": [
      "INFO:httpx:HTTP Request: POST https://philipp.openai.azure.com//openai/deployments/gpt-4/chat/completions?api-version=2023-05-15 \"HTTP/1.1 200 OK\"\n"
     ]
    },
    {
     "name": "stdout",
     "output_type": "stream",
     "text": [
      "Sentence: \"Boxers used to fight bare-fisted.\" - Classification: 1\n"
     ]
    },
    {
     "name": "stderr",
     "output_type": "stream",
     "text": [
      "INFO:httpx:HTTP Request: POST https://philipp.openai.azure.com//openai/deployments/gpt-4/chat/completions?api-version=2023-05-15 \"HTTP/1.1 200 OK\"\n"
     ]
    },
    {
     "name": "stdout",
     "output_type": "stream",
     "text": [
      "Sentence: \"boxers wear padded gloves.\" - Classification: 1\n"
     ]
    },
    {
     "name": "stderr",
     "output_type": "stream",
     "text": [
      "INFO:httpx:HTTP Request: POST https://philipp.openai.azure.com//openai/deployments/gpt-4/chat/completions?api-version=2023-05-15 \"HTTP/1.1 200 OK\"\n"
     ]
    },
    {
     "name": "stdout",
     "output_type": "stream",
     "text": [
      "Sentence: \"Referees receive better training and stop fights more quickly.\" - Classification: 3\n"
     ]
    },
    {
     "name": "stderr",
     "output_type": "stream",
     "text": [
      "INFO:httpx:HTTP Request: POST https://philipp.openai.azure.com//openai/deployments/gpt-4/chat/completions?api-version=2023-05-15 \"HTTP/1.1 200 OK\"\n"
     ]
    },
    {
     "name": "stdout",
     "output_type": "stream",
     "text": [
      "Sentence: \"Matches end after a certain number of rounds, even if the referee doesn't stop the fight first.\" - Classification: 1\n"
     ]
    },
    {
     "name": "stderr",
     "output_type": "stream",
     "text": [
      "INFO:httpx:HTTP Request: POST https://philipp.openai.azure.com//openai/deployments/gpt-4/chat/completions?api-version=2023-05-15 \"HTTP/1.1 200 OK\"\n"
     ]
    },
    {
     "name": "stdout",
     "output_type": "stream",
     "text": [
      "Sentence: \"Bare-fisted boxing has been illegal in the United States for more than one hundred years.\" - Classification: This\n"
     ]
    },
    {
     "name": "stderr",
     "output_type": "stream",
     "text": [
      "INFO:httpx:HTTP Request: POST https://philipp.openai.azure.com//openai/deployments/gpt-4/chat/completions?api-version=2023-05-15 \"HTTP/1.1 200 OK\"\n"
     ]
    },
    {
     "name": "stdout",
     "output_type": "stream",
     "text": [
      "Sentence: \"Jumpers launch themselves from one of these platforms with a parachute.\" - Classification: 1\n"
     ]
    },
    {
     "name": "stderr",
     "output_type": "stream",
     "text": [
      "INFO:httpx:HTTP Request: POST https://philipp.openai.azure.com//openai/deployments/gpt-4/chat/completions?api-version=2023-05-15 \"HTTP/1.1 200 OK\"\n"
     ]
    },
    {
     "name": "stdout",
     "output_type": "stream",
     "text": [
      "Sentence: \"Other times the parachute fails to open.\" - Classification: 4\n"
     ]
    },
    {
     "name": "stderr",
     "output_type": "stream",
     "text": [
      "INFO:httpx:HTTP Request: POST https://philipp.openai.azure.com//openai/deployments/gpt-4/chat/completions?api-version=2023-05-15 \"HTTP/1.1 200 OK\"\n"
     ]
    },
    {
     "name": "stdout",
     "output_type": "stream",
     "text": [
      "Sentence: \"BASE jumping is eight times more deadly than skydiving from an airplane.\" - Classification: 1\n"
     ]
    },
    {
     "name": "stderr",
     "output_type": "stream",
     "text": [
      "INFO:httpx:HTTP Request: POST https://philipp.openai.azure.com//openai/deployments/gpt-4/chat/completions?api-version=2023-05-15 \"HTTP/1.1 200 OK\"\n"
     ]
    },
    {
     "name": "stdout",
     "output_type": "stream",
     "text": [
      "Sentence: \"Jumpers have only a few seconds to position their bodies and pull their parachute cords.\" - Classification: 1\n"
     ]
    },
    {
     "name": "stderr",
     "output_type": "stream",
     "text": [
      "INFO:httpx:HTTP Request: POST https://philipp.openai.azure.com//openai/deployments/gpt-4/chat/completions?api-version=2023-05-15 \"HTTP/1.1 200 OK\"\n"
     ]
    },
    {
     "name": "stdout",
     "output_type": "stream",
     "text": [
      "Sentence: \"If the jumper is tumbling or upside down and can't open his parachute in time, the result is likely fatal.\" - Classification: 1\n"
     ]
    },
    {
     "name": "stderr",
     "output_type": "stream",
     "text": [
      "INFO:httpx:HTTP Request: POST https://philipp.openai.azure.com//openai/deployments/gpt-4/chat/completions?api-version=2023-05-15 \"HTTP/1.1 200 OK\"\n"
     ]
    },
    {
     "name": "stdout",
     "output_type": "stream",
     "text": [
      "Sentence: \"BASE jumping is not always illegal.\" - Classification: 1\n"
     ]
    },
    {
     "name": "stderr",
     "output_type": "stream",
     "text": [
      "INFO:httpx:HTTP Request: POST https://philipp.openai.azure.com//openai/deployments/gpt-4/chat/completions?api-version=2023-05-15 \"HTTP/1.1 200 OK\"\n"
     ]
    },
    {
     "name": "stdout",
     "output_type": "stream",
     "text": [
      "Sentence: \"Cave diving is a thrilling sport—until things go wrong.\" - Classification: 1\n"
     ]
    },
    {
     "name": "stderr",
     "output_type": "stream",
     "text": [
      "INFO:httpx:HTTP Request: POST https://philipp.openai.azure.com//openai/deployments/gpt-4/chat/completions?api-version=2023-05-15 \"HTTP/1.1 200 OK\"\n"
     ]
    },
    {
     "name": "stdout",
     "output_type": "stream",
     "text": [
      "Sentence: \"Cave diving is like deep-sea diving.\" - Classification: 1\n"
     ]
    },
    {
     "name": "stderr",
     "output_type": "stream",
     "text": [
      "INFO:httpx:HTTP Request: POST https://philipp.openai.azure.com//openai/deployments/gpt-4/chat/completions?api-version=2023-05-15 \"HTTP/1.1 200 OK\"\n"
     ]
    },
    {
     "name": "stdout",
     "output_type": "stream",
     "text": [
      "Sentence: \"Divers carry their own source of air.\" - Classification: 1\n"
     ]
    },
    {
     "name": "stderr",
     "output_type": "stream",
     "text": [
      "INFO:httpx:HTTP Request: POST https://philipp.openai.azure.com//openai/deployments/gpt-4/chat/completions?api-version=2023-05-15 \"HTTP/1.1 200 OK\"\n"
     ]
    },
    {
     "name": "stdout",
     "output_type": "stream",
     "text": [
      "Sentence: \"And coming up too quickly from a dive can cause brain damage or death.\" - Classification: 1\n"
     ]
    },
    {
     "name": "stderr",
     "output_type": "stream",
     "text": [
      "INFO:httpx:HTTP Request: POST https://philipp.openai.azure.com//openai/deployments/gpt-4/chat/completions?api-version=2023-05-15 \"HTTP/1.1 200 OK\"\n"
     ]
    },
    {
     "name": "stdout",
     "output_type": "stream",
     "text": [
      "Sentence: \"Smart divers practice the rule of thirds.\" - Classification: 1\n"
     ]
    },
    {
     "name": "stderr",
     "output_type": "stream",
     "text": [
      "INFO:httpx:HTTP Request: POST https://philipp.openai.azure.com//openai/deployments/gpt-4/chat/completions?api-version=2023-05-15 \"HTTP/1.1 200 OK\"\n"
     ]
    },
    {
     "name": "stdout",
     "output_type": "stream",
     "text": [
      "Sentence: \"One-third of a diver's air supply is used for entering a cave.\" - Classification: 4\n"
     ]
    },
    {
     "name": "stderr",
     "output_type": "stream",
     "text": [
      "INFO:httpx:HTTP Request: POST https://philipp.openai.azure.com//openai/deployments/gpt-4/chat/completions?api-version=2023-05-15 \"HTTP/1.1 200 OK\"\n"
     ]
    },
    {
     "name": "stdout",
     "output_type": "stream",
     "text": [
      "Sentence: \"Getting lost is another risk.\" - Classification: 1\n"
     ]
    },
    {
     "name": "stderr",
     "output_type": "stream",
     "text": [
      "INFO:httpx:HTTP Request: POST https://philipp.openai.azure.com//openai/deployments/gpt-4/chat/completions?api-version=2023-05-15 \"HTTP/1.1 200 OK\"\n"
     ]
    },
    {
     "name": "stdout",
     "output_type": "stream",
     "text": [
      "Sentence: \"Unexpected water currents can pull a diver away from the group.\" - Classification: 1\n"
     ]
    },
    {
     "name": "stderr",
     "output_type": "stream",
     "text": [
      "INFO:httpx:HTTP Request: POST https://philipp.openai.azure.com//openai/deployments/gpt-4/chat/completions?api-version=2023-05-15 \"HTTP/1.1 200 OK\"\n"
     ]
    },
    {
     "name": "stdout",
     "output_type": "stream",
     "text": [
      "Sentence: \"But exploring water-filled caves is a challenge that some people just can't resist.\" - Classification: 1\n"
     ]
    },
    {
     "name": "stderr",
     "output_type": "stream",
     "text": [
      "INFO:httpx:HTTP Request: POST https://philipp.openai.azure.com//openai/deployments/gpt-4/chat/completions?api-version=2023-05-15 \"HTTP/1.1 200 OK\"\n"
     ]
    },
    {
     "name": "stdout",
     "output_type": "stream",
     "text": [
      "Sentence: \"Freestyle motocross (FMX) riders perform jumps and stunts to impress judges.\" - Classification: 1\n"
     ]
    },
    {
     "name": "stderr",
     "output_type": "stream",
     "text": [
      "INFO:httpx:HTTP Request: POST https://philipp.openai.azure.com//openai/deployments/gpt-4/chat/completions?api-version=2023-05-15 \"HTTP/1.1 200 OK\"\n"
     ]
    },
    {
     "name": "stdout",
     "output_type": "stream",
     "text": [
      "Sentence: \"There are usually two FMX events.\" - Classification: 1\n"
     ]
    },
    {
     "name": "stderr",
     "output_type": "stream",
     "text": [
      "INFO:httpx:HTTP Request: POST https://philipp.openai.azure.com//openai/deployments/gpt-4/chat/completions?api-version=2023-05-15 \"HTTP/1.1 200 OK\"\n"
     ]
    },
    {
     "name": "stdout",
     "output_type": "stream",
     "text": [
      "Sentence: \"Standard freestyle takes place on a course with several jumps.\" - Classification: 1\n"
     ]
    },
    {
     "name": "stderr",
     "output_type": "stream",
     "text": [
      "INFO:httpx:HTTP Request: POST https://philipp.openai.azure.com//openai/deployments/gpt-4/chat/completions?api-version=2023-05-15 \"HTTP/1.1 200 OK\"\n"
     ]
    },
    {
     "name": "stdout",
     "output_type": "stream",
     "text": [
      "Sentence: \"Riders execute as many wild tricks as they can in a certain amount of time.\" - Classification: 1\n"
     ]
    },
    {
     "name": "stderr",
     "output_type": "stream",
     "text": [
      "INFO:httpx:HTTP Request: POST https://philipp.openai.azure.com//openai/deployments/gpt-4/chat/completions?api-version=2023-05-15 \"HTTP/1.1 200 OK\"\n"
     ]
    },
    {
     "name": "stdout",
     "output_type": "stream",
     "text": [
      "Sentence: \"Riders soar 100 feet(30m) through the air.\" - Classification: 1\n"
     ]
    },
    {
     "name": "stderr",
     "output_type": "stream",
     "text": [
      "INFO:httpx:HTTP Request: POST https://philipp.openai.azure.com//openai/deployments/gpt-4/chat/completions?api-version=2023-05-15 \"HTTP/1.1 200 OK\"\n"
     ]
    },
    {
     "name": "stdout",
     "output_type": "stream",
     "text": [
      "Sentence: \"People aren't built to fly, of course.\" - Classification: 2\n"
     ]
    },
    {
     "name": "stderr",
     "output_type": "stream",
     "text": [
      "INFO:httpx:HTTP Request: POST https://philipp.openai.azure.com//openai/deployments/gpt-4/chat/completions?api-version=2023-05-15 \"HTTP/1.1 200 OK\"\n"
     ]
    },
    {
     "name": "stdout",
     "output_type": "stream",
     "text": [
      "Sentence: \"Free solo climbing is the most dangerous form of rock climbing.\" - Classification: 5\n"
     ]
    },
    {
     "name": "stderr",
     "output_type": "stream",
     "text": [
      "INFO:httpx:HTTP Request: POST https://philipp.openai.azure.com//openai/deployments/gpt-4/chat/completions?api-version=2023-05-15 \"HTTP/1.1 200 OK\"\n"
     ]
    },
    {
     "name": "stdout",
     "output_type": "stream",
     "text": [
      "Sentence: \"If you fall, you die.\" - Classification: 1\n"
     ]
    },
    {
     "name": "stderr",
     "output_type": "stream",
     "text": [
      "INFO:httpx:HTTP Request: POST https://philipp.openai.azure.com//openai/deployments/gpt-4/chat/completions?api-version=2023-05-15 \"HTTP/1.1 200 OK\"\n"
     ]
    },
    {
     "name": "stdout",
     "output_type": "stream",
     "text": [
      "Sentence: \"There are many styles of rock climbing.\" - Classification: 5\n"
     ]
    },
    {
     "name": "stderr",
     "output_type": "stream",
     "text": [
      "INFO:httpx:HTTP Request: POST https://philipp.openai.azure.com//openai/deployments/gpt-4/chat/completions?api-version=2023-05-15 \"HTTP/1.1 200 OK\"\n"
     ]
    },
    {
     "name": "stdout",
     "output_type": "stream",
     "text": [
      "Sentence: \"In most styles, climbers use ropes and harnesses to keep from falling.\" - Classification: 1\n"
     ]
    },
    {
     "name": "stderr",
     "output_type": "stream",
     "text": [
      "INFO:httpx:HTTP Request: POST https://philipp.openai.azure.com//openai/deployments/gpt-4/chat/completions?api-version=2023-05-15 \"HTTP/1.1 200 OK\"\n"
     ]
    },
    {
     "name": "stdout",
     "output_type": "stream",
     "text": [
      "Sentence: \"Teams of climbers help one another and provide extra safety.\" - Classification: 3\n"
     ]
    },
    {
     "name": "stderr",
     "output_type": "stream",
     "text": [
      "INFO:httpx:HTTP Request: POST https://philipp.openai.azure.com//openai/deployments/gpt-4/chat/completions?api-version=2023-05-15 \"HTTP/1.1 200 OK\"\n"
     ]
    },
    {
     "name": "stdout",
     "output_type": "stream",
     "text": [
      "Sentence: \"Still, all forms of climbing are dangerous.\" - Classification: 1\n"
     ]
    },
    {
     "name": "stderr",
     "output_type": "stream",
     "text": [
      "INFO:httpx:HTTP Request: POST https://philipp.openai.azure.com//openai/deployments/gpt-4/chat/completions?api-version=2023-05-15 \"HTTP/1.1 200 OK\"\n"
     ]
    },
    {
     "name": "stdout",
     "output_type": "stream",
     "text": [
      "Sentence: \"Climbing a sheer rock face takes concentration.\" - Classification: 1\n"
     ]
    },
    {
     "name": "stderr",
     "output_type": "stream",
     "text": [
      "INFO:httpx:HTTP Request: POST https://philipp.openai.azure.com//openai/deployments/gpt-4/chat/completions?api-version=2023-05-15 \"HTTP/1.1 200 OK\"\n"
     ]
    },
    {
     "name": "stdout",
     "output_type": "stream",
     "text": [
      "Sentence: \"Water can seep from cracks, making the surface slippery.\" - Classification: 1\n"
     ]
    },
    {
     "name": "stderr",
     "output_type": "stream",
     "text": [
      "INFO:httpx:HTTP Request: POST https://philipp.openai.azure.com//openai/deployments/gpt-4/chat/completions?api-version=2023-05-15 \"HTTP/1.1 200 OK\"\n"
     ]
    },
    {
     "name": "stdout",
     "output_type": "stream",
     "text": [
      "Sentence: \"Any part of the rock can crumble.\" - Classification: 4\n"
     ]
    },
    {
     "name": "stderr",
     "output_type": "stream",
     "text": [
      "INFO:httpx:HTTP Request: POST https://philipp.openai.azure.com//openai/deployments/gpt-4/chat/completions?api-version=2023-05-15 \"HTTP/1.1 200 OK\"\n"
     ]
    },
    {
     "name": "stdout",
     "output_type": "stream",
     "text": [
      "Sentence: \"Most free solo climbers learn on a climbing wall.\" - Classification: 1\n"
     ]
    },
    {
     "name": "stderr",
     "output_type": "stream",
     "text": [
      "INFO:httpx:HTTP Request: POST https://philipp.openai.azure.com//openai/deployments/gpt-4/chat/completions?api-version=2023-05-15 \"HTTP/1.1 200 OK\"\n"
     ]
    },
    {
     "name": "stdout",
     "output_type": "stream",
     "text": [
      "Sentence: \"Heli-skiing is downhill skiing in the wilderness.\" - Classification: 1\n"
     ]
    },
    {
     "name": "stderr",
     "output_type": "stream",
     "text": [
      "INFO:httpx:HTTP Request: POST https://philipp.openai.azure.com//openai/deployments/gpt-4/chat/completions?api-version=2023-05-15 \"HTTP/1.1 200 OK\"\n"
     ]
    },
    {
     "name": "stdout",
     "output_type": "stream",
     "text": [
      "Sentence: \"Heli-boarding is using a snowboard instead.\" - Classification: 1\n"
     ]
    },
    {
     "name": "stderr",
     "output_type": "stream",
     "text": [
      "INFO:httpx:HTTP Request: POST https://philipp.openai.azure.com//openai/deployments/gpt-4/chat/completions?api-version=2023-05-15 \"HTTP/1.1 200 OK\"\n"
     ]
    },
    {
     "name": "stdout",
     "output_type": "stream",
     "text": [
      "Sentence: \"Mountain weather can change suddenly -- and make a helicopter ride much more dangerous.\" - Classification: 4\n"
     ]
    },
    {
     "name": "stderr",
     "output_type": "stream",
     "text": [
      "INFO:httpx:HTTP Request: POST https://philipp.openai.azure.com//openai/deployments/gpt-4/chat/completions?api-version=2023-05-15 \"HTTP/1.1 200 OK\"\n"
     ]
    },
    {
     "name": "stdout",
     "output_type": "stream",
     "text": [
      "Sentence: \"Heli-skiing can turn deadly in an instant.\" - Classification: 1\n"
     ]
    },
    {
     "name": "stderr",
     "output_type": "stream",
     "text": [
      "INFO:httpx:HTTP Request: POST https://philipp.openai.azure.com//openai/deployments/gpt-4/chat/completions?api-version=2023-05-15 \"HTTP/1.1 200 OK\"\n"
     ]
    },
    {
     "name": "stdout",
     "output_type": "stream",
     "text": [
      "Sentence: \"Any sound or movement can trigger tons of snow to rush down the mountain at 100 miles (160 km) per hour.\" - Classification: 1\n"
     ]
    },
    {
     "name": "stderr",
     "output_type": "stream",
     "text": [
      "INFO:httpx:HTTP Request: POST https://philipp.openai.azure.com//openai/deployments/gpt-4/chat/completions?api-version=2023-05-15 \"HTTP/1.1 200 OK\"\n"
     ]
    },
    {
     "name": "stdout",
     "output_type": "stream",
     "text": [
      "Sentence: \"Most people don't escape alive.\" - Classification: 3\n"
     ]
    },
    {
     "name": "stderr",
     "output_type": "stream",
     "text": [
      "INFO:httpx:HTTP Request: POST https://philipp.openai.azure.com//openai/deployments/gpt-4/chat/completions?api-version=2023-05-15 \"HTTP/1.1 200 OK\"\n"
     ]
    },
    {
     "name": "stdout",
     "output_type": "stream",
     "text": [
      "Sentence: \"A wave must be at least 20 feet (6 m) tall to be considered a \"big\" wave.\" - Classification: 5\n"
     ]
    },
    {
     "name": "stderr",
     "output_type": "stream",
     "text": [
      "INFO:httpx:HTTP Request: POST https://philipp.openai.azure.com//openai/deployments/gpt-4/chat/completions?api-version=2023-05-15 \"HTTP/1.1 200 OK\"\n"
     ]
    },
    {
     "name": "stdout",
     "output_type": "stream",
     "text": [
      "Sentence: \"Surfing in such conditions can be deadly.\" - Classification: 4\n"
     ]
    },
    {
     "name": "stderr",
     "output_type": "stream",
     "text": [
      "INFO:httpx:HTTP Request: POST https://philipp.openai.azure.com//openai/deployments/gpt-4/chat/completions?api-version=2023-05-15 \"HTTP/1.1 200 OK\"\n"
     ]
    },
    {
     "name": "stdout",
     "output_type": "stream",
     "text": [
      "Sentence: \"A JetSki or helicopter will tow you to the top of a wave.\" - Classification: 4\n"
     ]
    },
    {
     "name": "stderr",
     "output_type": "stream",
     "text": [
      "INFO:httpx:HTTP Request: POST https://philipp.openai.azure.com//openai/deployments/gpt-4/chat/completions?api-version=2023-05-15 \"HTTP/1.1 200 OK\"\n"
     ]
    },
    {
     "name": "stdout",
     "output_type": "stream",
     "text": [
      "Sentence: \"Big waves generate powerful force.\" - Classification: 4\n"
     ]
    },
    {
     "name": "stderr",
     "output_type": "stream",
     "text": [
      "INFO:httpx:HTTP Request: POST https://philipp.openai.azure.com//openai/deployments/gpt-4/chat/completions?api-version=2023-05-15 \"HTTP/1.1 200 OK\"\n"
     ]
    },
    {
     "name": "stdout",
     "output_type": "stream",
     "text": [
      "Sentence: \"Your neck can snap like a twig.\" - Classification: 2\n"
     ]
    },
    {
     "name": "stderr",
     "output_type": "stream",
     "text": [
      "INFO:httpx:HTTP Request: POST https://philipp.openai.azure.com//openai/deployments/gpt-4/chat/completions?api-version=2023-05-15 \"HTTP/1.1 200 OK\"\n"
     ]
    },
    {
     "name": "stdout",
     "output_type": "stream",
     "text": [
      "Sentence: \"The wave's force can spin you dizzy.\" - Classification: 4\n"
     ]
    },
    {
     "name": "stderr",
     "output_type": "stream",
     "text": [
      "INFO:httpx:HTTP Request: POST https://philipp.openai.azure.com//openai/deployments/gpt-4/chat/completions?api-version=2023-05-15 \"HTTP/1.1 200 OK\"\n"
     ]
    },
    {
     "name": "stdout",
     "output_type": "stream",
     "text": [
      "Sentence: \"A fall of 60 feet(18m) or more, even landing in water, isn't safe.\" - Classification: 4\n"
     ]
    },
    {
     "name": "stderr",
     "output_type": "stream",
     "text": [
      "INFO:httpx:HTTP Request: POST https://philipp.openai.azure.com//openai/deployments/gpt-4/chat/completions?api-version=2023-05-15 \"HTTP/1.1 200 OK\"\n"
     ]
    },
    {
     "name": "stdout",
     "output_type": "stream",
     "text": [
      "Sentence: \"Traveling at dangerously high speeds like that is a recipe for disaster.\" - Classification: This\n"
     ]
    },
    {
     "name": "stderr",
     "output_type": "stream",
     "text": [
      "INFO:httpx:HTTP Request: POST https://philipp.openai.azure.com//openai/deployments/gpt-4/chat/completions?api-version=2023-05-15 \"HTTP/1.1 200 OK\"\n"
     ]
    },
    {
     "name": "stdout",
     "output_type": "stream",
     "text": [
      "Sentence: \"A race car driver is four times more likely to be killed than a boxer and thirty times more likely than a football player.\" - Classification: This\n"
     ]
    },
    {
     "name": "stderr",
     "output_type": "stream",
     "text": [
      "INFO:httpx:HTTP Request: POST https://philipp.openai.azure.com//openai/deployments/gpt-4/chat/completions?api-version=2023-05-15 \"HTTP/1.1 200 OK\"\n"
     ]
    },
    {
     "name": "stdout",
     "output_type": "stream",
     "text": [
      "Sentence: \"IndyCar racing is among the most dangerous forms of auto racing.\" - Classification: This\n"
     ]
    },
    {
     "name": "stderr",
     "output_type": "stream",
     "text": [
      "INFO:httpx:HTTP Request: POST https://philipp.openai.azure.com//openai/deployments/gpt-4/chat/completions?api-version=2023-05-15 \"HTTP/1.1 200 OK\"\n"
     ]
    },
    {
     "name": "stdout",
     "output_type": "stream",
     "text": [
      "Sentence: \"People also call it open-wheel racing.\" - Classification: 4\n"
     ]
    },
    {
     "name": "stderr",
     "output_type": "stream",
     "text": [
      "INFO:httpx:HTTP Request: POST https://philipp.openai.azure.com//openai/deployments/gpt-4/chat/completions?api-version=2023-05-15 \"HTTP/1.1 200 OK\"\n"
     ]
    },
    {
     "name": "stdout",
     "output_type": "stream",
     "text": [
      "Sentence: \"The open wheels make any contact with another car potentially disastrous.\" - Classification: 4\n"
     ]
    },
    {
     "name": "stderr",
     "output_type": "stream",
     "text": [
      "INFO:httpx:HTTP Request: POST https://philipp.openai.azure.com//openai/deployments/gpt-4/chat/completions?api-version=2023-05-15 \"HTTP/1.1 200 OK\"\n"
     ]
    },
    {
     "name": "stdout",
     "output_type": "stream",
     "text": [
      "Sentence: \"Drivers aren't the only ones in danger at a car race.\" - Classification: 3\n"
     ]
    },
    {
     "name": "stderr",
     "output_type": "stream",
     "text": [
      "INFO:httpx:HTTP Request: POST https://philipp.openai.azure.com//openai/deployments/gpt-4/chat/completions?api-version=2023-05-15 \"HTTP/1.1 200 OK\"\n"
     ]
    },
    {
     "name": "stdout",
     "output_type": "stream",
     "text": [
      "Sentence: \"Racetracks are safer for fans these days.\" - Classification: 4\n"
     ]
    },
    {
     "name": "stderr",
     "output_type": "stream",
     "text": [
      "INFO:httpx:HTTP Request: POST https://philipp.openai.azure.com//openai/deployments/gpt-4/chat/completions?api-version=2023-05-15 \"HTTP/1.1 200 OK\"\n"
     ]
    },
    {
     "name": "stdout",
     "output_type": "stream",
     "text": [
      "Sentence: \"Fences in place to protect fans are made of steel wire mesh.\" - Classification: 4\n"
     ]
    },
    {
     "name": "stderr",
     "output_type": "stream",
     "text": [
      "INFO:httpx:HTTP Request: POST https://philipp.openai.azure.com//openai/deployments/gpt-4/chat/completions?api-version=2023-05-15 \"HTTP/1.1 200 OK\"\n"
     ]
    },
    {
     "name": "stdout",
     "output_type": "stream",
     "text": [
      "Sentence: \"IndyCar racing is getting safer.\" - Classification: 1\n"
     ]
    },
    {
     "name": "stderr",
     "output_type": "stream",
     "text": [
      "INFO:httpx:HTTP Request: POST https://philipp.openai.azure.com//openai/deployments/gpt-4/chat/completions?api-version=2023-05-15 \"HTTP/1.1 200 OK\"\n"
     ]
    },
    {
     "name": "stdout",
     "output_type": "stream",
     "text": [
      "Sentence: \"Drivers wear full-face helmets and fireproof suits.\" - Classification: 1\n"
     ]
    },
    {
     "name": "stderr",
     "output_type": "stream",
     "text": [
      "INFO:httpx:HTTP Request: POST https://philipp.openai.azure.com//openai/deployments/gpt-4/chat/completions?api-version=2023-05-15 \"HTTP/1.1 200 OK\"\n"
     ]
    },
    {
     "name": "stdout",
     "output_type": "stream",
     "text": [
      "Sentence: \"Usually, a driver climbs out of a fiery wreck.\" - Classification: 1\n"
     ]
    },
    {
     "name": "stderr",
     "output_type": "stream",
     "text": [
      "INFO:httpx:HTTP Request: POST https://philipp.openai.azure.com//openai/deployments/gpt-4/chat/completions?api-version=2023-05-15 \"HTTP/1.1 200 OK\"\n"
     ]
    },
    {
     "name": "stdout",
     "output_type": "stream",
     "text": [
      "Sentence: \"And as long as people race, people are going to die.\" - Classification: 3\n"
     ]
    },
    {
     "name": "stderr",
     "output_type": "stream",
     "text": [
      "INFO:httpx:HTTP Request: POST https://philipp.openai.azure.com//openai/deployments/gpt-4/chat/completions?api-version=2023-05-15 \"HTTP/1.1 200 OK\"\n"
     ]
    },
    {
     "name": "stdout",
     "output_type": "stream",
     "text": [
      "Sentence: \"Millions of people have pets.\" - Classification: 2\n"
     ]
    },
    {
     "name": "stderr",
     "output_type": "stream",
     "text": [
      "INFO:httpx:HTTP Request: POST https://philipp.openai.azure.com//openai/deployments/gpt-4/chat/completions?api-version=2023-05-15 \"HTTP/1.1 200 OK\"\n"
     ]
    },
    {
     "name": "stdout",
     "output_type": "stream",
     "text": [
      "Sentence: \"Ferrets are long and skinny and furry -- kind of like a big fuzzy scarf.\" - Classification: 5\n"
     ]
    },
    {
     "name": "stderr",
     "output_type": "stream",
     "text": [
      "INFO:httpx:HTTP Request: POST https://philipp.openai.azure.com//openai/deployments/gpt-4/chat/completions?api-version=2023-05-15 \"HTTP/1.1 200 OK\"\n"
     ]
    },
    {
     "name": "stdout",
     "output_type": "stream",
     "text": [
      "Sentence: \"Using their sharp teeth, wild ferrets hunt and kill smaller animals for their food.\" - Classification: 1\n"
     ]
    },
    {
     "name": "stderr",
     "output_type": "stream",
     "text": [
      "INFO:httpx:HTTP Request: POST https://philipp.openai.azure.com//openai/deployments/gpt-4/chat/completions?api-version=2023-05-15 \"HTTP/1.1 200 OK\"\n"
     ]
    },
    {
     "name": "stdout",
     "output_type": "stream",
     "text": [
      "Sentence: \"Pet ferrets need a diet with lots of meat in it as well.\" - Classification: 4\n"
     ]
    },
    {
     "name": "stderr",
     "output_type": "stream",
     "text": [
      "INFO:httpx:HTTP Request: POST https://philipp.openai.azure.com//openai/deployments/gpt-4/chat/completions?api-version=2023-05-15 \"HTTP/1.1 200 OK\"\n"
     ]
    },
    {
     "name": "stdout",
     "output_type": "stream",
     "text": [
      "Sentence: \"Ferrets are happy, active pets who need lots of attention.\" - Classification: 2\n"
     ]
    },
    {
     "name": "stderr",
     "output_type": "stream",
     "text": [
      "INFO:httpx:HTTP Request: POST https://philipp.openai.azure.com//openai/deployments/gpt-4/chat/completions?api-version=2023-05-15 \"HTTP/1.1 200 OK\"\n"
     ]
    },
    {
     "name": "stdout",
     "output_type": "stream",
     "text": [
      "Sentence: \"Ferrets like to play with other ferrets, so you might want to think about getting more than one.\" - Classification: 3\n"
     ]
    },
    {
     "name": "stderr",
     "output_type": "stream",
     "text": [
      "INFO:httpx:HTTP Request: POST https://philipp.openai.azure.com//openai/deployments/gpt-4/chat/completions?api-version=2023-05-15 \"HTTP/1.1 200 OK\"\n"
     ]
    },
    {
     "name": "stdout",
     "output_type": "stream",
     "text": [
      "Sentence: \"Ferrets need time out of their cage to play with you every day, too.\" - Classification: 4\n"
     ]
    },
    {
     "name": "stderr",
     "output_type": "stream",
     "text": [
      "INFO:httpx:HTTP Request: POST https://philipp.openai.azure.com//openai/deployments/gpt-4/chat/completions?api-version=2023-05-15 \"HTTP/1.1 200 OK\"\n"
     ]
    },
    {
     "name": "stdout",
     "output_type": "stream",
     "text": [
      "Sentence: \"The dust helps remove oil that builds up on their skin.\" - Classification: 4\n"
     ]
    },
    {
     "name": "stderr",
     "output_type": "stream",
     "text": [
      "INFO:httpx:HTTP Request: POST https://philipp.openai.azure.com//openai/deployments/gpt-4/chat/completions?api-version=2023-05-15 \"HTTP/1.1 200 OK\"\n"
     ]
    },
    {
     "name": "stdout",
     "output_type": "stream",
     "text": [
      "Sentence: \"Chinchillas are rodents, which means they need to chew on things.\" - Classification: 2\n"
     ]
    },
    {
     "name": "stderr",
     "output_type": "stream",
     "text": [
      "INFO:httpx:HTTP Request: POST https://philipp.openai.azure.com//openai/deployments/gpt-4/chat/completions?api-version=2023-05-15 \"HTTP/1.1 200 OK\"\n"
     ]
    },
    {
     "name": "stdout",
     "output_type": "stream",
     "text": [
      "Sentence: \"They’ll need hard branches to chew on to keep their teeth healthy.\" - Classification: 4\n"
     ]
    },
    {
     "name": "stderr",
     "output_type": "stream",
     "text": [
      "INFO:httpx:HTTP Request: POST https://philipp.openai.azure.com//openai/deployments/gpt-4/chat/completions?api-version=2023-05-15 \"HTTP/1.1 200 OK\"\n"
     ]
    },
    {
     "name": "stdout",
     "output_type": "stream",
     "text": [
      "Sentence: \"Performing Pigs -- Pigs are among the smartest animals around.\" - Classification: 2\n"
     ]
    },
    {
     "name": "stderr",
     "output_type": "stream",
     "text": [
      "INFO:httpx:HTTP Request: POST https://philipp.openai.azure.com//openai/deployments/gpt-4/chat/completions?api-version=2023-05-15 \"HTTP/1.1 200 OK\"\n"
     ]
    },
    {
     "name": "stdout",
     "output_type": "stream",
     "text": [
      "Sentence: \"They can be trained to walk on leashes, slam dunk basketballs, play piano, play soccer, jump through hoops, dance, ride skateboards, and do lots of other tricks.\" - Classification: 1\n"
     ]
    },
    {
     "name": "stderr",
     "output_type": "stream",
     "text": [
      "INFO:httpx:HTTP Request: POST https://philipp.openai.azure.com//openai/deployments/gpt-4/chat/completions?api-version=2023-05-15 \"HTTP/1.1 200 OK\"\n"
     ]
    },
    {
     "name": "stdout",
     "output_type": "stream",
     "text": [
      "Sentence: \"If you only think pigs are big, pink animals that like to live in mud, think again.\" - Classification: 2\n"
     ]
    },
    {
     "name": "stderr",
     "output_type": "stream",
     "text": [
      "INFO:httpx:HTTP Request: POST https://philipp.openai.azure.com//openai/deployments/gpt-4/chat/completions?api-version=2023-05-15 \"HTTP/1.1 200 OK\"\n"
     ]
    },
    {
     "name": "stdout",
     "output_type": "stream",
     "text": [
      "Sentence: \"Pot-bellied pigs are dark-skinned and sort of hairy.\" - Classification: 2\n"
     ]
    },
    {
     "name": "stderr",
     "output_type": "stream",
     "text": [
      "INFO:httpx:HTTP Request: POST https://philipp.openai.azure.com//openai/deployments/gpt-4/chat/completions?api-version=2023-05-15 \"HTTP/1.1 200 OK\"\n"
     ]
    },
    {
     "name": "stdout",
     "output_type": "stream",
     "text": [
      "Sentence: \"You can teach these pigs to do tricks.\" - Classification: 1\n"
     ]
    },
    {
     "name": "stderr",
     "output_type": "stream",
     "text": [
      "INFO:httpx:HTTP Request: POST https://philipp.openai.azure.com//openai/deployments/gpt-4/chat/completions?api-version=2023-05-15 \"HTTP/1.1 200 OK\"\n"
     ]
    },
    {
     "name": "stdout",
     "output_type": "stream",
     "text": [
      "Sentence: \"Plus, they eat like, well... pigs.\" - Classification: 1\n"
     ]
    },
    {
     "name": "stderr",
     "output_type": "stream",
     "text": [
      "INFO:httpx:HTTP Request: POST https://philipp.openai.azure.com//openai/deployments/gpt-4/chat/completions?api-version=2023-05-15 \"HTTP/1.1 200 OK\"\n"
     ]
    },
    {
     "name": "stdout",
     "output_type": "stream",
     "text": [
      "Sentence: \"Pot-bellied pigs need very patient owners!\" - Classification: 3\n"
     ]
    },
    {
     "name": "stderr",
     "output_type": "stream",
     "text": [
      "INFO:httpx:HTTP Request: POST https://philipp.openai.azure.com//openai/deployments/gpt-4/chat/completions?api-version=2023-05-15 \"HTTP/1.1 200 OK\"\n"
     ]
    },
    {
     "name": "stdout",
     "output_type": "stream",
     "text": [
      "Sentence: \"You may think all furry pets are cuddly, but hedgehogs are not.\" - Classification: 2\n"
     ]
    },
    {
     "name": "stderr",
     "output_type": "stream",
     "text": [
      "INFO:httpx:HTTP Request: POST https://philipp.openai.azure.com//openai/deployments/gpt-4/chat/completions?api-version=2023-05-15 \"HTTP/1.1 200 OK\"\n"
     ]
    },
    {
     "name": "stdout",
     "output_type": "stream",
     "text": [
      "Sentence: \"When they feel scared, hedgehogs roll up into a tight little ball with the spines poking out.\" - Classification: 1\n"
     ]
    },
    {
     "name": "stderr",
     "output_type": "stream",
     "text": [
      "INFO:httpx:HTTP Request: POST https://philipp.openai.azure.com//openai/deployments/gpt-4/chat/completions?api-version=2023-05-15 \"HTTP/1.1 200 OK\"\n"
     ]
    },
    {
     "name": "stdout",
     "output_type": "stream",
     "text": [
      "Sentence: \"Pet hedgehogs need a big cage with places to exercise, a litter box, a nice bed, and places to hide.\" - Classification: 4\n"
     ]
    },
    {
     "name": "stderr",
     "output_type": "stream",
     "text": [
      "INFO:httpx:HTTP Request: POST https://philipp.openai.azure.com//openai/deployments/gpt-4/chat/completions?api-version=2023-05-15 \"HTTP/1.1 200 OK\"\n"
     ]
    },
    {
     "name": "stdout",
     "output_type": "stream",
     "text": [
      "Sentence: \"Most hedgehogs don’t like to be held, but they don’t mind being picked up sometimes.\" - Classification: 1\n"
     ]
    },
    {
     "name": "stderr",
     "output_type": "stream",
     "text": [
      "INFO:httpx:HTTP Request: POST https://philipp.openai.azure.com//openai/deployments/gpt-4/chat/completions?api-version=2023-05-15 \"HTTP/1.1 200 OK\"\n"
     ]
    },
    {
     "name": "stdout",
     "output_type": "stream",
     "text": [
      "Sentence: \"Some of the most popular reptile pets are leopard geckos, because they’re friendly little lizards.\" - Classification: 2\n"
     ]
    },
    {
     "name": "stderr",
     "output_type": "stream",
     "text": [
      "INFO:httpx:HTTP Request: POST https://philipp.openai.azure.com//openai/deployments/gpt-4/chat/completions?api-version=2023-05-15 \"HTTP/1.1 200 OK\"\n"
     ]
    },
    {
     "name": "stdout",
     "output_type": "stream",
     "text": [
      "Sentence: \"A leopard gecko is yellow and white with black spots.\" - Classification: 5\n"
     ]
    },
    {
     "name": "stderr",
     "output_type": "stream",
     "text": [
      "INFO:httpx:HTTP Request: POST https://philipp.openai.azure.com//openai/deployments/gpt-4/chat/completions?api-version=2023-05-15 \"HTTP/1.1 200 OK\"\n"
     ]
    },
    {
     "name": "stdout",
     "output_type": "stream",
     "text": [
      "Sentence: \"A 20-gallon (76-1) glass tank is the right size for two or three leopard geckos.\" - Classification: 4\n"
     ]
    },
    {
     "name": "stderr",
     "output_type": "stream",
     "text": [
      "INFO:httpx:HTTP Request: POST https://philipp.openai.azure.com//openai/deployments/gpt-4/chat/completions?api-version=2023-05-15 \"HTTP/1.1 200 OK\"\n"
     ]
    },
    {
     "name": "stdout",
     "output_type": "stream",
     "text": [
      "Sentence: \"Males will fight each other.\" - Classification: 3\n"
     ]
    },
    {
     "name": "stderr",
     "output_type": "stream",
     "text": [
      "INFO:httpx:HTTP Request: POST https://philipp.openai.azure.com//openai/deployments/gpt-4/chat/completions?api-version=2023-05-15 \"HTTP/1.1 200 OK\"\n"
     ]
    },
    {
     "name": "stdout",
     "output_type": "stream",
     "text": [
      "Sentence: \"Geckos also need a warm spot to lie in during the day.\" - Classification: 4\n"
     ]
    },
    {
     "name": "stderr",
     "output_type": "stream",
     "text": [
      "INFO:httpx:HTTP Request: POST https://philipp.openai.azure.com//openai/deployments/gpt-4/chat/completions?api-version=2023-05-15 \"HTTP/1.1 200 OK\"\n"
     ]
    },
    {
     "name": "stdout",
     "output_type": "stream",
     "text": [
      "Sentence: \"You’ll notice that your geckos have fat tails.\" - Classification: 2\n"
     ]
    },
    {
     "name": "stderr",
     "output_type": "stream",
     "text": [
      "INFO:httpx:HTTP Request: POST https://philipp.openai.azure.com//openai/deployments/gpt-4/chat/completions?api-version=2023-05-15 \"HTTP/1.1 200 OK\"\n"
     ]
    },
    {
     "name": "stdout",
     "output_type": "stream",
     "text": [
      "Sentence: \"This is where they store fat for when they don’t have enough food to eat.\" - Classification: 4\n"
     ]
    },
    {
     "name": "stderr",
     "output_type": "stream",
     "text": [
      "INFO:httpx:HTTP Request: POST https://philipp.openai.azure.com//openai/deployments/gpt-4/chat/completions?api-version=2023-05-15 \"HTTP/1.1 200 OK\"\n"
     ]
    },
    {
     "name": "stdout",
     "output_type": "stream",
     "text": [
      "Sentence: \"Frogs are not cuddly pets.\" - Classification: 5\n"
     ]
    },
    {
     "name": "stderr",
     "output_type": "stream",
     "text": [
      "INFO:httpx:HTTP Request: POST https://philipp.openai.azure.com//openai/deployments/gpt-4/chat/completions?api-version=2023-05-15 \"HTTP/1.1 200 OK\"\n"
     ]
    },
    {
     "name": "stdout",
     "output_type": "stream",
     "text": [
      "Sentence: \"For the most part, frogs just sit around waiting for food to wander by.\" - Classification: 1\n"
     ]
    },
    {
     "name": "stderr",
     "output_type": "stream",
     "text": [
      "INFO:httpx:HTTP Request: POST https://philipp.openai.azure.com//openai/deployments/gpt-4/chat/completions?api-version=2023-05-15 \"HTTP/1.1 200 OK\"\n"
     ]
    },
    {
     "name": "stdout",
     "output_type": "stream",
     "text": [
      "Sentence: \"Some frogs spend their time in water, some on land, and some both places.\" - Classification: 1\n"
     ]
    },
    {
     "name": "stderr",
     "output_type": "stream",
     "text": [
      "INFO:httpx:HTTP Request: POST https://philipp.openai.azure.com//openai/deployments/gpt-4/chat/completions?api-version=2023-05-15 \"HTTP/1.1 200 OK\"\n"
     ]
    },
    {
     "name": "stdout",
     "output_type": "stream",
     "text": [
      "Sentence: \"If you get a frog, you’ll need to know how it lives.\" - Classification: 2\n"
     ]
    },
    {
     "name": "stderr",
     "output_type": "stream",
     "text": [
      "INFO:httpx:HTTP Request: POST https://philipp.openai.azure.com//openai/deployments/gpt-4/chat/completions?api-version=2023-05-15 \"HTTP/1.1 200 OK\"\n"
     ]
    },
    {
     "name": "stdout",
     "output_type": "stream",
     "text": [
      "Sentence: \"Salamanders live secret lives.\" - Classification: 1\n"
     ]
    },
    {
     "name": "stderr",
     "output_type": "stream",
     "text": [
      "INFO:httpx:HTTP Request: POST https://philipp.openai.azure.com//openai/deployments/gpt-4/chat/completions?api-version=2023-05-15 \"HTTP/1.1 200 OK\"\n"
     ]
    },
    {
     "name": "stdout",
     "output_type": "stream",
     "text": [
      "Sentence: \"Like frogs, different salamanders live in different kinds of habitats.\" - Classification: 2\n"
     ]
    },
    {
     "name": "stderr",
     "output_type": "stream",
     "text": [
      "INFO:httpx:HTTP Request: POST https://philipp.openai.azure.com//openai/deployments/gpt-4/chat/completions?api-version=2023-05-15 \"HTTP/1.1 200 OK\"\n"
     ]
    },
    {
     "name": "stdout",
     "output_type": "stream",
     "text": [
      "Sentence: \"The best salamander pets are the ones that live on land.\" - Classification: 2\n"
     ]
    },
    {
     "name": "stderr",
     "output_type": "stream",
     "text": [
      "INFO:httpx:HTTP Request: POST https://philipp.openai.azure.com//openai/deployments/gpt-4/chat/completions?api-version=2023-05-15 \"HTTP/1.1 200 OK\"\n"
     ]
    },
    {
     "name": "stdout",
     "output_type": "stream",
     "text": [
      "Sentence: \"Land salamanders like their home to be damp, so you’ll need a tank with leaves or moss on the bottom.\" - Classification: 4\n"
     ]
    },
    {
     "name": "stderr",
     "output_type": "stream",
     "text": [
      "INFO:httpx:HTTP Request: POST https://philipp.openai.azure.com//openai/deployments/gpt-4/chat/completions?api-version=2023-05-15 \"HTTP/1.1 200 OK\"\n"
     ]
    },
    {
     "name": "stdout",
     "output_type": "stream",
     "text": [
      "Sentence: \"Salamanders like to have areas where it’s light and areas where it’s dark (such as little caves).\" - Classification: 1\n"
     ]
    },
    {
     "name": "stderr",
     "output_type": "stream",
     "text": [
      "INFO:httpx:HTTP Request: POST https://philipp.openai.azure.com//openai/deployments/gpt-4/chat/completions?api-version=2023-05-15 \"HTTP/1.1 200 OK\"\n"
     ]
    },
    {
     "name": "stdout",
     "output_type": "stream",
     "text": [
      "Sentence: \"Salamanders come in many colors, such as this red salamander.\" - Classification: 5\n"
     ]
    },
    {
     "name": "stderr",
     "output_type": "stream",
     "text": [
      "INFO:httpx:HTTP Request: POST https://philipp.openai.azure.com//openai/deployments/gpt-4/chat/completions?api-version=2023-05-15 \"HTTP/1.1 200 OK\"\n"
     ]
    },
    {
     "name": "stdout",
     "output_type": "stream",
     "text": [
      "Sentence: \"Most can grow to be between 7 and 14inches (18-35cm) long.\" - Classification: 2\n"
     ]
    },
    {
     "name": "stderr",
     "output_type": "stream",
     "text": [
      "INFO:httpx:HTTP Request: POST https://philipp.openai.azure.com//openai/deployments/gpt-4/chat/completions?api-version=2023-05-15 \"HTTP/1.1 200 OK\"\n"
     ]
    },
    {
     "name": "stdout",
     "output_type": "stream",
     "text": [
      "Sentence: \"Adult salamanders eat insects such as crickets and worms.\" - Classification: 1\n"
     ]
    },
    {
     "name": "stderr",
     "output_type": "stream",
     "text": [
      "INFO:httpx:HTTP Request: POST https://philipp.openai.azure.com//openai/deployments/gpt-4/chat/completions?api-version=2023-05-15 \"HTTP/1.1 200 OK\"\n"
     ]
    },
    {
     "name": "stdout",
     "output_type": "stream",
     "text": [
      "Sentence: \"Corn snakes grow to be about four feet (122 cm) long and live 20 years or more.\" - Classification: 2\n"
     ]
    },
    {
     "name": "stderr",
     "output_type": "stream",
     "text": [
      "INFO:httpx:HTTP Request: POST https://philipp.openai.azure.com//openai/deployments/gpt-4/chat/completions?api-version=2023-05-15 \"HTTP/1.1 200 OK\"\n"
     ]
    },
    {
     "name": "stdout",
     "output_type": "stream",
     "text": [
      "Sentence: \"Snakes are great escape artists, so make sure to keep the lid on tight!\" - Classification: 1\n"
     ]
    },
    {
     "name": "stderr",
     "output_type": "stream",
     "text": [
      "INFO:httpx:HTTP Request: POST https://philipp.openai.azure.com//openai/deployments/gpt-4/chat/completions?api-version=2023-05-15 \"HTTP/1.1 200 OK\"\n"
     ]
    },
    {
     "name": "stdout",
     "output_type": "stream",
     "text": [
      "Sentence: \"Corn snakes like to eat mice and small rats.\" - Classification: 1\n"
     ]
    },
    {
     "name": "stderr",
     "output_type": "stream",
     "text": [
      "INFO:httpx:HTTP Request: POST https://philipp.openai.azure.com//openai/deployments/gpt-4/chat/completions?api-version=2023-05-15 \"HTTP/1.1 200 OK\"\n"
     ]
    },
    {
     "name": "stdout",
     "output_type": "stream",
     "text": [
      "Sentence: \"An adult corn snake is easy to feed -- it eats just once a week!\" - Classification: 1\n"
     ]
    },
    {
     "name": "stderr",
     "output_type": "stream",
     "text": [
      "INFO:httpx:HTTP Request: POST https://philipp.openai.azure.com//openai/deployments/gpt-4/chat/completions?api-version=2023-05-15 \"HTTP/1.1 200 OK\"\n"
     ]
    },
    {
     "name": "stdout",
     "output_type": "stream",
     "text": [
      "Sentence: \"Corn snakes like to eat both fresh and frozen mice.\" - Classification: 1\n"
     ]
    },
    {
     "name": "stderr",
     "output_type": "stream",
     "text": [
      "INFO:httpx:HTTP Request: POST https://philipp.openai.azure.com//openai/deployments/gpt-4/chat/completions?api-version=2023-05-15 \"HTTP/1.1 200 OK\"\n"
     ]
    },
    {
     "name": "stdout",
     "output_type": "stream",
     "text": [
      "Sentence: \"Pet supply stores sell these reptile lights.\" - Classification: 4\n"
     ]
    },
    {
     "name": "stderr",
     "output_type": "stream",
     "text": [
      "INFO:httpx:HTTP Request: POST https://philipp.openai.azure.com//openai/deployments/gpt-4/chat/completions?api-version=2023-05-15 \"HTTP/1.1 200 OK\"\n"
     ]
    },
    {
     "name": "stdout",
     "output_type": "stream",
     "text": [
      "Sentence: \"Bearded dragons are reptiles that come from Australia.\" - Classification: 2\n"
     ]
    },
    {
     "name": "stderr",
     "output_type": "stream",
     "text": [
      "INFO:httpx:HTTP Request: POST https://philipp.openai.azure.com//openai/deployments/gpt-4/chat/completions?api-version=2023-05-15 \"HTTP/1.1 200 OK\"\n"
     ]
    },
    {
     "name": "stdout",
     "output_type": "stream",
     "text": [
      "Sentence: \"They have little spines all along the bottom of their neck that they stick out if the lizards feel afraid.\" - Classification: 2\n"
     ]
    },
    {
     "name": "stderr",
     "output_type": "stream",
     "text": [
      "INFO:httpx:HTTP Request: POST https://philipp.openai.azure.com//openai/deployments/gpt-4/chat/completions?api-version=2023-05-15 \"HTTP/1.1 200 OK\"\n"
     ]
    },
    {
     "name": "stdout",
     "output_type": "stream",
     "text": [
      "Sentence: \"Bearded dragons grow to be almost two feet (61 cm) long and can live up to 10 years.\" - Classification: 2\n"
     ]
    },
    {
     "name": "stderr",
     "output_type": "stream",
     "text": [
      "INFO:httpx:HTTP Request: POST https://philipp.openai.azure.com//openai/deployments/gpt-4/chat/completions?api-version=2023-05-15 \"HTTP/1.1 200 OK\"\n"
     ]
    },
    {
     "name": "stdout",
     "output_type": "stream",
     "text": [
      "Sentence: \"They eat bugs and vegetables, and are very friendly -- for lizards, that is.\" - Classification: 2\n"
     ]
    },
    {
     "name": "stderr",
     "output_type": "stream",
     "text": [
      "INFO:httpx:HTTP Request: POST https://philipp.openai.azure.com//openai/deployments/gpt-4/chat/completions?api-version=2023-05-15 \"HTTP/1.1 200 OK\"\n"
     ]
    },
    {
     "name": "stdout",
     "output_type": "stream",
     "text": [
      "Sentence: \"Bearded dragons can live happily in a very large glass tank.\" - Classification: 2\n"
     ]
    },
    {
     "name": "stderr",
     "output_type": "stream",
     "text": [
      "INFO:httpx:HTTP Request: POST https://philipp.openai.azure.com//openai/deployments/gpt-4/chat/completions?api-version=2023-05-15 \"HTTP/1.1 200 OK\"\n"
     ]
    },
    {
     "name": "stdout",
     "output_type": "stream",
     "text": [
      "Sentence: \"Hermit crabs sometimes live near beaches.\" - Classification: 2\n"
     ]
    },
    {
     "name": "stderr",
     "output_type": "stream",
     "text": [
      "INFO:httpx:HTTP Request: POST https://philipp.openai.azure.com//openai/deployments/gpt-4/chat/completions?api-version=2023-05-15 \"HTTP/1.1 200 OK\"\n"
     ]
    },
    {
     "name": "stdout",
     "output_type": "stream",
     "text": [
      "Sentence: \"Hermit crabs don’t grow their own shells, so they have to find a shell to live in.\" - Classification: 4\n"
     ]
    },
    {
     "name": "stderr",
     "output_type": "stream",
     "text": [
      "INFO:httpx:HTTP Request: POST https://philipp.openai.azure.com//openai/deployments/gpt-4/chat/completions?api-version=2023-05-15 \"HTTP/1.1 200 OK\"\n"
     ]
    },
    {
     "name": "stdout",
     "output_type": "stream",
     "text": [
      "Sentence: \"Hermit crab tanks should have sand on the bottom, something to climb on, and some damp and dry spots.\" - Classification: 4\n"
     ]
    },
    {
     "name": "stderr",
     "output_type": "stream",
     "text": [
      "INFO:httpx:HTTP Request: POST https://philipp.openai.azure.com//openai/deployments/gpt-4/chat/completions?api-version=2023-05-15 \"HTTP/1.1 200 OK\"\n"
     ]
    },
    {
     "name": "stdout",
     "output_type": "stream",
     "text": [
      "Sentence: \"Hermit crabs eat special crab food, plus fruits and vegetables.\" - Classification: 1\n"
     ]
    },
    {
     "name": "stderr",
     "output_type": "stream",
     "text": [
      "INFO:httpx:HTTP Request: POST https://philipp.openai.azure.com//openai/deployments/gpt-4/chat/completions?api-version=2023-05-15 \"HTTP/1.1 200 OK\"\n"
     ]
    },
    {
     "name": "stdout",
     "output_type": "stream",
     "text": [
      "Sentence: \"Tarantulas are quiet and clean.\" - Classification: 5\n"
     ]
    },
    {
     "name": "stderr",
     "output_type": "stream",
     "text": [
      "INFO:httpx:HTTP Request: POST https://philipp.openai.azure.com//openai/deployments/gpt-4/chat/completions?api-version=2023-05-15 \"HTTP/1.1 200 OK\"\n"
     ]
    },
    {
     "name": "stdout",
     "output_type": "stream",
     "text": [
      "Sentence: \"There’s one other thing -- tarantulas bite when they’re scared.\" - Classification: 1\n"
     ]
    },
    {
     "name": "stderr",
     "output_type": "stream",
     "text": [
      "INFO:httpx:HTTP Request: POST https://philipp.openai.azure.com//openai/deployments/gpt-4/chat/completions?api-version=2023-05-15 \"HTTP/1.1 200 OK\"\n"
     ]
    },
    {
     "name": "stdout",
     "output_type": "stream",
     "text": [
      "Sentence: \"Female tarantulas can live to be more than 20 years old, but the males live just a few years.\" - Classification: 2\n"
     ]
    },
    {
     "name": "stderr",
     "output_type": "stream",
     "text": [
      "INFO:httpx:HTTP Request: POST https://philipp.openai.azure.com//openai/deployments/gpt-4/chat/completions?api-version=2023-05-15 \"HTTP/1.1 200 OK\"\n"
     ]
    },
    {
     "name": "stdout",
     "output_type": "stream",
     "text": [
      "Sentence: \"A small glass tank makes a good tarantula home.\" - Classification: 4\n"
     ]
    },
    {
     "name": "stderr",
     "output_type": "stream",
     "text": [
      "INFO:httpx:HTTP Request: POST https://philipp.openai.azure.com//openai/deployments/gpt-4/chat/completions?api-version=2023-05-15 \"HTTP/1.1 200 OK\"\n"
     ]
    },
    {
     "name": "stdout",
     "output_type": "stream",
     "text": [
      "Sentence: \"Tarantulas are hunters, and they eat cockroaches and other insects.\" - Classification: 1\n"
     ]
    },
    {
     "name": "stderr",
     "output_type": "stream",
     "text": [
      "INFO:httpx:HTTP Request: POST https://philipp.openai.azure.com//openai/deployments/gpt-4/chat/completions?api-version=2023-05-15 \"HTTP/1.1 200 OK\"\n"
     ]
    },
    {
     "name": "stdout",
     "output_type": "stream",
     "text": [
      "Sentence: \"Although a tarantula bite has venom, it’s not very strong.\" - Classification: 2\n"
     ]
    },
    {
     "name": "stderr",
     "output_type": "stream",
     "text": [
      "INFO:httpx:HTTP Request: POST https://philipp.openai.azure.com//openai/deployments/gpt-4/chat/completions?api-version=2023-05-15 \"HTTP/1.1 200 OK\"\n"
     ]
    },
    {
     "name": "stdout",
     "output_type": "stream",
     "text": [
      "Sentence: \"Also, some tarantulas have special hairs on their belly that have little barbs on them.\" - Classification: 2\n"
     ]
    },
    {
     "name": "stderr",
     "output_type": "stream",
     "text": [
      "INFO:httpx:HTTP Request: POST https://philipp.openai.azure.com//openai/deployments/gpt-4/chat/completions?api-version=2023-05-15 \"HTTP/1.1 200 OK\"\n"
     ]
    },
    {
     "name": "stdout",
     "output_type": "stream",
     "text": [
      "Sentence: \"When you touch the hairs, they stick into your skin and make it very itchy.\" - Classification: 5\n"
     ]
    },
    {
     "name": "stderr",
     "output_type": "stream",
     "text": [
      "INFO:httpx:HTTP Request: POST https://philipp.openai.azure.com//openai/deployments/gpt-4/chat/completions?api-version=2023-05-15 \"HTTP/1.1 200 OK\"\n"
     ]
    },
    {
     "name": "stdout",
     "output_type": "stream",
     "text": [
      "Sentence: \"There are several insects that make interesting pets.\" - Classification: 4\n"
     ]
    },
    {
     "name": "stderr",
     "output_type": "stream",
     "text": [
      "INFO:httpx:HTTP Request: POST https://philipp.openai.azure.com//openai/deployments/gpt-4/chat/completions?api-version=2023-05-15 \"HTTP/1.1 200 OK\"\n"
     ]
    },
    {
     "name": "stdout",
     "output_type": "stream",
     "text": [
      "Sentence: \"They look like sticks so predators won’t see them hiding among real sticks.\" - Classification: 4\n"
     ]
    },
    {
     "name": "stderr",
     "output_type": "stream",
     "text": [
      "INFO:httpx:HTTP Request: POST https://philipp.openai.azure.com//openai/deployments/gpt-4/chat/completions?api-version=2023-05-15 \"HTTP/1.1 200 OK\"\n"
     ]
    },
    {
     "name": "stdout",
     "output_type": "stream",
     "text": [
      "Sentence: \"Stick insects like tasty leaves.\" - Classification: 1\n"
     ]
    },
    {
     "name": "stderr",
     "output_type": "stream",
     "text": [
      "INFO:httpx:HTTP Request: POST https://philipp.openai.azure.com//openai/deployments/gpt-4/chat/completions?api-version=2023-05-15 \"HTTP/1.1 200 OK\"\n"
     ]
    },
    {
     "name": "stdout",
     "output_type": "stream",
     "text": [
      "Sentence: \"They also like to eat different grasses.\" - Classification: 1\n"
     ]
    },
    {
     "name": "stderr",
     "output_type": "stream",
     "text": [
      "INFO:httpx:HTTP Request: POST https://philipp.openai.azure.com//openai/deployments/gpt-4/chat/completions?api-version=2023-05-15 \"HTTP/1.1 200 OK\"\n"
     ]
    },
    {
     "name": "stdout",
     "output_type": "stream",
     "text": [
      "Sentence: \"Stick insects can live in a glass tank, as long as they are warm and the tank has a lid.\" - Classification: 2\n"
     ]
    },
    {
     "name": "stderr",
     "output_type": "stream",
     "text": [
      "INFO:httpx:HTTP Request: POST https://philipp.openai.azure.com//openai/deployments/gpt-4/chat/completions?api-version=2023-05-15 \"HTTP/1.1 200 OK\"\n"
     ]
    },
    {
     "name": "stdout",
     "output_type": "stream",
     "text": [
      "Sentence: \"They live a long time for insects, too -- about a year.\" - Classification: 2\n"
     ]
    },
    {
     "name": "stderr",
     "output_type": "stream",
     "text": [
      "INFO:httpx:HTTP Request: POST https://philipp.openai.azure.com//openai/deployments/gpt-4/chat/completions?api-version=2023-05-15 \"HTTP/1.1 200 OK\"\n"
     ]
    },
    {
     "name": "stdout",
     "output_type": "stream",
     "text": [
      "Sentence: \"Stick insects are not cuddly, but you can hold them in your hand.\" - Classification: 2\n"
     ]
    },
    {
     "name": "stderr",
     "output_type": "stream",
     "text": [
      "INFO:httpx:HTTP Request: POST https://philipp.openai.azure.com//openai/deployments/gpt-4/chat/completions?api-version=2023-05-15 \"HTTP/1.1 200 OK\"\n"
     ]
    },
    {
     "name": "stdout",
     "output_type": "stream",
     "text": [
      "Sentence: \"If you startle an ordinary cockroach, it will run away.\" - Classification: 1\n"
     ]
    },
    {
     "name": "stderr",
     "output_type": "stream",
     "text": [
      "INFO:httpx:HTTP Request: POST https://philipp.openai.azure.com//openai/deployments/gpt-4/chat/completions?api-version=2023-05-15 \"HTTP/1.1 200 OK\"\n"
     ]
    },
    {
     "name": "stdout",
     "output_type": "stream",
     "text": [
      "Sentence: \"But if you startle a Madagascar hissing cockroach, it will make a loud hissing sound.\" - Classification: 1\n"
     ]
    },
    {
     "name": "stderr",
     "output_type": "stream",
     "text": [
      "INFO:httpx:HTTP Request: POST https://philipp.openai.azure.com//openai/deployments/gpt-4/chat/completions?api-version=2023-05-15 \"HTTP/1.1 200 OK\"\n"
     ]
    },
    {
     "name": "stdout",
     "output_type": "stream",
     "text": [
      "Sentence: \"The males also hiss at the females as a way of inviting them to mate.\" - Classification: 1\n"
     ]
    },
    {
     "name": "stderr",
     "output_type": "stream",
     "text": [
      "INFO:httpx:HTTP Request: POST https://philipp.openai.azure.com//openai/deployments/gpt-4/chat/completions?api-version=2023-05-15 \"HTTP/1.1 200 OK\"\n"
     ]
    },
    {
     "name": "stdout",
     "output_type": "stream",
     "text": [
      "Sentence: \"And sometimes, a whole group of Madagascar hissing cockroaches will all hiss at the same time.\" - Classification: 3\n"
     ]
    },
    {
     "name": "stderr",
     "output_type": "stream",
     "text": [
      "INFO:httpx:HTTP Request: POST https://philipp.openai.azure.com//openai/deployments/gpt-4/chat/completions?api-version=2023-05-15 \"HTTP/1.1 200 OK\"\n"
     ]
    },
    {
     "name": "stdout",
     "output_type": "stream",
     "text": [
      "Sentence: \"All birds lay eggs.\" - Classification: 2\n"
     ]
    },
    {
     "name": "stderr",
     "output_type": "stream",
     "text": [
      "INFO:httpx:HTTP Request: POST https://philipp.openai.azure.com//openai/deployments/gpt-4/chat/completions?api-version=2023-05-15 \"HTTP/1.1 200 OK\"\n"
     ]
    },
    {
     "name": "stdout",
     "output_type": "stream",
     "text": [
      "Sentence: \"Spiders and turtles lay eggs.\" - Classification: 2\n"
     ]
    },
    {
     "name": "stderr",
     "output_type": "stream",
     "text": [
      "INFO:httpx:HTTP Request: POST https://philipp.openai.azure.com//openai/deployments/gpt-4/chat/completions?api-version=2023-05-15 \"HTTP/1.1 200 OK\"\n"
     ]
    },
    {
     "name": "stdout",
     "output_type": "stream",
     "text": [
      "Sentence: \"All birds have wings.\" - Classification: 2\n"
     ]
    },
    {
     "name": "stderr",
     "output_type": "stream",
     "text": [
      "INFO:httpx:HTTP Request: POST https://philipp.openai.azure.com//openai/deployments/gpt-4/chat/completions?api-version=2023-05-15 \"HTTP/1.1 200 OK\"\n"
     ]
    },
    {
     "name": "stdout",
     "output_type": "stream",
     "text": [
      "Sentence: \"But some birds can’t fly.\" - Classification: 1\n"
     ]
    },
    {
     "name": "stderr",
     "output_type": "stream",
     "text": [
      "INFO:httpx:HTTP Request: POST https://philipp.openai.azure.com//openai/deployments/gpt-4/chat/completions?api-version=2023-05-15 \"HTTP/1.1 200 OK\"\n"
     ]
    },
    {
     "name": "stdout",
     "output_type": "stream",
     "text": [
      "Sentence: \"An ostrich can’t fly.\" - Classification: 1\n"
     ]
    },
    {
     "name": "stderr",
     "output_type": "stream",
     "text": [
      "INFO:httpx:HTTP Request: POST https://philipp.openai.azure.com//openai/deployments/gpt-4/chat/completions?api-version=2023-05-15 \"HTTP/1.1 200 OK\"\n"
     ]
    },
    {
     "name": "stdout",
     "output_type": "stream",
     "text": [
      "Sentence: \"Penguins have wings, but they can’t fly.\" - Classification: 2\n"
     ]
    },
    {
     "name": "stderr",
     "output_type": "stream",
     "text": [
      "INFO:httpx:HTTP Request: POST https://philipp.openai.azure.com//openai/deployments/gpt-4/chat/completions?api-version=2023-05-15 \"HTTP/1.1 200 OK\"\n"
     ]
    },
    {
     "name": "stdout",
     "output_type": "stream",
     "text": [
      "Sentence: \"They are birds that swim.\" - Classification: 2\n"
     ]
    },
    {
     "name": "stderr",
     "output_type": "stream",
     "text": [
      "INFO:httpx:HTTP Request: POST https://philipp.openai.azure.com//openai/deployments/gpt-4/chat/completions?api-version=2023-05-15 \"HTTP/1.1 200 OK\"\n"
     ]
    },
    {
     "name": "stdout",
     "output_type": "stream",
     "text": [
      "Sentence: \"Most other birds can fly.\" - Classification: 1\n"
     ]
    },
    {
     "name": "stderr",
     "output_type": "stream",
     "text": [
      "INFO:httpx:HTTP Request: POST https://philipp.openai.azure.com//openai/deployments/gpt-4/chat/completions?api-version=2023-05-15 \"HTTP/1.1 200 OK\"\n"
     ]
    },
    {
     "name": "stdout",
     "output_type": "stream",
     "text": [
      "Sentence: \"But so can bats and bees.\" - Classification: 1\n"
     ]
    },
    {
     "name": "stderr",
     "output_type": "stream",
     "text": [
      "INFO:httpx:HTTP Request: POST https://philipp.openai.azure.com//openai/deployments/gpt-4/chat/completions?api-version=2023-05-15 \"HTTP/1.1 200 OK\"\n"
     ]
    },
    {
     "name": "stdout",
     "output_type": "stream",
     "text": [
      "Sentence: \"There is a fish that can fly.\" - Classification: 2\n"
     ]
    },
    {
     "name": "stderr",
     "output_type": "stream",
     "text": [
      "INFO:httpx:HTTP Request: POST https://philipp.openai.azure.com//openai/deployments/gpt-4/chat/completions?api-version=2023-05-15 \"HTTP/1.1 200 OK\"\n"
     ]
    },
    {
     "name": "stdout",
     "output_type": "stream",
     "text": [
      "Sentence: \"A flying fish isn’t a bird!\" - Classification: 2\n"
     ]
    },
    {
     "name": "stderr",
     "output_type": "stream",
     "text": [
      "INFO:httpx:HTTP Request: POST https://philipp.openai.azure.com//openai/deployments/gpt-4/chat/completions?api-version=2023-05-15 \"HTTP/1.1 200 OK\"\n"
     ]
    },
    {
     "name": "stdout",
     "output_type": "stream",
     "text": [
      "Sentence: \"All birds have beaks.\" - Classification: 2\n"
     ]
    },
    {
     "name": "stderr",
     "output_type": "stream",
     "text": [
      "INFO:httpx:HTTP Request: POST https://philipp.openai.azure.com//openai/deployments/gpt-4/chat/completions?api-version=2023-05-15 \"HTTP/1.1 200 OK\"\n"
     ]
    },
    {
     "name": "stdout",
     "output_type": "stream",
     "text": [
      "Sentence: \"Tortoises have beaks, too.\" - Classification: 2\n"
     ]
    },
    {
     "name": "stderr",
     "output_type": "stream",
     "text": [
      "INFO:httpx:HTTP Request: POST https://philipp.openai.azure.com//openai/deployments/gpt-4/chat/completions?api-version=2023-05-15 \"HTTP/1.1 200 OK\"\n"
     ]
    },
    {
     "name": "stdout",
     "output_type": "stream",
     "text": [
      "Sentence: \"Most birds build nests.\" - Classification: 4\n"
     ]
    },
    {
     "name": "stderr",
     "output_type": "stream",
     "text": [
      "INFO:httpx:HTTP Request: POST https://philipp.openai.azure.com//openai/deployments/gpt-4/chat/completions?api-version=2023-05-15 \"HTTP/1.1 200 OK\"\n"
     ]
    },
    {
     "name": "stdout",
     "output_type": "stream",
     "text": [
      "Sentence: \"Wasps build nests, too.\" - Classification: 4\n"
     ]
    },
    {
     "name": "stderr",
     "output_type": "stream",
     "text": [
      "INFO:httpx:HTTP Request: POST https://philipp.openai.azure.com//openai/deployments/gpt-4/chat/completions?api-version=2023-05-15 \"HTTP/1.1 200 OK\"\n"
     ]
    },
    {
     "name": "stdout",
     "output_type": "stream",
     "text": [
      "Sentence: \"All birds have two legs.\" - Classification: 2\n"
     ]
    },
    {
     "name": "stderr",
     "output_type": "stream",
     "text": [
      "INFO:httpx:HTTP Request: POST https://philipp.openai.azure.com//openai/deployments/gpt-4/chat/completions?api-version=2023-05-15 \"HTTP/1.1 200 OK\"\n"
     ]
    },
    {
     "name": "stdout",
     "output_type": "stream",
     "text": [
      "Sentence: \"People have two legs.\" - Classification: 2\n"
     ]
    },
    {
     "name": "stderr",
     "output_type": "stream",
     "text": [
      "INFO:httpx:HTTP Request: POST https://philipp.openai.azure.com//openai/deployments/gpt-4/chat/completions?api-version=2023-05-15 \"HTTP/1.1 200 OK\"\n"
     ]
    },
    {
     "name": "stdout",
     "output_type": "stream",
     "text": [
      "Sentence: \"All birds have feathers.\" - Classification: 2\n"
     ]
    },
    {
     "name": "stderr",
     "output_type": "stream",
     "text": [
      "INFO:httpx:HTTP Request: POST https://philipp.openai.azure.com//openai/deployments/gpt-4/chat/completions?api-version=2023-05-15 \"HTTP/1.1 200 OK\"\n"
     ]
    },
    {
     "name": "stdout",
     "output_type": "stream",
     "text": [
      "Sentence: \"Some animals have fur.\" - Classification: 2\n"
     ]
    },
    {
     "name": "stderr",
     "output_type": "stream",
     "text": [
      "INFO:httpx:HTTP Request: POST https://philipp.openai.azure.com//openai/deployments/gpt-4/chat/completions?api-version=2023-05-15 \"HTTP/1.1 200 OK\"\n"
     ]
    },
    {
     "name": "stdout",
     "output_type": "stream",
     "text": [
      "Sentence: \"Some other animals have hair.\" - Classification: 2\n"
     ]
    },
    {
     "name": "stderr",
     "output_type": "stream",
     "text": [
      "INFO:httpx:HTTP Request: POST https://philipp.openai.azure.com//openai/deployments/gpt-4/chat/completions?api-version=2023-05-15 \"HTTP/1.1 200 OK\"\n"
     ]
    },
    {
     "name": "stdout",
     "output_type": "stream",
     "text": [
      "Sentence: \"Some animals have scales.\" - Classification: 2\n"
     ]
    },
    {
     "name": "stderr",
     "output_type": "stream",
     "text": [
      "INFO:httpx:HTTP Request: POST https://philipp.openai.azure.com//openai/deployments/gpt-4/chat/completions?api-version=2023-05-15 \"HTTP/1.1 200 OK\"\n"
     ]
    },
    {
     "name": "stdout",
     "output_type": "stream",
     "text": [
      "Sentence: \"But no other animals have feathers.\" - Classification: 2\n"
     ]
    },
    {
     "name": "stderr",
     "output_type": "stream",
     "text": [
      "INFO:httpx:HTTP Request: POST https://philipp.openai.azure.com//openai/deployments/gpt-4/chat/completions?api-version=2023-05-15 \"HTTP/1.1 200 OK\"\n"
     ]
    },
    {
     "name": "stdout",
     "output_type": "stream",
     "text": [
      "Sentence: \"A pig is a fun pet.\" - Classification: 5\n"
     ]
    },
    {
     "name": "stderr",
     "output_type": "stream",
     "text": [
      "INFO:httpx:HTTP Request: POST https://philipp.openai.azure.com//openai/deployments/gpt-4/chat/completions?api-version=2023-05-15 \"HTTP/1.1 200 OK\"\n"
     ]
    },
    {
     "name": "stdout",
     "output_type": "stream",
     "text": [
      "Sentence: \"A pig can run.\" - Classification: 1\n"
     ]
    },
    {
     "name": "stderr",
     "output_type": "stream",
     "text": [
      "INFO:httpx:HTTP Request: POST https://philipp.openai.azure.com//openai/deployments/gpt-4/chat/completions?api-version=2023-05-15 \"HTTP/1.1 200 OK\"\n"
     ]
    },
    {
     "name": "stdout",
     "output_type": "stream",
     "text": [
      "Sentence: \"A pig can nap.\" - Classification: 1\n"
     ]
    },
    {
     "name": "stderr",
     "output_type": "stream",
     "text": [
      "INFO:httpx:HTTP Request: POST https://philipp.openai.azure.com//openai/deployments/gpt-4/chat/completions?api-version=2023-05-15 \"HTTP/1.1 200 OK\"\n"
     ]
    },
    {
     "name": "stdout",
     "output_type": "stream",
     "text": [
      "Sentence: \"A pig can have spots.\" - Classification: 2\n"
     ]
    },
    {
     "name": "stderr",
     "output_type": "stream",
     "text": [
      "INFO:httpx:HTTP Request: POST https://philipp.openai.azure.com//openai/deployments/gpt-4/chat/completions?api-version=2023-05-15 \"HTTP/1.1 200 OK\"\n"
     ]
    },
    {
     "name": "stdout",
     "output_type": "stream",
     "text": [
      "Sentence: \"A pig can sit.\" - Classification: 1\n"
     ]
    },
    {
     "name": "stderr",
     "output_type": "stream",
     "text": [
      "INFO:httpx:HTTP Request: POST https://philipp.openai.azure.com//openai/deployments/gpt-4/chat/completions?api-version=2023-05-15 \"HTTP/1.1 200 OK\"\n"
     ]
    },
    {
     "name": "stdout",
     "output_type": "stream",
     "text": [
      "Sentence: \"A pig is a fun pet.\" - Classification: 5\n"
     ]
    },
    {
     "name": "stderr",
     "output_type": "stream",
     "text": [
      "INFO:httpx:HTTP Request: POST https://philipp.openai.azure.com//openai/deployments/gpt-4/chat/completions?api-version=2023-05-15 \"HTTP/1.1 200 OK\"\n"
     ]
    },
    {
     "name": "stdout",
     "output_type": "stream",
     "text": [
      "Sentence: \"The bug is tan.\" - Classification: 5\n"
     ]
    },
    {
     "name": "stderr",
     "output_type": "stream",
     "text": [
      "INFO:httpx:HTTP Request: POST https://philipp.openai.azure.com//openai/deployments/gpt-4/chat/completions?api-version=2023-05-15 \"HTTP/1.1 200 OK\"\n"
     ]
    },
    {
     "name": "stdout",
     "output_type": "stream",
     "text": [
      "Sentence: \"The bat is black.\" - Classification: 5\n"
     ]
    },
    {
     "name": "stderr",
     "output_type": "stream",
     "text": [
      "INFO:httpx:HTTP Request: POST https://philipp.openai.azure.com//openai/deployments/gpt-4/chat/completions?api-version=2023-05-15 \"HTTP/1.1 200 OK\"\n"
     ]
    },
    {
     "name": "stdout",
     "output_type": "stream",
     "text": [
      "Sentence: \"The ant is red.\" - Classification: 5\n"
     ]
    },
    {
     "name": "stderr",
     "output_type": "stream",
     "text": [
      "INFO:httpx:HTTP Request: POST https://philipp.openai.azure.com//openai/deployments/gpt-4/chat/completions?api-version=2023-05-15 \"HTTP/1.1 200 OK\"\n"
     ]
    },
    {
     "name": "stdout",
     "output_type": "stream",
     "text": [
      "Sentence: \"Sharing is about giving, not just taking.\" - Classification: 3\n"
     ]
    },
    {
     "name": "stderr",
     "output_type": "stream",
     "text": [
      "INFO:httpx:HTTP Request: POST https://philipp.openai.azure.com//openai/deployments/gpt-4/chat/completions?api-version=2023-05-15 \"HTTP/1.1 200 OK\"\n"
     ]
    },
    {
     "name": "stdout",
     "output_type": "stream",
     "text": [
      "Sentence: \"Some Yolks stop climbing because they are happy with how far they have gone.\" - Classification: 1\n"
     ]
    },
    {
     "name": "stderr",
     "output_type": "stream",
     "text": [
      "INFO:httpx:HTTP Request: POST https://philipp.openai.azure.com//openai/deployments/gpt-4/chat/completions?api-version=2023-05-15 \"HTTP/1.1 200 OK\"\n"
     ]
    },
    {
     "name": "stdout",
     "output_type": "stream",
     "text": [
      "Sentence: \"(Hippos can't swim, like the pelicans think.\" - Classification: 1\n"
     ]
    },
    {
     "name": "stderr",
     "output_type": "stream",
     "text": [
      "INFO:httpx:HTTP Request: POST https://philipp.openai.azure.com//openai/deployments/gpt-4/chat/completions?api-version=2023-05-15 \"HTTP/1.1 200 OK\"\n"
     ]
    },
    {
     "name": "stdout",
     "output_type": "stream",
     "text": [
      "Sentence: \"A monster’s a friend that you haven’t yet made.\" - Classification: 3\n"
     ]
    },
    {
     "name": "stderr",
     "output_type": "stream",
     "text": [
      "INFO:httpx:HTTP Request: POST https://philipp.openai.azure.com//openai/deployments/gpt-4/chat/completions?api-version=2023-05-15 \"HTTP/1.1 200 OK\"\n"
     ]
    },
    {
     "name": "stdout",
     "output_type": "stream",
     "text": [
      "Sentence: \"In the Land of Words, everyone is wrong sometimes.\" - Classification: 3\n"
     ]
    },
    {
     "name": "stderr",
     "output_type": "stream",
     "text": [
      "INFO:httpx:HTTP Request: POST https://philipp.openai.azure.com//openai/deployments/gpt-4/chat/completions?api-version=2023-05-15 \"HTTP/1.1 200 OK\"\n"
     ]
    },
    {
     "name": "stdout",
     "output_type": "stream",
     "text": [
      "Sentence: \"Any letter could enter.\" - Classification: 4\n"
     ]
    },
    {
     "name": "stderr",
     "output_type": "stream",
     "text": [
      "INFO:httpx:HTTP Request: POST https://philipp.openai.azure.com//openai/deployments/gpt-4/chat/completions?api-version=2023-05-15 \"HTTP/1.1 200 OK\"\n"
     ]
    },
    {
     "name": "stdout",
     "output_type": "stream",
     "text": [
      "Sentence: \"They don't shake hands, they wiggle tails.\" - Classification: 3\n"
     ]
    },
    {
     "name": "stderr",
     "output_type": "stream",
     "text": [
      "INFO:httpx:HTTP Request: POST https://philipp.openai.azure.com//openai/deployments/gpt-4/chat/completions?api-version=2023-05-15 \"HTTP/1.1 200 OK\"\n"
     ]
    },
    {
     "name": "stdout",
     "output_type": "stream",
     "text": [
      "Sentence: \"Cameras make them strike their poses.\" - Classification: 4\n"
     ]
    },
    {
     "name": "stderr",
     "output_type": "stream",
     "text": [
      "INFO:httpx:HTTP Request: POST https://philipp.openai.azure.com//openai/deployments/gpt-4/chat/completions?api-version=2023-05-15 \"HTTP/1.1 200 OK\"\n"
     ]
    },
    {
     "name": "stdout",
     "output_type": "stream",
     "text": [
      "Sentence: \"Hairy gifts are customary.\" - Classification: 3\n"
     ]
    },
    {
     "name": "stderr",
     "output_type": "stream",
     "text": [
      "INFO:httpx:HTTP Request: POST https://philipp.openai.azure.com//openai/deployments/gpt-4/chat/completions?api-version=2023-05-15 \"HTTP/1.1 200 OK\"\n"
     ]
    },
    {
     "name": "stdout",
     "output_type": "stream",
     "text": [
      "Sentence: \"They're made of branches, mud, and vine.\" - Classification: 4\n"
     ]
    },
    {
     "name": "stderr",
     "output_type": "stream",
     "text": [
      "INFO:httpx:HTTP Request: POST https://philipp.openai.azure.com//openai/deployments/gpt-4/chat/completions?api-version=2023-05-15 \"HTTP/1.1 200 OK\"\n"
     ]
    },
    {
     "name": "stdout",
     "output_type": "stream",
     "text": [
      "Sentence: \"It's something that all great explorers must do.\" - Classification: 1\n"
     ]
    },
    {
     "name": "stderr",
     "output_type": "stream",
     "text": [
      "INFO:httpx:HTTP Request: POST https://philipp.openai.azure.com//openai/deployments/gpt-4/chat/completions?api-version=2023-05-15 \"HTTP/1.1 200 OK\"\n"
     ]
    },
    {
     "name": "stdout",
     "output_type": "stream",
     "text": [
      "Sentence: \"Bull the beasts are known to have a fiery attitude.\" - Classification: 2\n"
     ]
    },
    {
     "name": "stderr",
     "output_type": "stream",
     "text": [
      "INFO:httpx:HTTP Request: POST https://philipp.openai.azure.com//openai/deployments/gpt-4/chat/completions?api-version=2023-05-15 \"HTTP/1.1 200 OK\"\n"
     ]
    },
    {
     "name": "stdout",
     "output_type": "stream",
     "text": [
      "Sentence: \"Flowers grow while in the sun, and they need water, every one.\" - Classification: 4\n"
     ]
    },
    {
     "name": "stderr",
     "output_type": "stream",
     "text": [
      "INFO:httpx:HTTP Request: POST https://philipp.openai.azure.com//openai/deployments/gpt-4/chat/completions?api-version=2023-05-15 \"HTTP/1.1 200 OK\"\n"
     ]
    },
    {
     "name": "stdout",
     "output_type": "stream",
     "text": [
      "Sentence: \"Snow is formed in clouds by ice, and never takes the same shape twice.\" - Classification: 2\n"
     ]
    },
    {
     "name": "stderr",
     "output_type": "stream",
     "text": [
      "INFO:httpx:HTTP Request: POST https://philipp.openai.azure.com//openai/deployments/gpt-4/chat/completions?api-version=2023-05-15 \"HTTP/1.1 200 OK\"\n"
     ]
    },
    {
     "name": "stdout",
     "output_type": "stream",
     "text": [
      "Sentence: \"Snakes have noses, mouths, and lungs, to help them smell they use their tongues.\" - Classification: 2\n"
     ]
    },
    {
     "name": "stderr",
     "output_type": "stream",
     "text": [
      "INFO:httpx:HTTP Request: POST https://philipp.openai.azure.com//openai/deployments/gpt-4/chat/completions?api-version=2023-05-15 \"HTTP/1.1 200 OK\"\n"
     ]
    },
    {
     "name": "stdout",
     "output_type": "stream",
     "text": [
      "Sentence: \"A river flows in constant motion, many times into an ocean.\" - Classification: 1\n"
     ]
    },
    {
     "name": "stderr",
     "output_type": "stream",
     "text": [
      "INFO:httpx:HTTP Request: POST https://philipp.openai.azure.com//openai/deployments/gpt-4/chat/completions?api-version=2023-05-15 \"HTTP/1.1 200 OK\"\n"
     ]
    },
    {
     "name": "stdout",
     "output_type": "stream",
     "text": [
      "Sentence: \"The Coral Jungle Gym is always filled with young fish.\" - Classification: 3\n"
     ]
    },
    {
     "name": "stderr",
     "output_type": "stream",
     "text": [
      "INFO:httpx:HTTP Request: POST https://philipp.openai.azure.com//openai/deployments/gpt-4/chat/completions?api-version=2023-05-15 \"HTTP/1.1 200 OK\"\n"
     ]
    },
    {
     "name": "stdout",
     "output_type": "stream",
     "text": [
      "Sentence: \"Most of the Swimming Gungaloo live in a hut made of kelp.\" - Classification: 3\n"
     ]
    },
    {
     "name": "stderr",
     "output_type": "stream",
     "text": [
      "INFO:httpx:HTTP Request: POST https://philipp.openai.azure.com//openai/deployments/gpt-4/chat/completions?api-version=2023-05-15 \"HTTP/1.1 200 OK\"\n"
     ]
    },
    {
     "name": "stdout",
     "output_type": "stream",
     "text": [
      "Sentence: \"Whoever scores the most goals wins!\" - Classification: 1\n"
     ]
    },
    {
     "name": "stderr",
     "output_type": "stream",
     "text": [
      "INFO:httpx:HTTP Request: POST https://philipp.openai.azure.com//openai/deployments/gpt-4/chat/completions?api-version=2023-05-15 \"HTTP/1.1 200 OK\"\n"
     ]
    },
    {
     "name": "stdout",
     "output_type": "stream",
     "text": [
      "Sentence: \"They are some of the most colorful and special of all the sea creatures.\" - Classification: 5\n"
     ]
    },
    {
     "name": "stderr",
     "output_type": "stream",
     "text": [
      "INFO:httpx:HTTP Request: POST https://philipp.openai.azure.com//openai/deployments/gpt-4/chat/completions?api-version=2023-05-15 \"HTTP/1.1 200 OK\"\n"
     ]
    },
    {
     "name": "stdout",
     "output_type": "stream",
     "text": [
      "Sentence: \"“Figgy Melons grow here and not there.\" - Classification: 2\n"
     ]
    },
    {
     "name": "stderr",
     "output_type": "stream",
     "text": [
      "INFO:httpx:HTTP Request: POST https://philipp.openai.azure.com//openai/deployments/gpt-4/chat/completions?api-version=2023-05-15 \"HTTP/1.1 200 OK\"\n"
     ]
    },
    {
     "name": "stdout",
     "output_type": "stream",
     "text": [
      "Sentence: \"And ever since then the cricket stays on the ground like his friend the ant, and hops from place to place.\" - Classification: 1\n"
     ]
    },
    {
     "name": "stderr",
     "output_type": "stream",
     "text": [
      "INFO:httpx:HTTP Request: POST https://philipp.openai.azure.com//openai/deployments/gpt-4/chat/completions?api-version=2023-05-15 \"HTTP/1.1 200 OK\"\n"
     ]
    },
    {
     "name": "stdout",
     "output_type": "stream",
     "text": [
      "Sentence: \"And now the cricket is the fastest and fanciest hopper there is.\" - Classification: 1\n"
     ]
    },
    {
     "name": "stderr",
     "output_type": "stream",
     "text": [
      "INFO:httpx:HTTP Request: POST https://philipp.openai.azure.com//openai/deployments/gpt-4/chat/completions?api-version=2023-05-15 \"HTTP/1.1 200 OK\"\n"
     ]
    },
    {
     "name": "stdout",
     "output_type": "stream",
     "text": [
      "Sentence: \"They don’t shake hands, they wiggle tails.\" - Classification: 3\n"
     ]
    },
    {
     "name": "stderr",
     "output_type": "stream",
     "text": [
      "INFO:httpx:HTTP Request: POST https://philipp.openai.azure.com//openai/deployments/gpt-4/chat/completions?api-version=2023-05-15 \"HTTP/1.1 200 OK\"\n"
     ]
    },
    {
     "name": "stdout",
     "output_type": "stream",
     "text": [
      "Sentence: \"Cameras make them strike their poses.\" - Classification: 4\n"
     ]
    },
    {
     "name": "stderr",
     "output_type": "stream",
     "text": [
      "INFO:httpx:HTTP Request: POST https://philipp.openai.azure.com//openai/deployments/gpt-4/chat/completions?api-version=2023-05-15 \"HTTP/1.1 200 OK\"\n"
     ]
    },
    {
     "name": "stdout",
     "output_type": "stream",
     "text": [
      "Sentence: \"Hairy gifts are customary.\" - Classification: 3\n"
     ]
    },
    {
     "name": "stderr",
     "output_type": "stream",
     "text": [
      "INFO:httpx:HTTP Request: POST https://philipp.openai.azure.com//openai/deployments/gpt-4/chat/completions?api-version=2023-05-15 \"HTTP/1.1 200 OK\"\n"
     ]
    },
    {
     "name": "stdout",
     "output_type": "stream",
     "text": [
      "Sentence: \"Teachers, on the other hand, were a different story.\" - Classification: The\n"
     ]
    },
    {
     "name": "stderr",
     "output_type": "stream",
     "text": [
      "INFO:httpx:HTTP Request: POST https://philipp.openai.azure.com//openai/deployments/gpt-4/chat/completions?api-version=2023-05-15 \"HTTP/1.1 200 OK\"\n"
     ]
    },
    {
     "name": "stdout",
     "output_type": "stream",
     "text": [
      "Sentence: \"Fairies are able to be places without being seen, and to know what is happening as it happens.\" - Classification: 1\n"
     ]
    },
    {
     "name": "stderr",
     "output_type": "stream",
     "text": [
      "INFO:httpx:HTTP Request: POST https://philipp.openai.azure.com//openai/deployments/gpt-4/chat/completions?api-version=2023-05-15 \"HTTP/1.1 200 OK\"\n"
     ]
    },
    {
     "name": "stdout",
     "output_type": "stream",
     "text": [
      "Sentence: \"Items with meaning tend to absorb more lore,” she told me.\" - Classification: 4\n"
     ]
    },
    {
     "name": "stderr",
     "output_type": "stream",
     "text": [
      "INFO:httpx:HTTP Request: POST https://philipp.openai.azure.com//openai/deployments/gpt-4/chat/completions?api-version=2023-05-15 \"HTTP/1.1 200 OK\"\n"
     ]
    },
    {
     "name": "stdout",
     "output_type": "stream",
     "text": [
      "Sentence: \"“Dark clouds can be a source of a magic that we call rile.\" - Classification: 4\n"
     ]
    },
    {
     "name": "stderr",
     "output_type": "stream",
     "text": [
      "INFO:httpx:HTTP Request: POST https://philipp.openai.azure.com//openai/deployments/gpt-4/chat/completions?api-version=2023-05-15 \"HTTP/1.1 200 OK\"\n"
     ]
    },
    {
     "name": "stdout",
     "output_type": "stream",
     "text": [
      "Sentence: \"“A fairytale begins when a single sentence appears in the Book of Lore.\" - Classification: 4\n"
     ]
    },
    {
     "name": "stderr",
     "output_type": "stream",
     "text": [
      "INFO:httpx:HTTP Request: POST https://philipp.openai.azure.com//openai/deployments/gpt-4/chat/completions?api-version=2023-05-15 \"HTTP/1.1 200 OK\"\n"
     ]
    },
    {
     "name": "stdout",
     "output_type": "stream",
     "text": [
      "Sentence: \"“Magic pens are extremely powerful.\" - Classification: 5\n"
     ]
    },
    {
     "name": "stderr",
     "output_type": "stream",
     "text": [
      "INFO:httpx:HTTP Request: POST https://philipp.openai.azure.com//openai/deployments/gpt-4/chat/completions?api-version=2023-05-15 \"HTTP/1.1 200 OK\"\n"
     ]
    },
    {
     "name": "stdout",
     "output_type": "stream",
     "text": [
      "Sentence: \"“As you know by now, magic can be used to disguise.\" - Classification: 4\n"
     ]
    },
    {
     "name": "stderr",
     "output_type": "stream",
     "text": [
      "INFO:httpx:HTTP Request: POST https://philipp.openai.azure.com//openai/deployments/gpt-4/chat/completions?api-version=2023-05-15 \"HTTP/1.1 200 OK\"\n"
     ]
    },
    {
     "name": "stdout",
     "output_type": "stream",
     "text": [
      "Sentence: \"Pirates love hiding treasure on islands like that!” Soy rebutted.\" - Classification: 3\n"
     ]
    },
    {
     "name": "stderr",
     "output_type": "stream",
     "text": [
      "INFO:httpx:HTTP Request: POST https://philipp.openai.azure.com//openai/deployments/gpt-4/chat/completions?api-version=2023-05-15 \"HTTP/1.1 200 OK\"\n"
     ]
    },
    {
     "name": "stdout",
     "output_type": "stream",
     "text": [
      "Sentence: \"“Fairies don’t matter.\" - Classification: This\n"
     ]
    },
    {
     "name": "stderr",
     "output_type": "stream",
     "text": [
      "INFO:httpx:HTTP Request: POST https://philipp.openai.azure.com//openai/deployments/gpt-4/chat/completions?api-version=2023-05-15 \"HTTP/1.1 200 OK\"\n"
     ]
    },
    {
     "name": "stdout",
     "output_type": "stream",
     "text": [
      "Sentence: \"“They’re kids, they don’t know how to camp.\" - Classification: 1\n"
     ]
    },
    {
     "name": "stderr",
     "output_type": "stream",
     "text": [
      "INFO:httpx:HTTP Request: POST https://philipp.openai.azure.com//openai/deployments/gpt-4/chat/completions?api-version=2023-05-15 \"HTTP/1.1 200 OK\"\n"
     ]
    },
    {
     "name": "stdout",
     "output_type": "stream",
     "text": [
      "Sentence: \"Squirrels run around the yard all the time.\" - Classification: 1\n"
     ]
    },
    {
     "name": "stderr",
     "output_type": "stream",
     "text": [
      "INFO:httpx:HTTP Request: POST https://philipp.openai.azure.com//openai/deployments/gpt-4/chat/completions?api-version=2023-05-15 \"HTTP/1.1 200 OK\"\n"
     ]
    },
    {
     "name": "stdout",
     "output_type": "stream",
     "text": [
      "Sentence: \"“As the day rises, the cottontails run.\" - Classification: 1\n"
     ]
    },
    {
     "name": "stderr",
     "output_type": "stream",
     "text": [
      "INFO:httpx:HTTP Request: POST https://philipp.openai.azure.com//openai/deployments/gpt-4/chat/completions?api-version=2023-05-15 \"HTTP/1.1 200 OK\"\n"
     ]
    },
    {
     "name": "stdout",
     "output_type": "stream",
     "text": [
      "Sentence: \"A constellation is just a group of stars.\" - Classification: 5\n"
     ]
    },
    {
     "name": "stderr",
     "output_type": "stream",
     "text": [
      "INFO:httpx:HTTP Request: POST https://philipp.openai.azure.com//openai/deployments/gpt-4/chat/completions?api-version=2023-05-15 \"HTTP/1.1 200 OK\"\n"
     ]
    },
    {
     "name": "stdout",
     "output_type": "stream",
     "text": [
      "Sentence: \"And a compass is a tool.\" - Classification: 4\n"
     ]
    },
    {
     "name": "stderr",
     "output_type": "stream",
     "text": [
      "INFO:httpx:HTTP Request: POST https://philipp.openai.azure.com//openai/deployments/gpt-4/chat/completions?api-version=2023-05-15 \"HTTP/1.1 200 OK\"\n"
     ]
    },
    {
     "name": "stdout",
     "output_type": "stream",
     "text": [
      "Sentence: \"Black holes are, in fact, impossible to describe.\" - Classification: 5\n"
     ]
    },
    {
     "name": "stderr",
     "output_type": "stream",
     "text": [
      "INFO:httpx:HTTP Request: POST https://philipp.openai.azure.com//openai/deployments/gpt-4/chat/completions?api-version=2023-05-15 \"HTTP/1.1 200 OK\"\n"
     ]
    },
    {
     "name": "stdout",
     "output_type": "stream",
     "text": [
      "Sentence: \"Byzongs look like humans in every way except for the many ways in which they do not.\" - Classification: 5\n"
     ]
    },
    {
     "name": "stderr",
     "output_type": "stream",
     "text": [
      "INFO:httpx:HTTP Request: POST https://philipp.openai.azure.com//openai/deployments/gpt-4/chat/completions?api-version=2023-05-15 \"HTTP/1.1 200 OK\"\n"
     ]
    },
    {
     "name": "stdout",
     "output_type": "stream",
     "text": [
      "Sentence: \"They are generally muscular in nature, particularly in the calves and forearms.\" - Classification: 2\n"
     ]
    },
    {
     "name": "stderr",
     "output_type": "stream",
     "text": [
      "INFO:httpx:HTTP Request: POST https://philipp.openai.azure.com//openai/deployments/gpt-4/chat/completions?api-version=2023-05-15 \"HTTP/1.1 200 OK\"\n"
     ]
    },
    {
     "name": "stdout",
     "output_type": "stream",
     "text": [
      "Sentence: \"Instead we rely on names, which in Byzong culture, can never be changed.” “On Earth, names can be changed easily,” he retorted.\" - Classification: 3\n"
     ]
    },
    {
     "name": "stderr",
     "output_type": "stream",
     "text": [
      "INFO:httpx:HTTP Request: POST https://philipp.openai.azure.com//openai/deployments/gpt-4/chat/completions?api-version=2023-05-15 \"HTTP/1.1 200 OK\"\n"
     ]
    },
    {
     "name": "stdout",
     "output_type": "stream",
     "text": [
      "Sentence: \"“A red door means ‘Do Not Disturb’, but Byzongs tend to eavesdrop on red doors.\" - Classification: 3\n"
     ]
    },
    {
     "name": "stderr",
     "output_type": "stream",
     "text": [
      "INFO:httpx:HTTP Request: POST https://philipp.openai.azure.com//openai/deployments/gpt-4/chat/completions?api-version=2023-05-15 \"HTTP/1.1 200 OK\"\n"
     ]
    },
    {
     "name": "stdout",
     "output_type": "stream",
     "text": [
      "Sentence: \"If kids just stopped doing anything every time they got confused.\" - Classification: 1\n"
     ]
    },
    {
     "name": "stderr",
     "output_type": "stream",
     "text": [
      "INFO:httpx:HTTP Request: POST https://philipp.openai.azure.com//openai/deployments/gpt-4/chat/completions?api-version=2023-05-15 \"HTTP/1.1 200 OK\"\n"
     ]
    },
    {
     "name": "stdout",
     "output_type": "stream",
     "text": [
      "Sentence: \"Teleporting isn’t even real.\" - Classification: 5\n"
     ]
    },
    {
     "name": "stderr",
     "output_type": "stream",
     "text": [
      "INFO:httpx:HTTP Request: POST https://philipp.openai.azure.com//openai/deployments/gpt-4/chat/completions?api-version=2023-05-15 \"HTTP/1.1 200 OK\"\n"
     ]
    },
    {
     "name": "stdout",
     "output_type": "stream",
     "text": [
      "Sentence: \"The foam allows all necessary functions while providing essential nutrients.\" - Classification: 4\n"
     ]
    },
    {
     "name": "stderr",
     "output_type": "stream",
     "text": [
      "INFO:httpx:HTTP Request: POST https://philipp.openai.azure.com//openai/deployments/gpt-4/chat/completions?api-version=2023-05-15 \"HTTP/1.1 200 OK\"\n"
     ]
    },
    {
     "name": "stdout",
     "output_type": "stream",
     "text": [
      "Sentence: \"“Robs don’t wear glass.\" - Classification: 3\n"
     ]
    },
    {
     "name": "stderr",
     "output_type": "stream",
     "text": [
      "INFO:httpx:HTTP Request: POST https://philipp.openai.azure.com//openai/deployments/gpt-4/chat/completions?api-version=2023-05-15 \"HTTP/1.1 200 OK\"\n"
     ]
    },
    {
     "name": "stdout",
     "output_type": "stream",
     "text": [
      "Sentence: \"Black holes can sometimes reserve your intestines.\" - Classification: 1\n"
     ]
    },
    {
     "name": "stderr",
     "output_type": "stream",
     "text": [
      "INFO:httpx:HTTP Request: POST https://philipp.openai.azure.com//openai/deployments/gpt-4/chat/completions?api-version=2023-05-15 \"HTTP/1.1 200 OK\"\n"
     ]
    },
    {
     "name": "stdout",
     "output_type": "stream",
     "text": [
      "Sentence: \"Most human memories are not protected by firewalls, secret compartments, or clever diversions.\" - Classification: 5\n"
     ]
    },
    {
     "name": "stderr",
     "output_type": "stream",
     "text": [
      "INFO:httpx:HTTP Request: POST https://philipp.openai.azure.com//openai/deployments/gpt-4/chat/completions?api-version=2023-05-15 \"HTTP/1.1 200 OK\"\n"
     ]
    },
    {
     "name": "stdout",
     "output_type": "stream",
     "text": [
      "Sentence: \"A parrotfish changes color as it grows older.\" - Classification: 2\n"
     ]
    },
    {
     "name": "stderr",
     "output_type": "stream",
     "text": [
      "INFO:httpx:HTTP Request: POST https://philipp.openai.azure.com//openai/deployments/gpt-4/chat/completions?api-version=2023-05-15 \"HTTP/1.1 200 OK\"\n"
     ]
    },
    {
     "name": "stdout",
     "output_type": "stream",
     "text": [
      "Sentence: \"Parrotfish live in the ocean.\" - Classification: 2\n"
     ]
    },
    {
     "name": "stderr",
     "output_type": "stream",
     "text": [
      "INFO:httpx:HTTP Request: POST https://philipp.openai.azure.com//openai/deployments/gpt-4/chat/completions?api-version=2023-05-15 \"HTTP/1.1 200 OK\"\n"
     ]
    },
    {
     "name": "stdout",
     "output_type": "stream",
     "text": [
      "Sentence: \"Fish breathe underwater.\" - Classification: 2\n"
     ]
    },
    {
     "name": "stderr",
     "output_type": "stream",
     "text": [
      "INFO:httpx:HTTP Request: POST https://philipp.openai.azure.com//openai/deployments/gpt-4/chat/completions?api-version=2023-05-15 \"HTTP/1.1 200 OK\"\n"
     ]
    },
    {
     "name": "stdout",
     "output_type": "stream",
     "text": [
      "Sentence: \"Seahorses are funny-looking fish.\" - Classification: 5\n"
     ]
    },
    {
     "name": "stderr",
     "output_type": "stream",
     "text": [
      "INFO:httpx:HTTP Request: POST https://philipp.openai.azure.com//openai/deployments/gpt-4/chat/completions?api-version=2023-05-15 \"HTTP/1.1 200 OK\"\n"
     ]
    },
    {
     "name": "stdout",
     "output_type": "stream",
     "text": [
      "Sentence: \"Their heads look like horses’ head.\" - Classification: 5\n"
     ]
    },
    {
     "name": "stderr",
     "output_type": "stream",
     "text": [
      "INFO:httpx:HTTP Request: POST https://philipp.openai.azure.com//openai/deployments/gpt-4/chat/completions?api-version=2023-05-15 \"HTTP/1.1 200 OK\"\n"
     ]
    },
    {
     "name": "stdout",
     "output_type": "stream",
     "text": [
      "Sentence: \"Seahorses hold onto plant with their tails.\" - Classification: 1\n"
     ]
    },
    {
     "name": "stderr",
     "output_type": "stream",
     "text": [
      "INFO:httpx:HTTP Request: POST https://philipp.openai.azure.com//openai/deployments/gpt-4/chat/completions?api-version=2023-05-15 \"HTTP/1.1 200 OK\"\n"
     ]
    },
    {
     "name": "stdout",
     "output_type": "stream",
     "text": [
      "Sentence: \"A father seahorse has a pouch on his tummy to hold his babies.\" - Classification: 2\n"
     ]
    },
    {
     "name": "stderr",
     "output_type": "stream",
     "text": [
      "INFO:httpx:HTTP Request: POST https://philipp.openai.azure.com//openai/deployments/gpt-4/chat/completions?api-version=2023-05-15 \"HTTP/1.1 200 OK\"\n"
     ]
    },
    {
     "name": "stdout",
     "output_type": "stream",
     "text": [
      "Sentence: \"A sea turtle uses its flippers to swim through the ocean.\" - Classification: 4\n"
     ]
    },
    {
     "name": "stderr",
     "output_type": "stream",
     "text": [
      "INFO:httpx:HTTP Request: POST https://philipp.openai.azure.com//openai/deployments/gpt-4/chat/completions?api-version=2023-05-15 \"HTTP/1.1 200 OK\"\n"
     ]
    },
    {
     "name": "stdout",
     "output_type": "stream",
     "text": [
      "Sentence: \"Sea stars live on the bottom of the ocean.\" - Classification: 2\n"
     ]
    },
    {
     "name": "stderr",
     "output_type": "stream",
     "text": [
      "INFO:httpx:HTTP Request: POST https://philipp.openai.azure.com//openai/deployments/gpt-4/chat/completions?api-version=2023-05-15 \"HTTP/1.1 200 OK\"\n"
     ]
    },
    {
     "name": "stdout",
     "output_type": "stream",
     "text": [
      "Sentence: \"They use their arms to walk.\" - Classification: 1\n"
     ]
    },
    {
     "name": "stderr",
     "output_type": "stream",
     "text": [
      "INFO:httpx:HTTP Request: POST https://philipp.openai.azure.com//openai/deployments/gpt-4/chat/completions?api-version=2023-05-15 \"HTTP/1.1 200 OK\"\n"
     ]
    },
    {
     "name": "stdout",
     "output_type": "stream",
     "text": [
      "Sentence: \"Some kinds of sea stars have more than five arms.\" - Classification: 2\n"
     ]
    },
    {
     "name": "stderr",
     "output_type": "stream",
     "text": [
      "INFO:httpx:HTTP Request: POST https://philipp.openai.azure.com//openai/deployments/gpt-4/chat/completions?api-version=2023-05-15 \"HTTP/1.1 200 OK\"\n"
     ]
    },
    {
     "name": "stdout",
     "output_type": "stream",
     "text": [
      "Sentence: \"A humpback whale is as big as a school bus.\" - Classification: 5\n"
     ]
    },
    {
     "name": "stderr",
     "output_type": "stream",
     "text": [
      "INFO:httpx:HTTP Request: POST https://philipp.openai.azure.com//openai/deployments/gpt-4/chat/completions?api-version=2023-05-15 \"HTTP/1.1 200 OK\"\n"
     ]
    },
    {
     "name": "stdout",
     "output_type": "stream",
     "text": [
      "Sentence: \"Humpback whales sometimes leap out of the ocean.\" - Classification: 1\n"
     ]
    },
    {
     "name": "stderr",
     "output_type": "stream",
     "text": [
      "INFO:httpx:HTTP Request: POST https://philipp.openai.azure.com//openai/deployments/gpt-4/chat/completions?api-version=2023-05-15 \"HTTP/1.1 200 OK\"\n"
     ]
    },
    {
     "name": "stdout",
     "output_type": "stream",
     "text": [
      "Sentence: \"Humpback Whales don't have teeth.\" - Classification: 2\n"
     ]
    },
    {
     "name": "stderr",
     "output_type": "stream",
     "text": [
      "INFO:httpx:HTTP Request: POST https://philipp.openai.azure.com//openai/deployments/gpt-4/chat/completions?api-version=2023-05-15 \"HTTP/1.1 200 OK\"\n"
     ]
    },
    {
     "name": "stdout",
     "output_type": "stream",
     "text": [
      "Sentence: \"Eagles’ eyes spot fish in the water.\" - Classification: 1\n"
     ]
    },
    {
     "name": "stderr",
     "output_type": "stream",
     "text": [
      "INFO:httpx:HTTP Request: POST https://philipp.openai.azure.com//openai/deployments/gpt-4/chat/completions?api-version=2023-05-15 \"HTTP/1.1 200 OK\"\n"
     ]
    },
    {
     "name": "stdout",
     "output_type": "stream",
     "text": [
      "Sentence: \"Owls’ eyes find food in the forest.\" - Classification: 1\n"
     ]
    },
    {
     "name": "stderr",
     "output_type": "stream",
     "text": [
      "INFO:httpx:HTTP Request: POST https://philipp.openai.azure.com//openai/deployments/gpt-4/chat/completions?api-version=2023-05-15 \"HTTP/1.1 200 OK\"\n"
     ]
    },
    {
     "name": "stdout",
     "output_type": "stream",
     "text": [
      "Sentence: \"Pandas’ mouths eat bamboo.\" - Classification: 1\n"
     ]
    },
    {
     "name": "stderr",
     "output_type": "stream",
     "text": [
      "INFO:httpx:HTTP Request: POST https://philipp.openai.azure.com//openai/deployments/gpt-4/chat/completions?api-version=2023-05-15 \"HTTP/1.1 200 OK\"\n"
     ]
    },
    {
     "name": "stdout",
     "output_type": "stream",
     "text": [
      "Sentence: \"Tigers’ mouths drink water.\" - Classification: 1\n"
     ]
    },
    {
     "name": "stderr",
     "output_type": "stream",
     "text": [
      "INFO:httpx:HTTP Request: POST https://philipp.openai.azure.com//openai/deployments/gpt-4/chat/completions?api-version=2023-05-15 \"HTTP/1.1 200 OK\"\n"
     ]
    },
    {
     "name": "stdout",
     "output_type": "stream",
     "text": [
      "Sentence: \"Roosters crow in the morning.\" - Classification: 1\n"
     ]
    },
    {
     "name": "stderr",
     "output_type": "stream",
     "text": [
      "INFO:httpx:HTTP Request: POST https://philipp.openai.azure.com//openai/deployments/gpt-4/chat/completions?api-version=2023-05-15 \"HTTP/1.1 200 OK\"\n"
     ]
    },
    {
     "name": "stdout",
     "output_type": "stream",
     "text": [
      "Sentence: \"Frogs croak all day.\" - Classification: 1\n"
     ]
    },
    {
     "name": "stderr",
     "output_type": "stream",
     "text": [
      "INFO:httpx:HTTP Request: POST https://philipp.openai.azure.com//openai/deployments/gpt-4/chat/completions?api-version=2023-05-15 \"HTTP/1.1 200 OK\"\n"
     ]
    },
    {
     "name": "stdout",
     "output_type": "stream",
     "text": [
      "Sentence: \"Elephants use their ears to listen.\" - Classification: 4\n"
     ]
    },
    {
     "name": "stderr",
     "output_type": "stream",
     "text": [
      "INFO:httpx:HTTP Request: POST https://philipp.openai.azure.com//openai/deployments/gpt-4/chat/completions?api-version=2023-05-15 \"HTTP/1.1 200 OK\"\n"
     ]
    },
    {
     "name": "stdout",
     "output_type": "stream",
     "text": [
      "Sentence: \"And bears use their furry little ears.\" - Classification: 4\n"
     ]
    },
    {
     "name": "stderr",
     "output_type": "stream",
     "text": [
      "INFO:httpx:HTTP Request: POST https://philipp.openai.azure.com//openai/deployments/gpt-4/chat/completions?api-version=2023-05-15 \"HTTP/1.1 200 OK\"\n"
     ]
    },
    {
     "name": "stdout",
     "output_type": "stream",
     "text": [
      "Sentence: \"bear (BAlR): A bear is a large, furry mammal.\" - Classification: 2\n"
     ]
    },
    {
     "name": "stderr",
     "output_type": "stream",
     "text": [
      "INFO:httpx:HTTP Request: POST https://philipp.openai.azure.com//openai/deployments/gpt-4/chat/completions?api-version=2023-05-15 \"HTTP/1.1 200 OK\"\n"
     ]
    },
    {
     "name": "stdout",
     "output_type": "stream",
     "text": [
      "Sentence: \"A baby bear is called a cub.\" - Classification: 2\n"
     ]
    },
    {
     "name": "stderr",
     "output_type": "stream",
     "text": [
      "INFO:httpx:HTTP Request: POST https://philipp.openai.azure.com//openai/deployments/gpt-4/chat/completions?api-version=2023-05-15 \"HTTP/1.1 200 OK\"\n"
     ]
    },
    {
     "name": "stdout",
     "output_type": "stream",
     "text": [
      "Sentence: \"bug (BUHG): A bug is an insect with one ortwo pairs of wings and six legs.\" - Classification: 2\n"
     ]
    },
    {
     "name": "stderr",
     "output_type": "stream",
     "text": [
      "INFO:httpx:HTTP Request: POST https://philipp.openai.azure.com//openai/deployments/gpt-4/chat/completions?api-version=2023-05-15 \"HTTP/1.1 200 OK\"\n"
     ]
    },
    {
     "name": "stdout",
     "output_type": "stream",
     "text": [
      "Sentence: \"bunny (BUHN-ee): A bunny is a rabbit.\" - Classification: 5\n"
     ]
    },
    {
     "name": "stderr",
     "output_type": "stream",
     "text": [
      "INFO:httpx:HTTP Request: POST https://philipp.openai.azure.com//openai/deployments/gpt-4/chat/completions?api-version=2023-05-15 \"HTTP/1.1 200 OK\"\n"
     ]
    },
    {
     "name": "stdout",
     "output_type": "stream",
     "text": [
      "Sentence: \"Abunny has long ears and soft fur.\" - Classification: 2\n"
     ]
    },
    {
     "name": "stderr",
     "output_type": "stream",
     "text": [
      "INFO:httpx:HTTP Request: POST https://philipp.openai.azure.com//openai/deployments/gpt-4/chat/completions?api-version=2023-05-15 \"HTTP/1.1 200 OK\"\n"
     ]
    },
    {
     "name": "stdout",
     "output_type": "stream",
     "text": [
      "Sentence: \"deer (DIHR): A deer is an animal that eats plants, has four long legs, and a furry body.\" - Classification: 2\n"
     ]
    },
    {
     "name": "stderr",
     "output_type": "stream",
     "text": [
      "INFO:httpx:HTTP Request: POST https://philipp.openai.azure.com//openai/deployments/gpt-4/chat/completions?api-version=2023-05-15 \"HTTP/1.1 200 OK\"\n"
     ]
    },
    {
     "name": "stdout",
     "output_type": "stream",
     "text": [
      "Sentence: \"fox (FOKS): A fox is a small animal that is related to a dog.\" - Classification: 2\n"
     ]
    },
    {
     "name": "stderr",
     "output_type": "stream",
     "text": [
      "INFO:httpx:HTTP Request: POST https://philipp.openai.azure.com//openai/deployments/gpt-4/chat/completions?api-version=2023-05-15 \"HTTP/1.1 200 OK\"\n"
     ]
    },
    {
     "name": "stdout",
     "output_type": "stream",
     "text": [
      "Sentence: \"A fox is usually red, has pointed ears, and a bushy tail.\" - Classification: 2\n"
     ]
    },
    {
     "name": "stderr",
     "output_type": "stream",
     "text": [
      "INFO:httpx:HTTP Request: POST https://philipp.openai.azure.com//openai/deployments/gpt-4/chat/completions?api-version=2023-05-15 \"HTTP/1.1 200 OK\"\n"
     ]
    },
    {
     "name": "stdout",
     "output_type": "stream",
     "text": [
      "Sentence: \"snail (SNAYL): A snail is a soft, slimy creature with a shell on its back.\" - Classification: 5\n"
     ]
    },
    {
     "name": "stderr",
     "output_type": "stream",
     "text": [
      "INFO:httpx:HTTP Request: POST https://philipp.openai.azure.com//openai/deployments/gpt-4/chat/completions?api-version=2023-05-15 \"HTTP/1.1 200 OK\"\n"
     ]
    },
    {
     "name": "stdout",
     "output_type": "stream",
     "text": [
      "Sentence: \"A snail has one foot, but no legs.\" - Classification: 2\n"
     ]
    },
    {
     "name": "stderr",
     "output_type": "stream",
     "text": [
      "INFO:httpx:HTTP Request: POST https://philipp.openai.azure.com//openai/deployments/gpt-4/chat/completions?api-version=2023-05-15 \"HTTP/1.1 200 OK\"\n"
     ]
    },
    {
     "name": "stdout",
     "output_type": "stream",
     "text": [
      "Sentence: \"spider (SPYE-dur): A spider has eight legs, nowings, a head,and an abdomen.\" - Classification: 2\n"
     ]
    },
    {
     "name": "stderr",
     "output_type": "stream",
     "text": [
      "INFO:httpx:HTTP Request: POST https://philipp.openai.azure.com//openai/deployments/gpt-4/chat/completions?api-version=2023-05-15 \"HTTP/1.1 200 OK\"\n"
     ]
    },
    {
     "name": "stdout",
     "output_type": "stream",
     "text": [
      "Sentence: \"squirrel (SKWURL): A squirrel is a small rodent with a bushy tail.\" - Classification: 2\n"
     ]
    },
    {
     "name": "stderr",
     "output_type": "stream",
     "text": [
      "INFO:httpx:HTTP Request: POST https://philipp.openai.azure.com//openai/deployments/gpt-4/chat/completions?api-version=2023-05-15 \"HTTP/1.1 200 OK\"\n"
     ]
    },
    {
     "name": "stdout",
     "output_type": "stream",
     "text": [
      "Sentence: \"A squirrel eats nuts and plants.\" - Classification: 1\n"
     ]
    },
    {
     "name": "stderr",
     "output_type": "stream",
     "text": [
      "INFO:httpx:HTTP Request: POST https://philipp.openai.azure.com//openai/deployments/gpt-4/chat/completions?api-version=2023-05-15 \"HTTP/1.1 200 OK\"\n"
     ]
    },
    {
     "name": "stdout",
     "output_type": "stream",
     "text": [
      "Sentence: \"Alligators live in lakes and rivers.\" - Classification: 2\n"
     ]
    },
    {
     "name": "stderr",
     "output_type": "stream",
     "text": [
      "INFO:httpx:HTTP Request: POST https://philipp.openai.azure.com//openai/deployments/gpt-4/chat/completions?api-version=2023-05-15 \"HTTP/1.1 200 OK\"\n"
     ]
    },
    {
     "name": "stdout",
     "output_type": "stream",
     "text": [
      "Sentence: \"armadillo (ar-muh-DILoh): A small mammal that lives in warm areas，such as rainforests and grasslands, An armadillo's body is protected by a hard covering.\" - Classification: 2\n"
     ]
    },
    {
     "name": "stderr",
     "output_type": "stream",
     "text": [
      "INFO:httpx:HTTP Request: POST https://philipp.openai.azure.com//openai/deployments/gpt-4/chat/completions?api-version=2023-05-15 \"HTTP/1.1 200 OK\"\n"
     ]
    },
    {
     "name": "stdout",
     "output_type": "stream",
     "text": [
      "Sentence: \"beaver (BEE-vur): An animal with a wide,flat tail that lives on land and in the waterBeavers cut down small frees with their large teeth.\" - Classification: 1\n"
     ]
    },
    {
     "name": "stderr",
     "output_type": "stream",
     "text": [
      "INFO:httpx:HTTP Request: POST https://philipp.openai.azure.com//openai/deployments/gpt-4/chat/completions?api-version=2023-05-15 \"HTTP/1.1 200 OK\"\n"
     ]
    },
    {
     "name": "stdout",
     "output_type": "stream",
     "text": [
      "Sentence: \"deer (DIHR): A deer is a mammal that eats plants and lives in a meadow or forest, It has long legs and can run very fast.\" - Classification: 2\n"
     ]
    },
    {
     "name": "stderr",
     "output_type": "stream",
     "text": [
      "INFO:httpx:HTTP Request: POST https://philipp.openai.azure.com//openai/deployments/gpt-4/chat/completions?api-version=2023-05-15 \"HTTP/1.1 200 OK\"\n"
     ]
    },
    {
     "name": "stdout",
     "output_type": "stream",
     "text": [
      "Sentence: \"Lizards come in different sizes and colors.\" - Classification: 5\n"
     ]
    },
    {
     "name": "stderr",
     "output_type": "stream",
     "text": [
      "INFO:httpx:HTTP Request: POST https://philipp.openai.azure.com//openai/deployments/gpt-4/chat/completions?api-version=2023-05-15 \"HTTP/1.1 200 OK\"\n"
     ]
    },
    {
     "name": "stdout",
     "output_type": "stream",
     "text": [
      "Sentence: \"raccoon (ra-KOON): A small black and white mammal that lives in the woods.\" - Classification: 5\n"
     ]
    },
    {
     "name": "stderr",
     "output_type": "stream",
     "text": [
      "INFO:httpx:HTTP Request: POST https://philipp.openai.azure.com//openai/deployments/gpt-4/chat/completions?api-version=2023-05-15 \"HTTP/1.1 200 OK\"\n"
     ]
    },
    {
     "name": "stdout",
     "output_type": "stream",
     "text": [
      "Sentence: \"Raccoonshave rings on their tales and black fur on their faces that look like a mask.\" - Classification: 2\n"
     ]
    },
    {
     "name": "stderr",
     "output_type": "stream",
     "text": [
      "INFO:httpx:HTTP Request: POST https://philipp.openai.azure.com//openai/deployments/gpt-4/chat/completions?api-version=2023-05-15 \"HTTP/1.1 200 OK\"\n"
     ]
    },
    {
     "name": "stdout",
     "output_type": "stream",
     "text": [
      "Sentence: \"All birds laveggs，and most can fly.\" - Classification: 2\n"
     ]
    },
    {
     "name": "stderr",
     "output_type": "stream",
     "text": [
      "INFO:httpx:HTTP Request: POST https://philipp.openai.azure.com//openai/deployments/gpt-4/chat/completions?api-version=2023-05-15 \"HTTP/1.1 200 OK\"\n"
     ]
    },
    {
     "name": "stdout",
     "output_type": "stream",
     "text": [
      "Sentence: \"cricket (KRIK-it): An insect that jumps like grasshopper and makes a chirping sound.\" - Classification: 1\n"
     ]
    },
    {
     "name": "stderr",
     "output_type": "stream",
     "text": [
      "INFO:httpx:HTTP Request: POST https://philipp.openai.azure.com//openai/deployments/gpt-4/chat/completions?api-version=2023-05-15 \"HTTP/1.1 200 OK\"\n"
     ]
    },
    {
     "name": "stdout",
     "output_type": "stream",
     "text": [
      "Sentence: \"kitten (KIT-uhn): A cat that is not fully grown.\" - Classification: 2\n"
     ]
    },
    {
     "name": "stderr",
     "output_type": "stream",
     "text": [
      "INFO:httpx:HTTP Request: POST https://philipp.openai.azure.com//openai/deployments/gpt-4/chat/completions?api-version=2023-05-15 \"HTTP/1.1 200 OK\"\n"
     ]
    },
    {
     "name": "stdout",
     "output_type": "stream",
     "text": [
      "Sentence: \"pig (PIG): A farm animal with short legs,hoofs, and a long snout used for digging puppy (PUHPee): A dog that is not fully grown\" - Classification: 2\n"
     ]
    },
    {
     "name": "stderr",
     "output_type": "stream",
     "text": [
      "INFO:httpx:HTTP Request: POST https://philipp.openai.azure.com//openai/deployments/gpt-4/chat/completions?api-version=2023-05-15 \"HTTP/1.1 200 OK\"\n"
     ]
    },
    {
     "name": "stdout",
     "output_type": "stream",
     "text": [
      "Sentence: \"fish (FISH): An animal with scales, fins, andgills.\" - Classification: 2\n"
     ]
    },
    {
     "name": "stderr",
     "output_type": "stream",
     "text": [
      "INFO:httpx:HTTP Request: POST https://philipp.openai.azure.com//openai/deployments/gpt-4/chat/completions?api-version=2023-05-15 \"HTTP/1.1 200 OK\"\n"
     ]
    },
    {
     "name": "stdout",
     "output_type": "stream",
     "text": [
      "Sentence: \"Fish live in rivers, lakes, and oceans.\" - Classification: 2\n"
     ]
    },
    {
     "name": "stderr",
     "output_type": "stream",
     "text": [
      "INFO:httpx:HTTP Request: POST https://philipp.openai.azure.com//openai/deployments/gpt-4/chat/completions?api-version=2023-05-15 \"HTTP/1.1 200 OK\"\n"
     ]
    },
    {
     "name": "stdout",
     "output_type": "stream",
     "text": [
      "Sentence: \"pony (POH-nee): An animal that looks like a small horse,but stays small even when it is full grown.\" - Classification: 2\n"
     ]
    },
    {
     "name": "stderr",
     "output_type": "stream",
     "text": [
      "INFO:httpx:HTTP Request: POST https://philipp.openai.azure.com//openai/deployments/gpt-4/chat/completions?api-version=2023-05-15 \"HTTP/1.1 200 OK\"\n"
     ]
    },
    {
     "name": "stdout",
     "output_type": "stream",
     "text": [
      "Sentence: \"kitten (KIT-uhn): A kitten is a young cat.\" - Classification: 2\n"
     ]
    },
    {
     "name": "stderr",
     "output_type": "stream",
     "text": [
      "INFO:httpx:HTTP Request: POST https://philipp.openai.azure.com//openai/deployments/gpt-4/chat/completions?api-version=2023-05-15 \"HTTP/1.1 200 OK\"\n"
     ]
    },
    {
     "name": "stdout",
     "output_type": "stream",
     "text": [
      "Sentence: \"Ittakes about a week after a kitten is born for its eyes and ears to open.\" - Classification: 2\n"
     ]
    },
    {
     "name": "stderr",
     "output_type": "stream",
     "text": [
      "INFO:httpx:HTTP Request: POST https://philipp.openai.azure.com//openai/deployments/gpt-4/chat/completions?api-version=2023-05-15 \"HTTP/1.1 200 OK\"\n"
     ]
    },
    {
     "name": "stdout",
     "output_type": "stream",
     "text": [
      "Sentence: \"You can share calm.\" - Classification: 3\n"
     ]
    },
    {
     "name": "stderr",
     "output_type": "stream",
     "text": [
      "INFO:httpx:HTTP Request: POST https://philipp.openai.azure.com//openai/deployments/gpt-4/chat/completions?api-version=2023-05-15 \"HTTP/1.1 200 OK\"\n"
     ]
    },
    {
     "name": "stdout",
     "output_type": "stream",
     "text": [
      "Sentence: \"What friends do.\" - Classification: 1\n"
     ]
    },
    {
     "name": "stderr",
     "output_type": "stream",
     "text": [
      "INFO:httpx:HTTP Request: POST https://philipp.openai.azure.com//openai/deployments/gpt-4/chat/completions?api-version=2023-05-15 \"HTTP/1.1 200 OK\"\n"
     ]
    },
    {
     "name": "stdout",
     "output_type": "stream",
     "text": [
      "Sentence: \"Friends are kind to each other.\" - Classification: 3\n"
     ]
    },
    {
     "name": "stderr",
     "output_type": "stream",
     "text": [
      "INFO:httpx:HTTP Request: POST https://philipp.openai.azure.com//openai/deployments/gpt-4/chat/completions?api-version=2023-05-15 \"HTTP/1.1 200 OK\"\n"
     ]
    },
    {
     "name": "stdout",
     "output_type": "stream",
     "text": [
      "Sentence: \"cares (kairs): A person cares whenthey feel interest or concern.\" - Classification: 1\n"
     ]
    },
    {
     "name": "stderr",
     "output_type": "stream",
     "text": [
      "INFO:httpx:HTTP Request: POST https://philipp.openai.azure.com//openai/deployments/gpt-4/chat/completions?api-version=2023-05-15 \"HTTP/1.1 200 OK\"\n"
     ]
    },
    {
     "name": "stdout",
     "output_type": "stream",
     "text": [
      "Sentence: \"Making new friends is fun.\" - Classification: 3\n"
     ]
    },
    {
     "name": "stderr",
     "output_type": "stream",
     "text": [
      "INFO:httpx:HTTP Request: POST https://philipp.openai.azure.com//openai/deployments/gpt-4/chat/completions?api-version=2023-05-15 \"HTTP/1.1 200 OK\"\n"
     ]
    },
    {
     "name": "stdout",
     "output_type": "stream",
     "text": [
      "Sentence: \"Friends are supposed to share.\" - Classification: 3\n"
     ]
    },
    {
     "name": "stderr",
     "output_type": "stream",
     "text": [
      "INFO:httpx:HTTP Request: POST https://philipp.openai.azure.com//openai/deployments/gpt-4/chat/completions?api-version=2023-05-15 \"HTTP/1.1 200 OK\"\n"
     ]
    },
    {
     "name": "stdout",
     "output_type": "stream",
     "text": [
      "Sentence: \"Plants don’t have feet or fins or wings, yet they can move in many ways.\" - Classification: 2\n"
     ]
    },
    {
     "name": "stderr",
     "output_type": "stream",
     "text": [
      "INFO:httpx:HTTP Request: POST https://philipp.openai.azure.com//openai/deployments/gpt-4/chat/completions?api-version=2023-05-15 \"HTTP/1.1 200 OK\"\n"
     ]
    },
    {
     "name": "stdout",
     "output_type": "stream",
     "text": [
      "Sentence: \"Plants can wiggle.\" - Classification: 1\n"
     ]
    },
    {
     "name": "stderr",
     "output_type": "stream",
     "text": [
      "INFO:httpx:HTTP Request: POST https://philipp.openai.azure.com//openai/deployments/gpt-4/chat/completions?api-version=2023-05-15 \"HTTP/1.1 200 OK\"\n"
     ]
    },
    {
     "name": "stdout",
     "output_type": "stream",
     "text": [
      "Sentence: \"Plants can creep.\" - Classification: 1\n"
     ]
    },
    {
     "name": "stderr",
     "output_type": "stream",
     "text": [
      "INFO:httpx:HTTP Request: POST https://philipp.openai.azure.com//openai/deployments/gpt-4/chat/completions?api-version=2023-05-15 \"HTTP/1.1 200 OK\"\n"
     ]
    },
    {
     "name": "stdout",
     "output_type": "stream",
     "text": [
      "Sentence: \"Plants can hide from a hungry grasshopper or surprise a fly.\" - Classification: 1\n"
     ]
    },
    {
     "name": "stderr",
     "output_type": "stream",
     "text": [
      "INFO:httpx:HTTP Request: POST https://philipp.openai.azure.com//openai/deployments/gpt-4/chat/completions?api-version=2023-05-15 \"HTTP/1.1 200 OK\"\n"
     ]
    },
    {
     "name": "stdout",
     "output_type": "stream",
     "text": [
      "Sentence: \"Some plants sleep at night, leaves nodding, flowers folding.\" - Classification: 1\n"
     ]
    },
    {
     "name": "stderr",
     "output_type": "stream",
     "text": [
      "INFO:httpx:HTTP Request: POST https://philipp.openai.azure.com//openai/deployments/gpt-4/chat/completions?api-version=2023-05-15 \"HTTP/1.1 200 OK\"\n"
     ]
    },
    {
     "name": "stdout",
     "output_type": "stream",
     "text": [
      "Sentence: \"Plants can tumble on a breeze.\" - Classification: 1\n"
     ]
    },
    {
     "name": "stderr",
     "output_type": "stream",
     "text": [
      "INFO:httpx:HTTP Request: POST https://philipp.openai.azure.com//openai/deployments/gpt-4/chat/completions?api-version=2023-05-15 \"HTTP/1.1 200 OK\"\n"
     ]
    },
    {
     "name": "stdout",
     "output_type": "stream",
     "text": [
      "Sentence: \"As they bounce along, seeds sprinkle out.\" - Classification: 4\n"
     ]
    },
    {
     "name": "stderr",
     "output_type": "stream",
     "text": [
      "INFO:httpx:HTTP Request: POST https://philipp.openai.azure.com//openai/deployments/gpt-4/chat/completions?api-version=2023-05-15 \"HTTP/1.1 200 OK\"\n"
     ]
    },
    {
     "name": "stdout",
     "output_type": "stream",
     "text": [
      "Sentence: \"Plants even explode!\" - Classification: 1\n"
     ]
    },
    {
     "name": "stderr",
     "output_type": "stream",
     "text": [
      "INFO:httpx:HTTP Request: POST https://philipp.openai.azure.com//openai/deployments/gpt-4/chat/completions?api-version=2023-05-15 \"HTTP/1.1 200 OK\"\n"
     ]
    },
    {
     "name": "stdout",
     "output_type": "stream",
     "text": [
      "Sentence: \"A seed is a plant built for travel.\" - Classification: 4\n"
     ]
    },
    {
     "name": "stderr",
     "output_type": "stream",
     "text": [
      "INFO:httpx:HTTP Request: POST https://philipp.openai.azure.com//openai/deployments/gpt-4/chat/completions?api-version=2023-05-15 \"HTTP/1.1 200 OK\"\n"
     ]
    },
    {
     "name": "stdout",
     "output_type": "stream",
     "text": [
      "Sentence: \"Seeds can whirl like helicopters or float on parachutes or glide on papery wings.\" - Classification: 4\n"
     ]
    },
    {
     "name": "stderr",
     "output_type": "stream",
     "text": [
      "INFO:httpx:HTTP Request: POST https://philipp.openai.azure.com//openai/deployments/gpt-4/chat/completions?api-version=2023-05-15 \"HTTP/1.1 200 OK\"\n"
     ]
    },
    {
     "name": "stdout",
     "output_type": "stream",
     "text": [
      "Sentence: \"Seeds hitchhike on your sock or on a fox’s bushy tail.\" - Classification: 4\n"
     ]
    },
    {
     "name": "stderr",
     "output_type": "stream",
     "text": [
      "INFO:httpx:HTTP Request: POST https://philipp.openai.azure.com//openai/deployments/gpt-4/chat/completions?api-version=2023-05-15 \"HTTP/1.1 200 OK\"\n"
     ]
    },
    {
     "name": "stdout",
     "output_type": "stream",
     "text": [
      "Sentence: \"Seeds set sail.\" - Classification: 4\n"
     ]
    },
    {
     "name": "stderr",
     "output_type": "stream",
     "text": [
      "INFO:httpx:HTTP Request: POST https://philipp.openai.azure.com//openai/deployments/gpt-4/chat/completions?api-version=2023-05-15 \"HTTP/1.1 200 OK\"\n"
     ]
    },
    {
     "name": "stdout",
     "output_type": "stream",
     "text": [
      "Sentence: \"Waiting… for what all plants need: water, sunshine, and room to grow.\" - Classification: 4\n"
     ]
    },
    {
     "name": "stderr",
     "output_type": "stream",
     "text": [
      "INFO:httpx:HTTP Request: POST https://philipp.openai.azure.com//openai/deployments/gpt-4/chat/completions?api-version=2023-05-15 \"HTTP/1.1 200 OK\"\n"
     ]
    },
    {
     "name": "stdout",
     "output_type": "stream",
     "text": [
      "Sentence: \"When the seed finds a spot the seedling squirms out.\" - Classification: 4\n"
     ]
    },
    {
     "name": "stderr",
     "output_type": "stream",
     "text": [
      "INFO:httpx:HTTP Request: POST https://philipp.openai.azure.com//openai/deployments/gpt-4/chat/completions?api-version=2023-05-15 \"HTTP/1.1 200 OK\"\n"
     ]
    },
    {
     "name": "stdout",
     "output_type": "stream",
     "text": [
      "Sentence: \"It unfolds its leaves.\" - Classification: 1\n"
     ]
    },
    {
     "name": "stderr",
     "output_type": "stream",
     "text": [
      "INFO:httpx:HTTP Request: POST https://philipp.openai.azure.com//openai/deployments/gpt-4/chat/completions?api-version=2023-05-15 \"HTTP/1.1 200 OK\"\n"
     ]
    },
    {
     "name": "stdout",
     "output_type": "stream",
     "text": [
      "Sentence: \"And it keeps on moving-because plants can’t sit still.\" - Classification: 1\n"
     ]
    },
    {
     "name": "stderr",
     "output_type": "stream",
     "text": [
      "INFO:httpx:HTTP Request: POST https://philipp.openai.azure.com//openai/deployments/gpt-4/chat/completions?api-version=2023-05-15 \"HTTP/1.1 200 OK\"\n"
     ]
    },
    {
     "name": "stdout",
     "output_type": "stream",
     "text": [
      "Sentence: \"Even servants and hired hands could choose to leave a cruel master.\" - Classification: 3\n"
     ]
    },
    {
     "name": "stderr",
     "output_type": "stream",
     "text": [
      "INFO:httpx:HTTP Request: POST https://philipp.openai.azure.com//openai/deployments/gpt-4/chat/completions?api-version=2023-05-15 \"HTTP/1.1 200 OK\"\n"
     ]
    },
    {
     "name": "stdout",
     "output_type": "stream",
     "text": [
      "Sentence: \"Hunting buffalo was dangerous.\" - Classification: 1\n"
     ]
    },
    {
     "name": "stderr",
     "output_type": "stream",
     "text": [
      "INFO:httpx:HTTP Request: POST https://philipp.openai.azure.com//openai/deployments/gpt-4/chat/completions?api-version=2023-05-15 \"HTTP/1.1 200 OK\"\n"
     ]
    },
    {
     "name": "stdout",
     "output_type": "stream",
     "text": [
      "Sentence: \"Normally a boy would need a holy man to prepare him for a vision quest.\" - Classification: 3\n"
     ]
    },
    {
     "name": "stderr",
     "output_type": "stream",
     "text": [
      "INFO:httpx:HTTP Request: POST https://philipp.openai.azure.com//openai/deployments/gpt-4/chat/completions?api-version=2023-05-15 \"HTTP/1.1 200 OK\"\n"
     ]
    },
    {
     "name": "stdout",
     "output_type": "stream",
     "text": [
      "Sentence: \"A patent is a piece of paper from the government that says no one else can make or sell your invention.\" - Classification: 4\n"
     ]
    },
    {
     "name": "stderr",
     "output_type": "stream",
     "text": [
      "INFO:httpx:HTTP Request: POST https://philipp.openai.azure.com//openai/deployments/gpt-4/chat/completions?api-version=2023-05-15 \"HTTP/1.1 200 OK\"\n"
     ]
    },
    {
     "name": "stdout",
     "output_type": "stream",
     "text": [
      "Sentence: \"Some pesticides can cause cancer in humans.\" - Classification: 2\n"
     ]
    },
    {
     "name": "stderr",
     "output_type": "stream",
     "text": [
      "INFO:httpx:HTTP Request: POST https://philipp.openai.azure.com//openai/deployments/gpt-4/chat/completions?api-version=2023-05-15 \"HTTP/1.1 200 OK\"\n"
     ]
    },
    {
     "name": "stdout",
     "output_type": "stream",
     "text": [
      "Sentence: \"Fish and wildlife may show changes due to chemical use.\" - Classification: 2\n"
     ]
    },
    {
     "name": "stderr",
     "output_type": "stream",
     "text": [
      "INFO:httpx:HTTP Request: POST https://philipp.openai.azure.com//openai/deployments/gpt-4/chat/completions?api-version=2023-05-15 \"HTTP/1.1 200 OK\"\n"
     ]
    },
    {
     "name": "stdout",
     "output_type": "stream",
     "text": [
      "Sentence: \"Wormwood is a wild plant.\" - Classification: 2\n"
     ]
    },
    {
     "name": "stderr",
     "output_type": "stream",
     "text": [
      "INFO:httpx:HTTP Request: POST https://philipp.openai.azure.com//openai/deployments/gpt-4/chat/completions?api-version=2023-05-15 \"HTTP/1.1 200 OK\"\n"
     ]
    },
    {
     "name": "stdout",
     "output_type": "stream",
     "text": [
      "Sentence: \"Chinese Names In China, family names, or last names, are said first.\" - Classification: 3\n"
     ]
    },
    {
     "name": "stderr",
     "output_type": "stream",
     "text": [
      "INFO:httpx:HTTP Request: POST https://philipp.openai.azure.com//openai/deployments/gpt-4/chat/completions?api-version=2023-05-15 \"HTTP/1.1 200 OK\"\n"
     ]
    },
    {
     "name": "stdout",
     "output_type": "stream",
     "text": [
      "Sentence: \"Traditional Chinese medicine uses many medicines made from plants.\" - Classification: 4\n"
     ]
    },
    {
     "name": "stderr",
     "output_type": "stream",
     "text": [
      "INFO:httpx:HTTP Request: POST https://philipp.openai.azure.com//openai/deployments/gpt-4/chat/completions?api-version=2023-05-15 \"HTTP/1.1 200 OK\"\n"
     ]
    },
    {
     "name": "stdout",
     "output_type": "stream",
     "text": [
      "Sentence: \"Malaria makes people very tired.\" - Classification: 4\n"
     ]
    },
    {
     "name": "stderr",
     "output_type": "stream",
     "text": [
      "INFO:httpx:HTTP Request: POST https://philipp.openai.azure.com//openai/deployments/gpt-4/chat/completions?api-version=2023-05-15 \"HTTP/1.1 200 OK\"\n"
     ]
    },
    {
     "name": "stdout",
     "output_type": "stream",
     "text": [
      "Sentence: \"They may sweat or feel cold.\" - Classification: 5\n"
     ]
    },
    {
     "name": "stderr",
     "output_type": "stream",
     "text": [
      "INFO:httpx:HTTP Request: POST https://philipp.openai.azure.com//openai/deployments/gpt-4/chat/completions?api-version=2023-05-15 \"HTTP/1.1 200 OK\"\n"
     ]
    },
    {
     "name": "stdout",
     "output_type": "stream",
     "text": [
      "Sentence: \"They can be sick for years.\" - Classification: 2\n"
     ]
    },
    {
     "name": "stderr",
     "output_type": "stream",
     "text": [
      "INFO:httpx:HTTP Request: POST https://philipp.openai.azure.com//openai/deployments/gpt-4/chat/completions?api-version=2023-05-15 \"HTTP/1.1 200 OK\"\n"
     ]
    },
    {
     "name": "stdout",
     "output_type": "stream",
     "text": [
      "Sentence: \"Helping and Hurting Medicine can have side effects.\" - Classification: 4\n"
     ]
    },
    {
     "name": "stderr",
     "output_type": "stream",
     "text": [
      "INFO:httpx:HTTP Request: POST https://philipp.openai.azure.com//openai/deployments/gpt-4/chat/completions?api-version=2023-05-15 \"HTTP/1.1 200 OK\"\n"
     ]
    },
    {
     "name": "stdout",
     "output_type": "stream",
     "text": [
      "Sentence: \"YELLOW andORANGE Leaves are pretty.\" - Classification: 5\n"
     ]
    },
    {
     "name": "stderr",
     "output_type": "stream",
     "text": [
      "INFO:httpx:HTTP Request: POST https://philipp.openai.azure.com//openai/deployments/gpt-4/chat/completions?api-version=2023-05-15 \"HTTP/1.1 200 OK\"\n"
     ]
    },
    {
     "name": "stdout",
     "output_type": "stream",
     "text": [
      "Sentence: \"Hurricanes are some of the most dangerous storms on Earth.\" - Classification: 5\n"
     ]
    },
    {
     "name": "stderr",
     "output_type": "stream",
     "text": [
      "INFO:httpx:HTTP Request: POST https://philipp.openai.azure.com//openai/deployments/gpt-4/chat/completions?api-version=2023-05-15 \"HTTP/1.1 200 OK\"\n"
     ]
    },
    {
     "name": "stdout",
     "output_type": "stream",
     "text": [
      "Sentence: \"A hurricane’s winds swirl and spin.\" - Classification: 1\n"
     ]
    },
    {
     "name": "stderr",
     "output_type": "stream",
     "text": [
      "INFO:httpx:HTTP Request: POST https://philipp.openai.azure.com//openai/deployments/gpt-4/chat/completions?api-version=2023-05-15 \"HTTP/1.1 200 OK\"\n"
     ]
    },
    {
     "name": "stdout",
     "output_type": "stream",
     "text": [
      "Sentence: \"Even young slaves worked.\" - Classification: 3\n"
     ]
    },
    {
     "name": "stderr",
     "output_type": "stream",
     "text": [
      "INFO:httpx:HTTP Request: POST https://philipp.openai.azure.com//openai/deployments/gpt-4/chat/completions?api-version=2023-05-15 \"HTTP/1.1 200 OK\"\n"
     ]
    },
    {
     "name": "stdout",
     "output_type": "stream",
     "text": [
      "Sentence: \"A sojourner is a person who goes from place to place.\" - Classification: 1\n"
     ]
    },
    {
     "name": "stderr",
     "output_type": "stream",
     "text": [
      "INFO:httpx:HTTP Request: POST https://philipp.openai.azure.com//openai/deployments/gpt-4/chat/completions?api-version=2023-05-15 \"HTTP/1.1 200 OK\"\n"
     ]
    },
    {
     "name": "stdout",
     "output_type": "stream",
     "text": [
      "Sentence: \"But free people had two names.\" - Classification: 2\n"
     ]
    },
    {
     "name": "stderr",
     "output_type": "stream",
     "text": [
      "INFO:httpx:HTTP Request: POST https://philipp.openai.azure.com//openai/deployments/gpt-4/chat/completions?api-version=2023-05-15 \"HTTP/1.1 200 OK\"\n"
     ]
    },
    {
     "name": "stdout",
     "output_type": "stream",
     "text": [
      "Sentence: \"Most folks thought women belonged at home.\" - Classification: 3\n"
     ]
    },
    {
     "name": "stderr",
     "output_type": "stream",
     "text": [
      "INFO:httpx:HTTP Request: POST https://philipp.openai.azure.com//openai/deployments/gpt-4/chat/completions?api-version=2023-05-15 \"HTTP/1.1 200 OK\"\n"
     ]
    },
    {
     "name": "stdout",
     "output_type": "stream",
     "text": [
      "Sentence: \"Free women--black and white-weren't treated as well as men.\" - Classification: 3\n"
     ]
    },
    {
     "name": "stderr",
     "output_type": "stream",
     "text": [
      "INFO:httpx:HTTP Request: POST https://philipp.openai.azure.com//openai/deployments/gpt-4/chat/completions?api-version=2023-05-15 \"HTTP/1.1 200 OK\"\n"
     ]
    },
    {
     "name": "stdout",
     "output_type": "stream",
     "text": [
      "Sentence: \"Free women could not vote.\" - Classification: 3\n"
     ]
    },
    {
     "name": "stderr",
     "output_type": "stream",
     "text": [
      "INFO:httpx:HTTP Request: POST https://philipp.openai.azure.com//openai/deployments/gpt-4/chat/completions?api-version=2023-05-15 \"HTTP/1.1 200 OK\"\n"
     ]
    },
    {
     "name": "stdout",
     "output_type": "stream",
     "text": [
      "Sentence: \"Women are still sometimes paid less than men for the same work.\" - Classification: 3\n"
     ]
    },
    {
     "name": "stderr",
     "output_type": "stream",
     "text": [
      "INFO:httpx:HTTP Request: POST https://philipp.openai.azure.com//openai/deployments/gpt-4/chat/completions?api-version=2023-05-15 \"HTTP/1.1 200 OK\"\n"
     ]
    },
    {
     "name": "stdout",
     "output_type": "stream",
     "text": [
      "Sentence: \"Ocean storms could sink a ship.\" - Classification: 4\n"
     ]
    },
    {
     "name": "stderr",
     "output_type": "stream",
     "text": [
      "INFO:httpx:HTTP Request: POST https://philipp.openai.azure.com//openai/deployments/gpt-4/chat/completions?api-version=2023-05-15 \"HTTP/1.1 200 OK\"\n"
     ]
    },
    {
     "name": "stdout",
     "output_type": "stream",
     "text": [
      "Sentence: \"A wooden part called a rudder could be moved to steer the ship.\" - Classification: 4\n"
     ]
    },
    {
     "name": "stderr",
     "output_type": "stream",
     "text": [
      "INFO:httpx:HTTP Request: POST https://philipp.openai.azure.com//openai/deployments/gpt-4/chat/completions?api-version=2023-05-15 \"HTTP/1.1 200 OK\"\n"
     ]
    },
    {
     "name": "stdout",
     "output_type": "stream",
     "text": [
      "Sentence: \"Grapes could be made into wine.\" - Classification: 4\n"
     ]
    },
    {
     "name": "stderr",
     "output_type": "stream",
     "text": [
      "INFO:httpx:HTTP Request: POST https://philipp.openai.azure.com//openai/deployments/gpt-4/chat/completions?api-version=2023-05-15 \"HTTP/1.1 200 OK\"\n"
     ]
    },
    {
     "name": "stdout",
     "output_type": "stream",
     "text": [
      "Sentence: \"And wine could be traded for money and goods.\" - Classification: 4\n"
     ]
    },
    {
     "name": "stderr",
     "output_type": "stream",
     "text": [
      "INFO:httpx:HTTP Request: POST https://philipp.openai.azure.com//openai/deployments/gpt-4/chat/completions?api-version=2023-05-15 \"HTTP/1.1 200 OK\"\n"
     ]
    },
    {
     "name": "stdout",
     "output_type": "stream",
     "text": [
      "Sentence: \"Shoes cost too much money.\" - Classification: 4\n"
     ]
    },
    {
     "name": "stderr",
     "output_type": "stream",
     "text": [
      "INFO:httpx:HTTP Request: POST https://philipp.openai.azure.com//openai/deployments/gpt-4/chat/completions?api-version=2023-05-15 \"HTTP/1.1 200 OK\"\n"
     ]
    },
    {
     "name": "stdout",
     "output_type": "stream",
     "text": [
      "Sentence: \"If a family would not work for low pay, there was always another family to take its place.\" - Classification: 3\n"
     ]
    },
    {
     "name": "stderr",
     "output_type": "stream",
     "text": [
      "INFO:httpx:HTTP Request: POST https://philipp.openai.azure.com//openai/deployments/gpt-4/chat/completions?api-version=2023-05-15 \"HTTP/1.1 200 OK\"\n"
     ]
    },
    {
     "name": "stdout",
     "output_type": "stream",
     "text": [
      "Sentence: \"Animals migrate in search of food or a mate.\" - Classification: 1\n"
     ]
    },
    {
     "name": "stderr",
     "output_type": "stream",
     "text": [
      "INFO:httpx:HTTP Request: POST https://philipp.openai.azure.com//openai/deployments/gpt-4/chat/completions?api-version=2023-05-15 \"HTTP/1.1 200 OK\"\n"
     ]
    },
    {
     "name": "stdout",
     "output_type": "stream",
     "text": [
      "Sentence: \"Migration helps animals survive on Earth.\" - Classification: 4\n"
     ]
    },
    {
     "name": "stderr",
     "output_type": "stream",
     "text": [
      "INFO:httpx:HTTP Request: POST https://philipp.openai.azure.com//openai/deployments/gpt-4/chat/completions?api-version=2023-05-15 \"HTTP/1.1 200 OK\"\n"
     ]
    },
    {
     "name": "stdout",
     "output_type": "stream",
     "text": [
      "Sentence: \"Many animals migrate.\" - Classification: 1\n"
     ]
    },
    {
     "name": "stderr",
     "output_type": "stream",
     "text": [
      "INFO:httpx:HTTP Request: POST https://philipp.openai.azure.com//openai/deployments/gpt-4/chat/completions?api-version=2023-05-15 \"HTTP/1.1 200 OK\"\n"
     ]
    },
    {
     "name": "stdout",
     "output_type": "stream",
     "text": [
      "Sentence: \"Most animals need a mate to have babies.\" - Classification: 2\n"
     ]
    },
    {
     "name": "stderr",
     "output_type": "stream",
     "text": [
      "INFO:httpx:HTTP Request: POST https://philipp.openai.azure.com//openai/deployments/gpt-4/chat/completions?api-version=2023-05-15 \"HTTP/1.1 200 OK\"\n"
     ]
    },
    {
     "name": "stdout",
     "output_type": "stream",
     "text": [
      "Sentence: \"Monarch butterflies migrate 2,000 to 3,000 miles.\" - Classification: 1\n"
     ]
    },
    {
     "name": "stderr",
     "output_type": "stream",
     "text": [
      "INFO:httpx:HTTP Request: POST https://philipp.openai.azure.com//openai/deployments/gpt-4/chat/completions?api-version=2023-05-15 \"HTTP/1.1 200 OK\"\n"
     ]
    },
    {
     "name": "stdout",
     "output_type": "stream",
     "text": [
      "Sentence: \"Since butterflies are so small, a mile is much farther for them than for people.\" - Classification: 5\n"
     ]
    },
    {
     "name": "stderr",
     "output_type": "stream",
     "text": [
      "INFO:httpx:HTTP Request: POST https://philipp.openai.azure.com//openai/deployments/gpt-4/chat/completions?api-version=2023-05-15 \"HTTP/1.1 200 OK\"\n"
     ]
    },
    {
     "name": "stdout",
     "output_type": "stream",
     "text": [
      "Sentence: \"A butterfly’s 2,800-mile trip is like a person traveling 275,000 miles.\" - Classification: 1\n"
     ]
    },
    {
     "name": "stderr",
     "output_type": "stream",
     "text": [
      "INFO:httpx:HTTP Request: POST https://philipp.openai.azure.com//openai/deployments/gpt-4/chat/completions?api-version=2023-05-15 \"HTTP/1.1 200 OK\"\n"
     ]
    },
    {
     "name": "stdout",
     "output_type": "stream",
     "text": [
      "Sentence: \"Mighty Big Trip Weird but true Monarch caterpillars get oxygen through holes in the sides of their bodies.\" - Classification: 2\n"
     ]
    },
    {
     "name": "stderr",
     "output_type": "stream",
     "text": [
      "INFO:httpx:HTTP Request: POST https://philipp.openai.azure.com//openai/deployments/gpt-4/chat/completions?api-version=2023-05-15 \"HTTP/1.1 200 OK\"\n"
     ]
    },
    {
     "name": "stdout",
     "output_type": "stream",
     "text": [
      "Sentence: \"The monarchs know where to go by instinct.\" - Classification: 2\n"
     ]
    },
    {
     "name": "stderr",
     "output_type": "stream",
     "text": [
      "INFO:httpx:HTTP Request: POST https://philipp.openai.azure.com//openai/deployments/gpt-4/chat/completions?api-version=2023-05-15 \"HTTP/1.1 200 OK\"\n"
     ]
    },
    {
     "name": "stdout",
     "output_type": "stream",
     "text": [
      "Sentence: \"Sunlight signals them to migrate.\" - Classification: 1\n"
     ]
    },
    {
     "name": "stderr",
     "output_type": "stream",
     "text": [
      "INFO:httpx:HTTP Request: POST https://philipp.openai.azure.com//openai/deployments/gpt-4/chat/completions?api-version=2023-05-15 \"HTTP/1.1 200 OK\"\n"
     ]
    },
    {
     "name": "stdout",
     "output_type": "stream",
     "text": [
      "Sentence: \"Scientists believe that sunlight also helps guide them.\" - Classification: 4\n"
     ]
    },
    {
     "name": "stderr",
     "output_type": "stream",
     "text": [
      "INFO:httpx:HTTP Request: POST https://philipp.openai.azure.com//openai/deployments/gpt-4/chat/completions?api-version=2023-05-15 \"HTTP/1.1 200 OK\"\n"
     ]
    },
    {
     "name": "stdout",
     "output_type": "stream",
     "text": [
      "Sentence: \"Wing Word INSTINCT: Behavior that animals are born knowing how to do.\" - Classification: 1\n"
     ]
    },
    {
     "name": "stderr",
     "output_type": "stream",
     "text": [
      "INFO:httpx:HTTP Request: POST https://philipp.openai.azure.com//openai/deployments/gpt-4/chat/completions?api-version=2023-05-15 \"HTTP/1.1 200 OK\"\n"
     ]
    },
    {
     "name": "stdout",
     "output_type": "stream",
     "text": [
      "Sentence: \"The first three or four generations live two to six weeks as adult butterflies.\" - Classification: 2\n"
     ]
    },
    {
     "name": "stderr",
     "output_type": "stream",
     "text": [
      "INFO:httpx:HTTP Request: POST https://philipp.openai.azure.com//openai/deployments/gpt-4/chat/completions?api-version=2023-05-15 \"HTTP/1.1 200 OK\"\n"
     ]
    },
    {
     "name": "stdout",
     "output_type": "stream",
     "text": [
      "Sentence: \"The third and sometimes fourth generations hatch through the spring and summer.\" - Classification: 2\n"
     ]
    },
    {
     "name": "stderr",
     "output_type": "stream",
     "text": [
      "INFO:httpx:HTTP Request: POST https://philipp.openai.azure.com//openai/deployments/gpt-4/chat/completions?api-version=2023-05-15 \"HTTP/1.1 200 OK\"\n"
     ]
    },
    {
     "name": "stdout",
     "output_type": "stream",
     "text": [
      "Sentence: \"These butterflies live six to nine months, much longer than the generations before it.\" - Classification: 2\n"
     ]
    },
    {
     "name": "stderr",
     "output_type": "stream",
     "text": [
      "INFO:httpx:HTTP Request: POST https://philipp.openai.azure.com//openai/deployments/gpt-4/chat/completions?api-version=2023-05-15 \"HTTP/1.1 200 OK\"\n"
     ]
    },
    {
     "name": "stdout",
     "output_type": "stream",
     "text": [
      "Sentence: \"In the fall when it gets colder in the north, the monarchs fly south.\" - Classification: 1\n"
     ]
    },
    {
     "name": "stderr",
     "output_type": "stream",
     "text": [
      "INFO:httpx:HTTP Request: POST https://philipp.openai.azure.com//openai/deployments/gpt-4/chat/completions?api-version=2023-05-15 \"HTTP/1.1 200 OK\"\n"
     ]
    },
    {
     "name": "stdout",
     "output_type": "stream",
     "text": [
      "Sentence: \"Predators Migrating butterflies make a delicious snack for many predators.\" - Classification: 4\n"
     ]
    },
    {
     "name": "stderr",
     "output_type": "stream",
     "text": [
      "INFO:httpx:HTTP Request: POST https://philipp.openai.azure.com//openai/deployments/gpt-4/chat/completions?api-version=2023-05-15 \"HTTP/1.1 200 OK\"\n"
     ]
    },
    {
     "name": "stdout",
     "output_type": "stream",
     "text": [
      "Sentence: \"To keep enemies away, monarchs have built-in protections.\" - Classification: 2\n"
     ]
    },
    {
     "name": "stderr",
     "output_type": "stream",
     "text": [
      "INFO:httpx:HTTP Request: POST https://philipp.openai.azure.com//openai/deployments/gpt-4/chat/completions?api-version=2023-05-15 \"HTTP/1.1 200 OK\"\n"
     ]
    },
    {
     "name": "stdout",
     "output_type": "stream",
     "text": [
      "Sentence: \"Monarch predators include spiders, black-eared mice, praying mantises, fire ants, and birds such as orioles and grosbeaks.\" - Classification: 2\n"
     ]
    },
    {
     "name": "stderr",
     "output_type": "stream",
     "text": [
      "INFO:httpx:HTTP Request: POST https://philipp.openai.azure.com//openai/deployments/gpt-4/chat/completions?api-version=2023-05-15 \"HTTP/1.1 200 OK\"\n"
     ]
    },
    {
     "name": "stdout",
     "output_type": "stream",
     "text": [
      "Sentence: \"Milkweed has toxins in it.\" - Classification: 2\n"
     ]
    },
    {
     "name": "stderr",
     "output_type": "stream",
     "text": [
      "INFO:httpx:HTTP Request: POST https://philipp.openai.azure.com//openai/deployments/gpt-4/chat/completions?api-version=2023-05-15 \"HTTP/1.1 200 OK\"\n"
     ]
    },
    {
     "name": "stdout",
     "output_type": "stream",
     "text": [
      "Sentence: \"When monarch caterpillars eat milkweed, it makes their skin poisonous.\" - Classification: 2\n"
     ]
    },
    {
     "name": "stderr",
     "output_type": "stream",
     "text": [
      "INFO:httpx:HTTP Request: POST https://philipp.openai.azure.com//openai/deployments/gpt-4/chat/completions?api-version=2023-05-15 \"HTTP/1.1 200 OK\"\n"
     ]
    },
    {
     "name": "stdout",
     "output_type": "stream",
     "text": [
      "Sentence: \"But some predators can withstand the toxins or feed on monarchs without eating their skin.\" - Classification: 2\n"
     ]
    },
    {
     "name": "stderr",
     "output_type": "stream",
     "text": [
      "INFO:httpx:HTTP Request: POST https://philipp.openai.azure.com//openai/deployments/gpt-4/chat/completions?api-version=2023-05-15 \"HTTP/1.1 200 OK\"\n"
     ]
    },
    {
     "name": "stdout",
     "output_type": "stream",
     "text": [
      "Sentence: \"When temperatures get too low, monarchs will die.\" - Classification: 2\n"
     ]
    },
    {
     "name": "stderr",
     "output_type": "stream",
     "text": [
      "INFO:httpx:HTTP Request: POST https://philipp.openai.azure.com//openai/deployments/gpt-4/chat/completions?api-version=2023-05-15 \"HTTP/1.1 200 OK\"\n"
     ]
    },
    {
     "name": "stdout",
     "output_type": "stream",
     "text": [
      "Sentence: \"Wind and Rain Butterflies flock to the trees for shelter during high winds and rain.\" - Classification: 3\n"
     ]
    },
    {
     "name": "stderr",
     "output_type": "stream",
     "text": [
      "INFO:httpx:HTTP Request: POST https://philipp.openai.azure.com//openai/deployments/gpt-4/chat/completions?api-version=2023-05-15 \"HTTP/1.1 200 OK\"\n"
     ]
    },
    {
     "name": "stdout",
     "output_type": "stream",
     "text": [
      "Sentence: \"Monarchs usually fly 50-100 miles a day when they are migrating.\" - Classification: 1\n"
     ]
    },
    {
     "name": "stderr",
     "output_type": "stream",
     "text": [
      "INFO:httpx:HTTP Request: POST https://philipp.openai.azure.com//openai/deployments/gpt-4/chat/completions?api-version=2023-05-15 \"HTTP/1.1 200 OK\"\n"
     ]
    },
    {
     "name": "stdout",
     "output_type": "stream",
     "text": [
      "Sentence: \"In the winter, monarchs rest from their long journey.\" - Classification: 1\n"
     ]
    },
    {
     "name": "stderr",
     "output_type": "stream",
     "text": [
      "INFO:httpx:HTTP Request: POST https://philipp.openai.azure.com//openai/deployments/gpt-4/chat/completions?api-version=2023-05-15 \"HTTP/1.1 200 OK\"\n"
     ]
    },
    {
     "name": "stdout",
     "output_type": "stream",
     "text": [
      "Sentence: \"When the eggs hatch, a new first generation begins again.\" - Classification: 4\n"
     ]
    },
    {
     "name": "stderr",
     "output_type": "stream",
     "text": [
      "INFO:httpx:HTTP Request: POST https://philipp.openai.azure.com//openai/deployments/gpt-4/chat/completions?api-version=2023-05-15 \"HTTP/1.1 200 OK\"\n"
     ]
    },
    {
     "name": "stdout",
     "output_type": "stream",
     "text": [
      "Sentence: \"From Egg to Butterfly There are four stages in a butterfly’s life.\" - Classification: 2\n"
     ]
    },
    {
     "name": "stderr",
     "output_type": "stream",
     "text": [
      "INFO:httpx:HTTP Request: POST https://philipp.openai.azure.com//openai/deployments/gpt-4/chat/completions?api-version=2023-05-15 \"HTTP/1.1 200 OK\"\n"
     ]
    },
    {
     "name": "stdout",
     "output_type": "stream",
     "text": [
      "Sentence: \"A tiny butterfly egg is the size of a pinhead.\" - Classification: 5\n"
     ]
    },
    {
     "name": "stderr",
     "output_type": "stream",
     "text": [
      "INFO:httpx:HTTP Request: POST https://philipp.openai.azure.com//openai/deployments/gpt-4/chat/completions?api-version=2023-05-15 \"HTTP/1.1 200 OK\"\n"
     ]
    },
    {
     "name": "stdout",
     "output_type": "stream",
     "text": [
      "Sentence: \"A female carries up to 400 eggs.\" - Classification: 2\n"
     ]
    },
    {
     "name": "stderr",
     "output_type": "stream",
     "text": [
      "INFO:httpx:HTTP Request: POST https://philipp.openai.azure.com//openai/deployments/gpt-4/chat/completions?api-version=2023-05-15 \"HTTP/1.1 200 OK\"\n"
     ]
    },
    {
     "name": "stdout",
     "output_type": "stream",
     "text": [
      "Sentence: \"Weird but true A monarch caterpillar eats its eggshell before it starts eating milkweed.\" - Classification: 2\n"
     ]
    },
    {
     "name": "stderr",
     "output_type": "stream",
     "text": [
      "INFO:httpx:HTTP Request: POST https://philipp.openai.azure.com//openai/deployments/gpt-4/chat/completions?api-version=2023-05-15 \"HTTP/1.1 200 OK\"\n"
     ]
    },
    {
     "name": "stdout",
     "output_type": "stream",
     "text": [
      "Sentence: \"After 10-12 days, the chrysalis becomes clear and cracks open.\" - Classification: 2\n"
     ]
    },
    {
     "name": "stderr",
     "output_type": "stream",
     "text": [
      "INFO:httpx:HTTP Request: POST https://philipp.openai.azure.com//openai/deployments/gpt-4/chat/completions?api-version=2023-05-15 \"HTTP/1.1 200 OK\"\n"
     ]
    },
    {
     "name": "stdout",
     "output_type": "stream",
     "text": [
      "Sentence: \"Munching Monarchs When monarchs are in the caterpillar stage, they only eat milkweed plants.\" - Classification: 4\n"
     ]
    },
    {
     "name": "stderr",
     "output_type": "stream",
     "text": [
      "INFO:httpx:HTTP Request: POST https://philipp.openai.azure.com//openai/deployments/gpt-4/chat/completions?api-version=2023-05-15 \"HTTP/1.1 200 OK\"\n"
     ]
    },
    {
     "name": "stdout",
     "output_type": "stream",
     "text": [
      "Sentence: \"Adult monarchs eat the sweet nectar from many different flowering plants, including milkweed.\" - Classification: 1\n"
     ]
    },
    {
     "name": "stderr",
     "output_type": "stream",
     "text": [
      "INFO:httpx:HTTP Request: POST https://philipp.openai.azure.com//openai/deployments/gpt-4/chat/completions?api-version=2023-05-15 \"HTTP/1.1 200 OK\"\n"
     ]
    },
    {
     "name": "stdout",
     "output_type": "stream",
     "text": [
      "Sentence: \"The nectar gives the butterflies energy to fly.\" - Classification: 4\n"
     ]
    },
    {
     "name": "stderr",
     "output_type": "stream",
     "text": [
      "INFO:httpx:HTTP Request: POST https://philipp.openai.azure.com//openai/deployments/gpt-4/chat/completions?api-version=2023-05-15 \"HTTP/1.1 200 OK\"\n"
     ]
    },
    {
     "name": "stdout",
     "output_type": "stream",
     "text": [
      "Sentence: \"Wing Word NECTAR: Sweet plant juice eaten by insects.\" - Classification: 4\n"
     ]
    },
    {
     "name": "stderr",
     "output_type": "stream",
     "text": [
      "INFO:httpx:HTTP Request: POST https://philipp.openai.azure.com//openai/deployments/gpt-4/chat/completions?api-version=2023-05-15 \"HTTP/1.1 200 OK\"\n"
     ]
    },
    {
     "name": "stdout",
     "output_type": "stream",
     "text": [
      "Sentence: \"10 Cool Things About Monarchs 1 They can flap their wings up to 2,000 times a minute.\" - Classification: 1\n"
     ]
    },
    {
     "name": "stderr",
     "output_type": "stream",
     "text": [
      "INFO:httpx:HTTP Request: POST https://philipp.openai.azure.com//openai/deployments/gpt-4/chat/completions?api-version=2023-05-15 \"HTTP/1.1 200 OK\"\n"
     ]
    },
    {
     "name": "stdout",
     "output_type": "stream",
     "text": [
      "Sentence: \"4 Their bright colors warn predators they are poisonous.\" - Classification: 5\n"
     ]
    },
    {
     "name": "stderr",
     "output_type": "stream",
     "text": [
      "INFO:httpx:HTTP Request: POST https://philipp.openai.azure.com//openai/deployments/gpt-4/chat/completions?api-version=2023-05-15 \"HTTP/1.1 200 OK\"\n"
     ]
    },
    {
     "name": "stdout",
     "output_type": "stream",
     "text": [
      "Sentence: \"5 When caterpillars become too large for their skin, they shed it and grow new skin.\" - Classification: 2\n"
     ]
    },
    {
     "name": "stderr",
     "output_type": "stream",
     "text": [
      "INFO:httpx:HTTP Request: POST https://philipp.openai.azure.com//openai/deployments/gpt-4/chat/completions?api-version=2023-05-15 \"HTTP/1.1 200 OK\"\n"
     ]
    },
    {
     "name": "stdout",
     "output_type": "stream",
     "text": [
      "Sentence: \"6 Predators kill 15 percent of the monarchs in Mexico every year.\" - Classification: 1\n"
     ]
    },
    {
     "name": "stderr",
     "output_type": "stream",
     "text": [
      "INFO:httpx:HTTP Request: POST https://philipp.openai.azure.com//openai/deployments/gpt-4/chat/completions?api-version=2023-05-15 \"HTTP/1.1 200 OK\"\n"
     ]
    },
    {
     "name": "stdout",
     "output_type": "stream",
     "text": [
      "Sentence: \"7 Adult females have wider veins on their wings than males.\" - Classification: 2\n"
     ]
    },
    {
     "name": "stderr",
     "output_type": "stream",
     "text": [
      "INFO:httpx:HTTP Request: POST https://philipp.openai.azure.com//openai/deployments/gpt-4/chat/completions?api-version=2023-05-15 \"HTTP/1.1 200 OK\"\n"
     ]
    },
    {
     "name": "stdout",
     "output_type": "stream",
     "text": [
      "Sentence: \"8 Though strong enough to fly 2,000 miles, a butterfly weighs less than a paper clip.\" - Classification: 4\n"
     ]
    },
    {
     "name": "stderr",
     "output_type": "stream",
     "text": [
      "INFO:httpx:HTTP Request: POST https://philipp.openai.azure.com//openai/deployments/gpt-4/chat/completions?api-version=2023-05-15 \"HTTP/1.1 200 OK\"\n"
     ]
    },
    {
     "name": "stdout",
     "output_type": "stream",
     "text": [
      "Sentence: \"Monarchs need trees for protection against wind and rain.\" - Classification: 4\n"
     ]
    },
    {
     "name": "stderr",
     "output_type": "stream",
     "text": [
      "INFO:httpx:HTTP Request: POST https://philipp.openai.azure.com//openai/deployments/gpt-4/chat/completions?api-version=2023-05-15 \"HTTP/1.1 200 OK\"\n"
     ]
    },
    {
     "name": "stdout",
     "output_type": "stream",
     "text": [
      "Sentence: \"Deforestation is a big problem for monarch butterflies.\" - Classification: 4\n"
     ]
    },
    {
     "name": "stderr",
     "output_type": "stream",
     "text": [
      "INFO:httpx:HTTP Request: POST https://philipp.openai.azure.com//openai/deployments/gpt-4/chat/completions?api-version=2023-05-15 \"HTTP/1.1 200 OK\"\n"
     ]
    },
    {
     "name": "stdout",
     "output_type": "stream",
     "text": [
      "Sentence: \"Monarchs are also losing their milkweed.\" - Classification: 4\n"
     ]
    },
    {
     "name": "stderr",
     "output_type": "stream",
     "text": [
      "INFO:httpx:HTTP Request: POST https://philipp.openai.azure.com//openai/deployments/gpt-4/chat/completions?api-version=2023-05-15 \"HTTP/1.1 200 OK\"\n"
     ]
    },
    {
     "name": "stdout",
     "output_type": "stream",
     "text": [
      "Sentence: \"People use chemicals to stop it from growing.\" - Classification: 4\n"
     ]
    },
    {
     "name": "stderr",
     "output_type": "stream",
     "text": [
      "INFO:httpx:HTTP Request: POST https://philipp.openai.azure.com//openai/deployments/gpt-4/chat/completions?api-version=2023-05-15 \"HTTP/1.1 200 OK\"\n"
     ]
    },
    {
     "name": "stdout",
     "output_type": "stream",
     "text": [
      "Sentence: \"Monarch butterflies can’t live without milkweed or the forests of Mexico.\" - Classification: 4\n"
     ]
    },
    {
     "name": "stderr",
     "output_type": "stream",
     "text": [
      "INFO:httpx:HTTP Request: POST https://philipp.openai.azure.com//openai/deployments/gpt-4/chat/completions?api-version=2023-05-15 \"HTTP/1.1 200 OK\"\n"
     ]
    },
    {
     "name": "stdout",
     "output_type": "stream",
     "text": [
      "Sentence: \"Humans and monarchs need to learn to share the Earth.\" - Classification: 3\n"
     ]
    },
    {
     "name": "stderr",
     "output_type": "stream",
     "text": [
      "INFO:httpx:HTTP Request: POST https://philipp.openai.azure.com//openai/deployments/gpt-4/chat/completions?api-version=2023-05-15 \"HTTP/1.1 200 OK\"\n"
     ]
    },
    {
     "name": "stdout",
     "output_type": "stream",
     "text": [
      "Sentence: \"Weird but true Caterpillars have six pairs of tiny eyes, but they don’t see well.\" - Classification: 2\n"
     ]
    },
    {
     "name": "stderr",
     "output_type": "stream",
     "text": [
      "INFO:httpx:HTTP Request: POST https://philipp.openai.azure.com//openai/deployments/gpt-4/chat/completions?api-version=2023-05-15 \"HTTP/1.1 200 OK\"\n"
     ]
    },
    {
     "name": "stdout",
     "output_type": "stream",
     "text": [
      "Sentence: \"And others wore CAPES IN DIFFERENT COLORS.\" - Classification: 5\n"
     ]
    },
    {
     "name": "stderr",
     "output_type": "stream",
     "text": [
      "INFO:httpx:HTTP Request: POST https://philipp.openai.azure.com//openai/deployments/gpt-4/chat/completions?api-version=2023-05-15 \"HTTP/1.1 200 OK\"\n"
     ]
    },
    {
     "name": "stdout",
     "output_type": "stream",
     "text": [
      "Sentence: \"Superheroes know boldness is cool.\" - Classification: 1\n"
     ]
    },
    {
     "name": "stderr",
     "output_type": "stream",
     "text": [
      "INFO:httpx:HTTP Request: POST https://philipp.openai.azure.com//openai/deployments/gpt-4/chat/completions?api-version=2023-05-15 \"HTTP/1.1 200 OK\"\n"
     ]
    },
    {
     "name": "stdout",
     "output_type": "stream",
     "text": [
      "Sentence: \"Being bold means having courage.\" - Classification: This\n"
     ]
    },
    {
     "name": "stderr",
     "output_type": "stream",
     "text": [
      "INFO:httpx:HTTP Request: POST https://philipp.openai.azure.com//openai/deployments/gpt-4/chat/completions?api-version=2023-05-15 \"HTTP/1.1 200 OK\"\n"
     ]
    },
    {
     "name": "stdout",
     "output_type": "stream",
     "text": [
      "Sentence: \"People who are bold are brave or daring.\" - Classification: 5\n"
     ]
    },
    {
     "name": "stderr",
     "output_type": "stream",
     "text": [
      "INFO:httpx:HTTP Request: POST https://philipp.openai.azure.com//openai/deployments/gpt-4/chat/completions?api-version=2023-05-15 \"HTTP/1.1 200 OK\"\n"
     ]
    },
    {
     "name": "stdout",
     "output_type": "stream",
     "text": [
      "Sentence: \"People who are bold face their fears.\" - Classification: 1\n"
     ]
    },
    {
     "name": "stderr",
     "output_type": "stream",
     "text": [
      "INFO:httpx:HTTP Request: POST https://philipp.openai.azure.com//openai/deployments/gpt-4/chat/completions?api-version=2023-05-15 \"HTTP/1.1 200 OK\"\n"
     ]
    },
    {
     "name": "stdout",
     "output_type": "stream",
     "text": [
      "Sentence: \"But true heroes are smart too.\" - Classification: 5\n"
     ]
    },
    {
     "name": "stderr",
     "output_type": "stream",
     "text": [
      "INFO:httpx:HTTP Request: POST https://philipp.openai.azure.com//openai/deployments/gpt-4/chat/completions?api-version=2023-05-15 \"HTTP/1.1 200 OK\"\n"
     ]
    },
    {
     "name": "stdout",
     "output_type": "stream",
     "text": [
      "Sentence: \"They don't take unnecessary risks.\" - Classification: 3\n"
     ]
    },
    {
     "name": "stderr",
     "output_type": "stream",
     "text": [
      "INFO:httpx:HTTP Request: POST https://philipp.openai.azure.com//openai/deployments/gpt-4/chat/completions?api-version=2023-05-15 \"HTTP/1.1 200 OK\"\n"
     ]
    },
    {
     "name": "stdout",
     "output_type": "stream",
     "text": [
      "Sentence: \"Superheroes also don't say things that could hurt others.SUPERHEROES ON TV SHOW BOLDNESS BY SAVING THE WORLD AND FACING BAD GUYS.But kids like you have the superpowers to be bold too!\" - Classification: 3\n"
     ]
    },
    {
     "name": "stderr",
     "output_type": "stream",
     "text": [
      "INFO:httpx:HTTP Request: POST https://philipp.openai.azure.com//openai/deployments/gpt-4/chat/completions?api-version=2023-05-15 \"HTTP/1.1 200 OK\"\n"
     ]
    },
    {
     "name": "stdout",
     "output_type": "stream",
     "text": [
      "Sentence: \"Mistakes happen all the time.\" - Classification: 1\n"
     ]
    },
    {
     "name": "stderr",
     "output_type": "stream",
     "text": [
      "INFO:httpx:HTTP Request: POST https://philipp.openai.azure.com//openai/deployments/gpt-4/chat/completions?api-version=2023-05-15 \"HTTP/1.1 200 OK\"\n"
     ]
    },
    {
     "name": "stdout",
     "output_type": "stream",
     "text": [
      "Sentence: \"Everyone makes them.\" - Classification: 4\n"
     ]
    },
    {
     "name": "stderr",
     "output_type": "stream",
     "text": [
      "INFO:httpx:HTTP Request: POST https://philipp.openai.azure.com//openai/deployments/gpt-4/chat/completions?api-version=2023-05-15 \"HTTP/1.1 200 OK\"\n"
     ]
    },
    {
     "name": "stdout",
     "output_type": "stream",
     "text": [
      "Sentence: \"Superheroes know that it is okay to fail sometimes.\" - Classification: 1\n"
     ]
    },
    {
     "name": "stderr",
     "output_type": "stream",
     "text": [
      "INFO:httpx:HTTP Request: POST https://philipp.openai.azure.com//openai/deployments/gpt-4/chat/completions?api-version=2023-05-15 \"HTTP/1.1 200 OK\"\n"
     ]
    },
    {
     "name": "stdout",
     "output_type": "stream",
     "text": [
      "Sentence: \"Heroes won't do something that could hurt others.\" - Classification: 1\n"
     ]
    },
    {
     "name": "stderr",
     "output_type": "stream",
     "text": [
      "INFO:httpx:HTTP Request: POST https://philipp.openai.azure.com//openai/deployments/gpt-4/chat/completions?api-version=2023-05-15 \"HTTP/1.1 200 OK\"\n"
     ]
    },
    {
     "name": "stdout",
     "output_type": "stream",
     "text": [
      "Sentence: \"People are afraid of things for many different reasons.\" - Classification: 5\n"
     ]
    },
    {
     "name": "stderr",
     "output_type": "stream",
     "text": [
      "INFO:httpx:HTTP Request: POST https://philipp.openai.azure.com//openai/deployments/gpt-4/chat/completions?api-version=2023-05-15 \"HTTP/1.1 200 OK\"\n"
     ]
    },
    {
     "name": "stdout",
     "output_type": "stream",
     "text": [
      "Sentence: \"HEROES FACE FEAR BY LEARNING ABOUT WHAT THEY ARE AFRAID OF.\" - Classification: 1\n"
     ]
    },
    {
     "name": "stderr",
     "output_type": "stream",
     "text": [
      "INFO:httpx:HTTP Request: POST https://philipp.openai.azure.com//openai/deployments/gpt-4/chat/completions?api-version=2023-05-15 \"HTTP/1.1 200 OK\"\n"
     ]
    },
    {
     "name": "stdout",
     "output_type": "stream",
     "text": [
      "Sentence: \"NO TWO PEOPLE ARE EXACTLY ALIKE.\" - Classification: 5\n"
     ]
    },
    {
     "name": "stderr",
     "output_type": "stream",
     "text": [
      "INFO:httpx:HTTP Request: POST https://philipp.openai.azure.com//openai/deployments/gpt-4/chat/completions?api-version=2023-05-15 \"HTTP/1.1 200 OK\"\n"
     ]
    },
    {
     "name": "stdout",
     "output_type": "stream",
     "text": [
      "Sentence: \"Being a hero is about making brave and bold choices.\" - Classification: 1\n"
     ]
    },
    {
     "name": "stderr",
     "output_type": "stream",
     "text": [
      "INFO:httpx:HTTP Request: POST https://philipp.openai.azure.com//openai/deployments/gpt-4/chat/completions?api-version=2023-05-15 \"HTTP/1.1 200 OK\"\n"
     ]
    },
    {
     "name": "stdout",
     "output_type": "stream",
     "text": [
      "Sentence: \"Basic commands won't be a problem.\" - Classification: 1\n"
     ]
    },
    {
     "name": "stderr",
     "output_type": "stream",
     "text": [
      "INFO:httpx:HTTP Request: POST https://philipp.openai.azure.com//openai/deployments/gpt-4/chat/completions?api-version=2023-05-15 \"HTTP/1.1 200 OK\"\n"
     ]
    },
    {
     "name": "stdout",
     "output_type": "stream",
     "text": [
      "Sentence: \"But lots of dogs hate that.\"\" - Classification: 1\n"
     ]
    },
    {
     "name": "stderr",
     "output_type": "stream",
     "text": [
      "INFO:httpx:HTTP Request: POST https://philipp.openai.azure.com//openai/deployments/gpt-4/chat/completions?api-version=2023-05-15 \"HTTP/1.1 200 OK\"\n"
     ]
    },
    {
     "name": "stdout",
     "output_type": "stream",
     "text": [
      "Sentence: \"No dog breed or type bites more than any other.\" - Classification: 3\n"
     ]
    },
    {
     "name": "stderr",
     "output_type": "stream",
     "text": [
      "INFO:httpx:HTTP Request: POST https://philipp.openai.azure.com//openai/deployments/gpt-4/chat/completions?api-version=2023-05-15 \"HTTP/1.1 200 OK\"\n"
     ]
    },
    {
     "name": "stdout",
     "output_type": "stream",
     "text": [
      "Sentence: \"\"And people get scared.\" - Classification: 1\n"
     ]
    },
    {
     "name": "stderr",
     "output_type": "stream",
     "text": [
      "INFO:httpx:HTTP Request: POST https://philipp.openai.azure.com//openai/deployments/gpt-4/chat/completions?api-version=2023-05-15 \"HTTP/1.1 200 OK\"\n"
     ]
    },
    {
     "name": "stdout",
     "output_type": "stream",
     "text": [
      "Sentence: \"Pit bulls are misunderstood.\"\" - Classification: 5\n"
     ]
    },
    {
     "name": "stderr",
     "output_type": "stream",
     "text": [
      "INFO:httpx:HTTP Request: POST https://philipp.openai.azure.com//openai/deployments/gpt-4/chat/completions?api-version=2023-05-15 \"HTTP/1.1 200 OK\"\n"
     ]
    },
    {
     "name": "stdout",
     "output_type": "stream",
     "text": [
      "Sentence: \"And dogs are faster than humans.\" - Classification: 2\n"
     ]
    },
    {
     "name": "stderr",
     "output_type": "stream",
     "text": [
      "INFO:httpx:HTTP Request: POST https://philipp.openai.azure.com//openai/deployments/gpt-4/chat/completions?api-version=2023-05-15 \"HTTP/1.1 200 OK\"\n"
     ]
    },
    {
     "name": "stdout",
     "output_type": "stream",
     "text": [
      "Sentence: \"Sometimes it's because people don't know how to read a dog.\"\" - Classification: 3\n"
     ]
    },
    {
     "name": "stderr",
     "output_type": "stream",
     "text": [
      "INFO:httpx:HTTP Request: POST https://philipp.openai.azure.com//openai/deployments/gpt-4/chat/completions?api-version=2023-05-15 \"HTTP/1.1 200 OK\"\n"
     ]
    },
    {
     "name": "stdout",
     "output_type": "stream",
     "text": [
      "Sentence: \"But jumping on people is rude.\" - Classification: 1\n"
     ]
    },
    {
     "name": "stderr",
     "output_type": "stream",
     "text": [
      "INFO:httpx:HTTP Request: POST https://philipp.openai.azure.com//openai/deployments/gpt-4/chat/completions?api-version=2023-05-15 \"HTTP/1.1 200 OK\"\n"
     ]
    },
    {
     "name": "stdout",
     "output_type": "stream",
     "text": [
      "Sentence: \"And even little dogs can knock people over!\" - Classification: 1\n"
     ]
    },
    {
     "name": "stderr",
     "output_type": "stream",
     "text": [
      "INFO:httpx:HTTP Request: POST https://philipp.openai.azure.com//openai/deployments/gpt-4/chat/completions?api-version=2023-05-15 \"HTTP/1.1 200 OK\"\n"
     ]
    },
    {
     "name": "stdout",
     "output_type": "stream",
     "text": [
      "Sentence: \"Funny thing: greyhounds are fast-faster than I'll ever be-but they get tired even faster!\" - Classification: 2\n"
     ]
    },
    {
     "name": "stderr",
     "output_type": "stream",
     "text": [
      "INFO:httpx:HTTP Request: POST https://philipp.openai.azure.com//openai/deployments/gpt-4/chat/completions?api-version=2023-05-15 \"HTTP/1.1 200 OK\"\n"
     ]
    },
    {
     "name": "stdout",
     "output_type": "stream",
     "text": [
      "Sentence: \"Small chairs fit for small birds and big chairs are good for the big birds!\" - Classification: 4\n"
     ]
    },
    {
     "name": "stderr",
     "output_type": "stream",
     "text": [
      "INFO:httpx:HTTP Request: POST https://philipp.openai.azure.com//openai/deployments/gpt-4/chat/completions?api-version=2023-05-15 \"HTTP/1.1 200 OK\"\n"
     ]
    },
    {
     "name": "stdout",
     "output_type": "stream",
     "text": [
      "Sentence: \"Some kids play tag.\" - Classification: 1\n"
     ]
    },
    {
     "name": "stderr",
     "output_type": "stream",
     "text": [
      "INFO:httpx:HTTP Request: POST https://philipp.openai.azure.com//openai/deployments/gpt-4/chat/completions?api-version=2023-05-15 \"HTTP/1.1 200 OK\"\n"
     ]
    },
    {
     "name": "stdout",
     "output_type": "stream",
     "text": [
      "Sentence: \"Friends do kind things for one another.\" - Classification: 3\n"
     ]
    },
    {
     "name": "stderr",
     "output_type": "stream",
     "text": [
      "INFO:httpx:HTTP Request: POST https://philipp.openai.azure.com//openai/deployments/gpt-4/chat/completions?api-version=2023-05-15 \"HTTP/1.1 200 OK\"\n"
     ]
    },
    {
     "name": "stdout",
     "output_type": "stream",
     "text": [
      "Sentence: \"Everything is made of matter.\" - Classification: 4\n"
     ]
    },
    {
     "name": "stderr",
     "output_type": "stream",
     "text": [
      "INFO:httpx:HTTP Request: POST https://philipp.openai.azure.com//openai/deployments/gpt-4/chat/completions?api-version=2023-05-15 \"HTTP/1.1 200 OK\"\n"
     ]
    },
    {
     "name": "stdout",
     "output_type": "stream",
     "text": [
      "Sentence: \"The amount of matter is called mass.\" - Classification: 4\n"
     ]
    },
    {
     "name": "stderr",
     "output_type": "stream",
     "text": [
      "INFO:httpx:HTTP Request: POST https://philipp.openai.azure.com//openai/deployments/gpt-4/chat/completions?api-version=2023-05-15 \"HTTP/1.1 200 OK\"\n"
     ]
    },
    {
     "name": "stdout",
     "output_type": "stream",
     "text": [
      "Sentence: \"This pull is called gravity.\" - Classification: 4\n"
     ]
    },
    {
     "name": "stderr",
     "output_type": "stream",
     "text": [
      "INFO:httpx:HTTP Request: POST https://philipp.openai.azure.com//openai/deployments/gpt-4/chat/completions?api-version=2023-05-15 \"HTTP/1.1 200 OK\"\n"
     ]
    },
    {
     "name": "stdout",
     "output_type": "stream",
     "text": [
      "Sentence: \"The earth has a lot of mass.\" - Classification: 2\n"
     ]
    },
    {
     "name": "stderr",
     "output_type": "stream",
     "text": [
      "INFO:httpx:HTTP Request: POST https://philipp.openai.azure.com//openai/deployments/gpt-4/chat/completions?api-version=2023-05-15 \"HTTP/1.1 200 OK\"\n"
     ]
    },
    {
     "name": "stdout",
     "output_type": "stream",
     "text": [
      "Sentence: \"When Baby drops something, the earth pulls it down.\" - Classification: 4\n"
     ]
    },
    {
     "name": "stderr",
     "output_type": "stream",
     "text": [
      "INFO:httpx:HTTP Request: POST https://philipp.openai.azure.com//openai/deployments/gpt-4/chat/completions?api-version=2023-05-15 \"HTTP/1.1 200 OK\"\n"
     ]
    },
    {
     "name": "stdout",
     "output_type": "stream",
     "text": [
      "Sentence: \"Gravity is everywhere.\" - Classification: 5\n"
     ]
    },
    {
     "name": "stderr",
     "output_type": "stream",
     "text": [
      "INFO:httpx:HTTP Request: POST https://philipp.openai.azure.com//openai/deployments/gpt-4/chat/completions?api-version=2023-05-15 \"HTTP/1.1 200 OK\"\n"
     ]
    },
    {
     "name": "stdout",
     "output_type": "stream",
     "text": [
      "Sentence: \"Gravity is even at the park!\" - Classification: 5\n"
     ]
    },
    {
     "name": "stderr",
     "output_type": "stream",
     "text": [
      "INFO:httpx:HTTP Request: POST https://philipp.openai.azure.com//openai/deployments/gpt-4/chat/completions?api-version=2023-05-15 \"HTTP/1.1 200 OK\"\n"
     ]
    },
    {
     "name": "stdout",
     "output_type": "stream",
     "text": [
      "Sentence: \"Lettuce and cucumbers are green vegetables.\" - Classification: 5\n"
     ]
    },
    {
     "name": "stderr",
     "output_type": "stream",
     "text": [
      "INFO:httpx:HTTP Request: POST https://philipp.openai.azure.com//openai/deployments/gpt-4/chat/completions?api-version=2023-05-15 \"HTTP/1.1 200 OK\"\n"
     ]
    },
    {
     "name": "stdout",
     "output_type": "stream",
     "text": [
      "Sentence: \"There are father ants and mother ants, and lots of other ants who are nurses to the little ones.\" - Classification: 3\n"
     ]
    },
    {
     "name": "stderr",
     "output_type": "stream",
     "text": [
      "INFO:httpx:HTTP Request: POST https://philipp.openai.azure.com//openai/deployments/gpt-4/chat/completions?api-version=2023-05-15 \"HTTP/1.1 200 OK\"\n"
     ]
    },
    {
     "name": "stdout",
     "output_type": "stream",
     "text": [
      "Sentence: \"“Ants really do clean their young ones by licking them.\" - Classification: 2\n"
     ]
    },
    {
     "name": "stderr",
     "output_type": "stream",
     "text": [
      "INFO:httpx:HTTP Request: POST https://philipp.openai.azure.com//openai/deployments/gpt-4/chat/completions?api-version=2023-05-15 \"HTTP/1.1 200 OK\"\n"
     ]
    },
    {
     "name": "stdout",
     "output_type": "stream",
     "text": [
      "Sentence: \"The worker ants are the nurses.\" - Classification: 3\n"
     ]
    },
    {
     "name": "stderr",
     "output_type": "stream",
     "text": [
      "INFO:httpx:HTTP Request: POST https://philipp.openai.azure.com//openai/deployments/gpt-4/chat/completions?api-version=2023-05-15 \"HTTP/1.1 200 OK\"\n"
     ]
    },
    {
     "name": "stdout",
     "output_type": "stream",
     "text": [
      "Sentence: \"“The ants have paths leading from their hill.\" - Classification: 2\n"
     ]
    },
    {
     "name": "stderr",
     "output_type": "stream",
     "text": [
      "INFO:httpx:HTTP Request: POST https://philipp.openai.azure.com//openai/deployments/gpt-4/chat/completions?api-version=2023-05-15 \"HTTP/1.1 200 OK\"\n"
     ]
    },
    {
     "name": "stdout",
     "output_type": "stream",
     "text": [
      "Sentence: \"It lasts for always.\" - Classification: 4\n"
     ]
    },
    {
     "name": "stderr",
     "output_type": "stream",
     "text": [
      "INFO:httpx:HTTP Request: POST https://philipp.openai.azure.com//openai/deployments/gpt-4/chat/completions?api-version=2023-05-15 \"HTTP/1.1 200 OK\"\n"
     ]
    },
    {
     "name": "stdout",
     "output_type": "stream",
     "text": [
      "Sentence: \"Silver is far less trouble—easier to mind, and not so easy stolen.\" - Classification: 4\n"
     ]
    },
    {
     "name": "stderr",
     "output_type": "stream",
     "text": [
      "INFO:httpx:HTTP Request: POST https://philipp.openai.azure.com//openai/deployments/gpt-4/chat/completions?api-version=2023-05-15 \"HTTP/1.1 200 OK\"\n"
     ]
    },
    {
     "name": "stdout",
     "output_type": "stream",
     "text": [
      "Sentence: \"\"Farmers always say cowcumbers instead of cucumbers.\" - Classification: 3\n"
     ]
    },
    {
     "name": "stderr",
     "output_type": "stream",
     "text": [
      "INFO:httpx:HTTP Request: POST https://philipp.openai.azure.com//openai/deployments/gpt-4/chat/completions?api-version=2023-05-15 \"HTTP/1.1 200 OK\"\n"
     ]
    },
    {
     "name": "stdout",
     "output_type": "stream",
     "text": [
      "Sentence: \"\"A turkey's drumstick is all full of little wooden splinters, anyway.\" - Classification: 2\n"
     ]
    },
    {
     "name": "stderr",
     "output_type": "stream",
     "text": [
      "INFO:httpx:HTTP Request: POST https://philipp.openai.azure.com//openai/deployments/gpt-4/chat/completions?api-version=2023-05-15 \"HTTP/1.1 200 OK\"\n"
     ]
    },
    {
     "name": "stdout",
     "output_type": "stream",
     "text": [
      "Sentence: \"When a snake misses its stroke, it never says anything or gives any sign of what it means to do next.\" - Classification: 1\n"
     ]
    },
    {
     "name": "stderr",
     "output_type": "stream",
     "text": [
      "INFO:httpx:HTTP Request: POST https://philipp.openai.azure.com//openai/deployments/gpt-4/chat/completions?api-version=2023-05-15 \"HTTP/1.1 200 OK\"\n"
     ]
    },
    {
     "name": "stdout",
     "output_type": "stream",
     "text": [
      "Sentence: \"They finish economically with paints, stains and enamels and are highly valued as cores for fine hardwood veneers.\" - Classification: 4\n"
     ]
    },
    {
     "name": "stderr",
     "output_type": "stream",
     "text": [
      "INFO:httpx:HTTP Request: POST https://philipp.openai.azure.com//openai/deployments/gpt-4/chat/completions?api-version=2023-05-15 \"HTTP/1.1 200 OK\"\n"
     ]
    },
    {
     "name": "stdout",
     "output_type": "stream",
     "text": [
      "Sentence: \"Continuous production keeps a full assortment of stock on hand.\" - Classification: 4\n"
     ]
    },
    {
     "name": "stderr",
     "output_type": "stream",
     "text": [
      "INFO:httpx:HTTP Request: POST https://philipp.openai.azure.com//openai/deployments/gpt-4/chat/completions?api-version=2023-05-15 \"HTTP/1.1 200 OK\"\n"
     ]
    },
    {
     "name": "stdout",
     "output_type": "stream",
     "text": [
      "Sentence: \"Rules always come right if you wait quietly.\" - Classification: 1\n"
     ]
    },
    {
     "name": "stderr",
     "output_type": "stream",
     "text": [
      "INFO:httpx:HTTP Request: POST https://philipp.openai.azure.com//openai/deployments/gpt-4/chat/completions?api-version=2023-05-15 \"HTTP/1.1 200 OK\"\n"
     ]
    },
    {
     "name": "stdout",
     "output_type": "stream",
     "text": [
      "Sentence: \"\"Oh dear, oh dear, how stupid men are when they get an idea into their heads!\" - Classification: 3\n"
     ]
    },
    {
     "name": "stderr",
     "output_type": "stream",
     "text": [
      "INFO:httpx:HTTP Request: POST https://philipp.openai.azure.com//openai/deployments/gpt-4/chat/completions?api-version=2023-05-15 \"HTTP/1.1 200 OK\"\n"
     ]
    },
    {
     "name": "stdout",
     "output_type": "stream",
     "text": [
      "Sentence: \"\"\"No one can live a day in peace!\"\" - Classification: 3\n"
     ]
    },
    {
     "name": "stderr",
     "output_type": "stream",
     "text": [
      "INFO:httpx:HTTP Request: POST https://philipp.openai.azure.com//openai/deployments/gpt-4/chat/completions?api-version=2023-05-15 \"HTTP/1.1 200 OK\"\n"
     ]
    },
    {
     "name": "stdout",
     "output_type": "stream",
     "text": [
      "Sentence: \"Witches have red eyes, and cannot see far, but they have a keen scent like the beasts, and are aware when human beings draw near.\" - Classification: 2\n"
     ]
    },
    {
     "name": "stderr",
     "output_type": "stream",
     "text": [
      "INFO:httpx:HTTP Request: POST https://philipp.openai.azure.com//openai/deployments/gpt-4/chat/completions?api-version=2023-05-15 \"HTTP/1.1 200 OK\"\n"
     ]
    },
    {
     "name": "stdout",
     "output_type": "stream",
     "text": [
      "Sentence: \"All sorts of fish, large and small, dart among the branches, just as birds flit through the trees up here.\" - Classification: 1\n"
     ]
    },
    {
     "name": "stderr",
     "output_type": "stream",
     "text": [
      "INFO:httpx:HTTP Request: POST https://philipp.openai.azure.com//openai/deployments/gpt-4/chat/completions?api-version=2023-05-15 \"HTTP/1.1 200 OK\"\n"
     ]
    },
    {
     "name": "stdout",
     "output_type": "stream",
     "text": [
      "Sentence: \"But a mermaid has no tears, and therefore she suffers so much more.\" - Classification: 2\n"
     ]
    },
    {
     "name": "stderr",
     "output_type": "stream",
     "text": [
      "INFO:httpx:HTTP Request: POST https://philipp.openai.azure.com//openai/deployments/gpt-4/chat/completions?api-version=2023-05-15 \"HTTP/1.1 200 OK\"\n"
     ]
    },
    {
     "name": "stdout",
     "output_type": "stream",
     "text": [
      "Sentence: \"Human beings, on the contrary, have a soul which lives forever, long after their bodies have turned to clay.\" - Classification: 2\n"
     ]
    },
    {
     "name": "stderr",
     "output_type": "stream",
     "text": [
      "INFO:httpx:HTTP Request: POST https://philipp.openai.azure.com//openai/deployments/gpt-4/chat/completions?api-version=2023-05-15 \"HTTP/1.1 200 OK\"\n"
     ]
    },
    {
     "name": "stdout",
     "output_type": "stream",
     "text": [
      "Sentence: \"\"A mermaid has no immortal soul, and can never get one unless she wins the love of a human being.\" - Classification: 2\n"
     ]
    },
    {
     "name": "stderr",
     "output_type": "stream",
     "text": [
      "INFO:httpx:HTTP Request: POST https://philipp.openai.azure.com//openai/deployments/gpt-4/chat/completions?api-version=2023-05-15 \"HTTP/1.1 200 OK\"\n"
     ]
    },
    {
     "name": "stdout",
     "output_type": "stream",
     "text": [
      "Sentence: \"Little snow people, like her, eat nothing but icicles.\" - Classification: 3\n"
     ]
    },
    {
     "name": "stderr",
     "output_type": "stream",
     "text": [
      "INFO:httpx:HTTP Request: POST https://philipp.openai.azure.com//openai/deployments/gpt-4/chat/completions?api-version=2023-05-15 \"HTTP/1.1 200 OK\"\n"
     ]
    },
    {
     "name": "stdout",
     "output_type": "stream",
     "text": [
      "Sentence: \"The swing moves.\" - Classification: 1\n"
     ]
    },
    {
     "name": "stderr",
     "output_type": "stream",
     "text": [
      "INFO:httpx:HTTP Request: POST https://philipp.openai.azure.com//openai/deployments/gpt-4/chat/completions?api-version=2023-05-15 \"HTTP/1.1 200 OK\"\n"
     ]
    },
    {
     "name": "stdout",
     "output_type": "stream",
     "text": [
      "Sentence: \"The reeds grow to the same height, and bear the same kind of long, purple-brown leaves, with their feathery tips.\" - Classification: 2\n"
     ]
    },
    {
     "name": "stderr",
     "output_type": "stream",
     "text": [
      "INFO:httpx:HTTP Request: POST https://philipp.openai.azure.com//openai/deployments/gpt-4/chat/completions?api-version=2023-05-15 \"HTTP/1.1 200 OK\"\n"
     ]
    },
    {
     "name": "stdout",
     "output_type": "stream",
     "text": [
      "Sentence: \"\"Love is a life-giver.\" - Classification: 4\n"
     ]
    },
    {
     "name": "stderr",
     "output_type": "stream",
     "text": [
      "INFO:httpx:HTTP Request: POST https://philipp.openai.azure.com//openai/deployments/gpt-4/chat/completions?api-version=2023-05-15 \"HTTP/1.1 200 OK\"\n"
     ]
    },
    {
     "name": "stdout",
     "output_type": "stream",
     "text": [
      "Sentence: \"\"The swans fly in an oblique line; the cranes, in the form of a triangle; and the plovers, in a curved line like a snake.\" - Classification: 1\n"
     ]
    },
    {
     "name": "stderr",
     "output_type": "stream",
     "text": [
      "INFO:httpx:HTTP Request: POST https://philipp.openai.azure.com//openai/deployments/gpt-4/chat/completions?api-version=2023-05-15 \"HTTP/1.1 200 OK\"\n"
     ]
    },
    {
     "name": "stdout",
     "output_type": "stream",
     "text": [
      "Sentence: \"They give themselves great airs, especially the ibis.\" - Classification: 3\n"
     ]
    },
    {
     "name": "stderr",
     "output_type": "stream",
     "text": [
      "INFO:httpx:HTTP Request: POST https://philipp.openai.azure.com//openai/deployments/gpt-4/chat/completions?api-version=2023-05-15 \"HTTP/1.1 200 OK\"\n"
     ]
    },
    {
     "name": "stdout",
     "output_type": "stream",
     "text": [
      "Sentence: \"The zizzy is a bug.\" - Classification: 2\n"
     ]
    },
    {
     "name": "stderr",
     "output_type": "stream",
     "text": [
      "INFO:httpx:HTTP Request: POST https://philipp.openai.azure.com//openai/deployments/gpt-4/chat/completions?api-version=2023-05-15 \"HTTP/1.1 200 OK\"\n"
     ]
    },
    {
     "name": "stdout",
     "output_type": "stream",
     "text": [
      "Sentence: \"Fairies do not want very much to eat.\" - Classification: 1\n"
     ]
    },
    {
     "name": "stderr",
     "output_type": "stream",
     "text": [
      "INFO:httpx:HTTP Request: POST https://philipp.openai.azure.com//openai/deployments/gpt-4/chat/completions?api-version=2023-05-15 \"HTTP/1.1 200 OK\"\n"
     ]
    },
    {
     "name": "stdout",
     "output_type": "stream",
     "text": [
      "Sentence: \"Some of the Butterflies, you know, wear whole gowns of black and yellow, others have stripes of black and white, while some have clear yellow with only a bit of black trimming the edges of the wings.The Moths usually wear brown and have it brightened with touches of buff or dull blue.\" - Classification: 5\n"
     ]
    },
    {
     "name": "stderr",
     "output_type": "stream",
     "text": [
      "INFO:httpx:HTTP Request: POST https://philipp.openai.azure.com//openai/deployments/gpt-4/chat/completions?api-version=2023-05-15 \"HTTP/1.1 200 OK\"\n"
     ]
    },
    {
     "name": "stdout",
     "output_type": "stream",
     "text": [
      "Sentence: \"If they do wear bright colors, it is only on the back pair of wings, and when the Moth alights, he slides his front pair of wings over these and covers all the brightness.\" - Classification: 2\n"
     ]
    },
    {
     "name": "stderr",
     "output_type": "stream",
     "text": [
      "INFO:httpx:HTTP Request: POST https://philipp.openai.azure.com//openai/deployments/gpt-4/chat/completions?api-version=2023-05-15 \"HTTP/1.1 200 OK\"\n"
     ]
    },
    {
     "name": "stdout",
     "output_type": "stream",
     "text": [
      "Sentence: \"They do not rest with their wings folded over their heads like the Butterflies, but leave them flat.\" - Classification: 2\n"
     ]
    },
    {
     "name": "stderr",
     "output_type": "stream",
     "text": [
      "INFO:httpx:HTTP Request: POST https://philipp.openai.azure.com//openai/deployments/gpt-4/chat/completions?api-version=2023-05-15 \"HTTP/1.1 200 OK\"\n"
     ]
    },
    {
     "name": "stdout",
     "output_type": "stream",
     "text": [
      "Sentence: \"All the day long, when the sun is shining, the Moths have to rest on trees and dead leaves.\" - Classification: 1\n"
     ]
    },
    {
     "name": "stderr",
     "output_type": "stream",
     "text": [
      "INFO:httpx:HTTP Request: POST https://philipp.openai.azure.com//openai/deployments/gpt-4/chat/completions?api-version=2023-05-15 \"HTTP/1.1 200 OK\"\n"
     ]
    },
    {
     "name": "stdout",
     "output_type": "stream",
     "text": [
      "Sentence: \"Moths are safer in dull colors, and the egg-layers should always be the safest of all.\" - Classification: 2\n"
     ]
    },
    {
     "name": "stderr",
     "output_type": "stream",
     "text": [
      "INFO:httpx:HTTP Request: POST https://philipp.openai.azure.com//openai/deployments/gpt-4/chat/completions?api-version=2023-05-15 \"HTTP/1.1 200 OK\"\n"
     ]
    },
    {
     "name": "stdout",
     "output_type": "stream",
     "text": [
      "Sentence: \"When the Cecropias rest, they spread their wings out flat, and do not slide the front pair over the others as their cousins, the Sphinxes, do.\" - Classification: 1\n"
     ]
    },
    {
     "name": "stderr",
     "output_type": "stream",
     "text": [
      "INFO:httpx:HTTP Request: POST https://philipp.openai.azure.com//openai/deployments/gpt-4/chat/completions?api-version=2023-05-15 \"HTTP/1.1 200 OK\"\n"
     ]
    },
    {
     "name": "stdout",
     "output_type": "stream",
     "text": [
      "Sentence: \"The most wonderful of all, though, are their feelers.The Butterflies have stiff feelers on their heads with little knobs on the ends, or sometimes with part of them thick like tiny clubs.\" - Classification: 2\n"
     ]
    },
    {
     "name": "stderr",
     "output_type": "stream",
     "text": [
      "INFO:httpx:HTTP Request: POST https://philipp.openai.azure.com//openai/deployments/gpt-4/chat/completions?api-version=2023-05-15 \"HTTP/1.1 200 OK\"\n"
     ]
    },
    {
     "name": "stdout",
     "output_type": "stream",
     "text": [
      "Sentence: \"Every slave must bring a box of precious stones.\" - Classification: 3\n"
     ]
    },
    {
     "name": "stderr",
     "output_type": "stream",
     "text": [
      "INFO:httpx:HTTP Request: POST https://philipp.openai.azure.com//openai/deployments/gpt-4/chat/completions?api-version=2023-05-15 \"HTTP/1.1 200 OK\"\n"
     ]
    },
    {
     "name": "stdout",
     "output_type": "stream",
     "text": [
      "Sentence: \"Away from home one can't get cheese rinds and bacon every day.\" - Classification: 2\n"
     ]
    },
    {
     "name": "stderr",
     "output_type": "stream",
     "text": [
      "INFO:httpx:HTTP Request: POST https://philipp.openai.azure.com//openai/deployments/gpt-4/chat/completions?api-version=2023-05-15 \"HTTP/1.1 200 OK\"\n"
     ]
    },
    {
     "name": "stdout",
     "output_type": "stream",
     "text": [
      "Sentence: \"'Understanding is the most important thing in every affair.\" - Classification: 4\n"
     ]
    },
    {
     "name": "stderr",
     "output_type": "stream",
     "text": [
      "INFO:httpx:HTTP Request: POST https://philipp.openai.azure.com//openai/deployments/gpt-4/chat/completions?api-version=2023-05-15 \"HTTP/1.1 200 OK\"\n"
     ]
    },
    {
     "name": "stdout",
     "output_type": "stream",
     "text": [
      "Sentence: \"'The ants are a respectable people.\" - Classification: 3\n"
     ]
    },
    {
     "name": "stderr",
     "output_type": "stream",
     "text": [
      "INFO:httpx:HTTP Request: POST https://philipp.openai.azure.com//openai/deployments/gpt-4/chat/completions?api-version=2023-05-15 \"HTTP/1.1 200 OK\"\n"
     ]
    },
    {
     "name": "stdout",
     "output_type": "stream",
     "text": [
      "Sentence: \"The nest will dry; the nest will fall.\"\" - Classification: 4\n"
     ]
    },
    {
     "name": "stderr",
     "output_type": "stream",
     "text": [
      "INFO:httpx:HTTP Request: POST https://philipp.openai.azure.com//openai/deployments/gpt-4/chat/completions?api-version=2023-05-15 \"HTTP/1.1 200 OK\"\n"
     ]
    },
    {
     "name": "stdout",
     "output_type": "stream",
     "text": [
      "Sentence: \"All Easter Bunnies go to the Easter Bunny School, to learn the three most important things...1.\" - Classification: 1\n"
     ]
    },
    {
     "name": "stderr",
     "output_type": "stream",
     "text": [
      "INFO:httpx:HTTP Request: POST https://philipp.openai.azure.com//openai/deployments/gpt-4/chat/completions?api-version=2023-05-15 \"HTTP/1.1 200 OK\"\n"
     ]
    },
    {
     "name": "stdout",
     "output_type": "stream",
     "text": [
      "Sentence: \"The Butterflies all laugh.\" - Classification: 3\n"
     ]
    },
    {
     "name": "stderr",
     "output_type": "stream",
     "text": [
      "INFO:httpx:HTTP Request: POST https://philipp.openai.azure.com//openai/deployments/gpt-4/chat/completions?api-version=2023-05-15 \"HTTP/1.1 200 OK\"\n"
     ]
    },
    {
     "name": "stdout",
     "output_type": "stream",
     "text": [
      "Sentence: \"\"A PILLOWCASE IS JUST TOO BIG!\"\" - Classification: 5\n"
     ]
    },
    {
     "name": "stderr",
     "output_type": "stream",
     "text": [
      "INFO:httpx:HTTP Request: POST https://philipp.openai.azure.com//openai/deployments/gpt-4/chat/completions?api-version=2023-05-15 \"HTTP/1.1 200 OK\"\n"
     ]
    },
    {
     "name": "stdout",
     "output_type": "stream",
     "text": [
      "Sentence: \"\"Stockings are just the right size: not too big, and not too small.\" - Classification: 5\n"
     ]
    },
    {
     "name": "stderr",
     "output_type": "stream",
     "text": [
      "INFO:httpx:HTTP Request: POST https://philipp.openai.azure.com//openai/deployments/gpt-4/chat/completions?api-version=2023-05-15 \"HTTP/1.1 200 OK\"\n"
     ]
    },
    {
     "name": "stdout",
     "output_type": "stream",
     "text": [
      "Sentence: \"depending on whether they are the kind of birds who love the daylight, or who love the stars.\" - Classification: 2\n"
     ]
    },
    {
     "name": "stderr",
     "output_type": "stream",
     "text": [
      "INFO:httpx:HTTP Request: POST https://philipp.openai.azure.com//openai/deployments/gpt-4/chat/completions?api-version=2023-05-15 \"HTTP/1.1 200 OK\"\n"
     ]
    },
    {
     "name": "stdout",
     "output_type": "stream",
     "text": [
      "Sentence: \"Some mummies listen when we tell them stories.\" - Classification: 3\n"
     ]
    },
    {
     "name": "stderr",
     "output_type": "stream",
     "text": [
      "INFO:httpx:HTTP Request: POST https://philipp.openai.azure.com//openai/deployments/gpt-4/chat/completions?api-version=2023-05-15 \"HTTP/1.1 200 OK\"\n"
     ]
    },
    {
     "name": "stdout",
     "output_type": "stream",
     "text": [
      "Sentence: \"Winter is colder than fall.\" - Classification: 5\n"
     ]
    },
    {
     "name": "stderr",
     "output_type": "stream",
     "text": [
      "INFO:httpx:HTTP Request: POST https://philipp.openai.azure.com//openai/deployments/gpt-4/chat/completions?api-version=2023-05-15 \"HTTP/1.1 200 OK\"\n"
     ]
    },
    {
     "name": "stdout",
     "output_type": "stream",
     "text": [
      "Sentence: \"Birds hatch from eggs in spring.\" - Classification: 2\n"
     ]
    },
    {
     "name": "stderr",
     "output_type": "stream",
     "text": [
      "INFO:httpx:HTTP Request: POST https://philipp.openai.azure.com//openai/deployments/gpt-4/chat/completions?api-version=2023-05-15 \"HTTP/1.1 200 OK\"\n"
     ]
    },
    {
     "name": "stdout",
     "output_type": "stream",
     "text": [
      "Sentence: \"Birds hatch in spring.melts (MELTS) A solid melts when it changes to a liquid.\" - Classification: 2\n"
     ]
    },
    {
     "name": "stderr",
     "output_type": "stream",
     "text": [
      "INFO:httpx:HTTP Request: POST https://philipp.openai.azure.com//openai/deployments/gpt-4/chat/completions?api-version=2023-05-15 \"HTTP/1.1 200 OK\"\n"
     ]
    },
    {
     "name": "stdout",
     "output_type": "stream",
     "text": [
      "Sentence: \"Snow melts in warm spring temperatures.\" - Classification: 1\n"
     ]
    },
    {
     "name": "stderr",
     "output_type": "stream",
     "text": [
      "INFO:httpx:HTTP Request: POST https://philipp.openai.azure.com//openai/deployments/gpt-4/chat/completions?api-version=2023-05-15 \"HTTP/1.1 200 OK\"\n"
     ]
    },
    {
     "name": "stdout",
     "output_type": "stream",
     "text": [
      "Sentence: \"weather (WETH-ur) Weather is the condition of the air outside.\" - Classification: 5\n"
     ]
    },
    {
     "name": "stderr",
     "output_type": "stream",
     "text": [
      "INFO:httpx:HTTP Request: POST https://philipp.openai.azure.com//openai/deployments/gpt-4/chat/completions?api-version=2023-05-15 \"HTTP/1.1 200 OK\"\n"
     ]
    },
    {
     "name": "stdout",
     "output_type": "stream",
     "text": [
      "Sentence: \"Wind blows seeds.\" - Classification: 1\n"
     ]
    },
    {
     "name": "stderr",
     "output_type": "stream",
     "text": [
      "INFO:httpx:HTTP Request: POST https://philipp.openai.azure.com//openai/deployments/gpt-4/chat/completions?api-version=2023-05-15 \"HTTP/1.1 200 OK\"\n"
     ]
    },
    {
     "name": "stdout",
     "output_type": "stream",
     "text": [
      "Sentence: \"Clouds gather.\" - Classification: 1\n"
     ]
    },
    {
     "name": "stderr",
     "output_type": "stream",
     "text": [
      "INFO:httpx:HTTP Request: POST https://philipp.openai.azure.com//openai/deployments/gpt-4/chat/completions?api-version=2023-05-15 \"HTTP/1.1 200 OK\"\n"
     ]
    },
    {
     "name": "stdout",
     "output_type": "stream",
     "text": [
      "Sentence: \"Air is made up of many different gases.We can't see them, but they're all around us.\" - Classification: 5\n"
     ]
    },
    {
     "name": "stderr",
     "output_type": "stream",
     "text": [
      "INFO:httpx:HTTP Request: POST https://philipp.openai.azure.com//openai/deployments/gpt-4/chat/completions?api-version=2023-05-15 \"HTTP/1.1 200 OK\"\n"
     ]
    },
    {
     "name": "stdout",
     "output_type": "stream",
     "text": [
      "Sentence: \"Sunlight warms the earth.The blanket of air helps hold the warmth in.\" - Classification: 4\n"
     ]
    },
    {
     "name": "stderr",
     "output_type": "stream",
     "text": [
      "INFO:httpx:HTTP Request: POST https://philipp.openai.azure.com//openai/deployments/gpt-4/chat/completions?api-version=2023-05-15 \"HTTP/1.1 200 OK\"\n"
     ]
    },
    {
     "name": "stdout",
     "output_type": "stream",
     "text": [
      "Sentence: \"HA> They are called greenhouse gases.\" - Classification: 4\n"
     ]
    },
    {
     "name": "stderr",
     "output_type": "stream",
     "text": [
      "INFO:httpx:HTTP Request: POST https://philipp.openai.azure.com//openai/deployments/gpt-4/chat/completions?api-version=2023-05-15 \"HTTP/1.1 200 OK\"\n"
     ]
    },
    {
     "name": "stdout",
     "output_type": "stream",
     "text": [
      "Sentence: \"Cars and trucks burn fuel that makes extra carbon dioxide.Power plants and factories do, too.\" - Classification: 4\n"
     ]
    },
    {
     "name": "stderr",
     "output_type": "stream",
     "text": [
      "INFO:httpx:HTTP Request: POST https://philipp.openai.azure.com//openai/deployments/gpt-4/chat/completions?api-version=2023-05-15 \"HTTP/1.1 200 OK\"\n"
     ]
    },
    {
     "name": "stdout",
     "output_type": "stream",
     "text": [
      "Sentence: \"Five times two is ten.\" - Classification: None\n"
     ]
    },
    {
     "name": "stderr",
     "output_type": "stream",
     "text": [
      "INFO:httpx:HTTP Request: POST https://philipp.openai.azure.com//openai/deployments/gpt-4/chat/completions?api-version=2023-05-15 \"HTTP/1.1 200 OK\"\n"
     ]
    },
    {
     "name": "stdout",
     "output_type": "stream",
     "text": [
      "Sentence: \"Camels camp out in the sand and carry heavy loads.Their cargo goes in caravans down clear or dusty roads.\" - Classification: 1\n"
     ]
    },
    {
     "name": "stderr",
     "output_type": "stream",
     "text": [
      "INFO:httpx:HTTP Request: POST https://philipp.openai.azure.com//openai/deployments/gpt-4/chat/completions?api-version=2023-05-15 \"HTTP/1.1 200 OK\"\n"
     ]
    },
    {
     "name": "stdout",
     "output_type": "stream",
     "text": [
      "Sentence: \"Oh, I see an otterover in the water!Otters eat a snack while floating on their back.\" - Classification: 1\n"
     ]
    },
    {
     "name": "stderr",
     "output_type": "stream",
     "text": [
      "INFO:httpx:HTTP Request: POST https://philipp.openai.azure.com//openai/deployments/gpt-4/chat/completions?api-version=2023-05-15 \"HTTP/1.1 200 OK\"\n"
     ]
    },
    {
     "name": "stdout",
     "output_type": "stream",
     "text": [
      "Sentence: \"Turtles have no teeth.\" - Classification: 2\n"
     ]
    },
    {
     "name": "stderr",
     "output_type": "stream",
     "text": [
      "INFO:httpx:HTTP Request: POST https://philipp.openai.azure.com//openai/deployments/gpt-4/chat/completions?api-version=2023-05-15 \"HTTP/1.1 200 OK\"\n"
     ]
    },
    {
     "name": "stdout",
     "output_type": "stream",
     "text": [
      "Sentence: \"Vultures don't eat veggiesVultures eat red meat.For them, a vole or vampire bat would be a tasty treat.\" - Classification: 1\n"
     ]
    },
    {
     "name": "stderr",
     "output_type": "stream",
     "text": [
      "INFO:httpx:HTTP Request: POST https://philipp.openai.azure.com//openai/deployments/gpt-4/chat/completions?api-version=2023-05-15 \"HTTP/1.1 200 OK\"\n"
     ]
    },
    {
     "name": "stdout",
     "output_type": "stream",
     "text": [
      "Sentence: \"Strawberries are succulent.Strawberries are sweet.On sunny summer days they're what I like to eat!\" - Classification: 5\n"
     ]
    },
    {
     "name": "stderr",
     "output_type": "stream",
     "text": [
      "INFO:httpx:HTTP Request: POST https://philipp.openai.azure.com//openai/deployments/gpt-4/chat/completions?api-version=2023-05-15 \"HTTP/1.1 200 OK\"\n"
     ]
    },
    {
     "name": "stdout",
     "output_type": "stream",
     "text": [
      "Sentence: \"Biking Is a way to be active.relax (ree-LAX) To relax is to not be tense or nervous.\" - Classification: 1\n"
     ]
    },
    {
     "name": "stderr",
     "output_type": "stream",
     "text": [
      "INFO:httpx:HTTP Request: POST https://philipp.openai.azure.com//openai/deployments/gpt-4/chat/completions?api-version=2023-05-15 \"HTTP/1.1 200 OK\"\n"
     ]
    },
    {
     "name": "stdout",
     "output_type": "stream",
     "text": [
      "Sentence: \"Activity Helps you relax.\" - Classification: 4\n"
     ]
    },
    {
     "name": "stderr",
     "output_type": "stream",
     "text": [
      "INFO:httpx:HTTP Request: POST https://philipp.openai.azure.com//openai/deployments/gpt-4/chat/completions?api-version=2023-05-15 \"HTTP/1.1 200 OK\"\n"
     ]
    },
    {
     "name": "stdout",
     "output_type": "stream",
     "text": [
      "Sentence: \"Glossary energy (EN-ur-jee) Energy is the ability or strength to do something.\" - Classification: 4\n"
     ]
    },
    {
     "name": "stderr",
     "output_type": "stream",
     "text": [
      "INFO:httpx:HTTP Request: POST https://philipp.openai.azure.com//openai/deployments/gpt-4/chat/completions?api-version=2023-05-15 \"HTTP/1.1 200 OK\"\n"
     ]
    },
    {
     "name": "stdout",
     "output_type": "stream",
     "text": [
      "Sentence: \"Eating and drinking make teeth dirty.Brushing and flossing get rid of food and germs.\" - Classification: 4\n"
     ]
    },
    {
     "name": "stderr",
     "output_type": "stream",
     "text": [
      "INFO:httpx:HTTP Request: POST https://philipp.openai.azure.com//openai/deployments/gpt-4/chat/completions?api-version=2023-05-15 \"HTTP/1.1 200 OK\"\n"
     ]
    },
    {
     "name": "stdout",
     "output_type": "stream",
     "text": [
      "Sentence: \"Sugar is bad for teeth.\" - Classification: 4\n"
     ]
    },
    {
     "name": "stderr",
     "output_type": "stream",
     "text": [
      "INFO:httpx:HTTP Request: POST https://philipp.openai.azure.com//openai/deployments/gpt-4/chat/completions?api-version=2023-05-15 \"HTTP/1.1 200 OK\"\n"
     ]
    },
    {
     "name": "stdout",
     "output_type": "stream",
     "text": [
      "Sentence: \"lt causes cavities.\" - Classification: 4\n"
     ]
    },
    {
     "name": "stderr",
     "output_type": "stream",
     "text": [
      "INFO:httpx:HTTP Request: POST https://philipp.openai.azure.com//openai/deployments/gpt-4/chat/completions?api-version=2023-05-15 \"HTTP/1.1 200 OK\"\n"
     ]
    },
    {
     "name": "stdout",
     "output_type": "stream",
     "text": [
      "Sentence: \"Fresh fruit for dessert is the healthy way.\" - Classification: 4\n"
     ]
    },
    {
     "name": "stderr",
     "output_type": "stream",
     "text": [
      "INFO:httpx:HTTP Request: POST https://philipp.openai.azure.com//openai/deployments/gpt-4/chat/completions?api-version=2023-05-15 \"HTTP/1.1 200 OK\"\n"
     ]
    },
    {
     "name": "stdout",
     "output_type": "stream",
     "text": [
      "Sentence: \"Always Have an exit plan.\" - Classification: The\n"
     ]
    },
    {
     "name": "stderr",
     "output_type": "stream",
     "text": [
      "INFO:httpx:HTTP Request: POST https://philipp.openai.azure.com//openai/deployments/gpt-4/chat/completions?api-version=2023-05-15 \"HTTP/1.1 200 OK\"\n"
     ]
    },
    {
     "name": "stdout",
     "output_type": "stream",
     "text": [
      "Sentence: \"Healthy snacks can be a breeze.\" - Classification: 4\n"
     ]
    },
    {
     "name": "stderr",
     "output_type": "stream",
     "text": [
      "INFO:httpx:HTTP Request: POST https://philipp.openai.azure.com//openai/deployments/gpt-4/chat/completions?api-version=2023-05-15 \"HTTP/1.1 200 OK\"\n"
     ]
    },
    {
     "name": "stdout",
     "output_type": "stream",
     "text": [
      "Sentence: \"Tomatoes are all juicy and red Soft, ripe bananas help keep me fed.\" - Classification: 5\n"
     ]
    },
    {
     "name": "stderr",
     "output_type": "stream",
     "text": [
      "INFO:httpx:HTTP Request: POST https://philipp.openai.azure.com//openai/deployments/gpt-4/chat/completions?api-version=2023-05-15 \"HTTP/1.1 200 OK\"\n"
     ]
    },
    {
     "name": "stdout",
     "output_type": "stream",
     "text": [
      "Sentence: \"Apples come in red,green and yellow Peas are so tasty,just ask this fellow.\" - Classification: 5\n"
     ]
    },
    {
     "name": "stderr",
     "output_type": "stream",
     "text": [
      "INFO:httpx:HTTP Request: POST https://philipp.openai.azure.com//openai/deployments/gpt-4/chat/completions?api-version=2023-05-15 \"HTTP/1.1 200 OK\"\n"
     ]
    },
    {
     "name": "stdout",
     "output_type": "stream",
     "text": [
      "Sentence: \"All sorts of berries are great to eat.\" - Classification: 4\n"
     ]
    },
    {
     "name": "stderr",
     "output_type": "stream",
     "text": [
      "INFO:httpx:HTTP Request: POST https://philipp.openai.azure.com//openai/deployments/gpt-4/chat/completions?api-version=2023-05-15 \"HTTP/1.1 200 OK\"\n"
     ]
    },
    {
     "name": "stdout",
     "output_type": "stream",
     "text": [
      "Sentence: \"A plain old box is lots of fun.\" - Classification: 4\n"
     ]
    },
    {
     "name": "stderr",
     "output_type": "stream",
     "text": [
      "INFO:httpx:HTTP Request: POST https://philipp.openai.azure.com//openai/deployments/gpt-4/chat/completions?api-version=2023-05-15 \"HTTP/1.1 200 OK\"\n"
     ]
    },
    {
     "name": "stdout",
     "output_type": "stream",
     "text": [
      "Sentence: \"One moon shines at night.The moon circles the Earth.\" - Classification: 4\n"
     ]
    },
    {
     "name": "stderr",
     "output_type": "stream",
     "text": [
      "INFO:httpx:HTTP Request: POST https://philipp.openai.azure.com//openai/deployments/gpt-4/chat/completions?api-version=2023-05-15 \"HTTP/1.1 200 OK\"\n"
     ]
    },
    {
     "name": "stdout",
     "output_type": "stream",
     "text": [
      "Sentence: \"Rockets take astronauts into space.\" - Classification: 4\n"
     ]
    },
    {
     "name": "stderr",
     "output_type": "stream",
     "text": [
      "INFO:httpx:HTTP Request: POST https://philipp.openai.azure.com//openai/deployments/gpt-4/chat/completions?api-version=2023-05-15 \"HTTP/1.1 200 OK\"\n"
     ]
    },
    {
     "name": "stdout",
     "output_type": "stream",
     "text": [
      "Sentence: \"Six satellites circle the earth..\" - Classification: 1\n"
     ]
    },
    {
     "name": "stderr",
     "output_type": "stream",
     "text": [
      "INFO:httpx:HTTP Request: POST https://philipp.openai.azure.com//openai/deployments/gpt-4/chat/completions?api-version=2023-05-15 \"HTTP/1.1 200 OK\"\n"
     ]
    },
    {
     "name": "stdout",
     "output_type": "stream",
     "text": [
      "Sentence: \"One jaguar hunts.\" - Classification: 1\n"
     ]
    },
    {
     "name": "stderr",
     "output_type": "stream",
     "text": [
      "INFO:httpx:HTTP Request: POST https://philipp.openai.azure.com//openai/deployments/gpt-4/chat/completions?api-version=2023-05-15 \"HTTP/1.1 200 OK\"\n"
     ]
    },
    {
     "name": "stdout",
     "output_type": "stream",
     "text": [
      "Sentence: \"Jaguars Hunt and live alone.\" - Classification: 1\n"
     ]
    },
    {
     "name": "stderr",
     "output_type": "stream",
     "text": [
      "INFO:httpx:HTTP Request: POST https://philipp.openai.azure.com//openai/deployments/gpt-4/chat/completions?api-version=2023-05-15 \"HTTP/1.1 200 OK\"\n"
     ]
    },
    {
     "name": "stdout",
     "output_type": "stream",
     "text": [
      "Sentence: \"They spend most of their lives in trees.\" - Classification: 1\n"
     ]
    },
    {
     "name": "stderr",
     "output_type": "stream",
     "text": [
      "INFO:httpx:HTTP Request: POST https://philipp.openai.azure.com//openai/deployments/gpt-4/chat/completions?api-version=2023-05-15 \"HTTP/1.1 200 OK\"\n"
     ]
    },
    {
     "name": "stdout",
     "output_type": "stream",
     "text": [
      "Sentence: \"They are the smallest monkeys in the world.\" - Classification: 2\n"
     ]
    },
    {
     "name": "stderr",
     "output_type": "stream",
     "text": [
      "INFO:httpx:HTTP Request: POST https://philipp.openai.azure.com//openai/deployments/gpt-4/chat/completions?api-version=2023-05-15 \"HTTP/1.1 200 OK\"\n"
     ]
    },
    {
     "name": "stdout",
     "output_type": "stream",
     "text": [
      "Sentence: \"They are one of the biggest kinds of butterfly.\" - Classification: 5\n"
     ]
    },
    {
     "name": "stderr",
     "output_type": "stream",
     "text": [
      "INFO:httpx:HTTP Request: POST https://philipp.openai.azure.com//openai/deployments/gpt-4/chat/completions?api-version=2023-05-15 \"HTTP/1.1 200 OK\"\n"
     ]
    },
    {
     "name": "stdout",
     "output_type": "stream",
     "text": [
      "Sentence: \"They are the largest bats in the world.\" - Classification: 5\n"
     ]
    },
    {
     "name": "stderr",
     "output_type": "stream",
     "text": [
      "INFO:httpx:HTTP Request: POST https://philipp.openai.azure.com//openai/deployments/gpt-4/chat/completions?api-version=2023-05-15 \"HTTP/1.1 200 OK\"\n"
     ]
    },
    {
     "name": "stdout",
     "output_type": "stream",
     "text": [
      "Sentence: \"All kinds of animals live under the sea.\" - Classification: 2\n"
     ]
    },
    {
     "name": "stderr",
     "output_type": "stream",
     "text": [
      "INFO:httpx:HTTP Request: POST https://philipp.openai.azure.com//openai/deployments/gpt-4/chat/completions?api-version=2023-05-15 \"HTTP/1.1 200 OK\"\n"
     ]
    },
    {
     "name": "stdout",
     "output_type": "stream",
     "text": [
      "Sentence: \"Humpback Whales have grooves and bumps on their skin.\" - Classification: 2\n"
     ]
    },
    {
     "name": "stderr",
     "output_type": "stream",
     "text": [
      "INFO:httpx:HTTP Request: POST https://philipp.openai.azure.com//openai/deployments/gpt-4/chat/completions?api-version=2023-05-15 \"HTTP/1.1 200 OK\"\n"
     ]
    },
    {
     "name": "stdout",
     "output_type": "stream",
     "text": [
      "Sentence: \"They live in shells.\" - Classification: 2\n"
     ]
    },
    {
     "name": "stderr",
     "output_type": "stream",
     "text": [
      "INFO:httpx:HTTP Request: POST https://philipp.openai.azure.com//openai/deployments/gpt-4/chat/completions?api-version=2023-05-15 \"HTTP/1.1 200 OK\"\n"
     ]
    },
    {
     "name": "stdout",
     "output_type": "stream",
     "text": [
      "Sentence: \"They talk to each other with clicks and squeaks.\" - Classification: 1\n"
     ]
    },
    {
     "name": "stderr",
     "output_type": "stream",
     "text": [
      "INFO:httpx:HTTP Request: POST https://philipp.openai.azure.com//openai/deployments/gpt-4/chat/completions?api-version=2023-05-15 \"HTTP/1.1 200 OK\"\n"
     ]
    },
    {
     "name": "stdout",
     "output_type": "stream",
     "text": [
      "Sentence: \"Seven sharks look for food.Grey reef sharks eat fish,crabs, and squids.\" - Classification: 1\n"
     ]
    },
    {
     "name": "stderr",
     "output_type": "stream",
     "text": [
      "INFO:httpx:HTTP Request: POST https://philipp.openai.azure.com//openai/deployments/gpt-4/chat/completions?api-version=2023-05-15 \"HTTP/1.1 200 OK\"\n"
     ]
    },
    {
     "name": "stdout",
     "output_type": "stream",
     "text": [
      "Sentence: \"Jellyfish never stop growing.\" - Classification: 2\n"
     ]
    },
    {
     "name": "stderr",
     "output_type": "stream",
     "text": [
      "INFO:httpx:HTTP Request: POST https://philipp.openai.azure.com//openai/deployments/gpt-4/chat/completions?api-version=2023-05-15 \"HTTP/1.1 200 OK\"\n"
     ]
    },
    {
     "name": "stdout",
     "output_type": "stream",
     "text": [
      "Sentence: \"Their wool keeps them warm.\" - Classification: 4\n"
     ]
    },
    {
     "name": "stderr",
     "output_type": "stream",
     "text": [
      "INFO:httpx:HTTP Request: POST https://philipp.openai.azure.com//openai/deployments/gpt-4/chat/completions?api-version=2023-05-15 \"HTTP/1.1 200 OK\"\n"
     ]
    },
    {
     "name": "stdout",
     "output_type": "stream",
     "text": [
      "Sentence: \"Each cow has four stomachs.\" - Classification: 2\n"
     ]
    },
    {
     "name": "stderr",
     "output_type": "stream",
     "text": [
      "INFO:httpx:HTTP Request: POST https://philipp.openai.azure.com//openai/deployments/gpt-4/chat/completions?api-version=2023-05-15 \"HTTP/1.1 200 OK\"\n"
     ]
    },
    {
     "name": "stdout",
     "output_type": "stream",
     "text": [
      "Sentence: \"Five baby goats play.Baby goats are called kids.\" - Classification: 1\n"
     ]
    },
    {
     "name": "stderr",
     "output_type": "stream",
     "text": [
      "INFO:httpx:HTTP Request: POST https://philipp.openai.azure.com//openai/deployments/gpt-4/chat/completions?api-version=2023-05-15 \"HTTP/1.1 200 OK\"\n"
     ]
    },
    {
     "name": "stdout",
     "output_type": "stream",
     "text": [
      "Sentence: \"They hatch from eggs.\" - Classification: 2\n"
     ]
    },
    {
     "name": "stderr",
     "output_type": "stream",
     "text": [
      "INFO:httpx:HTTP Request: POST https://philipp.openai.azure.com//openai/deployments/gpt-4/chat/completions?api-version=2023-05-15 \"HTTP/1.1 200 OK\"\n"
     ]
    },
    {
     "name": "stdout",
     "output_type": "stream",
     "text": [
      "Sentence: \"Male Turkeys are called toms.\" - Classification: 2\n"
     ]
    },
    {
     "name": "stderr",
     "output_type": "stream",
     "text": [
      "INFO:httpx:HTTP Request: POST https://philipp.openai.azure.com//openai/deployments/gpt-4/chat/completions?api-version=2023-05-15 \"HTTP/1.1 200 OK\"\n"
     ]
    },
    {
     "name": "stdout",
     "output_type": "stream",
     "text": [
      "Sentence: \"Pets come in all kinds and sizes.\" - Classification: 5\n"
     ]
    },
    {
     "name": "stderr",
     "output_type": "stream",
     "text": [
      "INFO:httpx:HTTP Request: POST https://philipp.openai.azure.com//openai/deployments/gpt-4/chat/completions?api-version=2023-05-15 \"HTTP/1.1 200 OK\"\n"
     ]
    },
    {
     "name": "stdout",
     "output_type": "stream",
     "text": [
      "Sentence: \"Hamsters like to run.\" - Classification: 1\n"
     ]
    },
    {
     "name": "stderr",
     "output_type": "stream",
     "text": [
      "INFO:httpx:HTTP Request: POST https://philipp.openai.azure.com//openai/deployments/gpt-4/chat/completions?api-version=2023-05-15 \"HTTP/1.1 200 OK\"\n"
     ]
    },
    {
     "name": "stdout",
     "output_type": "stream",
     "text": [
      "Sentence: \"Leaves change color and fall from trees in fall.\" - Classification: 4\n"
     ]
    },
    {
     "name": "stderr",
     "output_type": "stream",
     "text": [
      "INFO:httpx:HTTP Request: POST https://philipp.openai.azure.com//openai/deployments/gpt-4/chat/completions?api-version=2023-05-15 \"HTTP/1.1 200 OK\"\n"
     ]
    },
    {
     "name": "stdout",
     "output_type": "stream",
     "text": [
      "Sentence: \"They come in many fun shapes and Colors.\" - Classification: 5\n"
     ]
    },
    {
     "name": "stderr",
     "output_type": "stream",
     "text": [
      "INFO:httpx:HTTP Request: POST https://philipp.openai.azure.com//openai/deployments/gpt-4/chat/completions?api-version=2023-05-15 \"HTTP/1.1 200 OK\"\n"
     ]
    },
    {
     "name": "stdout",
     "output_type": "stream",
     "text": [
      "Sentence: \"The giant panda, one of the world's rarest animals, is a native of China, It lives in high misty forests where bamboo, its favorite food, grows.\" - Classification: 2\n"
     ]
    },
    {
     "name": "stderr",
     "output_type": "stream",
     "text": [
      "INFO:httpx:HTTP Request: POST https://philipp.openai.azure.com//openai/deployments/gpt-4/chat/completions?api-version=2023-05-15 \"HTTP/1.1 200 OK\"\n"
     ]
    },
    {
     "name": "stdout",
     "output_type": "stream",
     "text": [
      "Sentence: \"The panda cub stay with its mother, growing and learning for up to three years.\" - Classification: 3\n"
     ]
    },
    {
     "name": "stderr",
     "output_type": "stream",
     "text": [
      "INFO:httpx:HTTP Request: POST https://philipp.openai.azure.com//openai/deployments/gpt-4/chat/completions?api-version=2023-05-15 \"HTTP/1.1 200 OK\"\n"
     ]
    },
    {
     "name": "stdout",
     "output_type": "stream",
     "text": [
      "Sentence: \"Tough lips and rubbery saliva coating its long agile tongue make it possible for the giraffe to strip off and eat not only the leaves of trees, but also the twigs, branches,and thorns.\" - Classification: 2\n"
     ]
    },
    {
     "name": "stderr",
     "output_type": "stream",
     "text": [
      "INFO:httpx:HTTP Request: POST https://philipp.openai.azure.com//openai/deployments/gpt-4/chat/completions?api-version=2023-05-15 \"HTTP/1.1 200 OK\"\n"
     ]
    },
    {
     "name": "stdout",
     "output_type": "stream",
     "text": [
      "Sentence: \"Because its head is held so high, the giraffe can see much farther than the zebras, wildebeests ostriches, and baboons who depend on this graceful animal for danger signals when predators, such as lions, approach.\" - Classification: 2\n"
     ]
    },
    {
     "name": "stderr",
     "output_type": "stream",
     "text": [
      "INFO:httpx:HTTP Request: POST https://philipp.openai.azure.com//openai/deployments/gpt-4/chat/completions?api-version=2023-05-15 \"HTTP/1.1 200 OK\"\n"
     ]
    },
    {
     "name": "stdout",
     "output_type": "stream",
     "text": [
      "Sentence: \"The starfish, or sea star, found in oceans around the world,belongs to a spiny-skinned family of animals called the echinoderms.The starfish can have five, ten, even fifty arms, which are all arranged around the central disk where its mouth is found Eacharm has two rows of tube feet that the starfish uses to breathe, move, and gather food.\" - Classification: 2\n"
     ]
    },
    {
     "name": "stderr",
     "output_type": "stream",
     "text": [
      "INFO:httpx:HTTP Request: POST https://philipp.openai.azure.com//openai/deployments/gpt-4/chat/completions?api-version=2023-05-15 \"HTTP/1.1 200 OK\"\n"
     ]
    },
    {
     "name": "stdout",
     "output_type": "stream",
     "text": [
      "Sentence: \"Although it doesn't have a head or brain, the starfish possesses the amazing power of regeneration; a single arm with only a bit of the central disk can grow into a complete animal within a year.\" - Classification: 2\n"
     ]
    },
    {
     "name": "stderr",
     "output_type": "stream",
     "text": [
      "INFO:httpx:HTTP Request: POST https://philipp.openai.azure.com//openai/deployments/gpt-4/chat/completions?api-version=2023-05-15 \"HTTP/1.1 200 OK\"\n"
     ]
    },
    {
     "name": "stdout",
     "output_type": "stream",
     "text": [
      "Sentence: \"The macaw has two toes pointing frontward and two backward,e perfect for climbing trees and grasping the fruit and seeds that make up its diet.\" - Classification: 2\n"
     ]
    },
    {
     "name": "stderr",
     "output_type": "stream",
     "text": [
      "INFO:httpx:HTTP Request: POST https://philipp.openai.azure.com//openai/deployments/gpt-4/chat/completions?api-version=2023-05-15 \"HTTP/1.1 200 OK\"\n"
     ]
    },
    {
     "name": "stdout",
     "output_type": "stream",
     "text": [
      "Sentence: \"An extremely noisy birdit yelps and screeches, especially in flightThe macawlike other parrots,is an excellentmimic and can imitate many sounds.\" - Classification: 1\n"
     ]
    },
    {
     "name": "stderr",
     "output_type": "stream",
     "text": [
      "INFO:httpx:HTTP Request: POST https://philipp.openai.azure.com//openai/deployments/gpt-4/chat/completions?api-version=2023-05-15 \"HTTP/1.1 200 OK\"\n"
     ]
    },
    {
     "name": "stdout",
     "output_type": "stream",
     "text": [
      "Sentence: \"Mostmacaws mate for life and nest in holeshigh in trees.\" - Classification: 3\n"
     ]
    },
    {
     "name": "stderr",
     "output_type": "stream",
     "text": [
      "INFO:httpx:HTTP Request: POST https://philipp.openai.azure.com//openai/deployments/gpt-4/chat/completions?api-version=2023-05-15 \"HTTP/1.1 200 OK\"\n"
     ]
    },
    {
     "name": "stdout",
     "output_type": "stream",
     "text": [
      "Sentence: \"Tiger cubs are born blind and helpless.\" - Classification: 2\n"
     ]
    },
    {
     "name": "stderr",
     "output_type": "stream",
     "text": [
      "INFO:httpx:HTTP Request: POST https://philipp.openai.azure.com//openai/deployments/gpt-4/chat/completions?api-version=2023-05-15 \"HTTP/1.1 200 OK\"\n"
     ]
    },
    {
     "name": "stdout",
     "output_type": "stream",
     "text": [
      "Sentence: \"The mother may help some of the tiny crocodiles hatch by gently rolling the eggs in her mouth to crack the shellsAs they grow the young crocodiles feed on larger and larger prey quickly moving from insects to fish, rodents, and birds.\" - Classification: 3\n"
     ]
    },
    {
     "name": "stderr",
     "output_type": "stream",
     "text": [
      "INFO:httpx:HTTP Request: POST https://philipp.openai.azure.com//openai/deployments/gpt-4/chat/completions?api-version=2023-05-15 \"HTTP/1.1 200 OK\"\n"
     ]
    },
    {
     "name": "stdout",
     "output_type": "stream",
     "text": [
      "Sentence: \"Seven Monkeysin the mountains of japan The japanese macaque or snow monkey lives in the mountains of japan.\" - Classification: 2\n"
     ]
    },
    {
     "name": "stderr",
     "output_type": "stream",
     "text": [
      "INFO:httpx:HTTP Request: POST https://philipp.openai.azure.com//openai/deployments/gpt-4/chat/completions?api-version=2023-05-15 \"HTTP/1.1 200 OK\"\n"
     ]
    },
    {
     "name": "stdout",
     "output_type": "stream",
     "text": [
      "Sentence: \"Some of these monkeys live farther north than any other primates except humans.\" - Classification: 2\n"
     ]
    },
    {
     "name": "stderr",
     "output_type": "stream",
     "text": [
      "INFO:httpx:HTTP Request: POST https://philipp.openai.azure.com//openai/deployments/gpt-4/chat/completions?api-version=2023-05-15 \"HTTP/1.1 200 OK\"\n"
     ]
    },
    {
     "name": "stdout",
     "output_type": "stream",
     "text": [
      "Sentence: \"During the long cold winters,snow monkeys erow fluffy coats and huddle together for warmth.\" - Classification: 2\n"
     ]
    },
    {
     "name": "stderr",
     "output_type": "stream",
     "text": [
      "INFO:httpx:HTTP Request: POST https://philipp.openai.azure.com//openai/deployments/gpt-4/chat/completions?api-version=2023-05-15 \"HTTP/1.1 200 OK\"\n"
     ]
    },
    {
     "name": "stdout",
     "output_type": "stream",
     "text": [
      "Sentence: \"Nine Sparrows outside a kitchen window The familiar house sparrow, native to Eurasia And North Africa now inhabits ctes, townsend farmlands all over the world.\" - Classification: 2\n"
     ]
    },
    {
     "name": "stderr",
     "output_type": "stream",
     "text": [
      "INFO:httpx:HTTP Request: POST https://philipp.openai.azure.com//openai/deployments/gpt-4/chat/completions?api-version=2023-05-15 \"HTTP/1.1 200 OK\"\n"
     ]
    },
    {
     "name": "stdout",
     "output_type": "stream",
     "text": [
      "Sentence: \"All house sparrows in North America are descendants of the small numbers released in New York City In the early1850sThey quickly spread, eating insects and seeds, sometimes damaging crops as they competed with native species for foodThe house sparrow usually has three broods of young a year and nests almost anywhere-in eaves and streetlights and signs and sometimes in trees Ten Mountain Goats on the slopes of the Rockies Despite its name and appearance, the RockyMountain goat is really a mountain antelope inhabiting craggy remote slopes of theRockies,far above most of its natural enemies, such as grizzly bears, and cougars.\" - Classification: 2\n"
     ]
    },
    {
     "name": "stderr",
     "output_type": "stream",
     "text": [
      "INFO:httpx:HTTP Request: POST https://philipp.openai.azure.com//openai/deployments/gpt-4/chat/completions?api-version=2023-05-15 \"HTTP/1.1 200 OK\"\n"
     ]
    },
    {
     "name": "stdout",
     "output_type": "stream",
     "text": [
      "Sentence: \"Its ears are much larger than those of its cousin, the Asiatic elephant.\" - Classification: 2\n"
     ]
    },
    {
     "name": "stderr",
     "output_type": "stream",
     "text": [
      "INFO:httpx:HTTP Request: POST https://philipp.openai.azure.com//openai/deployments/gpt-4/chat/completions?api-version=2023-05-15 \"HTTP/1.1 200 OK\"\n"
     ]
    },
    {
     "name": "stdout",
     "output_type": "stream",
     "text": [
      "Sentence: \"When the female elephant is ready to give birth, the other cows gather around to help.\" - Classification: 3\n"
     ]
    },
    {
     "name": "stderr",
     "output_type": "stream",
     "text": [
      "INFO:httpx:HTTP Request: POST https://philipp.openai.azure.com//openai/deployments/gpt-4/chat/completions?api-version=2023-05-15 \"HTTP/1.1 200 OK\"\n"
     ]
    },
    {
     "name": "stdout",
     "output_type": "stream",
     "text": [
      "Sentence: \"The calf is born covered in hair that it loses as it grows.\" - Classification: 2\n"
     ]
    },
    {
     "name": "stderr",
     "output_type": "stream",
     "text": [
      "INFO:httpx:HTTP Request: POST https://philipp.openai.azure.com//openai/deployments/gpt-4/chat/completions?api-version=2023-05-15 \"HTTP/1.1 200 OK\"\n"
     ]
    },
    {
     "name": "stdout",
     "output_type": "stream",
     "text": [
      "Sentence: \"12Twelve Antson a sidewalk The ant a usually wingless insect is found all around the world.\" - Classification: 2\n"
     ]
    },
    {
     "name": "stderr",
     "output_type": "stream",
     "text": [
      "INFO:httpx:HTTP Request: POST https://philipp.openai.azure.com//openai/deployments/gpt-4/chat/completions?api-version=2023-05-15 \"HTTP/1.1 200 OK\"\n"
     ]
    },
    {
     "name": "stdout",
     "output_type": "stream",
     "text": [
      "Sentence: \"An ant colony is been by single queen that lays a small number of eggsWhen the eggs hatch, the queen feeds the larvae until they reach maturity These adult workers are all female.\" - Classification: 3\n"
     ]
    },
    {
     "name": "stderr",
     "output_type": "stream",
     "text": [
      "INFO:httpx:HTTP Request: POST https://philipp.openai.azure.com//openai/deployments/gpt-4/chat/completions?api-version=2023-05-15 \"HTTP/1.1 200 OK\"\n"
     ]
    },
    {
     "name": "stdout",
     "output_type": "stream",
     "text": [
      "Sentence: \"These ants fly from the nest and the young queens start new colonies.\" - Classification: 3\n"
     ]
    },
    {
     "name": "stderr",
     "output_type": "stream",
     "text": [
      "INFO:httpx:HTTP Request: POST https://philipp.openai.azure.com//openai/deployments/gpt-4/chat/completions?api-version=2023-05-15 \"HTTP/1.1 200 OK\"\n"
     ]
    },
    {
     "name": "stdout",
     "output_type": "stream",
     "text": [
      "Sentence: \"Ring-tailed lemurs live in troops of five to twenty animals headed by one or more older females who defend their territory against intruders.\" - Classification: 3\n"
     ]
    },
    {
     "name": "stderr",
     "output_type": "stream",
     "text": [
      "INFO:httpx:HTTP Request: POST https://philipp.openai.azure.com//openai/deployments/gpt-4/chat/completions?api-version=2023-05-15 \"HTTP/1.1 200 OK\"\n"
     ]
    },
    {
     "name": "stdout",
     "output_type": "stream",
     "text": [
      "Sentence: \"Newborns are carried in their mother's' arms for a month before they are strong enough to cling to their mothers\" backsLemurs are threatened by the destruction of their various habitats.\" - Classification: 2\n"
     ]
    },
    {
     "name": "stderr",
     "output_type": "stream",
     "text": [
      "INFO:httpx:HTTP Request: POST https://philipp.openai.azure.com//openai/deployments/gpt-4/chat/completions?api-version=2023-05-15 \"HTTP/1.1 200 OK\"\n"
     ]
    },
    {
     "name": "stdout",
     "output_type": "stream",
     "text": [
      "Sentence: \"Because it is cold-blooded reptile, the Galapagos tortoisesettles down to sleep in shallow tepid rainwater pools to keep warm during the night.\" - Classification: 2\n"
     ]
    },
    {
     "name": "stderr",
     "output_type": "stream",
     "text": [
      "INFO:httpx:HTTP Request: POST https://philipp.openai.azure.com//openai/deployments/gpt-4/chat/completions?api-version=2023-05-15 \"HTTP/1.1 200 OK\"\n"
     ]
    },
    {
     "name": "stdout",
     "output_type": "stream",
     "text": [
      "Sentence: \"Instead of teeth, it has sharp-edges jaws for nipping off the grasses, berries, and cacti that make up its diet.\" - Classification: 2\n"
     ]
    },
    {
     "name": "stderr",
     "output_type": "stream",
     "text": [
      "INFO:httpx:HTTP Request: POST https://philipp.openai.azure.com//openai/deployments/gpt-4/chat/completions?api-version=2023-05-15 \"HTTP/1.1 200 OK\"\n"
     ]
    },
    {
     "name": "stdout",
     "output_type": "stream",
     "text": [
      "Sentence: \"young prairie dogs leave their grass-lined nests to explore the world aboveground.\" - Classification: 1\n"
     ]
    },
    {
     "name": "stderr",
     "output_type": "stream",
     "text": [
      "INFO:httpx:HTTP Request: POST https://philipp.openai.azure.com//openai/deployments/gpt-4/chat/completions?api-version=2023-05-15 \"HTTP/1.1 200 OK\"\n"
     ]
    },
    {
     "name": "stdout",
     "output_type": "stream",
     "text": [
      "Sentence: \"Nineteen Walruseson ar Arctic ice floe Walruses,Arctic mammals closely related to sea lions and seals, live and travel in large herds.\" - Classification: 3\n"
     ]
    },
    {
     "name": "stderr",
     "output_type": "stream",
     "text": [
      "INFO:httpx:HTTP Request: POST https://philipp.openai.azure.com//openai/deployments/gpt-4/chat/completions?api-version=2023-05-15 \"HTTP/1.1 200 OK\"\n"
     ]
    },
    {
     "name": "stdout",
     "output_type": "stream",
     "text": [
      "Sentence: \"Most Reef fish are territorial and defend their food hiding places egg-laying areas, and night-resting spots.\" - Classification: 3\n"
     ]
    },
    {
     "name": "stderr",
     "output_type": "stream",
     "text": [
      "INFO:httpx:HTTP Request: POST https://philipp.openai.azure.com//openai/deployments/gpt-4/chat/completions?api-version=2023-05-15 \"HTTP/1.1 200 OK\"\n"
     ]
    },
    {
     "name": "stdout",
     "output_type": "stream",
     "text": [
      "Sentence: \"Reef fish are found in many shapes, sizes,and colors.\" - Classification: 5\n"
     ]
    },
    {
     "name": "stderr",
     "output_type": "stream",
     "text": [
      "INFO:httpx:HTTP Request: POST https://philipp.openai.azure.com//openai/deployments/gpt-4/chat/completions?api-version=2023-05-15 \"HTTP/1.1 200 OK\"\n"
     ]
    },
    {
     "name": "stdout",
     "output_type": "stream",
     "text": [
      "Sentence: \"A farmer's food is called “produce.\" - Classification: 4\n"
     ]
    },
    {
     "name": "stderr",
     "output_type": "stream",
     "text": [
      "INFO:httpx:HTTP Request: POST https://philipp.openai.azure.com//openai/deployments/gpt-4/chat/completions?api-version=2023-05-15 \"HTTP/1.1 200 OK\"\n"
     ]
    },
    {
     "name": "stdout",
     "output_type": "stream",
     "text": [
      "Sentence: \"Tomatoes have delicious color.\" - Classification: 5\n"
     ]
    },
    {
     "name": "stderr",
     "output_type": "stream",
     "text": [
      "INFO:httpx:HTTP Request: POST https://philipp.openai.azure.com//openai/deployments/gpt-4/chat/completions?api-version=2023-05-15 \"HTTP/1.1 200 OK\"\n"
     ]
    },
    {
     "name": "stdout",
     "output_type": "stream",
     "text": [
      "Sentence: \"Fresh food comes straight from the ground Wash it and it's stable-bound.\" - Classification: 4\n"
     ]
    },
    {
     "name": "stderr",
     "output_type": "stream",
     "text": [
      "INFO:httpx:HTTP Request: POST https://philipp.openai.azure.com//openai/deployments/gpt-4/chat/completions?api-version=2023-05-15 \"HTTP/1.1 200 OK\"\n"
     ]
    },
    {
     "name": "stdout",
     "output_type": "stream",
     "text": [
      "Sentence: \"Whoosh, swoosh - too-whit, too-woo, Bats dwell here and hoot owls too.\" - Classification: 2\n"
     ]
    },
    {
     "name": "stderr",
     "output_type": "stream",
     "text": [
      "INFO:httpx:HTTP Request: POST https://philipp.openai.azure.com//openai/deployments/gpt-4/chat/completions?api-version=2023-05-15 \"HTTP/1.1 200 OK\"\n"
     ]
    },
    {
     "name": "stdout",
     "output_type": "stream",
     "text": [
      "Sentence: \"RECIPE FOR A HIPPOPOTAMUS SANDWICH A hippo sandwich is easy to make.\" - Classification: 4\n"
     ]
    },
    {
     "name": "stderr",
     "output_type": "stream",
     "text": [
      "INFO:httpx:HTTP Request: POST https://philipp.openai.azure.com//openai/deployments/gpt-4/chat/completions?api-version=2023-05-15 \"HTTP/1.1 200 OK\"\n"
     ]
    },
    {
     "name": "stdout",
     "output_type": "stream",
     "text": [
      "Sentence: \"\"Climbing is easy.\" - Classification: 1\n"
     ]
    },
    {
     "name": "stderr",
     "output_type": "stream",
     "text": [
      "INFO:httpx:HTTP Request: POST https://philipp.openai.azure.com//openai/deployments/gpt-4/chat/completions?api-version=2023-05-15 \"HTTP/1.1 200 OK\"\n"
     ]
    },
    {
     "name": "stdout",
     "output_type": "stream",
     "text": [
      "Sentence: \"Jumping is easy.\" - Classification: 1\n"
     ]
    },
    {
     "name": "stderr",
     "output_type": "stream",
     "text": [
      "INFO:httpx:HTTP Request: POST https://philipp.openai.azure.com//openai/deployments/gpt-4/chat/completions?api-version=2023-05-15 \"HTTP/1.1 200 OK\"\n"
     ]
    },
    {
     "name": "stdout",
     "output_type": "stream",
     "text": [
      "Sentence: \"Juggling is easy.\" - Classification: 1\n"
     ]
    },
    {
     "name": "stderr",
     "output_type": "stream",
     "text": [
      "INFO:httpx:HTTP Request: POST https://philipp.openai.azure.com//openai/deployments/gpt-4/chat/completions?api-version=2023-05-15 \"HTTP/1.1 200 OK\"\n"
     ]
    },
    {
     "name": "stdout",
     "output_type": "stream",
     "text": [
      "Sentence: \"\"Dancing is like magic.\" - Classification: 1\n"
     ]
    },
    {
     "name": "stderr",
     "output_type": "stream",
     "text": [
      "INFO:httpx:HTTP Request: POST https://philipp.openai.azure.com//openai/deployments/gpt-4/chat/completions?api-version=2023-05-15 \"HTTP/1.1 200 OK\"\n"
     ]
    },
    {
     "name": "stdout",
     "output_type": "stream",
     "text": [
      "Sentence: \"\"But dancing is like magic!\" - Classification: 1\n"
     ]
    },
    {
     "name": "stderr",
     "output_type": "stream",
     "text": [
      "INFO:httpx:HTTP Request: POST https://philipp.openai.azure.com//openai/deployments/gpt-4/chat/completions?api-version=2023-05-15 \"HTTP/1.1 200 OK\"\n"
     ]
    },
    {
     "name": "stdout",
     "output_type": "stream",
     "text": [
      "Sentence: \"It's like a little shovel, You hold it in your hand, You can put it in your mouth, It isn't flat, It's hallow, And it spoons things up.\" - Classification: 4\n"
     ]
    },
    {
     "name": "stderr",
     "output_type": "stream",
     "text": [
      "INFO:httpx:HTTP Request: POST https://philipp.openai.azure.com//openai/deployments/gpt-4/chat/completions?api-version=2023-05-15 \"HTTP/1.1 200 OK\"\n"
     ]
    },
    {
     "name": "stdout",
     "output_type": "stream",
     "text": [
      "Sentence: \"A slow loris is just a type of animal.\" - Classification: 2\n"
     ]
    },
    {
     "name": "stderr",
     "output_type": "stream",
     "text": [
      "INFO:httpx:HTTP Request: POST https://philipp.openai.azure.com//openai/deployments/gpt-4/chat/completions?api-version=2023-05-15 \"HTTP/1.1 200 OK\"\n"
     ]
    },
    {
     "name": "stdout",
     "output_type": "stream",
     "text": [
      "Sentence: \"Children are going to school.\" - Classification: 1\n"
     ]
    },
    {
     "name": "stderr",
     "output_type": "stream",
     "text": [
      "INFO:httpx:HTTP Request: POST https://philipp.openai.azure.com//openai/deployments/gpt-4/chat/completions?api-version=2023-05-15 \"HTTP/1.1 200 OK\"\n"
     ]
    },
    {
     "name": "stdout",
     "output_type": "stream",
     "text": [
      "Sentence: \"Some lay water pipes.\" - Classification: 4\n"
     ]
    },
    {
     "name": "stderr",
     "output_type": "stream",
     "text": [
      "INFO:httpx:HTTP Request: POST https://philipp.openai.azure.com//openai/deployments/gpt-4/chat/completions?api-version=2023-05-15 \"HTTP/1.1 200 OK\"\n"
     ]
    },
    {
     "name": "stdout",
     "output_type": "stream",
     "text": [
      "Sentence: \"Some people like to go far away for their vacation.\" - Classification: 1\n"
     ]
    },
    {
     "name": "stderr",
     "output_type": "stream",
     "text": [
      "INFO:httpx:HTTP Request: POST https://philipp.openai.azure.com//openai/deployments/gpt-4/chat/completions?api-version=2023-05-15 \"HTTP/1.1 200 OK\"\n"
     ]
    },
    {
     "name": "stdout",
     "output_type": "stream",
     "text": [
      "Sentence: \"Only a propeller car can do that.\" - Classification: 4\n"
     ]
    },
    {
     "name": "stderr",
     "output_type": "stream",
     "text": [
      "INFO:httpx:HTTP Request: POST https://philipp.openai.azure.com//openai/deployments/gpt-4/chat/completions?api-version=2023-05-15 \"HTTP/1.1 200 OK\"\n"
     ]
    },
    {
     "name": "stdout",
     "output_type": "stream",
     "text": [
      "Sentence: \"Words are built one letter at a time.\"\" - Classification: 4\n"
     ]
    },
    {
     "name": "stderr",
     "output_type": "stream",
     "text": [
      "INFO:httpx:HTTP Request: POST https://philipp.openai.azure.com//openai/deployments/gpt-4/chat/completions?api-version=2023-05-15 \"HTTP/1.1 200 OK\"\n"
     ]
    },
    {
     "name": "stdout",
     "output_type": "stream",
     "text": [
      "Sentence: \"People with dogs walk.\" - Classification: 1\n"
     ]
    },
    {
     "name": "stderr",
     "output_type": "stream",
     "text": [
      "INFO:httpx:HTTP Request: POST https://philipp.openai.azure.com//openai/deployments/gpt-4/chat/completions?api-version=2023-05-15 \"HTTP/1.1 200 OK\"\n"
     ]
    },
    {
     "name": "stdout",
     "output_type": "stream",
     "text": [
      "Sentence: \"People with packages take taxis.\" - Classification: 1\n"
     ]
    },
    {
     "name": "stderr",
     "output_type": "stream",
     "text": [
      "INFO:httpx:HTTP Request: POST https://philipp.openai.azure.com//openai/deployments/gpt-4/chat/completions?api-version=2023-05-15 \"HTTP/1.1 200 OK\"\n"
     ]
    },
    {
     "name": "stdout",
     "output_type": "stream",
     "text": [
      "Sentence: \"People with balloons leave them behind.\" - Classification: 3\n"
     ]
    },
    {
     "name": "stderr",
     "output_type": "stream",
     "text": [
      "INFO:httpx:HTTP Request: POST https://philipp.openai.azure.com//openai/deployments/gpt-4/chat/completions?api-version=2023-05-15 \"HTTP/1.1 200 OK\"\n"
     ]
    },
    {
     "name": "stdout",
     "output_type": "stream",
     "text": [
      "Sentence: \"Now, usually when you let a balloon go, it flies away.\" - Classification: 4\n"
     ]
    },
    {
     "name": "stderr",
     "output_type": "stream",
     "text": [
      "INFO:httpx:HTTP Request: POST https://philipp.openai.azure.com//openai/deployments/gpt-4/chat/completions?api-version=2023-05-15 \"HTTP/1.1 200 OK\"\n"
     ]
    },
    {
     "name": "stdout",
     "output_type": "stream",
     "text": [
      "Sentence: \"It isn't right; a principal should be dignified, he shouldn't be playing like one of the boys in his school.\"\" - Classification: 3\n"
     ]
    },
    {
     "name": "stderr",
     "output_type": "stream",
     "text": [
      "INFO:httpx:HTTP Request: POST https://philipp.openai.azure.com//openai/deployments/gpt-4/chat/completions?api-version=2023-05-15 \"HTTP/1.1 200 OK\"\n"
     ]
    },
    {
     "name": "stdout",
     "output_type": "stream",
     "text": [
      "Sentence: \"Now, a church is no place for a balloon.\" - Classification: 4\n"
     ]
    },
    {
     "name": "stderr",
     "output_type": "stream",
     "text": [
      "INFO:httpx:HTTP Request: POST https://philipp.openai.azure.com//openai/deployments/gpt-4/chat/completions?api-version=2023-05-15 \"HTTP/1.1 200 OK\"\n"
     ]
    },
    {
     "name": "stdout",
     "output_type": "stream",
     "text": [
      "Sentence: \"But a red balloon can be seen anywhere, even in a crowd.\" - Classification: 5\n"
     ]
    },
    {
     "name": "stderr",
     "output_type": "stream",
     "text": [
      "INFO:httpx:HTTP Request: POST https://philipp.openai.azure.com//openai/deployments/gpt-4/chat/completions?api-version=2023-05-15 \"HTTP/1.1 200 OK\"\n"
     ]
    },
    {
     "name": "stdout",
     "output_type": "stream",
     "text": [
      "Sentence: \"\"Sometimes accidents happen.\"\" - Classification: 1\n"
     ]
    },
    {
     "name": "stderr",
     "output_type": "stream",
     "text": [
      "INFO:httpx:HTTP Request: POST https://philipp.openai.azure.com//openai/deployments/gpt-4/chat/completions?api-version=2023-05-15 \"HTTP/1.1 200 OK\"\n"
     ]
    },
    {
     "name": "stdout",
     "output_type": "stream",
     "text": [
      "Sentence: \"Some have two feet and some have four.\" - Classification: 2\n"
     ]
    },
    {
     "name": "stderr",
     "output_type": "stream",
     "text": [
      "INFO:httpx:HTTP Request: POST https://philipp.openai.azure.com//openai/deployments/gpt-4/chat/completions?api-version=2023-05-15 \"HTTP/1.1 200 OK\"\n"
     ]
    },
    {
     "name": "stdout",
     "output_type": "stream",
     "text": [
      "Sentence: \"Some have six feet and some have more.\" - Classification: 2\n"
     ]
    },
    {
     "name": "stderr",
     "output_type": "stream",
     "text": [
      "INFO:httpx:HTTP Request: POST https://philipp.openai.azure.com//openai/deployments/gpt-4/chat/completions?api-version=2023-05-15 \"HTTP/1.1 200 OK\"\n"
     ]
    },
    {
     "name": "stdout",
     "output_type": "stream",
     "text": [
      "Sentence: \"Some are fast.\" - Classification: 5\n"
     ]
    },
    {
     "name": "stderr",
     "output_type": "stream",
     "text": [
      "INFO:httpx:HTTP Request: POST https://philipp.openai.azure.com//openai/deployments/gpt-4/chat/completions?api-version=2023-05-15 \"HTTP/1.1 200 OK\"\n"
     ]
    },
    {
     "name": "stdout",
     "output_type": "stream",
     "text": [
      "Sentence: \"Blue hair is fun to brush and comb.\" - Classification: 5\n"
     ]
    },
    {
     "name": "stderr",
     "output_type": "stream",
     "text": [
      "INFO:httpx:HTTP Request: POST https://philipp.openai.azure.com//openai/deployments/gpt-4/chat/completions?api-version=2023-05-15 \"HTTP/1.1 200 OK\"\n"
     ]
    },
    {
     "name": "stdout",
     "output_type": "stream",
     "text": [
      "Sentence: \"These yellow pets are called the Zeds.\" - Classification: 5\n"
     ]
    },
    {
     "name": "stderr",
     "output_type": "stream",
     "text": [
      "INFO:httpx:HTTP Request: POST https://philipp.openai.azure.com//openai/deployments/gpt-4/chat/completions?api-version=2023-05-15 \"HTTP/1.1 200 OK\"\n"
     ]
    },
    {
     "name": "stdout",
     "output_type": "stream",
     "text": [
      "Sentence: \"Every day, from here to there, funny things are everywhere.\" - Classification: This\n"
     ]
    },
    {
     "name": "stderr",
     "output_type": "stream",
     "text": [
      "INFO:httpx:HTTP Request: POST https://philipp.openai.azure.com//openai/deployments/gpt-4/chat/completions?api-version=2023-05-15 \"HTTP/1.1 200 OK\"\n"
     ]
    },
    {
     "name": "stdout",
     "output_type": "stream",
     "text": [
      "Sentence: \"Night is not a time for play.\" - Classification: 1\n"
     ]
    },
    {
     "name": "stderr",
     "output_type": "stream",
     "text": [
      "INFO:httpx:HTTP Request: POST https://philipp.openai.azure.com//openai/deployments/gpt-4/chat/completions?api-version=2023-05-15 \"HTTP/1.1 200 OK\"\n"
     ]
    },
    {
     "name": "stdout",
     "output_type": "stream",
     "text": [
      "Sentence: \"The dogs go to sleep.\" - Classification: 1\n"
     ]
    },
    {
     "name": "stderr",
     "output_type": "stream",
     "text": [
      "INFO:httpx:HTTP Request: POST https://philipp.openai.azure.com//openai/deployments/gpt-4/chat/completions?api-version=2023-05-15 \"HTTP/1.1 200 OK\"\n"
     ]
    },
    {
     "name": "stdout",
     "output_type": "stream",
     "text": [
      "Sentence: \"If a bear is smart, If a bear knows how, He goes on a honey hunt.\" - Classification: 1\n"
     ]
    },
    {
     "name": "stderr",
     "output_type": "stream",
     "text": [
      "INFO:httpx:HTTP Request: POST https://philipp.openai.azure.com//openai/deployments/gpt-4/chat/completions?api-version=2023-05-15 \"HTTP/1.1 200 OK\"\n"
     ]
    },
    {
     "name": "stdout",
     "output_type": "stream",
     "text": [
      "Sentence: \"Bees hide their honey In trees that are hollow.\" - Classification: 1\n"
     ]
    },
    {
     "name": "stderr",
     "output_type": "stream",
     "text": [
      "INFO:httpx:HTTP Request: POST https://philipp.openai.azure.com//openai/deployments/gpt-4/chat/completions?api-version=2023-05-15 \"HTTP/1.1 200 OK\"\n"
     ]
    },
    {
     "name": "stdout",
     "output_type": "stream",
     "text": [
      "Sentence: \"If a bear is smart, If a bear is bright, A bear keeps going If it takes all night.\" - Classification: 1\n"
     ]
    },
    {
     "name": "stderr",
     "output_type": "stream",
     "text": [
      "INFO:httpx:HTTP Request: POST https://philipp.openai.azure.com//openai/deployments/gpt-4/chat/completions?api-version=2023-05-15 \"HTTP/1.1 200 OK\"\n"
     ]
    },
    {
     "name": "stdout",
     "output_type": "stream",
     "text": [
      "Sentence: \"The best sort of honey Never comes from bees.\" - Classification: 4\n"
     ]
    },
    {
     "name": "stderr",
     "output_type": "stream",
     "text": [
      "INFO:httpx:HTTP Request: POST https://philipp.openai.azure.com//openai/deployments/gpt-4/chat/completions?api-version=2023-05-15 \"HTTP/1.1 200 OK\"\n"
     ]
    },
    {
     "name": "stdout",
     "output_type": "stream",
     "text": [
      "Sentence: \"And the turtles, of course... all the turtles are free As turtles and, maybe, all creatures should be.\" - Classification: 2\n"
     ]
    },
    {
     "name": "stderr",
     "output_type": "stream",
     "text": [
      "INFO:httpx:HTTP Request: POST https://philipp.openai.azure.com//openai/deployments/gpt-4/chat/completions?api-version=2023-05-15 \"HTTP/1.1 200 OK\"\n"
     ]
    },
    {
     "name": "stdout",
     "output_type": "stream",
     "text": [
      "Sentence: \"Big Shark swims fast.\" - Classification: 1\n"
     ]
    },
    {
     "name": "stderr",
     "output_type": "stream",
     "text": [
      "INFO:httpx:HTTP Request: POST https://philipp.openai.azure.com//openai/deployments/gpt-4/chat/completions?api-version=2023-05-15 \"HTTP/1.1 200 OK\"\n"
     ]
    },
    {
     "name": "stdout",
     "output_type": "stream",
     "text": [
      "Sentence: \"Big Shark swims slow.\" - Classification: 1\n"
     ]
    },
    {
     "name": "stderr",
     "output_type": "stream",
     "text": [
      "INFO:httpx:HTTP Request: POST https://philipp.openai.azure.com//openai/deployments/gpt-4/chat/completions?api-version=2023-05-15 \"HTTP/1.1 200 OK\"\n"
     ]
    },
    {
     "name": "stdout",
     "output_type": "stream",
     "text": [
      "Sentence: \"You never can tell with bees.\"\"\" - Classification: 3\n"
     ]
    },
    {
     "name": "stderr",
     "output_type": "stream",
     "text": [
      "INFO:httpx:HTTP Request: POST https://philipp.openai.azure.com//openai/deployments/gpt-4/chat/completions?api-version=2023-05-15 \"HTTP/1.1 200 OK\"\n"
     ]
    },
    {
     "name": "stdout",
     "output_type": "stream",
     "text": [
      "Sentence: \"Every little cloud  Always sings aloud.\" - Classification: 1\n"
     ]
    },
    {
     "name": "stderr",
     "output_type": "stream",
     "text": [
      "INFO:httpx:HTTP Request: POST https://philipp.openai.azure.com//openai/deployments/gpt-4/chat/completions?api-version=2023-05-15 \"HTTP/1.1 200 OK\"\n"
     ]
    },
    {
     "name": "stdout",
     "output_type": "stream",
     "text": [
      "Sentence: \"One can't have anybody coming into one's house.\" - Classification: 3\n"
     ]
    },
    {
     "name": "stderr",
     "output_type": "stream",
     "text": [
      "INFO:httpx:HTTP Request: POST https://philipp.openai.azure.com//openai/deployments/gpt-4/chat/completions?api-version=2023-05-15 \"HTTP/1.1 200 OK\"\n"
     ]
    },
    {
     "name": "stdout",
     "output_type": "stream",
     "text": [
      "Sentence: \"One has to be careful.\" - Classification: This\n"
     ]
    },
    {
     "name": "stderr",
     "output_type": "stream",
     "text": [
      "INFO:httpx:HTTP Request: POST https://philipp.openai.azure.com//openai/deployments/gpt-4/chat/completions?api-version=2023-05-15 \"HTTP/1.1 200 OK\"\n"
     ]
    },
    {
     "name": "stdout",
     "output_type": "stream",
     "text": [
      "Sentence: \"You can't sneeze without knowing it.\"\"\" - Classification: 2\n"
     ]
    },
    {
     "name": "stderr",
     "output_type": "stream",
     "text": [
      "INFO:httpx:HTTP Request: POST https://philipp.openai.azure.com//openai/deployments/gpt-4/chat/completions?api-version=2023-05-15 \"HTTP/1.1 200 OK\"\n"
     ]
    },
    {
     "name": "stdout",
     "output_type": "stream",
     "text": [
      "Sentence: \"Nobody can be un- cheered with a balloon.\"\"\" - Classification: 5\n"
     ]
    },
    {
     "name": "stderr",
     "output_type": "stream",
     "text": [
      "INFO:httpx:HTTP Request: POST https://philipp.openai.azure.com//openai/deployments/gpt-4/chat/completions?api-version=2023-05-15 \"HTTP/1.1 200 OK\"\n"
     ]
    },
    {
     "name": "stdout",
     "output_type": "stream",
     "text": [
      "Sentence: \"\"\"Balloons are much too big to go into Pots.\" - Classification: 5\n"
     ]
    },
    {
     "name": "stderr",
     "output_type": "stream",
     "text": [
      "INFO:httpx:HTTP Request: POST https://philipp.openai.azure.com//openai/deployments/gpt-4/chat/completions?api-version=2023-05-15 \"HTTP/1.1 200 OK\"\n"
     ]
    },
    {
     "name": "stdout",
     "output_type": "stream",
     "text": [
      "Sentence: \"A tail isn't a tail to them, it's just a Little Bit Extra at the back.\"\"\" - Classification: 5\n"
     ]
    },
    {
     "name": "stderr",
     "output_type": "stream",
     "text": [
      "INFO:httpx:HTTP Request: POST https://philipp.openai.azure.com//openai/deployments/gpt-4/chat/completions?api-version=2023-05-15 \"HTTP/1.1 200 OK\"\n"
     ]
    },
    {
     "name": "stdout",
     "output_type": "stream",
     "text": [
      "Sentence: \"Some are big dogs.\" - Classification: 5\n"
     ]
    },
    {
     "name": "stderr",
     "output_type": "stream",
     "text": [
      "INFO:httpx:HTTP Request: POST https://philipp.openai.azure.com//openai/deployments/gpt-4/chat/completions?api-version=2023-05-15 \"HTTP/1.1 200 OK\"\n"
     ]
    },
    {
     "name": "stdout",
     "output_type": "stream",
     "text": [
      "Sentence: \"AND when tweetle beetles battle with paddles in a puddle, they call it a tweetle beetle puddle paddle battle.\" - Classification: 1\n"
     ]
    },
    {
     "name": "stderr",
     "output_type": "stream",
     "text": [
      "INFO:httpx:HTTP Request: POST https://philipp.openai.azure.com//openai/deployments/gpt-4/chat/completions?api-version=2023-05-15 \"HTTP/1.1 200 OK\"\n"
     ]
    },
    {
     "name": "stdout",
     "output_type": "stream",
     "text": [
      "Sentence: \"Now, freight cars are silly and noisy.\" - Classification: 5\n"
     ]
    },
    {
     "name": "stderr",
     "output_type": "stream",
     "text": [
      "INFO:httpx:HTTP Request: POST https://philipp.openai.azure.com//openai/deployments/gpt-4/chat/completions?api-version=2023-05-15 \"HTTP/1.1 200 OK\"\n"
     ]
    },
    {
     "name": "stdout",
     "output_type": "stream",
     "text": [
      "Sentence: \"FINGERS AND TOES Every lady in this land Has twenty nails, upon each hand Five, and twenty on hands and feet: All this is true, without deceit.\" - Classification: 2\n"
     ]
    },
    {
     "name": "stderr",
     "output_type": "stream",
     "text": [
      "INFO:httpx:HTTP Request: POST https://philipp.openai.azure.com//openai/deployments/gpt-4/chat/completions?api-version=2023-05-15 \"HTTP/1.1 200 OK\"\n"
     ]
    },
    {
     "name": "stdout",
     "output_type": "stream",
     "text": [
      "Sentence: \"Every wife had seven sacks, Every sack had seven cats, Every cat had seven kits.\" - Classification: 3\n"
     ]
    },
    {
     "name": "stderr",
     "output_type": "stream",
     "text": [
      "INFO:httpx:HTTP Request: POST https://philipp.openai.azure.com//openai/deployments/gpt-4/chat/completions?api-version=2023-05-15 \"HTTP/1.1 200 OK\"\n"
     ]
    },
    {
     "name": "stdout",
     "output_type": "stream",
     "text": [
      "Sentence: \"IF WISHES WERE HORSES If wishes were horses, beggars would ride.\" - Classification: This\n"
     ]
    },
    {
     "name": "stderr",
     "output_type": "stream",
     "text": [
      "INFO:httpx:HTTP Request: POST https://philipp.openai.azure.com//openai/deployments/gpt-4/chat/completions?api-version=2023-05-15 \"HTTP/1.1 200 OK\"\n"
     ]
    },
    {
     "name": "stdout",
     "output_type": "stream",
     "text": [
      "Sentence: \"the dogs do bark!\" - Classification: 1\n"
     ]
    },
    {
     "name": "stderr",
     "output_type": "stream",
     "text": [
      "INFO:httpx:HTTP Request: POST https://philipp.openai.azure.com//openai/deployments/gpt-4/chat/completions?api-version=2023-05-15 \"HTTP/1.1 200 OK\"\n"
     ]
    },
    {
     "name": "stdout",
     "output_type": "stream",
     "text": [
      "Sentence: \"A WEEK OF BIRTHDAYS Monday's child is fair of face, Tuesday's child is full of grace, Wednesday's child is full of woe, Thursday's child has far to go, Friday's child is loving and giving, Saturday's child works hard for its living, But the child that's born on the Sabbath day Is bonny and blithe, and good and gay.\" - Classification: 5\n"
     ]
    },
    {
     "name": "stderr",
     "output_type": "stream",
     "text": [
      "INFO:httpx:HTTP Request: POST https://philipp.openai.azure.com//openai/deployments/gpt-4/chat/completions?api-version=2023-05-15 \"HTTP/1.1 200 OK\"\n"
     ]
    },
    {
     "name": "stdout",
     "output_type": "stream",
     "text": [
      "Sentence: \"BIRDS OF A FEATHER Birds of a feather flock together, And so will pigs and swine; Rats and mice will have their choice, And so will I have mine.\" - Classification: 3\n"
     ]
    },
    {
     "name": "stderr",
     "output_type": "stream",
     "text": [
      "INFO:httpx:HTTP Request: POST https://philipp.openai.azure.com//openai/deployments/gpt-4/chat/completions?api-version=2023-05-15 \"HTTP/1.1 200 OK\"\n"
     ]
    },
    {
     "name": "stdout",
     "output_type": "stream",
     "text": [
      "Sentence: \"AN ICICLE Lives in winter, Dies in summer, And grows with its roots upward!\" - Classification: 5\n"
     ]
    },
    {
     "name": "stderr",
     "output_type": "stream",
     "text": [
      "INFO:httpx:HTTP Request: POST https://philipp.openai.azure.com//openai/deployments/gpt-4/chat/completions?api-version=2023-05-15 \"HTTP/1.1 200 OK\"\n"
     ]
    },
    {
     "name": "stdout",
     "output_type": "stream",
     "text": [
      "Sentence: \"SNEEZING If you sneeze on Monday, you sneeze for danger; Sneeze on a Tuesday, kiss a stranger; Sneeze on a Wednesday, sneeze for a letter; Sneeze on a Thursday, something better.\" - Classification: 1\n"
     ]
    },
    {
     "name": "stderr",
     "output_type": "stream",
     "text": [
      "INFO:httpx:HTTP Request: POST https://philipp.openai.azure.com//openai/deployments/gpt-4/chat/completions?api-version=2023-05-15 \"HTTP/1.1 200 OK\"\n"
     ]
    },
    {
     "name": "stdout",
     "output_type": "stream",
     "text": [
      "Sentence: \"Building a playground is hard work.\" - Classification: 4\n"
     ]
    },
    {
     "name": "stderr",
     "output_type": "stream",
     "text": [
      "INFO:httpx:HTTP Request: POST https://philipp.openai.azure.com//openai/deployments/gpt-4/chat/completions?api-version=2023-05-15 \"HTTP/1.1 200 OK\"\n"
     ]
    },
    {
     "name": "stdout",
     "output_type": "stream",
     "text": [
      "Sentence: \"Screwdrivers twist in screws.\" - Classification: 4\n"
     ]
    },
    {
     "name": "stderr",
     "output_type": "stream",
     "text": [
      "INFO:httpx:HTTP Request: POST https://philipp.openai.azure.com//openai/deployments/gpt-4/chat/completions?api-version=2023-05-15 \"HTTP/1.1 200 OK\"\n"
     ]
    },
    {
     "name": "stdout",
     "output_type": "stream",
     "text": [
      "Sentence: \"Wrenches tighten the nuts.\" - Classification: 4\n"
     ]
    },
    {
     "name": "stderr",
     "output_type": "stream",
     "text": [
      "INFO:httpx:HTTP Request: POST https://philipp.openai.azure.com//openai/deployments/gpt-4/chat/completions?api-version=2023-05-15 \"HTTP/1.1 200 OK\"\n"
     ]
    },
    {
     "name": "stdout",
     "output_type": "stream",
     "text": [
      "Sentence: \"\"Spiderwebs turn to silver threads.\" - Classification: 5\n"
     ]
    },
    {
     "name": "stderr",
     "output_type": "stream",
     "text": [
      "INFO:httpx:HTTP Request: POST https://philipp.openai.azure.com//openai/deployments/gpt-4/chat/completions?api-version=2023-05-15 \"HTTP/1.1 200 OK\"\n"
     ]
    },
    {
     "name": "stdout",
     "output_type": "stream",
     "text": [
      "Sentence: \"\"Moonflowers close and morning glories open.\" - Classification: 1\n"
     ]
    },
    {
     "name": "stderr",
     "output_type": "stream",
     "text": [
      "INFO:httpx:HTTP Request: POST https://philipp.openai.azure.com//openai/deployments/gpt-4/chat/completions?api-version=2023-05-15 \"HTTP/1.1 200 OK\"\n"
     ]
    },
    {
     "name": "stdout",
     "output_type": "stream",
     "text": [
      "Sentence: \"The crows caw.\" - Classification: 1\n"
     ]
    },
    {
     "name": "stderr",
     "output_type": "stream",
     "text": [
      "INFO:httpx:HTTP Request: POST https://philipp.openai.azure.com//openai/deployments/gpt-4/chat/completions?api-version=2023-05-15 \"HTTP/1.1 200 OK\"\n"
     ]
    },
    {
     "name": "stdout",
     "output_type": "stream",
     "text": [
      "Sentence: \"Everyone in Japan has black hair.\" - Classification: 2\n"
     ]
    },
    {
     "name": "stderr",
     "output_type": "stream",
     "text": [
      "INFO:httpx:HTTP Request: POST https://philipp.openai.azure.com//openai/deployments/gpt-4/chat/completions?api-version=2023-05-15 \"HTTP/1.1 200 OK\"\n"
     ]
    },
    {
     "name": "stdout",
     "output_type": "stream",
     "text": [
      "Sentence: \"You walk on mats called tatami.\" - Classification: 4\n"
     ]
    },
    {
     "name": "stderr",
     "output_type": "stream",
     "text": [
      "INFO:httpx:HTTP Request: POST https://philipp.openai.azure.com//openai/deployments/gpt-4/chat/completions?api-version=2023-05-15 \"HTTP/1.1 200 OK\"\n"
     ]
    },
    {
     "name": "stdout",
     "output_type": "stream",
     "text": [
      "Sentence: \"A sheep says BAA.\" - Classification: 1\n"
     ]
    },
    {
     "name": "stderr",
     "output_type": "stream",
     "text": [
      "INFO:httpx:HTTP Request: POST https://philipp.openai.azure.com//openai/deployments/gpt-4/chat/completions?api-version=2023-05-15 \"HTTP/1.1 200 OK\"\n"
     ]
    },
    {
     "name": "stdout",
     "output_type": "stream",
     "text": [
      "Sentence: \"Some other dogs go BOW WOW WOW!\" - Classification: 1\n"
     ]
    },
    {
     "name": "stderr",
     "output_type": "stream",
     "text": [
      "INFO:httpx:HTTP Request: POST https://philipp.openai.azure.com//openai/deployments/gpt-4/chat/completions?api-version=2023-05-15 \"HTTP/1.1 200 OK\"\n"
     ]
    },
    {
     "name": "stdout",
     "output_type": "stream",
     "text": [
      "Sentence: \"Monkeys drum... ...and monkeys hum.\" - Classification: 1\n"
     ]
    },
    {
     "name": "stderr",
     "output_type": "stream",
     "text": [
      "INFO:httpx:HTTP Request: POST https://philipp.openai.azure.com//openai/deployments/gpt-4/chat/completions?api-version=2023-05-15 \"HTTP/1.1 200 OK\"\n"
     ]
    },
    {
     "name": "stdout",
     "output_type": "stream",
     "text": [
      "Sentence: \"Monkeys come And monkeys go.\" - Classification: 1\n"
     ]
    },
    {
     "name": "stderr",
     "output_type": "stream",
     "text": [
      "INFO:httpx:HTTP Request: POST https://philipp.openai.azure.com//openai/deployments/gpt-4/chat/completions?api-version=2023-05-15 \"HTTP/1.1 200 OK\"\n"
     ]
    },
    {
     "name": "stdout",
     "output_type": "stream",
     "text": [
      "Sentence: \"We hippos LOVE our belly b's.\" - Classification: 3\n"
     ]
    },
    {
     "name": "stderr",
     "output_type": "stream",
     "text": [
      "INFO:httpx:HTTP Request: POST https://philipp.openai.azure.com//openai/deployments/gpt-4/chat/completions?api-version=2023-05-15 \"HTTP/1.1 200 OK\"\n"
     ]
    },
    {
     "name": "stdout",
     "output_type": "stream",
     "text": [
      "Sentence: \"Excavator shapes the land.\" - Classification: 4\n"
     ]
    },
    {
     "name": "stderr",
     "output_type": "stream",
     "text": [
      "INFO:httpx:HTTP Request: POST https://philipp.openai.azure.com//openai/deployments/gpt-4/chat/completions?api-version=2023-05-15 \"HTTP/1.1 200 OK\"\n"
     ]
    },
    {
     "name": "stdout",
     "output_type": "stream",
     "text": [
      "Sentence: \"Math is neat!\" - Classification: 5\n"
     ]
    },
    {
     "name": "stderr",
     "output_type": "stream",
     "text": [
      "INFO:httpx:HTTP Request: POST https://philipp.openai.azure.com//openai/deployments/gpt-4/chat/completions?api-version=2023-05-15 \"HTTP/1.1 200 OK\"\n"
     ]
    },
    {
     "name": "stdout",
     "output_type": "stream",
     "text": [
      "Sentence: \"Sometimes being a girl isn't easy.\" - Classification: 3\n"
     ]
    },
    {
     "name": "stderr",
     "output_type": "stream",
     "text": [
      "INFO:httpx:HTTP Request: POST https://philipp.openai.azure.com//openai/deployments/gpt-4/chat/completions?api-version=2023-05-15 \"HTTP/1.1 200 OK\"\n"
     ]
    },
    {
     "name": "stdout",
     "output_type": "stream",
     "text": [
      "Sentence: \"\"One can never consent to creep when one feels an impulse to soar.\"\" - Classification: This\n"
     ]
    },
    {
     "name": "stderr",
     "output_type": "stream",
     "text": [
      "INFO:httpx:HTTP Request: POST https://philipp.openai.azure.com//openai/deployments/gpt-4/chat/completions?api-version=2023-05-15 \"HTTP/1.1 200 OK\"\n"
     ]
    },
    {
     "name": "stdout",
     "output_type": "stream",
     "text": [
      "Sentence: \"Standing for right when it is unpopular is a true test of moral character.\"\" - Classification: 3\n"
     ]
    },
    {
     "name": "stderr",
     "output_type": "stream",
     "text": [
      "INFO:httpx:HTTP Request: POST https://philipp.openai.azure.com//openai/deployments/gpt-4/chat/completions?api-version=2023-05-15 \"HTTP/1.1 200 OK\"\n"
     ]
    },
    {
     "name": "stdout",
     "output_type": "stream",
     "text": [
      "Sentence: \"\"Young girls need to see role models in whatever careers they may choose, just so they can picture themselves doing those jobs someday.\" - Classification: 3\n"
     ]
    },
    {
     "name": "stderr",
     "output_type": "stream",
     "text": [
      "INFO:httpx:HTTP Request: POST https://philipp.openai.azure.com//openai/deployments/gpt-4/chat/completions?api-version=2023-05-15 \"HTTP/1.1 200 OK\"\n"
     ]
    },
    {
     "name": "stdout",
     "output_type": "stream",
     "text": [
      "Sentence: \"Chasing the ball and bringing it back was called \"retrieving.\"\" - Classification: 1\n"
     ]
    },
    {
     "name": "stderr",
     "output_type": "stream",
     "text": [
      "INFO:httpx:HTTP Request: POST https://philipp.openai.azure.com//openai/deployments/gpt-4/chat/completions?api-version=2023-05-15 \"HTTP/1.1 200 OK\"\n"
     ]
    },
    {
     "name": "stdout",
     "output_type": "stream",
     "text": [
      "Sentence: \"\"No one is allowed to become a member unless he can do a special trick.\" - Classification: 3\n"
     ]
    },
    {
     "name": "stderr",
     "output_type": "stream",
     "text": [
      "INFO:httpx:HTTP Request: POST https://philipp.openai.azure.com//openai/deployments/gpt-4/chat/completions?api-version=2023-05-15 \"HTTP/1.1 200 OK\"\n"
     ]
    },
    {
     "name": "stdout",
     "output_type": "stream",
     "text": [
      "Sentence: \"\"Checkers, of course, can retrieve.\" - Classification: 1\n"
     ]
    },
    {
     "name": "stderr",
     "output_type": "stream",
     "text": [
      "INFO:httpx:HTTP Request: POST https://philipp.openai.azure.com//openai/deployments/gpt-4/chat/completions?api-version=2023-05-15 \"HTTP/1.1 200 OK\"\n"
     ]
    },
    {
     "name": "stdout",
     "output_type": "stream",
     "text": [
      "Sentence: \"An elephant makes a big poop A mouse makes a tiny poop A one-hump camel makes a one-hump poop And a two-hump camel makes a two-hump poop Only Kidding!\" - Classification: 2\n"
     ]
    },
    {
     "name": "stderr",
     "output_type": "stream",
     "text": [
      "INFO:httpx:HTTP Request: POST https://philipp.openai.azure.com//openai/deployments/gpt-4/chat/completions?api-version=2023-05-15 \"HTTP/1.1 200 OK\"\n"
     ]
    },
    {
     "name": "stdout",
     "output_type": "stream",
     "text": [
      "Sentence: \"Some stop to poop Others do it on the move Some poop here and there others do it in a special place Grown-ups poop Children poop too While some children poop on the potty others poop in their diapers Some animals poop and pay no attention Others clean up after themselves These poop by the water This one does it in the water He wipes himself with paper, then flushes it down All living things eat, so Everyone Poops\" - Classification: 1\n"
     ]
    },
    {
     "name": "stderr",
     "output_type": "stream",
     "text": [
      "INFO:httpx:HTTP Request: POST https://philipp.openai.azure.com//openai/deployments/gpt-4/chat/completions?api-version=2023-05-15 \"HTTP/1.1 200 OK\"\n"
     ]
    },
    {
     "name": "stdout",
     "output_type": "stream",
     "text": [
      "Sentence: \"If you give a mouse a cookie, he's going to ask for a glass of milk.\" - Classification: 1\n"
     ]
    },
    {
     "name": "stderr",
     "output_type": "stream",
     "text": [
      "INFO:httpx:HTTP Request: POST https://philipp.openai.azure.com//openai/deployments/gpt-4/chat/completions?api-version=2023-05-15 \"HTTP/1.1 200 OK\"\n"
     ]
    },
    {
     "name": "stdout",
     "output_type": "stream",
     "text": [
      "Sentence: \"But there are other kinds of eggs.\" - Classification: 2\n"
     ]
    },
    {
     "name": "stderr",
     "output_type": "stream",
     "text": [
      "INFO:httpx:HTTP Request: POST https://philipp.openai.azure.com//openai/deployments/gpt-4/chat/completions?api-version=2023-05-15 \"HTTP/1.1 200 OK\"\n"
     ]
    },
    {
     "name": "stdout",
     "output_type": "stream",
     "text": [
      "Sentence: \"And sunny-side-down eggs just lie on their stomachs and wait.\"\" - Classification: 1\n"
     ]
    },
    {
     "name": "stderr",
     "output_type": "stream",
     "text": [
      "INFO:httpx:HTTP Request: POST https://philipp.openai.azure.com//openai/deployments/gpt-4/chat/completions?api-version=2023-05-15 \"HTTP/1.1 200 OK\"\n"
     ]
    },
    {
     "name": "stdout",
     "output_type": "stream",
     "text": [
      "Sentence: \"Babies like to drink milk.\" - Classification: 1\n"
     ]
    },
    {
     "name": "stderr",
     "output_type": "stream",
     "text": [
      "INFO:httpx:HTTP Request: POST https://philipp.openai.azure.com//openai/deployments/gpt-4/chat/completions?api-version=2023-05-15 \"HTTP/1.1 200 OK\"\n"
     ]
    },
    {
     "name": "stdout",
     "output_type": "stream",
     "text": [
      "Sentence: \"\"Cats go meow.\" - Classification: 1\n"
     ]
    },
    {
     "name": "stderr",
     "output_type": "stream",
     "text": [
      "INFO:httpx:HTTP Request: POST https://philipp.openai.azure.com//openai/deployments/gpt-4/chat/completions?api-version=2023-05-15 \"HTTP/1.1 200 OK\"\n"
     ]
    },
    {
     "name": "stdout",
     "output_type": "stream",
     "text": [
      "Sentence: \"Dogs go arf.\" - Classification: 1\n"
     ]
    },
    {
     "name": "stderr",
     "output_type": "stream",
     "text": [
      "INFO:httpx:HTTP Request: POST https://philipp.openai.azure.com//openai/deployments/gpt-4/chat/completions?api-version=2023-05-15 \"HTTP/1.1 200 OK\"\n"
     ]
    },
    {
     "name": "stdout",
     "output_type": "stream",
     "text": [
      "Sentence: \"\"Ducks go quack-quack Dogs go arf.\" - Classification: 1\n"
     ]
    },
    {
     "name": "stderr",
     "output_type": "stream",
     "text": [
      "INFO:httpx:HTTP Request: POST https://philipp.openai.azure.com//openai/deployments/gpt-4/chat/completions?api-version=2023-05-15 \"HTTP/1.1 200 OK\"\n"
     ]
    },
    {
     "name": "stdout",
     "output_type": "stream",
     "text": [
      "Sentence: \"\"Pigs go oink.\" - Classification: 1\n"
     ]
    },
    {
     "name": "stderr",
     "output_type": "stream",
     "text": [
      "INFO:httpx:HTTP Request: POST https://philipp.openai.azure.com//openai/deployments/gpt-4/chat/completions?api-version=2023-05-15 \"HTTP/1.1 200 OK\"\n"
     ]
    },
    {
     "name": "stdout",
     "output_type": "stream",
     "text": [
      "Sentence: \"Dogs go arf.\" - Classification: 1\n"
     ]
    },
    {
     "name": "stderr",
     "output_type": "stream",
     "text": [
      "INFO:httpx:HTTP Request: POST https://philipp.openai.azure.com//openai/deployments/gpt-4/chat/completions?api-version=2023-05-15 \"HTTP/1.1 200 OK\"\n"
     ]
    },
    {
     "name": "stdout",
     "output_type": "stream",
     "text": [
      "Sentence: \"But everyone knows calves don't belong in the house!\" - Classification: 4\n"
     ]
    },
    {
     "name": "stderr",
     "output_type": "stream",
     "text": [
      "INFO:httpx:HTTP Request: POST https://philipp.openai.azure.com//openai/deployments/gpt-4/chat/completions?api-version=2023-05-15 \"HTTP/1.1 200 OK\"\n"
     ]
    },
    {
     "name": "stdout",
     "output_type": "stream",
     "text": [
      "Sentence: \"Bats hang by their feet.\" - Classification: 2\n"
     ]
    },
    {
     "name": "stderr",
     "output_type": "stream",
     "text": [
      "INFO:httpx:HTTP Request: POST https://philipp.openai.azure.com//openai/deployments/gpt-4/chat/completions?api-version=2023-05-15 \"HTTP/1.1 200 OK\"\n"
     ]
    },
    {
     "name": "stdout",
     "output_type": "stream",
     "text": [
      "Sentence: \"\"We can see in darkness.\" - Classification: 5\n"
     ]
    },
    {
     "name": "stderr",
     "output_type": "stream",
     "text": [
      "INFO:httpx:HTTP Request: POST https://philipp.openai.azure.com//openai/deployments/gpt-4/chat/completions?api-version=2023-05-15 \"HTTP/1.1 200 OK\"\n"
     ]
    },
    {
     "name": "stdout",
     "output_type": "stream",
     "text": [
      "Sentence: \"BAT NOTES Of the nearly 4,000 species of mammals on Earth, almost one quarter are bats, the only mammals capable of powered flight.\" - Classification: 2\n"
     ]
    },
    {
     "name": "stderr",
     "output_type": "stream",
     "text": [
      "INFO:httpx:HTTP Request: POST https://philipp.openai.azure.com//openai/deployments/gpt-4/chat/completions?api-version=2023-05-15 \"HTTP/1.1 200 OK\"\n"
     ]
    },
    {
     "name": "stdout",
     "output_type": "stream",
     "text": [
      "Sentence: \"The majority of bats are classified as Microchiroptera, \"small hand-wing.\"\" - Classification: 2\n"
     ]
    },
    {
     "name": "stderr",
     "output_type": "stream",
     "text": [
      "INFO:httpx:HTTP Request: POST https://philipp.openai.azure.com//openai/deployments/gpt-4/chat/completions?api-version=2023-05-15 \"HTTP/1.1 200 OK\"\n"
     ]
    },
    {
     "name": "stdout",
     "output_type": "stream",
     "text": [
      "Sentence: \"Nearly 800 varieties fill special niches in every climate around the world except the polar zones.\" - Classification: 4\n"
     ]
    },
    {
     "name": "stderr",
     "output_type": "stream",
     "text": [
      "INFO:httpx:HTTP Request: POST https://philipp.openai.azure.com//openai/deployments/gpt-4/chat/completions?api-version=2023-05-15 \"HTTP/1.1 200 OK\"\n"
     ]
    },
    {
     "name": "stdout",
     "output_type": "stream",
     "text": [
      "Sentence: \"The lifestyles and food preferences of Microchiroptera vary wildly.\" - Classification: 2\n"
     ]
    },
    {
     "name": "stderr",
     "output_type": "stream",
     "text": [
      "INFO:httpx:HTTP Request: POST https://philipp.openai.azure.com//openai/deployments/gpt-4/chat/completions?api-version=2023-05-15 \"HTTP/1.1 200 OK\"\n"
     ]
    },
    {
     "name": "stdout",
     "output_type": "stream",
     "text": [
      "Sentence: \"Many eat insects, while others catch fish, amphibians, and reptiles.\" - Classification: 1\n"
     ]
    },
    {
     "name": "stderr",
     "output_type": "stream",
     "text": [
      "INFO:httpx:HTTP Request: POST https://philipp.openai.azure.com//openai/deployments/gpt-4/chat/completions?api-version=2023-05-15 \"HTTP/1.1 200 OK\"\n"
     ]
    },
    {
     "name": "stdout",
     "output_type": "stream",
     "text": [
      "Sentence: \"The other 170 or so species of bats are the fruit bats, otherwise known as Megachiroptera, or \"large hand-wing.\"\" - Classification: 2\n"
     ]
    },
    {
     "name": "stderr",
     "output_type": "stream",
     "text": [
      "INFO:httpx:HTTP Request: POST https://philipp.openai.azure.com//openai/deployments/gpt-4/chat/completions?api-version=2023-05-15 \"HTTP/1.1 200 OK\"\n"
     ]
    },
    {
     "name": "stdout",
     "output_type": "stream",
     "text": [
      "Sentence: \"As their name implies, they are the largest bats, some types boasting wingspans of six feet.\" - Classification: 2\n"
     ]
    },
    {
     "name": "stderr",
     "output_type": "stream",
     "text": [
      "INFO:httpx:HTTP Request: POST https://philipp.openai.azure.com//openai/deployments/gpt-4/chat/completions?api-version=2023-05-15 \"HTTP/1.1 200 OK\"\n"
     ]
    },
    {
     "name": "stdout",
     "output_type": "stream",
     "text": [
      "Sentence: \"Fruit bats generally have long muzzles, large eyes, pointy ears, and furry bodies, which is why they are often called flying foxes.\" - Classification: 2\n"
     ]
    },
    {
     "name": "stderr",
     "output_type": "stream",
     "text": [
      "INFO:httpx:HTTP Request: POST https://philipp.openai.azure.com//openai/deployments/gpt-4/chat/completions?api-version=2023-05-15 \"HTTP/1.1 200 OK\"\n"
     ]
    },
    {
     "name": "stdout",
     "output_type": "stream",
     "text": [
      "Sentence: \"Unlike Microchiroptera, who travel by echolocation, fruit bats depend on their keen vision and sense of smell to navigate.\" - Classification: 2\n"
     ]
    },
    {
     "name": "stderr",
     "output_type": "stream",
     "text": [
      "INFO:httpx:HTTP Request: POST https://philipp.openai.azure.com//openai/deployments/gpt-4/chat/completions?api-version=2023-05-15 \"HTTP/1.1 200 OK\"\n"
     ]
    },
    {
     "name": "stdout",
     "output_type": "stream",
     "text": [
      "Sentence: \"Some fruit bats, as they forage for nectar, are responsible for pollination of many types of night-blooming trees and plants.\" - Classification: 4\n"
     ]
    },
    {
     "name": "stderr",
     "output_type": "stream",
     "text": [
      "INFO:httpx:HTTP Request: POST https://philipp.openai.azure.com//openai/deployments/gpt-4/chat/completions?api-version=2023-05-15 \"HTTP/1.1 200 OK\"\n"
     ]
    },
    {
     "name": "stdout",
     "output_type": "stream",
     "text": [
      "Sentence: \"Others eat whole fruits, seeds and all, and distribute the seeds over the forest floor in their droppings.\" - Classification: 1\n"
     ]
    },
    {
     "name": "stderr",
     "output_type": "stream",
     "text": [
      "INFO:httpx:HTTP Request: POST https://philipp.openai.azure.com//openai/deployments/gpt-4/chat/completions?api-version=2023-05-15 \"HTTP/1.1 200 OK\"\n"
     ]
    },
    {
     "name": "stdout",
     "output_type": "stream",
     "text": [
      "Sentence: \"Regeneration of tropical forests depends greatly on bats.\" - Classification: 4\n"
     ]
    },
    {
     "name": "stderr",
     "output_type": "stream",
     "text": [
      "INFO:httpx:HTTP Request: POST https://philipp.openai.azure.com//openai/deployments/gpt-4/chat/completions?api-version=2023-05-15 \"HTTP/1.1 200 OK\"\n"
     ]
    },
    {
     "name": "stdout",
     "output_type": "stream",
     "text": [
      "Sentence: \"Because, after all, a person's a person, no matter how small.\"\" - Classification: 5\n"
     ]
    },
    {
     "name": "stderr",
     "output_type": "stream",
     "text": [
      "INFO:httpx:HTTP Request: POST https://philipp.openai.azure.com//openai/deployments/gpt-4/chat/completions?api-version=2023-05-15 \"HTTP/1.1 200 OK\"\n"
     ]
    },
    {
     "name": "stdout",
     "output_type": "stream",
     "text": [
      "Sentence: \"After all a person's a person.\" - Classification: 3\n"
     ]
    },
    {
     "name": "stderr",
     "output_type": "stream",
     "text": [
      "INFO:httpx:HTTP Request: POST https://philipp.openai.azure.com//openai/deployments/gpt-4/chat/completions?api-version=2023-05-15 \"HTTP/1.1 200 OK\"\n"
     ]
    },
    {
     "name": "stdout",
     "output_type": "stream",
     "text": [
      "Sentence: \"If you don't, every Who is going to end up in a Beezle-Nut stew!\"\" - Classification: 3\n"
     ]
    },
    {
     "name": "stderr",
     "output_type": "stream",
     "text": [
      "INFO:httpx:HTTP Request: POST https://philipp.openai.azure.com//openai/deployments/gpt-4/chat/completions?api-version=2023-05-15 \"HTTP/1.1 200 OK\"\n"
     ]
    },
    {
     "name": "stdout",
     "output_type": "stream",
     "text": [
      "Sentence: \"A Person's a Person, no matter how small!\" - Classification: 5\n"
     ]
    },
    {
     "name": "stderr",
     "output_type": "stream",
     "text": [
      "INFO:httpx:HTTP Request: POST https://philipp.openai.azure.com//openai/deployments/gpt-4/chat/completions?api-version=2023-05-15 \"HTTP/1.1 200 OK\"\n"
     ]
    },
    {
     "name": "stdout",
     "output_type": "stream",
     "text": [
      "Sentence: \"A Thneed's a Fine-Something-That-All-People-Need!\" - Classification: 4\n"
     ]
    },
    {
     "name": "stderr",
     "output_type": "stream",
     "text": [
      "INFO:httpx:HTTP Request: POST https://philipp.openai.azure.com//openai/deployments/gpt-4/chat/completions?api-version=2023-05-15 \"HTTP/1.1 200 OK\"\n"
     ]
    },
    {
     "name": "stdout",
     "output_type": "stream",
     "text": [
      "Sentence: \"You never can tell what some people will buy.\"\" - Classification: 3\n"
     ]
    },
    {
     "name": "stderr",
     "output_type": "stream",
     "text": [
      "INFO:httpx:HTTP Request: POST https://philipp.openai.azure.com//openai/deployments/gpt-4/chat/completions?api-version=2023-05-15 \"HTTP/1.1 200 OK\"\n"
     ]
    },
    {
     "name": "stdout",
     "output_type": "stream",
     "text": [
      "Sentence: \"And Truffula Trees are what everyone needs.\" - Classification: 4\n"
     ]
    },
    {
     "name": "stderr",
     "output_type": "stream",
     "text": [
      "INFO:httpx:HTTP Request: POST https://philipp.openai.azure.com//openai/deployments/gpt-4/chat/completions?api-version=2023-05-15 \"HTTP/1.1 200 OK\"\n"
     ]
    },
    {
     "name": "stdout",
     "output_type": "stream",
     "text": [
      "Sentence: \"That's what manners are all about-being fair and considerate.\" - Classification: 4\n"
     ]
    },
    {
     "name": "stderr",
     "output_type": "stream",
     "text": [
      "INFO:httpx:HTTP Request: POST https://philipp.openai.azure.com//openai/deployments/gpt-4/chat/completions?api-version=2023-05-15 \"HTTP/1.1 200 OK\"\n"
     ]
    },
    {
     "name": "stdout",
     "output_type": "stream",
     "text": [
      "Sentence: \"Manners are very important.\" - Classification: 3\n"
     ]
    },
    {
     "name": "stderr",
     "output_type": "stream",
     "text": [
      "INFO:httpx:HTTP Request: POST https://philipp.openai.azure.com//openai/deployments/gpt-4/chat/completions?api-version=2023-05-15 \"HTTP/1.1 200 OK\"\n"
     ]
    },
    {
     "name": "stdout",
     "output_type": "stream",
     "text": [
      "Sentence: \"Besides, manners are all right for cubs and mama bears.\" - Classification: 3\n"
     ]
    },
    {
     "name": "stderr",
     "output_type": "stream",
     "text": [
      "INFO:httpx:HTTP Request: POST https://philipp.openai.azure.com//openai/deployments/gpt-4/chat/completions?api-version=2023-05-15 \"HTTP/1.1 200 OK\"\n"
     ]
    },
    {
     "name": "stdout",
     "output_type": "stream",
     "text": [
      "Sentence: \"\"Friends should always tell each other the truth.\" - Classification: 3\n"
     ]
    },
    {
     "name": "stderr",
     "output_type": "stream",
     "text": [
      "INFO:httpx:HTTP Request: POST https://philipp.openai.azure.com//openai/deployments/gpt-4/chat/completions?api-version=2023-05-15 \"HTTP/1.1 200 OK\"\n"
     ]
    },
    {
     "name": "stdout",
     "output_type": "stream",
     "text": [
      "Sentence: \"and apple trees growing around.\" - Classification: 4\n"
     ]
    },
    {
     "name": "stderr",
     "output_type": "stream",
     "text": [
      "INFO:httpx:HTTP Request: POST https://philipp.openai.azure.com//openai/deployments/gpt-4/chat/completions?api-version=2023-05-15 \"HTTP/1.1 200 OK\"\n"
     ]
    },
    {
     "name": "stdout",
     "output_type": "stream",
     "text": [
      "Sentence: \"When you go owling you have to be brave.\" - Classification: 1\n"
     ]
    },
    {
     "name": "stderr",
     "output_type": "stream",
     "text": [
      "INFO:httpx:HTTP Request: POST https://philipp.openai.azure.com//openai/deployments/gpt-4/chat/completions?api-version=2023-05-15 \"HTTP/1.1 200 OK\"\n"
     ]
    },
    {
     "name": "stdout",
     "output_type": "stream",
     "text": [
      "Sentence: \"Baby penguins are gray, you know.\" - Classification: 5\n"
     ]
    },
    {
     "name": "stderr",
     "output_type": "stream",
     "text": [
      "INFO:httpx:HTTP Request: POST https://philipp.openai.azure.com//openai/deployments/gpt-4/chat/completions?api-version=2023-05-15 \"HTTP/1.1 200 OK\"\n"
     ]
    },
    {
     "name": "stdout",
     "output_type": "stream",
     "text": [
      "Sentence: \"Small animals scurry under the tracks.\" - Classification: 1\n"
     ]
    },
    {
     "name": "stderr",
     "output_type": "stream",
     "text": [
      "INFO:httpx:HTTP Request: POST https://philipp.openai.azure.com//openai/deployments/gpt-4/chat/completions?api-version=2023-05-15 \"HTTP/1.1 200 OK\"\n"
     ]
    },
    {
     "name": "stdout",
     "output_type": "stream",
     "text": [
      "Sentence: \"Things used to make other things.\" - Classification: 4\n"
     ]
    },
    {
     "name": "stderr",
     "output_type": "stream",
     "text": [
      "INFO:httpx:HTTP Request: POST https://philipp.openai.azure.com//openai/deployments/gpt-4/chat/completions?api-version=2023-05-15 \"HTTP/1.1 200 OK\"\n"
     ]
    },
    {
     "name": "stdout",
     "output_type": "stream",
     "text": [
      "Sentence: \"They tuck in their tails.\" - Classification: 1\n"
     ]
    },
    {
     "name": "stderr",
     "output_type": "stream",
     "text": [
      "INFO:httpx:HTTP Request: POST https://philipp.openai.azure.com//openai/deployments/gpt-4/chat/completions?api-version=2023-05-15 \"HTTP/1.1 200 OK\"\n"
     ]
    },
    {
     "name": "stdout",
     "output_type": "stream",
     "text": [
      "Sentence: \"Fruity medicine tastes yucky!\" - Classification: 5\n"
     ]
    },
    {
     "name": "stderr",
     "output_type": "stream",
     "text": [
      "INFO:httpx:HTTP Request: POST https://philipp.openai.azure.com//openai/deployments/gpt-4/chat/completions?api-version=2023-05-15 \"HTTP/1.1 200 OK\"\n"
     ]
    },
    {
     "name": "stdout",
     "output_type": "stream",
     "text": [
      "Sentence: \"Trucks are boring.\" - Classification: 5\n"
     ]
    },
    {
     "name": "stderr",
     "output_type": "stream",
     "text": [
      "INFO:httpx:HTTP Request: POST https://philipp.openai.azure.com//openai/deployments/gpt-4/chat/completions?api-version=2023-05-15 \"HTTP/1.1 200 OK\"\n"
     ]
    },
    {
     "name": "stdout",
     "output_type": "stream",
     "text": [
      "Sentence: \"Being sick is such a bore.\" - Classification: 5\n"
     ]
    },
    {
     "name": "stderr",
     "output_type": "stream",
     "text": [
      "INFO:httpx:HTTP Request: POST https://philipp.openai.azure.com//openai/deployments/gpt-4/chat/completions?api-version=2023-05-15 \"HTTP/1.1 200 OK\"\n"
     ]
    },
    {
     "name": "stdout",
     "output_type": "stream",
     "text": [
      "Sentence: \"The Hubbles don't listen.\" - Classification: 3\n"
     ]
    },
    {
     "name": "stderr",
     "output_type": "stream",
     "text": [
      "INFO:httpx:HTTP Request: POST https://philipp.openai.azure.com//openai/deployments/gpt-4/chat/completions?api-version=2023-05-15 \"HTTP/1.1 200 OK\"\n"
     ]
    },
    {
     "name": "stdout",
     "output_type": "stream",
     "text": [
      "Sentence: \"\"Little ballerinas can't catch us!\"\" - Classification: 1\n"
     ]
    },
    {
     "name": "stderr",
     "output_type": "stream",
     "text": [
      "INFO:httpx:HTTP Request: POST https://philipp.openai.azure.com//openai/deployments/gpt-4/chat/completions?api-version=2023-05-15 \"HTTP/1.1 200 OK\"\n"
     ]
    },
    {
     "name": "stdout",
     "output_type": "stream",
     "text": [
      "Sentence: \"Envy is when you want something that belongs to somebody else.\"\" - Classification: 1\n"
     ]
    },
    {
     "name": "stderr",
     "output_type": "stream",
     "text": [
      "INFO:httpx:HTTP Request: POST https://philipp.openai.azure.com//openai/deployments/gpt-4/chat/completions?api-version=2023-05-15 \"HTTP/1.1 200 OK\"\n"
     ]
    },
    {
     "name": "stdout",
     "output_type": "stream",
     "text": [
      "Sentence: \"Straws make everything taste better!\" - Classification: 4\n"
     ]
    },
    {
     "name": "stderr",
     "output_type": "stream",
     "text": [
      "INFO:httpx:HTTP Request: POST https://philipp.openai.azure.com//openai/deployments/gpt-4/chat/completions?api-version=2023-05-15 \"HTTP/1.1 200 OK\"\n"
     ]
    },
    {
     "name": "stdout",
     "output_type": "stream",
     "text": [
      "Sentence: \"Teachers know everything!\" - Classification: 1\n"
     ]
    },
    {
     "name": "stderr",
     "output_type": "stream",
     "text": [
      "INFO:httpx:HTTP Request: POST https://philipp.openai.azure.com//openai/deployments/gpt-4/chat/completions?api-version=2023-05-15 \"HTTP/1.1 200 OK\"\n"
     ]
    },
    {
     "name": "stdout",
     "output_type": "stream",
     "text": [
      "Sentence: \"Dinosaurs are a lot of work.\"\" - Classification: 5\n"
     ]
    },
    {
     "name": "stderr",
     "output_type": "stream",
     "text": [
      "INFO:httpx:HTTP Request: POST https://philipp.openai.azure.com//openai/deployments/gpt-4/chat/completions?api-version=2023-05-15 \"HTTP/1.1 200 OK\"\n"
     ]
    },
    {
     "name": "stdout",
     "output_type": "stream",
     "text": [
      "Sentence: \"They eat anything.\" - Classification: 1\n"
     ]
    },
    {
     "name": "stderr",
     "output_type": "stream",
     "text": [
      "INFO:httpx:HTTP Request: POST https://philipp.openai.azure.com//openai/deployments/gpt-4/chat/completions?api-version=2023-05-15 \"HTTP/1.1 200 OK\"\n"
     ]
    },
    {
     "name": "stdout",
     "output_type": "stream",
     "text": [
      "Sentence: \"Pitching a tent is not easy!\" - Classification: 1\n"
     ]
    },
    {
     "name": "stderr",
     "output_type": "stream",
     "text": [
      "INFO:httpx:HTTP Request: POST https://philipp.openai.azure.com//openai/deployments/gpt-4/chat/completions?api-version=2023-05-15 \"HTTP/1.1 200 OK\"\n"
     ]
    },
    {
     "name": "stdout",
     "output_type": "stream",
     "text": [
      "Sentence: \"A train needs time to adjust to new surroundings.\" - Classification: 4\n"
     ]
    },
    {
     "name": "stderr",
     "output_type": "stream",
     "text": [
      "INFO:httpx:HTTP Request: POST https://philipp.openai.azure.com//openai/deployments/gpt-4/chat/completions?api-version=2023-05-15 \"HTTP/1.1 200 OK\"\n"
     ]
    },
    {
     "name": "stdout",
     "output_type": "stream",
     "text": [
      "Sentence: \"and few trains can resist a good read-aloud.\" - Classification: 1\n"
     ]
    },
    {
     "name": "stderr",
     "output_type": "stream",
     "text": [
      "INFO:httpx:HTTP Request: POST https://philipp.openai.azure.com//openai/deployments/gpt-4/chat/completions?api-version=2023-05-15 \"HTTP/1.1 200 OK\"\n"
     ]
    },
    {
     "name": "stdout",
     "output_type": "stream",
     "text": [
      "Sentence: \"Good manners are important.\" - Classification: 3\n"
     ]
    },
    {
     "name": "stderr",
     "output_type": "stream",
     "text": [
      "INFO:httpx:HTTP Request: POST https://philipp.openai.azure.com//openai/deployments/gpt-4/chat/completions?api-version=2023-05-15 \"HTTP/1.1 200 OK\"\n"
     ]
    },
    {
     "name": "stdout",
     "output_type": "stream",
     "text": [
      "Sentence: \"Finding treasure is hard work.\" - Classification: 1\n"
     ]
    },
    {
     "name": "stderr",
     "output_type": "stream",
     "text": [
      "INFO:httpx:HTTP Request: POST https://philipp.openai.azure.com//openai/deployments/gpt-4/chat/completions?api-version=2023-05-15 \"HTTP/1.1 200 OK\"\n"
     ]
    },
    {
     "name": "stdout",
     "output_type": "stream",
     "text": [
      "Sentence: \"As much as dragons love tacos, they hate spicy salsa even more.\" - Classification: 1\n"
     ]
    },
    {
     "name": "stderr",
     "output_type": "stream",
     "text": [
      "INFO:httpx:HTTP Request: POST https://philipp.openai.azure.com//openai/deployments/gpt-4/chat/completions?api-version=2023-05-15 \"HTTP/1.1 200 OK\"\n"
     ]
    },
    {
     "name": "stdout",
     "output_type": "stream",
     "text": [
      "Sentence: \"If the salsa is spicy at all, dragons can't stand it.\" - Classification: 2\n"
     ]
    },
    {
     "name": "stderr",
     "output_type": "stream",
     "text": [
      "INFO:httpx:HTTP Request: POST https://philipp.openai.azure.com//openai/deployments/gpt-4/chat/completions?api-version=2023-05-15 \"HTTP/1.1 200 OK\"\n"
     ]
    },
    {
     "name": "stdout",
     "output_type": "stream",
     "text": [
      "Sentence: \"Well, just one drop of hot sauce makes a dragon's ears smoke.\" - Classification: 4\n"
     ]
    },
    {
     "name": "stderr",
     "output_type": "stream",
     "text": [
      "INFO:httpx:HTTP Request: POST https://philipp.openai.azure.com//openai/deployments/gpt-4/chat/completions?api-version=2023-05-15 \"HTTP/1.1 200 OK\"\n"
     ]
    },
    {
     "name": "stdout",
     "output_type": "stream",
     "text": [
      "Sentence: \"Dragons love parties.\" - Classification: 3\n"
     ]
    },
    {
     "name": "stderr",
     "output_type": "stream",
     "text": [
      "INFO:httpx:HTTP Request: POST https://philipp.openai.azure.com//openai/deployments/gpt-4/chat/completions?api-version=2023-05-15 \"HTTP/1.1 200 OK\"\n"
     ]
    },
    {
     "name": "stdout",
     "output_type": "stream",
     "text": [
      "Sentence: \"After all, dragons love tacos.\" - Classification: 3\n"
     ]
    },
    {
     "name": "stderr",
     "output_type": "stream",
     "text": [
      "INFO:httpx:HTTP Request: POST https://philipp.openai.azure.com//openai/deployments/gpt-4/chat/completions?api-version=2023-05-15 \"HTTP/1.1 200 OK\"\n"
     ]
    },
    {
     "name": "stdout",
     "output_type": "stream",
     "text": [
      "Sentence: \"After all, dragons love tacos.\" - Classification: 3\n"
     ]
    },
    {
     "name": "stderr",
     "output_type": "stream",
     "text": [
      "INFO:httpx:HTTP Request: POST https://philipp.openai.azure.com//openai/deployments/gpt-4/chat/completions?api-version=2023-05-15 \"HTTP/1.1 200 OK\"\n"
     ]
    },
    {
     "name": "stdout",
     "output_type": "stream",
     "text": [
      "Sentence: \"Doughnuts make good wheel.\" - Classification: 4\n"
     ]
    },
    {
     "name": "stderr",
     "output_type": "stream",
     "text": [
      "INFO:httpx:HTTP Request: POST https://philipp.openai.azure.com//openai/deployments/gpt-4/chat/completions?api-version=2023-05-15 \"HTTP/1.1 200 OK\"\n"
     ]
    },
    {
     "name": "stdout",
     "output_type": "stream",
     "text": [
      "Sentence: \"That's what doughnuts are for ' to eat.\" - Classification: 4\n"
     ]
    },
    {
     "name": "stderr",
     "output_type": "stream",
     "text": [
      "INFO:httpx:HTTP Request: POST https://philipp.openai.azure.com//openai/deployments/gpt-4/chat/completions?api-version=2023-05-15 \"HTTP/1.1 200 OK\"\n"
     ]
    },
    {
     "name": "stdout",
     "output_type": "stream",
     "text": [
      "Sentence: \"People love us!\" - Classification: 3\n"
     ]
    },
    {
     "name": "stderr",
     "output_type": "stream",
     "text": [
      "INFO:httpx:HTTP Request: POST https://philipp.openai.azure.com//openai/deployments/gpt-4/chat/completions?api-version=2023-05-15 \"HTTP/1.1 200 OK\"\n"
     ]
    },
    {
     "name": "stdout",
     "output_type": "stream",
     "text": [
      "Sentence: \"Ducklings get everything!\" - Classification: 3\n"
     ]
    },
    {
     "name": "stderr",
     "output_type": "stream",
     "text": [
      "INFO:httpx:HTTP Request: POST https://philipp.openai.azure.com//openai/deployments/gpt-4/chat/completions?api-version=2023-05-15 \"HTTP/1.1 200 OK\"\n"
     ]
    },
    {
     "name": "stdout",
     "output_type": "stream",
     "text": [
      "Sentence: \"Pigeons like cookies, too!\" - Classification: 3\n"
     ]
    },
    {
     "name": "stderr",
     "output_type": "stream",
     "text": [
      "INFO:httpx:HTTP Request: POST https://philipp.openai.azure.com//openai/deployments/gpt-4/chat/completions?api-version=2023-05-15 \"HTTP/1.1 200 OK\"\n"
     ]
    },
    {
     "name": "stdout",
     "output_type": "stream",
     "text": [
      "Sentence: \"A good friend is always kind.\" - Classification: 3\n"
     ]
    },
    {
     "name": "stderr",
     "output_type": "stream",
     "text": [
      "INFO:httpx:HTTP Request: POST https://philipp.openai.azure.com//openai/deployments/gpt-4/chat/completions?api-version=2023-05-15 \"HTTP/1.1 200 OK\"\n"
     ]
    },
    {
     "name": "stdout",
     "output_type": "stream",
     "text": [
      "Sentence: \"Small fish are scared of me.\" - Classification: 5\n"
     ]
    },
    {
     "name": "stderr",
     "output_type": "stream",
     "text": [
      "INFO:httpx:HTTP Request: POST https://philipp.openai.azure.com//openai/deployments/gpt-4/chat/completions?api-version=2023-05-15 \"HTTP/1.1 200 OK\"\n"
     ]
    },
    {
     "name": "stdout",
     "output_type": "stream",
     "text": [
      "Sentence: \"And BIG fish are scared of me.\" - Classification: 5\n"
     ]
    },
    {
     "name": "stderr",
     "output_type": "stream",
     "text": [
      "INFO:httpx:HTTP Request: POST https://philipp.openai.azure.com//openai/deployments/gpt-4/chat/completions?api-version=2023-05-15 \"HTTP/1.1 200 OK\"\n"
     ]
    },
    {
     "name": "stdout",
     "output_type": "stream",
     "text": [
      "Sentence: \"Some fish swim in large groups, called schools, or shoals.\" - Classification: 3\n"
     ]
    },
    {
     "name": "stderr",
     "output_type": "stream",
     "text": [
      "INFO:httpx:HTTP Request: POST https://philipp.openai.azure.com//openai/deployments/gpt-4/chat/completions?api-version=2023-05-15 \"HTTP/1.1 200 OK\"\n"
     ]
    },
    {
     "name": "stdout",
     "output_type": "stream",
     "text": [
      "Sentence: \"In return for keeping them safe, Pilot fish keep sharks free of harmful parasites.\" - Classification: 3\n"
     ]
    },
    {
     "name": "stderr",
     "output_type": "stream",
     "text": [
      "INFO:httpx:HTTP Request: POST https://philipp.openai.azure.com//openai/deployments/gpt-4/chat/completions?api-version=2023-05-15 \"HTTP/1.1 200 OK\"\n"
     ]
    },
    {
     "name": "stdout",
     "output_type": "stream",
     "text": [
      "Sentence: \"Sharks even allow Pilot fish to clean their teeth!\" - Classification: 3\n"
     ]
    },
    {
     "name": "stderr",
     "output_type": "stream",
     "text": [
      "INFO:httpx:HTTP Request: POST https://philipp.openai.azure.com//openai/deployments/gpt-4/chat/completions?api-version=2023-05-15 \"HTTP/1.1 200 OK\"\n"
     ]
    },
    {
     "name": "stdout",
     "output_type": "stream",
     "text": [
      "Sentence: \"(Pilot fish are not really scary at all!!)\" - Classification: 5\n"
     ]
    },
    {
     "name": "stderr",
     "output_type": "stream",
     "text": [
      "INFO:httpx:HTTP Request: POST https://philipp.openai.azure.com//openai/deployments/gpt-4/chat/completions?api-version=2023-05-15 \"HTTP/1.1 200 OK\"\n"
     ]
    },
    {
     "name": "stdout",
     "output_type": "stream",
     "text": [
      "Sentence: \"The snail is black and white too!\" - Classification: 5\n"
     ]
    },
    {
     "name": "stderr",
     "output_type": "stream",
     "text": [
      "INFO:httpx:HTTP Request: POST https://philipp.openai.azure.com//openai/deployments/gpt-4/chat/completions?api-version=2023-05-15 \"HTTP/1.1 200 OK\"\n"
     ]
    },
    {
     "name": "stdout",
     "output_type": "stream",
     "text": [
      "Sentence: \"Not every dog can become a Service Dog.\" - Classification: 4\n"
     ]
    },
    {
     "name": "stderr",
     "output_type": "stream",
     "text": [
      "INFO:httpx:HTTP Request: POST https://philipp.openai.azure.com//openai/deployments/gpt-4/chat/completions?api-version=2023-05-15 \"HTTP/1.1 200 OK\"\n"
     ]
    },
    {
     "name": "stdout",
     "output_type": "stream",
     "text": [
      "Sentence: \"If cars drive on the right, look left then right, you know.\" - Classification: 4\n"
     ]
    },
    {
     "name": "stderr",
     "output_type": "stream",
     "text": [
      "INFO:httpx:HTTP Request: POST https://philipp.openai.azure.com//openai/deployments/gpt-4/chat/completions?api-version=2023-05-15 \"HTTP/1.1 200 OK\"\n"
     ]
    },
    {
     "name": "stdout",
     "output_type": "stream",
     "text": [
      "Sentence: \"There are things that glide.\" - Classification: 1\n"
     ]
    },
    {
     "name": "stderr",
     "output_type": "stream",
     "text": [
      "INFO:httpx:HTTP Request: POST https://philipp.openai.azure.com//openai/deployments/gpt-4/chat/completions?api-version=2023-05-15 \"HTTP/1.1 200 OK\"\n"
     ]
    },
    {
     "name": "stdout",
     "output_type": "stream",
     "text": [
      "Sentence: \"There are things that fly.\" - Classification: 1\n"
     ]
    },
    {
     "name": "stderr",
     "output_type": "stream",
     "text": [
      "INFO:httpx:HTTP Request: POST https://philipp.openai.azure.com//openai/deployments/gpt-4/chat/completions?api-version=2023-05-15 \"HTTP/1.1 200 OK\"\n"
     ]
    },
    {
     "name": "stdout",
     "output_type": "stream",
     "text": [
      "Sentence: \"There are things that hover.\" - Classification: 1\n"
     ]
    },
    {
     "name": "stderr",
     "output_type": "stream",
     "text": [
      "INFO:httpx:HTTP Request: POST https://philipp.openai.azure.com//openai/deployments/gpt-4/chat/completions?api-version=2023-05-15 \"HTTP/1.1 200 OK\"\n"
     ]
    },
    {
     "name": "stdout",
     "output_type": "stream",
     "text": [
      "Sentence: \"Birds of all shapes and sizes Flap their way across the sky.\" - Classification: 1\n"
     ]
    },
    {
     "name": "stderr",
     "output_type": "stream",
     "text": [
      "INFO:httpx:HTTP Request: POST https://philipp.openai.azure.com//openai/deployments/gpt-4/chat/completions?api-version=2023-05-15 \"HTTP/1.1 200 OK\"\n"
     ]
    },
    {
     "name": "stdout",
     "output_type": "stream",
     "text": [
      "Sentence: \"Gliding and parasailing Are sports for those who dare.\" - Classification: 1\n",
      "Classification results saved to classified_generics_update.json\n"
     ]
    }
   ],
   "source": [
    "import json\n",
    "import os\n",
    "import asyncio\n",
    "from azure import AsyncAzureOpenAI  # Import the Azure OpenAI client\n",
    "\n",
    "# Apply nest_asyncio patch for compatibility with interactive environments\n",
    "import nest_asyncio\n",
    "nest_asyncio.apply()\n",
    "\n",
    "# Retrieve the API key from the environment variable\n",
    "api_key = os.getenv(\"AZURE_OPENAI_API_KEY\")\n",
    "\n",
    "# Check if the API key was retrieved successfully\n",
    "if not api_key:\n",
    "    raise ValueError(\"API key is not set. Please set the AZURE_OPENAI_API_KEY environment variable.\")\n",
    "\n",
    "# Initialize the Azure OpenAI API client\n",
    "azure_endpoint = \"https://philipp.openai.azure.com/\"  # Your Azure endpoint URL\n",
    "api_version = \"2023-05-15\"  # The API version to use\n",
    "\n",
    "client = AsyncAzureOpenAI(\n",
    "    azure_endpoint=azure_endpoint,\n",
    "    api_version=api_version,\n",
    "    api_key=api_key\n",
    ")\n",
    "\n",
    "# Define the prompt for classifying generics\n",
    "def create_prompt(sentence):\n",
    "    return (\n",
    "        \"Generics can be categorized into the following five categories: \"\n",
    "        \"Behavioral (e.g., \\\"Fish swim\\\",  \\\"Cars park\\\", \\\"Sugar melts\\\"), Biological (e.g., \\\"Cats have fur\\\", \\\"Sharks have pointy teeth\\\", \\\"Zebras have long necks\\\"), \"\n",
    "        \"Social (e.g., \\\"Zebras share food with group members\\\", \\\"Bees protect the queen\\\", \\\"Wolves travel in packs\\\"), Teleological (e.g., \\\"Bees make honey\\\", \\\"Cars drive\\\", \\\"Clouds provide rain\\\") and Perceptual (e.g., \\\"Whales are big\\\", \\\"Balls are round\\\", \\\"Snow is cold\\\"). \"\n",
    "        \"Behavioral generics are about behavior or what things do; Biological generics mention biological features and characteristics; \"\n",
    "        \"Social generics refer to social behaviors or behaviors of groups; Teleological generics are about functions, purposes, or what things are for; and Perceptual generics are about what things look like, or what they feel, sound, or taste like. \"\n",
    "        \"For the following sentence, determine if it is a Behavioral, Biological, Social, Teleological, or Perceptual, or Other. \"\n",
    "        \"Just return the one-word category name as the output.\\n\"\n",
    "        f\"Sentence: \\\"{sentence}\\\"\\n\\n\"\n",
    "        \"Examples:\\n\"\n",
    "        \"1. \\\"A wave must be at least 20 feet (6 m) tall to be considered a 'big' wave.\\\" -> Perceptual\\n\"\n",
    "        \"2. \\\"A 20-gallon (76-1) glass tank is the right size for two or three leopard geckos.\\\" -> Perceptual\\n\"\n",
    "        \"3. \\\"Blue hair is fun to brush and comb.\\\" -> Teleological\\n\"\n",
    "        \"4. \\\"Little snow people, like her, eat nothing but icicles.\\\" -> Behavioral\\n\"\n",
    "        \"5. \\\"Most animals need a mate to have babies.\\\" -> Teleological\\n\"\n",
    "        \"6. \\\"Sharks even allow Pilot fish to clean their teeth!\\\" -> Behavioral\\n\"\n",
    "        \"7. \\\"To keep enemies away, monarchs have built-in protections.\\\" -> Behavioral\\n\"\n",
    "        \"8. \\\"Women are still sometimes paid less than men for the same work.\\\" -> Social\\n\"\n",
    "        \"9. \\\"All birds have wings.\\\" -> Biological\\n\"\n",
    "        \"10. \\\"Humpback Whales don't have teeth.\\\" -> Biological\\n\"\n",
    "        \"11. \\\"What friends do..\\\" -> Other\\n\"\n",
    "        \"12. \\\"Gravity is everywhere.\\\" -> Other\\n\"\n",
    "        \n",
    "    )\n",
    "\n",
    "\n",
    "# Asynchronous function to classify a single sentence\n",
    "async def classify_sentence(sentence):\n",
    "    prompt = create_prompt(sentence)\n",
    "    response = await client.chat.completions.create(\n",
    "        model=\"gpt-4\",\n",
    "        messages=[\n",
    "            {\"role\": \"system\", \"content\": \"determine the feature type of the generalizing sentence.\"},\n",
    "            {\"role\": \"user\", \"content\": prompt}\n",
    "        ],\n",
    "        max_tokens=1  # Limit the output to 1 token\n",
    "    )\n",
    "    classification = response.choices[0].message.content.strip()\n",
    "    print(f\"Sentence: \\\"{sentence}\\\" - Classification: {classification}\")\n",
    "    return {\"sentence\": sentence, \"classification\": classification}\n",
    "\n",
    "# Wrapper function to classify each sentence\n",
    "def classify_sentences(sentences):\n",
    "    results = []\n",
    "    loop = asyncio.get_event_loop()\n",
    "    for sentence in sentences:\n",
    "        result = loop.run_until_complete(classify_sentence(sentence))\n",
    "        results.append(result)\n",
    "    return results\n",
    "\n",
    "\n",
    "# Classify each sentence and save the results to a JSON file\n",
    "classified_sentences = classify_sentences(sentences_list)\n",
    "output_file = 'classified_generics_update.json'\n",
    "\n",
    "with open(output_file, 'w') as f:\n",
    "    json.dump(classified_sentences, f, indent=4)\n",
    "\n",
    "print(f\"Classification results saved to {output_file}\")\n"
   ]
  },
  {
   "cell_type": "code",
   "execution_count": 5,
   "metadata": {},
   "outputs": [
    {
     "data": {
      "text/plain": [
       "71"
      ]
     },
     "execution_count": 5,
     "metadata": {},
     "output_type": "execute_result"
    }
   ],
   "source": [
    "# test on the generics that have already been annotated\n",
    "import pandas as pd\n",
    "df = pd.read_csv(\"/Users/sunnyyu/Desktop/research/children_speech_books/code/python/generics/sampled_sentences_generics_features_annotated - sampled_sentences_generics_features.csv\")\n",
    "generics_list = df['sentence'].tolist()\n",
    "len(generics_list)"
   ]
  },
  {
   "cell_type": "code",
   "execution_count": 6,
   "metadata": {},
   "outputs": [
    {
     "name": "stdout",
     "output_type": "stream",
     "text": [
      "Embeddings saved to /Users/sunnyyu/Desktop/research/children_speech_books/code/python/generics/embeddings.csv\n",
      "New Text: \"A wave must be at least 20 feet (6 m) tall to be considered a \"big\" wave.\" - Generated Response: Perceptual\n",
      "New Text: \"Surfing in such conditions can be deadly.\" - Generated Response: Behavioral\n",
      "New Text: \"Humans and monarchs need to learn to share the Earth.\" - Generated Response: Social\n",
      "New Text: \"Most other birds can fly.\" - Generated Response: Behavioral\n",
      "New Text: \"Lugers wear a hard-shell helmet and leather racing suit and gloves.\" - Generated Response: Behavioral\n",
      "New Text: \"A 20-gallon (76-1) glass tank is the right size for two or three leopard geckos.\" - Generated Response: Teleological\n",
      "New Text: \"What friends do.\" - Generated Response: Other\n",
      "New Text: \"A baby bear is called a cub.\" - Generated Response: Biological\n",
      "New Text: \"Blue hair is fun to brush and comb.\" - Generated Response: Perceptual\n",
      "New Text: \"Whoever scores the most goals wins!\" - Generated Response: Behavioral\n",
      "New Text: \"The most wonderful of all, though, are their feelers.The Butterflies have stiff feelers on their heads with little knobs on the ends, or sometimes with part of them thick like tiny clubs.\" - Generated Response: Biological\n",
      "New Text: \"Lettuce and cucumbers are green vegetables.\" - Generated Response: Perceptual\n",
      "New Text: \"When the female elephant is ready to give birth, the other cows gather around to help.\" - Generated Response: Social\n",
      "New Text: \"Little snow people, like her, eat nothing but icicles.\" - Generated Response: Behavioral\n",
      "New Text: \"Seeds hitchhike on your sock or on a fox’s bushy tail.\" - Generated Response: Behavioral\n",
      "New Text: \"Most animals need a mate to have babies.\" - Generated Response: Biological\n",
      "New Text: \"If you startle an ordinary cockroach, it will run away.\" - Generated Response: Behavioral\n",
      "New Text: \"Humpback Whales don't have teeth.\" - Generated Response: Biological\n",
      "New Text: \"\"\"Balloons are much too big to go into Pots.\" - Generated Response: Perceptual\n",
      "New Text: \"Vultures don't eat veggiesVultures eat red meat.For them, a vole or vampire bat would be a tasty treat.\" - Generated Response: Behavioral\n",
      "New Text: \"A JetSki or helicopter will tow you to the top of a wave.\" - Generated Response: Behavioral\n",
      "New Text: \"Sharks even allow Pilot fish to clean their teeth!\" - Generated Response: Behavioral\n",
      "New Text: \"Deforestation is a big problem for monarch butterflies.\" - Generated Response: Teleological\n",
      "New Text: \"Weird but true A monarch caterpillar eats its eggshell before it starts eating milkweed.\" - Generated Response: Behavioral\n",
      "New Text: \"All birds have wings.\" - Generated Response: Biological\n",
      "New Text: \"The bug is tan.\" - Generated Response: Perceptual\n",
      "New Text: \"The other 170 or so species of bats are the fruit bats, otherwise known as Megachiroptera, or \"large hand-wing.\"\" - Generated Response: Biological\n",
      "New Text: \"Making new friends is fun.\" - Generated Response: Behavioral\n",
      "New Text: \"Gravity is everywhere.\" - Generated Response: Other\n",
      "New Text: \"Some animals have scales.\" - Generated Response: Biological\n",
      "New Text: \"Other times the parachute fails to open.\" - Generated Response: Behavioral\n",
      "New Text: \"People also call it open-wheel racing.\" - Generated Response: Other\n",
      "New Text: \"Now, freight cars are silly and noisy.\" - Generated Response: Perceptual\n",
      "New Text: \"To keep enemies away, monarchs have built-in protections.\" - Generated Response: Biological\n",
      "New Text: \"Black holes are, in fact, impossible to describe.\" - Generated Response: Other\n",
      "New Text: \"6 Predators kill 15 percent of the monarchs in Mexico every year.\" - Generated Response: Behavioral\n",
      "New Text: \"All sorts of berries are great to eat.\" - Generated Response: Teleological\n",
      "New Text: \"Continuous production keeps a full assortment of stock on hand.\" - Generated Response: Teleological\n",
      "New Text: \"A Thneed's a Fine-Something-That-All-People-Need!\" - Generated Response: Teleological\n",
      "New Text: \"Heroes won't do something that could hurt others.\" - Generated Response: Behavioral\n",
      "New Text: \"And others wore CAPES IN DIFFERENT COLORS.\" - Generated Response: Behavioral\n",
      "New Text: \"All kinds of animals live under the sea.\" - Generated Response: Behavioral\n",
      "New Text: \"Dogs go arf.\" - Generated Response: Behavioral\n",
      "New Text: \"An extremely noisy birdit yelps and screeches, especially in flightThe macawlike other parrots,is an excellentmimic and can imitate many sounds.\" - Generated Response: Behavioral\n",
      "New Text: \"Superheroes know boldness is cool.\" - Generated Response: Behavioral\n",
      "New Text: \"The best sort of honey Never comes from bees.\" - Generated Response: Teleological\n",
      "New Text: \"A train needs time to adjust to new surroundings.\" - Generated Response: Behavioral\n",
      "New Text: \"Heli-skiing can turn deadly in an instant.\" - Generated Response: Behavioral\n",
      "New Text: \"Pet ferrets need a diet with lots of meat in it as well.\" - Generated Response: Teleological\n",
      "New Text: \"Tomatoes are all juicy and red Soft, ripe bananas help keep me fed.\" - Generated Response: Perceptual\n",
      "New Text: \"You walk on mats called tatami.\" - Generated Response: Behavioral\n",
      "New Text: \"Monarchs need trees for protection against wind and rain.\" - Generated Response: Teleological\n",
      "New Text: \"Some of the Butterflies, you know, wear whole gowns of black and yellow, others have stripes of black and white, while some have clear yellow with only a bit of black trimming the edges of the wings.The Moths usually wear brown and have it brightened with touches of buff or dull blue.\" - Generated Response: Perceptual\n",
      "New Text: \"There’s one other thing -- tarantulas bite when they’re scared.\" - Generated Response: Behavioral\n",
      "New Text: \"The bat is black.\" - Generated Response: Perceptual\n",
      "New Text: \"Math is neat!\" - Generated Response: Other\n",
      "New Text: \"Referees receive better training and stop fights more quickly.\" - Generated Response: Behavioral\n",
      "New Text: \"Teams of climbers help one another and provide extra safety.\" - Generated Response: Social\n",
      "New Text: \"Sunlight signals them to migrate.\" - Generated Response: Behavioral\n",
      "New Text: \"Envy is when you want something that belongs to somebody else.\"\" - Generated Response: Other\n",
      "New Text: \"Apples come in red,green and yellow Peas are so tasty,just ask this fellow.\" - Generated Response: Perceptual\n",
      "New Text: \"Strawberries are succulent.Strawberries are sweet.On sunny summer days they're what I like to eat!\" - Generated Response: Perceptual\n",
      "New Text: \"A sea turtle uses its flippers to swim through the ocean.\" - Generated Response: Behavioral\n",
      "New Text: \"These butterflies live six to nine months, much longer than the generations before it.\" - Generated Response: Biological\n",
      "New Text: \"Scientists believe that sunlight also helps guide them.\" - Generated Response: Teleological\n",
      "New Text: \"A sheep says BAA.\" - Generated Response: Behavioral\n",
      "New Text: \"Women are still sometimes paid less than men for the same work.\" - Generated Response: Social\n",
      "New Text: \"Tomatoes have delicious color.\" - Generated Response: Perceptual\n",
      "New Text: \"A fall of 60 feet(18m) or more, even landing in water, isn't safe.\" - Generated Response: Other\n",
      "New Text: \"All sorts of fish, large and small, dart among the branches, just as birds flit through the trees up here.\" - Generated Response: Behavioral\n",
      "New Text: \"And BIG fish are scared of me.\" - Generated Response: Behavioral\n",
      "Classification results saved to classified_generics_test.json\n"
     ]
    }
   ],
   "source": [
    "# embedding based search for feature classification\n",
    "import json\n",
    "import os\n",
    "import asyncio\n",
    "import pandas as pd\n",
    "from azure import AsyncAzureOpenAI\n",
    "import nest_asyncio\n",
    "from scipy.spatial import distance\n",
    "import ast\n",
    "\n",
    "nest_asyncio.apply()\n",
    "\n",
    "# Initialize the Azure OpenAI API client\n",
    "azure_endpoint = \"https://philipp.openai.azure.com/\"\n",
    "api_version = \"2023-05-15\"\n",
    "api_key = os.getenv(\"AZURE_OPENAI_API_KEY\")\n",
    "\n",
    "client = AsyncAzureOpenAI(\n",
    "    azure_endpoint=azure_endpoint,\n",
    "    api_version=api_version,\n",
    "    api_key=api_key\n",
    ")\n",
    "\n",
    "# Original prompt function\n",
    "def create_prompt(sentence, similar_pairs):\n",
    "    examples = \"\\n\".join(\n",
    "        [f\"{i+1}. \\\"{pair['item']}\\\" -> {pair['response']}\" for i, pair in enumerate(similar_pairs)]\n",
    "    )\n",
    "    return (\n",
    "        \"Generics can be categorized into the following five categories: \"\n",
    "        \"Behavioral (e.g., \\\"Fish swim\\\",  \\\"Cars park\\\", \\\"Sugar melts\\\"), Biological (e.g., \\\"Cats have fur\\\", \\\"Sharks have pointy teeth\\\", \\\"Zebras have long necks\\\"), \"\n",
    "        \"Social (e.g., \\\"Zebras share food with group members\\\", \\\"Bees protect the queen\\\", \\\"Wolves travel in packs\\\"), Teleological (e.g., \\\"Bees make honey\\\", \\\"Cars drive\\\", \\\"Clouds provide rain\\\") and Perceptual (e.g., \\\"Whales are big\\\", \\\"Balls are round\\\", \\\"Snow is cold\\\"). \"\n",
    "        \"Behavioral generics are about behavior or what things do; Biological generics mention biological features and characteristics; \"\n",
    "        \"Social generics refer to social behaviors or behaviors of groups; Teleological generics are about functions, purposes, or what things are for; and Perceptual generics are about what things look like, or what they feel, sound, or taste like. \"\n",
    "        \"For the following sentence, determine if it is a Behavioral, Biological, Social, Teleological, or Perceptual, or Other. \"\n",
    "        \"Just return the one-word category name as the output.\\n\"\n",
    "        f\"Sentence: \\\"{sentence}\\\"\\n\\n\"\n",
    "        \"Examples:\\n\"\n",
    "        \"1. \\\"A wave must be at least 20 feet (6 m) tall to be considered a 'big' wave.\\\" -> Perceptual\\n\"\n",
    "        \"2. \\\"A 20-gallon (76-1) glass tank is the right size for two or three leopard geckos.\\\" -> Perceptual\\n\"\n",
    "        \"3. \\\"Blue hair is fun to brush and comb.\\\" -> Teleological\\n\"\n",
    "        \"4. \\\"Little snow people, like her, eat nothing but icicles.\\\" -> Behavioral\\n\"\n",
    "        \"5. \\\"Most animals need a mate to have babies.\\\" -> Teleological\\n\"\n",
    "        \"6. \\\"Sharks even allow Pilot fish to clean their teeth!\\\" -> Behavioral\\n\"\n",
    "        \"7. \\\"To keep enemies away, monarchs have built-in protections.\\\" -> Behavioral\\n\"\n",
    "        \"8. \\\"Women are still sometimes paid less than men for the same work.\\\" -> Social\\n\"\n",
    "        \"9. \\\"All birds have wings.\\\" -> Biological\\n\"\n",
    "        \"10. \\\"Humpback Whales don't have teeth.\\\" -> Biological\\n\"\n",
    "        \"11. \\\"What friends do..\\\" -> Other\\n\"\n",
    "        \"12. \\\"Gravity is everywhere.\\\" -> Other\\n\"\n",
    "        f\"Sentence: \\\"{sentence}\\\"\\n\\n\"\n",
    "        \"More examples:\\n\"\n",
    "        f\"{examples}\\n\"\n",
    "    )\n",
    "\n",
    "# Function to generate embeddings for a list of texts\n",
    "async def generate_embeddings(text_list):\n",
    "    embeddings = []\n",
    "    for text in text_list:\n",
    "        response = await client.embeddings.create(\n",
    "            model=\"text-embedding-ada-002\",\n",
    "            input=text\n",
    "        )\n",
    "        embedding = list(response.data[0].embedding)\n",
    "        embeddings.append(embedding)\n",
    "    return embeddings\n",
    "\n",
    "# Function to load data from CSV and generate embeddings for both columns\n",
    "async def process_csv_for_embeddings(csv_file_path, output_file_path):\n",
    "    df = pd.read_csv(csv_file_path)\n",
    "    \n",
    "    # Generate embeddings for both \"item\" and \"response\" columns\n",
    "    df['item_embedding'] = await generate_embeddings(df['item'].tolist())\n",
    "    df['response_embedding'] = await generate_embeddings(df['response'].tolist())\n",
    "    \n",
    "    # Save embeddings along with the original columns back to CSV\n",
    "    df.to_csv(output_file_path, index=False)\n",
    "    print(f\"Embeddings saved to {output_file_path}\")\n",
    "\n",
    "# Function to classify a new sentence by finding the closest embedding\n",
    "def classify_with_embeddings(new_text, csv_file_path):\n",
    "    df = pd.read_csv(csv_file_path)\n",
    "    \n",
    "    # Generate embedding for the new text\n",
    "    loop = asyncio.get_event_loop()\n",
    "    new_embedding = loop.run_until_complete(generate_embeddings([new_text]))[0]\n",
    "    \n",
    "    # Find the top 5 closest matches using cosine similarity on \"item\" embeddings\n",
    "    df['similarity'] = df['item_embedding'].apply(lambda x: 1 - distance.cosine(ast.literal_eval(x), new_embedding))\n",
    "    top_matches = df.nlargest(5, 'similarity')\n",
    "    \n",
    "    # Prepare input-output pairs for the prompt\n",
    "    similar_pairs = top_matches[['item', 'response']].to_dict('records')\n",
    "    \n",
    "    # Create the prompt with the top 5 similar pairs\n",
    "    prompt = create_prompt(new_text, similar_pairs)\n",
    "    \n",
    "    # Generate the final response using the model\n",
    "    response = loop.run_until_complete(client.chat.completions.create(\n",
    "        model=\"gpt-4\",\n",
    "        messages=[\n",
    "            {\"role\": \"system\", \"content\": \"Generate an appropriate response based on the provided context.\"},\n",
    "            {\"role\": \"user\", \"content\": prompt}\n",
    "        ],\n",
    "        max_tokens=10  # Adjust as needed for response length\n",
    "    ))\n",
    "    \n",
    "    final_response = response.choices[0].message.content.strip()\n",
    "    print(f\"New Text: \\\"{new_text}\\\" - Generated Response: {final_response}\")\n",
    "    \n",
    "    return {\"sentence\": new_text, \"classification\": final_response, \"context\": similar_pairs}\n",
    "\n",
    "# Classify each sentence and save the results to a JSON file\n",
    "def classify_sentences(sentences_list, csv_file_path):\n",
    "    results = []\n",
    "    for sentence in sentences_list:\n",
    "        result = classify_with_embeddings(sentence, csv_file_path)\n",
    "        results.append(result)\n",
    "    \n",
    "    # Save results to JSON\n",
    "    output_file = 'classified_generics_test.json'\n",
    "    with open(output_file, 'w') as f:\n",
    "        json.dump(results, f, indent=4)\n",
    "    print(f\"Classification results saved to {output_file}\")\n",
    "\n",
    "# Example usage\n",
    "input_csv = '/Users/sunnyyu/Desktop/research/children_speech_books/code/python/generics/embedding_based_search_data - Sheet1.csv'\n",
    "output_csv = '/Users/sunnyyu/Desktop/research/children_speech_books/code/python/generics/embeddings.csv'\n",
    "\n",
    "# First, generate and save embeddings to CSV\n",
    "#loop = asyncio.get_event_loop()\n",
    "#loop.run_until_complete(process_csv_for_embeddings(input_csv, output_csv))\n",
    "\n",
    "# Then, classify each sentence and save the results\n",
    "classify_sentences(generics_list, output_csv)\n",
    "\n"
   ]
  },
  {
   "cell_type": "code",
   "execution_count": 14,
   "metadata": {},
   "outputs": [
    {
     "name": "stderr",
     "output_type": "stream",
     "text": [
      "Classifying sentences:   0%|          | 1/1000 [00:01<29:56,  1.80s/it]"
     ]
    },
    {
     "name": "stdout",
     "output_type": "stream",
     "text": [
      "New Text: \"do you think she'll take you to Mormor's house\" - Generated Response: Behavioral\n"
     ]
    },
    {
     "name": "stderr",
     "output_type": "stream",
     "text": [
      "Classifying sentences:   0%|          | 2/1000 [00:03<24:43,  1.49s/it]"
     ]
    },
    {
     "name": "stdout",
     "output_type": "stream",
     "text": [
      "New Text: \"you wanna throw the ball in there\" - Generated Response: Behavioral\n"
     ]
    },
    {
     "name": "stderr",
     "output_type": "stream",
     "text": [
      "Classifying sentences:   0%|          | 3/1000 [00:04<25:53,  1.56s/it]"
     ]
    },
    {
     "name": "stdout",
     "output_type": "stream",
     "text": [
      "New Text: \"it's an adventure to go out and choose\" - Generated Response: Behavioral\n"
     ]
    },
    {
     "name": "stderr",
     "output_type": "stream",
     "text": [
      "Classifying sentences:   0%|          | 4/1000 [00:05<22:59,  1.39s/it]"
     ]
    },
    {
     "name": "stdout",
     "output_type": "stream",
     "text": [
      "New Text: \"you're pretty well tapped out by the time you finish that hm\" - Generated Response: Behavioral\n"
     ]
    },
    {
     "name": "stderr",
     "output_type": "stream",
     "text": [
      "Classifying sentences:   0%|          | 5/1000 [00:07<22:25,  1.35s/it]"
     ]
    },
    {
     "name": "stdout",
     "output_type": "stream",
     "text": [
      "New Text: \"maybe we should move the table xxx so you don't xxx\" - Generated Response: Behavioral\n"
     ]
    },
    {
     "name": "stderr",
     "output_type": "stream",
     "text": [
      "Classifying sentences:   1%|          | 6/1000 [00:08<21:56,  1.32s/it]"
     ]
    },
    {
     "name": "stdout",
     "output_type": "stream",
     "text": [
      "New Text: \"I know what dogs do when they're all wet\" - Generated Response: Behavioral\n"
     ]
    },
    {
     "name": "stderr",
     "output_type": "stream",
     "text": [
      "Classifying sentences:   1%|          | 7/1000 [00:09<19:43,  1.19s/it]"
     ]
    },
    {
     "name": "stdout",
     "output_type": "stream",
     "text": [
      "New Text: \"what do you want darling\" - Generated Response: Other\n"
     ]
    },
    {
     "name": "stderr",
     "output_type": "stream",
     "text": [
      "Classifying sentences:   1%|          | 8/1000 [00:10<18:27,  1.12s/it]"
     ]
    },
    {
     "name": "stdout",
     "output_type": "stream",
     "text": [
      "New Text: \"see different spots\" - Generated Response: Perceptual\n"
     ]
    },
    {
     "name": "stderr",
     "output_type": "stream",
     "text": [
      "Classifying sentences:   1%|          | 9/1000 [00:11<17:27,  1.06s/it]"
     ]
    },
    {
     "name": "stdout",
     "output_type": "stream",
     "text": [
      "New Text: \"you're growing out_of your clothes huh\" - Generated Response: Biological\n"
     ]
    },
    {
     "name": "stderr",
     "output_type": "stream",
     "text": [
      "Classifying sentences:   1%|          | 10/1000 [00:12<17:04,  1.03s/it]"
     ]
    },
    {
     "name": "stdout",
     "output_type": "stream",
     "text": [
      "New Text: \"where do you think the wheels go\" - Generated Response: Other\n"
     ]
    },
    {
     "name": "stderr",
     "output_type": "stream",
     "text": [
      "Classifying sentences:   1%|          | 11/1000 [00:13<17:01,  1.03s/it]"
     ]
    },
    {
     "name": "stdout",
     "output_type": "stream",
     "text": [
      "New Text: \"what letter does that look like\" - Generated Response: Perceptual\n"
     ]
    },
    {
     "name": "stderr",
     "output_type": "stream",
     "text": [
      "Classifying sentences:   1%|          | 12/1000 [00:14<16:19,  1.01it/s]"
     ]
    },
    {
     "name": "stdout",
     "output_type": "stream",
     "text": [
      "New Text: \"no why don't you tell Ryan about the book that you brought okay\" - Generated Response: Other\n"
     ]
    },
    {
     "name": "stderr",
     "output_type": "stream",
     "text": [
      "Classifying sentences:   1%|▏         | 13/1000 [00:15<15:56,  1.03it/s]"
     ]
    },
    {
     "name": "stdout",
     "output_type": "stream",
     "text": [
      "New Text: \"can you find the squirrel\" - Generated Response: Other\n"
     ]
    },
    {
     "name": "stderr",
     "output_type": "stream",
     "text": [
      "Classifying sentences:   1%|▏         | 14/1000 [00:15<15:52,  1.04it/s]"
     ]
    },
    {
     "name": "stdout",
     "output_type": "stream",
     "text": [
      "New Text: \"how do you put on the diaper\" - Generated Response: Teleological\n"
     ]
    },
    {
     "name": "stderr",
     "output_type": "stream",
     "text": [
      "Classifying sentences:   2%|▏         | 15/1000 [00:16<15:46,  1.04it/s]"
     ]
    },
    {
     "name": "stdout",
     "output_type": "stream",
     "text": [
      "New Text: \"don't worry about it okay no more spilling\" - Generated Response: Behavioral\n"
     ]
    },
    {
     "name": "stderr",
     "output_type": "stream",
     "text": [
      "Classifying sentences:   2%|▏         | 16/1000 [00:17<15:42,  1.04it/s]"
     ]
    },
    {
     "name": "stdout",
     "output_type": "stream",
     "text": [
      "New Text: \"Tyrannosaurus_Rex decided to come out to play\" - Generated Response: Behavioral\n"
     ]
    },
    {
     "name": "stderr",
     "output_type": "stream",
     "text": [
      "Classifying sentences:   2%|▏         | 17/1000 [00:18<15:32,  1.05it/s]"
     ]
    },
    {
     "name": "stdout",
     "output_type": "stream",
     "text": [
      "New Text: \"make noise with the truck Eric\" - Generated Response: Behavioral\n"
     ]
    },
    {
     "name": "stderr",
     "output_type": "stream",
     "text": [
      "Classifying sentences:   2%|▏         | 18/1000 [00:19<16:01,  1.02it/s]"
     ]
    },
    {
     "name": "stdout",
     "output_type": "stream",
     "text": [
      "New Text: \"shh go night_night\" - Generated Response: Behavioral\n"
     ]
    },
    {
     "name": "stderr",
     "output_type": "stream",
     "text": [
      "Classifying sentences:   2%|▏         | 19/1000 [00:20<16:14,  1.01it/s]"
     ]
    },
    {
     "name": "stdout",
     "output_type": "stream",
     "text": [
      "New Text: \"want some more of your cookie\" - Generated Response: Other\n"
     ]
    },
    {
     "name": "stderr",
     "output_type": "stream",
     "text": [
      "Classifying sentences:   2%|▏         | 20/1000 [00:23<22:23,  1.37s/it]"
     ]
    },
    {
     "name": "stdout",
     "output_type": "stream",
     "text": [
      "New Text: \"I think it's one of the best snowmen you have ever done\" - Generated Response: Perceptual\n"
     ]
    },
    {
     "name": "stderr",
     "output_type": "stream",
     "text": [
      "Classifying sentences:   2%|▏         | 21/1000 [00:24<20:21,  1.25s/it]"
     ]
    },
    {
     "name": "stdout",
     "output_type": "stream",
     "text": [
      "New Text: \"I don't think he's actually a character on any kind of show xxx\" - Generated Response: Other\n"
     ]
    },
    {
     "name": "stderr",
     "output_type": "stream",
     "text": [
      "Classifying sentences:   2%|▏         | 22/1000 [00:25<19:06,  1.17s/it]"
     ]
    },
    {
     "name": "stdout",
     "output_type": "stream",
     "text": [
      "New Text: \"oh you saw a king cobra\" - Generated Response: Other\n"
     ]
    },
    {
     "name": "stderr",
     "output_type": "stream",
     "text": [
      "Classifying sentences:   2%|▏         | 23/1000 [00:26<19:18,  1.19s/it]"
     ]
    },
    {
     "name": "stdout",
     "output_type": "stream",
     "text": [
      "New Text: \"picking out some clothes\" - Generated Response: Behavioral\n"
     ]
    },
    {
     "name": "stderr",
     "output_type": "stream",
     "text": [
      "Classifying sentences:   2%|▏         | 24/1000 [00:27<18:17,  1.12s/it]"
     ]
    },
    {
     "name": "stdout",
     "output_type": "stream",
     "text": [
      "New Text: \"it is called Indian corn\" - Generated Response: Other\n"
     ]
    },
    {
     "name": "stderr",
     "output_type": "stream",
     "text": [
      "Classifying sentences:   2%|▎         | 25/1000 [00:28<18:29,  1.14s/it]"
     ]
    },
    {
     "name": "stdout",
     "output_type": "stream",
     "text": [
      "New Text: \"you probably washed them a million times at school didn't you\" - Generated Response: Behavioral\n"
     ]
    },
    {
     "name": "stderr",
     "output_type": "stream",
     "text": [
      "Classifying sentences:   3%|▎         | 26/1000 [00:29<17:55,  1.10s/it]"
     ]
    },
    {
     "name": "stdout",
     "output_type": "stream",
     "text": [
      "New Text: \"stay right there mommy's xxx you\" - Generated Response: Other\n"
     ]
    },
    {
     "name": "stderr",
     "output_type": "stream",
     "text": [
      "Classifying sentences:   3%|▎         | 27/1000 [00:30<17:44,  1.09s/it]"
     ]
    },
    {
     "name": "stdout",
     "output_type": "stream",
     "text": [
      "New Text: \"so she likes water animals\" - Generated Response: Behavioral\n"
     ]
    },
    {
     "name": "stderr",
     "output_type": "stream",
     "text": [
      "Classifying sentences:   3%|▎         | 28/1000 [00:31<16:46,  1.04s/it]"
     ]
    },
    {
     "name": "stdout",
     "output_type": "stream",
     "text": [
      "New Text: \"you wanna hear about how babies are made\" - Generated Response: Biological\n"
     ]
    },
    {
     "name": "stderr",
     "output_type": "stream",
     "text": [
      "Classifying sentences:   3%|▎         | 29/1000 [00:35<31:05,  1.92s/it]"
     ]
    },
    {
     "name": "stdout",
     "output_type": "stream",
     "text": [
      "New Text: \"you wanna see if he has a jacket\" - Generated Response: Other\n"
     ]
    },
    {
     "name": "stderr",
     "output_type": "stream",
     "text": [
      "Classifying sentences:   3%|▎         | 30/1000 [00:36<27:36,  1.71s/it]"
     ]
    },
    {
     "name": "stdout",
     "output_type": "stream",
     "text": [
      "New Text: \"please set the table\" - Generated Response: Behavioral\n"
     ]
    },
    {
     "name": "stderr",
     "output_type": "stream",
     "text": [
      "Classifying sentences:   3%|▎         | 31/1000 [00:37<25:15,  1.56s/it]"
     ]
    },
    {
     "name": "stdout",
     "output_type": "stream",
     "text": [
      "New Text: \"lift the door\" - Generated Response: Behavioral\n"
     ]
    },
    {
     "name": "stderr",
     "output_type": "stream",
     "text": [
      "Classifying sentences:   3%|▎         | 32/1000 [00:39<23:29,  1.46s/it]"
     ]
    },
    {
     "name": "stdout",
     "output_type": "stream",
     "text": [
      "New Text: \"because if you put it in your body you will get too sweet\" - Generated Response: Perceptual\n"
     ]
    },
    {
     "name": "stderr",
     "output_type": "stream",
     "text": [
      "Classifying sentences:   3%|▎         | 33/1000 [00:40<21:59,  1.36s/it]"
     ]
    },
    {
     "name": "stdout",
     "output_type": "stream",
     "text": [
      "New Text: \"perfect said Lumiere a wonderful idea agreed Mrs Pots\" - Generated Response: Other\n"
     ]
    },
    {
     "name": "stderr",
     "output_type": "stream",
     "text": [
      "Classifying sentences:   3%|▎         | 34/1000 [00:41<20:49,  1.29s/it]"
     ]
    },
    {
     "name": "stdout",
     "output_type": "stream",
     "text": [
      "New Text: \"but what's he doing not paying attention\" - Generated Response: Behavioral\n"
     ]
    },
    {
     "name": "stderr",
     "output_type": "stream",
     "text": [
      "Classifying sentences:   4%|▎         | 35/1000 [00:42<21:28,  1.34s/it]"
     ]
    },
    {
     "name": "stdout",
     "output_type": "stream",
     "text": [
      "New Text: \"okay now you can make a fadders on my back\" - Generated Response: Behavioral\n"
     ]
    },
    {
     "name": "stderr",
     "output_type": "stream",
     "text": [
      "Classifying sentences:   4%|▎         | 36/1000 [00:43<20:43,  1.29s/it]"
     ]
    },
    {
     "name": "stdout",
     "output_type": "stream",
     "text": [
      "New Text: \"oh draw around trace around your hand\" - Generated Response: Behavioral\n"
     ]
    },
    {
     "name": "stderr",
     "output_type": "stream",
     "text": [
      "Classifying sentences:   4%|▎         | 37/1000 [00:45<19:58,  1.24s/it]"
     ]
    },
    {
     "name": "stdout",
     "output_type": "stream",
     "text": [
      "New Text: \"they don't have play food\" - Generated Response: Other\n"
     ]
    },
    {
     "name": "stderr",
     "output_type": "stream",
     "text": [
      "Classifying sentences:   4%|▍         | 38/1000 [00:46<18:45,  1.17s/it]"
     ]
    },
    {
     "name": "stdout",
     "output_type": "stream",
     "text": [
      "New Text: \"although last coupla days we saw the moon during the day didn't we\" - Generated Response: Perceptual\n"
     ]
    },
    {
     "name": "stderr",
     "output_type": "stream",
     "text": [
      "Classifying sentences:   4%|▍         | 39/1000 [00:47<18:49,  1.18s/it]"
     ]
    },
    {
     "name": "stdout",
     "output_type": "stream",
     "text": [
      "New Text: \"and they ate their cookies and had some milk\" - Generated Response: Behavioral\n"
     ]
    },
    {
     "name": "stderr",
     "output_type": "stream",
     "text": [
      "Classifying sentences:   4%|▍         | 40/1000 [00:48<19:03,  1.19s/it]"
     ]
    },
    {
     "name": "stdout",
     "output_type": "stream",
     "text": [
      "New Text: \"I can't see but I can hear and it sounds like hm let me listen\" - Generated Response: Perceptual\n"
     ]
    },
    {
     "name": "stderr",
     "output_type": "stream",
     "text": [
      "Classifying sentences:   4%|▍         | 41/1000 [00:49<18:44,  1.17s/it]"
     ]
    },
    {
     "name": "stdout",
     "output_type": "stream",
     "text": [
      "New Text: \"it's a coloring book really\" - Generated Response: Teleological\n"
     ]
    },
    {
     "name": "stderr",
     "output_type": "stream",
     "text": [
      "Classifying sentences:   4%|▍         | 42/1000 [00:51<24:07,  1.51s/it]"
     ]
    },
    {
     "name": "stdout",
     "output_type": "stream",
     "text": [
      "New Text: \"does Daisy need nose drops\" - Generated Response: Biological\n"
     ]
    },
    {
     "name": "stderr",
     "output_type": "stream",
     "text": [
      "Classifying sentences:   4%|▍         | 43/1000 [00:53<22:01,  1.38s/it]"
     ]
    },
    {
     "name": "stdout",
     "output_type": "stream",
     "text": [
      "New Text: \"put the juice here\" - Generated Response: Other\n"
     ]
    },
    {
     "name": "stderr",
     "output_type": "stream",
     "text": [
      "Classifying sentences:   4%|▍         | 44/1000 [00:54<21:16,  1.34s/it]"
     ]
    },
    {
     "name": "stdout",
     "output_type": "stream",
     "text": [
      "New Text: \"do you put on a hat when you go outside\" - Generated Response: Behavioral\n"
     ]
    },
    {
     "name": "stderr",
     "output_type": "stream",
     "text": [
      "Classifying sentences:   4%|▍         | 45/1000 [00:55<20:45,  1.30s/it]"
     ]
    },
    {
     "name": "stdout",
     "output_type": "stream",
     "text": [
      "New Text: \"can you say cock_a_doodle_doo\" - Generated Response: Behavioral\n"
     ]
    },
    {
     "name": "stderr",
     "output_type": "stream",
     "text": [
      "Classifying sentences:   5%|▍         | 46/1000 [00:56<20:14,  1.27s/it]"
     ]
    },
    {
     "name": "stdout",
     "output_type": "stream",
     "text": [
      "New Text: \"um her nightgowns that have buttons in front I hafta to pin closed\" - Generated Response: Perceptual\n"
     ]
    },
    {
     "name": "stderr",
     "output_type": "stream",
     "text": [
      "Classifying sentences:   5%|▍         | 47/1000 [00:57<19:00,  1.20s/it]"
     ]
    },
    {
     "name": "stdout",
     "output_type": "stream",
     "text": [
      "New Text: \"put the baby where\" - Generated Response: Other\n"
     ]
    },
    {
     "name": "stderr",
     "output_type": "stream",
     "text": [
      "Classifying sentences:   5%|▍         | 48/1000 [00:58<18:53,  1.19s/it]"
     ]
    },
    {
     "name": "stdout",
     "output_type": "stream",
     "text": [
      "New Text: \"you wanna put some Cheerios on your spoon\" - Generated Response: Behavioral\n"
     ]
    },
    {
     "name": "stderr",
     "output_type": "stream",
     "text": [
      "Classifying sentences:   5%|▍         | 49/1000 [01:00<18:36,  1.17s/it]"
     ]
    },
    {
     "name": "stdout",
     "output_type": "stream",
     "text": [
      "New Text: \"pizza for some reason they love I don't know why\" - Generated Response: Behavioral\n"
     ]
    },
    {
     "name": "stderr",
     "output_type": "stream",
     "text": [
      "Classifying sentences:   5%|▌         | 50/1000 [01:01<18:17,  1.16s/it]"
     ]
    },
    {
     "name": "stdout",
     "output_type": "stream",
     "text": [
      "New Text: \"well Peter it looks like Peter is trying to help her get out\" - Generated Response: Behavioral\n"
     ]
    },
    {
     "name": "stderr",
     "output_type": "stream",
     "text": [
      "Classifying sentences:   5%|▌         | 51/1000 [01:02<18:33,  1.17s/it]"
     ]
    },
    {
     "name": "stdout",
     "output_type": "stream",
     "text": [
      "New Text: \"I think the bagels are all_gone Nathaniel\" - Generated Response: Other\n"
     ]
    },
    {
     "name": "stderr",
     "output_type": "stream",
     "text": [
      "Classifying sentences:   5%|▌         | 52/1000 [01:03<18:43,  1.19s/it]"
     ]
    },
    {
     "name": "stdout",
     "output_type": "stream",
     "text": [
      "New Text: \"you need a tissue\" - Generated Response: Teleological\n"
     ]
    },
    {
     "name": "stderr",
     "output_type": "stream",
     "text": [
      "Classifying sentences:   5%|▌         | 53/1000 [01:04<18:02,  1.14s/it]"
     ]
    },
    {
     "name": "stdout",
     "output_type": "stream",
     "text": [
      "New Text: \"anything that's not a toy it's th that's where we wanna go\" - Generated Response: Other\n"
     ]
    },
    {
     "name": "stderr",
     "output_type": "stream",
     "text": [
      "Classifying sentences:   5%|▌         | 54/1000 [01:05<18:24,  1.17s/it]"
     ]
    },
    {
     "name": "stdout",
     "output_type": "stream",
     "text": [
      "New Text: \"who can fix a bike\" - Generated Response: Behavioral\n"
     ]
    },
    {
     "name": "stderr",
     "output_type": "stream",
     "text": [
      "Classifying sentences:   6%|▌         | 55/1000 [01:06<18:11,  1.16s/it]"
     ]
    },
    {
     "name": "stdout",
     "output_type": "stream",
     "text": [
      "New Text: \"you wanna put it in your mouth\" - Generated Response: Behavioral\n"
     ]
    },
    {
     "name": "stderr",
     "output_type": "stream",
     "text": [
      "Classifying sentences:   6%|▌         | 56/1000 [01:08<17:59,  1.14s/it]"
     ]
    },
    {
     "name": "stdout",
     "output_type": "stream",
     "text": [
      "New Text: \"where the caterpillar where was the caterpillar born at\" - Generated Response: Other\n"
     ]
    },
    {
     "name": "stderr",
     "output_type": "stream",
     "text": [
      "Classifying sentences:   6%|▌         | 57/1000 [01:11<27:35,  1.76s/it]"
     ]
    },
    {
     "name": "stdout",
     "output_type": "stream",
     "text": [
      "New Text: \"oh why hit the elephant he's just\" - Generated Response: Behavioral\n"
     ]
    },
    {
     "name": "stderr",
     "output_type": "stream",
     "text": [
      "Classifying sentences:   6%|▌         | 58/1000 [01:12<24:28,  1.56s/it]"
     ]
    },
    {
     "name": "stdout",
     "output_type": "stream",
     "text": [
      "New Text: \"what should we put in our soup\" - Generated Response: Other\n"
     ]
    },
    {
     "name": "stderr",
     "output_type": "stream",
     "text": [
      "Classifying sentences:   6%|▌         | 59/1000 [01:13<22:32,  1.44s/it]"
     ]
    },
    {
     "name": "stdout",
     "output_type": "stream",
     "text": [
      "New Text: \"well you'd hafta know something about know something about electronics you know\" - Generated Response: Other\n"
     ]
    },
    {
     "name": "stderr",
     "output_type": "stream",
     "text": [
      "Classifying sentences:   6%|▌         | 60/1000 [01:14<22:00,  1.41s/it]"
     ]
    },
    {
     "name": "stdout",
     "output_type": "stream",
     "text": [
      "New Text: \"that looks like it's part of the tail too doesn't it\" - Generated Response: Perceptual\n"
     ]
    },
    {
     "name": "stderr",
     "output_type": "stream",
     "text": [
      "Classifying sentences:   6%|▌         | 61/1000 [01:16<21:38,  1.38s/it]"
     ]
    },
    {
     "name": "stdout",
     "output_type": "stream",
     "text": [
      "New Text: \"we hafta listen to the bottle\" - Generated Response: Behavioral\n"
     ]
    },
    {
     "name": "stderr",
     "output_type": "stream",
     "text": [
      "Classifying sentences:   6%|▌         | 62/1000 [01:17<21:43,  1.39s/it]"
     ]
    },
    {
     "name": "stdout",
     "output_type": "stream",
     "text": [
      "New Text: \"tomorrow we're supposed to go to the play+ground for a big school picnic\" - Generated Response: Social\n"
     ]
    },
    {
     "name": "stderr",
     "output_type": "stream",
     "text": [
      "Classifying sentences:   6%|▋         | 63/1000 [01:18<20:47,  1.33s/it]"
     ]
    },
    {
     "name": "stdout",
     "output_type": "stream",
     "text": [
      "New Text: \"well what would happen if Mommy had a baby\" - Generated Response: Other\n"
     ]
    },
    {
     "name": "stderr",
     "output_type": "stream",
     "text": [
      "Classifying sentences:   6%|▋         | 64/1000 [01:20<20:34,  1.32s/it]"
     ]
    },
    {
     "name": "stdout",
     "output_type": "stream",
     "text": [
      "New Text: \"then eat that ham\" - Generated Response: Behavioral\n"
     ]
    },
    {
     "name": "stderr",
     "output_type": "stream",
     "text": [
      "Classifying sentences:   6%|▋         | 65/1000 [01:21<19:39,  1.26s/it]"
     ]
    },
    {
     "name": "stdout",
     "output_type": "stream",
     "text": [
      "New Text: \"there's some mail Abe\" - Generated Response: Other\n"
     ]
    },
    {
     "name": "stderr",
     "output_type": "stream",
     "text": [
      "Classifying sentences:   7%|▋         | 66/1000 [01:22<19:29,  1.25s/it]"
     ]
    },
    {
     "name": "stdout",
     "output_type": "stream",
     "text": [
      "New Text: \"Jwww made us a pet rock\" - Generated Response: Teleological\n"
     ]
    },
    {
     "name": "stderr",
     "output_type": "stream",
     "text": [
      "Classifying sentences:   7%|▋         | 67/1000 [01:23<19:21,  1.24s/it]"
     ]
    },
    {
     "name": "stdout",
     "output_type": "stream",
     "text": [
      "New Text: \"sweep sweep sweep\" - Generated Response: Behavioral\n"
     ]
    },
    {
     "name": "stderr",
     "output_type": "stream",
     "text": [
      "Classifying sentences:   7%|▋         | 68/1000 [01:24<18:46,  1.21s/it]"
     ]
    },
    {
     "name": "stdout",
     "output_type": "stream",
     "text": [
      "New Text: \"where'd baa baa black sheep go is that in here\" - Generated Response: Other\n"
     ]
    },
    {
     "name": "stderr",
     "output_type": "stream",
     "text": [
      "Classifying sentences:   7%|▋         | 69/1000 [01:25<17:53,  1.15s/it]"
     ]
    },
    {
     "name": "stdout",
     "output_type": "stream",
     "text": [
      "New Text: \"tell Mister bunny\" - Generated Response: Behavioral\n"
     ]
    },
    {
     "name": "stderr",
     "output_type": "stream",
     "text": [
      "Classifying sentences:   7%|▋         | 70/1000 [01:26<17:16,  1.11s/it]"
     ]
    },
    {
     "name": "stdout",
     "output_type": "stream",
     "text": [
      "New Text: \"have you ever held a pineapple\" - Generated Response: Perceptual\n"
     ]
    },
    {
     "name": "stderr",
     "output_type": "stream",
     "text": [
      "Classifying sentences:   7%|▋         | 71/1000 [01:27<16:50,  1.09s/it]"
     ]
    },
    {
     "name": "stdout",
     "output_type": "stream",
     "text": [
      "New Text: \"Paul can put his finger through mommy's ring\" - Generated Response: Behavioral\n"
     ]
    },
    {
     "name": "stderr",
     "output_type": "stream",
     "text": [
      "Classifying sentences:   7%|▋         | 72/1000 [01:28<16:31,  1.07s/it]"
     ]
    },
    {
     "name": "stdout",
     "output_type": "stream",
     "text": [
      "New Text: \"she's teaching them to keep a safe distance from bikes and scooters and other things with wheels\" - Generated Response: Behavioral\n"
     ]
    },
    {
     "name": "stderr",
     "output_type": "stream",
     "text": [
      "Classifying sentences:   7%|▋         | 73/1000 [01:29<16:18,  1.06s/it]"
     ]
    },
    {
     "name": "stdout",
     "output_type": "stream",
     "text": [
      "New Text: \"there's a string\" - Generated Response: Other\n"
     ]
    },
    {
     "name": "stderr",
     "output_type": "stream",
     "text": [
      "Classifying sentences:   7%|▋         | 74/1000 [01:30<16:08,  1.05s/it]"
     ]
    },
    {
     "name": "stdout",
     "output_type": "stream",
     "text": [
      "New Text: \"remember press and pull\" - Generated Response: Behavioral\n"
     ]
    },
    {
     "name": "stderr",
     "output_type": "stream",
     "text": [
      "Classifying sentences:   8%|▊         | 75/1000 [01:31<15:32,  1.01s/it]"
     ]
    },
    {
     "name": "stdout",
     "output_type": "stream",
     "text": [
      "New Text: \"want the car\" - Generated Response: Other\n"
     ]
    },
    {
     "name": "stderr",
     "output_type": "stream",
     "text": [
      "Classifying sentences:   8%|▊         | 76/1000 [01:32<15:12,  1.01it/s]"
     ]
    },
    {
     "name": "stdout",
     "output_type": "stream",
     "text": [
      "New Text: \"he likes to make noise\" - Generated Response: Behavioral\n"
     ]
    },
    {
     "name": "stderr",
     "output_type": "stream",
     "text": [
      "Classifying sentences:   8%|▊         | 77/1000 [01:33<14:59,  1.03it/s]"
     ]
    },
    {
     "name": "stdout",
     "output_type": "stream",
     "text": [
      "New Text: \"I'll sleep but you better read me a nice story\" - Generated Response: Behavioral\n"
     ]
    },
    {
     "name": "stderr",
     "output_type": "stream",
     "text": [
      "Classifying sentences:   8%|▊         | 78/1000 [01:35<17:18,  1.13s/it]"
     ]
    },
    {
     "name": "stdout",
     "output_type": "stream",
     "text": [
      "New Text: \"don't you get in my way\" - Generated Response: Social\n"
     ]
    },
    {
     "name": "stderr",
     "output_type": "stream",
     "text": [
      "Classifying sentences:   8%|▊         | 79/1000 [01:36<17:22,  1.13s/it]"
     ]
    },
    {
     "name": "stdout",
     "output_type": "stream",
     "text": [
      "New Text: \"you see them trees over there\" - Generated Response: Perceptual\n"
     ]
    },
    {
     "name": "stderr",
     "output_type": "stream",
     "text": [
      "Classifying sentences:   8%|▊         | 80/1000 [01:37<16:51,  1.10s/it]"
     ]
    },
    {
     "name": "stdout",
     "output_type": "stream",
     "text": [
      "New Text: \"what's his hair called around his neck\" - Generated Response: Biological\n"
     ]
    },
    {
     "name": "stderr",
     "output_type": "stream",
     "text": [
      "Classifying sentences:   8%|▊         | 81/1000 [01:38<16:29,  1.08s/it]"
     ]
    },
    {
     "name": "stdout",
     "output_type": "stream",
     "text": [
      "New Text: \"because we've started breakfast now\" - Generated Response: Behavioral\n"
     ]
    },
    {
     "name": "stderr",
     "output_type": "stream",
     "text": [
      "Classifying sentences:   8%|▊         | 82/1000 [01:39<16:13,  1.06s/it]"
     ]
    },
    {
     "name": "stdout",
     "output_type": "stream",
     "text": [
      "New Text: \"you want the cup\" - Generated Response: Other\n"
     ]
    },
    {
     "name": "stderr",
     "output_type": "stream",
     "text": [
      "Classifying sentences:   8%|▊         | 83/1000 [01:40<16:02,  1.05s/it]"
     ]
    },
    {
     "name": "stdout",
     "output_type": "stream",
     "text": [
      "New Text: \"who lives in that house\" - Generated Response: Social\n"
     ]
    },
    {
     "name": "stderr",
     "output_type": "stream",
     "text": [
      "Classifying sentences:   8%|▊         | 84/1000 [01:41<15:54,  1.04s/it]"
     ]
    },
    {
     "name": "stdout",
     "output_type": "stream",
     "text": [
      "New Text: \"they uh seem to have fallen by the side of the w the road there\" - Generated Response: Behavioral\n"
     ]
    },
    {
     "name": "stderr",
     "output_type": "stream",
     "text": [
      "Classifying sentences:   8%|▊         | 85/1000 [01:42<15:50,  1.04s/it]"
     ]
    },
    {
     "name": "stdout",
     "output_type": "stream",
     "text": [
      "New Text: \"do you wanna do head shoulders knees and toes\" - Generated Response: Behavioral\n"
     ]
    },
    {
     "name": "stderr",
     "output_type": "stream",
     "text": [
      "Classifying sentences:   9%|▊         | 86/1000 [01:43<15:43,  1.03s/it]"
     ]
    },
    {
     "name": "stdout",
     "output_type": "stream",
     "text": [
      "New Text: \"then I'd keep swimming until I would see\" - Generated Response: Behavioral\n"
     ]
    },
    {
     "name": "stderr",
     "output_type": "stream",
     "text": [
      "Classifying sentences:   9%|▊         | 87/1000 [01:44<15:40,  1.03s/it]"
     ]
    },
    {
     "name": "stdout",
     "output_type": "stream",
     "text": [
      "New Text: \"if you're happy and you know it shout out loud yay\" - Generated Response: Behavioral\n"
     ]
    },
    {
     "name": "stderr",
     "output_type": "stream",
     "text": [
      "Classifying sentences:   9%|▉         | 88/1000 [01:45<15:37,  1.03s/it]"
     ]
    },
    {
     "name": "stdout",
     "output_type": "stream",
     "text": [
      "New Text: \"you know what Asher there's so much other stuff to play with too did you see the dolls over here\" - Generated Response: Behavioral\n"
     ]
    },
    {
     "name": "stderr",
     "output_type": "stream",
     "text": [
      "Classifying sentences:   9%|▉         | 89/1000 [01:46<15:35,  1.03s/it]"
     ]
    },
    {
     "name": "stdout",
     "output_type": "stream",
     "text": [
      "New Text: \"you wanna see the baby again\" - Generated Response: Other\n"
     ]
    },
    {
     "name": "stderr",
     "output_type": "stream",
     "text": [
      "Classifying sentences:   9%|▉         | 90/1000 [01:47<15:33,  1.03s/it]"
     ]
    },
    {
     "name": "stdout",
     "output_type": "stream",
     "text": [
      "New Text: \"want me to finish reading\" - Generated Response: Behavioral\n"
     ]
    },
    {
     "name": "stderr",
     "output_type": "stream",
     "text": [
      "Classifying sentences:   9%|▉         | 91/1000 [01:48<15:32,  1.03s/it]"
     ]
    },
    {
     "name": "stdout",
     "output_type": "stream",
     "text": [
      "New Text: \"there was no all the animals I didn't know what noise they made\" - Generated Response: Other\n"
     ]
    },
    {
     "name": "stderr",
     "output_type": "stream",
     "text": [
      "Classifying sentences:   9%|▉         | 92/1000 [01:49<16:26,  1.09s/it]"
     ]
    },
    {
     "name": "stdout",
     "output_type": "stream",
     "text": [
      "New Text: \"we're runninouta things to do because it's too hot to go outside\" - Generated Response: Perceptual\n"
     ]
    },
    {
     "name": "stderr",
     "output_type": "stream",
     "text": [
      "Classifying sentences:   9%|▉         | 93/1000 [01:50<16:09,  1.07s/it]"
     ]
    },
    {
     "name": "stdout",
     "output_type": "stream",
     "text": [
      "New Text: \"is that what you do do you eat buttons\" - Generated Response: Behavioral\n"
     ]
    },
    {
     "name": "stderr",
     "output_type": "stream",
     "text": [
      "Classifying sentences:   9%|▉         | 94/1000 [01:51<15:55,  1.05s/it]"
     ]
    },
    {
     "name": "stdout",
     "output_type": "stream",
     "text": [
      "New Text: \"let's put the chair back over at the table\" - Generated Response: Teleological\n"
     ]
    },
    {
     "name": "stderr",
     "output_type": "stream",
     "text": [
      "Classifying sentences:  10%|▉         | 95/1000 [01:52<15:46,  1.05s/it]"
     ]
    },
    {
     "name": "stdout",
     "output_type": "stream",
     "text": [
      "New Text: \"there's a special way to put them in\" - Generated Response: Teleological\n"
     ]
    },
    {
     "name": "stderr",
     "output_type": "stream",
     "text": [
      "Classifying sentences:  10%|▉         | 96/1000 [01:53<15:11,  1.01s/it]"
     ]
    },
    {
     "name": "stdout",
     "output_type": "stream",
     "text": [
      "New Text: \"ugh can't stand this xxx\" - Generated Response: Other\n"
     ]
    },
    {
     "name": "stderr",
     "output_type": "stream",
     "text": [
      "Classifying sentences:  10%|▉         | 97/1000 [01:54<15:42,  1.04s/it]"
     ]
    },
    {
     "name": "stdout",
     "output_type": "stream",
     "text": [
      "New Text: \"and get some orange juice\" - Generated Response: Behavioral\n"
     ]
    },
    {
     "name": "stderr",
     "output_type": "stream",
     "text": [
      "Classifying sentences:  10%|▉         | 98/1000 [01:56<15:36,  1.04s/it]"
     ]
    },
    {
     "name": "stdout",
     "output_type": "stream",
     "text": [
      "New Text: \"where'd the fishies go\" - Generated Response: Other\n"
     ]
    },
    {
     "name": "stderr",
     "output_type": "stream",
     "text": [
      "Classifying sentences:  10%|▉         | 99/1000 [01:56<15:00,  1.00it/s]"
     ]
    },
    {
     "name": "stdout",
     "output_type": "stream",
     "text": [
      "New Text: \"Roman why don't you tell us about when you went to the big red house\" - Generated Response: Other\n"
     ]
    },
    {
     "name": "stderr",
     "output_type": "stream",
     "text": [
      "Classifying sentences:  10%|█         | 100/1000 [01:57<14:42,  1.02it/s]"
     ]
    },
    {
     "name": "stdout",
     "output_type": "stream",
     "text": [
      "New Text: \"on Tuesday he ate through two pears but he was still hungry\" - Generated Response: Behavioral\n"
     ]
    },
    {
     "name": "stderr",
     "output_type": "stream",
     "text": [
      "Classifying sentences:  10%|█         | 101/1000 [01:58<14:33,  1.03it/s]"
     ]
    },
    {
     "name": "stdout",
     "output_type": "stream",
     "text": [
      "New Text: \"well I'll find it in a minute\" - Generated Response: Behavioral\n"
     ]
    },
    {
     "name": "stderr",
     "output_type": "stream",
     "text": [
      "Classifying sentences:  10%|█         | 102/1000 [01:59<14:38,  1.02it/s]"
     ]
    },
    {
     "name": "stdout",
     "output_type": "stream",
     "text": [
      "New Text: \"we could build home for a bunny\" - Generated Response: Behavioral\n"
     ]
    },
    {
     "name": "stderr",
     "output_type": "stream",
     "text": [
      "Classifying sentences:  10%|█         | 103/1000 [02:00<14:49,  1.01it/s]"
     ]
    },
    {
     "name": "stdout",
     "output_type": "stream",
     "text": [
      "New Text: \"did it help her tummy\" - Generated Response: Biological\n"
     ]
    },
    {
     "name": "stderr",
     "output_type": "stream",
     "text": [
      "Classifying sentences:  10%|█         | 104/1000 [02:01<14:56,  1.00s/it]"
     ]
    },
    {
     "name": "stdout",
     "output_type": "stream",
     "text": [
      "New Text: \"put your hands together\" - Generated Response: Behavioral\n"
     ]
    },
    {
     "name": "stderr",
     "output_type": "stream",
     "text": [
      "Classifying sentences:  10%|█         | 105/1000 [02:02<15:00,  1.01s/it]"
     ]
    },
    {
     "name": "stdout",
     "output_type": "stream",
     "text": [
      "New Text: \"and you can look through it xxx\" - Generated Response: Teleological\n"
     ]
    },
    {
     "name": "stderr",
     "output_type": "stream",
     "text": [
      "Classifying sentences:  11%|█         | 106/1000 [02:03<15:05,  1.01s/it]"
     ]
    },
    {
     "name": "stdout",
     "output_type": "stream",
     "text": [
      "New Text: \"and the flying rings\" - Generated Response: Other\n"
     ]
    },
    {
     "name": "stderr",
     "output_type": "stream",
     "text": [
      "Classifying sentences:  11%|█         | 107/1000 [02:04<15:07,  1.02s/it]"
     ]
    },
    {
     "name": "stdout",
     "output_type": "stream",
     "text": [
      "New Text: \"oh you can see where the water is showing through on the other side mm\" - Generated Response: Perceptual\n"
     ]
    },
    {
     "name": "stderr",
     "output_type": "stream",
     "text": [
      "Classifying sentences:  11%|█         | 108/1000 [02:05<15:08,  1.02s/it]"
     ]
    },
    {
     "name": "stdout",
     "output_type": "stream",
     "text": [
      "New Text: \"what trouble can I get into next ahuh\" - Generated Response: Behavioral\n"
     ]
    },
    {
     "name": "stderr",
     "output_type": "stream",
     "text": [
      "Classifying sentences:  11%|█         | 109/1000 [02:06<15:10,  1.02s/it]"
     ]
    },
    {
     "name": "stdout",
     "output_type": "stream",
     "text": [
      "New Text: \"you going to make something with a blue piece of clay\" - Generated Response: Behavioral\n"
     ]
    },
    {
     "name": "stderr",
     "output_type": "stream",
     "text": [
      "Classifying sentences:  11%|█         | 110/1000 [02:07<15:08,  1.02s/it]"
     ]
    },
    {
     "name": "stdout",
     "output_type": "stream",
     "text": [
      "New Text: \"why don't you put one animal on top of the bucket\" - Generated Response: Behavioral\n"
     ]
    },
    {
     "name": "stderr",
     "output_type": "stream",
     "text": [
      "Classifying sentences:  11%|█         | 111/1000 [02:08<15:02,  1.02s/it]"
     ]
    },
    {
     "name": "stdout",
     "output_type": "stream",
     "text": [
      "New Text: \"do you wanna make the pumpkin into a pumpkin pie\" - Generated Response: Teleological\n"
     ]
    },
    {
     "name": "stderr",
     "output_type": "stream",
     "text": [
      "Classifying sentences:  11%|█         | 112/1000 [02:10<15:09,  1.02s/it]"
     ]
    },
    {
     "name": "stdout",
     "output_type": "stream",
     "text": [
      "New Text: \"um but I don't think that he has a favorite color yet\" - Generated Response: Other\n"
     ]
    },
    {
     "name": "stderr",
     "output_type": "stream",
     "text": [
      "Classifying sentences:  11%|█▏        | 113/1000 [02:11<15:08,  1.02s/it]"
     ]
    },
    {
     "name": "stdout",
     "output_type": "stream",
     "text": [
      "New Text: \"xxx putting it in xxx\" - Generated Response: Behavioral\n"
     ]
    },
    {
     "name": "stderr",
     "output_type": "stream",
     "text": [
      "Classifying sentences:  11%|█▏        | 114/1000 [02:12<15:08,  1.02s/it]"
     ]
    },
    {
     "name": "stdout",
     "output_type": "stream",
     "text": [
      "New Text: \"here's my crash helmet said DW\" - Generated Response: Other\n"
     ]
    },
    {
     "name": "stderr",
     "output_type": "stream",
     "text": [
      "Classifying sentences:  12%|█▏        | 115/1000 [02:13<16:27,  1.12s/it]"
     ]
    },
    {
     "name": "stdout",
     "output_type": "stream",
     "text": [
      "New Text: \"you know what this is actually the surface of the moon and they're looking at Earth\" - Generated Response: Perceptual\n"
     ]
    },
    {
     "name": "stderr",
     "output_type": "stream",
     "text": [
      "Classifying sentences:  12%|█▏        | 116/1000 [02:14<16:02,  1.09s/it]"
     ]
    },
    {
     "name": "stdout",
     "output_type": "stream",
     "text": [
      "New Text: \"what if your teacher says\" - Generated Response: Other\n"
     ]
    },
    {
     "name": "stderr",
     "output_type": "stream",
     "text": [
      "Classifying sentences:  12%|█▏        | 117/1000 [02:15<15:44,  1.07s/it]"
     ]
    },
    {
     "name": "stdout",
     "output_type": "stream",
     "text": [
      "New Text: \"xxx come on xxx give your little brother a kiss now\" - Generated Response: Behavioral\n"
     ]
    },
    {
     "name": "stderr",
     "output_type": "stream",
     "text": [
      "Classifying sentences:  12%|█▏        | 118/1000 [02:16<15:30,  1.06s/it]"
     ]
    },
    {
     "name": "stdout",
     "output_type": "stream",
     "text": [
      "New Text: \"it looks like an airplane that's right\" - Generated Response: Perceptual\n"
     ]
    },
    {
     "name": "stderr",
     "output_type": "stream",
     "text": [
      "Classifying sentences:  12%|█▏        | 119/1000 [02:17<15:01,  1.02s/it]"
     ]
    },
    {
     "name": "stdout",
     "output_type": "stream",
     "text": [
      "New Text: \"Brett nobody's feet can fall in the toilet if they're sitting on the toilet\" - Generated Response: Other\n"
     ]
    },
    {
     "name": "stderr",
     "output_type": "stream",
     "text": [
      "Classifying sentences:  12%|█▏        | 120/1000 [02:18<15:11,  1.04s/it]"
     ]
    },
    {
     "name": "stdout",
     "output_type": "stream",
     "text": [
      "New Text: \"we hafta leave them on top\" - Generated Response: Behavioral\n"
     ]
    },
    {
     "name": "stderr",
     "output_type": "stream",
     "text": [
      "Classifying sentences:  12%|█▏        | 121/1000 [02:19<14:38,  1.00it/s]"
     ]
    },
    {
     "name": "stdout",
     "output_type": "stream",
     "text": [
      "New Text: \"just like this one you wanna put it in it goes underneath the G\" - Generated Response: Other\n"
     ]
    },
    {
     "name": "stderr",
     "output_type": "stream",
     "text": [
      "Classifying sentences:  12%|█▏        | 122/1000 [02:20<14:20,  1.02it/s]"
     ]
    },
    {
     "name": "stdout",
     "output_type": "stream",
     "text": [
      "New Text: \"Honey those aren't toys\" - Generated Response: Teleological\n"
     ]
    },
    {
     "name": "stderr",
     "output_type": "stream",
     "text": [
      "Classifying sentences:  12%|█▏        | 123/1000 [02:21<14:23,  1.02it/s]"
     ]
    },
    {
     "name": "stdout",
     "output_type": "stream",
     "text": [
      "New Text: \"like I said I like anything sweet you know\" - Generated Response: Perceptual\n"
     ]
    },
    {
     "name": "stderr",
     "output_type": "stream",
     "text": [
      "Classifying sentences:  12%|█▏        | 124/1000 [02:22<14:47,  1.01s/it]"
     ]
    },
    {
     "name": "stdout",
     "output_type": "stream",
     "text": [
      "New Text: \"But seeing all the wrinkles it seems like it's an older elephant\" - Generated Response: Perceptual\n"
     ]
    },
    {
     "name": "stderr",
     "output_type": "stream",
     "text": [
      "Classifying sentences:  12%|█▎        | 125/1000 [02:23<14:49,  1.02s/it]"
     ]
    },
    {
     "name": "stdout",
     "output_type": "stream",
     "text": [
      "New Text: \"just like the tire there it goes\" - Generated Response: Behavioral\n"
     ]
    },
    {
     "name": "stderr",
     "output_type": "stream",
     "text": [
      "Classifying sentences:  13%|█▎        | 126/1000 [02:24<15:05,  1.04s/it]"
     ]
    },
    {
     "name": "stdout",
     "output_type": "stream",
     "text": [
      "New Text: \"there's a couple pieces here on the bridge that you have to glue\" - Generated Response: Teleological\n"
     ]
    },
    {
     "name": "stderr",
     "output_type": "stream",
     "text": [
      "Classifying sentences:  13%|█▎        | 127/1000 [02:25<15:13,  1.05s/it]"
     ]
    },
    {
     "name": "stdout",
     "output_type": "stream",
     "text": [
      "New Text: \"you want that pillow\" - Generated Response: Other\n"
     ]
    },
    {
     "name": "stderr",
     "output_type": "stream",
     "text": [
      "Classifying sentences:  13%|█▎        | 128/1000 [02:26<15:33,  1.07s/it]"
     ]
    },
    {
     "name": "stdout",
     "output_type": "stream",
     "text": [
      "New Text: \"ya mean so_that you can lie on them and and roll under\" - Generated Response: Teleological\n"
     ]
    },
    {
     "name": "stderr",
     "output_type": "stream",
     "text": [
      "Classifying sentences:  13%|█▎        | 129/1000 [02:27<15:08,  1.04s/it]"
     ]
    },
    {
     "name": "stdout",
     "output_type": "stream",
     "text": [
      "New Text: \"we can go play store\" - Generated Response: Behavioral\n"
     ]
    },
    {
     "name": "stderr",
     "output_type": "stream",
     "text": [
      "Classifying sentences:  13%|█▎        | 130/1000 [02:28<15:13,  1.05s/it]"
     ]
    },
    {
     "name": "stdout",
     "output_type": "stream",
     "text": [
      "New Text: \"do they go in the field maybe\" - Generated Response: Behavioral\n"
     ]
    },
    {
     "name": "stderr",
     "output_type": "stream",
     "text": [
      "Classifying sentences:  13%|█▎        | 131/1000 [02:29<15:05,  1.04s/it]"
     ]
    },
    {
     "name": "stdout",
     "output_type": "stream",
     "text": [
      "New Text: \"I don't think that's a good idea\" - Generated Response: Other\n"
     ]
    },
    {
     "name": "stderr",
     "output_type": "stream",
     "text": [
      "Classifying sentences:  13%|█▎        | 132/1000 [02:30<14:34,  1.01s/it]"
     ]
    },
    {
     "name": "stdout",
     "output_type": "stream",
     "text": [
      "New Text: \"well the kids aren't old enough to drive are they\" - Generated Response: Social\n"
     ]
    },
    {
     "name": "stderr",
     "output_type": "stream",
     "text": [
      "Classifying sentences:  13%|█▎        | 133/1000 [02:31<14:36,  1.01s/it]"
     ]
    },
    {
     "name": "stdout",
     "output_type": "stream",
     "text": [
      "New Text: \"is mommy cutting your hair\" - Generated Response: Behavioral\n"
     ]
    },
    {
     "name": "stderr",
     "output_type": "stream",
     "text": [
      "Classifying sentences:  13%|█▎        | 134/1000 [02:32<14:54,  1.03s/it]"
     ]
    },
    {
     "name": "stdout",
     "output_type": "stream",
     "text": [
      "New Text: \"hear the rain coming down\" - Generated Response: Perceptual\n"
     ]
    },
    {
     "name": "stderr",
     "output_type": "stream",
     "text": [
      "Classifying sentences:  14%|█▎        | 135/1000 [02:33<15:08,  1.05s/it]"
     ]
    },
    {
     "name": "stdout",
     "output_type": "stream",
     "text": [
      "New Text: \"tells me which way to go in the car\" - Generated Response: Behavioral\n"
     ]
    },
    {
     "name": "stderr",
     "output_type": "stream",
     "text": [
      "Classifying sentences:  14%|█▎        | 136/1000 [02:34<14:54,  1.04s/it]"
     ]
    },
    {
     "name": "stdout",
     "output_type": "stream",
     "text": [
      "New Text: \"watch watch xxx xxx\" - Generated Response: Other\n"
     ]
    },
    {
     "name": "stderr",
     "output_type": "stream",
     "text": [
      "Classifying sentences:  14%|█▎        | 137/1000 [02:37<21:54,  1.52s/it]"
     ]
    },
    {
     "name": "stdout",
     "output_type": "stream",
     "text": [
      "New Text: \"what were they doing the tigers and the lions what were they doing\" - Generated Response: Behavioral\n"
     ]
    },
    {
     "name": "stderr",
     "output_type": "stream",
     "text": [
      "Classifying sentences:  14%|█▍        | 138/1000 [02:38<19:28,  1.36s/it]"
     ]
    },
    {
     "name": "stdout",
     "output_type": "stream",
     "text": [
      "New Text: \"he's playing peek a boo\" - Generated Response: Behavioral\n"
     ]
    },
    {
     "name": "stderr",
     "output_type": "stream",
     "text": [
      "Classifying sentences:  14%|█▍        | 139/1000 [02:39<18:17,  1.27s/it]"
     ]
    },
    {
     "name": "stdout",
     "output_type": "stream",
     "text": [
      "New Text: \"they're fixing the car\" - Generated Response: Behavioral\n"
     ]
    },
    {
     "name": "stderr",
     "output_type": "stream",
     "text": [
      "Classifying sentences:  14%|█▍        | 140/1000 [02:40<17:10,  1.20s/it]"
     ]
    },
    {
     "name": "stdout",
     "output_type": "stream",
     "text": [
      "New Text: \"because I just I just knocked the car of this and she kinda muttered to herself slowly\" - Generated Response: Other\n"
     ]
    },
    {
     "name": "stderr",
     "output_type": "stream",
     "text": [
      "Classifying sentences:  14%|█▍        | 141/1000 [02:41<16:50,  1.18s/it]"
     ]
    },
    {
     "name": "stdout",
     "output_type": "stream",
     "text": [
      "New Text: \"you'll hafta find all the places where there are any c_ds\" - Generated Response: Other\n"
     ]
    },
    {
     "name": "stderr",
     "output_type": "stream",
     "text": [
      "Classifying sentences:  14%|█▍        | 142/1000 [02:42<16:37,  1.16s/it]"
     ]
    },
    {
     "name": "stdout",
     "output_type": "stream",
     "text": [
      "New Text: \"put your fingers in your mouth\" - Generated Response: Behavioral\n"
     ]
    },
    {
     "name": "stderr",
     "output_type": "stream",
     "text": [
      "Classifying sentences:  14%|█▍        | 143/1000 [02:43<16:16,  1.14s/it]"
     ]
    },
    {
     "name": "stdout",
     "output_type": "stream",
     "text": [
      "New Text: \"what happened to your ears with the little birdies\" - Generated Response: Other\n"
     ]
    },
    {
     "name": "stderr",
     "output_type": "stream",
     "text": [
      "Classifying sentences:  14%|█▍        | 144/1000 [02:45<16:20,  1.15s/it]"
     ]
    },
    {
     "name": "stdout",
     "output_type": "stream",
     "text": [
      "New Text: \"don't cut your finger\" - Generated Response: Behavioral\n"
     ]
    },
    {
     "name": "stderr",
     "output_type": "stream",
     "text": [
      "Classifying sentences:  14%|█▍        | 145/1000 [02:46<16:16,  1.14s/it]"
     ]
    },
    {
     "name": "stdout",
     "output_type": "stream",
     "text": [
      "New Text: \"move on back the driver on the bus says move on back\" - Generated Response: Behavioral\n"
     ]
    },
    {
     "name": "stderr",
     "output_type": "stream",
     "text": [
      "Classifying sentences:  15%|█▍        | 146/1000 [02:47<15:43,  1.11s/it]"
     ]
    },
    {
     "name": "stdout",
     "output_type": "stream",
     "text": [
      "New Text: \"well why don't you use your fork Jenny\" - Generated Response: Teleological\n"
     ]
    },
    {
     "name": "stderr",
     "output_type": "stream",
     "text": [
      "Classifying sentences:  15%|█▍        | 147/1000 [02:48<15:49,  1.11s/it]"
     ]
    },
    {
     "name": "stdout",
     "output_type": "stream",
     "text": [
      "New Text: \"do dogs get cold asked Sam no dogs wear fur coats do birds get goose bumps asked Sam no birds wear snow boots like mine yes only much smaller said Stella\" - Generated Response: Biological\n"
     ]
    },
    {
     "name": "stderr",
     "output_type": "stream",
     "text": [
      "Classifying sentences:  15%|█▍        | 148/1000 [02:49<15:25,  1.09s/it]"
     ]
    },
    {
     "name": "stdout",
     "output_type": "stream",
     "text": [
      "New Text: \"okay lets see\" - Generated Response: Other\n"
     ]
    },
    {
     "name": "stderr",
     "output_type": "stream",
     "text": [
      "Classifying sentences:  15%|█▍        | 149/1000 [02:50<15:35,  1.10s/it]"
     ]
    },
    {
     "name": "stdout",
     "output_type": "stream",
     "text": [
      "New Text: \"we wanna eat you and the gingerbread man laughed and called out again\" - Generated Response: Behavioral\n"
     ]
    },
    {
     "name": "stderr",
     "output_type": "stream",
     "text": [
      "Classifying sentences:  15%|█▌        | 150/1000 [02:51<15:29,  1.09s/it]"
     ]
    },
    {
     "name": "stdout",
     "output_type": "stream",
     "text": [
      "New Text: \"let's build something with the blocks Chi\" - Generated Response: Behavioral\n"
     ]
    },
    {
     "name": "stderr",
     "output_type": "stream",
     "text": [
      "Classifying sentences:  15%|█▌        | 151/1000 [02:52<15:47,  1.12s/it]"
     ]
    },
    {
     "name": "stdout",
     "output_type": "stream",
     "text": [
      "New Text: \"okay Marky's gonna tell a cute little story\" - Generated Response: Behavioral\n"
     ]
    },
    {
     "name": "stderr",
     "output_type": "stream",
     "text": [
      "Classifying sentences:  15%|█▌        | 152/1000 [02:53<14:57,  1.06s/it]"
     ]
    },
    {
     "name": "stdout",
     "output_type": "stream",
     "text": [
      "New Text: \"she actually has a bunch of different shoes to choose from\" - Generated Response: Other\n"
     ]
    },
    {
     "name": "stderr",
     "output_type": "stream",
     "text": [
      "Classifying sentences:  15%|█▌        | 153/1000 [02:54<14:47,  1.05s/it]"
     ]
    },
    {
     "name": "stdout",
     "output_type": "stream",
     "text": [
      "New Text: \"gonna be a dancer on tv\" - Generated Response: Behavioral\n"
     ]
    },
    {
     "name": "stderr",
     "output_type": "stream",
     "text": [
      "Classifying sentences:  15%|█▌        | 154/1000 [02:55<15:06,  1.07s/it]"
     ]
    },
    {
     "name": "stdout",
     "output_type": "stream",
     "text": [
      "New Text: \"let's wear this to the store\" - Generated Response: Behavioral\n"
     ]
    },
    {
     "name": "stderr",
     "output_type": "stream",
     "text": [
      "Classifying sentences:  16%|█▌        | 155/1000 [02:56<14:35,  1.04s/it]"
     ]
    },
    {
     "name": "stdout",
     "output_type": "stream",
     "text": [
      "New Text: \"want me to move this over\" - Generated Response: Behavioral\n"
     ]
    },
    {
     "name": "stderr",
     "output_type": "stream",
     "text": [
      "Classifying sentences:  16%|█▌        | 156/1000 [02:57<14:31,  1.03s/it]"
     ]
    },
    {
     "name": "stdout",
     "output_type": "stream",
     "text": [
      "New Text: \"look at this size and look at my size I would squish him if it weren't in the tank\" - Generated Response: Perceptual\n"
     ]
    },
    {
     "name": "stderr",
     "output_type": "stream",
     "text": [
      "Classifying sentences:  16%|█▌        | 157/1000 [02:58<14:19,  1.02s/it]"
     ]
    },
    {
     "name": "stdout",
     "output_type": "stream",
     "text": [
      "New Text: \"is he sleeping on a bed\" - Generated Response: Behavioral\n"
     ]
    },
    {
     "name": "stderr",
     "output_type": "stream",
     "text": [
      "Classifying sentences:  16%|█▌        | 158/1000 [02:59<14:01,  1.00it/s]"
     ]
    },
    {
     "name": "stdout",
     "output_type": "stream",
     "text": [
      "New Text: \"baby looks sleepy\" - Generated Response: Perceptual\n"
     ]
    },
    {
     "name": "stderr",
     "output_type": "stream",
     "text": [
      "Classifying sentences:  16%|█▌        | 159/1000 [03:00<13:45,  1.02it/s]"
     ]
    },
    {
     "name": "stdout",
     "output_type": "stream",
     "text": [
      "New Text: \"boogie man gonna e a t u p\" - Generated Response: Behavioral\n"
     ]
    },
    {
     "name": "stderr",
     "output_type": "stream",
     "text": [
      "Classifying sentences:  16%|█▌        | 160/1000 [03:01<13:43,  1.02it/s]"
     ]
    },
    {
     "name": "stdout",
     "output_type": "stream",
     "text": [
      "New Text: \"what do you think his name is\" - Generated Response: Other\n"
     ]
    },
    {
     "name": "stderr",
     "output_type": "stream",
     "text": [
      "Classifying sentences:  16%|█▌        | 161/1000 [03:03<15:09,  1.08s/it]"
     ]
    },
    {
     "name": "stdout",
     "output_type": "stream",
     "text": [
      "New Text: \"but he could have told about the what he did today\" - Generated Response: Behavioral\n"
     ]
    },
    {
     "name": "stderr",
     "output_type": "stream",
     "text": [
      "Classifying sentences:  16%|█▌        | 162/1000 [03:04<14:36,  1.05s/it]"
     ]
    },
    {
     "name": "stdout",
     "output_type": "stream",
     "text": [
      "New Text: \"Manny cuts our grass\" - Generated Response: Behavioral\n"
     ]
    },
    {
     "name": "stderr",
     "output_type": "stream",
     "text": [
      "Classifying sentences:  16%|█▋        | 163/1000 [03:04<14:13,  1.02s/it]"
     ]
    },
    {
     "name": "stdout",
     "output_type": "stream",
     "text": [
      "New Text: \"xxx tickle tickle tickle tickle tickle tickle tuckuh tuckuh tuckuh\" - Generated Response: Other\n"
     ]
    },
    {
     "name": "stderr",
     "output_type": "stream",
     "text": [
      "Classifying sentences:  16%|█▋        | 164/1000 [03:05<14:07,  1.01s/it]"
     ]
    },
    {
     "name": "stdout",
     "output_type": "stream",
     "text": [
      "New Text: \"it's very round and then we cut up with a knife into different triangles\" - Generated Response: Perceptual\n"
     ]
    },
    {
     "name": "stderr",
     "output_type": "stream",
     "text": [
      "Classifying sentences:  16%|█▋        | 165/1000 [03:06<14:03,  1.01s/it]"
     ]
    },
    {
     "name": "stdout",
     "output_type": "stream",
     "text": [
      "New Text: \"I don't know if there's enough pieces though\" - Generated Response: Other\n"
     ]
    },
    {
     "name": "stderr",
     "output_type": "stream",
     "text": [
      "Classifying sentences:  17%|█▋        | 166/1000 [03:07<13:59,  1.01s/it]"
     ]
    },
    {
     "name": "stdout",
     "output_type": "stream",
     "text": [
      "New Text: \"do you know where your eye is\" - Generated Response: Biological\n"
     ]
    },
    {
     "name": "stderr",
     "output_type": "stream",
     "text": [
      "Classifying sentences:  17%|█▋        | 167/1000 [03:09<14:03,  1.01s/it]"
     ]
    },
    {
     "name": "stdout",
     "output_type": "stream",
     "text": [
      "New Text: \"that's a dump truck isn't it\" - Generated Response: Teleological\n"
     ]
    },
    {
     "name": "stderr",
     "output_type": "stream",
     "text": [
      "Classifying sentences:  17%|█▋        | 168/1000 [03:10<14:05,  1.02s/it]"
     ]
    },
    {
     "name": "stdout",
     "output_type": "stream",
     "text": [
      "New Text: \"cause I saw you taking some good bites\" - Generated Response: Behavioral\n"
     ]
    },
    {
     "name": "stderr",
     "output_type": "stream",
     "text": [
      "Classifying sentences:  17%|█▋        | 169/1000 [03:11<14:06,  1.02s/it]"
     ]
    },
    {
     "name": "stdout",
     "output_type": "stream",
     "text": [
      "New Text: \"let's me and you come over here and play with the farm\" - Generated Response: Behavioral\n"
     ]
    },
    {
     "name": "stderr",
     "output_type": "stream",
     "text": [
      "Classifying sentences:  17%|█▋        | 170/1000 [03:12<14:07,  1.02s/it]"
     ]
    },
    {
     "name": "stdout",
     "output_type": "stream",
     "text": [
      "New Text: \"pull those wheels right off okay\" - Generated Response: Behavioral\n"
     ]
    },
    {
     "name": "stderr",
     "output_type": "stream",
     "text": [
      "Classifying sentences:  17%|█▋        | 171/1000 [03:13<13:44,  1.00it/s]"
     ]
    },
    {
     "name": "stdout",
     "output_type": "stream",
     "text": [
      "New Text: \"oh they're living in the fire department now\" - Generated Response: Social\n"
     ]
    },
    {
     "name": "stderr",
     "output_type": "stream",
     "text": [
      "Classifying sentences:  17%|█▋        | 172/1000 [03:14<13:46,  1.00it/s]"
     ]
    },
    {
     "name": "stdout",
     "output_type": "stream",
     "text": [
      "New Text: \"good_night cow jumping over the moon\" - Generated Response: Behavioral\n"
     ]
    },
    {
     "name": "stderr",
     "output_type": "stream",
     "text": [
      "Classifying sentences:  17%|█▋        | 173/1000 [03:15<13:48,  1.00s/it]"
     ]
    },
    {
     "name": "stdout",
     "output_type": "stream",
     "text": [
      "New Text: \"xxx take off our backpack\" - Generated Response: Behavioral\n"
     ]
    },
    {
     "name": "stderr",
     "output_type": "stream",
     "text": [
      "Classifying sentences:  17%|█▋        | 174/1000 [03:16<13:56,  1.01s/it]"
     ]
    },
    {
     "name": "stdout",
     "output_type": "stream",
     "text": [
      "New Text: \"let's look inside this box and see\" - Generated Response: Behavioral\n"
     ]
    },
    {
     "name": "stderr",
     "output_type": "stream",
     "text": [
      "Classifying sentences:  18%|█▊        | 175/1000 [03:17<13:52,  1.01s/it]"
     ]
    },
    {
     "name": "stdout",
     "output_type": "stream",
     "text": [
      "New Text: \"I've got some little umbrellas for the puppets\" - Generated Response: Teleological\n"
     ]
    },
    {
     "name": "stderr",
     "output_type": "stream",
     "text": [
      "Classifying sentences:  18%|█▊        | 176/1000 [03:18<13:40,  1.00it/s]"
     ]
    },
    {
     "name": "stdout",
     "output_type": "stream",
     "text": [
      "New Text: \"you don't want a bottle do you\" - Generated Response: Other\n"
     ]
    },
    {
     "name": "stderr",
     "output_type": "stream",
     "text": [
      "Classifying sentences:  18%|█▊        | 177/1000 [03:19<13:51,  1.01s/it]"
     ]
    },
    {
     "name": "stdout",
     "output_type": "stream",
     "text": [
      "New Text: \"let's put your empty cup away\" - Generated Response: Teleological\n"
     ]
    },
    {
     "name": "stderr",
     "output_type": "stream",
     "text": [
      "Classifying sentences:  18%|█▊        | 178/1000 [03:20<13:46,  1.01s/it]"
     ]
    },
    {
     "name": "stdout",
     "output_type": "stream",
     "text": [
      "New Text: \"come here I wanna tell you a secret\" - Generated Response: Behavioral\n"
     ]
    },
    {
     "name": "stderr",
     "output_type": "stream",
     "text": [
      "Classifying sentences:  18%|█▊        | 179/1000 [03:21<13:40,  1.00it/s]"
     ]
    },
    {
     "name": "stdout",
     "output_type": "stream",
     "text": [
      "New Text: \"you want some toast\" - Generated Response: Other\n"
     ]
    },
    {
     "name": "stderr",
     "output_type": "stream",
     "text": [
      "Classifying sentences:  18%|█▊        | 180/1000 [03:22<13:34,  1.01it/s]"
     ]
    },
    {
     "name": "stdout",
     "output_type": "stream",
     "text": [
      "New Text: \"it just got dragged all over the house\" - Generated Response: Behavioral\n"
     ]
    },
    {
     "name": "stderr",
     "output_type": "stream",
     "text": [
      "Classifying sentences:  18%|█▊        | 181/1000 [03:23<13:23,  1.02it/s]"
     ]
    },
    {
     "name": "stdout",
     "output_type": "stream",
     "text": [
      "New Text: \"I'm gonna put the peas on your head\" - Generated Response: Behavioral\n"
     ]
    },
    {
     "name": "stderr",
     "output_type": "stream",
     "text": [
      "Classifying sentences:  18%|█▊        | 182/1000 [03:23<13:18,  1.02it/s]"
     ]
    },
    {
     "name": "stdout",
     "output_type": "stream",
     "text": [
      "New Text: \"walking on the rocks\" - Generated Response: Behavioral\n"
     ]
    },
    {
     "name": "stderr",
     "output_type": "stream",
     "text": [
      "Classifying sentences:  18%|█▊        | 183/1000 [03:24<13:29,  1.01it/s]"
     ]
    },
    {
     "name": "stdout",
     "output_type": "stream",
     "text": [
      "New Text: \"there's a tissue right up there\" - Generated Response: Perceptual\n"
     ]
    },
    {
     "name": "stderr",
     "output_type": "stream",
     "text": [
      "Classifying sentences:  18%|█▊        | 184/1000 [03:26<13:59,  1.03s/it]"
     ]
    },
    {
     "name": "stdout",
     "output_type": "stream",
     "text": [
      "New Text: \"put your fingers on it\" - Generated Response: Behavioral\n"
     ]
    },
    {
     "name": "stderr",
     "output_type": "stream",
     "text": [
      "Classifying sentences:  18%|█▊        | 185/1000 [03:28<21:05,  1.55s/it]"
     ]
    },
    {
     "name": "stdout",
     "output_type": "stream",
     "text": [
      "New Text: \"Naima can you tell me about gazaggers\" - Generated Response: Other\n"
     ]
    },
    {
     "name": "stderr",
     "output_type": "stream",
     "text": [
      "Classifying sentences:  19%|█▊        | 186/1000 [03:29<18:54,  1.39s/it]"
     ]
    },
    {
     "name": "stdout",
     "output_type": "stream",
     "text": [
      "New Text: \"oh look_it he's got all good nice goodies in there huh\" - Generated Response: Perceptual\n"
     ]
    },
    {
     "name": "stderr",
     "output_type": "stream",
     "text": [
      "Classifying sentences:  19%|█▊        | 187/1000 [03:30<17:19,  1.28s/it]"
     ]
    },
    {
     "name": "stdout",
     "output_type": "stream",
     "text": [
      "New Text: \"watch what he's doing baby\" - Generated Response: Behavioral\n"
     ]
    },
    {
     "name": "stderr",
     "output_type": "stream",
     "text": [
      "Classifying sentences:  19%|█▉        | 188/1000 [03:31<16:19,  1.21s/it]"
     ]
    },
    {
     "name": "stdout",
     "output_type": "stream",
     "text": [
      "New Text: \"xxx daddy's name do you remember\" - Generated Response: Other\n"
     ]
    },
    {
     "name": "stderr",
     "output_type": "stream",
     "text": [
      "Classifying sentences:  19%|█▉        | 189/1000 [03:32<15:34,  1.15s/it]"
     ]
    },
    {
     "name": "stdout",
     "output_type": "stream",
     "text": [
      "New Text: \"go pee first and then go to bed\" - Generated Response: Behavioral\n"
     ]
    },
    {
     "name": "stderr",
     "output_type": "stream",
     "text": [
      "Classifying sentences:  19%|█▉        | 190/1000 [03:33<14:44,  1.09s/it]"
     ]
    },
    {
     "name": "stdout",
     "output_type": "stream",
     "text": [
      "New Text: \"ah you want your lizards\" - Generated Response: Other\n"
     ]
    },
    {
     "name": "stderr",
     "output_type": "stream",
     "text": [
      "Classifying sentences:  19%|█▉        | 191/1000 [03:34<14:20,  1.06s/it]"
     ]
    },
    {
     "name": "stdout",
     "output_type": "stream",
     "text": [
      "New Text: \"look at his feet\" - Generated Response: Perceptual\n"
     ]
    },
    {
     "name": "stderr",
     "output_type": "stream",
     "text": [
      "Classifying sentences:  19%|█▉        | 192/1000 [03:35<14:08,  1.05s/it]"
     ]
    },
    {
     "name": "stdout",
     "output_type": "stream",
     "text": [
      "New Text: \"they're taking a drive\" - Generated Response: Behavioral\n"
     ]
    },
    {
     "name": "stderr",
     "output_type": "stream",
     "text": [
      "Classifying sentences:  19%|█▉        | 193/1000 [03:36<14:01,  1.04s/it]"
     ]
    },
    {
     "name": "stdout",
     "output_type": "stream",
     "text": [
      "New Text: \"I fly across the sky\" - Generated Response: Behavioral\n"
     ]
    },
    {
     "name": "stderr",
     "output_type": "stream",
     "text": [
      "Classifying sentences:  19%|█▉        | 194/1000 [03:37<13:54,  1.03s/it]"
     ]
    },
    {
     "name": "stdout",
     "output_type": "stream",
     "text": [
      "New Text: \"let's see what's in this pretty book\" - Generated Response: Behavioral\n"
     ]
    },
    {
     "name": "stderr",
     "output_type": "stream",
     "text": [
      "Classifying sentences:  20%|█▉        | 195/1000 [03:39<14:04,  1.05s/it]"
     ]
    },
    {
     "name": "stdout",
     "output_type": "stream",
     "text": [
      "New Text: \"what do you want me to do with my hands\" - Generated Response: Behavioral\n"
     ]
    },
    {
     "name": "stderr",
     "output_type": "stream",
     "text": [
      "Classifying sentences:  20%|█▉        | 196/1000 [03:40<13:45,  1.03s/it]"
     ]
    },
    {
     "name": "stdout",
     "output_type": "stream",
     "text": [
      "New Text: \"so I think that you should just pop in and say hi okay\" - Generated Response: Behavioral\n"
     ]
    },
    {
     "name": "stderr",
     "output_type": "stream",
     "text": [
      "Classifying sentences:  20%|█▉        | 197/1000 [03:41<13:43,  1.03s/it]"
     ]
    },
    {
     "name": "stdout",
     "output_type": "stream",
     "text": [
      "New Text: \"look at the little birdie xxx\" - Generated Response: Perceptual\n"
     ]
    },
    {
     "name": "stderr",
     "output_type": "stream",
     "text": [
      "Classifying sentences:  20%|█▉        | 198/1000 [03:42<13:42,  1.03s/it]"
     ]
    },
    {
     "name": "stdout",
     "output_type": "stream",
     "text": [
      "New Text: \"all the suits she knew\" - Generated Response: Other\n"
     ]
    },
    {
     "name": "stderr",
     "output_type": "stream",
     "text": [
      "Classifying sentences:  20%|█▉        | 199/1000 [03:43<13:47,  1.03s/it]"
     ]
    },
    {
     "name": "stdout",
     "output_type": "stream",
     "text": [
      "New Text: \"so Mister Chunk of Cheese hired an artist to paint him a picture of a beautiful tree\" - Generated Response: Behavioral\n"
     ]
    },
    {
     "name": "stderr",
     "output_type": "stream",
     "text": [
      "Classifying sentences:  20%|██        | 200/1000 [03:44<13:27,  1.01s/it]"
     ]
    },
    {
     "name": "stdout",
     "output_type": "stream",
     "text": [
      "New Text: \"is all you need is coffee at night Weener\" - Generated Response: Other\n"
     ]
    },
    {
     "name": "stderr",
     "output_type": "stream",
     "text": [
      "Classifying sentences:  20%|██        | 201/1000 [03:45<13:27,  1.01s/it]"
     ]
    },
    {
     "name": "stdout",
     "output_type": "stream",
     "text": [
      "New Text: \"I think it'll be easier to eat that way\" - Generated Response: Behavioral\n"
     ]
    },
    {
     "name": "stderr",
     "output_type": "stream",
     "text": [
      "Classifying sentences:  20%|██        | 202/1000 [03:46<13:25,  1.01s/it]"
     ]
    },
    {
     "name": "stdout",
     "output_type": "stream",
     "text": [
      "New Text: \"we did see salters yes\" - Generated Response: Behavioral\n"
     ]
    },
    {
     "name": "stderr",
     "output_type": "stream",
     "text": [
      "Classifying sentences:  20%|██        | 203/1000 [03:47<13:13,  1.00it/s]"
     ]
    },
    {
     "name": "stdout",
     "output_type": "stream",
     "text": [
      "New Text: \"okay let's have the thumb\" - Generated Response: Other\n"
     ]
    },
    {
     "name": "stderr",
     "output_type": "stream",
     "text": [
      "Classifying sentences:  20%|██        | 204/1000 [03:48<12:59,  1.02it/s]"
     ]
    },
    {
     "name": "stdout",
     "output_type": "stream",
     "text": [
      "New Text: \"don't eat the stuff off the ground sweetheart\" - Generated Response: Behavioral\n"
     ]
    },
    {
     "name": "stderr",
     "output_type": "stream",
     "text": [
      "Classifying sentences:  20%|██        | 205/1000 [03:49<13:10,  1.01it/s]"
     ]
    },
    {
     "name": "stdout",
     "output_type": "stream",
     "text": [
      "New Text: \"well a flashlight no I don't know a flashlight yes he said that that would help him he'd feel more comfortable\" - Generated Response: Teleological\n"
     ]
    },
    {
     "name": "stderr",
     "output_type": "stream",
     "text": [
      "Classifying sentences:  21%|██        | 206/1000 [03:50<14:05,  1.06s/it]"
     ]
    },
    {
     "name": "stdout",
     "output_type": "stream",
     "text": [
      "New Text: \"this baby looks tiny beside its mother\" - Generated Response: Perceptual\n"
     ]
    },
    {
     "name": "stderr",
     "output_type": "stream",
     "text": [
      "Classifying sentences:  21%|██        | 207/1000 [03:51<13:54,  1.05s/it]"
     ]
    },
    {
     "name": "stdout",
     "output_type": "stream",
     "text": [
      "New Text: \"okay let's go get the ball\" - Generated Response: Behavioral\n"
     ]
    },
    {
     "name": "stderr",
     "output_type": "stream",
     "text": [
      "Classifying sentences:  21%|██        | 208/1000 [03:52<13:46,  1.04s/it]"
     ]
    },
    {
     "name": "stdout",
     "output_type": "stream",
     "text": [
      "New Text: \"they have matching dresses\" - Generated Response: Perceptual\n"
     ]
    },
    {
     "name": "stderr",
     "output_type": "stream",
     "text": [
      "Classifying sentences:  21%|██        | 209/1000 [03:53<13:40,  1.04s/it]"
     ]
    },
    {
     "name": "stdout",
     "output_type": "stream",
     "text": [
      "New Text: \"oh no we didn't see any tigers did we\" - Generated Response: Perceptual\n"
     ]
    },
    {
     "name": "stderr",
     "output_type": "stream",
     "text": [
      "Classifying sentences:  21%|██        | 210/1000 [03:54<13:36,  1.03s/it]"
     ]
    },
    {
     "name": "stdout",
     "output_type": "stream",
     "text": [
      "New Text: \"what you could do would be to put away the clean clothes that would help\" - Generated Response: Behavioral\n"
     ]
    },
    {
     "name": "stderr",
     "output_type": "stream",
     "text": [
      "Classifying sentences:  21%|██        | 211/1000 [03:55<13:33,  1.03s/it]"
     ]
    },
    {
     "name": "stdout",
     "output_type": "stream",
     "text": [
      "New Text: \"let's see which parts of your body are ticklish okay\" - Generated Response: Perceptual\n"
     ]
    },
    {
     "name": "stderr",
     "output_type": "stream",
     "text": [
      "Classifying sentences:  21%|██        | 212/1000 [03:56<13:30,  1.03s/it]"
     ]
    },
    {
     "name": "stdout",
     "output_type": "stream",
     "text": [
      "New Text: \"whoa let's not bend our heads over a lighted candle\" - Generated Response: Behavioral\n"
     ]
    },
    {
     "name": "stderr",
     "output_type": "stream",
     "text": [
      "Classifying sentences:  21%|██▏       | 213/1000 [03:57<13:20,  1.02s/it]"
     ]
    },
    {
     "name": "stdout",
     "output_type": "stream",
     "text": [
      "New Text: \"you got a coat like that\" - Generated Response: Perceptual\n"
     ]
    },
    {
     "name": "stderr",
     "output_type": "stream",
     "text": [
      "Classifying sentences:  21%|██▏       | 214/1000 [03:58<13:53,  1.06s/it]"
     ]
    },
    {
     "name": "stdout",
     "output_type": "stream",
     "text": [
      "New Text: \"can you bring your chair over\" - Generated Response: Behavioral\n"
     ]
    },
    {
     "name": "stderr",
     "output_type": "stream",
     "text": [
      "Classifying sentences:  22%|██▏       | 215/1000 [04:00<16:08,  1.23s/it]"
     ]
    },
    {
     "name": "stdout",
     "output_type": "stream",
     "text": [
      "New Text: \"little cousin Stephanie wasn't born yet\" - Generated Response: Biological\n"
     ]
    },
    {
     "name": "stderr",
     "output_type": "stream",
     "text": [
      "Classifying sentences:  22%|██▏       | 216/1000 [04:01<15:17,  1.17s/it]"
     ]
    },
    {
     "name": "stdout",
     "output_type": "stream",
     "text": [
      "New Text: \"well let's skip that stuff now\" - Generated Response: Behavioral\n"
     ]
    },
    {
     "name": "stderr",
     "output_type": "stream",
     "text": [
      "Classifying sentences:  22%|██▏       | 217/1000 [04:02<14:42,  1.13s/it]"
     ]
    },
    {
     "name": "stdout",
     "output_type": "stream",
     "text": [
      "New Text: \"you gonna give me some coffee please\" - Generated Response: Other\n"
     ]
    },
    {
     "name": "stderr",
     "output_type": "stream",
     "text": [
      "Classifying sentences:  22%|██▏       | 218/1000 [04:03<14:17,  1.10s/it]"
     ]
    },
    {
     "name": "stdout",
     "output_type": "stream",
     "text": [
      "New Text: \"rope for tricks\" - Generated Response: Teleological\n"
     ]
    },
    {
     "name": "stderr",
     "output_type": "stream",
     "text": [
      "Classifying sentences:  22%|██▏       | 219/1000 [04:04<13:59,  1.07s/it]"
     ]
    },
    {
     "name": "stdout",
     "output_type": "stream",
     "text": [
      "New Text: \"look there's another foot\" - Generated Response: Perceptual\n"
     ]
    },
    {
     "name": "stderr",
     "output_type": "stream",
     "text": [
      "Classifying sentences:  22%|██▏       | 220/1000 [04:05<14:57,  1.15s/it]"
     ]
    },
    {
     "name": "stdout",
     "output_type": "stream",
     "text": [
      "New Text: \"oh think the sidewalk will talk to you\" - Generated Response: Other\n"
     ]
    },
    {
     "name": "stderr",
     "output_type": "stream",
     "text": [
      "Classifying sentences:  22%|██▏       | 221/1000 [04:06<14:49,  1.14s/it]"
     ]
    },
    {
     "name": "stdout",
     "output_type": "stream",
     "text": [
      "New Text: \"um I don't know much about owls that's about that's about it\" - Generated Response: Other\n"
     ]
    },
    {
     "name": "stderr",
     "output_type": "stream",
     "text": [
      "Classifying sentences:  22%|██▏       | 222/1000 [04:07<14:35,  1.13s/it]"
     ]
    },
    {
     "name": "stdout",
     "output_type": "stream",
     "text": [
      "New Text: \"oh I can just see the tops of them\" - Generated Response: Perceptual\n"
     ]
    },
    {
     "name": "stderr",
     "output_type": "stream",
     "text": [
      "Classifying sentences:  22%|██▏       | 223/1000 [04:08<14:08,  1.09s/it]"
     ]
    },
    {
     "name": "stdout",
     "output_type": "stream",
     "text": [
      "New Text: \"make a big noise\" - Generated Response: Behavioral\n"
     ]
    },
    {
     "name": "stderr",
     "output_type": "stream",
     "text": [
      "Classifying sentences:  22%|██▏       | 224/1000 [04:09<14:04,  1.09s/it]"
     ]
    },
    {
     "name": "stdout",
     "output_type": "stream",
     "text": [
      "New Text: \"there's his plow\" - Generated Response: Teleological\n"
     ]
    },
    {
     "name": "stderr",
     "output_type": "stream",
     "text": [
      "Classifying sentences:  22%|██▎       | 225/1000 [04:10<13:52,  1.07s/it]"
     ]
    },
    {
     "name": "stdout",
     "output_type": "stream",
     "text": [
      "New Text: \"make me a xxx honey\" - Generated Response: Behavioral\n"
     ]
    },
    {
     "name": "stderr",
     "output_type": "stream",
     "text": [
      "Classifying sentences:  23%|██▎       | 226/1000 [04:12<13:36,  1.05s/it]"
     ]
    },
    {
     "name": "stdout",
     "output_type": "stream",
     "text": [
      "New Text: \"should we put the zebra there too\" - Generated Response: Other\n"
     ]
    },
    {
     "name": "stderr",
     "output_type": "stream",
     "text": [
      "Classifying sentences:  23%|██▎       | 227/1000 [04:13<13:27,  1.04s/it]"
     ]
    },
    {
     "name": "stdout",
     "output_type": "stream",
     "text": [
      "New Text: \"she knows her baby brother's name doesn't she\" - Generated Response: Behavioral\n"
     ]
    },
    {
     "name": "stderr",
     "output_type": "stream",
     "text": [
      "Classifying sentences:  23%|██▎       | 228/1000 [04:14<13:15,  1.03s/it]"
     ]
    },
    {
     "name": "stdout",
     "output_type": "stream",
     "text": [
      "New Text: \"I don't think he got hurt I just think he got a little startled\" - Generated Response: Behavioral\n"
     ]
    },
    {
     "name": "stderr",
     "output_type": "stream",
     "text": [
      "Classifying sentences:  23%|██▎       | 229/1000 [04:15<13:15,  1.03s/it]"
     ]
    },
    {
     "name": "stdout",
     "output_type": "stream",
     "text": [
      "New Text: \"he's pulling on his chain\" - Generated Response: Behavioral\n"
     ]
    },
    {
     "name": "stderr",
     "output_type": "stream",
     "text": [
      "Classifying sentences:  23%|██▎       | 230/1000 [04:16<13:16,  1.03s/it]"
     ]
    },
    {
     "name": "stdout",
     "output_type": "stream",
     "text": [
      "New Text: \"you eating those mashed potatoes\" - Generated Response: Behavioral\n"
     ]
    },
    {
     "name": "stderr",
     "output_type": "stream",
     "text": [
      "Classifying sentences:  23%|██▎       | 231/1000 [04:17<14:24,  1.12s/it]"
     ]
    },
    {
     "name": "stdout",
     "output_type": "stream",
     "text": [
      "New Text: \"get in your seats\" - Generated Response: Behavioral\n"
     ]
    },
    {
     "name": "stderr",
     "output_type": "stream",
     "text": [
      "Classifying sentences:  23%|██▎       | 232/1000 [04:18<13:56,  1.09s/it]"
     ]
    },
    {
     "name": "stdout",
     "output_type": "stream",
     "text": [
      "New Text: \"and then I give you some bread\" - Generated Response: Behavioral\n"
     ]
    },
    {
     "name": "stderr",
     "output_type": "stream",
     "text": [
      "Classifying sentences:  23%|██▎       | 233/1000 [04:19<13:37,  1.07s/it]"
     ]
    },
    {
     "name": "stdout",
     "output_type": "stream",
     "text": [
      "New Text: \"we sitting on the floor right next to your highchair trip\" - Generated Response: Behavioral\n"
     ]
    },
    {
     "name": "stderr",
     "output_type": "stream",
     "text": [
      "Classifying sentences:  23%|██▎       | 234/1000 [04:20<13:21,  1.05s/it]"
     ]
    },
    {
     "name": "stdout",
     "output_type": "stream",
     "text": [
      "New Text: \"hm that is a lot thought Little_nut_brown_hare\" - Generated Response: Other\n"
     ]
    },
    {
     "name": "stderr",
     "output_type": "stream",
     "text": [
      "Classifying sentences:  24%|██▎       | 235/1000 [04:21<13:17,  1.04s/it]"
     ]
    },
    {
     "name": "stdout",
     "output_type": "stream",
     "text": [
      "New Text: \"when the fairies find Aurora asleep they know that king and queen will be heartbroken\" - Generated Response: Social\n"
     ]
    },
    {
     "name": "stderr",
     "output_type": "stream",
     "text": [
      "Classifying sentences:  24%|██▎       | 236/1000 [04:22<13:21,  1.05s/it]"
     ]
    },
    {
     "name": "stdout",
     "output_type": "stream",
     "text": [
      "New Text: \"and he gave them a pot\" - Generated Response: Behavioral\n"
     ]
    },
    {
     "name": "stderr",
     "output_type": "stream",
     "text": [
      "Classifying sentences:  24%|██▎       | 237/1000 [04:23<13:14,  1.04s/it]"
     ]
    },
    {
     "name": "stdout",
     "output_type": "stream",
     "text": [
      "New Text: \"no you put your pennies through here\" - Generated Response: Teleological\n"
     ]
    },
    {
     "name": "stderr",
     "output_type": "stream",
     "text": [
      "Classifying sentences:  24%|██▍       | 238/1000 [04:24<13:11,  1.04s/it]"
     ]
    },
    {
     "name": "stdout",
     "output_type": "stream",
     "text": [
      "New Text: \"I think you're sitting on the bridge sweetie pie\" - Generated Response: Behavioral\n"
     ]
    },
    {
     "name": "stderr",
     "output_type": "stream",
     "text": [
      "Classifying sentences:  24%|██▍       | 239/1000 [04:25<13:05,  1.03s/it]"
     ]
    },
    {
     "name": "stdout",
     "output_type": "stream",
     "text": [
      "New Text: \"Frederick why don't you work they asked\" - Generated Response: Social\n"
     ]
    },
    {
     "name": "stderr",
     "output_type": "stream",
     "text": [
      "Classifying sentences:  24%|██▍       | 240/1000 [04:26<13:02,  1.03s/it]"
     ]
    },
    {
     "name": "stdout",
     "output_type": "stream",
     "text": [
      "New Text: \"they're all gone the strawberries yeah\" - Generated Response: Other\n"
     ]
    },
    {
     "name": "stderr",
     "output_type": "stream",
     "text": [
      "Classifying sentences:  24%|██▍       | 241/1000 [04:27<13:23,  1.06s/it]"
     ]
    },
    {
     "name": "stdout",
     "output_type": "stream",
     "text": [
      "New Text: \"take your hand in\" - Generated Response: Behavioral\n"
     ]
    },
    {
     "name": "stderr",
     "output_type": "stream",
     "text": [
      "Classifying sentences:  24%|██▍       | 242/1000 [04:28<12:57,  1.03s/it]"
     ]
    },
    {
     "name": "stdout",
     "output_type": "stream",
     "text": [
      "New Text: \"put your put your game away\" - Generated Response: Behavioral\n"
     ]
    },
    {
     "name": "stderr",
     "output_type": "stream",
     "text": [
      "Classifying sentences:  24%|██▍       | 243/1000 [04:29<12:59,  1.03s/it]"
     ]
    },
    {
     "name": "stdout",
     "output_type": "stream",
     "text": [
      "New Text: \"yeah you have him sitting here but you don't have his hands on the handlebar\" - Generated Response: Behavioral\n"
     ]
    },
    {
     "name": "stderr",
     "output_type": "stream",
     "text": [
      "Classifying sentences:  24%|██▍       | 244/1000 [04:30<13:10,  1.05s/it]"
     ]
    },
    {
     "name": "stdout",
     "output_type": "stream",
     "text": [
      "New Text: \"these are all I made all squares\" - Generated Response: Behavioral\n"
     ]
    },
    {
     "name": "stderr",
     "output_type": "stream",
     "text": [
      "Classifying sentences:  24%|██▍       | 245/1000 [04:31<13:05,  1.04s/it]"
     ]
    },
    {
     "name": "stdout",
     "output_type": "stream",
     "text": [
      "New Text: \"I do feel like a blue hair day\" - Generated Response: Perceptual\n"
     ]
    },
    {
     "name": "stderr",
     "output_type": "stream",
     "text": [
      "Classifying sentences:  25%|██▍       | 246/1000 [04:32<13:00,  1.03s/it]"
     ]
    },
    {
     "name": "stdout",
     "output_type": "stream",
     "text": [
      "New Text: \"that's going to spell dog\" - Generated Response: Other\n"
     ]
    },
    {
     "name": "stderr",
     "output_type": "stream",
     "text": [
      "Classifying sentences:  25%|██▍       | 247/1000 [04:33<12:57,  1.03s/it]"
     ]
    },
    {
     "name": "stdout",
     "output_type": "stream",
     "text": [
      "New Text: \"I'm gonna put it up there to keep some books up there too\" - Generated Response: Teleological\n"
     ]
    },
    {
     "name": "stderr",
     "output_type": "stream",
     "text": [
      "Classifying sentences:  25%|██▍       | 248/1000 [04:34<12:36,  1.01s/it]"
     ]
    },
    {
     "name": "stdout",
     "output_type": "stream",
     "text": [
      "New Text: \"Abe I hadta take those back to school\" - Generated Response: Behavioral\n"
     ]
    },
    {
     "name": "stderr",
     "output_type": "stream",
     "text": [
      "Classifying sentences:  25%|██▍       | 249/1000 [04:35<12:33,  1.00s/it]"
     ]
    },
    {
     "name": "stdout",
     "output_type": "stream",
     "text": [
      "New Text: \"Harry was a white dog with black spots who liked everything except getting a bath\" - Generated Response: Biological\n"
     ]
    },
    {
     "name": "stderr",
     "output_type": "stream",
     "text": [
      "Classifying sentences:  25%|██▌       | 250/1000 [04:36<12:31,  1.00s/it]"
     ]
    },
    {
     "name": "stdout",
     "output_type": "stream",
     "text": [
      "New Text: \"remember you have that book called big red barn\" - Generated Response: Other\n"
     ]
    },
    {
     "name": "stderr",
     "output_type": "stream",
     "text": [
      "Classifying sentences:  25%|██▌       | 251/1000 [04:37<12:51,  1.03s/it]"
     ]
    },
    {
     "name": "stdout",
     "output_type": "stream",
     "text": [
      "New Text: \"what did I just what did I pretend to sprinkle on you xxx\" - Generated Response: Other\n"
     ]
    },
    {
     "name": "stderr",
     "output_type": "stream",
     "text": [
      "Classifying sentences:  25%|██▌       | 252/1000 [04:38<12:38,  1.01s/it]"
     ]
    },
    {
     "name": "stdout",
     "output_type": "stream",
     "text": [
      "New Text: \"four or five years he blamed you\" - Generated Response: Behavioral\n"
     ]
    },
    {
     "name": "stderr",
     "output_type": "stream",
     "text": [
      "Classifying sentences:  25%|██▌       | 253/1000 [04:39<12:40,  1.02s/it]"
     ]
    },
    {
     "name": "stdout",
     "output_type": "stream",
     "text": [
      "New Text: \"oh look at that Katie drank her juice\" - Generated Response: Behavioral\n"
     ]
    },
    {
     "name": "stderr",
     "output_type": "stream",
     "text": [
      "Classifying sentences:  25%|██▌       | 254/1000 [04:40<12:18,  1.01it/s]"
     ]
    },
    {
     "name": "stdout",
     "output_type": "stream",
     "text": [
      "New Text: \"ah there's a cookie\" - Generated Response: Other\n"
     ]
    },
    {
     "name": "stderr",
     "output_type": "stream",
     "text": [
      "Classifying sentences:  26%|██▌       | 255/1000 [04:41<12:24,  1.00it/s]"
     ]
    },
    {
     "name": "stdout",
     "output_type": "stream",
     "text": [
      "New Text: \"yeah you get a block and lie down there on the floor\" - Generated Response: Behavioral\n"
     ]
    },
    {
     "name": "stderr",
     "output_type": "stream",
     "text": [
      "Classifying sentences:  26%|██▌       | 256/1000 [04:42<12:29,  1.01s/it]"
     ]
    },
    {
     "name": "stdout",
     "output_type": "stream",
     "text": [
      "New Text: \"I think the Tibble_Twins are scared of the monster\" - Generated Response: Perceptual\n"
     ]
    },
    {
     "name": "stderr",
     "output_type": "stream",
     "text": [
      "Classifying sentences:  26%|██▌       | 257/1000 [04:45<18:36,  1.50s/it]"
     ]
    },
    {
     "name": "stdout",
     "output_type": "stream",
     "text": [
      "New Text: \"see your sucky_sucks\" - Generated Response: Other\n"
     ]
    },
    {
     "name": "stderr",
     "output_type": "stream",
     "text": [
      "Classifying sentences:  26%|██▌       | 258/1000 [04:46<16:48,  1.36s/it]"
     ]
    },
    {
     "name": "stdout",
     "output_type": "stream",
     "text": [
      "New Text: \"where'd you learn that song\" - Generated Response: Social\n"
     ]
    },
    {
     "name": "stderr",
     "output_type": "stream",
     "text": [
      "Classifying sentences:  26%|██▌       | 259/1000 [04:47<15:55,  1.29s/it]"
     ]
    },
    {
     "name": "stdout",
     "output_type": "stream",
     "text": [
      "New Text: \"say push push\" - Generated Response: Behavioral\n"
     ]
    },
    {
     "name": "stderr",
     "output_type": "stream",
     "text": [
      "Classifying sentences:  26%|██▌       | 260/1000 [04:48<15:17,  1.24s/it]"
     ]
    },
    {
     "name": "stdout",
     "output_type": "stream",
     "text": [
      "New Text: \"do you wanna do another paper\" - Generated Response: Behavioral\n"
     ]
    },
    {
     "name": "stderr",
     "output_type": "stream",
     "text": [
      "Classifying sentences:  26%|██▌       | 261/1000 [04:49<14:51,  1.21s/it]"
     ]
    },
    {
     "name": "stdout",
     "output_type": "stream",
     "text": [
      "New Text: \"would you like to wear Mot hat\" - Generated Response: Other\n"
     ]
    },
    {
     "name": "stderr",
     "output_type": "stream",
     "text": [
      "Classifying sentences:  26%|██▌       | 262/1000 [04:51<14:32,  1.18s/it]"
     ]
    },
    {
     "name": "stdout",
     "output_type": "stream",
     "text": [
      "New Text: \"you're putting the bear down there\" - Generated Response: Behavioral\n"
     ]
    },
    {
     "name": "stderr",
     "output_type": "stream",
     "text": [
      "Classifying sentences:  26%|██▋       | 263/1000 [04:52<13:56,  1.13s/it]"
     ]
    },
    {
     "name": "stdout",
     "output_type": "stream",
     "text": [
      "New Text: \"oh you're making a fish\" - Generated Response: Behavioral\n"
     ]
    },
    {
     "name": "stderr",
     "output_type": "stream",
     "text": [
      "Classifying sentences:  26%|██▋       | 264/1000 [04:53<13:26,  1.10s/it]"
     ]
    },
    {
     "name": "stdout",
     "output_type": "stream",
     "text": [
      "New Text: \"maybe he wants to make some breakfast\" - Generated Response: Behavioral\n"
     ]
    },
    {
     "name": "stderr",
     "output_type": "stream",
     "text": [
      "Classifying sentences:  26%|██▋       | 265/1000 [04:54<13:15,  1.08s/it]"
     ]
    },
    {
     "name": "stdout",
     "output_type": "stream",
     "text": [
      "New Text: \"let's go find Mandy in the mirror\" - Generated Response: Behavioral\n"
     ]
    },
    {
     "name": "stderr",
     "output_type": "stream",
     "text": [
      "Classifying sentences:  27%|██▋       | 266/1000 [04:55<13:00,  1.06s/it]"
     ]
    },
    {
     "name": "stdout",
     "output_type": "stream",
     "text": [
      "New Text: \"now we put on Nathaniel's pjs\" - Generated Response: Behavioral\n"
     ]
    },
    {
     "name": "stderr",
     "output_type": "stream",
     "text": [
      "Classifying sentences:  27%|██▋       | 267/1000 [04:56<12:50,  1.05s/it]"
     ]
    },
    {
     "name": "stdout",
     "output_type": "stream",
     "text": [
      "New Text: \"you could empty the bag if you want Chi\" - Generated Response: Behavioral\n"
     ]
    },
    {
     "name": "stderr",
     "output_type": "stream",
     "text": [
      "Classifying sentences:  27%|██▋       | 268/1000 [04:57<12:52,  1.05s/it]"
     ]
    },
    {
     "name": "stdout",
     "output_type": "stream",
     "text": [
      "New Text: \"one time in the summer I remember you and I went to the Lake Erie state park and it was super hot and we dumped water on our heads\" - Generated Response: Other\n"
     ]
    },
    {
     "name": "stderr",
     "output_type": "stream",
     "text": [
      "Classifying sentences:  27%|██▋       | 269/1000 [04:58<13:20,  1.09s/it]"
     ]
    },
    {
     "name": "stdout",
     "output_type": "stream",
     "text": [
      "New Text: \"look at his funny oh look at his eyes\" - Generated Response: Perceptual\n"
     ]
    },
    {
     "name": "stderr",
     "output_type": "stream",
     "text": [
      "Classifying sentences:  27%|██▋       | 270/1000 [04:59<13:26,  1.11s/it]"
     ]
    },
    {
     "name": "stdout",
     "output_type": "stream",
     "text": [
      "New Text: \"what is she drawing on the board\" - Generated Response: Behavioral\n"
     ]
    },
    {
     "name": "stderr",
     "output_type": "stream",
     "text": [
      "Classifying sentences:  27%|██▋       | 271/1000 [05:00<13:29,  1.11s/it]"
     ]
    },
    {
     "name": "stdout",
     "output_type": "stream",
     "text": [
      "New Text: \"see it's on top of the bus isn't it\" - Generated Response: Perceptual\n"
     ]
    },
    {
     "name": "stderr",
     "output_type": "stream",
     "text": [
      "Classifying sentences:  27%|██▋       | 272/1000 [05:01<13:19,  1.10s/it]"
     ]
    },
    {
     "name": "stdout",
     "output_type": "stream",
     "text": [
      "New Text: \"rocks in your bed+room\" - Generated Response: Other\n"
     ]
    },
    {
     "name": "stderr",
     "output_type": "stream",
     "text": [
      "Classifying sentences:  27%|██▋       | 273/1000 [05:02<13:03,  1.08s/it]"
     ]
    },
    {
     "name": "stdout",
     "output_type": "stream",
     "text": [
      "New Text: \"the horse and the sheep are sharing the farm\" - Generated Response: Social\n"
     ]
    },
    {
     "name": "stderr",
     "output_type": "stream",
     "text": [
      "Classifying sentences:  27%|██▋       | 274/1000 [05:03<13:02,  1.08s/it]"
     ]
    },
    {
     "name": "stdout",
     "output_type": "stream",
     "text": [
      "New Text: \"if you like going through the car are you gonna love skiing\" - Generated Response: Behavioral\n"
     ]
    },
    {
     "name": "stderr",
     "output_type": "stream",
     "text": [
      "Classifying sentences:  28%|██▊       | 275/1000 [05:05<13:07,  1.09s/it]"
     ]
    },
    {
     "name": "stdout",
     "output_type": "stream",
     "text": [
      "New Text: \"and someone brings onion\" - Generated Response: Behavioral\n"
     ]
    },
    {
     "name": "stderr",
     "output_type": "stream",
     "text": [
      "Classifying sentences:  28%|██▊       | 276/1000 [05:05<12:39,  1.05s/it]"
     ]
    },
    {
     "name": "stdout",
     "output_type": "stream",
     "text": [
      "New Text: \"there's a baby\" - Generated Response: Other\n"
     ]
    },
    {
     "name": "stderr",
     "output_type": "stream",
     "text": [
      "Classifying sentences:  28%|██▊       | 277/1000 [05:07<13:07,  1.09s/it]"
     ]
    },
    {
     "name": "stdout",
     "output_type": "stream",
     "text": [
      "New Text: \"because I saw that it said that and I xxx and it said for new or renovated houses and I thought I don't know if the wiring's gonna work\" - Generated Response: Other\n"
     ]
    },
    {
     "name": "stderr",
     "output_type": "stream",
     "text": [
      "Classifying sentences:  28%|██▊       | 278/1000 [05:08<13:00,  1.08s/it]"
     ]
    },
    {
     "name": "stdout",
     "output_type": "stream",
     "text": [
      "New Text: \"do you see the ears there\" - Generated Response: Perceptual\n"
     ]
    },
    {
     "name": "stderr",
     "output_type": "stream",
     "text": [
      "Classifying sentences:  28%|██▊       | 279/1000 [05:09<13:05,  1.09s/it]"
     ]
    },
    {
     "name": "stdout",
     "output_type": "stream",
     "text": [
      "New Text: \"when we're through eating the cereal we already have\" - Generated Response: Behavioral\n"
     ]
    },
    {
     "name": "stderr",
     "output_type": "stream",
     "text": [
      "Classifying sentences:  28%|██▊       | 280/1000 [05:10<12:50,  1.07s/it]"
     ]
    },
    {
     "name": "stdout",
     "output_type": "stream",
     "text": [
      "New Text: \"who are you talking to on the telephone\" - Generated Response: Social\n"
     ]
    },
    {
     "name": "stderr",
     "output_type": "stream",
     "text": [
      "Classifying sentences:  28%|██▊       | 281/1000 [05:11<13:01,  1.09s/it]"
     ]
    },
    {
     "name": "stdout",
     "output_type": "stream",
     "text": [
      "New Text: \"no because I don't want it to get stuck in my hair\" - Generated Response: Behavioral\n"
     ]
    },
    {
     "name": "stderr",
     "output_type": "stream",
     "text": [
      "Classifying sentences:  28%|██▊       | 282/1000 [05:12<13:09,  1.10s/it]"
     ]
    },
    {
     "name": "stdout",
     "output_type": "stream",
     "text": [
      "New Text: \"where'd the wheel go by the way\" - Generated Response: Other\n"
     ]
    },
    {
     "name": "stderr",
     "output_type": "stream",
     "text": [
      "Classifying sentences:  28%|██▊       | 283/1000 [05:13<13:13,  1.11s/it]"
     ]
    },
    {
     "name": "stdout",
     "output_type": "stream",
     "text": [
      "New Text: \"is that mother bear going shopping\" - Generated Response: Behavioral\n"
     ]
    },
    {
     "name": "stderr",
     "output_type": "stream",
     "text": [
      "Classifying sentences:  28%|██▊       | 284/1000 [05:14<13:38,  1.14s/it]"
     ]
    },
    {
     "name": "stdout",
     "output_type": "stream",
     "text": [
      "New Text: \"so sit down and eat your eggs\" - Generated Response: Behavioral\n"
     ]
    },
    {
     "name": "stderr",
     "output_type": "stream",
     "text": [
      "Classifying sentences:  28%|██▊       | 285/1000 [05:16<13:37,  1.14s/it]"
     ]
    },
    {
     "name": "stdout",
     "output_type": "stream",
     "text": [
      "New Text: \"grown up toy\" - Generated Response: Other\n"
     ]
    },
    {
     "name": "stderr",
     "output_type": "stream",
     "text": [
      "Classifying sentences:  29%|██▊       | 286/1000 [05:17<15:46,  1.33s/it]"
     ]
    },
    {
     "name": "stdout",
     "output_type": "stream",
     "text": [
      "New Text: \"oh you want that shoe that matches that one\" - Generated Response: Perceptual\n"
     ]
    },
    {
     "name": "stderr",
     "output_type": "stream",
     "text": [
      "Classifying sentences:  29%|██▊       | 287/1000 [05:19<17:10,  1.45s/it]"
     ]
    },
    {
     "name": "stdout",
     "output_type": "stream",
     "text": [
      "New Text: \"and don't say help me still you say help me please\" - Generated Response: Behavioral\n"
     ]
    },
    {
     "name": "stderr",
     "output_type": "stream",
     "text": [
      "Classifying sentences:  29%|██▉       | 288/1000 [05:20<15:59,  1.35s/it]"
     ]
    },
    {
     "name": "stdout",
     "output_type": "stream",
     "text": [
      "New Text: \"because Mummy lost that one at church\" - Generated Response: Other\n"
     ]
    },
    {
     "name": "stderr",
     "output_type": "stream",
     "text": [
      "Classifying sentences:  29%|██▉       | 289/1000 [05:21<15:31,  1.31s/it]"
     ]
    },
    {
     "name": "stdout",
     "output_type": "stream",
     "text": [
      "New Text: \"take a bath in the washing machine\" - Generated Response: Teleological\n"
     ]
    },
    {
     "name": "stderr",
     "output_type": "stream",
     "text": [
      "Classifying sentences:  29%|██▉       | 290/1000 [05:23<15:34,  1.32s/it]"
     ]
    },
    {
     "name": "stdout",
     "output_type": "stream",
     "text": [
      "New Text: \"you wanna put her in a car\" - Generated Response: Behavioral\n"
     ]
    },
    {
     "name": "stderr",
     "output_type": "stream",
     "text": [
      "Classifying sentences:  29%|██▉       | 291/1000 [05:24<16:53,  1.43s/it]"
     ]
    },
    {
     "name": "stdout",
     "output_type": "stream",
     "text": [
      "New Text: \"does he look like he's surfing on a big wave\" - Generated Response: Perceptual\n"
     ]
    },
    {
     "name": "stderr",
     "output_type": "stream",
     "text": [
      "Classifying sentences:  29%|██▉       | 292/1000 [05:25<15:20,  1.30s/it]"
     ]
    },
    {
     "name": "stdout",
     "output_type": "stream",
     "text": [
      "New Text: \"mommy doesn't know what it is\" - Generated Response: Other\n"
     ]
    },
    {
     "name": "stderr",
     "output_type": "stream",
     "text": [
      "Classifying sentences:  29%|██▉       | 293/1000 [05:27<14:51,  1.26s/it]"
     ]
    },
    {
     "name": "stdout",
     "output_type": "stream",
     "text": [
      "New Text: \"no you got iced tea Chi\" - Generated Response: Other\n"
     ]
    },
    {
     "name": "stderr",
     "output_type": "stream",
     "text": [
      "Classifying sentences:  29%|██▉       | 294/1000 [05:28<13:56,  1.18s/it]"
     ]
    },
    {
     "name": "stdout",
     "output_type": "stream",
     "text": [
      "New Text: \"they're best friends and enemies and everything else I know\" - Generated Response: Social\n"
     ]
    },
    {
     "name": "stderr",
     "output_type": "stream",
     "text": [
      "Classifying sentences:  30%|██▉       | 295/1000 [05:29<13:58,  1.19s/it]"
     ]
    },
    {
     "name": "stdout",
     "output_type": "stream",
     "text": [
      "New Text: \"in the light of the moon a little egg lay on a leaf\" - Generated Response: Perceptual\n"
     ]
    },
    {
     "name": "stderr",
     "output_type": "stream",
     "text": [
      "Classifying sentences:  30%|██▉       | 296/1000 [05:31<17:38,  1.50s/it]"
     ]
    },
    {
     "name": "stdout",
     "output_type": "stream",
     "text": [
      "New Text: \"shall we wash her hair\" - Generated Response: Behavioral\n"
     ]
    },
    {
     "name": "stderr",
     "output_type": "stream",
     "text": [
      "Classifying sentences:  30%|██▉       | 297/1000 [05:32<16:58,  1.45s/it]"
     ]
    },
    {
     "name": "stdout",
     "output_type": "stream",
     "text": [
      "New Text: \"but he bites the plate because he's not sposta eat anything\" - Generated Response: Behavioral\n"
     ]
    },
    {
     "name": "stderr",
     "output_type": "stream",
     "text": [
      "Classifying sentences:  30%|██▉       | 298/1000 [05:34<19:06,  1.63s/it]"
     ]
    },
    {
     "name": "stdout",
     "output_type": "stream",
     "text": [
      "New Text: \"you know what when I come back down I'll bring a barrette with me okay\" - Generated Response: Behavioral\n"
     ]
    },
    {
     "name": "stderr",
     "output_type": "stream",
     "text": [
      "Classifying sentences:  30%|██▉       | 299/1000 [05:36<18:00,  1.54s/it]"
     ]
    },
    {
     "name": "stdout",
     "output_type": "stream",
     "text": [
      "New Text: \"tell Daddy about the sparkles we saw at the store\" - Generated Response: Perceptual\n"
     ]
    },
    {
     "name": "stderr",
     "output_type": "stream",
     "text": [
      "Classifying sentences:  30%|███       | 300/1000 [05:37<17:15,  1.48s/it]"
     ]
    },
    {
     "name": "stdout",
     "output_type": "stream",
     "text": [
      "New Text: \"I see a kitty and I see a doggie\" - Generated Response: Perceptual\n"
     ]
    },
    {
     "name": "stderr",
     "output_type": "stream",
     "text": [
      "Classifying sentences:  30%|███       | 301/1000 [05:39<17:41,  1.52s/it]"
     ]
    },
    {
     "name": "stdout",
     "output_type": "stream",
     "text": [
      "New Text: \"look at the little piggy toes\" - Generated Response: Perceptual\n"
     ]
    },
    {
     "name": "stderr",
     "output_type": "stream",
     "text": [
      "Classifying sentences:  30%|███       | 302/1000 [05:40<16:43,  1.44s/it]"
     ]
    },
    {
     "name": "stdout",
     "output_type": "stream",
     "text": [
      "New Text: \"what's happening girl\" - Generated Response: Other\n"
     ]
    },
    {
     "name": "stderr",
     "output_type": "stream",
     "text": [
      "Classifying sentences:  30%|███       | 303/1000 [05:43<22:28,  1.93s/it]"
     ]
    },
    {
     "name": "stdout",
     "output_type": "stream",
     "text": [
      "New Text: \"baby bear waved and some of the passengers waved back\" - Generated Response: Behavioral\n"
     ]
    },
    {
     "name": "stderr",
     "output_type": "stream",
     "text": [
      "Classifying sentences:  30%|███       | 304/1000 [05:44<19:55,  1.72s/it]"
     ]
    },
    {
     "name": "stdout",
     "output_type": "stream",
     "text": [
      "New Text: \"cupcakes and peas\" - Generated Response: Other\n"
     ]
    },
    {
     "name": "stderr",
     "output_type": "stream",
     "text": [
      "Classifying sentences:  30%|███       | 305/1000 [05:46<18:28,  1.59s/it]"
     ]
    },
    {
     "name": "stdout",
     "output_type": "stream",
     "text": [
      "New Text: \"you could make a sandwich\" - Generated Response: Teleological\n"
     ]
    },
    {
     "name": "stderr",
     "output_type": "stream",
     "text": [
      "Classifying sentences:  31%|███       | 306/1000 [05:47<18:05,  1.56s/it]"
     ]
    },
    {
     "name": "stdout",
     "output_type": "stream",
     "text": [
      "New Text: \"give it a try\" - Generated Response: Behavioral\n"
     ]
    },
    {
     "name": "stderr",
     "output_type": "stream",
     "text": [
      "Classifying sentences:  31%|███       | 307/1000 [05:48<17:07,  1.48s/it]"
     ]
    },
    {
     "name": "stdout",
     "output_type": "stream",
     "text": [
      "New Text: \"on Tuesday he ate through two pears but he was still hungry\" - Generated Response: Behavioral\n"
     ]
    },
    {
     "name": "stderr",
     "output_type": "stream",
     "text": [
      "Classifying sentences:  31%|███       | 308/1000 [05:50<16:14,  1.41s/it]"
     ]
    },
    {
     "name": "stdout",
     "output_type": "stream",
     "text": [
      "New Text: \"okay looks like it's the wrong foot to me though\" - Generated Response: Perceptual\n"
     ]
    },
    {
     "name": "stderr",
     "output_type": "stream",
     "text": [
      "Classifying sentences:  31%|███       | 309/1000 [05:51<15:55,  1.38s/it]"
     ]
    },
    {
     "name": "stdout",
     "output_type": "stream",
     "text": [
      "New Text: \"it doesn't make any noise\" - Generated Response: Perceptual\n"
     ]
    },
    {
     "name": "stderr",
     "output_type": "stream",
     "text": [
      "Classifying sentences:  31%|███       | 310/1000 [05:52<15:22,  1.34s/it]"
     ]
    },
    {
     "name": "stdout",
     "output_type": "stream",
     "text": [
      "New Text: \"quick cat quick who runs snip snap around the corner between the bottles getting closer\" - Generated Response: Behavioral\n"
     ]
    },
    {
     "name": "stderr",
     "output_type": "stream",
     "text": [
      "Classifying sentences:  31%|███       | 311/1000 [05:53<15:11,  1.32s/it]"
     ]
    },
    {
     "name": "stdout",
     "output_type": "stream",
     "text": [
      "New Text: \"you wanna give some juice to the baby\" - Generated Response: Behavioral\n"
     ]
    },
    {
     "name": "stderr",
     "output_type": "stream",
     "text": [
      "Classifying sentences:  31%|███       | 312/1000 [05:55<15:20,  1.34s/it]"
     ]
    },
    {
     "name": "stdout",
     "output_type": "stream",
     "text": [
      "New Text: \"you have something to tell me what did you wanna tell me the story Mark\" - Generated Response: Other\n"
     ]
    },
    {
     "name": "stderr",
     "output_type": "stream",
     "text": [
      "Classifying sentences:  31%|███▏      | 313/1000 [05:57<19:31,  1.70s/it]"
     ]
    },
    {
     "name": "stdout",
     "output_type": "stream",
     "text": [
      "New Text: \"okay let's put these away then so that we are not making a big mess okay\" - Generated Response: Behavioral\n"
     ]
    },
    {
     "name": "stderr",
     "output_type": "stream",
     "text": [
      "Classifying sentences:  31%|███▏      | 314/1000 [05:59<17:54,  1.57s/it]"
     ]
    },
    {
     "name": "stdout",
     "output_type": "stream",
     "text": [
      "New Text: \"turn into your turtle\" - Generated Response: Behavioral\n"
     ]
    },
    {
     "name": "stderr",
     "output_type": "stream",
     "text": [
      "Classifying sentences:  32%|███▏      | 315/1000 [06:00<18:19,  1.60s/it]"
     ]
    },
    {
     "name": "stdout",
     "output_type": "stream",
     "text": [
      "New Text: \"wash your bottom\" - Generated Response: Behavioral\n"
     ]
    },
    {
     "name": "stderr",
     "output_type": "stream",
     "text": [
      "Classifying sentences:  32%|███▏      | 316/1000 [06:02<17:51,  1.57s/it]"
     ]
    },
    {
     "name": "stdout",
     "output_type": "stream",
     "text": [
      "New Text: \"who's riding on the horse\" - Generated Response: Behavioral\n"
     ]
    },
    {
     "name": "stderr",
     "output_type": "stream",
     "text": [
      "Classifying sentences:  32%|███▏      | 317/1000 [06:03<16:08,  1.42s/it]"
     ]
    },
    {
     "name": "stdout",
     "output_type": "stream",
     "text": [
      "New Text: \"oh there's the dog\" - Generated Response: Other\n"
     ]
    },
    {
     "name": "stderr",
     "output_type": "stream",
     "text": [
      "Classifying sentences:  32%|███▏      | 318/1000 [06:04<16:40,  1.47s/it]"
     ]
    },
    {
     "name": "stdout",
     "output_type": "stream",
     "text": [
      "New Text: \"see the boxes\" - Generated Response: Perceptual\n"
     ]
    },
    {
     "name": "stderr",
     "output_type": "stream",
     "text": [
      "Classifying sentences:  32%|███▏      | 319/1000 [06:06<17:19,  1.53s/it]"
     ]
    },
    {
     "name": "stdout",
     "output_type": "stream",
     "text": [
      "New Text: \"there there are more pieces of corn\" - Generated Response: Other\n"
     ]
    },
    {
     "name": "stderr",
     "output_type": "stream",
     "text": [
      "Classifying sentences:  32%|███▏      | 320/1000 [06:07<16:00,  1.41s/it]"
     ]
    },
    {
     "name": "stdout",
     "output_type": "stream",
     "text": [
      "New Text: \"actually we should put some soap on the rest of you first I think\" - Generated Response: Behavioral\n"
     ]
    },
    {
     "name": "stderr",
     "output_type": "stream",
     "text": [
      "Classifying sentences:  32%|███▏      | 321/1000 [06:08<15:11,  1.34s/it]"
     ]
    },
    {
     "name": "stdout",
     "output_type": "stream",
     "text": [
      "New Text: \"let's see this last page\" - Generated Response: Behavioral\n"
     ]
    },
    {
     "name": "stderr",
     "output_type": "stream",
     "text": [
      "Classifying sentences:  32%|███▏      | 322/1000 [06:10<14:19,  1.27s/it]"
     ]
    },
    {
     "name": "stdout",
     "output_type": "stream",
     "text": [
      "New Text: \"hold out your hands\" - Generated Response: Behavioral\n"
     ]
    },
    {
     "name": "stderr",
     "output_type": "stream",
     "text": [
      "Classifying sentences:  32%|███▏      | 323/1000 [06:13<20:43,  1.84s/it]"
     ]
    },
    {
     "name": "stdout",
     "output_type": "stream",
     "text": [
      "New Text: \"I bought you something here yyy\" - Generated Response: Behavioral\n"
     ]
    },
    {
     "name": "stderr",
     "output_type": "stream",
     "text": [
      "Classifying sentences:  32%|███▏      | 324/1000 [06:14<18:27,  1.64s/it]"
     ]
    },
    {
     "name": "stdout",
     "output_type": "stream",
     "text": [
      "New Text: \"did they bring any balls\" - Generated Response: Behavioral\n"
     ]
    },
    {
     "name": "stderr",
     "output_type": "stream",
     "text": [
      "Classifying sentences:  32%|███▎      | 325/1000 [06:15<17:22,  1.54s/it]"
     ]
    },
    {
     "name": "stdout",
     "output_type": "stream",
     "text": [
      "New Text: \"that's one whole side of the car taken apart\" - Generated Response: Perceptual\n"
     ]
    },
    {
     "name": "stderr",
     "output_type": "stream",
     "text": [
      "Classifying sentences:  33%|███▎      | 326/1000 [06:17<16:34,  1.48s/it]"
     ]
    },
    {
     "name": "stdout",
     "output_type": "stream",
     "text": [
      "New Text: \"I want some pizza\" - Generated Response: Behavioral\n"
     ]
    },
    {
     "name": "stderr",
     "output_type": "stream",
     "text": [
      "Classifying sentences:  33%|███▎      | 327/1000 [06:18<15:54,  1.42s/it]"
     ]
    },
    {
     "name": "stdout",
     "output_type": "stream",
     "text": [
      "New Text: \"there's sunday monday tuesday these stand for days the letters do\" - Generated Response: Other\n"
     ]
    },
    {
     "name": "stderr",
     "output_type": "stream",
     "text": [
      "Classifying sentences:  33%|███▎      | 328/1000 [06:19<14:57,  1.34s/it]"
     ]
    },
    {
     "name": "stdout",
     "output_type": "stream",
     "text": [
      "New Text: \"Donna's in the house Donna's gone in and she took a nap\" - Generated Response: Behavioral\n"
     ]
    },
    {
     "name": "stderr",
     "output_type": "stream",
     "text": [
      "Classifying sentences:  33%|███▎      | 329/1000 [06:20<14:23,  1.29s/it]"
     ]
    },
    {
     "name": "stdout",
     "output_type": "stream",
     "text": [
      "New Text: \"then my mother takes me to see my friend the doctor\" - Generated Response: Behavioral\n"
     ]
    },
    {
     "name": "stderr",
     "output_type": "stream",
     "text": [
      "Classifying sentences:  33%|███▎      | 330/1000 [06:21<14:11,  1.27s/it]"
     ]
    },
    {
     "name": "stdout",
     "output_type": "stream",
     "text": [
      "New Text: \"put the bristles in your mouth\" - Generated Response: Behavioral\n"
     ]
    },
    {
     "name": "stderr",
     "output_type": "stream",
     "text": [
      "Classifying sentences:  33%|███▎      | 331/1000 [06:23<13:56,  1.25s/it]"
     ]
    },
    {
     "name": "stdout",
     "output_type": "stream",
     "text": [
      "New Text: \"she's gonna make it the coffee oh good\" - Generated Response: Behavioral\n"
     ]
    },
    {
     "name": "stderr",
     "output_type": "stream",
     "text": [
      "Classifying sentences:  33%|███▎      | 332/1000 [06:24<14:26,  1.30s/it]"
     ]
    },
    {
     "name": "stdout",
     "output_type": "stream",
     "text": [
      "New Text: \"oh you really look like a wicked witch\" - Generated Response: Perceptual\n"
     ]
    },
    {
     "name": "stderr",
     "output_type": "stream",
     "text": [
      "Classifying sentences:  33%|███▎      | 333/1000 [06:25<14:21,  1.29s/it]"
     ]
    },
    {
     "name": "stdout",
     "output_type": "stream",
     "text": [
      "New Text: \"Franklin gulped I'm too tired to see more I think I'll stay here a while he muttered\" - Generated Response: Behavioral\n"
     ]
    },
    {
     "name": "stderr",
     "output_type": "stream",
     "text": [
      "Classifying sentences:  33%|███▎      | 334/1000 [06:27<14:22,  1.29s/it]"
     ]
    },
    {
     "name": "stdout",
     "output_type": "stream",
     "text": [
      "New Text: \"a truck carrying dirt yeah that's a dumptruck\" - Generated Response: Teleological\n"
     ]
    },
    {
     "name": "stderr",
     "output_type": "stream",
     "text": [
      "Classifying sentences:  34%|███▎      | 335/1000 [06:28<14:13,  1.28s/it]"
     ]
    },
    {
     "name": "stdout",
     "output_type": "stream",
     "text": [
      "New Text: \"take a drink of milk\" - Generated Response: Behavioral\n"
     ]
    },
    {
     "name": "stderr",
     "output_type": "stream",
     "text": [
      "Classifying sentences:  34%|███▎      | 336/1000 [06:29<14:21,  1.30s/it]"
     ]
    },
    {
     "name": "stdout",
     "output_type": "stream",
     "text": [
      "New Text: \"he's a grown man and he speaks Pittsburghese\" - Generated Response: Biological\n"
     ]
    },
    {
     "name": "stderr",
     "output_type": "stream",
     "text": [
      "Classifying sentences:  34%|███▎      | 337/1000 [06:30<13:26,  1.22s/it]"
     ]
    },
    {
     "name": "stdout",
     "output_type": "stream",
     "text": [
      "New Text: \"bowling pins what are you gonna do with the bowling pins\" - Generated Response: Other\n"
     ]
    },
    {
     "name": "stderr",
     "output_type": "stream",
     "text": [
      "Classifying sentences:  34%|███▍      | 338/1000 [06:31<13:27,  1.22s/it]"
     ]
    },
    {
     "name": "stdout",
     "output_type": "stream",
     "text": [
      "New Text: \"Play in the waves you know\" - Generated Response: Behavioral\n"
     ]
    },
    {
     "name": "stderr",
     "output_type": "stream",
     "text": [
      "Classifying sentences:  34%|███▍      | 339/1000 [06:32<12:35,  1.14s/it]"
     ]
    },
    {
     "name": "stdout",
     "output_type": "stream",
     "text": [
      "New Text: \"hey big guys open your eyes what do you say it's a brand new\" - Generated Response: Other\n"
     ]
    },
    {
     "name": "stderr",
     "output_type": "stream",
     "text": [
      "Classifying sentences:  34%|███▍      | 340/1000 [06:34<13:14,  1.20s/it]"
     ]
    },
    {
     "name": "stdout",
     "output_type": "stream",
     "text": [
      "New Text: \"when do we crack eggs\" - Generated Response: Behavioral\n"
     ]
    },
    {
     "name": "stderr",
     "output_type": "stream",
     "text": [
      "Classifying sentences:  34%|███▍      | 341/1000 [06:35<13:06,  1.19s/it]"
     ]
    },
    {
     "name": "stdout",
     "output_type": "stream",
     "text": [
      "New Text: \"should we turn the page\" - Generated Response: Behavioral\n"
     ]
    },
    {
     "name": "stderr",
     "output_type": "stream",
     "text": [
      "Classifying sentences:  34%|███▍      | 342/1000 [06:41<30:39,  2.80s/it]"
     ]
    },
    {
     "name": "stdout",
     "output_type": "stream",
     "text": [
      "New Text: \"we need a piece of paper\" - Generated Response: Teleological\n"
     ]
    },
    {
     "name": "stderr",
     "output_type": "stream",
     "text": [
      "Classifying sentences:  34%|███▍      | 343/1000 [06:43<25:58,  2.37s/it]"
     ]
    },
    {
     "name": "stdout",
     "output_type": "stream",
     "text": [
      "New Text: \"is that are you going to drive to Ed and Irene's farm\" - Generated Response: Behavioral\n"
     ]
    },
    {
     "name": "stderr",
     "output_type": "stream",
     "text": [
      "Classifying sentences:  34%|███▍      | 344/1000 [06:44<23:09,  2.12s/it]"
     ]
    },
    {
     "name": "stdout",
     "output_type": "stream",
     "text": [
      "New Text: \"it's actually the same I don't think it is because it's the same guy Don Freeman who wrote the original Corduroy books\" - Generated Response: Other\n"
     ]
    },
    {
     "name": "stderr",
     "output_type": "stream",
     "text": [
      "Classifying sentences:  34%|███▍      | 345/1000 [06:48<26:47,  2.45s/it]"
     ]
    },
    {
     "name": "stdout",
     "output_type": "stream",
     "text": [
      "New Text: \"xxx doesn't care to get my way to watch tv to get xxx\" - Generated Response: Behavioral\n"
     ]
    },
    {
     "name": "stderr",
     "output_type": "stream",
     "text": [
      "Classifying sentences:  35%|███▍      | 346/1000 [06:49<23:09,  2.12s/it]"
     ]
    },
    {
     "name": "stdout",
     "output_type": "stream",
     "text": [
      "New Text: \"you wanna put the top back on\" - Generated Response: Teleological\n"
     ]
    },
    {
     "name": "stderr",
     "output_type": "stream",
     "text": [
      "Classifying sentences:  35%|███▍      | 347/1000 [06:50<20:17,  1.86s/it]"
     ]
    },
    {
     "name": "stdout",
     "output_type": "stream",
     "text": [
      "New Text: \"one time he bit Mckayla\" - Generated Response: Behavioral\n"
     ]
    },
    {
     "name": "stderr",
     "output_type": "stream",
     "text": [
      "Classifying sentences:  35%|███▍      | 348/1000 [06:52<18:44,  1.73s/it]"
     ]
    },
    {
     "name": "stdout",
     "output_type": "stream",
     "text": [
      "New Text: \"look at all those hearts\" - Generated Response: Perceptual\n"
     ]
    },
    {
     "name": "stderr",
     "output_type": "stream",
     "text": [
      "Classifying sentences:  35%|███▍      | 349/1000 [06:53<16:54,  1.56s/it]"
     ]
    },
    {
     "name": "stdout",
     "output_type": "stream",
     "text": [
      "New Text: \"yeah oh bears and chairs and ah um good_night moon\" - Generated Response: Other\n"
     ]
    },
    {
     "name": "stderr",
     "output_type": "stream",
     "text": [
      "Classifying sentences:  35%|███▌      | 350/1000 [06:54<16:20,  1.51s/it]"
     ]
    },
    {
     "name": "stdout",
     "output_type": "stream",
     "text": [
      "New Text: \"but who mostly painted our house last year\" - Generated Response: Behavioral\n"
     ]
    },
    {
     "name": "stderr",
     "output_type": "stream",
     "text": [
      "Classifying sentences:  35%|███▌      | 351/1000 [06:55<15:46,  1.46s/it]"
     ]
    },
    {
     "name": "stdout",
     "output_type": "stream",
     "text": [
      "New Text: \"cats like tuna+fish so cat pancakes\" - Generated Response: Behavioral\n"
     ]
    },
    {
     "name": "stderr",
     "output_type": "stream",
     "text": [
      "Classifying sentences:  35%|███▌      | 352/1000 [06:57<14:58,  1.39s/it]"
     ]
    },
    {
     "name": "stdout",
     "output_type": "stream",
     "text": [
      "New Text: \"you better tell me what that is ribbit\" - Generated Response: Other\n"
     ]
    },
    {
     "name": "stderr",
     "output_type": "stream",
     "text": [
      "Classifying sentences:  35%|███▌      | 353/1000 [06:58<14:47,  1.37s/it]"
     ]
    },
    {
     "name": "stdout",
     "output_type": "stream",
     "text": [
      "New Text: \"you gotta learn how to talk into the phone\" - Generated Response: Behavioral\n"
     ]
    },
    {
     "name": "stderr",
     "output_type": "stream",
     "text": [
      "Classifying sentences:  35%|███▌      | 354/1000 [06:59<13:57,  1.30s/it]"
     ]
    },
    {
     "name": "stdout",
     "output_type": "stream",
     "text": [
      "New Text: \"you could put it on his ribbon\" - Generated Response: Teleological\n"
     ]
    },
    {
     "name": "stderr",
     "output_type": "stream",
     "text": [
      "Classifying sentences:  36%|███▌      | 355/1000 [07:00<13:03,  1.21s/it]"
     ]
    },
    {
     "name": "stdout",
     "output_type": "stream",
     "text": [
      "New Text: \"after dinner I eat the pie okay\" - Generated Response: Behavioral\n"
     ]
    },
    {
     "name": "stderr",
     "output_type": "stream",
     "text": [
      "Classifying sentences:  36%|███▌      | 356/1000 [07:01<12:20,  1.15s/it]"
     ]
    },
    {
     "name": "stdout",
     "output_type": "stream",
     "text": [
      "New Text: \"why don't I tell you to say some things to your baby okay\" - Generated Response: Other\n"
     ]
    },
    {
     "name": "stderr",
     "output_type": "stream",
     "text": [
      "Classifying sentences:  36%|███▌      | 357/1000 [07:02<12:03,  1.13s/it]"
     ]
    },
    {
     "name": "stdout",
     "output_type": "stream",
     "text": [
      "New Text: \"shall we have one more party before you hafta go to Maggie's house\" - Generated Response: Social\n"
     ]
    },
    {
     "name": "stderr",
     "output_type": "stream",
     "text": [
      "Classifying sentences:  36%|███▌      | 358/1000 [07:03<12:05,  1.13s/it]"
     ]
    },
    {
     "name": "stdout",
     "output_type": "stream",
     "text": [
      "New Text: \"I see it my love\" - Generated Response: Perceptual\n"
     ]
    },
    {
     "name": "stderr",
     "output_type": "stream",
     "text": [
      "Classifying sentences:  36%|███▌      | 359/1000 [07:05<12:56,  1.21s/it]"
     ]
    },
    {
     "name": "stdout",
     "output_type": "stream",
     "text": [
      "New Text: \"no you're not supposed to mess up the block tower\" - Generated Response: Teleological\n"
     ]
    },
    {
     "name": "stderr",
     "output_type": "stream",
     "text": [
      "Classifying sentences:  36%|███▌      | 360/1000 [07:06<12:58,  1.22s/it]"
     ]
    },
    {
     "name": "stdout",
     "output_type": "stream",
     "text": [
      "New Text: \"let's see maybe the monkey can hold the book\" - Generated Response: Behavioral\n"
     ]
    },
    {
     "name": "stderr",
     "output_type": "stream",
     "text": [
      "Classifying sentences:  36%|███▌      | 361/1000 [07:07<12:20,  1.16s/it]"
     ]
    },
    {
     "name": "stdout",
     "output_type": "stream",
     "text": [
      "New Text: \"you wanna try the cookie\" - Generated Response: Other\n"
     ]
    },
    {
     "name": "stderr",
     "output_type": "stream",
     "text": [
      "Classifying sentences:  36%|███▌      | 362/1000 [07:08<12:15,  1.15s/it]"
     ]
    },
    {
     "name": "stdout",
     "output_type": "stream",
     "text": [
      "New Text: \"Mommy is my name do I have another name\" - Generated Response: Other\n"
     ]
    },
    {
     "name": "stderr",
     "output_type": "stream",
     "text": [
      "Classifying sentences:  36%|███▋      | 363/1000 [07:09<12:11,  1.15s/it]"
     ]
    },
    {
     "name": "stdout",
     "output_type": "stream",
     "text": [
      "New Text: \"on Wednesday he ate through three plums but he was still hungry\" - Generated Response: Behavioral\n"
     ]
    },
    {
     "name": "stderr",
     "output_type": "stream",
     "text": [
      "Classifying sentences:  36%|███▋      | 364/1000 [07:11<12:21,  1.17s/it]"
     ]
    },
    {
     "name": "stdout",
     "output_type": "stream",
     "text": [
      "New Text: \"oh okay that's fine you don't have to squish it if you don't feel like it\" - Generated Response: Behavioral\n"
     ]
    },
    {
     "name": "stderr",
     "output_type": "stream",
     "text": [
      "Classifying sentences:  36%|███▋      | 365/1000 [07:12<12:42,  1.20s/it]"
     ]
    },
    {
     "name": "stdout",
     "output_type": "stream",
     "text": [
      "New Text: \"we were making letters remember we were making letters\" - Generated Response: Behavioral\n"
     ]
    },
    {
     "name": "stderr",
     "output_type": "stream",
     "text": [
      "Classifying sentences:  37%|███▋      | 366/1000 [07:13<13:15,  1.25s/it]"
     ]
    },
    {
     "name": "stdout",
     "output_type": "stream",
     "text": [
      "New Text: \"oh look it's professor Frank\" - Generated Response: Other\n"
     ]
    },
    {
     "name": "stderr",
     "output_type": "stream",
     "text": [
      "Classifying sentences:  37%|███▋      | 367/1000 [07:14<12:49,  1.22s/it]"
     ]
    },
    {
     "name": "stdout",
     "output_type": "stream",
     "text": [
      "New Text: \"diju win a free ride\" - Generated Response: Behavioral\n"
     ]
    },
    {
     "name": "stderr",
     "output_type": "stream",
     "text": [
      "Classifying sentences:  37%|███▋      | 368/1000 [07:15<12:31,  1.19s/it]"
     ]
    },
    {
     "name": "stdout",
     "output_type": "stream",
     "text": [
      "New Text: \"I told like for example I told Jean I can't take the scooter anymore about two weeks I started complaining\" - Generated Response: Behavioral\n"
     ]
    },
    {
     "name": "stderr",
     "output_type": "stream",
     "text": [
      "Classifying sentences:  37%|███▋      | 369/1000 [07:17<12:13,  1.16s/it]"
     ]
    },
    {
     "name": "stdout",
     "output_type": "stream",
     "text": [
      "New Text: \"fox smiled I think it's the giants swinging from their chandeliers\" - Generated Response: Other\n"
     ]
    },
    {
     "name": "stderr",
     "output_type": "stream",
     "text": [
      "Classifying sentences:  37%|███▋      | 370/1000 [07:18<11:53,  1.13s/it]"
     ]
    },
    {
     "name": "stdout",
     "output_type": "stream",
     "text": [
      "New Text: \"that looks close to a circle to me\" - Generated Response: Perceptual\n"
     ]
    },
    {
     "name": "stderr",
     "output_type": "stream",
     "text": [
      "Classifying sentences:  37%|███▋      | 371/1000 [07:20<14:24,  1.37s/it]"
     ]
    },
    {
     "name": "stdout",
     "output_type": "stream",
     "text": [
      "New Text: \"I'll go rinse it off for you\" - Generated Response: Behavioral\n"
     ]
    },
    {
     "name": "stderr",
     "output_type": "stream",
     "text": [
      "Classifying sentences:  37%|███▋      | 372/1000 [07:21<13:38,  1.30s/it]"
     ]
    },
    {
     "name": "stdout",
     "output_type": "stream",
     "text": [
      "New Text: \"does that sound like a good idea\" - Generated Response: Other\n"
     ]
    },
    {
     "name": "stderr",
     "output_type": "stream",
     "text": [
      "Classifying sentences:  37%|███▋      | 373/1000 [07:22<12:41,  1.21s/it]"
     ]
    },
    {
     "name": "stdout",
     "output_type": "stream",
     "text": [
      "New Text: \"this is going to sound so strange but it reminds me of The_Wiggles\" - Generated Response: Other\n"
     ]
    },
    {
     "name": "stderr",
     "output_type": "stream",
     "text": [
      "Classifying sentences:  37%|███▋      | 374/1000 [07:23<12:21,  1.18s/it]"
     ]
    },
    {
     "name": "stdout",
     "output_type": "stream",
     "text": [
      "New Text: \"I bet that goes off if you\" - Generated Response: Behavioral\n"
     ]
    },
    {
     "name": "stderr",
     "output_type": "stream",
     "text": [
      "Classifying sentences:  38%|███▊      | 375/1000 [07:24<12:01,  1.15s/it]"
     ]
    },
    {
     "name": "stdout",
     "output_type": "stream",
     "text": [
      "New Text: \"can you put your hand inside and make the parrot's mouth open and close\" - Generated Response: Behavioral\n"
     ]
    },
    {
     "name": "stderr",
     "output_type": "stream",
     "text": [
      "Classifying sentences:  38%|███▊      | 376/1000 [07:25<11:45,  1.13s/it]"
     ]
    },
    {
     "name": "stdout",
     "output_type": "stream",
     "text": [
      "New Text: \"see him looking out the window at the moon\" - Generated Response: Behavioral\n"
     ]
    },
    {
     "name": "stderr",
     "output_type": "stream",
     "text": [
      "Classifying sentences:  38%|███▊      | 377/1000 [07:26<11:41,  1.13s/it]"
     ]
    },
    {
     "name": "stdout",
     "output_type": "stream",
     "text": [
      "New Text: \"you gonna have hair like Dada\" - Generated Response: Biological\n"
     ]
    },
    {
     "name": "stderr",
     "output_type": "stream",
     "text": [
      "Classifying sentences:  38%|███▊      | 378/1000 [07:27<11:27,  1.11s/it]"
     ]
    },
    {
     "name": "stdout",
     "output_type": "stream",
     "text": [
      "New Text: \"what other kind of animals do you think live with him\" - Generated Response: Other\n"
     ]
    },
    {
     "name": "stderr",
     "output_type": "stream",
     "text": [
      "Classifying sentences:  38%|███▊      | 379/1000 [07:28<11:21,  1.10s/it]"
     ]
    },
    {
     "name": "stdout",
     "output_type": "stream",
     "text": [
      "New Text: \"okay you don't want ta look at the books\" - Generated Response: Behavioral\n"
     ]
    },
    {
     "name": "stderr",
     "output_type": "stream",
     "text": [
      "Classifying sentences:  38%|███▊      | 380/1000 [07:29<11:09,  1.08s/it]"
     ]
    },
    {
     "name": "stdout",
     "output_type": "stream",
     "text": [
      "New Text: \"what am I going to work on\" - Generated Response: Other\n"
     ]
    },
    {
     "name": "stderr",
     "output_type": "stream",
     "text": [
      "Classifying sentences:  38%|███▊      | 381/1000 [07:30<11:06,  1.08s/it]"
     ]
    },
    {
     "name": "stdout",
     "output_type": "stream",
     "text": [
      "New Text: \"I am folding the sheet\" - Generated Response: Behavioral\n"
     ]
    },
    {
     "name": "stderr",
     "output_type": "stream",
     "text": [
      "Classifying sentences:  38%|███▊      | 382/1000 [07:31<10:42,  1.04s/it]"
     ]
    },
    {
     "name": "stdout",
     "output_type": "stream",
     "text": [
      "New Text: \"yeah I was switched a couple of times\" - Generated Response: Other\n"
     ]
    },
    {
     "name": "stderr",
     "output_type": "stream",
     "text": [
      "Classifying sentences:  38%|███▊      | 383/1000 [07:32<10:53,  1.06s/it]"
     ]
    },
    {
     "name": "stdout",
     "output_type": "stream",
     "text": [
      "New Text: \"Horton the elephant saw something whiz\" - Generated Response: Behavioral\n"
     ]
    },
    {
     "name": "stderr",
     "output_type": "stream",
     "text": [
      "Classifying sentences:  38%|███▊      | 384/1000 [07:33<10:50,  1.06s/it]"
     ]
    },
    {
     "name": "stdout",
     "output_type": "stream",
     "text": [
      "New Text: \"you're not suppose to scream into the microphone you are suppose to talk\" - Generated Response: Teleological\n"
     ]
    },
    {
     "name": "stderr",
     "output_type": "stream",
     "text": [
      "Classifying sentences:  38%|███▊      | 385/1000 [07:34<10:39,  1.04s/it]"
     ]
    },
    {
     "name": "stdout",
     "output_type": "stream",
     "text": [
      "New Text: \"put the chair closer to the table\" - Generated Response: Other\n"
     ]
    },
    {
     "name": "stderr",
     "output_type": "stream",
     "text": [
      "Classifying sentences:  39%|███▊      | 386/1000 [07:36<11:04,  1.08s/it]"
     ]
    },
    {
     "name": "stdout",
     "output_type": "stream",
     "text": [
      "New Text: \"okay blanket goes down the wash\" - Generated Response: Behavioral\n"
     ]
    },
    {
     "name": "stderr",
     "output_type": "stream",
     "text": [
      "Classifying sentences:  39%|███▊      | 387/1000 [07:37<12:02,  1.18s/it]"
     ]
    },
    {
     "name": "stdout",
     "output_type": "stream",
     "text": [
      "New Text: \"it needs the rain to grow doesn't it\" - Generated Response: Teleological\n"
     ]
    },
    {
     "name": "stderr",
     "output_type": "stream",
     "text": [
      "Classifying sentences:  39%|███▉      | 388/1000 [07:38<11:28,  1.13s/it]"
     ]
    },
    {
     "name": "stdout",
     "output_type": "stream",
     "text": [
      "New Text: \"so I would think that they either don't they either pick it pull it back and let it dry or they um let it dry on the stalks and take it off\" - Generated Response: Behavioral\n"
     ]
    },
    {
     "name": "stderr",
     "output_type": "stream",
     "text": [
      "Classifying sentences:  39%|███▉      | 389/1000 [07:39<11:27,  1.13s/it]"
     ]
    },
    {
     "name": "stdout",
     "output_type": "stream",
     "text": [
      "New Text: \"tomatoes let me think\" - Generated Response: Other\n"
     ]
    },
    {
     "name": "stderr",
     "output_type": "stream",
     "text": [
      "Classifying sentences:  39%|███▉      | 390/1000 [07:40<11:18,  1.11s/it]"
     ]
    },
    {
     "name": "stdout",
     "output_type": "stream",
     "text": [
      "New Text: \"I don't want shaving on my face\" - Generated Response: Behavioral\n"
     ]
    },
    {
     "name": "stderr",
     "output_type": "stream",
     "text": [
      "Classifying sentences:  39%|███▉      | 391/1000 [07:41<10:58,  1.08s/it]"
     ]
    },
    {
     "name": "stdout",
     "output_type": "stream",
     "text": [
      "New Text: \"well yeah there's real football players\" - Generated Response: Social\n"
     ]
    },
    {
     "name": "stderr",
     "output_type": "stream",
     "text": [
      "Classifying sentences:  39%|███▉      | 392/1000 [07:42<11:08,  1.10s/it]"
     ]
    },
    {
     "name": "stdout",
     "output_type": "stream",
     "text": [
      "New Text: \"if I set it on the table then every time somebody pokes something on the table it's gonna go www\" - Generated Response: Behavioral\n"
     ]
    },
    {
     "name": "stderr",
     "output_type": "stream",
     "text": [
      "Classifying sentences:  39%|███▉      | 393/1000 [07:43<11:02,  1.09s/it]"
     ]
    },
    {
     "name": "stdout",
     "output_type": "stream",
     "text": [
      "New Text: \"look that's carbon paper and we don't play on on carbon paper\" - Generated Response: Behavioral\n"
     ]
    },
    {
     "name": "stderr",
     "output_type": "stream",
     "text": [
      "Classifying sentences:  39%|███▉      | 394/1000 [07:44<10:38,  1.05s/it]"
     ]
    },
    {
     "name": "stdout",
     "output_type": "stream",
     "text": [
      "New Text: \"she's gonna step on those pearls\" - Generated Response: Behavioral\n"
     ]
    },
    {
     "name": "stderr",
     "output_type": "stream",
     "text": [
      "Classifying sentences:  40%|███▉      | 395/1000 [07:45<10:39,  1.06s/it]"
     ]
    },
    {
     "name": "stdout",
     "output_type": "stream",
     "text": [
      "New Text: \"that's a cart with pumpkins in it\" - Generated Response: Perceptual\n"
     ]
    },
    {
     "name": "stderr",
     "output_type": "stream",
     "text": [
      "Classifying sentences:  40%|███▉      | 396/1000 [07:48<15:04,  1.50s/it]"
     ]
    },
    {
     "name": "stdout",
     "output_type": "stream",
     "text": [
      "New Text: \"uh reminds me of my sister and her her husband\" - Generated Response: Other\n"
     ]
    },
    {
     "name": "stderr",
     "output_type": "stream",
     "text": [
      "Classifying sentences:  40%|███▉      | 397/1000 [07:49<13:56,  1.39s/it]"
     ]
    },
    {
     "name": "stdout",
     "output_type": "stream",
     "text": [
      "New Text: \"blue is a word that describes things\" - Generated Response: Perceptual\n"
     ]
    },
    {
     "name": "stderr",
     "output_type": "stream",
     "text": [
      "Classifying sentences:  40%|███▉      | 398/1000 [07:51<14:21,  1.43s/it]"
     ]
    },
    {
     "name": "stdout",
     "output_type": "stream",
     "text": [
      "New Text: \"he hadta go in the cave and then what happened\" - Generated Response: Behavioral\n"
     ]
    },
    {
     "name": "stderr",
     "output_type": "stream",
     "text": [
      "Classifying sentences:  40%|███▉      | 399/1000 [07:52<12:59,  1.30s/it]"
     ]
    },
    {
     "name": "stdout",
     "output_type": "stream",
     "text": [
      "New Text: \"oh maybe he wants to talk into the microphone\" - Generated Response: Behavioral\n"
     ]
    },
    {
     "name": "stderr",
     "output_type": "stream",
     "text": [
      "Classifying sentences:  40%|████      | 400/1000 [07:53<12:16,  1.23s/it]"
     ]
    },
    {
     "name": "stdout",
     "output_type": "stream",
     "text": [
      "New Text: \"now here this must be the cat that's gonna come and scoop up all the mice\" - Generated Response: Behavioral\n"
     ]
    },
    {
     "name": "stderr",
     "output_type": "stream",
     "text": [
      "Classifying sentences:  40%|████      | 401/1000 [07:54<11:34,  1.16s/it]"
     ]
    },
    {
     "name": "stdout",
     "output_type": "stream",
     "text": [
      "New Text: \"no don't try to put your mouth around the whole thing\" - Generated Response: Behavioral\n"
     ]
    },
    {
     "name": "stderr",
     "output_type": "stream",
     "text": [
      "Classifying sentences:  40%|████      | 402/1000 [07:55<11:31,  1.16s/it]"
     ]
    },
    {
     "name": "stdout",
     "output_type": "stream",
     "text": [
      "New Text: \"he's wearing a hat\" - Generated Response: Perceptual\n"
     ]
    },
    {
     "name": "stderr",
     "output_type": "stream",
     "text": [
      "Classifying sentences:  40%|████      | 403/1000 [07:56<11:25,  1.15s/it]"
     ]
    },
    {
     "name": "stdout",
     "output_type": "stream",
     "text": [
      "New Text: \"yes Mommy I would like a sip of water\" - Generated Response: Behavioral\n"
     ]
    },
    {
     "name": "stderr",
     "output_type": "stream",
     "text": [
      "Classifying sentences:  40%|████      | 404/1000 [07:57<11:11,  1.13s/it]"
     ]
    },
    {
     "name": "stdout",
     "output_type": "stream",
     "text": [
      "New Text: \"put your egg in a bowl because it's so soft\" - Generated Response: Perceptual\n"
     ]
    },
    {
     "name": "stderr",
     "output_type": "stream",
     "text": [
      "Classifying sentences:  40%|████      | 405/1000 [07:58<10:47,  1.09s/it]"
     ]
    },
    {
     "name": "stdout",
     "output_type": "stream",
     "text": [
      "New Text: \"do you wanna show him but do you know what how do you think Ryan's going to feel when you show him the other side\" - Generated Response: Other\n"
     ]
    },
    {
     "name": "stderr",
     "output_type": "stream",
     "text": [
      "Classifying sentences:  41%|████      | 406/1000 [07:59<11:06,  1.12s/it]"
     ]
    },
    {
     "name": "stdout",
     "output_type": "stream",
     "text": [
      "New Text: \"yeah she got bright colors on\" - Generated Response: Perceptual\n"
     ]
    },
    {
     "name": "stderr",
     "output_type": "stream",
     "text": [
      "Classifying sentences:  41%|████      | 407/1000 [08:00<11:05,  1.12s/it]"
     ]
    },
    {
     "name": "stdout",
     "output_type": "stream",
     "text": [
      "New Text: \"you can pull it Wes pull it with your hand\" - Generated Response: Behavioral\n"
     ]
    },
    {
     "name": "stderr",
     "output_type": "stream",
     "text": [
      "Classifying sentences:  41%|████      | 408/1000 [08:01<10:47,  1.09s/it]"
     ]
    },
    {
     "name": "stdout",
     "output_type": "stream",
     "text": [
      "New Text: \"that is so funny now we have so many pies look at that\" - Generated Response: Other\n"
     ]
    },
    {
     "name": "stderr",
     "output_type": "stream",
     "text": [
      "Classifying sentences:  41%|████      | 409/1000 [08:02<10:35,  1.08s/it]"
     ]
    },
    {
     "name": "stdout",
     "output_type": "stream",
     "text": [
      "New Text: \"I think you've got the wrong idea Ross\" - Generated Response: Other\n"
     ]
    },
    {
     "name": "stderr",
     "output_type": "stream",
     "text": [
      "Classifying sentences:  41%|████      | 410/1000 [08:04<10:34,  1.08s/it]"
     ]
    },
    {
     "name": "stdout",
     "output_type": "stream",
     "text": [
      "New Text: \"well I didn't see them today\" - Generated Response: Perceptual\n"
     ]
    },
    {
     "name": "stderr",
     "output_type": "stream",
     "text": [
      "Classifying sentences:  41%|████      | 411/1000 [08:05<10:19,  1.05s/it]"
     ]
    },
    {
     "name": "stdout",
     "output_type": "stream",
     "text": [
      "New Text: \"and William's gonna watch you put xxx blocks okay\" - Generated Response: Behavioral\n"
     ]
    },
    {
     "name": "stderr",
     "output_type": "stream",
     "text": [
      "Classifying sentences:  41%|████      | 412/1000 [08:06<10:17,  1.05s/it]"
     ]
    },
    {
     "name": "stdout",
     "output_type": "stream",
     "text": [
      "New Text: \"let's go play basketball\" - Generated Response: Behavioral\n"
     ]
    },
    {
     "name": "stderr",
     "output_type": "stream",
     "text": [
      "Classifying sentences:  41%|████▏     | 413/1000 [08:07<10:00,  1.02s/it]"
     ]
    },
    {
     "name": "stdout",
     "output_type": "stream",
     "text": [
      "New Text: \"and then we'll put clothes on her\" - Generated Response: Behavioral\n"
     ]
    },
    {
     "name": "stderr",
     "output_type": "stream",
     "text": [
      "Classifying sentences:  41%|████▏     | 414/1000 [08:08<09:55,  1.02s/it]"
     ]
    },
    {
     "name": "stdout",
     "output_type": "stream",
     "text": [
      "New Text: \"well then just start acting normal Chi\" - Generated Response: Behavioral\n"
     ]
    },
    {
     "name": "stderr",
     "output_type": "stream",
     "text": [
      "Classifying sentences:  42%|████▏     | 415/1000 [08:09<10:01,  1.03s/it]"
     ]
    },
    {
     "name": "stdout",
     "output_type": "stream",
     "text": [
      "New Text: \"how did Markie get his sleeves off\" - Generated Response: Other\n"
     ]
    },
    {
     "name": "stderr",
     "output_type": "stream",
     "text": [
      "Classifying sentences:  42%|████▏     | 416/1000 [08:10<10:35,  1.09s/it]"
     ]
    },
    {
     "name": "stdout",
     "output_type": "stream",
     "text": [
      "New Text: \"I was going to say that he's walking a dog\" - Generated Response: Behavioral\n"
     ]
    },
    {
     "name": "stderr",
     "output_type": "stream",
     "text": [
      "Classifying sentences:  42%|████▏     | 417/1000 [08:11<10:42,  1.10s/it]"
     ]
    },
    {
     "name": "stdout",
     "output_type": "stream",
     "text": [
      "New Text: \"you almost caught it with xxx\" - Generated Response: Behavioral\n"
     ]
    },
    {
     "name": "stderr",
     "output_type": "stream",
     "text": [
      "Classifying sentences:  42%|████▏     | 418/1000 [08:12<11:20,  1.17s/it]"
     ]
    },
    {
     "name": "stdout",
     "output_type": "stream",
     "text": [
      "New Text: \"no I'm gonna buy a ticket from him\" - Generated Response: Behavioral\n"
     ]
    },
    {
     "name": "stderr",
     "output_type": "stream",
     "text": [
      "Classifying sentences:  42%|████▏     | 419/1000 [08:13<11:14,  1.16s/it]"
     ]
    },
    {
     "name": "stdout",
     "output_type": "stream",
     "text": [
      "New Text: \"let's fold up the towel\" - Generated Response: Behavioral\n"
     ]
    },
    {
     "name": "stderr",
     "output_type": "stream",
     "text": [
      "Classifying sentences:  42%|████▏     | 420/1000 [08:15<11:05,  1.15s/it]"
     ]
    },
    {
     "name": "stdout",
     "output_type": "stream",
     "text": [
      "New Text: \"looks like I I love salt\" - Generated Response: Behavioral\n"
     ]
    },
    {
     "name": "stderr",
     "output_type": "stream",
     "text": [
      "Classifying sentences:  42%|████▏     | 421/1000 [08:16<10:46,  1.12s/it]"
     ]
    },
    {
     "name": "stdout",
     "output_type": "stream",
     "text": [
      "New Text: \"oh he's gonna get your sugar\" - Generated Response: Behavioral\n"
     ]
    },
    {
     "name": "stderr",
     "output_type": "stream",
     "text": [
      "Classifying sentences:  42%|████▏     | 422/1000 [08:17<11:03,  1.15s/it]"
     ]
    },
    {
     "name": "stdout",
     "output_type": "stream",
     "text": [
      "New Text: \"did you say that you liked hot+dogs too\" - Generated Response: Behavioral\n"
     ]
    },
    {
     "name": "stderr",
     "output_type": "stream",
     "text": [
      "Classifying sentences:  42%|████▏     | 423/1000 [08:18<11:48,  1.23s/it]"
     ]
    },
    {
     "name": "stdout",
     "output_type": "stream",
     "text": [
      "New Text: \"oh Look what that boy has\" - Generated Response: Other\n"
     ]
    },
    {
     "name": "stderr",
     "output_type": "stream",
     "text": [
      "Classifying sentences:  42%|████▏     | 424/1000 [08:19<11:29,  1.20s/it]"
     ]
    },
    {
     "name": "stdout",
     "output_type": "stream",
     "text": [
      "New Text: \"he's going to use the umbrella for a rocket\" - Generated Response: Teleological\n"
     ]
    },
    {
     "name": "stderr",
     "output_type": "stream",
     "text": [
      "Classifying sentences:  42%|████▎     | 425/1000 [08:21<11:51,  1.24s/it]"
     ]
    },
    {
     "name": "stdout",
     "output_type": "stream",
     "text": [
      "New Text: \"he was screaming I mean at the top of his lungs gum Mommy gum\" - Generated Response: Behavioral\n"
     ]
    },
    {
     "name": "stderr",
     "output_type": "stream",
     "text": [
      "Classifying sentences:  43%|████▎     | 426/1000 [08:22<12:34,  1.32s/it]"
     ]
    },
    {
     "name": "stdout",
     "output_type": "stream",
     "text": [
      "New Text: \"um there's no sense about what time of day or anything it is because it's an indoor setting\" - Generated Response: Perceptual\n"
     ]
    },
    {
     "name": "stderr",
     "output_type": "stream",
     "text": [
      "Classifying sentences:  43%|████▎     | 427/1000 [08:23<11:50,  1.24s/it]"
     ]
    },
    {
     "name": "stdout",
     "output_type": "stream",
     "text": [
      "New Text: \"it looks like you have a little food on your sleeve here\" - Generated Response: Perceptual\n"
     ]
    },
    {
     "name": "stderr",
     "output_type": "stream",
     "text": [
      "Classifying sentences:  43%|████▎     | 428/1000 [08:24<11:12,  1.18s/it]"
     ]
    },
    {
     "name": "stdout",
     "output_type": "stream",
     "text": [
      "New Text: \"is that dirt he's running through the dirt\" - Generated Response: Behavioral\n"
     ]
    },
    {
     "name": "stderr",
     "output_type": "stream",
     "text": [
      "Classifying sentences:  43%|████▎     | 429/1000 [08:25<11:04,  1.16s/it]"
     ]
    },
    {
     "name": "stdout",
     "output_type": "stream",
     "text": [
      "New Text: \"um I think more turtles are little\" - Generated Response: Perceptual\n"
     ]
    },
    {
     "name": "stderr",
     "output_type": "stream",
     "text": [
      "Classifying sentences:  43%|████▎     | 430/1000 [08:26<10:37,  1.12s/it]"
     ]
    },
    {
     "name": "stdout",
     "output_type": "stream",
     "text": [
      "New Text: \"you can use this to shampoo her with\" - Generated Response: Teleological\n"
     ]
    },
    {
     "name": "stderr",
     "output_type": "stream",
     "text": [
      "Classifying sentences:  43%|████▎     | 431/1000 [08:27<10:20,  1.09s/it]"
     ]
    },
    {
     "name": "stdout",
     "output_type": "stream",
     "text": [
      "New Text: \"what do you mean baloney\" - Generated Response: Other\n"
     ]
    },
    {
     "name": "stderr",
     "output_type": "stream",
     "text": [
      "Classifying sentences:  43%|████▎     | 432/1000 [08:28<10:08,  1.07s/it]"
     ]
    },
    {
     "name": "stdout",
     "output_type": "stream",
     "text": [
      "New Text: \"then you can scoop oh there's a big bite you have to open wide\" - Generated Response: Behavioral\n"
     ]
    },
    {
     "name": "stderr",
     "output_type": "stream",
     "text": [
      "Classifying sentences:  43%|████▎     | 433/1000 [08:30<10:15,  1.09s/it]"
     ]
    },
    {
     "name": "stdout",
     "output_type": "stream",
     "text": [
      "New Text: \"do you wanna put the cheese in the bread\" - Generated Response: Behavioral\n"
     ]
    },
    {
     "name": "stderr",
     "output_type": "stream",
     "text": [
      "Classifying sentences:  43%|████▎     | 434/1000 [08:31<11:40,  1.24s/it]"
     ]
    },
    {
     "name": "stdout",
     "output_type": "stream",
     "text": [
      "New Text: \"how I can make the back wheels spin\" - Generated Response: Behavioral\n"
     ]
    },
    {
     "name": "stderr",
     "output_type": "stream",
     "text": [
      "Classifying sentences:  44%|████▎     | 435/1000 [08:32<11:28,  1.22s/it]"
     ]
    },
    {
     "name": "stdout",
     "output_type": "stream",
     "text": [
      "New Text: \"so he decided to count it\" - Generated Response: Behavioral\n"
     ]
    },
    {
     "name": "stderr",
     "output_type": "stream",
     "text": [
      "Classifying sentences:  44%|████▎     | 436/1000 [08:33<11:12,  1.19s/it]"
     ]
    },
    {
     "name": "stdout",
     "output_type": "stream",
     "text": [
      "New Text: \"would you be able to bong it better\" - Generated Response: Other\n"
     ]
    },
    {
     "name": "stderr",
     "output_type": "stream",
     "text": [
      "Classifying sentences:  44%|████▎     | 437/1000 [08:35<11:34,  1.23s/it]"
     ]
    },
    {
     "name": "stdout",
     "output_type": "stream",
     "text": [
      "New Text: \"that looks like it would be a good dinner\" - Generated Response: Perceptual\n"
     ]
    },
    {
     "name": "stderr",
     "output_type": "stream",
     "text": [
      "Classifying sentences:  44%|████▍     | 438/1000 [08:36<11:09,  1.19s/it]"
     ]
    },
    {
     "name": "stdout",
     "output_type": "stream",
     "text": [
      "New Text: \"maybe you could cut some things from it\" - Generated Response: Other\n"
     ]
    },
    {
     "name": "stderr",
     "output_type": "stream",
     "text": [
      "Classifying sentences:  44%|████▍     | 439/1000 [08:37<10:57,  1.17s/it]"
     ]
    },
    {
     "name": "stdout",
     "output_type": "stream",
     "text": [
      "New Text: \"no I don't needta take the top off\" - Generated Response: Behavioral\n"
     ]
    },
    {
     "name": "stderr",
     "output_type": "stream",
     "text": [
      "Classifying sentences:  44%|████▍     | 440/1000 [08:38<10:39,  1.14s/it]"
     ]
    },
    {
     "name": "stdout",
     "output_type": "stream",
     "text": [
      "New Text: \"you gonna make lobster soup\" - Generated Response: Behavioral\n"
     ]
    },
    {
     "name": "stderr",
     "output_type": "stream",
     "text": [
      "Classifying sentences:  44%|████▍     | 441/1000 [08:39<10:26,  1.12s/it]"
     ]
    },
    {
     "name": "stdout",
     "output_type": "stream",
     "text": [
      "New Text: \"I'm gonna take a picture of you\" - Generated Response: Behavioral\n"
     ]
    },
    {
     "name": "stderr",
     "output_type": "stream",
     "text": [
      "Classifying sentences:  44%|████▍     | 442/1000 [08:41<11:44,  1.26s/it]"
     ]
    },
    {
     "name": "stdout",
     "output_type": "stream",
     "text": [
      "New Text: \"lets play with this stuff\" - Generated Response: Behavioral\n"
     ]
    },
    {
     "name": "stderr",
     "output_type": "stream",
     "text": [
      "Classifying sentences:  44%|████▍     | 443/1000 [08:42<12:07,  1.31s/it]"
     ]
    },
    {
     "name": "stdout",
     "output_type": "stream",
     "text": [
      "New Text: \"now you've got two new animals a doggy and a kangaroo\" - Generated Response: Other\n"
     ]
    },
    {
     "name": "stderr",
     "output_type": "stream",
     "text": [
      "Classifying sentences:  44%|████▍     | 444/1000 [08:44<13:03,  1.41s/it]"
     ]
    },
    {
     "name": "stdout",
     "output_type": "stream",
     "text": [
      "New Text: \"where are those lists of what everybody wanted\" - Generated Response: Other\n"
     ]
    },
    {
     "name": "stderr",
     "output_type": "stream",
     "text": [
      "Classifying sentences:  44%|████▍     | 445/1000 [08:47<17:58,  1.94s/it]"
     ]
    },
    {
     "name": "stdout",
     "output_type": "stream",
     "text": [
      "New Text: \"ah what a horrible breakfast and of course he was in such a hurry a rush he only ate half of it\" - Generated Response: Behavioral\n"
     ]
    },
    {
     "name": "stderr",
     "output_type": "stream",
     "text": [
      "Classifying sentences:  45%|████▍     | 446/1000 [08:48<15:50,  1.72s/it]"
     ]
    },
    {
     "name": "stdout",
     "output_type": "stream",
     "text": [
      "New Text: \"can I see the spider\" - Generated Response: Other\n"
     ]
    },
    {
     "name": "stderr",
     "output_type": "stream",
     "text": [
      "Classifying sentences:  45%|████▍     | 447/1000 [08:49<14:42,  1.60s/it]"
     ]
    },
    {
     "name": "stdout",
     "output_type": "stream",
     "text": [
      "New Text: \"it's not like I can eat on the tape\" - Generated Response: Behavioral\n"
     ]
    },
    {
     "name": "stderr",
     "output_type": "stream",
     "text": [
      "Classifying sentences:  45%|████▍     | 448/1000 [08:51<14:21,  1.56s/it]"
     ]
    },
    {
     "name": "stdout",
     "output_type": "stream",
     "text": [
      "New Text: \"whoa look at this book\" - Generated Response: Other\n"
     ]
    },
    {
     "name": "stderr",
     "output_type": "stream",
     "text": [
      "Classifying sentences:  45%|████▍     | 449/1000 [08:53<15:01,  1.64s/it]"
     ]
    },
    {
     "name": "stdout",
     "output_type": "stream",
     "text": [
      "New Text: \"you're eating your jelly bean\" - Generated Response: Behavioral\n"
     ]
    },
    {
     "name": "stderr",
     "output_type": "stream",
     "text": [
      "Classifying sentences:  45%|████▌     | 450/1000 [08:54<14:35,  1.59s/it]"
     ]
    },
    {
     "name": "stdout",
     "output_type": "stream",
     "text": [
      "New Text: \"and she recognized almost all the underwater animals\" - Generated Response: Behavioral\n"
     ]
    },
    {
     "name": "stderr",
     "output_type": "stream",
     "text": [
      "Classifying sentences:  45%|████▌     | 451/1000 [08:55<13:23,  1.46s/it]"
     ]
    },
    {
     "name": "stdout",
     "output_type": "stream",
     "text": [
      "New Text: \"you said those sentences yeah that's where mine are\" - Generated Response: Other\n"
     ]
    },
    {
     "name": "stderr",
     "output_type": "stream",
     "text": [
      "Classifying sentences:  45%|████▌     | 452/1000 [08:56<12:16,  1.34s/it]"
     ]
    },
    {
     "name": "stdout",
     "output_type": "stream",
     "text": [
      "New Text: \"this floor useta come over\" - Generated Response: Other\n"
     ]
    },
    {
     "name": "stderr",
     "output_type": "stream",
     "text": [
      "Classifying sentences:  45%|████▌     | 453/1000 [08:58<11:25,  1.25s/it]"
     ]
    },
    {
     "name": "stdout",
     "output_type": "stream",
     "text": [
      "New Text: \"you can dump things out\" - Generated Response: Teleological\n"
     ]
    },
    {
     "name": "stderr",
     "output_type": "stream",
     "text": [
      "Classifying sentences:  45%|████▌     | 454/1000 [08:59<11:27,  1.26s/it]"
     ]
    },
    {
     "name": "stdout",
     "output_type": "stream",
     "text": [
      "New Text: \"that's why the shell is sticking to the egg\" - Generated Response: Perceptual\n"
     ]
    },
    {
     "name": "stderr",
     "output_type": "stream",
     "text": [
      "Classifying sentences:  46%|████▌     | 455/1000 [09:00<12:01,  1.32s/it]"
     ]
    },
    {
     "name": "stdout",
     "output_type": "stream",
     "text": [
      "New Text: \"do you want me to drink the whole bottle\" - Generated Response: Behavioral\n"
     ]
    },
    {
     "name": "stderr",
     "output_type": "stream",
     "text": [
      "Classifying sentences:  46%|████▌     | 456/1000 [09:02<12:34,  1.39s/it]"
     ]
    },
    {
     "name": "stdout",
     "output_type": "stream",
     "text": [
      "New Text: \"he's usually interested in animals you_know we don't thinking about it we don't have a_lot of animals that size in detail\" - Generated Response: Behavioral\n"
     ]
    },
    {
     "name": "stderr",
     "output_type": "stream",
     "text": [
      "Classifying sentences:  46%|████▌     | 457/1000 [09:03<11:48,  1.30s/it]"
     ]
    },
    {
     "name": "stdout",
     "output_type": "stream",
     "text": [
      "New Text: \"keep your legs straight so you don't twist everywhere\" - Generated Response: Behavioral\n"
     ]
    },
    {
     "name": "stderr",
     "output_type": "stream",
     "text": [
      "Classifying sentences:  46%|████▌     | 458/1000 [09:04<11:20,  1.26s/it]"
     ]
    },
    {
     "name": "stdout",
     "output_type": "stream",
     "text": [
      "New Text: \"look the Daddy's doing the dishes\" - Generated Response: Behavioral\n"
     ]
    },
    {
     "name": "stderr",
     "output_type": "stream",
     "text": [
      "Classifying sentences:  46%|████▌     | 459/1000 [09:06<11:48,  1.31s/it]"
     ]
    },
    {
     "name": "stdout",
     "output_type": "stream",
     "text": [
      "New Text: \"sing her a song\" - Generated Response: Behavioral\n"
     ]
    },
    {
     "name": "stderr",
     "output_type": "stream",
     "text": [
      "Classifying sentences:  46%|████▌     | 460/1000 [09:08<15:26,  1.72s/it]"
     ]
    },
    {
     "name": "stdout",
     "output_type": "stream",
     "text": [
      "New Text: \"how do you tell the difference difference between Wonder Woman and Fred Flintstone\" - Generated Response: Other\n"
     ]
    },
    {
     "name": "stderr",
     "output_type": "stream",
     "text": [
      "Classifying sentences:  46%|████▌     | 461/1000 [09:09<14:09,  1.58s/it]"
     ]
    },
    {
     "name": "stdout",
     "output_type": "stream",
     "text": [
      "New Text: \"see the ladder\" - Generated Response: Perceptual\n"
     ]
    },
    {
     "name": "stderr",
     "output_type": "stream",
     "text": [
      "Classifying sentences:  46%|████▌     | 462/1000 [09:11<14:15,  1.59s/it]"
     ]
    },
    {
     "name": "stdout",
     "output_type": "stream",
     "text": [
      "New Text: \"they're gonna go byebye\" - Generated Response: Behavioral\n"
     ]
    },
    {
     "name": "stderr",
     "output_type": "stream",
     "text": [
      "Classifying sentences:  46%|████▋     | 463/1000 [09:12<13:30,  1.51s/it]"
     ]
    },
    {
     "name": "stdout",
     "output_type": "stream",
     "text": [
      "New Text: \"hey Firstname come give me a hug\" - Generated Response: Behavioral\n"
     ]
    },
    {
     "name": "stderr",
     "output_type": "stream",
     "text": [
      "Classifying sentences:  46%|████▋     | 464/1000 [09:13<12:23,  1.39s/it]"
     ]
    },
    {
     "name": "stdout",
     "output_type": "stream",
     "text": [
      "New Text: \"you can probably figure out which ones are matching\" - Generated Response: Other\n"
     ]
    },
    {
     "name": "stderr",
     "output_type": "stream",
     "text": [
      "Classifying sentences:  46%|████▋     | 465/1000 [09:15<12:49,  1.44s/it]"
     ]
    },
    {
     "name": "stdout",
     "output_type": "stream",
     "text": [
      "New Text: \"that's the dripping water the faucet's leaking a little\" - Generated Response: Behavioral\n"
     ]
    },
    {
     "name": "stderr",
     "output_type": "stream",
     "text": [
      "Classifying sentences:  47%|████▋     | 466/1000 [09:18<17:10,  1.93s/it]"
     ]
    },
    {
     "name": "stdout",
     "output_type": "stream",
     "text": [
      "New Text: \"I also like the texture 'cause it's semi_crystallized\" - Generated Response: Perceptual\n"
     ]
    },
    {
     "name": "stderr",
     "output_type": "stream",
     "text": [
      "Classifying sentences:  47%|████▋     | 467/1000 [09:20<16:05,  1.81s/it]"
     ]
    },
    {
     "name": "stdout",
     "output_type": "stream",
     "text": [
      "New Text: \"who can take out the trash do you think\" - Generated Response: Behavioral\n"
     ]
    },
    {
     "name": "stderr",
     "output_type": "stream",
     "text": [
      "Classifying sentences:  47%|████▋     | 468/1000 [09:21<14:36,  1.65s/it]"
     ]
    },
    {
     "name": "stdout",
     "output_type": "stream",
     "text": [
      "New Text: \"xxx bless the Lord for giving us this food xxx\" - Generated Response: Other\n"
     ]
    },
    {
     "name": "stderr",
     "output_type": "stream",
     "text": [
      "Classifying sentences:  47%|████▋     | 469/1000 [09:22<13:50,  1.56s/it]"
     ]
    },
    {
     "name": "stdout",
     "output_type": "stream",
     "text": [
      "New Text: \"perhaps the wheels are down in the box\" - Generated Response: Other\n"
     ]
    },
    {
     "name": "stderr",
     "output_type": "stream",
     "text": [
      "Classifying sentences:  47%|████▋     | 470/1000 [09:24<13:03,  1.48s/it]"
     ]
    },
    {
     "name": "stdout",
     "output_type": "stream",
     "text": [
      "New Text: \"well if you ask Firstname it's a cookie\" - Generated Response: Other\n"
     ]
    },
    {
     "name": "stderr",
     "output_type": "stream",
     "text": [
      "Classifying sentences:  47%|████▋     | 471/1000 [09:25<12:34,  1.43s/it]"
     ]
    },
    {
     "name": "stdout",
     "output_type": "stream",
     "text": [
      "New Text: \"gotta eat your food\" - Generated Response: Behavioral\n"
     ]
    },
    {
     "name": "stderr",
     "output_type": "stream",
     "text": [
      "Classifying sentences:  47%|████▋     | 472/1000 [09:26<12:31,  1.42s/it]"
     ]
    },
    {
     "name": "stdout",
     "output_type": "stream",
     "text": [
      "New Text: \"should I make spaghetti and meatballs\" - Generated Response: Behavioral\n"
     ]
    },
    {
     "name": "stderr",
     "output_type": "stream",
     "text": [
      "Classifying sentences:  47%|████▋     | 473/1000 [09:28<12:28,  1.42s/it]"
     ]
    },
    {
     "name": "stdout",
     "output_type": "stream",
     "text": [
      "New Text: \"I told you xxx\" - Generated Response: Other\n"
     ]
    },
    {
     "name": "stderr",
     "output_type": "stream",
     "text": [
      "Classifying sentences:  47%|████▋     | 474/1000 [09:29<11:19,  1.29s/it]"
     ]
    },
    {
     "name": "stdout",
     "output_type": "stream",
     "text": [
      "New Text: \"whoops I put it in wrong\" - Generated Response: Behavioral\n"
     ]
    },
    {
     "name": "stderr",
     "output_type": "stream",
     "text": [
      "Classifying sentences:  48%|████▊     | 475/1000 [09:30<10:22,  1.19s/it]"
     ]
    },
    {
     "name": "stdout",
     "output_type": "stream",
     "text": [
      "New Text: \"you done nursing\" - Generated Response: Behavioral\n"
     ]
    },
    {
     "name": "stderr",
     "output_type": "stream",
     "text": [
      "Classifying sentences:  48%|████▊     | 476/1000 [09:31<10:20,  1.18s/it]"
     ]
    },
    {
     "name": "stdout",
     "output_type": "stream",
     "text": [
      "New Text: \"well should I see if he fits in any of these\" - Generated Response: Other\n"
     ]
    },
    {
     "name": "stderr",
     "output_type": "stream",
     "text": [
      "Classifying sentences:  48%|████▊     | 477/1000 [09:32<10:29,  1.20s/it]"
     ]
    },
    {
     "name": "stdout",
     "output_type": "stream",
     "text": [
      "New Text: \"they got this really green like a like a real frog\" - Generated Response: Perceptual\n"
     ]
    },
    {
     "name": "stderr",
     "output_type": "stream",
     "text": [
      "Classifying sentences:  48%|████▊     | 478/1000 [09:33<10:30,  1.21s/it]"
     ]
    },
    {
     "name": "stdout",
     "output_type": "stream",
     "text": [
      "New Text: \"and when we sit in all that heat we wish that we had used our feet\" - Generated Response: Behavioral\n"
     ]
    },
    {
     "name": "stderr",
     "output_type": "stream",
     "text": [
      "Classifying sentences:  48%|████▊     | 479/1000 [09:34<10:21,  1.19s/it]"
     ]
    },
    {
     "name": "stdout",
     "output_type": "stream",
     "text": [
      "New Text: \"okay now they're going to beddie\" - Generated Response: Behavioral\n"
     ]
    },
    {
     "name": "stderr",
     "output_type": "stream",
     "text": [
      "Classifying sentences:  48%|████▊     | 480/1000 [09:36<10:10,  1.17s/it]"
     ]
    },
    {
     "name": "stdout",
     "output_type": "stream",
     "text": [
      "New Text: \"tug and tow tug and tow\" - Generated Response: Behavioral\n"
     ]
    },
    {
     "name": "stderr",
     "output_type": "stream",
     "text": [
      "Classifying sentences:  48%|████▊     | 481/1000 [09:37<10:03,  1.16s/it]"
     ]
    },
    {
     "name": "stdout",
     "output_type": "stream",
     "text": [
      "New Text: \"and it's cooking so we stay away from things that are hot and cooking\" - Generated Response: Behavioral\n"
     ]
    },
    {
     "name": "stderr",
     "output_type": "stream",
     "text": [
      "Classifying sentences:  48%|████▊     | 482/1000 [09:38<10:35,  1.23s/it]"
     ]
    },
    {
     "name": "stdout",
     "output_type": "stream",
     "text": [
      "New Text: \"let's go see how things are moving\" - Generated Response: Behavioral\n"
     ]
    },
    {
     "name": "stderr",
     "output_type": "stream",
     "text": [
      "Classifying sentences:  48%|████▊     | 483/1000 [09:39<10:19,  1.20s/it]"
     ]
    },
    {
     "name": "stdout",
     "output_type": "stream",
     "text": [
      "New Text: \"you liked that last time\" - Generated Response: Behavioral\n"
     ]
    },
    {
     "name": "stderr",
     "output_type": "stream",
     "text": [
      "Classifying sentences:  48%|████▊     | 484/1000 [09:40<10:04,  1.17s/it]"
     ]
    },
    {
     "name": "stdout",
     "output_type": "stream",
     "text": [
      "New Text: \"there's the bus\" - Generated Response: Other\n"
     ]
    },
    {
     "name": "stderr",
     "output_type": "stream",
     "text": [
      "Classifying sentences:  48%|████▊     | 485/1000 [09:42<10:08,  1.18s/it]"
     ]
    },
    {
     "name": "stdout",
     "output_type": "stream",
     "text": [
      "New Text: \"where did you get this jammie blanket\" - Generated Response: Other\n"
     ]
    },
    {
     "name": "stderr",
     "output_type": "stream",
     "text": [
      "Classifying sentences:  49%|████▊     | 486/1000 [09:43<10:06,  1.18s/it]"
     ]
    },
    {
     "name": "stdout",
     "output_type": "stream",
     "text": [
      "New Text: \"and the bathtub oh the last page where it has all the pictures of Maisy\" - Generated Response: Other\n"
     ]
    },
    {
     "name": "stderr",
     "output_type": "stream",
     "text": [
      "Classifying sentences:  49%|████▊     | 487/1000 [09:44<09:39,  1.13s/it]"
     ]
    },
    {
     "name": "stdout",
     "output_type": "stream",
     "text": [
      "New Text: \"okay let's press this button\" - Generated Response: Behavioral\n"
     ]
    },
    {
     "name": "stderr",
     "output_type": "stream",
     "text": [
      "Classifying sentences:  49%|████▉     | 488/1000 [09:45<09:31,  1.12s/it]"
     ]
    },
    {
     "name": "stdout",
     "output_type": "stream",
     "text": [
      "New Text: \"I'm gonna give you some pieces of pancake there\" - Generated Response: Behavioral\n"
     ]
    },
    {
     "name": "stderr",
     "output_type": "stream",
     "text": [
      "Classifying sentences:  49%|████▉     | 489/1000 [09:46<09:20,  1.10s/it]"
     ]
    },
    {
     "name": "stdout",
     "output_type": "stream",
     "text": [
      "New Text: \"I'll tell you the whole deal\" - Generated Response: Behavioral\n"
     ]
    },
    {
     "name": "stderr",
     "output_type": "stream",
     "text": [
      "Classifying sentences:  49%|████▉     | 490/1000 [09:47<09:05,  1.07s/it]"
     ]
    },
    {
     "name": "stdout",
     "output_type": "stream",
     "text": [
      "New Text: \"Amye is busy listening to the tape\" - Generated Response: Behavioral\n"
     ]
    },
    {
     "name": "stderr",
     "output_type": "stream",
     "text": [
      "Classifying sentences:  49%|████▉     | 491/1000 [09:49<13:03,  1.54s/it]"
     ]
    },
    {
     "name": "stdout",
     "output_type": "stream",
     "text": [
      "New Text: \"Baby Bear found a rocket in the closet under the stairs\" - Generated Response: Behavioral\n"
     ]
    },
    {
     "name": "stderr",
     "output_type": "stream",
     "text": [
      "Classifying sentences:  49%|████▉     | 492/1000 [09:51<12:14,  1.45s/it]"
     ]
    },
    {
     "name": "stdout",
     "output_type": "stream",
     "text": [
      "New Text: \"I know you see punching a lot on T V but you still don't punch\" - Generated Response: Behavioral\n"
     ]
    },
    {
     "name": "stderr",
     "output_type": "stream",
     "text": [
      "Classifying sentences:  49%|████▉     | 493/1000 [09:52<11:02,  1.31s/it]"
     ]
    },
    {
     "name": "stdout",
     "output_type": "stream",
     "text": [
      "New Text: \"she's not gonna go to sleep\" - Generated Response: Behavioral\n"
     ]
    },
    {
     "name": "stderr",
     "output_type": "stream",
     "text": [
      "Classifying sentences:  49%|████▉     | 494/1000 [09:53<10:18,  1.22s/it]"
     ]
    },
    {
     "name": "stdout",
     "output_type": "stream",
     "text": [
      "New Text: \"she likes to play with those and make a mess and throw them all over the place\" - Generated Response: Behavioral\n"
     ]
    },
    {
     "name": "stderr",
     "output_type": "stream",
     "text": [
      "Classifying sentences:  50%|████▉     | 495/1000 [09:54<09:50,  1.17s/it]"
     ]
    },
    {
     "name": "stdout",
     "output_type": "stream",
     "text": [
      "New Text: \"this big little golden book belongs to\" - Generated Response: Teleological\n"
     ]
    },
    {
     "name": "stderr",
     "output_type": "stream",
     "text": [
      "Classifying sentences:  50%|████▉     | 496/1000 [09:55<09:14,  1.10s/it]"
     ]
    },
    {
     "name": "stdout",
     "output_type": "stream",
     "text": [
      "New Text: \"if they're making too much noise\" - Generated Response: Behavioral\n"
     ]
    },
    {
     "name": "stderr",
     "output_type": "stream",
     "text": [
      "Classifying sentences:  50%|████▉     | 497/1000 [09:56<08:56,  1.07s/it]"
     ]
    },
    {
     "name": "stdout",
     "output_type": "stream",
     "text": [
      "New Text: \"that's fine then you bought it xxx\" - Generated Response: Other\n"
     ]
    },
    {
     "name": "stderr",
     "output_type": "stream",
     "text": [
      "Classifying sentences:  50%|████▉     | 498/1000 [09:57<08:39,  1.03s/it]"
     ]
    },
    {
     "name": "stdout",
     "output_type": "stream",
     "text": [
      "New Text: \"Mickey_mouse and Minnie_mouse and barbells and all kinds of things\" - Generated Response: Other\n"
     ]
    },
    {
     "name": "stderr",
     "output_type": "stream",
     "text": [
      "Classifying sentences:  50%|████▉     | 499/1000 [09:58<08:38,  1.04s/it]"
     ]
    },
    {
     "name": "stdout",
     "output_type": "stream",
     "text": [
      "New Text: \"but we can make believe we're cooking the eggs\" - Generated Response: Behavioral\n"
     ]
    },
    {
     "name": "stderr",
     "output_type": "stream",
     "text": [
      "Classifying sentences:  50%|█████     | 500/1000 [09:59<08:44,  1.05s/it]"
     ]
    },
    {
     "name": "stdout",
     "output_type": "stream",
     "text": [
      "New Text: \"and uh she looks uh kinda bundled up doesn't she that pussy cat\" - Generated Response: Perceptual\n"
     ]
    },
    {
     "name": "stderr",
     "output_type": "stream",
     "text": [
      "Classifying sentences:  50%|█████     | 501/1000 [10:00<09:55,  1.19s/it]"
     ]
    },
    {
     "name": "stdout",
     "output_type": "stream",
     "text": [
      "New Text: \"look we can have some spaghetti\" - Generated Response: Behavioral\n"
     ]
    },
    {
     "name": "stderr",
     "output_type": "stream",
     "text": [
      "Classifying sentences:  50%|█████     | 502/1000 [10:01<09:47,  1.18s/it]"
     ]
    },
    {
     "name": "stdout",
     "output_type": "stream",
     "text": [
      "New Text: \"he looks like an Ewok from Star Wars\" - Generated Response: Perceptual\n"
     ]
    },
    {
     "name": "stderr",
     "output_type": "stream",
     "text": [
      "Classifying sentences:  50%|█████     | 503/1000 [10:02<09:12,  1.11s/it]"
     ]
    },
    {
     "name": "stdout",
     "output_type": "stream",
     "text": [
      "New Text: \"you wanna play with Sheryl today\" - Generated Response: Social\n"
     ]
    },
    {
     "name": "stderr",
     "output_type": "stream",
     "text": [
      "Classifying sentences:  50%|█████     | 504/1000 [10:04<09:12,  1.11s/it]"
     ]
    },
    {
     "name": "stdout",
     "output_type": "stream",
     "text": [
      "New Text: \"Snoopy took off his something and said yikes\" - Generated Response: Behavioral\n"
     ]
    },
    {
     "name": "stderr",
     "output_type": "stream",
     "text": [
      "Classifying sentences:  50%|█████     | 505/1000 [10:05<09:07,  1.11s/it]"
     ]
    },
    {
     "name": "stdout",
     "output_type": "stream",
     "text": [
      "New Text: \"lemme see boy\" - Generated Response: Other\n"
     ]
    },
    {
     "name": "stderr",
     "output_type": "stream",
     "text": [
      "Classifying sentences:  51%|█████     | 506/1000 [10:06<09:08,  1.11s/it]"
     ]
    },
    {
     "name": "stdout",
     "output_type": "stream",
     "text": [
      "New Text: \"who can help bake cookies\" - Generated Response: Behavioral\n"
     ]
    },
    {
     "name": "stderr",
     "output_type": "stream",
     "text": [
      "Classifying sentences:  51%|█████     | 507/1000 [10:07<09:24,  1.15s/it]"
     ]
    },
    {
     "name": "stdout",
     "output_type": "stream",
     "text": [
      "New Text: \"so it's interesting to see that she liked that\" - Generated Response: Other\n"
     ]
    },
    {
     "name": "stderr",
     "output_type": "stream",
     "text": [
      "Classifying sentences:  51%|█████     | 508/1000 [10:08<09:04,  1.11s/it]"
     ]
    },
    {
     "name": "stdout",
     "output_type": "stream",
     "text": [
      "New Text: \"all the stuff we played with this morning\" - Generated Response: Behavioral\n"
     ]
    },
    {
     "name": "stderr",
     "output_type": "stream",
     "text": [
      "Classifying sentences:  51%|█████     | 509/1000 [10:09<09:05,  1.11s/it]"
     ]
    },
    {
     "name": "stdout",
     "output_type": "stream",
     "text": [
      "New Text: \"what do you suppose is in this muffin\" - Generated Response: Other\n"
     ]
    },
    {
     "name": "stderr",
     "output_type": "stream",
     "text": [
      "Classifying sentences:  51%|█████     | 510/1000 [10:10<08:55,  1.09s/it]"
     ]
    },
    {
     "name": "stdout",
     "output_type": "stream",
     "text": [
      "New Text: \"but this afternoon after lunch I want you to take a nice long nap\" - Generated Response: Behavioral\n"
     ]
    },
    {
     "name": "stderr",
     "output_type": "stream",
     "text": [
      "Classifying sentences:  51%|█████     | 511/1000 [10:11<09:12,  1.13s/it]"
     ]
    },
    {
     "name": "stdout",
     "output_type": "stream",
     "text": [
      "New Text: \"uhoh where did it go\" - Generated Response: Other\n"
     ]
    },
    {
     "name": "stderr",
     "output_type": "stream",
     "text": [
      "Classifying sentences:  51%|█████     | 512/1000 [10:12<09:10,  1.13s/it]"
     ]
    },
    {
     "name": "stdout",
     "output_type": "stream",
     "text": [
      "New Text: \"you gonna make them play on the branch\" - Generated Response: Behavioral\n"
     ]
    },
    {
     "name": "stderr",
     "output_type": "stream",
     "text": [
      "Classifying sentences:  51%|█████▏    | 513/1000 [10:14<09:09,  1.13s/it]"
     ]
    },
    {
     "name": "stdout",
     "output_type": "stream",
     "text": [
      "New Text: \"where do you get these toys\" - Generated Response: Other\n"
     ]
    },
    {
     "name": "stderr",
     "output_type": "stream",
     "text": [
      "Classifying sentences:  51%|█████▏    | 514/1000 [10:15<09:00,  1.11s/it]"
     ]
    },
    {
     "name": "stdout",
     "output_type": "stream",
     "text": [
      "New Text: \"well you know here's the deal there's all ready pancakes on those\" - Generated Response: Other\n"
     ]
    },
    {
     "name": "stderr",
     "output_type": "stream",
     "text": [
      "Classifying sentences:  52%|█████▏    | 515/1000 [10:16<09:08,  1.13s/it]"
     ]
    },
    {
     "name": "stdout",
     "output_type": "stream",
     "text": [
      "New Text: \"she loves to dress up\" - Generated Response: Behavioral\n"
     ]
    },
    {
     "name": "stderr",
     "output_type": "stream",
     "text": [
      "Classifying sentences:  52%|█████▏    | 516/1000 [10:17<09:21,  1.16s/it]"
     ]
    },
    {
     "name": "stdout",
     "output_type": "stream",
     "text": [
      "New Text: \"do you see patterns that it makes sometimes\" - Generated Response: Perceptual\n"
     ]
    },
    {
     "name": "stderr",
     "output_type": "stream",
     "text": [
      "Classifying sentences:  52%|█████▏    | 517/1000 [10:18<09:30,  1.18s/it]"
     ]
    },
    {
     "name": "stdout",
     "output_type": "stream",
     "text": [
      "New Text: \"Momma making oh is this the cake let me try it\" - Generated Response: Behavioral\n"
     ]
    },
    {
     "name": "stderr",
     "output_type": "stream",
     "text": [
      "Classifying sentences:  52%|█████▏    | 518/1000 [10:19<09:17,  1.16s/it]"
     ]
    },
    {
     "name": "stdout",
     "output_type": "stream",
     "text": [
      "New Text: \"did you just get yourself some more paper\" - Generated Response: Behavioral\n"
     ]
    },
    {
     "name": "stderr",
     "output_type": "stream",
     "text": [
      "Classifying sentences:  52%|█████▏    | 519/1000 [10:21<09:15,  1.16s/it]"
     ]
    },
    {
     "name": "stdout",
     "output_type": "stream",
     "text": [
      "New Text: \"we went well one time we went to Virginia Beach\" - Generated Response: Behavioral\n"
     ]
    },
    {
     "name": "stderr",
     "output_type": "stream",
     "text": [
      "Classifying sentences:  52%|█████▏    | 520/1000 [10:22<09:04,  1.13s/it]"
     ]
    },
    {
     "name": "stdout",
     "output_type": "stream",
     "text": [
      "New Text: \"oh you're putting on your sock\" - Generated Response: Behavioral\n"
     ]
    },
    {
     "name": "stderr",
     "output_type": "stream",
     "text": [
      "Classifying sentences:  52%|█████▏    | 521/1000 [10:23<08:53,  1.11s/it]"
     ]
    },
    {
     "name": "stdout",
     "output_type": "stream",
     "text": [
      "New Text: \"playing in the refrigerator\" - Generated Response: Behavioral\n"
     ]
    },
    {
     "name": "stderr",
     "output_type": "stream",
     "text": [
      "Classifying sentences:  52%|█████▏    | 522/1000 [10:24<08:50,  1.11s/it]"
     ]
    },
    {
     "name": "stdout",
     "output_type": "stream",
     "text": [
      "New Text: \"Mommy useta be able to balance books on your head\" - Generated Response: Behavioral\n"
     ]
    },
    {
     "name": "stderr",
     "output_type": "stream",
     "text": [
      "Classifying sentences:  52%|█████▏    | 523/1000 [10:25<08:39,  1.09s/it]"
     ]
    },
    {
     "name": "stdout",
     "output_type": "stream",
     "text": [
      "New Text: \"did you get those today\" - Generated Response: Other\n"
     ]
    },
    {
     "name": "stderr",
     "output_type": "stream",
     "text": [
      "Classifying sentences:  52%|█████▏    | 524/1000 [10:26<08:30,  1.07s/it]"
     ]
    },
    {
     "name": "stdout",
     "output_type": "stream",
     "text": [
      "New Text: \"oh well do you want some toast\" - Generated Response: Other\n"
     ]
    },
    {
     "name": "stderr",
     "output_type": "stream",
     "text": [
      "Classifying sentences:  52%|█████▎    | 525/1000 [10:27<08:36,  1.09s/it]"
     ]
    },
    {
     "name": "stdout",
     "output_type": "stream",
     "text": [
      "New Text: \"eat your cookie\" - Generated Response: Behavioral\n"
     ]
    },
    {
     "name": "stderr",
     "output_type": "stream",
     "text": [
      "Classifying sentences:  53%|█████▎    | 526/1000 [10:28<08:56,  1.13s/it]"
     ]
    },
    {
     "name": "stdout",
     "output_type": "stream",
     "text": [
      "New Text: \"oh you mean when you're weaving it in from the sides\" - Generated Response: Behavioral\n"
     ]
    },
    {
     "name": "stderr",
     "output_type": "stream",
     "text": [
      "Classifying sentences:  53%|█████▎    | 527/1000 [10:29<08:33,  1.08s/it]"
     ]
    },
    {
     "name": "stdout",
     "output_type": "stream",
     "text": [
      "New Text: \"let us floppity\" - Generated Response: Other\n"
     ]
    },
    {
     "name": "stderr",
     "output_type": "stream",
     "text": [
      "Classifying sentences:  53%|█████▎    | 528/1000 [10:30<08:30,  1.08s/it]"
     ]
    },
    {
     "name": "stdout",
     "output_type": "stream",
     "text": [
      "New Text: \"you want to go ninight some more\" - Generated Response: Behavioral\n"
     ]
    },
    {
     "name": "stderr",
     "output_type": "stream",
     "text": [
      "Classifying sentences:  53%|█████▎    | 529/1000 [10:31<08:21,  1.06s/it]"
     ]
    },
    {
     "name": "stdout",
     "output_type": "stream",
     "text": [
      "New Text: \"I know I have grapes for you right here\" - Generated Response: Other\n"
     ]
    },
    {
     "name": "stderr",
     "output_type": "stream",
     "text": [
      "Classifying sentences:  53%|█████▎    | 530/1000 [10:32<08:19,  1.06s/it]"
     ]
    },
    {
     "name": "stdout",
     "output_type": "stream",
     "text": [
      "New Text: \"wait until s you wait till uh breakfast tomorrow\" - Generated Response: Behavioral\n"
     ]
    },
    {
     "name": "stderr",
     "output_type": "stream",
     "text": [
      "Classifying sentences:  53%|█████▎    | 531/1000 [10:33<08:07,  1.04s/it]"
     ]
    },
    {
     "name": "stdout",
     "output_type": "stream",
     "text": [
      "New Text: \"what toys would you like him to bring when he comes\" - Generated Response: Other\n"
     ]
    },
    {
     "name": "stderr",
     "output_type": "stream",
     "text": [
      "Classifying sentences:  53%|█████▎    | 532/1000 [10:35<08:27,  1.08s/it]"
     ]
    },
    {
     "name": "stdout",
     "output_type": "stream",
     "text": [
      "New Text: \"there's the yellow car you're right William\" - Generated Response: Perceptual\n"
     ]
    },
    {
     "name": "stderr",
     "output_type": "stream",
     "text": [
      "Classifying sentences:  53%|█████▎    | 533/1000 [10:36<08:37,  1.11s/it]"
     ]
    },
    {
     "name": "stdout",
     "output_type": "stream",
     "text": [
      "New Text: \"here do you want some of that stuff\" - Generated Response: Other\n"
     ]
    },
    {
     "name": "stderr",
     "output_type": "stream",
     "text": [
      "Classifying sentences:  53%|█████▎    | 534/1000 [10:37<08:39,  1.11s/it]"
     ]
    },
    {
     "name": "stdout",
     "output_type": "stream",
     "text": [
      "New Text: \"that's a place we visited it was the vacation house that xxx and xxx were staying at and Frankie\" - Generated Response: Behavioral\n"
     ]
    },
    {
     "name": "stderr",
     "output_type": "stream",
     "text": [
      "Classifying sentences:  54%|█████▎    | 535/1000 [10:38<08:32,  1.10s/it]"
     ]
    },
    {
     "name": "stdout",
     "output_type": "stream",
     "text": [
      "New Text: \"can Mama see the comb\" - Generated Response: Perceptual\n"
     ]
    },
    {
     "name": "stderr",
     "output_type": "stream",
     "text": [
      "Classifying sentences:  54%|█████▎    | 536/1000 [10:39<08:28,  1.10s/it]"
     ]
    },
    {
     "name": "stdout",
     "output_type": "stream",
     "text": [
      "New Text: \"Toot was happy to be back in his own bed and Puddle was happy too\" - Generated Response: Perceptual\n"
     ]
    },
    {
     "name": "stderr",
     "output_type": "stream",
     "text": [
      "Classifying sentences:  54%|█████▎    | 537/1000 [10:40<08:31,  1.10s/it]"
     ]
    },
    {
     "name": "stdout",
     "output_type": "stream",
     "text": [
      "New Text: \"are we gonna bring a little present for Tamar's brother too\" - Generated Response: Social\n"
     ]
    },
    {
     "name": "stderr",
     "output_type": "stream",
     "text": [
      "Classifying sentences:  54%|█████▍    | 538/1000 [10:41<08:32,  1.11s/it]"
     ]
    },
    {
     "name": "stdout",
     "output_type": "stream",
     "text": [
      "New Text: \"if you ever forget what the duck says\" - Generated Response: Behavioral\n"
     ]
    },
    {
     "name": "stderr",
     "output_type": "stream",
     "text": [
      "Classifying sentences:  54%|█████▍    | 539/1000 [10:42<08:20,  1.09s/it]"
     ]
    },
    {
     "name": "stdout",
     "output_type": "stream",
     "text": [
      "New Text: \"we could pretend that this is a garage where\" - Generated Response: Other\n"
     ]
    },
    {
     "name": "stderr",
     "output_type": "stream",
     "text": [
      "Classifying sentences:  54%|█████▍    | 540/1000 [10:43<08:26,  1.10s/it]"
     ]
    },
    {
     "name": "stdout",
     "output_type": "stream",
     "text": [
      "New Text: \"wanna put some milk in\" - Generated Response: Behavioral\n"
     ]
    },
    {
     "name": "stderr",
     "output_type": "stream",
     "text": [
      "Classifying sentences:  54%|█████▍    | 541/1000 [10:44<08:12,  1.07s/it]"
     ]
    },
    {
     "name": "stdout",
     "output_type": "stream",
     "text": [
      "New Text: \"look kangaroo has a baby\" - Generated Response: Biological\n"
     ]
    },
    {
     "name": "stderr",
     "output_type": "stream",
     "text": [
      "Classifying sentences:  54%|█████▍    | 542/1000 [10:45<07:54,  1.04s/it]"
     ]
    },
    {
     "name": "stdout",
     "output_type": "stream",
     "text": [
      "New Text: \"I wanted the um oh I have a great idea\" - Generated Response: Other\n"
     ]
    },
    {
     "name": "stderr",
     "output_type": "stream",
     "text": [
      "Classifying sentences:  54%|█████▍    | 543/1000 [10:46<07:48,  1.03s/it]"
     ]
    },
    {
     "name": "stdout",
     "output_type": "stream",
     "text": [
      "New Text: \"he's sitting in the chair\" - Generated Response: Behavioral\n"
     ]
    },
    {
     "name": "stderr",
     "output_type": "stream",
     "text": [
      "Classifying sentences:  54%|█████▍    | 544/1000 [10:47<07:35,  1.00it/s]"
     ]
    },
    {
     "name": "stdout",
     "output_type": "stream",
     "text": [
      "New Text: \"do you want the ball back\" - Generated Response: Other\n"
     ]
    },
    {
     "name": "stderr",
     "output_type": "stream",
     "text": [
      "Classifying sentences:  55%|█████▍    | 545/1000 [10:48<07:35,  1.00s/it]"
     ]
    },
    {
     "name": "stdout",
     "output_type": "stream",
     "text": [
      "New Text: \"are you talking to your shoe\" - Generated Response: Behavioral\n"
     ]
    },
    {
     "name": "stderr",
     "output_type": "stream",
     "text": [
      "Classifying sentences:  55%|█████▍    | 546/1000 [10:51<12:30,  1.65s/it]"
     ]
    },
    {
     "name": "stdout",
     "output_type": "stream",
     "text": [
      "New Text: \"that's where we really got into colors because they're such bright colors\" - Generated Response: Perceptual\n"
     ]
    },
    {
     "name": "stderr",
     "output_type": "stream",
     "text": [
      "Classifying sentences:  55%|█████▍    | 547/1000 [10:53<11:38,  1.54s/it]"
     ]
    },
    {
     "name": "stdout",
     "output_type": "stream",
     "text": [
      "New Text: \"I got my cup right here\" - Generated Response: Other\n"
     ]
    },
    {
     "name": "stderr",
     "output_type": "stream",
     "text": [
      "Classifying sentences:  55%|█████▍    | 548/1000 [10:54<10:35,  1.41s/it]"
     ]
    },
    {
     "name": "stdout",
     "output_type": "stream",
     "text": [
      "New Text: \"until summer comes\" - Generated Response: Other\n"
     ]
    },
    {
     "name": "stderr",
     "output_type": "stream",
     "text": [
      "Classifying sentences:  55%|█████▍    | 549/1000 [10:55<10:07,  1.35s/it]"
     ]
    },
    {
     "name": "stdout",
     "output_type": "stream",
     "text": [
      "New Text: \"do you wanna look through the hole\" - Generated Response: Behavioral\n"
     ]
    },
    {
     "name": "stderr",
     "output_type": "stream",
     "text": [
      "Classifying sentences:  55%|█████▌    | 550/1000 [10:57<11:07,  1.48s/it]"
     ]
    },
    {
     "name": "stdout",
     "output_type": "stream",
     "text": [
      "New Text: \"are you ready to go down the slide daddy\" - Generated Response: Behavioral\n"
     ]
    },
    {
     "name": "stderr",
     "output_type": "stream",
     "text": [
      "Classifying sentences:  55%|█████▌    | 551/1000 [10:58<10:04,  1.35s/it]"
     ]
    },
    {
     "name": "stdout",
     "output_type": "stream",
     "text": [
      "New Text: \"okay who gets to be first who gets to eat the food first\" - Generated Response: Social\n"
     ]
    },
    {
     "name": "stderr",
     "output_type": "stream",
     "text": [
      "Classifying sentences:  55%|█████▌    | 552/1000 [10:59<09:39,  1.29s/it]"
     ]
    },
    {
     "name": "stdout",
     "output_type": "stream",
     "text": [
      "New Text: \"you sharing with the lady\" - Generated Response: Social\n"
     ]
    },
    {
     "name": "stderr",
     "output_type": "stream",
     "text": [
      "Classifying sentences:  55%|█████▌    | 553/1000 [11:00<09:15,  1.24s/it]"
     ]
    },
    {
     "name": "stdout",
     "output_type": "stream",
     "text": [
      "New Text: \"you should put the hands in first\" - Generated Response: Behavioral\n"
     ]
    },
    {
     "name": "stderr",
     "output_type": "stream",
     "text": [
      "Classifying sentences:  55%|█████▌    | 554/1000 [11:02<09:39,  1.30s/it]"
     ]
    },
    {
     "name": "stdout",
     "output_type": "stream",
     "text": [
      "New Text: \"put it in the hole\" - Generated Response: Behavioral\n"
     ]
    },
    {
     "name": "stderr",
     "output_type": "stream",
     "text": [
      "Classifying sentences:  56%|█████▌    | 555/1000 [11:03<09:19,  1.26s/it]"
     ]
    },
    {
     "name": "stdout",
     "output_type": "stream",
     "text": [
      "New Text: \"you see a friend\" - Generated Response: Perceptual\n"
     ]
    },
    {
     "name": "stderr",
     "output_type": "stream",
     "text": [
      "Classifying sentences:  56%|█████▌    | 556/1000 [11:04<08:42,  1.18s/it]"
     ]
    },
    {
     "name": "stdout",
     "output_type": "stream",
     "text": [
      "New Text: \"thank you for the pizza\" - Generated Response: Other\n"
     ]
    },
    {
     "name": "stderr",
     "output_type": "stream",
     "text": [
      "Classifying sentences:  56%|█████▌    | 557/1000 [11:05<08:48,  1.19s/it]"
     ]
    },
    {
     "name": "stdout",
     "output_type": "stream",
     "text": [
      "New Text: \"play out in the yard\" - Generated Response: Behavioral\n"
     ]
    },
    {
     "name": "stderr",
     "output_type": "stream",
     "text": [
      "Classifying sentences:  56%|█████▌    | 558/1000 [11:06<08:11,  1.11s/it]"
     ]
    },
    {
     "name": "stdout",
     "output_type": "stream",
     "text": [
      "New Text: \"who do you know that plays football\" - Generated Response: Social\n"
     ]
    },
    {
     "name": "stderr",
     "output_type": "stream",
     "text": [
      "Classifying sentences:  56%|█████▌    | 559/1000 [11:07<07:58,  1.09s/it]"
     ]
    },
    {
     "name": "stdout",
     "output_type": "stream",
     "text": [
      "New Text: \"here wipe your hands off\" - Generated Response: Behavioral\n"
     ]
    },
    {
     "name": "stderr",
     "output_type": "stream",
     "text": [
      "Classifying sentences:  56%|█████▌    | 560/1000 [11:08<07:35,  1.04s/it]"
     ]
    },
    {
     "name": "stdout",
     "output_type": "stream",
     "text": [
      "New Text: \"guess nobody wanted a yogurt\" - Generated Response: Social\n"
     ]
    },
    {
     "name": "stderr",
     "output_type": "stream",
     "text": [
      "Classifying sentences:  56%|█████▌    | 561/1000 [11:09<07:33,  1.03s/it]"
     ]
    },
    {
     "name": "stdout",
     "output_type": "stream",
     "text": [
      "New Text: \"and do you know more about uh ancient history\" - Generated Response: Other\n"
     ]
    },
    {
     "name": "stderr",
     "output_type": "stream",
     "text": [
      "Classifying sentences:  56%|█████▌    | 562/1000 [11:10<07:39,  1.05s/it]"
     ]
    },
    {
     "name": "stdout",
     "output_type": "stream",
     "text": [
      "New Text: \"so are you guys gonna be good today\" - Generated Response: Social\n"
     ]
    },
    {
     "name": "stderr",
     "output_type": "stream",
     "text": [
      "Classifying sentences:  56%|█████▋    | 563/1000 [11:11<07:26,  1.02s/it]"
     ]
    },
    {
     "name": "stdout",
     "output_type": "stream",
     "text": [
      "New Text: \"you need help\" - Generated Response: Other\n"
     ]
    },
    {
     "name": "stderr",
     "output_type": "stream",
     "text": [
      "Classifying sentences:  56%|█████▋    | 564/1000 [11:12<07:25,  1.02s/it]"
     ]
    },
    {
     "name": "stdout",
     "output_type": "stream",
     "text": [
      "New Text: \"the shoes are gone\" - Generated Response: Other\n"
     ]
    },
    {
     "name": "stderr",
     "output_type": "stream",
     "text": [
      "Classifying sentences:  56%|█████▋    | 565/1000 [11:13<07:38,  1.05s/it]"
     ]
    },
    {
     "name": "stdout",
     "output_type": "stream",
     "text": [
      "New Text: \"Uncle Paul wants his spoon so he can stir his\" - Generated Response: Behavioral\n"
     ]
    },
    {
     "name": "stderr",
     "output_type": "stream",
     "text": [
      "Classifying sentences:  57%|█████▋    | 566/1000 [11:14<07:46,  1.08s/it]"
     ]
    },
    {
     "name": "stdout",
     "output_type": "stream",
     "text": [
      "New Text: \"and Firstname is now uh figuring out how to read the three-letter words\" - Generated Response: Behavioral\n"
     ]
    },
    {
     "name": "stderr",
     "output_type": "stream",
     "text": [
      "Classifying sentences:  57%|█████▋    | 567/1000 [11:15<08:05,  1.12s/it]"
     ]
    },
    {
     "name": "stdout",
     "output_type": "stream",
     "text": [
      "New Text: \"are you gonna sleep with a gillow\" - Generated Response: Behavioral\n"
     ]
    },
    {
     "name": "stderr",
     "output_type": "stream",
     "text": [
      "Classifying sentences:  57%|█████▋    | 568/1000 [11:17<07:56,  1.10s/it]"
     ]
    },
    {
     "name": "stdout",
     "output_type": "stream",
     "text": [
      "New Text: \"we can put some maybe this is ham\" - Generated Response: Other\n"
     ]
    },
    {
     "name": "stderr",
     "output_type": "stream",
     "text": [
      "Classifying sentences:  57%|█████▋    | 569/1000 [11:18<08:33,  1.19s/it]"
     ]
    },
    {
     "name": "stdout",
     "output_type": "stream",
     "text": [
      "New Text: \"you want your spoon I think it's in your lap\" - Generated Response: Behavioral\n"
     ]
    },
    {
     "name": "stderr",
     "output_type": "stream",
     "text": [
      "Classifying sentences:  57%|█████▋    | 570/1000 [11:19<08:23,  1.17s/it]"
     ]
    },
    {
     "name": "stdout",
     "output_type": "stream",
     "text": [
      "New Text: \"you're eating a dinosaur\" - Generated Response: Behavioral\n"
     ]
    },
    {
     "name": "stderr",
     "output_type": "stream",
     "text": [
      "Classifying sentences:  57%|█████▋    | 571/1000 [11:20<08:03,  1.13s/it]"
     ]
    },
    {
     "name": "stdout",
     "output_type": "stream",
     "text": [
      "New Text: \"where's the log loader\" - Generated Response: Other\n"
     ]
    },
    {
     "name": "stderr",
     "output_type": "stream",
     "text": [
      "Classifying sentences:  57%|█████▋    | 572/1000 [11:21<07:54,  1.11s/it]"
     ]
    },
    {
     "name": "stdout",
     "output_type": "stream",
     "text": [
      "New Text: \"that he kept these almost the entire time\" - Generated Response: Behavioral\n"
     ]
    },
    {
     "name": "stderr",
     "output_type": "stream",
     "text": [
      "Classifying sentences:  57%|█████▋    | 573/1000 [11:22<07:37,  1.07s/it]"
     ]
    },
    {
     "name": "stdout",
     "output_type": "stream",
     "text": [
      "New Text: \"Child do you wanna come with me\" - Generated Response: Other\n"
     ]
    },
    {
     "name": "stderr",
     "output_type": "stream",
     "text": [
      "Classifying sentences:  57%|█████▋    | 574/1000 [11:23<07:17,  1.03s/it]"
     ]
    },
    {
     "name": "stdout",
     "output_type": "stream",
     "text": [
      "New Text: \"you started out in the day\" - Generated Response: Behavioral\n"
     ]
    },
    {
     "name": "stderr",
     "output_type": "stream",
     "text": [
      "Classifying sentences:  57%|█████▊    | 575/1000 [11:24<07:15,  1.03s/it]"
     ]
    },
    {
     "name": "stdout",
     "output_type": "stream",
     "text": [
      "New Text: \"okay here taste this tell me if you like it\" - Generated Response: Perceptual\n"
     ]
    },
    {
     "name": "stderr",
     "output_type": "stream",
     "text": [
      "Classifying sentences:  58%|█████▊    | 576/1000 [11:25<07:14,  1.03s/it]"
     ]
    },
    {
     "name": "stdout",
     "output_type": "stream",
     "text": [
      "New Text: \"that's too hard for you get another book\" - Generated Response: Teleological\n"
     ]
    },
    {
     "name": "stderr",
     "output_type": "stream",
     "text": [
      "Classifying sentences:  58%|█████▊    | 577/1000 [11:26<07:13,  1.03s/it]"
     ]
    },
    {
     "name": "stdout",
     "output_type": "stream",
     "text": [
      "New Text: \"um I feel a little bit silly\" - Generated Response: Perceptual\n"
     ]
    },
    {
     "name": "stderr",
     "output_type": "stream",
     "text": [
      "Classifying sentences:  58%|█████▊    | 578/1000 [11:27<07:56,  1.13s/it]"
     ]
    },
    {
     "name": "stdout",
     "output_type": "stream",
     "text": [
      "New Text: \"you gonna come back today\" - Generated Response: Behavioral\n"
     ]
    },
    {
     "name": "stderr",
     "output_type": "stream",
     "text": [
      "Classifying sentences:  58%|█████▊    | 579/1000 [11:28<07:38,  1.09s/it]"
     ]
    },
    {
     "name": "stdout",
     "output_type": "stream",
     "text": [
      "New Text: \"you gonna put that yellow cup in\" - Generated Response: Behavioral\n"
     ]
    },
    {
     "name": "stderr",
     "output_type": "stream",
     "text": [
      "Classifying sentences:  58%|█████▊    | 580/1000 [11:31<11:34,  1.65s/it]"
     ]
    },
    {
     "name": "stdout",
     "output_type": "stream",
     "text": [
      "New Text: \"yeah but I think it's because you gotta do your poo\" - Generated Response: Behavioral\n"
     ]
    },
    {
     "name": "stderr",
     "output_type": "stream",
     "text": [
      "Classifying sentences:  58%|█████▊    | 581/1000 [11:33<11:28,  1.64s/it]"
     ]
    },
    {
     "name": "stdout",
     "output_type": "stream",
     "text": [
      "New Text: \"your hand won't come out\" - Generated Response: Other\n"
     ]
    },
    {
     "name": "stderr",
     "output_type": "stream",
     "text": [
      "Classifying sentences:  58%|█████▊    | 582/1000 [11:34<10:09,  1.46s/it]"
     ]
    },
    {
     "name": "stdout",
     "output_type": "stream",
     "text": [
      "New Text: \"dis piece I cut it out and den put a\" - Generated Response: Behavioral\n"
     ]
    },
    {
     "name": "stderr",
     "output_type": "stream",
     "text": [
      "Classifying sentences:  58%|█████▊    | 583/1000 [11:35<09:50,  1.42s/it]"
     ]
    },
    {
     "name": "stdout",
     "output_type": "stream",
     "text": [
      "New Text: \"well it has a waffley shaped top because it has the little squares but what's kinda hiding in there\" - Generated Response: Perceptual\n"
     ]
    },
    {
     "name": "stderr",
     "output_type": "stream",
     "text": [
      "Classifying sentences:  58%|█████▊    | 584/1000 [11:36<09:01,  1.30s/it]"
     ]
    },
    {
     "name": "stdout",
     "output_type": "stream",
     "text": [
      "New Text: \"you wanna talk on the phone with mommy\" - Generated Response: Social\n"
     ]
    },
    {
     "name": "stderr",
     "output_type": "stream",
     "text": [
      "Classifying sentences:  58%|█████▊    | 585/1000 [11:38<08:54,  1.29s/it]"
     ]
    },
    {
     "name": "stdout",
     "output_type": "stream",
     "text": [
      "New Text: \"www that means there'll hafta be a third movie to figure out what happened to them after that\" - Generated Response: Other\n"
     ]
    },
    {
     "name": "stderr",
     "output_type": "stream",
     "text": [
      "Classifying sentences:  59%|█████▊    | 586/1000 [11:49<29:44,  4.31s/it]"
     ]
    },
    {
     "name": "stdout",
     "output_type": "stream",
     "text": [
      "New Text: \"I didn't bring them downstairs\" - Generated Response: Behavioral\n"
     ]
    },
    {
     "name": "stderr",
     "output_type": "stream",
     "text": [
      "Classifying sentences:  59%|█████▊    | 587/1000 [11:50<23:03,  3.35s/it]"
     ]
    },
    {
     "name": "stdout",
     "output_type": "stream",
     "text": [
      "New Text: \"what do you know about cake\" - Generated Response: Other\n"
     ]
    },
    {
     "name": "stderr",
     "output_type": "stream",
     "text": [
      "Classifying sentences:  59%|█████▉    | 588/1000 [11:51<18:01,  2.63s/it]"
     ]
    },
    {
     "name": "stdout",
     "output_type": "stream",
     "text": [
      "New Text: \"oops there you go ready\" - Generated Response: Other\n"
     ]
    },
    {
     "name": "stderr",
     "output_type": "stream",
     "text": [
      "Classifying sentences:  59%|█████▉    | 589/1000 [11:52<14:36,  2.13s/it]"
     ]
    },
    {
     "name": "stdout",
     "output_type": "stream",
     "text": [
      "New Text: \"and you going for more stuff\" - Generated Response: Behavioral\n"
     ]
    },
    {
     "name": "stderr",
     "output_type": "stream",
     "text": [
      "Classifying sentences:  59%|█████▉    | 590/1000 [11:53<12:20,  1.81s/it]"
     ]
    },
    {
     "name": "stdout",
     "output_type": "stream",
     "text": [
      "New Text: \"yep unless it's pretend fire like that\" - Generated Response: Other\n"
     ]
    },
    {
     "name": "stderr",
     "output_type": "stream",
     "text": [
      "Classifying sentences:  59%|█████▉    | 591/1000 [11:54<10:55,  1.60s/it]"
     ]
    },
    {
     "name": "stdout",
     "output_type": "stream",
     "text": [
      "New Text: \"what do you want my hand for\" - Generated Response: Teleological\n"
     ]
    },
    {
     "name": "stderr",
     "output_type": "stream",
     "text": [
      "Classifying sentences:  59%|█████▉    | 592/1000 [11:55<09:43,  1.43s/it]"
     ]
    },
    {
     "name": "stdout",
     "output_type": "stream",
     "text": [
      "New Text: \"do you want long do you wanna cover up your feet Sleepy_wolf\" - Generated Response: Other\n"
     ]
    },
    {
     "name": "stderr",
     "output_type": "stream",
     "text": [
      "Classifying sentences:  59%|█████▉    | 593/1000 [11:56<08:45,  1.29s/it]"
     ]
    },
    {
     "name": "stdout",
     "output_type": "stream",
     "text": [
      "New Text: \"oh I'm just um just looking at all these toys wondering what you're gonna play with next\" - Generated Response: Behavioral\n"
     ]
    },
    {
     "name": "stderr",
     "output_type": "stream",
     "text": [
      "Classifying sentences:  59%|█████▉    | 594/1000 [11:57<08:05,  1.20s/it]"
     ]
    },
    {
     "name": "stdout",
     "output_type": "stream",
     "text": [
      "New Text: \"my mother gave got me a postcard that tells what all the parts of a dinosaur's names mean\" - Generated Response: Social\n"
     ]
    },
    {
     "name": "stderr",
     "output_type": "stream",
     "text": [
      "Classifying sentences:  60%|█████▉    | 595/1000 [11:58<07:57,  1.18s/it]"
     ]
    },
    {
     "name": "stdout",
     "output_type": "stream",
     "text": [
      "New Text: \"maybe the elephant can go in this house\" - Generated Response: Behavioral\n"
     ]
    },
    {
     "name": "stderr",
     "output_type": "stream",
     "text": [
      "Classifying sentences:  60%|█████▉    | 596/1000 [11:59<07:23,  1.10s/it]"
     ]
    },
    {
     "name": "stdout",
     "output_type": "stream",
     "text": [
      "New Text: \"I know it's candy\" - Generated Response: Other\n"
     ]
    },
    {
     "name": "stderr",
     "output_type": "stream",
     "text": [
      "Classifying sentences:  60%|█████▉    | 597/1000 [12:00<07:26,  1.11s/it]"
     ]
    },
    {
     "name": "stdout",
     "output_type": "stream",
     "text": [
      "New Text: \"stand up and hold on to me\" - Generated Response: Behavioral\n"
     ]
    },
    {
     "name": "stderr",
     "output_type": "stream",
     "text": [
      "Classifying sentences:  60%|█████▉    | 598/1000 [12:02<07:27,  1.11s/it]"
     ]
    },
    {
     "name": "stdout",
     "output_type": "stream",
     "text": [
      "New Text: \"come on sit down eat your food Jimmy\" - Generated Response: Behavioral\n"
     ]
    },
    {
     "name": "stderr",
     "output_type": "stream",
     "text": [
      "Classifying sentences:  60%|█████▉    | 599/1000 [12:03<07:15,  1.09s/it]"
     ]
    },
    {
     "name": "stdout",
     "output_type": "stream",
     "text": [
      "New Text: \"what's the tractor man called\" - Generated Response: Other\n"
     ]
    },
    {
     "name": "stderr",
     "output_type": "stream",
     "text": [
      "Classifying sentences:  60%|██████    | 600/1000 [12:04<07:10,  1.08s/it]"
     ]
    },
    {
     "name": "stdout",
     "output_type": "stream",
     "text": [
      "New Text: \"because he hasta get dressed up to go to work\" - Generated Response: Behavioral\n"
     ]
    },
    {
     "name": "stderr",
     "output_type": "stream",
     "text": [
      "Classifying sentences:  60%|██████    | 601/1000 [12:05<06:57,  1.05s/it]"
     ]
    },
    {
     "name": "stdout",
     "output_type": "stream",
     "text": [
      "New Text: \"can you say monarch\" - Generated Response: Other\n"
     ]
    },
    {
     "name": "stderr",
     "output_type": "stream",
     "text": [
      "Classifying sentences:  60%|██████    | 602/1000 [12:06<07:08,  1.08s/it]"
     ]
    },
    {
     "name": "stdout",
     "output_type": "stream",
     "text": [
      "New Text: \"peekaboo I see you\" - Generated Response: Perceptual\n"
     ]
    },
    {
     "name": "stderr",
     "output_type": "stream",
     "text": [
      "Classifying sentences:  60%|██████    | 603/1000 [12:07<07:12,  1.09s/it]"
     ]
    },
    {
     "name": "stdout",
     "output_type": "stream",
     "text": [
      "New Text: \"the other toys ran to the window\" - Generated Response: Behavioral\n"
     ]
    },
    {
     "name": "stderr",
     "output_type": "stream",
     "text": [
      "Classifying sentences:  60%|██████    | 604/1000 [12:08<07:14,  1.10s/it]"
     ]
    },
    {
     "name": "stdout",
     "output_type": "stream",
     "text": [
      "New Text: \"there're five people there\" - Generated Response: Perceptual\n"
     ]
    },
    {
     "name": "stderr",
     "output_type": "stream",
     "text": [
      "Classifying sentences:  60%|██████    | 605/1000 [12:09<07:18,  1.11s/it]"
     ]
    },
    {
     "name": "stdout",
     "output_type": "stream",
     "text": [
      "New Text: \"I had onions in my tuna+fish\" - Generated Response: Behavioral\n"
     ]
    },
    {
     "name": "stderr",
     "output_type": "stream",
     "text": [
      "Classifying sentences:  61%|██████    | 606/1000 [12:10<07:13,  1.10s/it]"
     ]
    },
    {
     "name": "stdout",
     "output_type": "stream",
     "text": [
      "New Text: \"so it was less the pitcher as a function and more pitcher as a place to put things\" - Generated Response: Teleological\n"
     ]
    },
    {
     "name": "stderr",
     "output_type": "stream",
     "text": [
      "Classifying sentences:  61%|██████    | 607/1000 [12:11<07:22,  1.13s/it]"
     ]
    },
    {
     "name": "stdout",
     "output_type": "stream",
     "text": [
      "New Text: \"gimme hugs and kisses\" - Generated Response: Behavioral\n"
     ]
    },
    {
     "name": "stderr",
     "output_type": "stream",
     "text": [
      "Classifying sentences:  61%|██████    | 608/1000 [12:13<07:22,  1.13s/it]"
     ]
    },
    {
     "name": "stdout",
     "output_type": "stream",
     "text": [
      "New Text: \"yeah it looks like the picture\" - Generated Response: Perceptual\n"
     ]
    },
    {
     "name": "stderr",
     "output_type": "stream",
     "text": [
      "Classifying sentences:  61%|██████    | 609/1000 [12:14<07:52,  1.21s/it]"
     ]
    },
    {
     "name": "stdout",
     "output_type": "stream",
     "text": [
      "New Text: \"she willn't give birth again until her calf is about three years old\" - Generated Response: Biological\n"
     ]
    },
    {
     "name": "stderr",
     "output_type": "stream",
     "text": [
      "Classifying sentences:  61%|██████    | 610/1000 [12:15<07:43,  1.19s/it]"
     ]
    },
    {
     "name": "stdout",
     "output_type": "stream",
     "text": [
      "New Text: \"do you know a song about Old MacDonald had a farm\" - Generated Response: Behavioral\n"
     ]
    },
    {
     "name": "stderr",
     "output_type": "stream",
     "text": [
      "Classifying sentences:  61%|██████    | 611/1000 [12:16<07:35,  1.17s/it]"
     ]
    },
    {
     "name": "stdout",
     "output_type": "stream",
     "text": [
      "New Text: \"I gotta clean up this mess\" - Generated Response: Behavioral\n"
     ]
    },
    {
     "name": "stderr",
     "output_type": "stream",
     "text": [
      "Classifying sentences:  61%|██████    | 612/1000 [12:17<07:29,  1.16s/it]"
     ]
    },
    {
     "name": "stdout",
     "output_type": "stream",
     "text": [
      "New Text: \"come on you know what thirty five cents is\" - Generated Response: Other\n"
     ]
    },
    {
     "name": "stderr",
     "output_type": "stream",
     "text": [
      "Classifying sentences:  61%|██████▏   | 613/1000 [12:18<07:24,  1.15s/it]"
     ]
    },
    {
     "name": "stdout",
     "output_type": "stream",
     "text": [
      "New Text: \"you mean what's my name\" - Generated Response: Other\n"
     ]
    },
    {
     "name": "stderr",
     "output_type": "stream",
     "text": [
      "Classifying sentences:  61%|██████▏   | 614/1000 [12:20<07:20,  1.14s/it]"
     ]
    },
    {
     "name": "stdout",
     "output_type": "stream",
     "text": [
      "New Text: \"oh you're blowing your bangs\" - Generated Response: Behavioral\n"
     ]
    },
    {
     "name": "stderr",
     "output_type": "stream",
     "text": [
      "Classifying sentences:  62%|██████▏   | 615/1000 [12:21<07:06,  1.11s/it]"
     ]
    },
    {
     "name": "stdout",
     "output_type": "stream",
     "text": [
      "New Text: \"she was laughing a little bit\" - Generated Response: Behavioral\n"
     ]
    },
    {
     "name": "stderr",
     "output_type": "stream",
     "text": [
      "Classifying sentences:  62%|██████▏   | 616/1000 [12:22<07:07,  1.11s/it]"
     ]
    },
    {
     "name": "stdout",
     "output_type": "stream",
     "text": [
      "New Text: \"a fella the keeper was feeding the fish kept making em sit and come back\" - Generated Response: Behavioral\n"
     ]
    },
    {
     "name": "stderr",
     "output_type": "stream",
     "text": [
      "Classifying sentences:  62%|██████▏   | 617/1000 [12:23<06:59,  1.10s/it]"
     ]
    },
    {
     "name": "stdout",
     "output_type": "stream",
     "text": [
      "New Text: \"he was calling those cuts\" - Generated Response: Behavioral\n"
     ]
    },
    {
     "name": "stderr",
     "output_type": "stream",
     "text": [
      "Classifying sentences:  62%|██████▏   | 618/1000 [12:24<06:58,  1.09s/it]"
     ]
    },
    {
     "name": "stdout",
     "output_type": "stream",
     "text": [
      "New Text: \"would you like to have a skunk for a pet\" - Generated Response: Other\n"
     ]
    },
    {
     "name": "stderr",
     "output_type": "stream",
     "text": [
      "Classifying sentences:  62%|██████▏   | 619/1000 [12:25<07:00,  1.10s/it]"
     ]
    },
    {
     "name": "stdout",
     "output_type": "stream",
     "text": [
      "New Text: \"wanna hear about all your guts\" - Generated Response: Behavioral\n"
     ]
    },
    {
     "name": "stderr",
     "output_type": "stream",
     "text": [
      "Classifying sentences:  62%|██████▏   | 620/1000 [12:26<06:52,  1.08s/it]"
     ]
    },
    {
     "name": "stdout",
     "output_type": "stream",
     "text": [
      "New Text: \"I put my hand like dat huh\" - Generated Response: Behavioral\n"
     ]
    },
    {
     "name": "stderr",
     "output_type": "stream",
     "text": [
      "Classifying sentences:  62%|██████▏   | 621/1000 [12:27<06:54,  1.09s/it]"
     ]
    },
    {
     "name": "stdout",
     "output_type": "stream",
     "text": [
      "New Text: \"how's your bracelet coming that looks beautiful\" - Generated Response: Perceptual\n"
     ]
    },
    {
     "name": "stderr",
     "output_type": "stream",
     "text": [
      "Classifying sentences:  62%|██████▏   | 622/1000 [12:28<06:56,  1.10s/it]"
     ]
    },
    {
     "name": "stdout",
     "output_type": "stream",
     "text": [
      "New Text: \"I see the butter I thought Ruby uses butter to make the cake\" - Generated Response: Behavioral\n"
     ]
    },
    {
     "name": "stderr",
     "output_type": "stream",
     "text": [
      "Classifying sentences:  62%|██████▏   | 623/1000 [12:29<06:52,  1.09s/it]"
     ]
    },
    {
     "name": "stdout",
     "output_type": "stream",
     "text": [
      "New Text: \"or should he not go in the boat\" - Generated Response: Behavioral\n"
     ]
    },
    {
     "name": "stderr",
     "output_type": "stream",
     "text": [
      "Classifying sentences:  62%|██████▏   | 624/1000 [12:30<06:44,  1.08s/it]"
     ]
    },
    {
     "name": "stdout",
     "output_type": "stream",
     "text": [
      "New Text: \"not that I know how to make a doggie but\" - Generated Response: Behavioral\n"
     ]
    },
    {
     "name": "stderr",
     "output_type": "stream",
     "text": [
      "Classifying sentences:  62%|██████▎   | 625/1000 [12:32<06:53,  1.10s/it]"
     ]
    },
    {
     "name": "stdout",
     "output_type": "stream",
     "text": [
      "New Text: \"I see a little speck of red here\" - Generated Response: Perceptual\n"
     ]
    },
    {
     "name": "stderr",
     "output_type": "stream",
     "text": [
      "Classifying sentences:  63%|██████▎   | 626/1000 [12:33<06:55,  1.11s/it]"
     ]
    },
    {
     "name": "stdout",
     "output_type": "stream",
     "text": [
      "New Text: \"I'm gonna put a teensie bit of Kix in mine\" - Generated Response: Behavioral\n"
     ]
    },
    {
     "name": "stderr",
     "output_type": "stream",
     "text": [
      "Classifying sentences:  63%|██████▎   | 627/1000 [12:34<06:45,  1.09s/it]"
     ]
    },
    {
     "name": "stdout",
     "output_type": "stream",
     "text": [
      "New Text: \"want those ones\" - Generated Response: Other\n"
     ]
    },
    {
     "name": "stderr",
     "output_type": "stream",
     "text": [
      "Classifying sentences:  63%|██████▎   | 628/1000 [12:35<06:47,  1.10s/it]"
     ]
    },
    {
     "name": "stdout",
     "output_type": "stream",
     "text": [
      "New Text: \"it put cinnamon buns with the poisoned mushroom\" - Generated Response: Behavioral\n"
     ]
    },
    {
     "name": "stderr",
     "output_type": "stream",
     "text": [
      "Classifying sentences:  63%|██████▎   | 629/1000 [12:36<06:50,  1.11s/it]"
     ]
    },
    {
     "name": "stdout",
     "output_type": "stream",
     "text": [
      "New Text: \"mom he's going to need you to come down\" - Generated Response: Other\n"
     ]
    },
    {
     "name": "stderr",
     "output_type": "stream",
     "text": [
      "Classifying sentences:  63%|██████▎   | 630/1000 [12:37<06:41,  1.08s/it]"
     ]
    },
    {
     "name": "stdout",
     "output_type": "stream",
     "text": [
      "New Text: \"you're not gonna let me take your pants off\" - Generated Response: Behavioral\n"
     ]
    },
    {
     "name": "stderr",
     "output_type": "stream",
     "text": [
      "Classifying sentences:  63%|██████▎   | 631/1000 [12:38<06:28,  1.05s/it]"
     ]
    },
    {
     "name": "stdout",
     "output_type": "stream",
     "text": [
      "New Text: \"oh you mean one that pours down into the living room downstairs\" - Generated Response: Other\n"
     ]
    },
    {
     "name": "stderr",
     "output_type": "stream",
     "text": [
      "Classifying sentences:  63%|██████▎   | 632/1000 [12:39<06:39,  1.09s/it]"
     ]
    },
    {
     "name": "stdout",
     "output_type": "stream",
     "text": [
      "New Text: \"up the garden who walks pitter pat\" - Generated Response: Behavioral\n"
     ]
    },
    {
     "name": "stderr",
     "output_type": "stream",
     "text": [
      "Classifying sentences:  63%|██████▎   | 633/1000 [12:40<06:53,  1.13s/it]"
     ]
    },
    {
     "name": "stdout",
     "output_type": "stream",
     "text": [
      "New Text: \"hurry up in the bed\" - Generated Response: Behavioral\n"
     ]
    },
    {
     "name": "stderr",
     "output_type": "stream",
     "text": [
      "Classifying sentences:  63%|██████▎   | 634/1000 [12:41<06:44,  1.10s/it]"
     ]
    },
    {
     "name": "stdout",
     "output_type": "stream",
     "text": [
      "New Text: \"Ross is saying that it was night+time\" - Generated Response: Behavioral\n"
     ]
    },
    {
     "name": "stderr",
     "output_type": "stream",
     "text": [
      "Classifying sentences:  64%|██████▎   | 635/1000 [12:42<06:42,  1.10s/it]"
     ]
    },
    {
     "name": "stdout",
     "output_type": "stream",
     "text": [
      "New Text: \"look at the neat house she made\" - Generated Response: Perceptual\n"
     ]
    },
    {
     "name": "stderr",
     "output_type": "stream",
     "text": [
      "Classifying sentences:  64%|██████▎   | 636/1000 [12:44<06:34,  1.08s/it]"
     ]
    },
    {
     "name": "stdout",
     "output_type": "stream",
     "text": [
      "New Text: \"pay too much attention\" - Generated Response: Behavioral\n"
     ]
    },
    {
     "name": "stderr",
     "output_type": "stream",
     "text": [
      "Classifying sentences:  64%|██████▎   | 637/1000 [12:45<06:22,  1.05s/it]"
     ]
    },
    {
     "name": "stdout",
     "output_type": "stream",
     "text": [
      "New Text: \"could you put your xxx down on that\" - Generated Response: Other\n"
     ]
    },
    {
     "name": "stderr",
     "output_type": "stream",
     "text": [
      "Classifying sentences:  64%|██████▍   | 638/1000 [12:46<06:21,  1.05s/it]"
     ]
    },
    {
     "name": "stdout",
     "output_type": "stream",
     "text": [
      "New Text: \"takes him to the bath to get him all clean\" - Generated Response: Behavioral\n"
     ]
    },
    {
     "name": "stderr",
     "output_type": "stream",
     "text": [
      "Classifying sentences:  64%|██████▍   | 639/1000 [12:47<06:10,  1.03s/it]"
     ]
    },
    {
     "name": "stdout",
     "output_type": "stream",
     "text": [
      "New Text: \"trucks go trucks\" - Generated Response: Behavioral\n"
     ]
    },
    {
     "name": "stderr",
     "output_type": "stream",
     "text": [
      "Classifying sentences:  64%|██████▍   | 640/1000 [12:48<06:04,  1.01s/it]"
     ]
    },
    {
     "name": "stdout",
     "output_type": "stream",
     "text": [
      "New Text: \"say hi Daddy\" - Generated Response: Behavioral\n"
     ]
    },
    {
     "name": "stderr",
     "output_type": "stream",
     "text": [
      "Classifying sentences:  64%|██████▍   | 641/1000 [12:49<06:03,  1.01s/it]"
     ]
    },
    {
     "name": "stdout",
     "output_type": "stream",
     "text": [
      "New Text: \"I want you to tell Wilbur to ask Wilbur why he has a cold\" - Generated Response: Biological\n"
     ]
    },
    {
     "name": "stderr",
     "output_type": "stream",
     "text": [
      "Classifying sentences:  64%|██████▍   | 642/1000 [12:50<06:05,  1.02s/it]"
     ]
    },
    {
     "name": "stdout",
     "output_type": "stream",
     "text": [
      "New Text: \"those are made out_of metal\" - Generated Response: Perceptual\n"
     ]
    },
    {
     "name": "stderr",
     "output_type": "stream",
     "text": [
      "Classifying sentences:  64%|██████▍   | 643/1000 [12:51<06:09,  1.03s/it]"
     ]
    },
    {
     "name": "stdout",
     "output_type": "stream",
     "text": [
      "New Text: \"you want a pen\" - Generated Response: Other\n"
     ]
    },
    {
     "name": "stderr",
     "output_type": "stream",
     "text": [
      "Classifying sentences:  64%|██████▍   | 644/1000 [12:52<06:02,  1.02s/it]"
     ]
    },
    {
     "name": "stdout",
     "output_type": "stream",
     "text": [
      "New Text: \"see it's not caramel at all\" - Generated Response: Perceptual\n"
     ]
    },
    {
     "name": "stderr",
     "output_type": "stream",
     "text": [
      "Classifying sentences:  64%|██████▍   | 645/1000 [12:53<05:51,  1.01it/s]"
     ]
    },
    {
     "name": "stdout",
     "output_type": "stream",
     "text": [
      "New Text: \"I don't think there's any more classes\" - Generated Response: Social\n"
     ]
    },
    {
     "name": "stderr",
     "output_type": "stream",
     "text": [
      "Classifying sentences:  65%|██████▍   | 646/1000 [12:53<05:46,  1.02it/s]"
     ]
    },
    {
     "name": "stdout",
     "output_type": "stream",
     "text": [
      "New Text: \"Abe last time I used them I was sitting in the woods looking at birds\" - Generated Response: Behavioral\n"
     ]
    },
    {
     "name": "stderr",
     "output_type": "stream",
     "text": [
      "Classifying sentences:  65%|██████▍   | 647/1000 [12:54<05:41,  1.03it/s]"
     ]
    },
    {
     "name": "stdout",
     "output_type": "stream",
     "text": [
      "New Text: \"each child was asked to bring in different kind of bread and she kept raving about french\" - Generated Response: Social\n"
     ]
    },
    {
     "name": "stderr",
     "output_type": "stream",
     "text": [
      "Classifying sentences:  65%|██████▍   | 648/1000 [12:56<06:05,  1.04s/it]"
     ]
    },
    {
     "name": "stdout",
     "output_type": "stream",
     "text": [
      "New Text: \"no one died in your school\" - Generated Response: Social\n"
     ]
    },
    {
     "name": "stderr",
     "output_type": "stream",
     "text": [
      "Classifying sentences:  65%|██████▍   | 649/1000 [12:57<06:00,  1.03s/it]"
     ]
    },
    {
     "name": "stdout",
     "output_type": "stream",
     "text": [
      "New Text: \"see the panda bear\" - Generated Response: Perceptual\n"
     ]
    },
    {
     "name": "stderr",
     "output_type": "stream",
     "text": [
      "Classifying sentences:  65%|██████▌   | 650/1000 [12:58<06:01,  1.03s/it]"
     ]
    },
    {
     "name": "stdout",
     "output_type": "stream",
     "text": [
      "New Text: \"the racing car goes up the hill\" - Generated Response: Behavioral\n"
     ]
    },
    {
     "name": "stderr",
     "output_type": "stream",
     "text": [
      "Classifying sentences:  65%|██████▌   | 651/1000 [12:59<05:56,  1.02s/it]"
     ]
    },
    {
     "name": "stdout",
     "output_type": "stream",
     "text": [
      "New Text: \"wanna see if there's a doggie\" - Generated Response: Other\n"
     ]
    },
    {
     "name": "stderr",
     "output_type": "stream",
     "text": [
      "Classifying sentences:  65%|██████▌   | 652/1000 [13:00<05:56,  1.02s/it]"
     ]
    },
    {
     "name": "stdout",
     "output_type": "stream",
     "text": [
      "New Text: \"let's find ones that\" - Generated Response: Other\n"
     ]
    },
    {
     "name": "stderr",
     "output_type": "stream",
     "text": [
      "Classifying sentences:  65%|██████▌   | 653/1000 [13:01<05:55,  1.02s/it]"
     ]
    },
    {
     "name": "stdout",
     "output_type": "stream",
     "text": [
      "New Text: \"on Monday he ate through one apple but he was still hungry\" - Generated Response: Behavioral\n"
     ]
    },
    {
     "name": "stderr",
     "output_type": "stream",
     "text": [
      "Classifying sentences:  65%|██████▌   | 654/1000 [13:02<06:15,  1.08s/it]"
     ]
    },
    {
     "name": "stdout",
     "output_type": "stream",
     "text": [
      "New Text: \"look at the kitty\" - Generated Response: Perceptual\n"
     ]
    },
    {
     "name": "stderr",
     "output_type": "stream",
     "text": [
      "Classifying sentences:  66%|██████▌   | 655/1000 [13:05<08:47,  1.53s/it]"
     ]
    },
    {
     "name": "stdout",
     "output_type": "stream",
     "text": [
      "New Text: \"here comes the kitty\" - Generated Response: Behavioral\n"
     ]
    },
    {
     "name": "stderr",
     "output_type": "stream",
     "text": [
      "Classifying sentences:  66%|██████▌   | 656/1000 [13:06<07:53,  1.38s/it]"
     ]
    },
    {
     "name": "stdout",
     "output_type": "stream",
     "text": [
      "New Text: \"yeah let me get my sewing machine put away\" - Generated Response: Behavioral\n"
     ]
    },
    {
     "name": "stderr",
     "output_type": "stream",
     "text": [
      "Classifying sentences:  66%|██████▌   | 657/1000 [13:07<08:08,  1.42s/it]"
     ]
    },
    {
     "name": "stdout",
     "output_type": "stream",
     "text": [
      "New Text: \"oh you wanna get in here\" - Generated Response: Other\n"
     ]
    },
    {
     "name": "stderr",
     "output_type": "stream",
     "text": [
      "Classifying sentences:  66%|██████▌   | 658/1000 [13:08<07:32,  1.32s/it]"
     ]
    },
    {
     "name": "stdout",
     "output_type": "stream",
     "text": [
      "New Text: \"can you make another one\" - Generated Response: Behavioral\n"
     ]
    },
    {
     "name": "stderr",
     "output_type": "stream",
     "text": [
      "Classifying sentences:  66%|██████▌   | 659/1000 [13:09<07:04,  1.25s/it]"
     ]
    },
    {
     "name": "stdout",
     "output_type": "stream",
     "text": [
      "New Text: \"she's pretending to be a nurse\" - Generated Response: Behavioral\n"
     ]
    },
    {
     "name": "stderr",
     "output_type": "stream",
     "text": [
      "Classifying sentences:  66%|██████▌   | 660/1000 [13:10<06:51,  1.21s/it]"
     ]
    },
    {
     "name": "stdout",
     "output_type": "stream",
     "text": [
      "New Text: \"we could go see if Dion is at the farm\" - Generated Response: Behavioral\n"
     ]
    },
    {
     "name": "stderr",
     "output_type": "stream",
     "text": [
      "Classifying sentences:  66%|██████▌   | 661/1000 [13:11<06:42,  1.19s/it]"
     ]
    },
    {
     "name": "stdout",
     "output_type": "stream",
     "text": [
      "New Text: \"cover your eyes and we'll turn the light on\" - Generated Response: Behavioral\n"
     ]
    },
    {
     "name": "stderr",
     "output_type": "stream",
     "text": [
      "Classifying sentences:  66%|██████▌   | 662/1000 [13:12<06:23,  1.13s/it]"
     ]
    },
    {
     "name": "stdout",
     "output_type": "stream",
     "text": [
      "New Text: \"you gonna roll off the bed\" - Generated Response: Behavioral\n"
     ]
    },
    {
     "name": "stderr",
     "output_type": "stream",
     "text": [
      "Classifying sentences:  66%|██████▋   | 663/1000 [13:14<06:18,  1.12s/it]"
     ]
    },
    {
     "name": "stdout",
     "output_type": "stream",
     "text": [
      "New Text: \"watch out for your toes\" - Generated Response: Behavioral\n"
     ]
    },
    {
     "name": "stderr",
     "output_type": "stream",
     "text": [
      "Classifying sentences:  66%|██████▋   | 664/1000 [13:15<06:16,  1.12s/it]"
     ]
    },
    {
     "name": "stdout",
     "output_type": "stream",
     "text": [
      "New Text: \"um the water's just- it looks like it's uh\" - Generated Response: Perceptual\n"
     ]
    },
    {
     "name": "stderr",
     "output_type": "stream",
     "text": [
      "Classifying sentences:  66%|██████▋   | 665/1000 [13:16<06:10,  1.11s/it]"
     ]
    },
    {
     "name": "stdout",
     "output_type": "stream",
     "text": [
      "New Text: \"you turn the page\" - Generated Response: Behavioral\n"
     ]
    },
    {
     "name": "stderr",
     "output_type": "stream",
     "text": [
      "Classifying sentences:  67%|██████▋   | 666/1000 [13:17<06:01,  1.08s/it]"
     ]
    },
    {
     "name": "stdout",
     "output_type": "stream",
     "text": [
      "New Text: \"okay we are gonna bang elbows and smile\" - Generated Response: Behavioral\n"
     ]
    },
    {
     "name": "stderr",
     "output_type": "stream",
     "text": [
      "Classifying sentences:  67%|██████▋   | 667/1000 [13:18<05:50,  1.05s/it]"
     ]
    },
    {
     "name": "stdout",
     "output_type": "stream",
     "text": [
      "New Text: \"want a pitcher\" - Generated Response: Other\n"
     ]
    },
    {
     "name": "stderr",
     "output_type": "stream",
     "text": [
      "Classifying sentences:  67%|██████▋   | 668/1000 [13:19<05:50,  1.06s/it]"
     ]
    },
    {
     "name": "stdout",
     "output_type": "stream",
     "text": [
      "New Text: \"beans www cried Donald\" - Generated Response: Other\n"
     ]
    },
    {
     "name": "stderr",
     "output_type": "stream",
     "text": [
      "Classifying sentences:  67%|██████▋   | 669/1000 [13:20<05:46,  1.05s/it]"
     ]
    },
    {
     "name": "stdout",
     "output_type": "stream",
     "text": [
      "New Text: \"no we hear Laura another time\" - Generated Response: Behavioral\n"
     ]
    },
    {
     "name": "stderr",
     "output_type": "stream",
     "text": [
      "Classifying sentences:  67%|██████▋   | 670/1000 [13:21<05:53,  1.07s/it]"
     ]
    },
    {
     "name": "stdout",
     "output_type": "stream",
     "text": [
      "New Text: \"I guess Jesse Bear's having a raspberry\" - Generated Response: Behavioral\n"
     ]
    },
    {
     "name": "stderr",
     "output_type": "stream",
     "text": [
      "Classifying sentences:  67%|██████▋   | 671/1000 [13:22<05:47,  1.06s/it]"
     ]
    },
    {
     "name": "stdout",
     "output_type": "stream",
     "text": [
      "New Text: \"and ask questions\" - Generated Response: Behavioral\n"
     ]
    },
    {
     "name": "stderr",
     "output_type": "stream",
     "text": [
      "Classifying sentences:  67%|██████▋   | 672/1000 [13:23<05:51,  1.07s/it]"
     ]
    },
    {
     "name": "stdout",
     "output_type": "stream",
     "text": [
      "New Text: \"get your book\" - Generated Response: Behavioral\n"
     ]
    },
    {
     "name": "stderr",
     "output_type": "stream",
     "text": [
      "Classifying sentences:  67%|██████▋   | 673/1000 [13:24<05:57,  1.09s/it]"
     ]
    },
    {
     "name": "stdout",
     "output_type": "stream",
     "text": [
      "New Text: \"you gonna carry your baby with you\" - Generated Response: Behavioral\n"
     ]
    },
    {
     "name": "stderr",
     "output_type": "stream",
     "text": [
      "Classifying sentences:  67%|██████▋   | 674/1000 [13:25<05:50,  1.07s/it]"
     ]
    },
    {
     "name": "stdout",
     "output_type": "stream",
     "text": [
      "New Text: \"you don't take your Easter baskets to bed\" - Generated Response: Behavioral\n"
     ]
    },
    {
     "name": "stderr",
     "output_type": "stream",
     "text": [
      "Classifying sentences:  68%|██████▊   | 675/1000 [13:26<05:43,  1.06s/it]"
     ]
    },
    {
     "name": "stdout",
     "output_type": "stream",
     "text": [
      "New Text: \"Sarabi and I didn't see you at the presentation of Simba he said\" - Generated Response: Social\n"
     ]
    },
    {
     "name": "stderr",
     "output_type": "stream",
     "text": [
      "Classifying sentences:  68%|██████▊   | 676/1000 [13:27<05:28,  1.02s/it]"
     ]
    },
    {
     "name": "stdout",
     "output_type": "stream",
     "text": [
      "New Text: \"Tony you know that's your phony laugh\" - Generated Response: Social\n"
     ]
    },
    {
     "name": "stderr",
     "output_type": "stream",
     "text": [
      "Classifying sentences:  68%|██████▊   | 677/1000 [13:28<05:24,  1.00s/it]"
     ]
    },
    {
     "name": "stdout",
     "output_type": "stream",
     "text": [
      "New Text: \"I close my eyes the way she said\" - Generated Response: Behavioral\n"
     ]
    },
    {
     "name": "stderr",
     "output_type": "stream",
     "text": [
      "Classifying sentences:  68%|██████▊   | 678/1000 [13:29<05:40,  1.06s/it]"
     ]
    },
    {
     "name": "stdout",
     "output_type": "stream",
     "text": [
      "New Text: \"mommy's gonna put something on that okay\" - Generated Response: Behavioral\n"
     ]
    },
    {
     "name": "stderr",
     "output_type": "stream",
     "text": [
      "Classifying sentences:  68%|██████▊   | 679/1000 [13:31<05:55,  1.11s/it]"
     ]
    },
    {
     "name": "stdout",
     "output_type": "stream",
     "text": [
      "New Text: \"make the bell ring\" - Generated Response: Teleological\n"
     ]
    },
    {
     "name": "stderr",
     "output_type": "stream",
     "text": [
      "Classifying sentences:  68%|██████▊   | 680/1000 [13:32<05:56,  1.11s/it]"
     ]
    },
    {
     "name": "stdout",
     "output_type": "stream",
     "text": [
      "New Text: \"and a little ox pecker going for a ride\" - Generated Response: Behavioral\n"
     ]
    },
    {
     "name": "stderr",
     "output_type": "stream",
     "text": [
      "Classifying sentences:  68%|██████▊   | 681/1000 [13:33<05:58,  1.12s/it]"
     ]
    },
    {
     "name": "stdout",
     "output_type": "stream",
     "text": [
      "New Text: \"so now we want cookies\" - Generated Response: Behavioral\n"
     ]
    },
    {
     "name": "stderr",
     "output_type": "stream",
     "text": [
      "Classifying sentences:  68%|██████▊   | 682/1000 [13:34<05:42,  1.08s/it]"
     ]
    },
    {
     "name": "stdout",
     "output_type": "stream",
     "text": [
      "New Text: \"hey Roman hold on for a second hold on\" - Generated Response: Other\n"
     ]
    },
    {
     "name": "stderr",
     "output_type": "stream",
     "text": [
      "Classifying sentences:  68%|██████▊   | 683/1000 [13:35<05:39,  1.07s/it]"
     ]
    },
    {
     "name": "stdout",
     "output_type": "stream",
     "text": [
      "New Text: \"while I went canoeing in Florida once and there were alligators along with us\" - Generated Response: Behavioral\n"
     ]
    },
    {
     "name": "stderr",
     "output_type": "stream",
     "text": [
      "Classifying sentences:  68%|██████▊   | 684/1000 [13:36<05:51,  1.11s/it]"
     ]
    },
    {
     "name": "stdout",
     "output_type": "stream",
     "text": [
      "New Text: \"with three legs showing\" - Generated Response: Perceptual\n"
     ]
    },
    {
     "name": "stderr",
     "output_type": "stream",
     "text": [
      "Classifying sentences:  68%|██████▊   | 685/1000 [13:37<05:43,  1.09s/it]"
     ]
    },
    {
     "name": "stdout",
     "output_type": "stream",
     "text": [
      "New Text: \"well let's at least unbutton it for a while\" - Generated Response: Behavioral\n"
     ]
    },
    {
     "name": "stderr",
     "output_type": "stream",
     "text": [
      "Classifying sentences:  69%|██████▊   | 686/1000 [13:38<05:31,  1.05s/it]"
     ]
    },
    {
     "name": "stdout",
     "output_type": "stream",
     "text": [
      "New Text: \"remember we were to Mcdonald's last week\" - Generated Response: Other\n"
     ]
    },
    {
     "name": "stderr",
     "output_type": "stream",
     "text": [
      "Classifying sentences:  69%|██████▊   | 687/1000 [13:39<05:22,  1.03s/it]"
     ]
    },
    {
     "name": "stdout",
     "output_type": "stream",
     "text": [
      "New Text: \"when he comes around the corner he should watch out for the dog because the dog will chase chase him\" - Generated Response: Behavioral\n"
     ]
    },
    {
     "name": "stderr",
     "output_type": "stream",
     "text": [
      "Classifying sentences:  69%|██████▉   | 688/1000 [13:40<05:21,  1.03s/it]"
     ]
    },
    {
     "name": "stdout",
     "output_type": "stream",
     "text": [
      "New Text: \"xxx this Easter egg is from last year Max said Ruby into the trash bucket\" - Generated Response: Other\n"
     ]
    },
    {
     "name": "stderr",
     "output_type": "stream",
     "text": [
      "Classifying sentences:  69%|██████▉   | 689/1000 [13:41<05:14,  1.01s/it]"
     ]
    },
    {
     "name": "stdout",
     "output_type": "stream",
     "text": [
      "New Text: \"squirting out the end\" - Generated Response: Other\n"
     ]
    },
    {
     "name": "stderr",
     "output_type": "stream",
     "text": [
      "Classifying sentences:  69%|██████▉   | 690/1000 [13:42<05:29,  1.06s/it]"
     ]
    },
    {
     "name": "stdout",
     "output_type": "stream",
     "text": [
      "New Text: \"um she's drawing on the back on the blackboard\" - Generated Response: Behavioral\n"
     ]
    },
    {
     "name": "stderr",
     "output_type": "stream",
     "text": [
      "Classifying sentences:  69%|██████▉   | 691/1000 [13:43<05:24,  1.05s/it]"
     ]
    },
    {
     "name": "stdout",
     "output_type": "stream",
     "text": [
      "New Text: \"do you know what a sailor what he drives\" - Generated Response: Behavioral\n"
     ]
    },
    {
     "name": "stderr",
     "output_type": "stream",
     "text": [
      "Classifying sentences:  69%|██████▉   | 692/1000 [13:44<05:30,  1.07s/it]"
     ]
    },
    {
     "name": "stdout",
     "output_type": "stream",
     "text": [
      "New Text: \"you want a vitamin so early\" - Generated Response: Behavioral\n"
     ]
    },
    {
     "name": "stderr",
     "output_type": "stream",
     "text": [
      "Classifying sentences:  69%|██████▉   | 693/1000 [13:46<05:34,  1.09s/it]"
     ]
    },
    {
     "name": "stdout",
     "output_type": "stream",
     "text": [
      "New Text: \"and after Mommy changes your diaper maybe we can read a book\" - Generated Response: Behavioral\n"
     ]
    },
    {
     "name": "stderr",
     "output_type": "stream",
     "text": [
      "Classifying sentences:  69%|██████▉   | 694/1000 [13:47<05:31,  1.08s/it]"
     ]
    },
    {
     "name": "stdout",
     "output_type": "stream",
     "text": [
      "New Text: \"you use a cane\" - Generated Response: Teleological\n"
     ]
    },
    {
     "name": "stderr",
     "output_type": "stream",
     "text": [
      "Classifying sentences:  70%|██████▉   | 695/1000 [13:48<05:25,  1.07s/it]"
     ]
    },
    {
     "name": "stdout",
     "output_type": "stream",
     "text": [
      "New Text: \"it's supposed to be dishwasher\" - Generated Response: Teleological\n"
     ]
    },
    {
     "name": "stderr",
     "output_type": "stream",
     "text": [
      "Classifying sentences:  70%|██████▉   | 696/1000 [13:49<05:14,  1.03s/it]"
     ]
    },
    {
     "name": "stdout",
     "output_type": "stream",
     "text": [
      "New Text: \"can you give him another love\" - Generated Response: Other\n"
     ]
    },
    {
     "name": "stderr",
     "output_type": "stream",
     "text": [
      "Classifying sentences:  70%|██████▉   | 697/1000 [13:50<05:48,  1.15s/it]"
     ]
    },
    {
     "name": "stdout",
     "output_type": "stream",
     "text": [
      "New Text: \"l listen up because you can learn from this okay\" - Generated Response: Behavioral\n"
     ]
    },
    {
     "name": "stderr",
     "output_type": "stream",
     "text": [
      "Classifying sentences:  70%|██████▉   | 698/1000 [13:51<05:47,  1.15s/it]"
     ]
    },
    {
     "name": "stdout",
     "output_type": "stream",
     "text": [
      "New Text: \"play with the food\" - Generated Response: Behavioral\n"
     ]
    },
    {
     "name": "stderr",
     "output_type": "stream",
     "text": [
      "Classifying sentences:  70%|██████▉   | 699/1000 [13:52<05:43,  1.14s/it]"
     ]
    },
    {
     "name": "stdout",
     "output_type": "stream",
     "text": [
      "New Text: \"find their heads and put them on there\" - Generated Response: Behavioral\n"
     ]
    },
    {
     "name": "stderr",
     "output_type": "stream",
     "text": [
      "Classifying sentences:  70%|███████   | 700/1000 [13:53<05:42,  1.14s/it]"
     ]
    },
    {
     "name": "stdout",
     "output_type": "stream",
     "text": [
      "New Text: \"let Melissa play with it a minute\" - Generated Response: Behavioral\n"
     ]
    },
    {
     "name": "stderr",
     "output_type": "stream",
     "text": [
      "Classifying sentences:  70%|███████   | 701/1000 [13:55<05:33,  1.11s/it]"
     ]
    },
    {
     "name": "stdout",
     "output_type": "stream",
     "text": [
      "New Text: \"let's look at these ponies\" - Generated Response: Perceptual\n"
     ]
    },
    {
     "name": "stderr",
     "output_type": "stream",
     "text": [
      "Classifying sentences:  70%|███████   | 702/1000 [13:56<05:51,  1.18s/it]"
     ]
    },
    {
     "name": "stdout",
     "output_type": "stream",
     "text": [
      "New Text: \"okay that could probably go for one more piece of tissue huh\" - Generated Response: Behavioral\n"
     ]
    },
    {
     "name": "stderr",
     "output_type": "stream",
     "text": [
      "Classifying sentences:  70%|███████   | 703/1000 [13:57<05:42,  1.15s/it]"
     ]
    },
    {
     "name": "stdout",
     "output_type": "stream",
     "text": [
      "New Text: \"you're making the monkey drink it\" - Generated Response: Behavioral\n"
     ]
    },
    {
     "name": "stderr",
     "output_type": "stream",
     "text": [
      "Classifying sentences:  70%|███████   | 704/1000 [13:58<05:30,  1.12s/it]"
     ]
    },
    {
     "name": "stdout",
     "output_type": "stream",
     "text": [
      "New Text: \"do you remember you member your grandpa and grandma\" - Generated Response: Other\n"
     ]
    },
    {
     "name": "stderr",
     "output_type": "stream",
     "text": [
      "Classifying sentences:  70%|███████   | 705/1000 [13:59<05:29,  1.12s/it]"
     ]
    },
    {
     "name": "stdout",
     "output_type": "stream",
     "text": [
      "New Text: \"what about the wipers on the bus\" - Generated Response: Teleological\n"
     ]
    },
    {
     "name": "stderr",
     "output_type": "stream",
     "text": [
      "Classifying sentences:  71%|███████   | 706/1000 [14:00<05:20,  1.09s/it]"
     ]
    },
    {
     "name": "stdout",
     "output_type": "stream",
     "text": [
      "New Text: \"the school+bus went the wrong way you're right\" - Generated Response: Behavioral\n"
     ]
    },
    {
     "name": "stderr",
     "output_type": "stream",
     "text": [
      "Classifying sentences:  71%|███████   | 707/1000 [14:01<05:04,  1.04s/it]"
     ]
    },
    {
     "name": "stdout",
     "output_type": "stream",
     "text": [
      "New Text: \"want another teaspoon\" - Generated Response: Other\n"
     ]
    },
    {
     "name": "stderr",
     "output_type": "stream",
     "text": [
      "Classifying sentences:  71%|███████   | 708/1000 [14:02<04:50,  1.00it/s]"
     ]
    },
    {
     "name": "stdout",
     "output_type": "stream",
     "text": [
      "New Text: \"what is that little girl holding\" - Generated Response: Other\n"
     ]
    },
    {
     "name": "stderr",
     "output_type": "stream",
     "text": [
      "Classifying sentences:  71%|███████   | 709/1000 [14:03<04:54,  1.01s/it]"
     ]
    },
    {
     "name": "stdout",
     "output_type": "stream",
     "text": [
      "New Text: \"kid with the presents answered the pheasants\" - Generated Response: Behavioral\n"
     ]
    },
    {
     "name": "stderr",
     "output_type": "stream",
     "text": [
      "Classifying sentences:  71%|███████   | 710/1000 [14:04<05:12,  1.08s/it]"
     ]
    },
    {
     "name": "stdout",
     "output_type": "stream",
     "text": [
      "New Text: \"okay call me up my phone's gonna ring\" - Generated Response: Behavioral\n"
     ]
    },
    {
     "name": "stderr",
     "output_type": "stream",
     "text": [
      "Classifying sentences:  71%|███████   | 711/1000 [14:05<05:03,  1.05s/it]"
     ]
    },
    {
     "name": "stdout",
     "output_type": "stream",
     "text": [
      "New Text: \"you think you might get scared tonight Mark Mark\" - Generated Response: Other\n"
     ]
    },
    {
     "name": "stderr",
     "output_type": "stream",
     "text": [
      "Classifying sentences:  71%|███████   | 712/1000 [14:06<05:03,  1.05s/it]"
     ]
    },
    {
     "name": "stdout",
     "output_type": "stream",
     "text": [
      "New Text: \"unless I get a xxx first xxx\" - Generated Response: Other\n"
     ]
    },
    {
     "name": "stderr",
     "output_type": "stream",
     "text": [
      "Classifying sentences:  71%|███████▏  | 713/1000 [14:07<04:59,  1.04s/it]"
     ]
    },
    {
     "name": "stdout",
     "output_type": "stream",
     "text": [
      "New Text: \"I think you should write a sequel you know\" - Generated Response: Behavioral\n"
     ]
    },
    {
     "name": "stderr",
     "output_type": "stream",
     "text": [
      "Classifying sentences:  71%|███████▏  | 714/1000 [14:08<04:55,  1.03s/it]"
     ]
    },
    {
     "name": "stdout",
     "output_type": "stream",
     "text": [
      "New Text: \"where'd the sun go\" - Generated Response: Perceptual\n"
     ]
    },
    {
     "name": "stderr",
     "output_type": "stream",
     "text": [
      "Classifying sentences:  72%|███████▏  | 715/1000 [14:09<04:55,  1.04s/it]"
     ]
    },
    {
     "name": "stdout",
     "output_type": "stream",
     "text": [
      "New Text: \"we're gonna wash the bath+room floor anyway\" - Generated Response: Behavioral\n"
     ]
    },
    {
     "name": "stderr",
     "output_type": "stream",
     "text": [
      "Classifying sentences:  72%|███████▏  | 716/1000 [14:10<04:53,  1.03s/it]"
     ]
    },
    {
     "name": "stdout",
     "output_type": "stream",
     "text": [
      "New Text: \"served at high faluting receptions and um crème de la crème type of activities and stuff like that\" - Generated Response: Social\n"
     ]
    },
    {
     "name": "stderr",
     "output_type": "stream",
     "text": [
      "Classifying sentences:  72%|███████▏  | 717/1000 [14:12<05:08,  1.09s/it]"
     ]
    },
    {
     "name": "stdout",
     "output_type": "stream",
     "text": [
      "New Text: \"and the applesauce bottle is empty too\" - Generated Response: Perceptual\n"
     ]
    },
    {
     "name": "stderr",
     "output_type": "stream",
     "text": [
      "Classifying sentences:  72%|███████▏  | 718/1000 [14:13<05:19,  1.13s/it]"
     ]
    },
    {
     "name": "stdout",
     "output_type": "stream",
     "text": [
      "New Text: \"xxx if you hold them in your hand even for a little while it will get actually\" - Generated Response: Other\n"
     ]
    },
    {
     "name": "stderr",
     "output_type": "stream",
     "text": [
      "Classifying sentences:  72%|███████▏  | 719/1000 [14:14<05:13,  1.11s/it]"
     ]
    },
    {
     "name": "stdout",
     "output_type": "stream",
     "text": [
      "New Text: \"the piggy says oink_oink\" - Generated Response: Behavioral\n"
     ]
    },
    {
     "name": "stderr",
     "output_type": "stream",
     "text": [
      "Classifying sentences:  72%|███████▏  | 720/1000 [14:15<05:04,  1.09s/it]"
     ]
    },
    {
     "name": "stdout",
     "output_type": "stream",
     "text": [
      "New Text: \"don't act like a two year old when you can act like a seven\" - Generated Response: Behavioral\n"
     ]
    },
    {
     "name": "stderr",
     "output_type": "stream",
     "text": [
      "Classifying sentences:  72%|███████▏  | 721/1000 [14:16<04:59,  1.07s/it]"
     ]
    },
    {
     "name": "stdout",
     "output_type": "stream",
     "text": [
      "New Text: \"I think he playing games\" - Generated Response: Behavioral\n"
     ]
    },
    {
     "name": "stderr",
     "output_type": "stream",
     "text": [
      "Classifying sentences:  72%|███████▏  | 722/1000 [14:17<04:55,  1.06s/it]"
     ]
    },
    {
     "name": "stdout",
     "output_type": "stream",
     "text": [
      "New Text: \"wanna grow to be a big boy huh\" - Generated Response: Biological\n"
     ]
    },
    {
     "name": "stderr",
     "output_type": "stream",
     "text": [
      "Classifying sentences:  72%|███████▏  | 723/1000 [14:18<04:55,  1.07s/it]"
     ]
    },
    {
     "name": "stdout",
     "output_type": "stream",
     "text": [
      "New Text: \"uh I'm not sure what I oh well I know don't they help plants\" - Generated Response: Teleological\n"
     ]
    },
    {
     "name": "stderr",
     "output_type": "stream",
     "text": [
      "Classifying sentences:  72%|███████▏  | 724/1000 [14:19<04:59,  1.09s/it]"
     ]
    },
    {
     "name": "stdout",
     "output_type": "stream",
     "text": [
      "New Text: \"you wipe your wet hands on that\" - Generated Response: Behavioral\n"
     ]
    },
    {
     "name": "stderr",
     "output_type": "stream",
     "text": [
      "Classifying sentences:  72%|███████▎  | 725/1000 [14:20<04:50,  1.06s/it]"
     ]
    },
    {
     "name": "stdout",
     "output_type": "stream",
     "text": [
      "New Text: \"and we have some little ones that are little tiny ones that he likes to carry around\" - Generated Response: Behavioral\n"
     ]
    },
    {
     "name": "stderr",
     "output_type": "stream",
     "text": [
      "Classifying sentences:  73%|███████▎  | 726/1000 [14:21<04:51,  1.06s/it]"
     ]
    },
    {
     "name": "stdout",
     "output_type": "stream",
     "text": [
      "New Text: \"turning on the burners\" - Generated Response: Behavioral\n"
     ]
    },
    {
     "name": "stderr",
     "output_type": "stream",
     "text": [
      "Classifying sentences:  73%|███████▎  | 727/1000 [14:22<04:50,  1.07s/it]"
     ]
    },
    {
     "name": "stdout",
     "output_type": "stream",
     "text": [
      "New Text: \"say ball where are you\" - Generated Response: Other\n"
     ]
    },
    {
     "name": "stderr",
     "output_type": "stream",
     "text": [
      "Classifying sentences:  73%|███████▎  | 728/1000 [14:23<04:45,  1.05s/it]"
     ]
    },
    {
     "name": "stdout",
     "output_type": "stream",
     "text": [
      "New Text: \"that night the moon found the third bean\" - Generated Response: Other\n"
     ]
    },
    {
     "name": "stderr",
     "output_type": "stream",
     "text": [
      "Classifying sentences:  73%|███████▎  | 729/1000 [14:25<04:53,  1.08s/it]"
     ]
    },
    {
     "name": "stdout",
     "output_type": "stream",
     "text": [
      "New Text: \"and gave him a hundred kisses\" - Generated Response: Behavioral\n"
     ]
    },
    {
     "name": "stderr",
     "output_type": "stream",
     "text": [
      "Classifying sentences:  73%|███████▎  | 730/1000 [14:26<04:47,  1.07s/it]"
     ]
    },
    {
     "name": "stdout",
     "output_type": "stream",
     "text": [
      "New Text: \"you wanna make an h\" - Generated Response: Other\n"
     ]
    },
    {
     "name": "stderr",
     "output_type": "stream",
     "text": [
      "Classifying sentences:  73%|███████▎  | 731/1000 [14:29<07:26,  1.66s/it]"
     ]
    },
    {
     "name": "stdout",
     "output_type": "stream",
     "text": [
      "New Text: \"she's pointing to something round and said\" - Generated Response: Behavioral\n"
     ]
    },
    {
     "name": "stderr",
     "output_type": "stream",
     "text": [
      "Classifying sentences:  73%|███████▎  | 732/1000 [14:30<06:50,  1.53s/it]"
     ]
    },
    {
     "name": "stdout",
     "output_type": "stream",
     "text": [
      "New Text: \"yeah the bear's arm fell off\" - Generated Response: Biological\n"
     ]
    },
    {
     "name": "stderr",
     "output_type": "stream",
     "text": [
      "Classifying sentences:  73%|███████▎  | 733/1000 [14:31<06:16,  1.41s/it]"
     ]
    },
    {
     "name": "stdout",
     "output_type": "stream",
     "text": [
      "New Text: \"you don't wanna hurt your head so you wear a helmet\" - Generated Response: Teleological\n"
     ]
    },
    {
     "name": "stderr",
     "output_type": "stream",
     "text": [
      "Classifying sentences:  73%|███████▎  | 734/1000 [14:32<05:48,  1.31s/it]"
     ]
    },
    {
     "name": "stdout",
     "output_type": "stream",
     "text": [
      "New Text: \"he kinda you're right his face does look a little bit scared\" - Generated Response: Perceptual\n"
     ]
    },
    {
     "name": "stderr",
     "output_type": "stream",
     "text": [
      "Classifying sentences:  74%|███████▎  | 735/1000 [14:33<05:36,  1.27s/it]"
     ]
    },
    {
     "name": "stdout",
     "output_type": "stream",
     "text": [
      "New Text: \"it's what you call a mechanical toy yes\" - Generated Response: Teleological\n"
     ]
    },
    {
     "name": "stderr",
     "output_type": "stream",
     "text": [
      "Classifying sentences:  74%|███████▎  | 736/1000 [14:34<05:23,  1.23s/it]"
     ]
    },
    {
     "name": "stdout",
     "output_type": "stream",
     "text": [
      "New Text: \"Ross said never mind and looked up in the air\" - Generated Response: Behavioral\n"
     ]
    },
    {
     "name": "stderr",
     "output_type": "stream",
     "text": [
      "Classifying sentences:  74%|███████▎  | 737/1000 [14:35<04:59,  1.14s/it]"
     ]
    },
    {
     "name": "stdout",
     "output_type": "stream",
     "text": [
      "New Text: \"did the hair hit you in the face\" - Generated Response: Other\n"
     ]
    },
    {
     "name": "stderr",
     "output_type": "stream",
     "text": [
      "Classifying sentences:  74%|███████▍  | 738/1000 [14:36<04:48,  1.10s/it]"
     ]
    },
    {
     "name": "stdout",
     "output_type": "stream",
     "text": [
      "New Text: \"go see Jason climb this\" - Generated Response: Behavioral\n"
     ]
    },
    {
     "name": "stderr",
     "output_type": "stream",
     "text": [
      "Classifying sentences:  74%|███████▍  | 739/1000 [14:37<04:42,  1.08s/it]"
     ]
    },
    {
     "name": "stdout",
     "output_type": "stream",
     "text": [
      "New Text: \"Mr bunny's gonna come up here and sneak up from the back though and rescue Donald\" - Generated Response: Behavioral\n"
     ]
    },
    {
     "name": "stderr",
     "output_type": "stream",
     "text": [
      "Classifying sentences:  74%|███████▍  | 740/1000 [14:39<05:12,  1.20s/it]"
     ]
    },
    {
     "name": "stdout",
     "output_type": "stream",
     "text": [
      "New Text: \"show me the long neck\" - Generated Response: Perceptual\n"
     ]
    },
    {
     "name": "stderr",
     "output_type": "stream",
     "text": [
      "Classifying sentences:  74%|███████▍  | 741/1000 [14:40<05:08,  1.19s/it]"
     ]
    },
    {
     "name": "stdout",
     "output_type": "stream",
     "text": [
      "New Text: \"I think you're doing a great job\" - Generated Response: Social\n"
     ]
    },
    {
     "name": "stderr",
     "output_type": "stream",
     "text": [
      "Classifying sentences:  74%|███████▍  | 742/1000 [14:41<05:02,  1.17s/it]"
     ]
    },
    {
     "name": "stdout",
     "output_type": "stream",
     "text": [
      "New Text: \"let's see how about a w\" - Generated Response: Other\n"
     ]
    },
    {
     "name": "stderr",
     "output_type": "stream",
     "text": [
      "Classifying sentences:  74%|███████▍  | 743/1000 [14:42<05:13,  1.22s/it]"
     ]
    },
    {
     "name": "stdout",
     "output_type": "stream",
     "text": [
      "New Text: \"now let's dump out the water\" - Generated Response: Behavioral\n"
     ]
    },
    {
     "name": "stderr",
     "output_type": "stream",
     "text": [
      "Classifying sentences:  74%|███████▍  | 744/1000 [14:43<04:57,  1.16s/it]"
     ]
    },
    {
     "name": "stdout",
     "output_type": "stream",
     "text": [
      "New Text: \"oh did you get your hand caught in there\" - Generated Response: Other\n"
     ]
    },
    {
     "name": "stderr",
     "output_type": "stream",
     "text": [
      "Classifying sentences:  74%|███████▍  | 745/1000 [14:45<04:55,  1.16s/it]"
     ]
    },
    {
     "name": "stdout",
     "output_type": "stream",
     "text": [
      "New Text: \"can you throw it back to Mot\" - Generated Response: Behavioral\n"
     ]
    },
    {
     "name": "stderr",
     "output_type": "stream",
     "text": [
      "Classifying sentences:  75%|███████▍  | 746/1000 [14:46<04:49,  1.14s/it]"
     ]
    },
    {
     "name": "stdout",
     "output_type": "stream",
     "text": [
      "New Text: \"I thought you said something\" - Generated Response: Other\n"
     ]
    },
    {
     "name": "stderr",
     "output_type": "stream",
     "text": [
      "Classifying sentences:  75%|███████▍  | 747/1000 [14:47<04:39,  1.11s/it]"
     ]
    },
    {
     "name": "stdout",
     "output_type": "stream",
     "text": [
      "New Text: \"so the kitchen is a fun toy and we have an art desk so she likes to color\" - Generated Response: Behavioral\n"
     ]
    },
    {
     "name": "stderr",
     "output_type": "stream",
     "text": [
      "Classifying sentences:  75%|███████▍  | 748/1000 [14:48<04:32,  1.08s/it]"
     ]
    },
    {
     "name": "stdout",
     "output_type": "stream",
     "text": [
      "New Text: \"can you sit them in the chairs\" - Generated Response: Behavioral\n"
     ]
    },
    {
     "name": "stderr",
     "output_type": "stream",
     "text": [
      "Classifying sentences:  75%|███████▍  | 749/1000 [14:49<04:34,  1.10s/it]"
     ]
    },
    {
     "name": "stdout",
     "output_type": "stream",
     "text": [
      "New Text: \"tell a story\" - Generated Response: Behavioral\n"
     ]
    },
    {
     "name": "stderr",
     "output_type": "stream",
     "text": [
      "Classifying sentences:  75%|███████▌  | 750/1000 [14:50<04:28,  1.07s/it]"
     ]
    },
    {
     "name": "stdout",
     "output_type": "stream",
     "text": [
      "New Text: \"well anyway we made a coconut cake\" - Generated Response: Behavioral\n"
     ]
    },
    {
     "name": "stderr",
     "output_type": "stream",
     "text": [
      "Classifying sentences:  75%|███████▌  | 751/1000 [14:51<04:38,  1.12s/it]"
     ]
    },
    {
     "name": "stdout",
     "output_type": "stream",
     "text": [
      "New Text: \"look at the pretty flowers\" - Generated Response: Perceptual\n"
     ]
    },
    {
     "name": "stderr",
     "output_type": "stream",
     "text": [
      "Classifying sentences:  75%|███████▌  | 752/1000 [14:52<04:30,  1.09s/it]"
     ]
    },
    {
     "name": "stdout",
     "output_type": "stream",
     "text": [
      "New Text: \"strum strum what's that instrument called\" - Generated Response: Other\n"
     ]
    },
    {
     "name": "stderr",
     "output_type": "stream",
     "text": [
      "Classifying sentences:  75%|███████▌  | 753/1000 [14:53<04:18,  1.05s/it]"
     ]
    },
    {
     "name": "stdout",
     "output_type": "stream",
     "text": [
      "New Text: \"Justin eats sand\" - Generated Response: Behavioral\n"
     ]
    },
    {
     "name": "stderr",
     "output_type": "stream",
     "text": [
      "Classifying sentences:  75%|███████▌  | 754/1000 [14:54<04:11,  1.02s/it]"
     ]
    },
    {
     "name": "stdout",
     "output_type": "stream",
     "text": [
      "New Text: \"okay wait a minute\" - Generated Response: Other\n"
     ]
    },
    {
     "name": "stderr",
     "output_type": "stream",
     "text": [
      "Classifying sentences:  76%|███████▌  | 755/1000 [14:56<05:05,  1.25s/it]"
     ]
    },
    {
     "name": "stdout",
     "output_type": "stream",
     "text": [
      "New Text: \"sleepy sheep two is singing a quiet lullaby\" - Generated Response: Behavioral\n"
     ]
    },
    {
     "name": "stderr",
     "output_type": "stream",
     "text": [
      "Classifying sentences:  76%|███████▌  | 756/1000 [14:57<04:41,  1.15s/it]"
     ]
    },
    {
     "name": "stdout",
     "output_type": "stream",
     "text": [
      "New Text: \"that's where Santa Claus puts all your toys isn't it\" - Generated Response: Teleological\n"
     ]
    },
    {
     "name": "stderr",
     "output_type": "stream",
     "text": [
      "Classifying sentences:  76%|███████▌  | 757/1000 [14:58<04:24,  1.09s/it]"
     ]
    },
    {
     "name": "stdout",
     "output_type": "stream",
     "text": [
      "New Text: \"put them in front\" - Generated Response: Other\n"
     ]
    },
    {
     "name": "stderr",
     "output_type": "stream",
     "text": [
      "Classifying sentences:  76%|███████▌  | 758/1000 [14:59<04:31,  1.12s/it]"
     ]
    },
    {
     "name": "stdout",
     "output_type": "stream",
     "text": [
      "New Text: \"Dingo hit an egg van\" - Generated Response: Behavioral\n"
     ]
    },
    {
     "name": "stderr",
     "output_type": "stream",
     "text": [
      "Classifying sentences:  76%|███████▌  | 759/1000 [15:00<04:30,  1.12s/it]"
     ]
    },
    {
     "name": "stdout",
     "output_type": "stream",
     "text": [
      "New Text: \"um and ice cream goes pretty good with with cake too\" - Generated Response: Behavioral\n"
     ]
    },
    {
     "name": "stderr",
     "output_type": "stream",
     "text": [
      "Classifying sentences:  76%|███████▌  | 760/1000 [15:01<04:30,  1.13s/it]"
     ]
    },
    {
     "name": "stdout",
     "output_type": "stream",
     "text": [
      "New Text: \"it was their you know pirates just make me think I guess about the fantasy world that the kids play in you know\" - Generated Response: Behavioral\n"
     ]
    },
    {
     "name": "stderr",
     "output_type": "stream",
     "text": [
      "Classifying sentences:  76%|███████▌  | 761/1000 [15:02<04:28,  1.12s/it]"
     ]
    },
    {
     "name": "stdout",
     "output_type": "stream",
     "text": [
      "New Text: \"the wheel the wheel oh I don't know if I can hey you're guy is still stuck in this\" - Generated Response: Other\n"
     ]
    },
    {
     "name": "stderr",
     "output_type": "stream",
     "text": [
      "Classifying sentences:  76%|███████▌  | 762/1000 [15:04<04:45,  1.20s/it]"
     ]
    },
    {
     "name": "stdout",
     "output_type": "stream",
     "text": [
      "New Text: \"put the antelope in the water\" - Generated Response: Behavioral\n"
     ]
    },
    {
     "name": "stderr",
     "output_type": "stream",
     "text": [
      "Classifying sentences:  76%|███████▋  | 763/1000 [15:05<04:58,  1.26s/it]"
     ]
    },
    {
     "name": "stdout",
     "output_type": "stream",
     "text": [
      "New Text: \"where did the telephone go\" - Generated Response: Other\n"
     ]
    },
    {
     "name": "stderr",
     "output_type": "stream",
     "text": [
      "Classifying sentences:  76%|███████▋  | 764/1000 [15:06<04:47,  1.22s/it]"
     ]
    },
    {
     "name": "stdout",
     "output_type": "stream",
     "text": [
      "New Text: \"want some juice\" - Generated Response: Other\n"
     ]
    },
    {
     "name": "stderr",
     "output_type": "stream",
     "text": [
      "Classifying sentences:  76%|███████▋  | 765/1000 [15:07<04:47,  1.22s/it]"
     ]
    },
    {
     "name": "stdout",
     "output_type": "stream",
     "text": [
      "New Text: \"oh wait a minute\" - Generated Response: Other\n"
     ]
    },
    {
     "name": "stderr",
     "output_type": "stream",
     "text": [
      "Classifying sentences:  77%|███████▋  | 766/1000 [15:09<04:39,  1.19s/it]"
     ]
    },
    {
     "name": "stdout",
     "output_type": "stream",
     "text": [
      "New Text: \"um and I guess we don't play peekaboo that often we play so big and um\" - Generated Response: Behavioral\n"
     ]
    },
    {
     "name": "stderr",
     "output_type": "stream",
     "text": [
      "Classifying sentences:  77%|███████▋  | 767/1000 [15:10<04:32,  1.17s/it]"
     ]
    },
    {
     "name": "stdout",
     "output_type": "stream",
     "text": [
      "New Text: \"and did we say good luck ambulance\" - Generated Response: Other\n"
     ]
    },
    {
     "name": "stderr",
     "output_type": "stream",
     "text": [
      "Classifying sentences:  77%|███████▋  | 768/1000 [15:11<04:18,  1.12s/it]"
     ]
    },
    {
     "name": "stdout",
     "output_type": "stream",
     "text": [
      "New Text: \"do kitties wear clothes\" - Generated Response: Other\n"
     ]
    },
    {
     "name": "stderr",
     "output_type": "stream",
     "text": [
      "Classifying sentences:  77%|███████▋  | 769/1000 [15:12<04:15,  1.11s/it]"
     ]
    },
    {
     "name": "stdout",
     "output_type": "stream",
     "text": [
      "New Text: \"as they left a young man wearing an artist's beret was taking his wet laundry out of a bag a very bad Corduroy had discovered\" - Generated Response: Behavioral\n"
     ]
    },
    {
     "name": "stderr",
     "output_type": "stream",
     "text": [
      "Classifying sentences:  77%|███████▋  | 770/1000 [15:13<04:07,  1.08s/it]"
     ]
    },
    {
     "name": "stdout",
     "output_type": "stream",
     "text": [
      "New Text: \"open the thing Mark can you open it wait Marky you didn't open your thing\" - Generated Response: Behavioral\n"
     ]
    },
    {
     "name": "stderr",
     "output_type": "stream",
     "text": [
      "Classifying sentences:  77%|███████▋  | 771/1000 [15:14<04:04,  1.07s/it]"
     ]
    },
    {
     "name": "stdout",
     "output_type": "stream",
     "text": [
      "New Text: \"wanna go sit on the couch and read some books William\" - Generated Response: Behavioral\n"
     ]
    },
    {
     "name": "stderr",
     "output_type": "stream",
     "text": [
      "Classifying sentences:  77%|███████▋  | 772/1000 [15:15<03:56,  1.04s/it]"
     ]
    },
    {
     "name": "stdout",
     "output_type": "stream",
     "text": [
      "New Text: \"they were playing with it last night\" - Generated Response: Behavioral\n"
     ]
    },
    {
     "name": "stderr",
     "output_type": "stream",
     "text": [
      "Classifying sentences:  77%|███████▋  | 773/1000 [15:16<03:50,  1.01s/it]"
     ]
    },
    {
     "name": "stdout",
     "output_type": "stream",
     "text": [
      "New Text: \"you've done a lot better\" - Generated Response: Other\n"
     ]
    },
    {
     "name": "stderr",
     "output_type": "stream",
     "text": [
      "Classifying sentences:  77%|███████▋  | 774/1000 [15:17<03:45,  1.00it/s]"
     ]
    },
    {
     "name": "stdout",
     "output_type": "stream",
     "text": [
      "New Text: \"do you remember who does Flick go to get in the movie\" - Generated Response: Other\n"
     ]
    },
    {
     "name": "stderr",
     "output_type": "stream",
     "text": [
      "Classifying sentences:  78%|███████▊  | 775/1000 [15:18<03:42,  1.01it/s]"
     ]
    },
    {
     "name": "stdout",
     "output_type": "stream",
     "text": [
      "New Text: \"and he seems to some days he really likes them some days he really doesn't I don't know\" - Generated Response: Behavioral\n"
     ]
    },
    {
     "name": "stderr",
     "output_type": "stream",
     "text": [
      "Classifying sentences:  78%|███████▊  | 776/1000 [15:19<03:42,  1.01it/s]"
     ]
    },
    {
     "name": "stdout",
     "output_type": "stream",
     "text": [
      "New Text: \"one two three he said and dropped them into the jar\" - Generated Response: Behavioral\n"
     ]
    },
    {
     "name": "stderr",
     "output_type": "stream",
     "text": [
      "Classifying sentences:  78%|███████▊  | 777/1000 [15:20<03:40,  1.01it/s]"
     ]
    },
    {
     "name": "stdout",
     "output_type": "stream",
     "text": [
      "New Text: \"hm that would be neat you know you don't you could use that handle or you and you could tie it to the bed your string could go across that way or it could go between the two halves of bed handle to the handle to the bed like that\" - Generated Response: Teleological\n"
     ]
    },
    {
     "name": "stderr",
     "output_type": "stream",
     "text": [
      "Classifying sentences:  78%|███████▊  | 778/1000 [15:21<03:40,  1.01it/s]"
     ]
    },
    {
     "name": "stdout",
     "output_type": "stream",
     "text": [
      "New Text: \"you got my foot\" - Generated Response: Other\n"
     ]
    },
    {
     "name": "stderr",
     "output_type": "stream",
     "text": [
      "Classifying sentences:  78%|███████▊  | 779/1000 [15:22<03:41,  1.00s/it]"
     ]
    },
    {
     "name": "stdout",
     "output_type": "stream",
     "text": [
      "New Text: \"you hafta go around this way\" - Generated Response: Behavioral\n"
     ]
    },
    {
     "name": "stderr",
     "output_type": "stream",
     "text": [
      "Classifying sentences:  78%|███████▊  | 780/1000 [15:23<03:42,  1.01s/it]"
     ]
    },
    {
     "name": "stdout",
     "output_type": "stream",
     "text": [
      "New Text: \"do you know how we make coffee\" - Generated Response: Teleological\n"
     ]
    },
    {
     "name": "stderr",
     "output_type": "stream",
     "text": [
      "Classifying sentences:  78%|███████▊  | 781/1000 [15:24<03:41,  1.01s/it]"
     ]
    },
    {
     "name": "stdout",
     "output_type": "stream",
     "text": [
      "New Text: \"although she now likes to look at magazines She likes to look for um babies in magazines\" - Generated Response: Behavioral\n"
     ]
    },
    {
     "name": "stderr",
     "output_type": "stream",
     "text": [
      "Classifying sentences:  78%|███████▊  | 782/1000 [15:25<03:36,  1.01it/s]"
     ]
    },
    {
     "name": "stdout",
     "output_type": "stream",
     "text": [
      "New Text: \"what did you do when you went to school with Mommy today\" - Generated Response: Other\n"
     ]
    },
    {
     "name": "stderr",
     "output_type": "stream",
     "text": [
      "Classifying sentences:  78%|███████▊  | 783/1000 [15:26<04:02,  1.12s/it]"
     ]
    },
    {
     "name": "stdout",
     "output_type": "stream",
     "text": [
      "New Text: \"baby lying on the bed\" - Generated Response: Perceptual\n"
     ]
    },
    {
     "name": "stderr",
     "output_type": "stream",
     "text": [
      "Classifying sentences:  78%|███████▊  | 784/1000 [15:27<04:22,  1.21s/it]"
     ]
    },
    {
     "name": "stdout",
     "output_type": "stream",
     "text": [
      "New Text: \"do you see a girl here\" - Generated Response: Perceptual\n"
     ]
    },
    {
     "name": "stderr",
     "output_type": "stream",
     "text": [
      "Classifying sentences:  78%|███████▊  | 785/1000 [15:28<04:03,  1.13s/it]"
     ]
    },
    {
     "name": "stdout",
     "output_type": "stream",
     "text": [
      "New Text: \"I've changed my mind\" - Generated Response: Behavioral\n"
     ]
    },
    {
     "name": "stderr",
     "output_type": "stream",
     "text": [
      "Classifying sentences:  79%|███████▊  | 786/1000 [15:30<04:07,  1.15s/it]"
     ]
    },
    {
     "name": "stdout",
     "output_type": "stream",
     "text": [
      "New Text: \"Bert looked in the refrigerator\" - Generated Response: Behavioral\n"
     ]
    },
    {
     "name": "stderr",
     "output_type": "stream",
     "text": [
      "Classifying sentences:  79%|███████▊  | 787/1000 [15:31<04:17,  1.21s/it]"
     ]
    },
    {
     "name": "stdout",
     "output_type": "stream",
     "text": [
      "New Text: \"don't you play punch ball or something\" - Generated Response: Behavioral\n"
     ]
    },
    {
     "name": "stderr",
     "output_type": "stream",
     "text": [
      "Classifying sentences:  79%|███████▉  | 788/1000 [15:32<04:32,  1.28s/it]"
     ]
    },
    {
     "name": "stdout",
     "output_type": "stream",
     "text": [
      "New Text: \"making dinner for the boys\" - Generated Response: Behavioral\n"
     ]
    },
    {
     "name": "stderr",
     "output_type": "stream",
     "text": [
      "Classifying sentences:  79%|███████▉  | 789/1000 [15:33<04:19,  1.23s/it]"
     ]
    },
    {
     "name": "stdout",
     "output_type": "stream",
     "text": [
      "New Text: \"then he got up on top with a tip of his hat\" - Generated Response: Behavioral\n"
     ]
    },
    {
     "name": "stderr",
     "output_type": "stream",
     "text": [
      "Classifying sentences:  79%|███████▉  | 790/1000 [15:35<04:30,  1.29s/it]"
     ]
    },
    {
     "name": "stdout",
     "output_type": "stream",
     "text": [
      "New Text: \"yes do you remember what Tamar's brother's name is\" - Generated Response: Other\n"
     ]
    },
    {
     "name": "stderr",
     "output_type": "stream",
     "text": [
      "Classifying sentences:  79%|███████▉  | 791/1000 [15:36<04:25,  1.27s/it]"
     ]
    },
    {
     "name": "stdout",
     "output_type": "stream",
     "text": [
      "New Text: \"cause she does seem to show a pretty good interest in it although I think most of it is just teething and mouthing\" - Generated Response: Behavioral\n"
     ]
    },
    {
     "name": "stderr",
     "output_type": "stream",
     "text": [
      "Classifying sentences:  79%|███████▉  | 792/1000 [15:37<04:06,  1.18s/it]"
     ]
    },
    {
     "name": "stdout",
     "output_type": "stream",
     "text": [
      "New Text: \"there shall we make a train on there\" - Generated Response: Behavioral\n"
     ]
    },
    {
     "name": "stderr",
     "output_type": "stream",
     "text": [
      "Classifying sentences:  79%|███████▉  | 793/1000 [15:38<03:50,  1.11s/it]"
     ]
    },
    {
     "name": "stdout",
     "output_type": "stream",
     "text": [
      "New Text: \"would you like to do the squares\" - Generated Response: Other\n"
     ]
    },
    {
     "name": "stderr",
     "output_type": "stream",
     "text": [
      "Classifying sentences:  79%|███████▉  | 794/1000 [15:39<03:42,  1.08s/it]"
     ]
    },
    {
     "name": "stdout",
     "output_type": "stream",
     "text": [
      "New Text: \"um and the rest she really wouldn't recognize\" - Generated Response: Other\n"
     ]
    },
    {
     "name": "stderr",
     "output_type": "stream",
     "text": [
      "Classifying sentences:  80%|███████▉  | 795/1000 [15:40<03:35,  1.05s/it]"
     ]
    },
    {
     "name": "stdout",
     "output_type": "stream",
     "text": [
      "New Text: \"I just ate supper so I don't need breakfast\" - Generated Response: Behavioral\n"
     ]
    },
    {
     "name": "stderr",
     "output_type": "stream",
     "text": [
      "Classifying sentences:  80%|███████▉  | 796/1000 [15:41<03:31,  1.04s/it]"
     ]
    },
    {
     "name": "stdout",
     "output_type": "stream",
     "text": [
      "New Text: \"mhm the tow truck has to come\" - Generated Response: Teleological\n"
     ]
    },
    {
     "name": "stderr",
     "output_type": "stream",
     "text": [
      "Classifying sentences:  80%|███████▉  | 797/1000 [15:42<03:35,  1.06s/it]"
     ]
    },
    {
     "name": "stdout",
     "output_type": "stream",
     "text": [
      "New Text: \"do you wanna see where the pa the cutter is\" - Generated Response: Other\n"
     ]
    },
    {
     "name": "stderr",
     "output_type": "stream",
     "text": [
      "Classifying sentences:  80%|███████▉  | 798/1000 [15:44<04:46,  1.42s/it]"
     ]
    },
    {
     "name": "stdout",
     "output_type": "stream",
     "text": [
      "New Text: \"well now you have your bib over your head you can't even see\" - Generated Response: Perceptual\n"
     ]
    },
    {
     "name": "stderr",
     "output_type": "stream",
     "text": [
      "Classifying sentences:  80%|███████▉  | 799/1000 [15:45<04:21,  1.30s/it]"
     ]
    },
    {
     "name": "stdout",
     "output_type": "stream",
     "text": [
      "New Text: \"you love to play with water I know\" - Generated Response: Behavioral\n"
     ]
    },
    {
     "name": "stderr",
     "output_type": "stream",
     "text": [
      "Classifying sentences:  80%|████████  | 800/1000 [15:46<03:59,  1.20s/it]"
     ]
    },
    {
     "name": "stdout",
     "output_type": "stream",
     "text": [
      "New Text: \"can you bring it to mommy\" - Generated Response: Behavioral\n"
     ]
    },
    {
     "name": "stderr",
     "output_type": "stream",
     "text": [
      "Classifying sentences:  80%|████████  | 801/1000 [15:48<04:05,  1.24s/it]"
     ]
    },
    {
     "name": "stdout",
     "output_type": "stream",
     "text": [
      "New Text: \"now you want him to do his own spelling right\" - Generated Response: Behavioral\n"
     ]
    },
    {
     "name": "stderr",
     "output_type": "stream",
     "text": [
      "Classifying sentences:  80%|████████  | 802/1000 [15:49<03:56,  1.20s/it]"
     ]
    },
    {
     "name": "stdout",
     "output_type": "stream",
     "text": [
      "New Text: \"you got a old piece of scrap paper in your\" - Generated Response: Other\n"
     ]
    },
    {
     "name": "stderr",
     "output_type": "stream",
     "text": [
      "Classifying sentences:  80%|████████  | 803/1000 [15:50<03:50,  1.17s/it]"
     ]
    },
    {
     "name": "stdout",
     "output_type": "stream",
     "text": [
      "New Text: \"because we don't know what kind of expression you're gonna have when you get your picture\" - Generated Response: Perceptual\n"
     ]
    },
    {
     "name": "stderr",
     "output_type": "stream",
     "text": [
      "Classifying sentences:  80%|████████  | 804/1000 [15:51<03:41,  1.13s/it]"
     ]
    },
    {
     "name": "stdout",
     "output_type": "stream",
     "text": [
      "New Text: \"yes I'll come up and help you in a minute\" - Generated Response: Behavioral\n"
     ]
    },
    {
     "name": "stderr",
     "output_type": "stream",
     "text": [
      "Classifying sentences:  80%|████████  | 805/1000 [15:53<04:04,  1.25s/it]"
     ]
    },
    {
     "name": "stdout",
     "output_type": "stream",
     "text": [
      "New Text: \"do you see any tools\" - Generated Response: Perceptual\n"
     ]
    },
    {
     "name": "stderr",
     "output_type": "stream",
     "text": [
      "Classifying sentences:  81%|████████  | 806/1000 [15:54<04:04,  1.26s/it]"
     ]
    },
    {
     "name": "stdout",
     "output_type": "stream",
     "text": [
      "New Text: \"yeah there's lots_of yellows\" - Generated Response: Perceptual\n"
     ]
    },
    {
     "name": "stderr",
     "output_type": "stream",
     "text": [
      "Classifying sentences:  81%|████████  | 807/1000 [15:55<03:58,  1.24s/it]"
     ]
    },
    {
     "name": "stdout",
     "output_type": "stream",
     "text": [
      "New Text: \"you think that's a crocodile\" - Generated Response: Perceptual\n"
     ]
    },
    {
     "name": "stderr",
     "output_type": "stream",
     "text": [
      "Classifying sentences:  81%|████████  | 808/1000 [15:56<03:45,  1.17s/it]"
     ]
    },
    {
     "name": "stdout",
     "output_type": "stream",
     "text": [
      "New Text: \"I'm trying to find wait what puzzle pieces I have to look for\" - Generated Response: Behavioral\n"
     ]
    },
    {
     "name": "stderr",
     "output_type": "stream",
     "text": [
      "Classifying sentences:  81%|████████  | 809/1000 [15:57<03:43,  1.17s/it]"
     ]
    },
    {
     "name": "stdout",
     "output_type": "stream",
     "text": [
      "New Text: \"bye okay shall we play with another toy now\" - Generated Response: Behavioral\n"
     ]
    },
    {
     "name": "stderr",
     "output_type": "stream",
     "text": [
      "Classifying sentences:  81%|████████  | 810/1000 [15:58<03:37,  1.15s/it]"
     ]
    },
    {
     "name": "stdout",
     "output_type": "stream",
     "text": [
      "New Text: \"should we go let the doggie back in the house\" - Generated Response: Behavioral\n"
     ]
    },
    {
     "name": "stderr",
     "output_type": "stream",
     "text": [
      "Classifying sentences:  81%|████████  | 811/1000 [15:59<03:37,  1.15s/it]"
     ]
    },
    {
     "name": "stdout",
     "output_type": "stream",
     "text": [
      "New Text: \"have you ever chopped wood\" - Generated Response: Behavioral\n"
     ]
    },
    {
     "name": "stderr",
     "output_type": "stream",
     "text": [
      "Classifying sentences:  81%|████████  | 812/1000 [16:01<03:38,  1.16s/it]"
     ]
    },
    {
     "name": "stdout",
     "output_type": "stream",
     "text": [
      "New Text: \"the spoons are you favorite huh\" - Generated Response: Other\n"
     ]
    },
    {
     "name": "stderr",
     "output_type": "stream",
     "text": [
      "Classifying sentences:  81%|████████▏ | 813/1000 [16:02<03:37,  1.16s/it]"
     ]
    },
    {
     "name": "stdout",
     "output_type": "stream",
     "text": [
      "New Text: \"oh is that to keep your balance\" - Generated Response: Teleological\n"
     ]
    },
    {
     "name": "stderr",
     "output_type": "stream",
     "text": [
      "Classifying sentences:  81%|████████▏ | 814/1000 [16:03<03:31,  1.13s/it]"
     ]
    },
    {
     "name": "stdout",
     "output_type": "stream",
     "text": [
      "New Text: \"I think that might be a microphone that you hang around your neck\" - Generated Response: Teleological\n"
     ]
    },
    {
     "name": "stderr",
     "output_type": "stream",
     "text": [
      "Classifying sentences:  82%|████████▏ | 815/1000 [16:04<03:26,  1.12s/it]"
     ]
    },
    {
     "name": "stdout",
     "output_type": "stream",
     "text": [
      "New Text: \"you take your folk and you go www\" - Generated Response: Behavioral\n"
     ]
    },
    {
     "name": "stderr",
     "output_type": "stream",
     "text": [
      "Classifying sentences:  82%|████████▏ | 816/1000 [16:05<03:18,  1.08s/it]"
     ]
    },
    {
     "name": "stdout",
     "output_type": "stream",
     "text": [
      "New Text: \"she said they're going to have a meeting of the minds\" - Generated Response: Social\n"
     ]
    },
    {
     "name": "stderr",
     "output_type": "stream",
     "text": [
      "Classifying sentences:  82%|████████▏ | 817/1000 [16:06<03:14,  1.06s/it]"
     ]
    },
    {
     "name": "stdout",
     "output_type": "stream",
     "text": [
      "New Text: \"and there's a monkey\" - Generated Response: Other\n"
     ]
    },
    {
     "name": "stderr",
     "output_type": "stream",
     "text": [
      "Classifying sentences:  82%|████████▏ | 818/1000 [16:07<03:11,  1.05s/it]"
     ]
    },
    {
     "name": "stdout",
     "output_type": "stream",
     "text": [
      "New Text: \"I'll go get Pat_the_bunny book alright\" - Generated Response: Behavioral\n"
     ]
    },
    {
     "name": "stderr",
     "output_type": "stream",
     "text": [
      "Classifying sentences:  82%|████████▏ | 819/1000 [16:08<03:20,  1.11s/it]"
     ]
    },
    {
     "name": "stdout",
     "output_type": "stream",
     "text": [
      "New Text: \"I'm saying big people don't don't needta use a tool on this toy\" - Generated Response: Teleological\n"
     ]
    },
    {
     "name": "stderr",
     "output_type": "stream",
     "text": [
      "Classifying sentences:  82%|████████▏ | 820/1000 [16:09<03:11,  1.06s/it]"
     ]
    },
    {
     "name": "stdout",
     "output_type": "stream",
     "text": [
      "New Text: \"it rained and then the rain dripped through baby bear's helmet\" - Generated Response: Perceptual\n"
     ]
    },
    {
     "name": "stderr",
     "output_type": "stream",
     "text": [
      "Classifying sentences:  82%|████████▏ | 821/1000 [16:10<03:04,  1.03s/it]"
     ]
    },
    {
     "name": "stdout",
     "output_type": "stream",
     "text": [
      "New Text: \"see if you can find a blouse in that pile\" - Generated Response: Behavioral\n"
     ]
    },
    {
     "name": "stderr",
     "output_type": "stream",
     "text": [
      "Classifying sentences:  82%|████████▏ | 822/1000 [16:11<02:59,  1.01s/it]"
     ]
    },
    {
     "name": "stdout",
     "output_type": "stream",
     "text": [
      "New Text: \"cause he likes to drink a_lot_of water\" - Generated Response: Behavioral\n"
     ]
    },
    {
     "name": "stderr",
     "output_type": "stream",
     "text": [
      "Classifying sentences:  82%|████████▏ | 823/1000 [16:12<03:04,  1.04s/it]"
     ]
    },
    {
     "name": "stdout",
     "output_type": "stream",
     "text": [
      "New Text: \"okay I want Mark to do this and if Ross does it then he hasta leave the room\" - Generated Response: Behavioral\n"
     ]
    },
    {
     "name": "stderr",
     "output_type": "stream",
     "text": [
      "Classifying sentences:  82%|████████▏ | 824/1000 [16:13<03:07,  1.07s/it]"
     ]
    },
    {
     "name": "stdout",
     "output_type": "stream",
     "text": [
      "New Text: \"and then we'll we'll see what's in the other boxes\" - Generated Response: Behavioral\n"
     ]
    },
    {
     "name": "stderr",
     "output_type": "stream",
     "text": [
      "Classifying sentences:  82%|████████▎ | 825/1000 [16:15<03:14,  1.11s/it]"
     ]
    },
    {
     "name": "stdout",
     "output_type": "stream",
     "text": [
      "New Text: \"we're cleaning the table right now\" - Generated Response: Behavioral\n"
     ]
    },
    {
     "name": "stderr",
     "output_type": "stream",
     "text": [
      "Classifying sentences:  83%|████████▎ | 826/1000 [16:16<03:46,  1.30s/it]"
     ]
    },
    {
     "name": "stdout",
     "output_type": "stream",
     "text": [
      "New Text: \"and it spells William w I l l I a m\" - Generated Response: Other\n"
     ]
    },
    {
     "name": "stderr",
     "output_type": "stream",
     "text": [
      "Classifying sentences:  83%|████████▎ | 827/1000 [16:17<03:35,  1.24s/it]"
     ]
    },
    {
     "name": "stdout",
     "output_type": "stream",
     "text": [
      "New Text: \"no they're gonna take them this time they're gonna take them because they're not gonna be back for a while that was just last night\" - Generated Response: Other\n"
     ]
    },
    {
     "name": "stderr",
     "output_type": "stream",
     "text": [
      "Classifying sentences:  83%|████████▎ | 828/1000 [16:19<03:26,  1.20s/it]"
     ]
    },
    {
     "name": "stdout",
     "output_type": "stream",
     "text": [
      "New Text: \"you sitting under your toy\" - Generated Response: Behavioral\n"
     ]
    },
    {
     "name": "stderr",
     "output_type": "stream",
     "text": [
      "Classifying sentences:  83%|████████▎ | 829/1000 [16:20<03:18,  1.16s/it]"
     ]
    },
    {
     "name": "stdout",
     "output_type": "stream",
     "text": [
      "New Text: \"ah thank you I'll put it on my head\" - Generated Response: Behavioral\n"
     ]
    },
    {
     "name": "stderr",
     "output_type": "stream",
     "text": [
      "Classifying sentences:  83%|████████▎ | 830/1000 [16:21<03:12,  1.13s/it]"
     ]
    },
    {
     "name": "stdout",
     "output_type": "stream",
     "text": [
      "New Text: \"oh I gotta put some laundry in here\" - Generated Response: Behavioral\n"
     ]
    },
    {
     "name": "stderr",
     "output_type": "stream",
     "text": [
      "Classifying sentences:  83%|████████▎ | 831/1000 [16:22<03:09,  1.12s/it]"
     ]
    },
    {
     "name": "stdout",
     "output_type": "stream",
     "text": [
      "New Text: \"wanna stand over there and I'll throw you the ball\" - Generated Response: Behavioral\n"
     ]
    },
    {
     "name": "stderr",
     "output_type": "stream",
     "text": [
      "Classifying sentences:  83%|████████▎ | 832/1000 [16:23<03:13,  1.15s/it]"
     ]
    },
    {
     "name": "stdout",
     "output_type": "stream",
     "text": [
      "New Text: \"xxx you are you're going to be three wow what a big girl\" - Generated Response: Perceptual\n"
     ]
    },
    {
     "name": "stderr",
     "output_type": "stream",
     "text": [
      "Classifying sentences:  83%|████████▎ | 833/1000 [16:24<03:05,  1.11s/it]"
     ]
    },
    {
     "name": "stdout",
     "output_type": "stream",
     "text": [
      "New Text: \"you don't think he can go to the moon\" - Generated Response: Other\n"
     ]
    },
    {
     "name": "stderr",
     "output_type": "stream",
     "text": [
      "Classifying sentences:  83%|████████▎ | 834/1000 [16:25<03:00,  1.09s/it]"
     ]
    },
    {
     "name": "stdout",
     "output_type": "stream",
     "text": [
      "New Text: \"there's the kitty+cat\" - Generated Response: Other\n"
     ]
    },
    {
     "name": "stderr",
     "output_type": "stream",
     "text": [
      "Classifying sentences:  84%|████████▎ | 835/1000 [16:26<02:56,  1.07s/it]"
     ]
    },
    {
     "name": "stdout",
     "output_type": "stream",
     "text": [
      "New Text: \"suddenly as she looked more closely at the fox chicken chicken little remembered the wanted poster she had seen in the town\" - Generated Response: Behavioral\n"
     ]
    },
    {
     "name": "stderr",
     "output_type": "stream",
     "text": [
      "Classifying sentences:  84%|████████▎ | 836/1000 [16:27<02:58,  1.09s/it]"
     ]
    },
    {
     "name": "stdout",
     "output_type": "stream",
     "text": [
      "New Text: \"tell Harvey what your animals' names are\" - Generated Response: Behavioral\n"
     ]
    },
    {
     "name": "stderr",
     "output_type": "stream",
     "text": [
      "Classifying sentences:  84%|████████▎ | 837/1000 [16:29<03:14,  1.19s/it]"
     ]
    },
    {
     "name": "stdout",
     "output_type": "stream",
     "text": [
      "New Text: \"you wanna read it by yourself or you want help\" - Generated Response: Social\n"
     ]
    },
    {
     "name": "stderr",
     "output_type": "stream",
     "text": [
      "Classifying sentences:  84%|████████▍ | 838/1000 [16:30<03:09,  1.17s/it]"
     ]
    },
    {
     "name": "stdout",
     "output_type": "stream",
     "text": [
      "New Text: \"pick up your duckie\" - Generated Response: Behavioral\n"
     ]
    },
    {
     "name": "stderr",
     "output_type": "stream",
     "text": [
      "Classifying sentences:  84%|████████▍ | 839/1000 [16:31<02:58,  1.11s/it]"
     ]
    },
    {
     "name": "stdout",
     "output_type": "stream",
     "text": [
      "New Text: \"because people are gonna arrive in a few minutes\" - Generated Response: Social\n"
     ]
    },
    {
     "name": "stderr",
     "output_type": "stream",
     "text": [
      "Classifying sentences:  84%|████████▍ | 840/1000 [16:32<02:49,  1.06s/it]"
     ]
    },
    {
     "name": "stdout",
     "output_type": "stream",
     "text": [
      "New Text: \"Mom did you get my messages\" - Generated Response: Social\n"
     ]
    },
    {
     "name": "stderr",
     "output_type": "stream",
     "text": [
      "Classifying sentences:  84%|████████▍ | 841/1000 [16:33<03:02,  1.15s/it]"
     ]
    },
    {
     "name": "stdout",
     "output_type": "stream",
     "text": [
      "New Text: \"look at the little girl with her coat on\" - Generated Response: Perceptual\n"
     ]
    },
    {
     "name": "stderr",
     "output_type": "stream",
     "text": [
      "Classifying sentences:  84%|████████▍ | 842/1000 [16:34<03:00,  1.14s/it]"
     ]
    },
    {
     "name": "stdout",
     "output_type": "stream",
     "text": [
      "New Text: \"how about if we stop for a cup of tea\" - Generated Response: Behavioral\n"
     ]
    },
    {
     "name": "stderr",
     "output_type": "stream",
     "text": [
      "Classifying sentences:  84%|████████▍ | 843/1000 [16:35<02:53,  1.11s/it]"
     ]
    },
    {
     "name": "stdout",
     "output_type": "stream",
     "text": [
      "New Text: \"let's take this one\" - Generated Response: Other\n"
     ]
    },
    {
     "name": "stderr",
     "output_type": "stream",
     "text": [
      "Classifying sentences:  84%|████████▍ | 844/1000 [16:36<02:53,  1.11s/it]"
     ]
    },
    {
     "name": "stdout",
     "output_type": "stream",
     "text": [
      "New Text: \"it's my bedtime now but I'm going to hide bye uh oh pew it's a little\" - Generated Response: Behavioral\n"
     ]
    },
    {
     "name": "stderr",
     "output_type": "stream",
     "text": [
      "Classifying sentences:  84%|████████▍ | 845/1000 [16:37<02:48,  1.09s/it]"
     ]
    },
    {
     "name": "stdout",
     "output_type": "stream",
     "text": [
      "New Text: \"oh well Hel look there's a_lot_of corn on here and\" - Generated Response: Perceptual\n"
     ]
    },
    {
     "name": "stderr",
     "output_type": "stream",
     "text": [
      "Classifying sentences:  85%|████████▍ | 846/1000 [16:38<02:49,  1.10s/it]"
     ]
    },
    {
     "name": "stdout",
     "output_type": "stream",
     "text": [
      "New Text: \"wanna give yours to the cow\" - Generated Response: Behavioral\n"
     ]
    },
    {
     "name": "stderr",
     "output_type": "stream",
     "text": [
      "Classifying sentences:  85%|████████▍ | 847/1000 [16:39<02:43,  1.07s/it]"
     ]
    },
    {
     "name": "stdout",
     "output_type": "stream",
     "text": [
      "New Text: \"mail hasn't come yet\" - Generated Response: Other\n"
     ]
    },
    {
     "name": "stderr",
     "output_type": "stream",
     "text": [
      "Classifying sentences:  85%|████████▍ | 848/1000 [16:40<02:36,  1.03s/it]"
     ]
    },
    {
     "name": "stdout",
     "output_type": "stream",
     "text": [
      "New Text: \"now well I have asked xxx to xxx\" - Generated Response: Other\n"
     ]
    },
    {
     "name": "stderr",
     "output_type": "stream",
     "text": [
      "Classifying sentences:  85%|████████▍ | 849/1000 [16:41<02:28,  1.01it/s]"
     ]
    },
    {
     "name": "stdout",
     "output_type": "stream",
     "text": [
      "New Text: \"we would probably have fifty words for fog if we lived in Maine\" - Generated Response: Other\n"
     ]
    },
    {
     "name": "stderr",
     "output_type": "stream",
     "text": [
      "Classifying sentences:  85%|████████▌ | 850/1000 [16:42<02:24,  1.04it/s]"
     ]
    },
    {
     "name": "stdout",
     "output_type": "stream",
     "text": [
      "New Text: \"you know when your cookies fall sometimes they fall into your cup of juice\" - Generated Response: Behavioral\n"
     ]
    },
    {
     "name": "stderr",
     "output_type": "stream",
     "text": [
      "Classifying sentences:  85%|████████▌ | 851/1000 [16:43<02:24,  1.03it/s]"
     ]
    },
    {
     "name": "stdout",
     "output_type": "stream",
     "text": [
      "New Text: \"I think so xxx after four o'clock\" - Generated Response: Other\n"
     ]
    },
    {
     "name": "stderr",
     "output_type": "stream",
     "text": [
      "Classifying sentences:  85%|████████▌ | 852/1000 [16:44<02:18,  1.07it/s]"
     ]
    },
    {
     "name": "stdout",
     "output_type": "stream",
     "text": [
      "New Text: \"he knew crab\" - Generated Response: Other\n"
     ]
    },
    {
     "name": "stderr",
     "output_type": "stream",
     "text": [
      "Classifying sentences:  85%|████████▌ | 853/1000 [16:45<02:23,  1.02it/s]"
     ]
    },
    {
     "name": "stdout",
     "output_type": "stream",
     "text": [
      "New Text: \"look at Mommy's pants\" - Generated Response: Perceptual\n"
     ]
    },
    {
     "name": "stderr",
     "output_type": "stream",
     "text": [
      "Classifying sentences:  85%|████████▌ | 854/1000 [16:46<02:24,  1.01it/s]"
     ]
    },
    {
     "name": "stdout",
     "output_type": "stream",
     "text": [
      "New Text: \"did you go out on a pig farm\" - Generated Response: Behavioral\n"
     ]
    },
    {
     "name": "stderr",
     "output_type": "stream",
     "text": [
      "Classifying sentences:  86%|████████▌ | 855/1000 [16:47<02:25,  1.00s/it]"
     ]
    },
    {
     "name": "stdout",
     "output_type": "stream",
     "text": [
      "New Text: \"okay go ahead Mark tell us the the rest\" - Generated Response: Other\n"
     ]
    },
    {
     "name": "stderr",
     "output_type": "stream",
     "text": [
      "Classifying sentences:  86%|████████▌ | 856/1000 [16:48<02:25,  1.01s/it]"
     ]
    },
    {
     "name": "stdout",
     "output_type": "stream",
     "text": [
      "New Text: \"I Daddy will help turn it in a little while\" - Generated Response: Behavioral\n"
     ]
    },
    {
     "name": "stderr",
     "output_type": "stream",
     "text": [
      "Classifying sentences:  86%|████████▌ | 857/1000 [16:49<02:24,  1.01s/it]"
     ]
    },
    {
     "name": "stdout",
     "output_type": "stream",
     "text": [
      "New Text: \"she liked this curtain page\" - Generated Response: Other\n"
     ]
    },
    {
     "name": "stderr",
     "output_type": "stream",
     "text": [
      "Classifying sentences:  86%|████████▌ | 858/1000 [16:50<02:28,  1.05s/it]"
     ]
    },
    {
     "name": "stdout",
     "output_type": "stream",
     "text": [
      "New Text: \"do you feel better today\" - Generated Response: Perceptual\n"
     ]
    },
    {
     "name": "stderr",
     "output_type": "stream",
     "text": [
      "Classifying sentences:  86%|████████▌ | 859/1000 [16:51<02:31,  1.07s/it]"
     ]
    },
    {
     "name": "stdout",
     "output_type": "stream",
     "text": [
      "New Text: \"you're gonna read the book\" - Generated Response: Behavioral\n"
     ]
    },
    {
     "name": "stderr",
     "output_type": "stream",
     "text": [
      "Classifying sentences:  86%|████████▌ | 860/1000 [16:53<02:35,  1.11s/it]"
     ]
    },
    {
     "name": "stdout",
     "output_type": "stream",
     "text": [
      "New Text: \"a cow ate carrot the\" - Generated Response: Behavioral\n"
     ]
    },
    {
     "name": "stderr",
     "output_type": "stream",
     "text": [
      "Classifying sentences:  86%|████████▌ | 861/1000 [16:54<02:33,  1.11s/it]"
     ]
    },
    {
     "name": "stdout",
     "output_type": "stream",
     "text": [
      "New Text: \"hold the phone with your shoulder\" - Generated Response: Behavioral\n"
     ]
    },
    {
     "name": "stderr",
     "output_type": "stream",
     "text": [
      "Classifying sentences:  86%|████████▌ | 862/1000 [16:56<03:29,  1.52s/it]"
     ]
    },
    {
     "name": "stdout",
     "output_type": "stream",
     "text": [
      "New Text: \"say byebye to the towel\" - Generated Response: Behavioral\n"
     ]
    },
    {
     "name": "stderr",
     "output_type": "stream",
     "text": [
      "Classifying sentences:  86%|████████▋ | 863/1000 [16:57<03:13,  1.41s/it]"
     ]
    },
    {
     "name": "stdout",
     "output_type": "stream",
     "text": [
      "New Text: \"can I hang that on the wall Abe\" - Generated Response: Teleological\n"
     ]
    },
    {
     "name": "stderr",
     "output_type": "stream",
     "text": [
      "Classifying sentences:  86%|████████▋ | 864/1000 [16:58<03:00,  1.32s/it]"
     ]
    },
    {
     "name": "stdout",
     "output_type": "stream",
     "text": [
      "New Text: \"but no and it almost looks like it might be a pre-bought like a store bought cookie or something\" - Generated Response: Perceptual\n"
     ]
    },
    {
     "name": "stderr",
     "output_type": "stream",
     "text": [
      "Classifying sentences:  86%|████████▋ | 865/1000 [17:00<02:50,  1.27s/it]"
     ]
    },
    {
     "name": "stdout",
     "output_type": "stream",
     "text": [
      "New Text: \"so he takes a beer\" - Generated Response: Behavioral\n"
     ]
    },
    {
     "name": "stderr",
     "output_type": "stream",
     "text": [
      "Classifying sentences:  87%|████████▋ | 866/1000 [17:01<02:44,  1.23s/it]"
     ]
    },
    {
     "name": "stdout",
     "output_type": "stream",
     "text": [
      "New Text: \"choose means the same thing as pick\" - Generated Response: Other\n"
     ]
    },
    {
     "name": "stderr",
     "output_type": "stream",
     "text": [
      "Classifying sentences:  87%|████████▋ | 867/1000 [17:02<02:55,  1.32s/it]"
     ]
    },
    {
     "name": "stdout",
     "output_type": "stream",
     "text": [
      "New Text: \"see da baby\" - Generated Response: Perceptual\n"
     ]
    },
    {
     "name": "stderr",
     "output_type": "stream",
     "text": [
      "Classifying sentences:  87%|████████▋ | 868/1000 [17:03<02:48,  1.27s/it]"
     ]
    },
    {
     "name": "stdout",
     "output_type": "stream",
     "text": [
      "New Text: \"yeah there's another baby\" - Generated Response: Other\n"
     ]
    },
    {
     "name": "stderr",
     "output_type": "stream",
     "text": [
      "Classifying sentences:  87%|████████▋ | 869/1000 [17:05<03:11,  1.46s/it]"
     ]
    },
    {
     "name": "stdout",
     "output_type": "stream",
     "text": [
      "New Text: \"they changed their mind huh\" - Generated Response: Behavioral\n"
     ]
    },
    {
     "name": "stderr",
     "output_type": "stream",
     "text": [
      "Classifying sentences:  87%|████████▋ | 870/1000 [17:07<02:59,  1.38s/it]"
     ]
    },
    {
     "name": "stdout",
     "output_type": "stream",
     "text": [
      "New Text: \"xxx there you go whoops\" - Generated Response: Other\n"
     ]
    },
    {
     "name": "stderr",
     "output_type": "stream",
     "text": [
      "Classifying sentences:  87%|████████▋ | 871/1000 [17:08<02:47,  1.30s/it]"
     ]
    },
    {
     "name": "stdout",
     "output_type": "stream",
     "text": [
      "New Text: \"the cows and the farmer and the and the pig right\" - Generated Response: Other\n"
     ]
    },
    {
     "name": "stderr",
     "output_type": "stream",
     "text": [
      "Classifying sentences:  87%|████████▋ | 872/1000 [17:09<02:45,  1.29s/it]"
     ]
    },
    {
     "name": "stdout",
     "output_type": "stream",
     "text": [
      "New Text: \"want your ball\" - Generated Response: Other\n"
     ]
    },
    {
     "name": "stderr",
     "output_type": "stream",
     "text": [
      "Classifying sentences:  87%|████████▋ | 873/1000 [17:10<02:41,  1.27s/it]"
     ]
    },
    {
     "name": "stdout",
     "output_type": "stream",
     "text": [
      "New Text: \"and there's the front fork\" - Generated Response: Perceptual\n"
     ]
    },
    {
     "name": "stderr",
     "output_type": "stream",
     "text": [
      "Classifying sentences:  87%|████████▋ | 874/1000 [17:11<02:38,  1.26s/it]"
     ]
    },
    {
     "name": "stdout",
     "output_type": "stream",
     "text": [
      "New Text: \"oh honey I can't fit in there\" - Generated Response: Perceptual\n"
     ]
    },
    {
     "name": "stderr",
     "output_type": "stream",
     "text": [
      "Classifying sentences:  88%|████████▊ | 875/1000 [17:13<02:59,  1.44s/it]"
     ]
    },
    {
     "name": "stdout",
     "output_type": "stream",
     "text": [
      "New Text: \"or should we get some more stuff\" - Generated Response: Other\n"
     ]
    },
    {
     "name": "stderr",
     "output_type": "stream",
     "text": [
      "Classifying sentences:  88%|████████▊ | 876/1000 [17:14<02:46,  1.34s/it]"
     ]
    },
    {
     "name": "stdout",
     "output_type": "stream",
     "text": [
      "New Text: \"do you wanna make a sandwich\" - Generated Response: Behavioral\n"
     ]
    },
    {
     "name": "stderr",
     "output_type": "stream",
     "text": [
      "Classifying sentences:  88%|████████▊ | 877/1000 [17:15<02:37,  1.28s/it]"
     ]
    },
    {
     "name": "stdout",
     "output_type": "stream",
     "text": [
      "New Text: \"he was actually he was giving you little hugs\" - Generated Response: Behavioral\n"
     ]
    },
    {
     "name": "stderr",
     "output_type": "stream",
     "text": [
      "Classifying sentences:  88%|████████▊ | 878/1000 [17:17<02:26,  1.20s/it]"
     ]
    },
    {
     "name": "stdout",
     "output_type": "stream",
     "text": [
      "New Text: \"brown engines are good at saving lips xxx\" - Generated Response: Other\n"
     ]
    },
    {
     "name": "stderr",
     "output_type": "stream",
     "text": [
      "Classifying sentences:  88%|████████▊ | 879/1000 [17:18<02:21,  1.17s/it]"
     ]
    },
    {
     "name": "stdout",
     "output_type": "stream",
     "text": [
      "New Text: \"xxx eat xxx\" - Generated Response: Behavioral\n"
     ]
    },
    {
     "name": "stderr",
     "output_type": "stream",
     "text": [
      "Classifying sentences:  88%|████████▊ | 880/1000 [17:19<02:19,  1.17s/it]"
     ]
    },
    {
     "name": "stdout",
     "output_type": "stream",
     "text": [
      "New Text: \"xxx there now you got clean hair\" - Generated Response: Behavioral\n"
     ]
    },
    {
     "name": "stderr",
     "output_type": "stream",
     "text": [
      "Classifying sentences:  88%|████████▊ | 881/1000 [17:20<02:15,  1.14s/it]"
     ]
    },
    {
     "name": "stdout",
     "output_type": "stream",
     "text": [
      "New Text: \"and so he he was so gleeful when he saw that pirate picture\" - Generated Response: Perceptual\n"
     ]
    },
    {
     "name": "stderr",
     "output_type": "stream",
     "text": [
      "Classifying sentences:  88%|████████▊ | 882/1000 [17:21<02:08,  1.09s/it]"
     ]
    },
    {
     "name": "stdout",
     "output_type": "stream",
     "text": [
      "New Text: \"does he give em lunch\" - Generated Response: Social\n"
     ]
    },
    {
     "name": "stderr",
     "output_type": "stream",
     "text": [
      "Classifying sentences:  88%|████████▊ | 883/1000 [17:22<02:01,  1.04s/it]"
     ]
    },
    {
     "name": "stdout",
     "output_type": "stream",
     "text": [
      "New Text: \"here's another different one she really likes she might tell you about\" - Generated Response: Behavioral\n"
     ]
    },
    {
     "name": "stderr",
     "output_type": "stream",
     "text": [
      "Classifying sentences:  88%|████████▊ | 884/1000 [17:23<01:59,  1.03s/it]"
     ]
    },
    {
     "name": "stdout",
     "output_type": "stream",
     "text": [
      "New Text: \"which do you want a motorbike or a dirt+bike\" - Generated Response: Other\n"
     ]
    },
    {
     "name": "stderr",
     "output_type": "stream",
     "text": [
      "Classifying sentences:  88%|████████▊ | 885/1000 [17:24<01:58,  1.03s/it]"
     ]
    },
    {
     "name": "stdout",
     "output_type": "stream",
     "text": [
      "New Text: \"where could you find an elephant in Michigan\" - Generated Response: Other\n"
     ]
    },
    {
     "name": "stderr",
     "output_type": "stream",
     "text": [
      "Classifying sentences:  89%|████████▊ | 886/1000 [17:25<02:00,  1.06s/it]"
     ]
    },
    {
     "name": "stdout",
     "output_type": "stream",
     "text": [
      "New Text: \"what did you lose today\" - Generated Response: Other\n"
     ]
    },
    {
     "name": "stderr",
     "output_type": "stream",
     "text": [
      "Classifying sentences:  89%|████████▊ | 887/1000 [17:26<01:58,  1.05s/it]"
     ]
    },
    {
     "name": "stdout",
     "output_type": "stream",
     "text": [
      "New Text: \"you get out and push\" - Generated Response: Behavioral\n"
     ]
    },
    {
     "name": "stderr",
     "output_type": "stream",
     "text": [
      "Classifying sentences:  89%|████████▉ | 888/1000 [17:27<02:05,  1.12s/it]"
     ]
    },
    {
     "name": "stdout",
     "output_type": "stream",
     "text": [
      "New Text: \"so books with babies books with things to touch in\" - Generated Response: Perceptual\n"
     ]
    },
    {
     "name": "stderr",
     "output_type": "stream",
     "text": [
      "Classifying sentences:  89%|████████▉ | 889/1000 [17:28<02:02,  1.10s/it]"
     ]
    },
    {
     "name": "stdout",
     "output_type": "stream",
     "text": [
      "New Text: \"that's the temperature to make sure they know it's the right temperature\" - Generated Response: Teleological\n"
     ]
    },
    {
     "name": "stderr",
     "output_type": "stream",
     "text": [
      "Classifying sentences:  89%|████████▉ | 890/1000 [17:29<01:58,  1.08s/it]"
     ]
    },
    {
     "name": "stdout",
     "output_type": "stream",
     "text": [
      "New Text: \"maybe we could get one for Christmas huh\" - Generated Response: Other\n"
     ]
    },
    {
     "name": "stderr",
     "output_type": "stream",
     "text": [
      "Classifying sentences:  89%|████████▉ | 891/1000 [17:30<01:55,  1.06s/it]"
     ]
    },
    {
     "name": "stdout",
     "output_type": "stream",
     "text": [
      "New Text: \"would you like to step down to your stool\" - Generated Response: Other\n"
     ]
    },
    {
     "name": "stderr",
     "output_type": "stream",
     "text": [
      "Classifying sentences:  89%|████████▉ | 892/1000 [17:31<01:53,  1.05s/it]"
     ]
    },
    {
     "name": "stdout",
     "output_type": "stream",
     "text": [
      "New Text: \"three little bears sitting on chairs\" - Generated Response: Behavioral\n"
     ]
    },
    {
     "name": "stderr",
     "output_type": "stream",
     "text": [
      "Classifying sentences:  89%|████████▉ | 893/1000 [17:33<01:56,  1.09s/it]"
     ]
    },
    {
     "name": "stdout",
     "output_type": "stream",
     "text": [
      "New Text: \"um yeah I guess we usually have apple pies around fall\" - Generated Response: Behavioral\n"
     ]
    },
    {
     "name": "stderr",
     "output_type": "stream",
     "text": [
      "Classifying sentences:  89%|████████▉ | 894/1000 [17:34<01:53,  1.07s/it]"
     ]
    },
    {
     "name": "stdout",
     "output_type": "stream",
     "text": [
      "New Text: \"see ya lift that up\" - Generated Response: Behavioral\n"
     ]
    },
    {
     "name": "stderr",
     "output_type": "stream",
     "text": [
      "Classifying sentences:  90%|████████▉ | 895/1000 [17:35<01:52,  1.07s/it]"
     ]
    },
    {
     "name": "stdout",
     "output_type": "stream",
     "text": [
      "New Text: \"look I tied a bow\" - Generated Response: Behavioral\n"
     ]
    },
    {
     "name": "stderr",
     "output_type": "stream",
     "text": [
      "Classifying sentences:  90%|████████▉ | 896/1000 [17:36<01:48,  1.04s/it]"
     ]
    },
    {
     "name": "stdout",
     "output_type": "stream",
     "text": [
      "New Text: \"don't pay any attention to her\" - Generated Response: Social\n"
     ]
    },
    {
     "name": "stderr",
     "output_type": "stream",
     "text": [
      "Classifying sentences:  90%|████████▉ | 897/1000 [17:37<01:55,  1.12s/it]"
     ]
    },
    {
     "name": "stdout",
     "output_type": "stream",
     "text": [
      "New Text: \"what abou-what else about the football player do you see\" - Generated Response: Perceptual\n"
     ]
    },
    {
     "name": "stderr",
     "output_type": "stream",
     "text": [
      "Classifying sentences:  90%|████████▉ | 898/1000 [17:38<01:50,  1.08s/it]"
     ]
    },
    {
     "name": "stdout",
     "output_type": "stream",
     "text": [
      "New Text: \"can you say baby\" - Generated Response: Other\n"
     ]
    },
    {
     "name": "stderr",
     "output_type": "stream",
     "text": [
      "Classifying sentences:  90%|████████▉ | 899/1000 [17:39<01:46,  1.06s/it]"
     ]
    },
    {
     "name": "stdout",
     "output_type": "stream",
     "text": [
      "New Text: \"you want some ketchup\" - Generated Response: Other\n"
     ]
    },
    {
     "name": "stderr",
     "output_type": "stream",
     "text": [
      "Classifying sentences:  90%|█████████ | 900/1000 [17:40<01:43,  1.03s/it]"
     ]
    },
    {
     "name": "stdout",
     "output_type": "stream",
     "text": [
      "New Text: \"um I know she was Pooh_Bear\" - Generated Response: Other\n"
     ]
    },
    {
     "name": "stderr",
     "output_type": "stream",
     "text": [
      "Classifying sentences:  90%|█████████ | 901/1000 [17:41<01:45,  1.06s/it]"
     ]
    },
    {
     "name": "stdout",
     "output_type": "stream",
     "text": [
      "New Text: \"go see daddy for a minute please\" - Generated Response: Behavioral\n"
     ]
    },
    {
     "name": "stderr",
     "output_type": "stream",
     "text": [
      "Classifying sentences:  90%|█████████ | 902/1000 [17:42<01:49,  1.12s/it]"
     ]
    },
    {
     "name": "stdout",
     "output_type": "stream",
     "text": [
      "New Text: \"if I wasn't looking was I sposta hear your brains rattle\" - Generated Response: Perceptual\n"
     ]
    },
    {
     "name": "stderr",
     "output_type": "stream",
     "text": [
      "Classifying sentences:  90%|█████████ | 903/1000 [17:43<01:50,  1.14s/it]"
     ]
    },
    {
     "name": "stdout",
     "output_type": "stream",
     "text": [
      "New Text: \"I see your little wheels turning\" - Generated Response: Perceptual\n"
     ]
    },
    {
     "name": "stderr",
     "output_type": "stream",
     "text": [
      "Classifying sentences:  90%|█████████ | 904/1000 [17:44<01:45,  1.10s/it]"
     ]
    },
    {
     "name": "stdout",
     "output_type": "stream",
     "text": [
      "New Text: \"let's put that in our pot\" - Generated Response: Behavioral\n"
     ]
    },
    {
     "name": "stderr",
     "output_type": "stream",
     "text": [
      "Classifying sentences:  90%|█████████ | 905/1000 [17:46<01:45,  1.11s/it]"
     ]
    },
    {
     "name": "stdout",
     "output_type": "stream",
     "text": [
      "New Text: \"now Genie's a sensitive issue because Genie's my brother's ex girl+friend and now he's engaged\" - Generated Response: Social\n"
     ]
    },
    {
     "name": "stderr",
     "output_type": "stream",
     "text": [
      "Classifying sentences:  91%|█████████ | 906/1000 [17:47<01:41,  1.09s/it]"
     ]
    },
    {
     "name": "stdout",
     "output_type": "stream",
     "text": [
      "New Text: \"do you wanna go see the animals in the stable\" - Generated Response: Behavioral\n"
     ]
    },
    {
     "name": "stderr",
     "output_type": "stream",
     "text": [
      "Classifying sentences:  91%|█████████ | 907/1000 [17:48<01:36,  1.04s/it]"
     ]
    },
    {
     "name": "stdout",
     "output_type": "stream",
     "text": [
      "New Text: \"we're gonna make sure we go see the Walters's program\" - Generated Response: Behavioral\n"
     ]
    },
    {
     "name": "stderr",
     "output_type": "stream",
     "text": [
      "Classifying sentences:  91%|█████████ | 908/1000 [17:49<01:37,  1.06s/it]"
     ]
    },
    {
     "name": "stdout",
     "output_type": "stream",
     "text": [
      "New Text: \"oh there it is can you bring that piece over there over here\" - Generated Response: Behavioral\n"
     ]
    },
    {
     "name": "stderr",
     "output_type": "stream",
     "text": [
      "Classifying sentences:  91%|█████████ | 909/1000 [17:50<01:38,  1.08s/it]"
     ]
    },
    {
     "name": "stdout",
     "output_type": "stream",
     "text": [
      "New Text: \"you found another pair\" - Generated Response: Other\n"
     ]
    },
    {
     "name": "stderr",
     "output_type": "stream",
     "text": [
      "Classifying sentences:  91%|█████████ | 910/1000 [17:51<01:36,  1.08s/it]"
     ]
    },
    {
     "name": "stdout",
     "output_type": "stream",
     "text": [
      "New Text: \"a a cup would help\" - Generated Response: Teleological\n"
     ]
    },
    {
     "name": "stderr",
     "output_type": "stream",
     "text": [
      "Classifying sentences:  91%|█████████ | 911/1000 [17:52<01:38,  1.11s/it]"
     ]
    },
    {
     "name": "stdout",
     "output_type": "stream",
     "text": [
      "New Text: \"he's taking a banana from her pocket\" - Generated Response: Behavioral\n"
     ]
    },
    {
     "name": "stderr",
     "output_type": "stream",
     "text": [
      "Classifying sentences:  91%|█████████ | 912/1000 [17:53<01:41,  1.15s/it]"
     ]
    },
    {
     "name": "stdout",
     "output_type": "stream",
     "text": [
      "New Text: \"sometimes libraries have toys\" - Generated Response: Teleological\n"
     ]
    },
    {
     "name": "stderr",
     "output_type": "stream",
     "text": [
      "Classifying sentences:  91%|█████████▏| 913/1000 [17:54<01:36,  1.10s/it]"
     ]
    },
    {
     "name": "stdout",
     "output_type": "stream",
     "text": [
      "New Text: \"she wants some maple syrup to go with it\" - Generated Response: Behavioral\n"
     ]
    },
    {
     "name": "stderr",
     "output_type": "stream",
     "text": [
      "Classifying sentences:  91%|█████████▏| 914/1000 [17:55<01:33,  1.08s/it]"
     ]
    },
    {
     "name": "stdout",
     "output_type": "stream",
     "text": [
      "New Text: \"how many pompoms does it dump\" - Generated Response: Other\n"
     ]
    },
    {
     "name": "stderr",
     "output_type": "stream",
     "text": [
      "Classifying sentences:  92%|█████████▏| 915/1000 [17:56<01:30,  1.07s/it]"
     ]
    },
    {
     "name": "stdout",
     "output_type": "stream",
     "text": [
      "New Text: \"can you say peas\" - Generated Response: Behavioral\n"
     ]
    },
    {
     "name": "stderr",
     "output_type": "stream",
     "text": [
      "Classifying sentences:  92%|█████████▏| 916/1000 [17:57<01:31,  1.08s/it]"
     ]
    },
    {
     "name": "stdout",
     "output_type": "stream",
     "text": [
      "New Text: \"left foot left foot right foot right\" - Generated Response: Behavioral\n"
     ]
    },
    {
     "name": "stderr",
     "output_type": "stream",
     "text": [
      "Classifying sentences:  92%|█████████▏| 917/1000 [17:59<01:30,  1.09s/it]"
     ]
    },
    {
     "name": "stdout",
     "output_type": "stream",
     "text": [
      "New Text: \"you're gonna hurt your leg\" - Generated Response: Behavioral\n"
     ]
    },
    {
     "name": "stderr",
     "output_type": "stream",
     "text": [
      "Classifying sentences:  92%|█████████▏| 918/1000 [18:00<01:25,  1.05s/it]"
     ]
    },
    {
     "name": "stdout",
     "output_type": "stream",
     "text": [
      "New Text: \"and I'll get you some more juice alright\" - Generated Response: Behavioral\n"
     ]
    },
    {
     "name": "stderr",
     "output_type": "stream",
     "text": [
      "Classifying sentences:  92%|█████████▏| 919/1000 [18:01<01:24,  1.04s/it]"
     ]
    },
    {
     "name": "stdout",
     "output_type": "stream",
     "text": [
      "New Text: \"that's right dogs barking is loud and the birds might get annoyed by the dogs barking\" - Generated Response: Behavioral\n"
     ]
    },
    {
     "name": "stderr",
     "output_type": "stream",
     "text": [
      "Classifying sentences:  92%|█████████▏| 920/1000 [18:02<01:21,  1.02s/it]"
     ]
    },
    {
     "name": "stdout",
     "output_type": "stream",
     "text": [
      "New Text: \"great I just have a little wonder of a thing I'm wondering about\" - Generated Response: Other\n"
     ]
    },
    {
     "name": "stderr",
     "output_type": "stream",
     "text": [
      "Classifying sentences:  92%|█████████▏| 921/1000 [18:03<01:22,  1.04s/it]"
     ]
    },
    {
     "name": "stdout",
     "output_type": "stream",
     "text": [
      "New Text: \"maybe we can put the vegetables and food on the truck Patrick\" - Generated Response: Behavioral\n"
     ]
    },
    {
     "name": "stderr",
     "output_type": "stream",
     "text": [
      "Classifying sentences:  92%|█████████▏| 922/1000 [18:04<01:21,  1.05s/it]"
     ]
    },
    {
     "name": "stdout",
     "output_type": "stream",
     "text": [
      "New Text: \"you gotta have pretty curls\" - Generated Response: Biological\n"
     ]
    },
    {
     "name": "stderr",
     "output_type": "stream",
     "text": [
      "Classifying sentences:  92%|█████████▏| 923/1000 [18:05<01:19,  1.03s/it]"
     ]
    },
    {
     "name": "stdout",
     "output_type": "stream",
     "text": [
      "New Text: \"so it's time to get some fluids in\" - Generated Response: Behavioral\n"
     ]
    },
    {
     "name": "stderr",
     "output_type": "stream",
     "text": [
      "Classifying sentences:  92%|█████████▏| 924/1000 [18:08<01:59,  1.58s/it]"
     ]
    },
    {
     "name": "stdout",
     "output_type": "stream",
     "text": [
      "New Text: \"crack a window get a little fresh air xxx\" - Generated Response: Behavioral\n"
     ]
    },
    {
     "name": "stderr",
     "output_type": "stream",
     "text": [
      "Classifying sentences:  92%|█████████▎| 925/1000 [18:09<01:51,  1.49s/it]"
     ]
    },
    {
     "name": "stdout",
     "output_type": "stream",
     "text": [
      "New Text: \"I think we should go in the stroller and get some milk at the store okay\" - Generated Response: Behavioral\n"
     ]
    },
    {
     "name": "stderr",
     "output_type": "stream",
     "text": [
      "Classifying sentences:  93%|█████████▎| 926/1000 [18:10<01:41,  1.37s/it]"
     ]
    },
    {
     "name": "stdout",
     "output_type": "stream",
     "text": [
      "New Text: \"we just got it out of the machine\" - Generated Response: Behavioral\n"
     ]
    },
    {
     "name": "stderr",
     "output_type": "stream",
     "text": [
      "Classifying sentences:  93%|█████████▎| 927/1000 [18:11<01:33,  1.29s/it]"
     ]
    },
    {
     "name": "stdout",
     "output_type": "stream",
     "text": [
      "New Text: \"Tony don't make a meal out a that milk\" - Generated Response: Behavioral\n"
     ]
    },
    {
     "name": "stderr",
     "output_type": "stream",
     "text": [
      "Classifying sentences:  93%|█████████▎| 928/1000 [18:12<01:26,  1.21s/it]"
     ]
    },
    {
     "name": "stdout",
     "output_type": "stream",
     "text": [
      "New Text: \"you hafta turn around and slide off the bed\" - Generated Response: Behavioral\n"
     ]
    },
    {
     "name": "stderr",
     "output_type": "stream",
     "text": [
      "Classifying sentences:  93%|█████████▎| 929/1000 [18:13<01:24,  1.18s/it]"
     ]
    },
    {
     "name": "stdout",
     "output_type": "stream",
     "text": [
      "New Text: \"see him down at the corner\" - Generated Response: Behavioral\n"
     ]
    },
    {
     "name": "stderr",
     "output_type": "stream",
     "text": [
      "Classifying sentences:  93%|█████████▎| 930/1000 [18:14<01:21,  1.16s/it]"
     ]
    },
    {
     "name": "stdout",
     "output_type": "stream",
     "text": [
      "New Text: \"we played a fun game at home last night do you remember the one where you hadta do all those different things\" - Generated Response: Behavioral\n"
     ]
    },
    {
     "name": "stderr",
     "output_type": "stream",
     "text": [
      "Classifying sentences:  93%|█████████▎| 931/1000 [18:15<01:17,  1.13s/it]"
     ]
    },
    {
     "name": "stdout",
     "output_type": "stream",
     "text": [
      "New Text: \"does it go where the birds do when they leave\" - Generated Response: Behavioral\n"
     ]
    },
    {
     "name": "stderr",
     "output_type": "stream",
     "text": [
      "Classifying sentences:  93%|█████████▎| 932/1000 [18:16<01:16,  1.12s/it]"
     ]
    },
    {
     "name": "stdout",
     "output_type": "stream",
     "text": [
      "New Text: \"and what if we took all the walls away\" - Generated Response: Other\n"
     ]
    },
    {
     "name": "stderr",
     "output_type": "stream",
     "text": [
      "Classifying sentences:  93%|█████████▎| 933/1000 [18:17<01:12,  1.09s/it]"
     ]
    },
    {
     "name": "stdout",
     "output_type": "stream",
     "text": [
      "New Text: \"it has a machine in it that produces x-rays that can look inside your teeth\" - Generated Response: Teleological\n"
     ]
    },
    {
     "name": "stderr",
     "output_type": "stream",
     "text": [
      "Classifying sentences:  93%|█████████▎| 934/1000 [18:19<01:14,  1.14s/it]"
     ]
    },
    {
     "name": "stdout",
     "output_type": "stream",
     "text": [
      "New Text: \"what do you think they're going to eat for their picnic\" - Generated Response: Other\n"
     ]
    },
    {
     "name": "stderr",
     "output_type": "stream",
     "text": [
      "Classifying sentences:  94%|█████████▎| 935/1000 [18:20<01:11,  1.10s/it]"
     ]
    },
    {
     "name": "stdout",
     "output_type": "stream",
     "text": [
      "New Text: \"should we tie the the strings\" - Generated Response: Behavioral\n"
     ]
    },
    {
     "name": "stderr",
     "output_type": "stream",
     "text": [
      "Classifying sentences:  94%|█████████▎| 936/1000 [18:21<01:11,  1.11s/it]"
     ]
    },
    {
     "name": "stdout",
     "output_type": "stream",
     "text": [
      "New Text: \"yeah oh no no no don't eat the chicken's head\" - Generated Response: Behavioral\n"
     ]
    },
    {
     "name": "stderr",
     "output_type": "stream",
     "text": [
      "Classifying sentences:  94%|█████████▎| 937/1000 [18:22<01:10,  1.11s/it]"
     ]
    },
    {
     "name": "stdout",
     "output_type": "stream",
     "text": [
      "New Text: \"Bozo is getting some supper for his meal for the chickens\" - Generated Response: Behavioral\n"
     ]
    },
    {
     "name": "stderr",
     "output_type": "stream",
     "text": [
      "Classifying sentences:  94%|█████████▍| 938/1000 [18:23<01:07,  1.09s/it]"
     ]
    },
    {
     "name": "stdout",
     "output_type": "stream",
     "text": [
      "New Text: \"you want your eight 'cause I know you like the number eight\" - Generated Response: Other\n"
     ]
    },
    {
     "name": "stderr",
     "output_type": "stream",
     "text": [
      "Classifying sentences:  94%|█████████▍| 939/1000 [18:24<01:05,  1.07s/it]"
     ]
    },
    {
     "name": "stdout",
     "output_type": "stream",
     "text": [
      "New Text: \"get out the plant\" - Generated Response: Behavioral\n"
     ]
    },
    {
     "name": "stderr",
     "output_type": "stream",
     "text": [
      "Classifying sentences:  94%|█████████▍| 940/1000 [18:25<01:05,  1.08s/it]"
     ]
    },
    {
     "name": "stdout",
     "output_type": "stream",
     "text": [
      "New Text: \"together they look like a zebra\" - Generated Response: Perceptual\n"
     ]
    },
    {
     "name": "stderr",
     "output_type": "stream",
     "text": [
      "Classifying sentences:  94%|█████████▍| 941/1000 [18:26<01:02,  1.07s/it]"
     ]
    },
    {
     "name": "stdout",
     "output_type": "stream",
     "text": [
      "New Text: \"he stayed inside for more than two weeks then he nibbled a hole in the cocoon pushed his way out and\" - Generated Response: Behavioral\n"
     ]
    },
    {
     "name": "stderr",
     "output_type": "stream",
     "text": [
      "Classifying sentences:  94%|█████████▍| 942/1000 [18:27<01:02,  1.08s/it]"
     ]
    },
    {
     "name": "stdout",
     "output_type": "stream",
     "text": [
      "New Text: \"she does that when she's trying to show off and get your attention she'll go sideways I don't know why\" - Generated Response: Behavioral\n"
     ]
    },
    {
     "name": "stderr",
     "output_type": "stream",
     "text": [
      "Classifying sentences:  94%|█████████▍| 943/1000 [18:28<01:00,  1.07s/it]"
     ]
    },
    {
     "name": "stdout",
     "output_type": "stream",
     "text": [
      "New Text: \"you can read it and then turn the pages\" - Generated Response: Behavioral\n"
     ]
    },
    {
     "name": "stderr",
     "output_type": "stream",
     "text": [
      "Classifying sentences:  94%|█████████▍| 944/1000 [18:29<01:00,  1.08s/it]"
     ]
    },
    {
     "name": "stdout",
     "output_type": "stream",
     "text": [
      "New Text: \"did you suck your other thumb last night\" - Generated Response: Behavioral\n"
     ]
    },
    {
     "name": "stderr",
     "output_type": "stream",
     "text": [
      "Classifying sentences:  94%|█████████▍| 945/1000 [18:31<01:02,  1.13s/it]"
     ]
    },
    {
     "name": "stdout",
     "output_type": "stream",
     "text": [
      "New Text: \"want me to open the mouth\" - Generated Response: Behavioral\n"
     ]
    },
    {
     "name": "stderr",
     "output_type": "stream",
     "text": [
      "Classifying sentences:  95%|█████████▍| 946/1000 [18:32<01:00,  1.11s/it]"
     ]
    },
    {
     "name": "stdout",
     "output_type": "stream",
     "text": [
      "New Text: \"you got a block in there\" - Generated Response: Other\n"
     ]
    },
    {
     "name": "stderr",
     "output_type": "stream",
     "text": [
      "Classifying sentences:  95%|█████████▍| 947/1000 [18:33<00:59,  1.13s/it]"
     ]
    },
    {
     "name": "stdout",
     "output_type": "stream",
     "text": [
      "New Text: \"I'll bring you your meat\" - Generated Response: Behavioral\n"
     ]
    },
    {
     "name": "stderr",
     "output_type": "stream",
     "text": [
      "Classifying sentences:  95%|█████████▍| 948/1000 [18:34<01:03,  1.22s/it]"
     ]
    },
    {
     "name": "stdout",
     "output_type": "stream",
     "text": [
      "New Text: \"they look like steps\" - Generated Response: Perceptual\n"
     ]
    },
    {
     "name": "stderr",
     "output_type": "stream",
     "text": [
      "Classifying sentences:  95%|█████████▍| 949/1000 [18:35<00:59,  1.16s/it]"
     ]
    },
    {
     "name": "stdout",
     "output_type": "stream",
     "text": [
      "New Text: \"Ernie brought his lunch along didn't he\" - Generated Response: Behavioral\n"
     ]
    },
    {
     "name": "stderr",
     "output_type": "stream",
     "text": [
      "Classifying sentences:  95%|█████████▌| 950/1000 [18:36<00:54,  1.10s/it]"
     ]
    },
    {
     "name": "stdout",
     "output_type": "stream",
     "text": [
      "New Text: \"what does Chi's hat say\" - Generated Response: Other\n"
     ]
    },
    {
     "name": "stderr",
     "output_type": "stream",
     "text": [
      "Classifying sentences:  95%|█████████▌| 951/1000 [18:37<00:52,  1.07s/it]"
     ]
    },
    {
     "name": "stdout",
     "output_type": "stream",
     "text": [
      "New Text: \"she also still it seems like she likes um some of the cloth books we have that have also again squeakers and crinkly things and things that make noise\" - Generated Response: Behavioral\n"
     ]
    },
    {
     "name": "stderr",
     "output_type": "stream",
     "text": [
      "Classifying sentences:  95%|█████████▌| 952/1000 [18:38<00:50,  1.05s/it]"
     ]
    },
    {
     "name": "stdout",
     "output_type": "stream",
     "text": [
      "New Text: \"you want your train\" - Generated Response: Other\n"
     ]
    },
    {
     "name": "stderr",
     "output_type": "stream",
     "text": [
      "Classifying sentences:  95%|█████████▌| 953/1000 [18:39<00:48,  1.04s/it]"
     ]
    },
    {
     "name": "stdout",
     "output_type": "stream",
     "text": [
      "New Text: \"getcha new um ambulance truck that uh Papa xxx bought\" - Generated Response: Other\n"
     ]
    },
    {
     "name": "stderr",
     "output_type": "stream",
     "text": [
      "Classifying sentences:  95%|█████████▌| 954/1000 [18:40<00:47,  1.04s/it]"
     ]
    },
    {
     "name": "stdout",
     "output_type": "stream",
     "text": [
      "New Text: \"Child you don't wanna hear this story\" - Generated Response: Other\n"
     ]
    },
    {
     "name": "stderr",
     "output_type": "stream",
     "text": [
      "Classifying sentences:  96%|█████████▌| 955/1000 [18:42<00:48,  1.07s/it]"
     ]
    },
    {
     "name": "stdout",
     "output_type": "stream",
     "text": [
      "New Text: \"that's the only way you can tell\" - Generated Response: Other\n"
     ]
    },
    {
     "name": "stderr",
     "output_type": "stream",
     "text": [
      "Classifying sentences:  96%|█████████▌| 956/1000 [18:43<00:46,  1.05s/it]"
     ]
    },
    {
     "name": "stdout",
     "output_type": "stream",
     "text": [
      "New Text: \"let Megan show me the three little pigs\" - Generated Response: Behavioral\n"
     ]
    },
    {
     "name": "stderr",
     "output_type": "stream",
     "text": [
      "Classifying sentences:  96%|█████████▌| 957/1000 [18:44<00:51,  1.21s/it]"
     ]
    },
    {
     "name": "stdout",
     "output_type": "stream",
     "text": [
      "New Text: \"first it was my turn and I tagged Billy then it was his turn and he tagged me\" - Generated Response: Behavioral\n"
     ]
    },
    {
     "name": "stderr",
     "output_type": "stream",
     "text": [
      "Classifying sentences:  96%|█████████▌| 958/1000 [18:45<00:48,  1.14s/it]"
     ]
    },
    {
     "name": "stdout",
     "output_type": "stream",
     "text": [
      "New Text: \"xxx we could read that after breakfast\" - Generated Response: Behavioral\n"
     ]
    },
    {
     "name": "stderr",
     "output_type": "stream",
     "text": [
      "Classifying sentences:  96%|█████████▌| 959/1000 [18:46<00:45,  1.11s/it]"
     ]
    },
    {
     "name": "stdout",
     "output_type": "stream",
     "text": [
      "New Text: \"how about if we play a puzzle\" - Generated Response: Behavioral\n"
     ]
    },
    {
     "name": "stderr",
     "output_type": "stream",
     "text": [
      "Classifying sentences:  96%|█████████▌| 960/1000 [18:47<00:43,  1.08s/it]"
     ]
    },
    {
     "name": "stdout",
     "output_type": "stream",
     "text": [
      "New Text: \"want to to finish the tower\" - Generated Response: Behavioral\n"
     ]
    },
    {
     "name": "stderr",
     "output_type": "stream",
     "text": [
      "Classifying sentences:  96%|█████████▌| 961/1000 [18:48<00:41,  1.06s/it]"
     ]
    },
    {
     "name": "stdout",
     "output_type": "stream",
     "text": [
      "New Text: \"put some more blocks in\" - Generated Response: Behavioral\n"
     ]
    },
    {
     "name": "stderr",
     "output_type": "stream",
     "text": [
      "Classifying sentences:  96%|█████████▌| 962/1000 [18:49<00:39,  1.03s/it]"
     ]
    },
    {
     "name": "stdout",
     "output_type": "stream",
     "text": [
      "New Text: \"I think that ear goes over here\" - Generated Response: Perceptual\n"
     ]
    },
    {
     "name": "stderr",
     "output_type": "stream",
     "text": [
      "Classifying sentences:  96%|█████████▋| 963/1000 [18:50<00:37,  1.02s/it]"
     ]
    },
    {
     "name": "stdout",
     "output_type": "stream",
     "text": [
      "New Text: \"see the old man\" - Generated Response: Perceptual\n"
     ]
    },
    {
     "name": "stderr",
     "output_type": "stream",
     "text": [
      "Classifying sentences:  96%|█████████▋| 964/1000 [18:51<00:36,  1.02s/it]"
     ]
    },
    {
     "name": "stdout",
     "output_type": "stream",
     "text": [
      "New Text: \"saber+tooth means knife tooth\" - Generated Response: Biological\n"
     ]
    },
    {
     "name": "stderr",
     "output_type": "stream",
     "text": [
      "Classifying sentences:  96%|█████████▋| 965/1000 [18:52<00:35,  1.02s/it]"
     ]
    },
    {
     "name": "stdout",
     "output_type": "stream",
     "text": [
      "New Text: \"it's time for you to get your shoes on baby\" - Generated Response: Behavioral\n"
     ]
    },
    {
     "name": "stderr",
     "output_type": "stream",
     "text": [
      "Classifying sentences:  97%|█████████▋| 966/1000 [18:53<00:35,  1.03s/it]"
     ]
    },
    {
     "name": "stdout",
     "output_type": "stream",
     "text": [
      "New Text: \"lemme get that varmint\" - Generated Response: Behavioral\n"
     ]
    },
    {
     "name": "stderr",
     "output_type": "stream",
     "text": [
      "Classifying sentences:  97%|█████████▋| 967/1000 [18:54<00:35,  1.08s/it]"
     ]
    },
    {
     "name": "stdout",
     "output_type": "stream",
     "text": [
      "New Text: \"yeah look at all that algae\" - Generated Response: Perceptual\n"
     ]
    },
    {
     "name": "stderr",
     "output_type": "stream",
     "text": [
      "Classifying sentences:  97%|█████████▋| 968/1000 [18:55<00:34,  1.06s/it]"
     ]
    },
    {
     "name": "stdout",
     "output_type": "stream",
     "text": [
      "New Text: \"you know what today is Tim\" - Generated Response: Other\n"
     ]
    },
    {
     "name": "stderr",
     "output_type": "stream",
     "text": [
      "Classifying sentences:  97%|█████████▋| 969/1000 [18:57<00:33,  1.07s/it]"
     ]
    },
    {
     "name": "stdout",
     "output_type": "stream",
     "text": [
      "New Text: \"look at all these animals\" - Generated Response: Perceptual\n"
     ]
    },
    {
     "name": "stderr",
     "output_type": "stream",
     "text": [
      "Classifying sentences:  97%|█████████▋| 970/1000 [18:58<00:34,  1.16s/it]"
     ]
    },
    {
     "name": "stdout",
     "output_type": "stream",
     "text": [
      "New Text: \"well let's see I can't find it oh here it is what did we do last night\" - Generated Response: Other\n"
     ]
    },
    {
     "name": "stderr",
     "output_type": "stream",
     "text": [
      "Classifying sentences:  97%|█████████▋| 971/1000 [18:59<00:34,  1.18s/it]"
     ]
    },
    {
     "name": "stdout",
     "output_type": "stream",
     "text": [
      "New Text: \"let your friend have his dinner and please\" - Generated Response: Behavioral\n"
     ]
    },
    {
     "name": "stderr",
     "output_type": "stream",
     "text": [
      "Classifying sentences:  97%|█████████▋| 972/1000 [19:00<00:32,  1.17s/it]"
     ]
    },
    {
     "name": "stdout",
     "output_type": "stream",
     "text": [
      "New Text: \"okay fly that airplane away\" - Generated Response: Behavioral\n"
     ]
    },
    {
     "name": "stderr",
     "output_type": "stream",
     "text": [
      "Classifying sentences:  97%|█████████▋| 973/1000 [19:01<00:31,  1.15s/it]"
     ]
    },
    {
     "name": "stdout",
     "output_type": "stream",
     "text": [
      "New Text: \"thank you that's so nice of you to feed the baby with a spoon\" - Generated Response: Behavioral\n"
     ]
    },
    {
     "name": "stderr",
     "output_type": "stream",
     "text": [
      "Classifying sentences:  97%|█████████▋| 974/1000 [19:02<00:29,  1.15s/it]"
     ]
    },
    {
     "name": "stdout",
     "output_type": "stream",
     "text": [
      "New Text: \"well you can still act it out even if you don't have the book\" - Generated Response: Behavioral\n"
     ]
    },
    {
     "name": "stderr",
     "output_type": "stream",
     "text": [
      "Classifying sentences:  98%|█████████▊| 975/1000 [19:04<00:28,  1.13s/it]"
     ]
    },
    {
     "name": "stdout",
     "output_type": "stream",
     "text": [
      "New Text: \"try to pronouce spelling it out\" - Generated Response: Behavioral\n"
     ]
    },
    {
     "name": "stderr",
     "output_type": "stream",
     "text": [
      "Classifying sentences:  98%|█████████▊| 976/1000 [19:05<00:27,  1.13s/it]"
     ]
    },
    {
     "name": "stdout",
     "output_type": "stream",
     "text": [
      "New Text: \"could you brush mommy's hair please\" - Generated Response: Behavioral\n"
     ]
    },
    {
     "name": "stderr",
     "output_type": "stream",
     "text": [
      "Classifying sentences:  98%|█████████▊| 977/1000 [19:07<00:34,  1.51s/it]"
     ]
    },
    {
     "name": "stdout",
     "output_type": "stream",
     "text": [
      "New Text: \"the caterpillar ate through one nice green leaf and after that he felt much better\" - Generated Response: Behavioral\n"
     ]
    },
    {
     "name": "stderr",
     "output_type": "stream",
     "text": [
      "Classifying sentences:  98%|█████████▊| 978/1000 [19:10<00:40,  1.82s/it]"
     ]
    },
    {
     "name": "stdout",
     "output_type": "stream",
     "text": [
      "New Text: \"I'm gonna move the dolls and all their clothing\" - Generated Response: Behavioral\n"
     ]
    },
    {
     "name": "stderr",
     "output_type": "stream",
     "text": [
      "Classifying sentences:  98%|█████████▊| 979/1000 [19:11<00:33,  1.60s/it]"
     ]
    },
    {
     "name": "stdout",
     "output_type": "stream",
     "text": [
      "New Text: \"and when we push you in the swing you say high\" - Generated Response: Behavioral\n"
     ]
    },
    {
     "name": "stderr",
     "output_type": "stream",
     "text": [
      "Classifying sentences:  98%|█████████▊| 980/1000 [19:12<00:29,  1.46s/it]"
     ]
    },
    {
     "name": "stdout",
     "output_type": "stream",
     "text": [
      "New Text: \"let's play peekaboo\" - Generated Response: Behavioral\n"
     ]
    },
    {
     "name": "stderr",
     "output_type": "stream",
     "text": [
      "Classifying sentences:  98%|█████████▊| 981/1000 [19:13<00:25,  1.33s/it]"
     ]
    },
    {
     "name": "stdout",
     "output_type": "stream",
     "text": [
      "New Text: \"put your foot over on the right side\" - Generated Response: Behavioral\n"
     ]
    },
    {
     "name": "stderr",
     "output_type": "stream",
     "text": [
      "Classifying sentences:  98%|█████████▊| 982/1000 [19:14<00:22,  1.25s/it]"
     ]
    },
    {
     "name": "stdout",
     "output_type": "stream",
     "text": [
      "New Text: \"think Daddy is just a machine to pick you up to the light\" - Generated Response: Teleological\n"
     ]
    },
    {
     "name": "stderr",
     "output_type": "stream",
     "text": [
      "Classifying sentences:  98%|█████████▊| 983/1000 [19:15<00:20,  1.21s/it]"
     ]
    },
    {
     "name": "stdout",
     "output_type": "stream",
     "text": [
      "New Text: \"look mommy's favorite froggies\" - Generated Response: Other\n"
     ]
    },
    {
     "name": "stderr",
     "output_type": "stream",
     "text": [
      "Classifying sentences:  98%|█████████▊| 984/1000 [19:16<00:19,  1.22s/it]"
     ]
    },
    {
     "name": "stdout",
     "output_type": "stream",
     "text": [
      "New Text: \"but um it hasn't this looks like a thin slice of the end but it hasn't been all sliced up and packaged like you usually buy it at the grocery store\" - Generated Response: Perceptual\n"
     ]
    },
    {
     "name": "stderr",
     "output_type": "stream",
     "text": [
      "Classifying sentences:  98%|█████████▊| 985/1000 [19:17<00:17,  1.18s/it]"
     ]
    },
    {
     "name": "stdout",
     "output_type": "stream",
     "text": [
      "New Text: \"hands for dinner\" - Generated Response: Other\n"
     ]
    },
    {
     "name": "stderr",
     "output_type": "stream",
     "text": [
      "Classifying sentences:  99%|█████████▊| 986/1000 [19:19<00:16,  1.21s/it]"
     ]
    },
    {
     "name": "stdout",
     "output_type": "stream",
     "text": [
      "New Text: \"smells like a ball\" - Generated Response: Perceptual\n"
     ]
    },
    {
     "name": "stderr",
     "output_type": "stream",
     "text": [
      "Classifying sentences:  99%|█████████▊| 987/1000 [19:20<00:16,  1.24s/it]"
     ]
    },
    {
     "name": "stdout",
     "output_type": "stream",
     "text": [
      "New Text: \"we useta try to keep everything on the shelves and it's just really hard to do that\" - Generated Response: Behavioral\n"
     ]
    },
    {
     "name": "stderr",
     "output_type": "stream",
     "text": [
      "Classifying sentences:  99%|█████████▉| 988/1000 [19:21<00:14,  1.19s/it]"
     ]
    },
    {
     "name": "stdout",
     "output_type": "stream",
     "text": [
      "New Text: \"does your mother need any help from you\" - Generated Response: Social\n"
     ]
    },
    {
     "name": "stderr",
     "output_type": "stream",
     "text": [
      "Classifying sentences:  99%|█████████▉| 989/1000 [19:22<00:12,  1.16s/it]"
     ]
    },
    {
     "name": "stdout",
     "output_type": "stream",
     "text": [
      "New Text: \"what's the monkey go\" - Generated Response: Other\n"
     ]
    },
    {
     "name": "stderr",
     "output_type": "stream",
     "text": [
      "Classifying sentences:  99%|█████████▉| 990/1000 [19:23<00:11,  1.18s/it]"
     ]
    },
    {
     "name": "stdout",
     "output_type": "stream",
     "text": [
      "New Text: \"I'm gonna go over to the house\" - Generated Response: Behavioral\n"
     ]
    },
    {
     "name": "stderr",
     "output_type": "stream",
     "text": [
      "Classifying sentences:  99%|█████████▉| 991/1000 [19:25<00:10,  1.17s/it]"
     ]
    },
    {
     "name": "stdout",
     "output_type": "stream",
     "text": [
      "New Text: \"are you going to talk to him on the phone\" - Generated Response: Behavioral\n"
     ]
    },
    {
     "name": "stderr",
     "output_type": "stream",
     "text": [
      "Classifying sentences:  99%|█████████▉| 992/1000 [19:26<00:09,  1.21s/it]"
     ]
    },
    {
     "name": "stdout",
     "output_type": "stream",
     "text": [
      "New Text: \"what makes the sound\" - Generated Response: Other\n"
     ]
    },
    {
     "name": "stderr",
     "output_type": "stream",
     "text": [
      "Classifying sentences:  99%|█████████▉| 993/1000 [19:27<00:08,  1.22s/it]"
     ]
    },
    {
     "name": "stdout",
     "output_type": "stream",
     "text": [
      "New Text: \"go dump that in the sink\" - Generated Response: Behavioral\n"
     ]
    },
    {
     "name": "stderr",
     "output_type": "stream",
     "text": [
      "Classifying sentences:  99%|█████████▉| 994/1000 [19:28<00:07,  1.25s/it]"
     ]
    },
    {
     "name": "stdout",
     "output_type": "stream",
     "text": [
      "New Text: \"sit in mommy's lap\" - Generated Response: Behavioral\n"
     ]
    },
    {
     "name": "stderr",
     "output_type": "stream",
     "text": [
      "Classifying sentences: 100%|█████████▉| 995/1000 [19:30<00:06,  1.31s/it]"
     ]
    },
    {
     "name": "stdout",
     "output_type": "stream",
     "text": [
      "New Text: \"but they can slather them with peanut butter and at least put something mildly nutritious on top I can live with it\" - Generated Response: Behavioral\n"
     ]
    },
    {
     "name": "stderr",
     "output_type": "stream",
     "text": [
      "Classifying sentences: 100%|█████████▉| 996/1000 [19:31<00:05,  1.32s/it]"
     ]
    },
    {
     "name": "stdout",
     "output_type": "stream",
     "text": [
      "New Text: \"xxx yes he's my best friend shouted Lisa as she came running\" - Generated Response: Social\n"
     ]
    },
    {
     "name": "stderr",
     "output_type": "stream",
     "text": [
      "Classifying sentences: 100%|█████████▉| 997/1000 [19:32<00:03,  1.23s/it]"
     ]
    },
    {
     "name": "stdout",
     "output_type": "stream",
     "text": [
      "New Text: \"doctor said brother bear we're not sick and what's a checkup asked sister bear a little worried\" - Generated Response: Behavioral\n"
     ]
    },
    {
     "name": "stderr",
     "output_type": "stream",
     "text": [
      "Classifying sentences: 100%|█████████▉| 998/1000 [19:34<00:02,  1.30s/it]"
     ]
    },
    {
     "name": "stdout",
     "output_type": "stream",
     "text": [
      "New Text: \"what would it look like if it were made out_of humans Mark\" - Generated Response: Perceptual\n"
     ]
    },
    {
     "name": "stderr",
     "output_type": "stream",
     "text": [
      "Classifying sentences: 100%|█████████▉| 999/1000 [19:35<00:01,  1.27s/it]"
     ]
    },
    {
     "name": "stdout",
     "output_type": "stream",
     "text": [
      "New Text: \"what's the right way to say that\" - Generated Response: Other\n"
     ]
    },
    {
     "name": "stderr",
     "output_type": "stream",
     "text": [
      "Classifying sentences: 100%|██████████| 1000/1000 [19:36<00:00,  1.18s/it]"
     ]
    },
    {
     "name": "stdout",
     "output_type": "stream",
     "text": [
      "New Text: \"while they were waiting at the bus stop Maria said Nickles is a big store Ernie\" - Generated Response: Perceptual\n",
      "Classification results saved to NON-GENERICS_FEATURES_SPEECH.json\n"
     ]
    },
    {
     "name": "stderr",
     "output_type": "stream",
     "text": [
      "\n"
     ]
    }
   ],
   "source": [
    "import json\n",
    "import os\n",
    "import asyncio\n",
    "import pandas as pd\n",
    "from azure import AsyncAzureOpenAI\n",
    "import nest_asyncio\n",
    "from scipy.spatial import distance\n",
    "import ast\n",
    "from tqdm import tqdm\n",
    "\n",
    "nest_asyncio.apply()\n",
    "\n",
    "# Initialize the Azure OpenAI API client\n",
    "azure_endpoint = \"https://philipp.openai.azure.com/\"\n",
    "api_version = \"2023-05-15\"\n",
    "api_key = os.getenv(\"AZURE_OPENAI_API_KEY\")\n",
    "\n",
    "client = AsyncAzureOpenAI(\n",
    "    azure_endpoint=azure_endpoint,\n",
    "    api_version=api_version,\n",
    "    api_key=api_key\n",
    ")\n",
    "\n",
    "# Original prompt function\n",
    "def create_prompt(sentence, similar_pairs):\n",
    "    examples = \"\\n\".join(\n",
    "        [f\"{i+1}. \\\"{pair['item']}\\\" -> {pair['response']}\" for i, pair in enumerate(similar_pairs)]\n",
    "    )\n",
    "    return (\n",
    "        # \"Generics can be categorized into the following five categories: \"\n",
    "        # \"Behavioral (e.g., \\\"Fish swim\\\",  \\\"Cars park\\\", \\\"Sugar melts\\\"), Biological (e.g., \\\"Cats have fur\\\", \\\"Sharks have pointy teeth\\\", \\\"Zebras have long necks\\\"), \"\n",
    "        # \"Social (e.g., \\\"Zebras share food with group members\\\", \\\"Bees protect the queen\\\", \\\"Wolves travel in packs\\\"), Teleological (e.g., \\\"Bees make honey\\\", \\\"Cars drive\\\", \\\"Clouds provide rain\\\") and Perceptual (e.g., \\\"Whales are big\\\", \\\"Balls are round\\\", \\\"Snow is cold\\\"). \"\n",
    "        # \"Behavioral generics are about behavior or what things do; Biological generics mention biological features and characteristics; \"\n",
    "        # \"Social generics refer to social behaviors or behaviors of groups; Teleological generics are about functions, purposes, or what things are for; and Perceptual generics are about what things look like, or what they feel, sound, or taste like. \"\n",
    "        # \"For the following sentence, determine if it is a Behavioral, Biological, Social, Teleological, or Perceptual, or Other. \"\n",
    "        # \"Just return the one-word category name as the output.\\n\"\n",
    "        # f\"Sentence: \\\"{sentence}\\\"\\n\\n\"\n",
    "        # \"Examples:\\n\"\n",
    "        # \"1. \\\"A wave must be at least 20 feet (6 m) tall to be considered a 'big' wave.\\\" -> Perceptual\\n\"\n",
    "        # \"2. \\\"A 20-gallon (76-1) glass tank is the right size for two or three leopard geckos.\\\" -> Perceptual\\n\"\n",
    "        # \"3. \\\"Blue hair is fun to brush and comb.\\\" -> Teleological\\n\"\n",
    "        # \"4. \\\"Little snow people, like her, eat nothing but icicles.\\\" -> Behavioral\\n\"\n",
    "        # \"5. \\\"Most animals need a mate to have babies.\\\" -> Teleological\\n\"\n",
    "        # \"6. \\\"Sharks even allow Pilot fish to clean their teeth!\\\" -> Behavioral\\n\"\n",
    "        # \"7. \\\"To keep enemies away, monarchs have built-in protections.\\\" -> Behavioral\\n\"\n",
    "        # \"8. \\\"Women are still sometimes paid less than men for the same work.\\\" -> Social\\n\"\n",
    "        # \"9. \\\"All birds have wings.\\\" -> Biological\\n\"\n",
    "        # \"10. \\\"Humpback Whales don't have teeth.\\\" -> Biological\\n\"\n",
    "        # \"11. \\\"What friends do..\\\" -> Other\\n\"\n",
    "        # \"12. \\\"Gravity is everywhere.\\\" -> Other\\n\"\n",
    "        # f\"Sentence: \\\"{sentence}\\\"\\n\\n\"\n",
    "        # \"More examples:\\n\"\n",
    "        # f\"{examples}\\n\"\n",
    "        # \"Habituals can be categorized into the following five categories: \"\n",
    "        # \"Behavioral (e.g., \\\"he eats apples and pears and plums\\\",  \\\"we used to catch gardener snakes when I was younger\\\"), Biological (e.g., \\\"Jerry the Cat has fur\\\", \\\"Some elephants have long teeth\\\"), \"\n",
    "        # \"Social (e.g., \\\"I like to be surrounded by people\\\", \\\"The school only accepst girls\\\"), Teleological (e.g.,  \\\"This car is used to drive\\\", \\\"Some clouds provide rain\\\") and Perceptual (e.g., \\\"This whale is big\\\", \\\"The apple is green\\\"). \"\n",
    "        # \"Behavioral habituals are about behavior or what things do; Biological habituals mention biological features and characteristics; \"\n",
    "        # \"Social habituals refer to social behaviors or behaviors of groups; Teleological habituals are about functions, purposes, or what things are for; and Perceptual habituals are about what things look like, or what they feel, sound, or taste like. \"\n",
    "        # \"For the following sentence, determine if it is a Behavioral, Biological, Social, Teleological, or Perceptual, or Other. \"\n",
    "        # \"Just return the one-word category name as the output.\\n\"\n",
    "        # f\"Sentence: \\\"{sentence}\\\"\\n\\n\"\n",
    "        # \"Examples:\\n\"\n",
    "        # \"1. \\\"Mary often reads a book before bed.\\\" -> Behavioral\\n\"\n",
    "        # \"2. \\\"John typically drinks coffee in the morning.\\\" -> Behavioral\\n\"\n",
    "        # \"3. \\\"The office staff usually have lunch together at noon.\\\" -> Social\\n\"\n",
    "        # \"4. \\\"Sarah always checks her emails first thing in the morning.\\\" -> Social\\n\"\n",
    "        # \"5. \\\"The bee makes honey.\\\" -> Teleological\\n\"\n",
    "        # \"6. \\\"The clock is used for reading time.\\\" -> Teleological\\n\"\n",
    "        # \"7. \\\"The ball is red.\\\" -> Perceptual\\n\"\n",
    "        # \"8. \\\"The sun shines very bright.\\\" -> Perceptual\\n\"\n",
    "        # \"9. \\\"The girl has long hair.\\\" -> Biological\\n\"\n",
    "        # \"10. \\\"James has big hands.\\\" -> Biological\\n\"\n",
    "        # \"11. \\\"The lady woke up early yesterday.\\\" -> Other\\n\"\n",
    "\n",
    "        # f\"Sentence: \\\"{sentence}\\\"\\n\\n\"\n",
    "        # \"More examples:\\n\"\n",
    "        # f\"{examples}\\n\"\n",
    "        \"Sentences can describe the following five categories: \"\n",
    "        \"Behavioral (e.g., \\\"he eats apples and pears and plums\\\",  \\\"we used to catch gardener snakes when I was younger\\\"), Biological (e.g., \\\"Jerry the Cat has fur\\\", \\\"Some elephants have long teeth\\\"), \"\n",
    "        \"Social (e.g., \\\"I like to be surrounded by people\\\", \\\"The school only accepst girls\\\"), Teleological (e.g.,  \\\"This car is used to drive\\\", \\\"Some clouds provide rain\\\") and Perceptual (e.g., \\\"This whale is big\\\", \\\"The apple is green\\\"). \"\n",
    "        \"Behavioral habituals are about behavior or what things do; Biological habituals mention biological features and characteristics; \"\n",
    "        \"Social habituals refer to social behaviors or behaviors of groups; Teleological habituals are about functions, purposes, or what things are for; and Perceptual habituals are about what things look like, or what they feel, sound, or taste like. If the sentence is none of the above, the category is Other\"\n",
    "        \"For the following sentence, determine if it is a Behavioral, Biological, Social, Teleological, or Perceptual, or Other. \"\n",
    "        \"Just return the one-word category name as the output.\\n\"\n",
    "        f\"Sentence: \\\"{sentence}\\\"\\n\\n\"\n",
    "        \"Examples:\\n\"\n",
    "        \"1. \\\"Mary often reads a book before bed.\\\" -> Behavioral\\n\"\n",
    "        \"2. \\\"John typically drinks coffee in the morning.\\\" -> Behavioral\\n\"\n",
    "        \"3. \\\"The office staff usually have lunch together at noon.\\\" -> Social\\n\"\n",
    "        \"4. \\\"Sarah always checks her emails first thing in the morning.\\\" -> Social\\n\"\n",
    "        \"5. \\\"The bee makes honey.\\\" -> Teleological\\n\"\n",
    "        \"6. \\\"The clock is used for reading time.\\\" -> Teleological\\n\"\n",
    "        \"7. \\\"The ball is red.\\\" -> Perceptual\\n\"\n",
    "        \"8. \\\"The sun shines very bright.\\\" -> Perceptual\\n\"\n",
    "        \"9. \\\"The girl has long hair.\\\" -> Biological\\n\"\n",
    "        \"10. \\\"James has big hands.\\\" -> Biological\\n\"\n",
    "        \"11. \\\"The lady woke up early yesterday.\\\" -> Other\\n\"\n",
    "\n",
    "        f\"Sentence: \\\"{sentence}\\\"\\n\\n\"\n",
    "        \"More examples:\\n\"\n",
    "        f\"{examples}\\n\"\n",
    "    )\n",
    "\n",
    "\n",
    "# Function to parse embedding strings into lists of floats\n",
    "def parse_embedding(embedding_str):\n",
    "    try:\n",
    "        # Attempt to parse the embedding string into a list of floats\n",
    "        return ast.literal_eval(embedding_str)\n",
    "    except:\n",
    "        # If ast.literal_eval fails, attempt to convert the string manually\n",
    "        return [float(x.strip()) for x in embedding_str.strip('[]').split(',')]\n",
    "\n",
    "# Function to classify a new sentence by finding the closest embedding\n",
    "async def classify_with_embeddings(new_text, new_embedding, search_df):\n",
    "    # Find the top 5 closest matches using cosine similarity on \"item\" embeddings\n",
    "    search_df['similarity'] = search_df['item_embedding'].apply(lambda x: 1 - distance.cosine(x, new_embedding))\n",
    "    top_matches = search_df.nlargest(5, 'similarity')\n",
    "    \n",
    "    # Prepare input-output pairs for the prompt\n",
    "    similar_pairs = top_matches[['item', 'response']].to_dict('records')\n",
    "    \n",
    "    # Create the prompt with the top 5 similar pairs\n",
    "    prompt = create_prompt(new_text, similar_pairs)\n",
    "    \n",
    "    # Generate the final response using the model\n",
    "    response = await client.chat.completions.create(\n",
    "        model=\"gpt-4\",\n",
    "        messages=[\n",
    "            {\"role\": \"system\", \"content\": \"Generate an appropriate response based on the provided context.\"},\n",
    "            {\"role\": \"user\", \"content\": prompt}\n",
    "        ],\n",
    "        max_tokens=10  # Adjust as needed for response length\n",
    "    )\n",
    "    \n",
    "    final_response = response.choices[0].message.content.strip()\n",
    "    print(f\"New Text: \\\"{new_text}\\\" - Generated Response: {final_response}\")\n",
    "    \n",
    "    return {\"sentence\": new_text, \"classification\": final_response, \"context\": similar_pairs}\n",
    "\n",
    "# Classify each sentence and save the results to a JSON file\n",
    "async def classify_sentences(sentences_df, search_csv_path):\n",
    "    search_df = pd.read_csv(search_csv_path)\n",
    "    search_df['item_embedding'] = search_df['item_embedding'].apply(parse_embedding)\n",
    "    \n",
    "    results = []\n",
    "    for _, row in tqdm(sentences_df.iterrows(), total=len(sentences_df), desc=\"Classifying sentences\"):\n",
    "        sentence = row['sentence']\n",
    "        embedding = parse_embedding(row['embedding'])\n",
    "        result = await classify_with_embeddings(sentence, embedding, search_df)\n",
    "        results.append(result)\n",
    "    \n",
    "    # Save results to JSON\n",
    "    output_file = 'NON-GENERICS_FEATURES_SPEECH.json'\n",
    "    with open(output_file, 'w') as f:\n",
    "        json.dump(results, f, indent=4)\n",
    "    print(f\"Classification results saved to {output_file}\")\n",
    "\n",
    "# Main execution\n",
    "async def main():\n",
    "    search_csv = '/Users/sunnyyu/Desktop/research/children_speech_books/code/python/generics/embeddings.csv'\n",
    "    sentences_csv = '/Users/sunnyyu/Desktop/research/children_speech_books/code/python/generics/non-generics_speech_embeddings.csv'\n",
    "    \n",
    "    # Load sentences and their embeddings\n",
    "    sentences_df = pd.read_csv(sentences_csv)\n",
    "    \n",
    "    # # Ensure embeddings are parsed correctly\n",
    "    # sentences_df['item_embedding'] = sentences_df['embedding'].apply(parse_embedding)\n",
    "    \n",
    "    # Classify sentences\n",
    "    await classify_sentences(sentences_df, search_csv)\n",
    "\n",
    "# Run the main function\n",
    "if __name__ == \"__main__\":\n",
    "    asyncio.run(main())\n"
   ]
  },
  {
   "cell_type": "code",
   "execution_count": 15,
   "metadata": {},
   "outputs": [
    {
     "name": "stdout",
     "output_type": "stream",
     "text": [
      "Agreement Score: 0.5070422535211268\n",
      "Confusion Matrix:\n",
      " [[12  3  3  7  1  0]\n",
      " [ 0  4  0  1  0  0]\n",
      " [ 0  0  4  0  0  0]\n",
      " [ 0  1  0  4  1  0]\n",
      " [ 0  1  0  1 12  0]\n",
      " [ 4  3  1  5  3  0]]\n",
      "\n",
      "Weighted Precision: 0.48425849212924604\n",
      "Weighted Recall: 0.5070422535211268\n",
      "Weighted F1 Score: 0.46078113208027416\n"
     ]
    },
    {
     "name": "stderr",
     "output_type": "stream",
     "text": [
      "/opt/homebrew/Caskroom/miniconda/base/lib/python3.12/site-packages/sklearn/metrics/_classification.py:1531: UndefinedMetricWarning: Precision is ill-defined and being set to 0.0 in labels with no predicted samples. Use `zero_division` parameter to control this behavior.\n",
      "  _warn_prf(average, modifier, f\"{metric.capitalize()} is\", len(result))\n"
     ]
    }
   ],
   "source": [
    "# calculate new agreement score\n",
    "\n",
    "from sklearn.metrics import accuracy_score, confusion_matrix\n",
    "import pandas as pd\n",
    "\n",
    "df_annotated = pd.read_csv(\"/Users/sunnyyu/Desktop/research/children_speech_books/code/python/generics/sampled_sentences_generics_features_annotated - sampled_sentences_generics_features.csv\")\n",
    "\n",
    "# Convert the columns to integers\n",
    "df_annotated['human_annotation'] = df_annotated['annotation_2'].astype(int)\n",
    "df_annotated['gpt_annotation'] = df_annotated['annotation_gpt'].astype(int)\n",
    "\n",
    "# Calculate the agreement score\n",
    "agreement_score = accuracy_score(df_annotated['human_annotation'], df_annotated['gpt_annotation'])\n",
    "\n",
    "print(f\"Agreement Score: {agreement_score}\")\n",
    "\n",
    "conf_matrix = confusion_matrix(df_annotated['human_annotation'], df_annotated['gpt_annotation'])\n",
    "print(\"Confusion Matrix:\\n\", conf_matrix)\n",
    "\n",
    "from sklearn.metrics import precision_score, recall_score, f1_score\n",
    "\n",
    "y_true = df_annotated['human_annotation']\n",
    "y_pred = df_annotated['gpt_annotation']\n",
    "\n",
    "# Calculate metrics with 'weighted' averaging\n",
    "precision_weighted = precision_score(y_true, y_pred, average='weighted')\n",
    "recall_weighted = recall_score(y_true, y_pred, average='weighted')\n",
    "f1_weighted = f1_score(y_true, y_pred, average='weighted')\n",
    "\n",
    "print(\"\\nWeighted Precision:\", precision_weighted)\n",
    "print(\"Weighted Recall:\", recall_weighted)\n",
    "print(\"Weighted F1 Score:\", f1_weighted)"
   ]
  },
  {
   "cell_type": "code",
   "execution_count": 13,
   "metadata": {},
   "outputs": [
    {
     "name": "stderr",
     "output_type": "stream",
     "text": [
      "Generating embeddings: 100%|██████████| 1000/1000 [03:45<00:00,  4.43sentence/s]\n"
     ]
    }
   ],
   "source": [
    "import os\n",
    "import asyncio\n",
    "import pandas as pd\n",
    "from azure import AsyncAzureOpenAI  # Import the Azure OpenAI client\n",
    "from tqdm import tqdm\n",
    "\n",
    "# Apply nest_asyncio patch for compatibility with interactive environments\n",
    "import nest_asyncio\n",
    "nest_asyncio.apply()\n",
    "\n",
    "# Retrieve the API key from the environment variable\n",
    "api_key = os.getenv(\"AZURE_OPENAI_API_KEY\")\n",
    "\n",
    "# Check if the API key was retrieved successfully\n",
    "if not api_key:\n",
    "    raise ValueError(\"API key is not set. Please set the AZURE_OPENAI_API_KEY environment variable.\")\n",
    "\n",
    "# Initialize the Azure OpenAI API client\n",
    "azure_endpoint = \"https://philipp.openai.azure.com/\"  # Your Azure endpoint URL\n",
    "api_version = \"2023-05-15\"  # The API version to use\n",
    "\n",
    "client = AsyncAzureOpenAI(\n",
    "    azure_endpoint=azure_endpoint,\n",
    "    api_version=api_version,\n",
    "    api_key=api_key\n",
    ")\n",
    "\n",
    "# Asynchronous function to generate embeddings for a single sentence\n",
    "async def generate_embedding(sentence):\n",
    "    response = await client.embeddings.create(\n",
    "        model=\"text-embedding-ada-002\",  # Use the appropriate model for generating embeddings\n",
    "        input=[sentence]  # Input should be a list of strings\n",
    "    )\n",
    "    embedding = response.data[0].embedding  # Extract the embedding\n",
    "    return embedding\n",
    "\n",
    "# Wrapper function to generate embeddings for a list of sentences\n",
    "def generate_embeddings(sentences_list):\n",
    "    embeddings = []\n",
    "    loop = asyncio.get_event_loop()\n",
    "    for sentence in tqdm(sentences_list, desc=\"Generating embeddings\", unit=\"sentence\"):\n",
    "        embedding = loop.run_until_complete(generate_embedding(sentence))\n",
    "        embeddings.append({\"sentence\": sentence, \"embedding\": embedding})\n",
    "    return embeddings\n",
    "\n",
    "\n",
    "# Generate embeddings for the given list of sentences\n",
    "embeddings = generate_embeddings(sampled_sentences)\n",
    "\n",
    "# Convert the embeddings to a DataFrame\n",
    "df = pd.DataFrame(embeddings)\n",
    "\n",
    "# Save the DataFrame to a CSV file\n",
    "output_file = 'non-generics_speech_embeddings.csv'\n",
    "df.to_csv(output_file, index=False)\n",
    "\n",
    "\n",
    "\n",
    "\n",
    "\n",
    "\n",
    "\n",
    "\n",
    "\n"
   ]
  }
 ],
 "metadata": {
  "kernelspec": {
   "display_name": "base",
   "language": "python",
   "name": "python3"
  },
  "language_info": {
   "codemirror_mode": {
    "name": "ipython",
    "version": 3
   },
   "file_extension": ".py",
   "mimetype": "text/x-python",
   "name": "python",
   "nbconvert_exporter": "python",
   "pygments_lexer": "ipython3",
   "version": "3.12.2"
  }
 },
 "nbformat": 4,
 "nbformat_minor": 2
}
